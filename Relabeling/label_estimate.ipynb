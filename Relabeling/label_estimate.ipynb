{
 "cells": [
  {
   "cell_type": "markdown",
   "metadata": {
    "id": "aJ-n74gNGJ0n"
   },
   "source": [
    "## Load Libraries"
   ]
  },
  {
   "cell_type": "code",
   "execution_count": 1,
   "metadata": {
    "id": "ieJqZz6WGJ0n"
   },
   "outputs": [
    {
     "name": "stderr",
     "output_type": "stream",
     "text": [
      "\u001b[34m\u001b[1mwandb\u001b[0m: Using wandb-core as the SDK backend. Please refer to https://wandb.me/wandb-core for more information.\n",
      "\u001b[34m\u001b[1mwandb\u001b[0m: Currently logged in as: \u001b[33mjilp1598\u001b[0m (\u001b[33mjilp1598-dd\u001b[0m). Use \u001b[1m`wandb login --relogin`\u001b[0m to force relogin\n"
     ]
    },
    {
     "data": {
      "text/html": [
       "Tracking run with wandb version 0.18.5"
      ],
      "text/plain": [
       "<IPython.core.display.HTML object>"
      ]
     },
     "metadata": {},
     "output_type": "display_data"
    },
    {
     "data": {
      "text/html": [
       "Run data is saved locally in <code>/workspace/choihyunwoo_n/noise/wandb/run-20241105_153012-kmjlxljl</code>"
      ],
      "text/plain": [
       "<IPython.core.display.HTML object>"
      ]
     },
     "metadata": {},
     "output_type": "display_data"
    },
    {
     "data": {
      "text/html": [
       "Syncing run <strong><a href='https://wandb.ai/jilp1598-dd/Level2_data-centric-label-estimate/runs/kmjlxljl' target=\"_blank\">absurd-microwave-5</a></strong> to <a href='https://wandb.ai/jilp1598-dd/Level2_data-centric-label-estimate' target=\"_blank\">Weights & Biases</a> (<a href='https://wandb.me/run' target=\"_blank\">docs</a>)<br/>"
      ],
      "text/plain": [
       "<IPython.core.display.HTML object>"
      ]
     },
     "metadata": {},
     "output_type": "display_data"
    },
    {
     "data": {
      "text/html": [
       " View project at <a href='https://wandb.ai/jilp1598-dd/Level2_data-centric-label-estimate' target=\"_blank\">https://wandb.ai/jilp1598-dd/Level2_data-centric-label-estimate</a>"
      ],
      "text/plain": [
       "<IPython.core.display.HTML object>"
      ]
     },
     "metadata": {},
     "output_type": "display_data"
    },
    {
     "data": {
      "text/html": [
       " View run at <a href='https://wandb.ai/jilp1598-dd/Level2_data-centric-label-estimate/runs/kmjlxljl' target=\"_blank\">https://wandb.ai/jilp1598-dd/Level2_data-centric-label-estimate/runs/kmjlxljl</a>"
      ],
      "text/plain": [
       "<IPython.core.display.HTML object>"
      ]
     },
     "metadata": {},
     "output_type": "display_data"
    },
    {
     "data": {
      "text/html": [
       "<button onClick=\"this.nextSibling.style.display='block';this.style.display='none';\">Display W&B run</button><iframe src='https://wandb.ai/jilp1598-dd/Level2_data-centric-label-estimate/runs/kmjlxljl?jupyter=true' style='border:none;width:100%;height:420px;display:none;'></iframe>"
      ],
      "text/plain": [
       "<wandb.sdk.wandb_run.Run at 0x7fd2c0524a30>"
      ]
     },
     "execution_count": 1,
     "metadata": {},
     "output_type": "execute_result"
    }
   ],
   "source": [
    "import os\n",
    "import random\n",
    "import wandb\n",
    "import numpy as np\n",
    "import pandas as pd\n",
    "from tqdm import tqdm\n",
    "\n",
    "import torch\n",
    "from torch.utils.data import Dataset\n",
    "\n",
    "import evaluate\n",
    "from transformers import AutoModel\n",
    "from transformers import AutoModelForSequenceClassification, AutoTokenizer\n",
    "from transformers import DataCollatorWithPadding\n",
    "from transformers import TrainingArguments, Trainer\n",
    "\n",
    "from sklearn.model_selection import train_test_split\n",
    "\n",
    "\n",
    "# wandb 프로젝트 설정\n",
    "os.environ[\"WANDB_PROJECT\"] = \"Level2_data-centric-label-estimate\"\n",
    "# wandb 초기화\n",
    "wandb.init()\n"
   ]
  },
  {
   "cell_type": "markdown",
   "metadata": {
    "id": "c9MrGeVLGJ0o"
   },
   "source": [
    "## Set Hyperparameters"
   ]
  },
  {
   "cell_type": "code",
   "execution_count": 2,
   "metadata": {
    "id": "Rojb26TRGJ0o"
   },
   "outputs": [],
   "source": [
    "SEED = 456\n",
    "random.seed(SEED)\n",
    "np.random.seed(SEED)\n",
    "torch.manual_seed(SEED)\n",
    "torch.cuda.manual_seed(SEED)\n",
    "torch.cuda.manual_seed_all(SEED)"
   ]
  },
  {
   "cell_type": "code",
   "execution_count": 3,
   "metadata": {
    "colab": {
     "base_uri": "https://localhost:8080/"
    },
    "id": "NHiKw7tAGJ0o",
    "outputId": "fa675ab9-3221-4ef1-dabb-42e2aad2192c"
   },
   "outputs": [
    {
     "data": {
      "text/plain": [
       "device(type='cuda')"
      ]
     },
     "execution_count": 3,
     "metadata": {},
     "output_type": "execute_result"
    }
   ],
   "source": [
    "DEVICE = torch.device('cuda') if torch.cuda.is_available() else torch.device('cpu')\n",
    "DEVICE"
   ]
  },
  {
   "cell_type": "code",
   "execution_count": 4,
   "metadata": {
    "id": "ANUH4JCxGJ0o"
   },
   "outputs": [],
   "source": [
    "BASE_DIR = os.getcwd()\n",
    "DATA_DIR = os.path.join(BASE_DIR, '../data')\n",
    "OUTPUT_DIR = os.path.join(BASE_DIR, 'outputs')\n",
    "\n",
    "# labeled_data_path = os.path.join(DATA_DIR, \"cleaning_step1\")"
   ]
  },
  {
   "cell_type": "markdown",
   "metadata": {
    "id": "MuP9IW9mGJ0o"
   },
   "source": [
    "## Load Tokenizer and Model"
   ]
  },
  {
   "cell_type": "code",
   "execution_count": 5,
   "metadata": {
    "id": "HH0lhDvhGJ0o"
   },
   "outputs": [
    {
     "name": "stderr",
     "output_type": "stream",
     "text": [
      "Some weights of BertForSequenceClassification were not initialized from the model checkpoint at klue/bert-base and are newly initialized: ['classifier.bias', 'classifier.weight']\n",
      "You should probably TRAIN this model on a down-stream task to be able to use it for predictions and inference.\n"
     ]
    }
   ],
   "source": [
    "model_name = 'klue/bert-base'\n",
    "tokenizer = AutoTokenizer.from_pretrained(model_name)\n",
    "model = AutoModelForSequenceClassification.from_pretrained(model_name, num_labels=7).to(DEVICE)"
   ]
  },
  {
   "cell_type": "markdown",
   "metadata": {
    "id": "-x2NvoGbGJ0o"
   },
   "source": [
    "## Define Dataset"
   ]
  },
  {
   "cell_type": "code",
   "execution_count": 6,
   "metadata": {
    "id": "gE13nELlGJ0o"
   },
   "outputs": [],
   "source": [
    "\n",
    "df = pd.read_csv(DATA_DIR+f\"/recovery_data/converted_train_ver2_fewshot.csv\")\n",
    "train_df = df[df['is_noisy'] == 1]\n",
    "dataset_train, dataset_valid = train_test_split(train_df, test_size=0.2, random_state=SEED)"
   ]
  },
  {
   "cell_type": "code",
   "execution_count": 7,
   "metadata": {},
   "outputs": [
    {
     "data": {
      "text/html": [
       "<div>\n",
       "<style scoped>\n",
       "    .dataframe tbody tr th:only-of-type {\n",
       "        vertical-align: middle;\n",
       "    }\n",
       "\n",
       "    .dataframe tbody tr th {\n",
       "        vertical-align: top;\n",
       "    }\n",
       "\n",
       "    .dataframe thead th {\n",
       "        text-align: right;\n",
       "    }\n",
       "</style>\n",
       "<table border=\"1\" class=\"dataframe\">\n",
       "  <thead>\n",
       "    <tr style=\"text-align: right;\">\n",
       "      <th></th>\n",
       "      <th>ID</th>\n",
       "      <th>text</th>\n",
       "      <th>target</th>\n",
       "      <th>ascii_ratio</th>\n",
       "      <th>is_noisy</th>\n",
       "    </tr>\n",
       "  </thead>\n",
       "  <tbody>\n",
       "    <tr>\n",
       "      <th>766</th>\n",
       "      <td>ynat-v1_train_00766</td>\n",
       "      <td>T타임즈, 최고의 음식 애호가들을 위한 스마트폰 앱</td>\n",
       "      <td>4</td>\n",
       "      <td>0.451613</td>\n",
       "      <td>1</td>\n",
       "    </tr>\n",
       "    <tr>\n",
       "      <th>1010</th>\n",
       "      <td>ynat-v1_train_01010</td>\n",
       "      <td>노키리아·피씨손민…겨울은 베트남 연휴</td>\n",
       "      <td>0</td>\n",
       "      <td>0.566667</td>\n",
       "      <td>1</td>\n",
       "    </tr>\n",
       "    <tr>\n",
       "      <th>950</th>\n",
       "      <td>ynat-v1_train_00950</td>\n",
       "      <td>부처님 상원 공식 표창 받</td>\n",
       "      <td>6</td>\n",
       "      <td>0.562500</td>\n",
       "      <td>1</td>\n",
       "    </tr>\n",
       "    <tr>\n",
       "      <th>592</th>\n",
       "      <td>ynat-v1_train_00592</td>\n",
       "      <td>에어프라이어 업력 높아져 이지로 바꿔 연결</td>\n",
       "      <td>4</td>\n",
       "      <td>0.560000</td>\n",
       "      <td>1</td>\n",
       "    </tr>\n",
       "    <tr>\n",
       "      <th>2676</th>\n",
       "      <td>ynat-v1_train_02676</td>\n",
       "      <td>클래식 공연 즐겨 낮도 자…영화의 변신</td>\n",
       "      <td>0</td>\n",
       "      <td>0.240000</td>\n",
       "      <td>1</td>\n",
       "    </tr>\n",
       "    <tr>\n",
       "      <th>...</th>\n",
       "      <td>...</td>\n",
       "      <td>...</td>\n",
       "      <td>...</td>\n",
       "      <td>...</td>\n",
       "      <td>...</td>\n",
       "    </tr>\n",
       "    <tr>\n",
       "      <th>1573</th>\n",
       "      <td>ynat-v1_train_01573</td>\n",
       "      <td>여경투톱 체제 반 평…민주적재 한국 우선</td>\n",
       "      <td>2</td>\n",
       "      <td>0.387097</td>\n",
       "      <td>1</td>\n",
       "    </tr>\n",
       "    <tr>\n",
       "      <th>846</th>\n",
       "      <td>ynat-v1_train_00846</td>\n",
       "      <td>슬기로운 해양 경에 난민 대응 군 배치</td>\n",
       "      <td>6</td>\n",
       "      <td>0.428571</td>\n",
       "      <td>1</td>\n",
       "    </tr>\n",
       "    <tr>\n",
       "      <th>65</th>\n",
       "      <td>ynat-v1_train_00065</td>\n",
       "      <td>북 리수이 국제사회 임시 일원 되는데 기대감</td>\n",
       "      <td>2</td>\n",
       "      <td>0.500000</td>\n",
       "      <td>1</td>\n",
       "    </tr>\n",
       "    <tr>\n",
       "      <th>1016</th>\n",
       "      <td>ynat-v1_train_01016</td>\n",
       "      <td>오바마 폭스마켓 사^^ 대규모 감^^...누적 ^자^^^</td>\n",
       "      <td>6</td>\n",
       "      <td>0.583333</td>\n",
       "      <td>1</td>\n",
       "    </tr>\n",
       "    <tr>\n",
       "      <th>1033</th>\n",
       "      <td>ynat-v1_train_01033</td>\n",
       "      <td>삼성 갤럭시 폴드 Z 폴더형 스마트폰 출시</td>\n",
       "      <td>4</td>\n",
       "      <td>0.321429</td>\n",
       "      <td>1</td>\n",
       "    </tr>\n",
       "  </tbody>\n",
       "</table>\n",
       "<p>1296 rows × 5 columns</p>\n",
       "</div>"
      ],
      "text/plain": [
       "                       ID                             text  target  \\\n",
       "766   ynat-v1_train_00766     T타임즈, 최고의 음식 애호가들을 위한 스마트폰 앱       4   \n",
       "1010  ynat-v1_train_01010             노키리아·피씨손민…겨울은 베트남 연휴       0   \n",
       "950   ynat-v1_train_00950                   부처님 상원 공식 표창 받       6   \n",
       "592   ynat-v1_train_00592          에어프라이어 업력 높아져 이지로 바꿔 연결       4   \n",
       "2676  ynat-v1_train_02676            클래식 공연 즐겨 낮도 자…영화의 변신       0   \n",
       "...                   ...                              ...     ...   \n",
       "1573  ynat-v1_train_01573           여경투톱 체제 반 평…민주적재 한국 우선       2   \n",
       "846   ynat-v1_train_00846            슬기로운 해양 경에 난민 대응 군 배치       6   \n",
       "65    ynat-v1_train_00065         북 리수이 국제사회 임시 일원 되는데 기대감       2   \n",
       "1016  ynat-v1_train_01016  오바마 폭스마켓 사^^ 대규모 감^^...누적 ^자^^^       6   \n",
       "1033  ynat-v1_train_01033          삼성 갤럭시 폴드 Z 폴더형 스마트폰 출시       4   \n",
       "\n",
       "      ascii_ratio  is_noisy  \n",
       "766      0.451613         1  \n",
       "1010     0.566667         1  \n",
       "950      0.562500         1  \n",
       "592      0.560000         1  \n",
       "2676     0.240000         1  \n",
       "...           ...       ...  \n",
       "1573     0.387097         1  \n",
       "846      0.428571         1  \n",
       "65       0.500000         1  \n",
       "1016     0.583333         1  \n",
       "1033     0.321429         1  \n",
       "\n",
       "[1296 rows x 5 columns]"
      ]
     },
     "execution_count": 7,
     "metadata": {},
     "output_type": "execute_result"
    }
   ],
   "source": [
    "dataset_train"
   ]
  },
  {
   "cell_type": "code",
   "execution_count": 8,
   "metadata": {},
   "outputs": [
    {
     "data": {
      "text/html": [
       "<div>\n",
       "<style scoped>\n",
       "    .dataframe tbody tr th:only-of-type {\n",
       "        vertical-align: middle;\n",
       "    }\n",
       "\n",
       "    .dataframe tbody tr th {\n",
       "        vertical-align: top;\n",
       "    }\n",
       "\n",
       "    .dataframe thead th {\n",
       "        text-align: right;\n",
       "    }\n",
       "</style>\n",
       "<table border=\"1\" class=\"dataframe\">\n",
       "  <thead>\n",
       "    <tr style=\"text-align: right;\">\n",
       "      <th></th>\n",
       "      <th>ID</th>\n",
       "      <th>text</th>\n",
       "      <th>target</th>\n",
       "      <th>ascii_ratio</th>\n",
       "      <th>is_noisy</th>\n",
       "    </tr>\n",
       "  </thead>\n",
       "  <tbody>\n",
       "    <tr>\n",
       "      <th>2001</th>\n",
       "      <td>ynat-v1_train_02001</td>\n",
       "      <td>노동자 한낮 초록 더 미세·오존 위험</td>\n",
       "      <td>0</td>\n",
       "      <td>0.458333</td>\n",
       "      <td>1</td>\n",
       "    </tr>\n",
       "    <tr>\n",
       "      <th>1098</th>\n",
       "      <td>ynat-v1_train_01098</td>\n",
       "      <td>주택금융^^카^^뱅크 택금융 개발 협력</td>\n",
       "      <td>5</td>\n",
       "      <td>0.375000</td>\n",
       "      <td>1</td>\n",
       "    </tr>\n",
       "    <tr>\n",
       "      <th>2046</th>\n",
       "      <td>ynat-v1_train_02046</td>\n",
       "      <td>책을 쓸 때 비어 있는 페이지는 ^맞아요</td>\n",
       "      <td>0</td>\n",
       "      <td>0.483871</td>\n",
       "      <td>1</td>\n",
       "    </tr>\n",
       "    <tr>\n",
       "      <th>958</th>\n",
       "      <td>ynat-v1_train_00958</td>\n",
       "      <td>러시아 정식 제안 온면 푸틴 만나게 될 것</td>\n",
       "      <td>6</td>\n",
       "      <td>0.392857</td>\n",
       "      <td>1</td>\n",
       "    </tr>\n",
       "    <tr>\n",
       "      <th>329</th>\n",
       "      <td>ynat-v1_train_00329</td>\n",
       "      <td>김정은 평양 제2래과학자거리 착공 지시</td>\n",
       "      <td>2</td>\n",
       "      <td>0.307692</td>\n",
       "      <td>1</td>\n",
       "    </tr>\n",
       "    <tr>\n",
       "      <th>...</th>\n",
       "      <td>...</td>\n",
       "      <td>...</td>\n",
       "      <td>...</td>\n",
       "      <td>...</td>\n",
       "      <td>...</td>\n",
       "    </tr>\n",
       "    <tr>\n",
       "      <th>231</th>\n",
       "      <td>ynat-v1_train_00231</td>\n",
       "      <td>드라마 쉽게 열리지 않는 멕시코 골목</td>\n",
       "      <td>1</td>\n",
       "      <td>0.400000</td>\n",
       "      <td>1</td>\n",
       "    </tr>\n",
       "    <tr>\n",
       "      <th>646</th>\n",
       "      <td>ynat-v1_train_00646</td>\n",
       "      <td>삼성전자 설계전문가</td>\n",
       "      <td>4</td>\n",
       "      <td>0.454545</td>\n",
       "      <td>1</td>\n",
       "    </tr>\n",
       "    <tr>\n",
       "      <th>475</th>\n",
       "      <td>ynat-v1_train_00475</td>\n",
       "      <td>콘텐츠 왜 나한텐 페이스북은 유명하지</td>\n",
       "      <td>4</td>\n",
       "      <td>0.321429</td>\n",
       "      <td>1</td>\n",
       "    </tr>\n",
       "    <tr>\n",
       "      <th>527</th>\n",
       "      <td>ynat-v1_train_00527</td>\n",
       "      <td>롯데건설·폐수 슬러지 건조기술 환경에서 녹색인증</td>\n",
       "      <td>5</td>\n",
       "      <td>0.250000</td>\n",
       "      <td>1</td>\n",
       "    </tr>\n",
       "    <tr>\n",
       "      <th>1761</th>\n",
       "      <td>ynat-v1_train_01761</td>\n",
       "      <td>美 수출 전제재 날이 가까워져 소문 흉작</td>\n",
       "      <td>6</td>\n",
       "      <td>0.451613</td>\n",
       "      <td>1</td>\n",
       "    </tr>\n",
       "  </tbody>\n",
       "</table>\n",
       "<p>324 rows × 5 columns</p>\n",
       "</div>"
      ],
      "text/plain": [
       "                       ID                        text  target  ascii_ratio  \\\n",
       "2001  ynat-v1_train_02001        노동자 한낮 초록 더 미세·오존 위험       0     0.458333   \n",
       "1098  ynat-v1_train_01098       주택금융^^카^^뱅크 택금융 개발 협력       5     0.375000   \n",
       "2046  ynat-v1_train_02046      책을 쓸 때 비어 있는 페이지는 ^맞아요       0     0.483871   \n",
       "958   ynat-v1_train_00958     러시아 정식 제안 온면 푸틴 만나게 될 것       6     0.392857   \n",
       "329   ynat-v1_train_00329       김정은 평양 제2래과학자거리 착공 지시       2     0.307692   \n",
       "...                   ...                         ...     ...          ...   \n",
       "231   ynat-v1_train_00231        드라마 쉽게 열리지 않는 멕시코 골목       1     0.400000   \n",
       "646   ynat-v1_train_00646                  삼성전자 설계전문가       4     0.454545   \n",
       "475   ynat-v1_train_00475        콘텐츠 왜 나한텐 페이스북은 유명하지       4     0.321429   \n",
       "527   ynat-v1_train_00527  롯데건설·폐수 슬러지 건조기술 환경에서 녹색인증       5     0.250000   \n",
       "1761  ynat-v1_train_01761      美 수출 전제재 날이 가까워져 소문 흉작       6     0.451613   \n",
       "\n",
       "      is_noisy  \n",
       "2001         1  \n",
       "1098         1  \n",
       "2046         1  \n",
       "958          1  \n",
       "329          1  \n",
       "...        ...  \n",
       "231          1  \n",
       "646          1  \n",
       "475          1  \n",
       "527          1  \n",
       "1761         1  \n",
       "\n",
       "[324 rows x 5 columns]"
      ]
     },
     "execution_count": 8,
     "metadata": {},
     "output_type": "execute_result"
    }
   ],
   "source": [
    "dataset_valid"
   ]
  },
  {
   "cell_type": "code",
   "execution_count": 9,
   "metadata": {},
   "outputs": [
    {
     "name": "stdout",
     "output_type": "stream",
     "text": [
      "{3: 196, 1: 188, 0: 186, 4: 185, 5: 182, 2: 181, 6: 178}\n",
      "{4: 56, 6: 50, 0: 45, 1: 45, 2: 45, 5: 44, 3: 39}\n"
     ]
    }
   ],
   "source": [
    "train_counts = dataset_train['target'].value_counts().to_dict()\n",
    "valid_counts = dataset_valid['target'].value_counts().to_dict()\n",
    "\n",
    "# 결과 출력\n",
    "print(train_counts)\n",
    "print(valid_counts)"
   ]
  },
  {
   "cell_type": "code",
   "execution_count": 10,
   "metadata": {
    "id": "9BQVS286GJ0o"
   },
   "outputs": [],
   "source": [
    "class BERTDataset(Dataset):\n",
    "    def __init__(self, data, tokenizer):\n",
    "        input_texts = data['text']\n",
    "        targets = data['target']\n",
    "        self.inputs = []; self.labels = []\n",
    "        for text, label in zip(input_texts, targets):\n",
    "            tokenized_input = tokenizer(text, padding='max_length', truncation=True, return_tensors='pt')\n",
    "            self.inputs.append(tokenized_input)\n",
    "            self.labels.append(torch.tensor(label))\n",
    "\n",
    "    def __getitem__(self, idx):\n",
    "        return {\n",
    "            'input_ids': self.inputs[idx]['input_ids'].squeeze(0),\n",
    "            'attention_mask': self.inputs[idx]['attention_mask'].squeeze(0),\n",
    "            'labels': self.labels[idx].squeeze(0)\n",
    "        }\n",
    "\n",
    "    def __len__(self):\n",
    "        return len(self.labels)"
   ]
  },
  {
   "cell_type": "code",
   "execution_count": 11,
   "metadata": {
    "id": "BVycj2wPGJ0p"
   },
   "outputs": [],
   "source": [
    "data_train = BERTDataset(dataset_train, tokenizer)\n",
    "data_valid = BERTDataset(dataset_valid, tokenizer)"
   ]
  },
  {
   "cell_type": "code",
   "execution_count": 12,
   "metadata": {
    "id": "5yh5dYa0GJ0p"
   },
   "outputs": [],
   "source": [
    "data_collator = DataCollatorWithPadding(tokenizer=tokenizer)"
   ]
  },
  {
   "cell_type": "markdown",
   "metadata": {
    "id": "YPl6TZ7CGJ0p"
   },
   "source": [
    "## Define Metric"
   ]
  },
  {
   "cell_type": "code",
   "execution_count": 13,
   "metadata": {
    "id": "XA9g2vV_GJ0p"
   },
   "outputs": [],
   "source": [
    "f1 = evaluate.load('f1')\n",
    "def compute_metrics(eval_pred):\n",
    "    predictions, labels = eval_pred\n",
    "    predictions = np.argmax(predictions, axis=1)\n",
    "    return f1.compute(predictions=predictions, references=labels, average='macro')\n"
   ]
  },
  {
   "cell_type": "markdown",
   "metadata": {
    "id": "WV2exsooGJ0p"
   },
   "source": [
    "## Train Model"
   ]
  },
  {
   "cell_type": "code",
   "execution_count": 14,
   "metadata": {
    "id": "OkQVpzabGJ0p"
   },
   "outputs": [],
   "source": [
    "### for wandb setting\n",
    "#os.environ['WANDB_DISABLED'] = 'true'"
   ]
  },
  {
   "cell_type": "code",
   "execution_count": 15,
   "metadata": {
    "id": "SLV_Qq5bGJ0p"
   },
   "outputs": [],
   "source": [
    "training_args = TrainingArguments(\n",
    "    output_dir=OUTPUT_DIR +'/self_train_ver2_step1',\n",
    "    overwrite_output_dir=True,\n",
    "    do_train=True,\n",
    "    do_eval=True,\n",
    "    do_predict=True,\n",
    "    report_to=\"wandb\",\n",
    "    logging_strategy='steps',\n",
    "    eval_strategy='steps',\n",
    "    save_strategy='steps',\n",
    "    logging_steps=100,\n",
    "    eval_steps=50,\n",
    "    save_steps=50,\n",
    "    save_total_limit=2,\n",
    "    learning_rate= 2e-05,\n",
    "    adam_beta1 = 0.9,\n",
    "    adam_beta2 = 0.999,\n",
    "    adam_epsilon=1e-08,\n",
    "    weight_decay=0.01,\n",
    "    lr_scheduler_type='linear',\n",
    "    per_device_train_batch_size=16,\n",
    "    per_device_eval_batch_size=16,\n",
    "    gradient_accumulation_steps=2,\n",
    "    num_train_epochs=10,\n",
    "    load_best_model_at_end=True,\n",
    "    metric_for_best_model='eval_f1',\n",
    "    greater_is_better=True,\n",
    "    seed=SEED\n",
    ")"
   ]
  },
  {
   "cell_type": "code",
   "execution_count": 16,
   "metadata": {
    "id": "eGAepHgxGJ0p"
   },
   "outputs": [],
   "source": [
    "trainer = Trainer(\n",
    "    model=model,\n",
    "    args=training_args,\n",
    "    train_dataset=data_train,\n",
    "    eval_dataset=data_valid,\n",
    "    data_collator=data_collator,\n",
    "    compute_metrics=compute_metrics,\n",
    ")"
   ]
  },
  {
   "cell_type": "code",
   "execution_count": 17,
   "metadata": {
    "id": "vJ_Vzpc9GJ0p"
   },
   "outputs": [
    {
     "name": "stderr",
     "output_type": "stream",
     "text": [
      "\u001b[34m\u001b[1mwandb\u001b[0m: \u001b[33mWARNING\u001b[0m The `run_name` is currently set to the same value as `TrainingArguments.output_dir`. If this was not intended, please specify a different run name by setting the `TrainingArguments.run_name` parameter.\n"
     ]
    },
    {
     "data": {
      "text/html": [
       "\n",
       "    <div>\n",
       "      \n",
       "      <progress value='400' max='400' style='width:300px; height:20px; vertical-align: middle;'></progress>\n",
       "      [400/400 03:30, Epoch 9/10]\n",
       "    </div>\n",
       "    <table border=\"1\" class=\"dataframe\">\n",
       "  <thead>\n",
       " <tr style=\"text-align: left;\">\n",
       "      <th>Step</th>\n",
       "      <th>Training Loss</th>\n",
       "      <th>Validation Loss</th>\n",
       "      <th>F1</th>\n",
       "    </tr>\n",
       "  </thead>\n",
       "  <tbody>\n",
       "    <tr>\n",
       "      <td>50</td>\n",
       "      <td>No log</td>\n",
       "      <td>1.468755</td>\n",
       "      <td>0.514511</td>\n",
       "    </tr>\n",
       "    <tr>\n",
       "      <td>100</td>\n",
       "      <td>2.904000</td>\n",
       "      <td>1.283719</td>\n",
       "      <td>0.578784</td>\n",
       "    </tr>\n",
       "    <tr>\n",
       "      <td>150</td>\n",
       "      <td>2.904000</td>\n",
       "      <td>1.240349</td>\n",
       "      <td>0.586364</td>\n",
       "    </tr>\n",
       "    <tr>\n",
       "      <td>200</td>\n",
       "      <td>1.544000</td>\n",
       "      <td>1.281804</td>\n",
       "      <td>0.590322</td>\n",
       "    </tr>\n",
       "    <tr>\n",
       "      <td>250</td>\n",
       "      <td>1.544000</td>\n",
       "      <td>1.329944</td>\n",
       "      <td>0.568266</td>\n",
       "    </tr>\n",
       "    <tr>\n",
       "      <td>300</td>\n",
       "      <td>0.919100</td>\n",
       "      <td>1.364188</td>\n",
       "      <td>0.580375</td>\n",
       "    </tr>\n",
       "    <tr>\n",
       "      <td>350</td>\n",
       "      <td>0.919100</td>\n",
       "      <td>1.409888</td>\n",
       "      <td>0.563966</td>\n",
       "    </tr>\n",
       "    <tr>\n",
       "      <td>400</td>\n",
       "      <td>0.659300</td>\n",
       "      <td>1.425642</td>\n",
       "      <td>0.565138</td>\n",
       "    </tr>\n",
       "  </tbody>\n",
       "</table><p>"
      ],
      "text/plain": [
       "<IPython.core.display.HTML object>"
      ]
     },
     "metadata": {},
     "output_type": "display_data"
    },
    {
     "data": {
      "text/plain": [
       "TrainOutput(global_step=400, training_loss=1.5065975761413575, metrics={'train_runtime': 211.859, 'train_samples_per_second': 61.173, 'train_steps_per_second': 1.888, 'total_flos': 3367972700160000.0, 'train_loss': 1.5065975761413575, 'epoch': 9.876543209876543})"
      ]
     },
     "execution_count": 17,
     "metadata": {},
     "output_type": "execute_result"
    }
   ],
   "source": [
    "trainer.train()"
   ]
  },
  {
   "cell_type": "markdown",
   "metadata": {
    "id": "wBXeP6ynGJ0p"
   },
   "source": [
    "## Re-labeling Train dataset"
   ]
  },
  {
   "cell_type": "code",
   "execution_count": 18,
   "metadata": {
    "id": "eifEFgIOGJ0p"
   },
   "outputs": [],
   "source": [
    "origin_train = pd.read_csv(os.path.join(DATA_DIR, 'train.csv'))"
   ]
  },
  {
   "cell_type": "code",
   "execution_count": 19,
   "metadata": {
    "id": "oO5h88_3GJ0q"
   },
   "outputs": [
    {
     "data": {
      "text/plain": [
       "array(['ynat-v1_train_00000', 'ynat-v1_train_00001',\n",
       "       'ynat-v1_train_00002', ..., 'ynat-v1_train_02790',\n",
       "       'ynat-v1_train_02792', 'ynat-v1_train_02797'], dtype=object)"
      ]
     },
     "execution_count": 19,
     "metadata": {},
     "output_type": "execute_result"
    }
   ],
   "source": [
    "ids = train_df['ID'].values\n",
    "ids"
   ]
  },
  {
   "cell_type": "code",
   "execution_count": 20,
   "metadata": {},
   "outputs": [
    {
     "name": "stderr",
     "output_type": "stream",
     "text": [
      "Evaluating: 100%|██████████| 2800/2800 [00:06<00:00, 432.66it/s]\n"
     ]
    }
   ],
   "source": [
    "model = AutoModelForSequenceClassification.from_pretrained(OUTPUT_DIR+'/self_train_ver2_step1' + \"/checkpoint-400\").to(DEVICE)\n",
    "model.eval()\n",
    "\n",
    "new_train = origin_train.copy()\n",
    "\n",
    "for idx, sample in tqdm(origin_train.iterrows(), total=len(origin_train), desc=\"Evaluating\"):\n",
    "    target_id = sample['ID']\n",
    "    if target_id in ids :\n",
    "        cleaned_text = train_df.loc[train_df['ID'] == sample['ID']]['text'].values[0]\n",
    "        new_train.loc[new_train['ID'] == target_id, 'text'] = cleaned_text\n",
    "        continue\n",
    "\n",
    "    inputs = tokenizer(sample['text'], return_tensors=\"pt\").to(DEVICE)\n",
    "    with torch.no_grad():\n",
    "        logits = model(**inputs).logits\n",
    "        pred = torch.argmax(torch.nn.Softmax(dim=1)(logits), dim=1).cpu().numpy()\n",
    "        new_train.loc[new_train['ID'] == target_id, 'target'] = pred[0]"
   ]
  },
  {
   "cell_type": "code",
   "execution_count": 21,
   "metadata": {},
   "outputs": [],
   "source": [
    "new_train.to_csv(f'../data/self_train/self_train_v2_step1.csv', index=False)"
   ]
  },
  {
   "cell_type": "code",
   "execution_count": 22,
   "metadata": {},
   "outputs": [
    {
     "data": {
      "text/html": [
       "<div>\n",
       "<style scoped>\n",
       "    .dataframe tbody tr th:only-of-type {\n",
       "        vertical-align: middle;\n",
       "    }\n",
       "\n",
       "    .dataframe tbody tr th {\n",
       "        vertical-align: top;\n",
       "    }\n",
       "\n",
       "    .dataframe thead th {\n",
       "        text-align: right;\n",
       "    }\n",
       "</style>\n",
       "<table border=\"1\" class=\"dataframe\">\n",
       "  <thead>\n",
       "    <tr style=\"text-align: right;\">\n",
       "      <th></th>\n",
       "      <th>ID</th>\n",
       "      <th>text</th>\n",
       "      <th>target</th>\n",
       "    </tr>\n",
       "  </thead>\n",
       "  <tbody>\n",
       "    <tr>\n",
       "      <th>0</th>\n",
       "      <td>ynat-v1_train_00000</td>\n",
       "      <td>정파 미사일 이용기간 단 1분종 1보</td>\n",
       "      <td>4</td>\n",
       "    </tr>\n",
       "    <tr>\n",
       "      <th>1</th>\n",
       "      <td>ynat-v1_train_00001</td>\n",
       "      <td>찰스 국 회장 ^로한^ 송</td>\n",
       "      <td>3</td>\n",
       "    </tr>\n",
       "    <tr>\n",
       "      <th>2</th>\n",
       "      <td>ynat-v1_train_00002</td>\n",
       "      <td>北 김정은 자주통일 새 시대 열어 나가야 1보</td>\n",
       "      <td>2</td>\n",
       "    </tr>\n",
       "    <tr>\n",
       "      <th>3</th>\n",
       "      <td>ynat-v1_train_00003</td>\n",
       "      <td>갤노트8 주말 27만대 개통…시장은 불법 보조금 얼룩</td>\n",
       "      <td>4</td>\n",
       "    </tr>\n",
       "    <tr>\n",
       "      <th>4</th>\n",
       "      <td>ynat-v1_train_00004</td>\n",
       "      <td>미국 대선 앞두고 중국 단발이 비해 감시 강화</td>\n",
       "      <td>6</td>\n",
       "    </tr>\n",
       "  </tbody>\n",
       "</table>\n",
       "</div>"
      ],
      "text/plain": [
       "                    ID                           text  target\n",
       "0  ynat-v1_train_00000           정파 미사일 이용기간 단 1분종 1보       4\n",
       "1  ynat-v1_train_00001                 찰스 국 회장 ^로한^ 송       3\n",
       "2  ynat-v1_train_00002     北 김정은 자주통일 새 시대 열어 나가야 1보        2\n",
       "3  ynat-v1_train_00003  갤노트8 주말 27만대 개통…시장은 불법 보조금 얼룩       4\n",
       "4  ynat-v1_train_00004      미국 대선 앞두고 중국 단발이 비해 감시 강화       6"
      ]
     },
     "execution_count": 22,
     "metadata": {},
     "output_type": "execute_result"
    }
   ],
   "source": [
    "new_train.head()"
   ]
  },
  {
   "cell_type": "code",
   "execution_count": null,
   "metadata": {},
   "outputs": [],
   "source": []
  }
 ],
 "metadata": {
  "accelerator": "GPU",
  "colab": {
   "gpuType": "T4",
   "provenance": []
  },
  "kernelspec": {
   "display_name": "py_venv",
   "language": "python",
   "name": "python3"
  },
  "language_info": {
   "codemirror_mode": {
    "name": "ipython",
    "version": 3
   },
   "file_extension": ".py",
   "mimetype": "text/x-python",
   "name": "python",
   "nbconvert_exporter": "python",
   "pygments_lexer": "ipython3",
   "version": "3.10.12"
  }
 },
 "nbformat": 4,
 "nbformat_minor": 0
}
