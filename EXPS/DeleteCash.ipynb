{
 "cells": [
  {
   "cell_type": "code",
   "execution_count": null,
   "metadata": {},
   "outputs": [],
   "source": []
  },
  {
   "cell_type": "code",
   "execution_count": null,
   "metadata": {},
   "outputs": [],
   "source": []
  },
  {
   "cell_type": "code",
   "execution_count": 6,
   "metadata": {},
   "outputs": [
    {
     "name": "stdout",
     "output_type": "stream",
     "text": [
      "Model: yanolja/EEVE-Korean-Instruct-10.8B-v1.0\n",
      "Size: 21612.11 MB\n",
      "Path: /data/ephemeral/home/.cache/huggingface/hub/models--yanolja--EEVE-Korean-Instruct-10.8B-v1.0\n",
      "---\n",
      "Model: Saxo/Linkbricks-Horizon-AI-Korean-Pro-8B\n",
      "Size: 16069.72 MB\n",
      "Path: /data/ephemeral/home/.cache/huggingface/hub/models--Saxo--Linkbricks-Horizon-AI-Korean-Pro-8B\n",
      "---\n",
      "Model: klue/bert-base\n",
      "Size: 445.74 MB\n",
      "Path: /data/ephemeral/home/.cache/huggingface/hub/models--klue--bert-base\n",
      "---\n",
      "Model: klue/roberta-large\n",
      "Size: 1347.82 MB\n",
      "Path: /data/ephemeral/home/.cache/huggingface/hub/models--klue--roberta-large\n",
      "---\n"
     ]
    }
   ],
   "source": [
    "from huggingface_hub import scan_cache_dir\n",
    "\n",
    "# 캐시 디렉토리 스캔\n",
    "cache_info = scan_cache_dir()\n",
    "\n",
    "# 캐시된 모델 정보 출력\n",
    "for repo in cache_info.repos:\n",
    "    if repo.repo_type == \"model\":\n",
    "        print(f\"Model: {repo.repo_id}\")\n",
    "        print(f\"Size: {repo.size_on_disk / 1e6:.2f} MB\")\n",
    "        print(f\"Path: {repo.repo_path}\")\n",
    "        print(\"---\")"
   ]
  },
  {
   "cell_type": "code",
   "execution_count": 5,
   "metadata": {},
   "outputs": [
    {
     "name": "stdout",
     "output_type": "stream",
     "text": [
      "Deleted Saxo/Linkbricks-Llama3.2-Korean-cpt-3b from cache\n"
     ]
    }
   ],
   "source": [
    "import shutil\n",
    "from huggingface_hub import scan_cache_dir\n",
    "\n",
    "def delete_model_from_cache(model_name):\n",
    "    cache_info = scan_cache_dir()\n",
    "    for repo in cache_info.repos:\n",
    "        if repo.repo_type == \"model\" and repo.repo_id == model_name:\n",
    "            shutil.rmtree(repo.repo_path)\n",
    "            print(f\"Deleted {model_name} from cache\")\n",
    "            return\n",
    "    print(f\"Model {model_name} not found in cache\")\n",
    "\n",
    "# 사용 예시\n",
    "delete_model_from_cache(\"Saxo/Linkbricks-Llama3.2-Korean-cpt-3b\")"
   ]
  },
  {
   "cell_type": "code",
   "execution_count": null,
   "metadata": {},
   "outputs": [],
   "source": []
  }
 ],
 "metadata": {
  "kernelspec": {
   "display_name": "base",
   "language": "python",
   "name": "python3"
  },
  "language_info": {
   "codemirror_mode": {
    "name": "ipython",
    "version": 3
   },
   "file_extension": ".py",
   "mimetype": "text/x-python",
   "name": "python",
   "nbconvert_exporter": "python",
   "pygments_lexer": "ipython3",
   "version": "3.10.15"
  }
 },
 "nbformat": 4,
 "nbformat_minor": 2
}
