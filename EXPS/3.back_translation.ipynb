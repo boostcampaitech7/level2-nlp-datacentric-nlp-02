{
 "cells": [
  {
   "cell_type": "code",
   "execution_count": 1,
   "metadata": {},
   "outputs": [],
   "source": [
    "import pandas as pd\n",
    "import os\n",
    "import re\n",
    "import torch\n",
    "from tqdm import tqdm\n",
    "from transformers import AutoTokenizer\n",
    "from transformers import AutoModelForCausalLM"
   ]
  },
  {
   "cell_type": "code",
   "execution_count": 2,
   "metadata": {},
   "outputs": [],
   "source": [
    "BASE_DIR = os.getcwd()\n",
    "DATA_DIR = os.path.join(BASE_DIR, 'data')\n",
    "OUTPUT_DIR = os.path.join(BASE_DIR, 'outputs')\n",
    "\n",
    "DEVICE = torch.device(\"cuda\" if torch.cuda.is_available() else \"cpu\")\n"
   ]
  },
  {
   "cell_type": "code",
   "execution_count": 3,
   "metadata": {},
   "outputs": [
    {
     "data": {
      "text/plain": [
       "4121"
      ]
     },
     "execution_count": 3,
     "metadata": {},
     "output_type": "execute_result"
    }
   ],
   "source": [
    "labeled_data_path = os.path.join(DATA_DIR, \"Self_train/self_train_step4.csv\")\n",
    "df = pd.read_csv(labeled_data_path)\n",
    "len(df)"
   ]
  },
  {
   "cell_type": "code",
   "execution_count": 4,
   "metadata": {},
   "outputs": [
    {
     "data": {
      "application/vnd.jupyter.widget-view+json": {
       "model_id": "b840ec4efc9c4f44b19208a0b79a10b6",
       "version_major": 2,
       "version_minor": 0
      },
      "text/plain": [
       "Loading checkpoint shards:   0%|          | 0/5 [00:00<?, ?it/s]"
      ]
     },
     "metadata": {},
     "output_type": "display_data"
    },
    {
     "data": {
      "text/plain": [
       "LlamaForCausalLM(\n",
       "  (model): LlamaModel(\n",
       "    (embed_tokens): Embedding(40960, 4096)\n",
       "    (layers): ModuleList(\n",
       "      (0-47): 48 x LlamaDecoderLayer(\n",
       "        (self_attn): LlamaAttention(\n",
       "          (q_proj): Linear(in_features=4096, out_features=4096, bias=False)\n",
       "          (k_proj): Linear(in_features=4096, out_features=1024, bias=False)\n",
       "          (v_proj): Linear(in_features=4096, out_features=1024, bias=False)\n",
       "          (o_proj): Linear(in_features=4096, out_features=4096, bias=False)\n",
       "          (rotary_emb): LlamaRotaryEmbedding()\n",
       "        )\n",
       "        (mlp): LlamaMLP(\n",
       "          (gate_proj): Linear(in_features=4096, out_features=14336, bias=False)\n",
       "          (up_proj): Linear(in_features=4096, out_features=14336, bias=False)\n",
       "          (down_proj): Linear(in_features=14336, out_features=4096, bias=False)\n",
       "          (act_fn): SiLU()\n",
       "        )\n",
       "        (input_layernorm): LlamaRMSNorm((4096,), eps=1e-05)\n",
       "        (post_attention_layernorm): LlamaRMSNorm((4096,), eps=1e-05)\n",
       "      )\n",
       "    )\n",
       "    (norm): LlamaRMSNorm((4096,), eps=1e-05)\n",
       "    (rotary_emb): LlamaRotaryEmbedding()\n",
       "  )\n",
       "  (lm_head): Linear(in_features=4096, out_features=40960, bias=False)\n",
       ")"
      ]
     },
     "execution_count": 4,
     "metadata": {},
     "output_type": "execute_result"
    }
   ],
   "source": [
    "# 모델과 토크나이저 로드\n",
    "model_name = 'yanolja/EEVE-Korean-Instruct-10.8B-v1.0'\n",
    "tokenizer = AutoTokenizer.from_pretrained(model_name)\n",
    "model = AutoModelForCausalLM.from_pretrained(model_name, torch_dtype=torch.float16)\n",
    "model.to(DEVICE)"
   ]
  },
  {
   "cell_type": "code",
   "execution_count": 5,
   "metadata": {},
   "outputs": [],
   "source": [
    "def extract_quoted_string(text):\n",
    "    pattern = r'\\$\\$(.*?)\\$\\$' \n",
    "    matches = re.findall(pattern, text)\n",
    "    if len(matches) == 0 :\n",
    "        return \"제목없음\"\n",
    "    else :\n",
    "        return matches[0]"
   ]
  },
  {
   "cell_type": "code",
   "execution_count": null,
   "metadata": {},
   "outputs": [
    {
     "name": "stderr",
     "output_type": "stream",
     "text": [
      "Setting `pad_token_id` to `eos_token_id`:None for open-end generation.\n",
      "Setting `pad_token_id` to `eos_token_id`:None for open-end generation.\n"
     ]
    },
    {
     "name": "stdout",
     "output_type": "stream",
     "text": [
      "origin :  정권이 파리 미사 참석에 이용기간 제한을 두고 분열을 보임\n",
      "cleaned :  \"Regime divides over time limit for Paris missile event attendance\"\n"
     ]
    },
    {
     "name": "stderr",
     "output_type": "stream",
     "text": [
      "Setting `pad_token_id` to `eos_token_id`:None for open-end generation.\n"
     ]
    },
    {
     "name": "stdout",
     "output_type": "stream",
     "text": [
      "origin :  찰 국 로한 회장이 맡은 주요 프로젝트\n",
      "cleaned :  \"Chul National Laboratory Chairman's Major Projects\"\n"
     ]
    },
    {
     "name": "stderr",
     "output_type": "stream",
     "text": [
      "Setting `pad_token_id` to `eos_token_id`:None for open-end generation.\n"
     ]
    },
    {
     "name": "stdout",
     "output_type": "stream",
     "text": [
      "origin :  김정은, 자주통일 새 열쇠를 잡고 나서야 한다\n",
      "cleaned :  'Kim Jong-un, it's time to grasp the key to self-reliant unification'\n"
     ]
    },
    {
     "name": "stderr",
     "output_type": "stream",
     "text": [
      "Setting `pad_token_id` to `eos_token_id`:None for open-end generation.\n"
     ]
    },
    {
     "name": "stdout",
     "output_type": "stream",
     "text": [
      "origin :  갤노트8 주말 27만대 개통…시장은 불법 보조금 얼룩\n",
      "cleaned :  \"Galaxy Note 8 sales surge over the weekend with 270,000 units activated; market plagued by illegal subsidies\"\n"
     ]
    },
    {
     "name": "stderr",
     "output_type": "stream",
     "text": [
      "Setting `pad_token_id` to `eos_token_id`:None for open-end generation.\n"
     ]
    },
    {
     "name": "stdout",
     "output_type": "stream",
     "text": [
      "origin :  대선을 앞두고 감시 강화, 단발적 비해\n",
      "cleaned :  \"Increased Surveillance Leading Up to Election, Compared to One-offs\"\n"
     ]
    },
    {
     "name": "stderr",
     "output_type": "stream",
     "text": [
      "Setting `pad_token_id` to `eos_token_id`:None for open-end generation.\n"
     ]
    },
    {
     "name": "stdout",
     "output_type": "stream",
     "text": [
      "origin :  美성인 6명 중 1명꼴 배우자·연인 빚 떠안은 적 있다\n",
      "cleaned :  \"1 in 6 U.S. adults have taken on partner's debt\"\n"
     ]
    },
    {
     "name": "stderr",
     "output_type": "stream",
     "text": [
      "Setting `pad_token_id` to `eos_token_id`:None for open-end generation.\n"
     ]
    },
    {
     "name": "stdout",
     "output_type": "stream",
     "text": [
      "origin :  프로야구 광주 롯데 경기, 비로 인해 취소\n",
      "cleaned :  \"Pro Baseball Gwangju Lotte Game Canceled Due to Rain\"\n"
     ]
    },
    {
     "name": "stderr",
     "output_type": "stream",
     "text": [
      "Setting `pad_token_id` to `eos_token_id`:None for open-end generation.\n"
     ]
    },
    {
     "name": "stdout",
     "output_type": "stream",
     "text": [
      "origin :  아가메즈 33득점 우리카드 KB손해보험 완파…3위 굳...\n",
      "cleaned :  \"Agamez scores 33 points as Woori Card thrashes KB Insurance; 3rd place secured\"\n"
     ]
    },
    {
     "name": "stderr",
     "output_type": "stream",
     "text": [
      "Setting `pad_token_id` to `eos_token_id`:None for open-end generation.\n"
     ]
    },
    {
     "name": "stdout",
     "output_type": "stream",
     "text": [
      "origin :  朴대통령 얼마나 많이 놀라셨어요…경주 지진현장 방문종합\n",
      "cleaned :  \"President Park, How Surprised Are You…Visits the Pohang Earthquake Site\"\n"
     ]
    },
    {
     "ename": "KeyboardInterrupt",
     "evalue": "",
     "output_type": "error",
     "traceback": [
      "\u001b[0;31m---------------------------------------------------------------------------\u001b[0m",
      "\u001b[0;31mKeyboardInterrupt\u001b[0m                         Traceback (most recent call last)",
      "Cell \u001b[0;32mIn[10], line 19\u001b[0m\n\u001b[1;32m     16\u001b[0m inputs \u001b[38;5;241m=\u001b[39m tokenizer(prompt, return_tensors\u001b[38;5;241m=\u001b[39m\u001b[38;5;124m\"\u001b[39m\u001b[38;5;124mpt\u001b[39m\u001b[38;5;124m\"\u001b[39m)\u001b[38;5;241m.\u001b[39mto(model\u001b[38;5;241m.\u001b[39mdevice)\n\u001b[1;32m     18\u001b[0m \u001b[38;5;28;01mwith\u001b[39;00m torch\u001b[38;5;241m.\u001b[39mno_grad():\n\u001b[0;32m---> 19\u001b[0m     outputs \u001b[38;5;241m=\u001b[39m \u001b[43mmodel\u001b[49m\u001b[38;5;241;43m.\u001b[39;49m\u001b[43mgenerate\u001b[49m\u001b[43m(\u001b[49m\n\u001b[1;32m     20\u001b[0m \u001b[43m        \u001b[49m\u001b[38;5;241;43m*\u001b[39;49m\u001b[38;5;241;43m*\u001b[39;49m\u001b[43minputs\u001b[49m\u001b[43m,\u001b[49m\n\u001b[1;32m     21\u001b[0m \u001b[43m        \u001b[49m\u001b[43mmax_new_tokens\u001b[49m\u001b[38;5;241;43m=\u001b[39;49m\u001b[38;5;241;43m150\u001b[39;49m\u001b[43m,\u001b[49m\n\u001b[1;32m     22\u001b[0m \u001b[43m        \u001b[49m\u001b[43mnum_return_sequences\u001b[49m\u001b[38;5;241;43m=\u001b[39;49m\u001b[38;5;241;43m1\u001b[39;49m\u001b[43m,\u001b[49m\n\u001b[1;32m     23\u001b[0m \u001b[43m        \u001b[49m\u001b[43mtemperature\u001b[49m\u001b[38;5;241;43m=\u001b[39;49m\u001b[38;5;241;43m0.7\u001b[39;49m\u001b[43m,\u001b[49m\n\u001b[1;32m     24\u001b[0m \u001b[43m        \u001b[49m\u001b[43mtop_p\u001b[49m\u001b[38;5;241;43m=\u001b[39;49m\u001b[38;5;241;43m0.95\u001b[39;49m\u001b[43m,\u001b[49m\n\u001b[1;32m     25\u001b[0m \u001b[43m        \u001b[49m\u001b[43mdo_sample\u001b[49m\u001b[38;5;241;43m=\u001b[39;49m\u001b[38;5;28;43;01mTrue\u001b[39;49;00m\n\u001b[1;32m     26\u001b[0m \u001b[43m    \u001b[49m\u001b[43m)\u001b[49m\n\u001b[1;32m     28\u001b[0m generated_text \u001b[38;5;241m=\u001b[39m tokenizer\u001b[38;5;241m.\u001b[39mdecode(outputs[\u001b[38;5;241m0\u001b[39m], skip_special_tokens\u001b[38;5;241m=\u001b[39m\u001b[38;5;28;01mTrue\u001b[39;00m)\n\u001b[1;32m     29\u001b[0m cleaned_text \u001b[38;5;241m=\u001b[39m generated_text\u001b[38;5;241m.\u001b[39msplit(\u001b[38;5;124m\"\u001b[39m\u001b[38;5;124mTranslated headline:\u001b[39m\u001b[38;5;124m\"\u001b[39m)[\u001b[38;5;241m-\u001b[39m\u001b[38;5;241m1\u001b[39m]\u001b[38;5;241m.\u001b[39msplit(\u001b[38;5;124m'\u001b[39m\u001b[38;5;130;01m\\n\u001b[39;00m\u001b[38;5;124m'\u001b[39m)[\u001b[38;5;241m0\u001b[39m]\u001b[38;5;241m.\u001b[39mstrip()\n",
      "File \u001b[0;32m/opt/conda/lib/python3.10/site-packages/torch/utils/_contextlib.py:115\u001b[0m, in \u001b[0;36mcontext_decorator.<locals>.decorate_context\u001b[0;34m(*args, **kwargs)\u001b[0m\n\u001b[1;32m    112\u001b[0m \u001b[38;5;129m@functools\u001b[39m\u001b[38;5;241m.\u001b[39mwraps(func)\n\u001b[1;32m    113\u001b[0m \u001b[38;5;28;01mdef\u001b[39;00m \u001b[38;5;21mdecorate_context\u001b[39m(\u001b[38;5;241m*\u001b[39margs, \u001b[38;5;241m*\u001b[39m\u001b[38;5;241m*\u001b[39mkwargs):\n\u001b[1;32m    114\u001b[0m     \u001b[38;5;28;01mwith\u001b[39;00m ctx_factory():\n\u001b[0;32m--> 115\u001b[0m         \u001b[38;5;28;01mreturn\u001b[39;00m \u001b[43mfunc\u001b[49m\u001b[43m(\u001b[49m\u001b[38;5;241;43m*\u001b[39;49m\u001b[43margs\u001b[49m\u001b[43m,\u001b[49m\u001b[43m \u001b[49m\u001b[38;5;241;43m*\u001b[39;49m\u001b[38;5;241;43m*\u001b[39;49m\u001b[43mkwargs\u001b[49m\u001b[43m)\u001b[49m\n",
      "File \u001b[0;32m/opt/conda/lib/python3.10/site-packages/transformers/generation/utils.py:2215\u001b[0m, in \u001b[0;36mGenerationMixin.generate\u001b[0;34m(self, inputs, generation_config, logits_processor, stopping_criteria, prefix_allowed_tokens_fn, synced_gpus, assistant_model, streamer, negative_prompt_ids, negative_prompt_attention_mask, **kwargs)\u001b[0m\n\u001b[1;32m   2207\u001b[0m     input_ids, model_kwargs \u001b[38;5;241m=\u001b[39m \u001b[38;5;28mself\u001b[39m\u001b[38;5;241m.\u001b[39m_expand_inputs_for_generation(\n\u001b[1;32m   2208\u001b[0m         input_ids\u001b[38;5;241m=\u001b[39minput_ids,\n\u001b[1;32m   2209\u001b[0m         expand_size\u001b[38;5;241m=\u001b[39mgeneration_config\u001b[38;5;241m.\u001b[39mnum_return_sequences,\n\u001b[1;32m   2210\u001b[0m         is_encoder_decoder\u001b[38;5;241m=\u001b[39m\u001b[38;5;28mself\u001b[39m\u001b[38;5;241m.\u001b[39mconfig\u001b[38;5;241m.\u001b[39mis_encoder_decoder,\n\u001b[1;32m   2211\u001b[0m         \u001b[38;5;241m*\u001b[39m\u001b[38;5;241m*\u001b[39mmodel_kwargs,\n\u001b[1;32m   2212\u001b[0m     )\n\u001b[1;32m   2214\u001b[0m     \u001b[38;5;66;03m# 12. run sample (it degenerates to greedy search when `generation_config.do_sample=False`)\u001b[39;00m\n\u001b[0;32m-> 2215\u001b[0m     result \u001b[38;5;241m=\u001b[39m \u001b[38;5;28;43mself\u001b[39;49m\u001b[38;5;241;43m.\u001b[39;49m\u001b[43m_sample\u001b[49m\u001b[43m(\u001b[49m\n\u001b[1;32m   2216\u001b[0m \u001b[43m        \u001b[49m\u001b[43minput_ids\u001b[49m\u001b[43m,\u001b[49m\n\u001b[1;32m   2217\u001b[0m \u001b[43m        \u001b[49m\u001b[43mlogits_processor\u001b[49m\u001b[38;5;241;43m=\u001b[39;49m\u001b[43mprepared_logits_processor\u001b[49m\u001b[43m,\u001b[49m\n\u001b[1;32m   2218\u001b[0m \u001b[43m        \u001b[49m\u001b[43mstopping_criteria\u001b[49m\u001b[38;5;241;43m=\u001b[39;49m\u001b[43mprepared_stopping_criteria\u001b[49m\u001b[43m,\u001b[49m\n\u001b[1;32m   2219\u001b[0m \u001b[43m        \u001b[49m\u001b[43mgeneration_config\u001b[49m\u001b[38;5;241;43m=\u001b[39;49m\u001b[43mgeneration_config\u001b[49m\u001b[43m,\u001b[49m\n\u001b[1;32m   2220\u001b[0m \u001b[43m        \u001b[49m\u001b[43msynced_gpus\u001b[49m\u001b[38;5;241;43m=\u001b[39;49m\u001b[43msynced_gpus\u001b[49m\u001b[43m,\u001b[49m\n\u001b[1;32m   2221\u001b[0m \u001b[43m        \u001b[49m\u001b[43mstreamer\u001b[49m\u001b[38;5;241;43m=\u001b[39;49m\u001b[43mstreamer\u001b[49m\u001b[43m,\u001b[49m\n\u001b[1;32m   2222\u001b[0m \u001b[43m        \u001b[49m\u001b[38;5;241;43m*\u001b[39;49m\u001b[38;5;241;43m*\u001b[39;49m\u001b[43mmodel_kwargs\u001b[49m\u001b[43m,\u001b[49m\n\u001b[1;32m   2223\u001b[0m \u001b[43m    \u001b[49m\u001b[43m)\u001b[49m\n\u001b[1;32m   2225\u001b[0m \u001b[38;5;28;01melif\u001b[39;00m generation_mode \u001b[38;5;129;01min\u001b[39;00m (GenerationMode\u001b[38;5;241m.\u001b[39mBEAM_SAMPLE, GenerationMode\u001b[38;5;241m.\u001b[39mBEAM_SEARCH):\n\u001b[1;32m   2226\u001b[0m     \u001b[38;5;66;03m# 11. prepare beam search scorer\u001b[39;00m\n\u001b[1;32m   2227\u001b[0m     beam_scorer \u001b[38;5;241m=\u001b[39m BeamSearchScorer(\n\u001b[1;32m   2228\u001b[0m         batch_size\u001b[38;5;241m=\u001b[39mbatch_size,\n\u001b[1;32m   2229\u001b[0m         num_beams\u001b[38;5;241m=\u001b[39mgeneration_config\u001b[38;5;241m.\u001b[39mnum_beams,\n\u001b[0;32m   (...)\u001b[0m\n\u001b[1;32m   2234\u001b[0m         max_length\u001b[38;5;241m=\u001b[39mgeneration_config\u001b[38;5;241m.\u001b[39mmax_length,\n\u001b[1;32m   2235\u001b[0m     )\n",
      "File \u001b[0;32m/opt/conda/lib/python3.10/site-packages/transformers/generation/utils.py:3206\u001b[0m, in \u001b[0;36mGenerationMixin._sample\u001b[0;34m(self, input_ids, logits_processor, stopping_criteria, generation_config, synced_gpus, streamer, **model_kwargs)\u001b[0m\n\u001b[1;32m   3203\u001b[0m model_inputs\u001b[38;5;241m.\u001b[39mupdate({\u001b[38;5;124m\"\u001b[39m\u001b[38;5;124moutput_hidden_states\u001b[39m\u001b[38;5;124m\"\u001b[39m: output_hidden_states} \u001b[38;5;28;01mif\u001b[39;00m output_hidden_states \u001b[38;5;28;01melse\u001b[39;00m {})\n\u001b[1;32m   3205\u001b[0m \u001b[38;5;66;03m# forward pass to get next token\u001b[39;00m\n\u001b[0;32m-> 3206\u001b[0m outputs \u001b[38;5;241m=\u001b[39m \u001b[38;5;28;43mself\u001b[39;49m\u001b[43m(\u001b[49m\u001b[38;5;241;43m*\u001b[39;49m\u001b[38;5;241;43m*\u001b[39;49m\u001b[43mmodel_inputs\u001b[49m\u001b[43m,\u001b[49m\u001b[43m \u001b[49m\u001b[43mreturn_dict\u001b[49m\u001b[38;5;241;43m=\u001b[39;49m\u001b[38;5;28;43;01mTrue\u001b[39;49;00m\u001b[43m)\u001b[49m\n\u001b[1;32m   3208\u001b[0m \u001b[38;5;66;03m# synced_gpus: don't waste resources running the code we don't need; kwargs must be updated before skipping\u001b[39;00m\n\u001b[1;32m   3209\u001b[0m model_kwargs \u001b[38;5;241m=\u001b[39m \u001b[38;5;28mself\u001b[39m\u001b[38;5;241m.\u001b[39m_update_model_kwargs_for_generation(\n\u001b[1;32m   3210\u001b[0m     outputs,\n\u001b[1;32m   3211\u001b[0m     model_kwargs,\n\u001b[1;32m   3212\u001b[0m     is_encoder_decoder\u001b[38;5;241m=\u001b[39m\u001b[38;5;28mself\u001b[39m\u001b[38;5;241m.\u001b[39mconfig\u001b[38;5;241m.\u001b[39mis_encoder_decoder,\n\u001b[1;32m   3213\u001b[0m )\n",
      "File \u001b[0;32m/opt/conda/lib/python3.10/site-packages/torch/nn/modules/module.py:1518\u001b[0m, in \u001b[0;36mModule._wrapped_call_impl\u001b[0;34m(self, *args, **kwargs)\u001b[0m\n\u001b[1;32m   1516\u001b[0m     \u001b[38;5;28;01mreturn\u001b[39;00m \u001b[38;5;28mself\u001b[39m\u001b[38;5;241m.\u001b[39m_compiled_call_impl(\u001b[38;5;241m*\u001b[39margs, \u001b[38;5;241m*\u001b[39m\u001b[38;5;241m*\u001b[39mkwargs)  \u001b[38;5;66;03m# type: ignore[misc]\u001b[39;00m\n\u001b[1;32m   1517\u001b[0m \u001b[38;5;28;01melse\u001b[39;00m:\n\u001b[0;32m-> 1518\u001b[0m     \u001b[38;5;28;01mreturn\u001b[39;00m \u001b[38;5;28;43mself\u001b[39;49m\u001b[38;5;241;43m.\u001b[39;49m\u001b[43m_call_impl\u001b[49m\u001b[43m(\u001b[49m\u001b[38;5;241;43m*\u001b[39;49m\u001b[43margs\u001b[49m\u001b[43m,\u001b[49m\u001b[43m \u001b[49m\u001b[38;5;241;43m*\u001b[39;49m\u001b[38;5;241;43m*\u001b[39;49m\u001b[43mkwargs\u001b[49m\u001b[43m)\u001b[49m\n",
      "File \u001b[0;32m/opt/conda/lib/python3.10/site-packages/torch/nn/modules/module.py:1527\u001b[0m, in \u001b[0;36mModule._call_impl\u001b[0;34m(self, *args, **kwargs)\u001b[0m\n\u001b[1;32m   1522\u001b[0m \u001b[38;5;66;03m# If we don't have any hooks, we want to skip the rest of the logic in\u001b[39;00m\n\u001b[1;32m   1523\u001b[0m \u001b[38;5;66;03m# this function, and just call forward.\u001b[39;00m\n\u001b[1;32m   1524\u001b[0m \u001b[38;5;28;01mif\u001b[39;00m \u001b[38;5;129;01mnot\u001b[39;00m (\u001b[38;5;28mself\u001b[39m\u001b[38;5;241m.\u001b[39m_backward_hooks \u001b[38;5;129;01mor\u001b[39;00m \u001b[38;5;28mself\u001b[39m\u001b[38;5;241m.\u001b[39m_backward_pre_hooks \u001b[38;5;129;01mor\u001b[39;00m \u001b[38;5;28mself\u001b[39m\u001b[38;5;241m.\u001b[39m_forward_hooks \u001b[38;5;129;01mor\u001b[39;00m \u001b[38;5;28mself\u001b[39m\u001b[38;5;241m.\u001b[39m_forward_pre_hooks\n\u001b[1;32m   1525\u001b[0m         \u001b[38;5;129;01mor\u001b[39;00m _global_backward_pre_hooks \u001b[38;5;129;01mor\u001b[39;00m _global_backward_hooks\n\u001b[1;32m   1526\u001b[0m         \u001b[38;5;129;01mor\u001b[39;00m _global_forward_hooks \u001b[38;5;129;01mor\u001b[39;00m _global_forward_pre_hooks):\n\u001b[0;32m-> 1527\u001b[0m     \u001b[38;5;28;01mreturn\u001b[39;00m \u001b[43mforward_call\u001b[49m\u001b[43m(\u001b[49m\u001b[38;5;241;43m*\u001b[39;49m\u001b[43margs\u001b[49m\u001b[43m,\u001b[49m\u001b[43m \u001b[49m\u001b[38;5;241;43m*\u001b[39;49m\u001b[38;5;241;43m*\u001b[39;49m\u001b[43mkwargs\u001b[49m\u001b[43m)\u001b[49m\n\u001b[1;32m   1529\u001b[0m \u001b[38;5;28;01mtry\u001b[39;00m:\n\u001b[1;32m   1530\u001b[0m     result \u001b[38;5;241m=\u001b[39m \u001b[38;5;28;01mNone\u001b[39;00m\n",
      "File \u001b[0;32m/opt/conda/lib/python3.10/site-packages/transformers/models/llama/modeling_llama.py:1190\u001b[0m, in \u001b[0;36mLlamaForCausalLM.forward\u001b[0;34m(self, input_ids, attention_mask, position_ids, past_key_values, inputs_embeds, labels, use_cache, output_attentions, output_hidden_states, return_dict, cache_position, num_logits_to_keep, **loss_kwargs)\u001b[0m\n\u001b[1;32m   1187\u001b[0m return_dict \u001b[38;5;241m=\u001b[39m return_dict \u001b[38;5;28;01mif\u001b[39;00m return_dict \u001b[38;5;129;01mis\u001b[39;00m \u001b[38;5;129;01mnot\u001b[39;00m \u001b[38;5;28;01mNone\u001b[39;00m \u001b[38;5;28;01melse\u001b[39;00m \u001b[38;5;28mself\u001b[39m\u001b[38;5;241m.\u001b[39mconfig\u001b[38;5;241m.\u001b[39muse_return_dict\n\u001b[1;32m   1189\u001b[0m \u001b[38;5;66;03m# decoder outputs consists of (dec_features, layer_state, dec_hidden, dec_attn)\u001b[39;00m\n\u001b[0;32m-> 1190\u001b[0m outputs \u001b[38;5;241m=\u001b[39m \u001b[38;5;28;43mself\u001b[39;49m\u001b[38;5;241;43m.\u001b[39;49m\u001b[43mmodel\u001b[49m\u001b[43m(\u001b[49m\n\u001b[1;32m   1191\u001b[0m \u001b[43m    \u001b[49m\u001b[43minput_ids\u001b[49m\u001b[38;5;241;43m=\u001b[39;49m\u001b[43minput_ids\u001b[49m\u001b[43m,\u001b[49m\n\u001b[1;32m   1192\u001b[0m \u001b[43m    \u001b[49m\u001b[43mattention_mask\u001b[49m\u001b[38;5;241;43m=\u001b[39;49m\u001b[43mattention_mask\u001b[49m\u001b[43m,\u001b[49m\n\u001b[1;32m   1193\u001b[0m \u001b[43m    \u001b[49m\u001b[43mposition_ids\u001b[49m\u001b[38;5;241;43m=\u001b[39;49m\u001b[43mposition_ids\u001b[49m\u001b[43m,\u001b[49m\n\u001b[1;32m   1194\u001b[0m \u001b[43m    \u001b[49m\u001b[43mpast_key_values\u001b[49m\u001b[38;5;241;43m=\u001b[39;49m\u001b[43mpast_key_values\u001b[49m\u001b[43m,\u001b[49m\n\u001b[1;32m   1195\u001b[0m \u001b[43m    \u001b[49m\u001b[43minputs_embeds\u001b[49m\u001b[38;5;241;43m=\u001b[39;49m\u001b[43minputs_embeds\u001b[49m\u001b[43m,\u001b[49m\n\u001b[1;32m   1196\u001b[0m \u001b[43m    \u001b[49m\u001b[43muse_cache\u001b[49m\u001b[38;5;241;43m=\u001b[39;49m\u001b[43muse_cache\u001b[49m\u001b[43m,\u001b[49m\n\u001b[1;32m   1197\u001b[0m \u001b[43m    \u001b[49m\u001b[43moutput_attentions\u001b[49m\u001b[38;5;241;43m=\u001b[39;49m\u001b[43moutput_attentions\u001b[49m\u001b[43m,\u001b[49m\n\u001b[1;32m   1198\u001b[0m \u001b[43m    \u001b[49m\u001b[43moutput_hidden_states\u001b[49m\u001b[38;5;241;43m=\u001b[39;49m\u001b[43moutput_hidden_states\u001b[49m\u001b[43m,\u001b[49m\n\u001b[1;32m   1199\u001b[0m \u001b[43m    \u001b[49m\u001b[43mreturn_dict\u001b[49m\u001b[38;5;241;43m=\u001b[39;49m\u001b[43mreturn_dict\u001b[49m\u001b[43m,\u001b[49m\n\u001b[1;32m   1200\u001b[0m \u001b[43m    \u001b[49m\u001b[43mcache_position\u001b[49m\u001b[38;5;241;43m=\u001b[39;49m\u001b[43mcache_position\u001b[49m\u001b[43m,\u001b[49m\n\u001b[1;32m   1201\u001b[0m \u001b[43m\u001b[49m\u001b[43m)\u001b[49m\n\u001b[1;32m   1203\u001b[0m hidden_states \u001b[38;5;241m=\u001b[39m outputs[\u001b[38;5;241m0\u001b[39m]\n\u001b[1;32m   1204\u001b[0m \u001b[38;5;28;01mif\u001b[39;00m \u001b[38;5;28mself\u001b[39m\u001b[38;5;241m.\u001b[39mconfig\u001b[38;5;241m.\u001b[39mpretraining_tp \u001b[38;5;241m>\u001b[39m \u001b[38;5;241m1\u001b[39m:\n",
      "File \u001b[0;32m/opt/conda/lib/python3.10/site-packages/torch/nn/modules/module.py:1518\u001b[0m, in \u001b[0;36mModule._wrapped_call_impl\u001b[0;34m(self, *args, **kwargs)\u001b[0m\n\u001b[1;32m   1516\u001b[0m     \u001b[38;5;28;01mreturn\u001b[39;00m \u001b[38;5;28mself\u001b[39m\u001b[38;5;241m.\u001b[39m_compiled_call_impl(\u001b[38;5;241m*\u001b[39margs, \u001b[38;5;241m*\u001b[39m\u001b[38;5;241m*\u001b[39mkwargs)  \u001b[38;5;66;03m# type: ignore[misc]\u001b[39;00m\n\u001b[1;32m   1517\u001b[0m \u001b[38;5;28;01melse\u001b[39;00m:\n\u001b[0;32m-> 1518\u001b[0m     \u001b[38;5;28;01mreturn\u001b[39;00m \u001b[38;5;28;43mself\u001b[39;49m\u001b[38;5;241;43m.\u001b[39;49m\u001b[43m_call_impl\u001b[49m\u001b[43m(\u001b[49m\u001b[38;5;241;43m*\u001b[39;49m\u001b[43margs\u001b[49m\u001b[43m,\u001b[49m\u001b[43m \u001b[49m\u001b[38;5;241;43m*\u001b[39;49m\u001b[38;5;241;43m*\u001b[39;49m\u001b[43mkwargs\u001b[49m\u001b[43m)\u001b[49m\n",
      "File \u001b[0;32m/opt/conda/lib/python3.10/site-packages/torch/nn/modules/module.py:1527\u001b[0m, in \u001b[0;36mModule._call_impl\u001b[0;34m(self, *args, **kwargs)\u001b[0m\n\u001b[1;32m   1522\u001b[0m \u001b[38;5;66;03m# If we don't have any hooks, we want to skip the rest of the logic in\u001b[39;00m\n\u001b[1;32m   1523\u001b[0m \u001b[38;5;66;03m# this function, and just call forward.\u001b[39;00m\n\u001b[1;32m   1524\u001b[0m \u001b[38;5;28;01mif\u001b[39;00m \u001b[38;5;129;01mnot\u001b[39;00m (\u001b[38;5;28mself\u001b[39m\u001b[38;5;241m.\u001b[39m_backward_hooks \u001b[38;5;129;01mor\u001b[39;00m \u001b[38;5;28mself\u001b[39m\u001b[38;5;241m.\u001b[39m_backward_pre_hooks \u001b[38;5;129;01mor\u001b[39;00m \u001b[38;5;28mself\u001b[39m\u001b[38;5;241m.\u001b[39m_forward_hooks \u001b[38;5;129;01mor\u001b[39;00m \u001b[38;5;28mself\u001b[39m\u001b[38;5;241m.\u001b[39m_forward_pre_hooks\n\u001b[1;32m   1525\u001b[0m         \u001b[38;5;129;01mor\u001b[39;00m _global_backward_pre_hooks \u001b[38;5;129;01mor\u001b[39;00m _global_backward_hooks\n\u001b[1;32m   1526\u001b[0m         \u001b[38;5;129;01mor\u001b[39;00m _global_forward_hooks \u001b[38;5;129;01mor\u001b[39;00m _global_forward_pre_hooks):\n\u001b[0;32m-> 1527\u001b[0m     \u001b[38;5;28;01mreturn\u001b[39;00m \u001b[43mforward_call\u001b[49m\u001b[43m(\u001b[49m\u001b[38;5;241;43m*\u001b[39;49m\u001b[43margs\u001b[49m\u001b[43m,\u001b[49m\u001b[43m \u001b[49m\u001b[38;5;241;43m*\u001b[39;49m\u001b[38;5;241;43m*\u001b[39;49m\u001b[43mkwargs\u001b[49m\u001b[43m)\u001b[49m\n\u001b[1;32m   1529\u001b[0m \u001b[38;5;28;01mtry\u001b[39;00m:\n\u001b[1;32m   1530\u001b[0m     result \u001b[38;5;241m=\u001b[39m \u001b[38;5;28;01mNone\u001b[39;00m\n",
      "File \u001b[0;32m/opt/conda/lib/python3.10/site-packages/transformers/models/llama/modeling_llama.py:945\u001b[0m, in \u001b[0;36mLlamaModel.forward\u001b[0;34m(self, input_ids, attention_mask, position_ids, past_key_values, inputs_embeds, use_cache, output_attentions, output_hidden_states, return_dict, cache_position)\u001b[0m\n\u001b[1;32m    933\u001b[0m     layer_outputs \u001b[38;5;241m=\u001b[39m \u001b[38;5;28mself\u001b[39m\u001b[38;5;241m.\u001b[39m_gradient_checkpointing_func(\n\u001b[1;32m    934\u001b[0m         decoder_layer\u001b[38;5;241m.\u001b[39m\u001b[38;5;21m__call__\u001b[39m,\n\u001b[1;32m    935\u001b[0m         hidden_states,\n\u001b[0;32m   (...)\u001b[0m\n\u001b[1;32m    942\u001b[0m         position_embeddings,\n\u001b[1;32m    943\u001b[0m     )\n\u001b[1;32m    944\u001b[0m \u001b[38;5;28;01melse\u001b[39;00m:\n\u001b[0;32m--> 945\u001b[0m     layer_outputs \u001b[38;5;241m=\u001b[39m \u001b[43mdecoder_layer\u001b[49m\u001b[43m(\u001b[49m\n\u001b[1;32m    946\u001b[0m \u001b[43m        \u001b[49m\u001b[43mhidden_states\u001b[49m\u001b[43m,\u001b[49m\n\u001b[1;32m    947\u001b[0m \u001b[43m        \u001b[49m\u001b[43mattention_mask\u001b[49m\u001b[38;5;241;43m=\u001b[39;49m\u001b[43mcausal_mask\u001b[49m\u001b[43m,\u001b[49m\n\u001b[1;32m    948\u001b[0m \u001b[43m        \u001b[49m\u001b[43mposition_ids\u001b[49m\u001b[38;5;241;43m=\u001b[39;49m\u001b[43mposition_ids\u001b[49m\u001b[43m,\u001b[49m\n\u001b[1;32m    949\u001b[0m \u001b[43m        \u001b[49m\u001b[43mpast_key_value\u001b[49m\u001b[38;5;241;43m=\u001b[39;49m\u001b[43mpast_key_values\u001b[49m\u001b[43m,\u001b[49m\n\u001b[1;32m    950\u001b[0m \u001b[43m        \u001b[49m\u001b[43moutput_attentions\u001b[49m\u001b[38;5;241;43m=\u001b[39;49m\u001b[43moutput_attentions\u001b[49m\u001b[43m,\u001b[49m\n\u001b[1;32m    951\u001b[0m \u001b[43m        \u001b[49m\u001b[43muse_cache\u001b[49m\u001b[38;5;241;43m=\u001b[39;49m\u001b[43muse_cache\u001b[49m\u001b[43m,\u001b[49m\n\u001b[1;32m    952\u001b[0m \u001b[43m        \u001b[49m\u001b[43mcache_position\u001b[49m\u001b[38;5;241;43m=\u001b[39;49m\u001b[43mcache_position\u001b[49m\u001b[43m,\u001b[49m\n\u001b[1;32m    953\u001b[0m \u001b[43m        \u001b[49m\u001b[43mposition_embeddings\u001b[49m\u001b[38;5;241;43m=\u001b[39;49m\u001b[43mposition_embeddings\u001b[49m\u001b[43m,\u001b[49m\n\u001b[1;32m    954\u001b[0m \u001b[43m    \u001b[49m\u001b[43m)\u001b[49m\n\u001b[1;32m    956\u001b[0m hidden_states \u001b[38;5;241m=\u001b[39m layer_outputs[\u001b[38;5;241m0\u001b[39m]\n\u001b[1;32m    958\u001b[0m \u001b[38;5;28;01mif\u001b[39;00m use_cache:\n",
      "File \u001b[0;32m/opt/conda/lib/python3.10/site-packages/torch/nn/modules/module.py:1518\u001b[0m, in \u001b[0;36mModule._wrapped_call_impl\u001b[0;34m(self, *args, **kwargs)\u001b[0m\n\u001b[1;32m   1516\u001b[0m     \u001b[38;5;28;01mreturn\u001b[39;00m \u001b[38;5;28mself\u001b[39m\u001b[38;5;241m.\u001b[39m_compiled_call_impl(\u001b[38;5;241m*\u001b[39margs, \u001b[38;5;241m*\u001b[39m\u001b[38;5;241m*\u001b[39mkwargs)  \u001b[38;5;66;03m# type: ignore[misc]\u001b[39;00m\n\u001b[1;32m   1517\u001b[0m \u001b[38;5;28;01melse\u001b[39;00m:\n\u001b[0;32m-> 1518\u001b[0m     \u001b[38;5;28;01mreturn\u001b[39;00m \u001b[38;5;28;43mself\u001b[39;49m\u001b[38;5;241;43m.\u001b[39;49m\u001b[43m_call_impl\u001b[49m\u001b[43m(\u001b[49m\u001b[38;5;241;43m*\u001b[39;49m\u001b[43margs\u001b[49m\u001b[43m,\u001b[49m\u001b[43m \u001b[49m\u001b[38;5;241;43m*\u001b[39;49m\u001b[38;5;241;43m*\u001b[39;49m\u001b[43mkwargs\u001b[49m\u001b[43m)\u001b[49m\n",
      "File \u001b[0;32m/opt/conda/lib/python3.10/site-packages/torch/nn/modules/module.py:1527\u001b[0m, in \u001b[0;36mModule._call_impl\u001b[0;34m(self, *args, **kwargs)\u001b[0m\n\u001b[1;32m   1522\u001b[0m \u001b[38;5;66;03m# If we don't have any hooks, we want to skip the rest of the logic in\u001b[39;00m\n\u001b[1;32m   1523\u001b[0m \u001b[38;5;66;03m# this function, and just call forward.\u001b[39;00m\n\u001b[1;32m   1524\u001b[0m \u001b[38;5;28;01mif\u001b[39;00m \u001b[38;5;129;01mnot\u001b[39;00m (\u001b[38;5;28mself\u001b[39m\u001b[38;5;241m.\u001b[39m_backward_hooks \u001b[38;5;129;01mor\u001b[39;00m \u001b[38;5;28mself\u001b[39m\u001b[38;5;241m.\u001b[39m_backward_pre_hooks \u001b[38;5;129;01mor\u001b[39;00m \u001b[38;5;28mself\u001b[39m\u001b[38;5;241m.\u001b[39m_forward_hooks \u001b[38;5;129;01mor\u001b[39;00m \u001b[38;5;28mself\u001b[39m\u001b[38;5;241m.\u001b[39m_forward_pre_hooks\n\u001b[1;32m   1525\u001b[0m         \u001b[38;5;129;01mor\u001b[39;00m _global_backward_pre_hooks \u001b[38;5;129;01mor\u001b[39;00m _global_backward_hooks\n\u001b[1;32m   1526\u001b[0m         \u001b[38;5;129;01mor\u001b[39;00m _global_forward_hooks \u001b[38;5;129;01mor\u001b[39;00m _global_forward_pre_hooks):\n\u001b[0;32m-> 1527\u001b[0m     \u001b[38;5;28;01mreturn\u001b[39;00m \u001b[43mforward_call\u001b[49m\u001b[43m(\u001b[49m\u001b[38;5;241;43m*\u001b[39;49m\u001b[43margs\u001b[49m\u001b[43m,\u001b[49m\u001b[43m \u001b[49m\u001b[38;5;241;43m*\u001b[39;49m\u001b[38;5;241;43m*\u001b[39;49m\u001b[43mkwargs\u001b[49m\u001b[43m)\u001b[49m\n\u001b[1;32m   1529\u001b[0m \u001b[38;5;28;01mtry\u001b[39;00m:\n\u001b[1;32m   1530\u001b[0m     result \u001b[38;5;241m=\u001b[39m \u001b[38;5;28;01mNone\u001b[39;00m\n",
      "File \u001b[0;32m/opt/conda/lib/python3.10/site-packages/transformers/models/llama/modeling_llama.py:676\u001b[0m, in \u001b[0;36mLlamaDecoderLayer.forward\u001b[0;34m(self, hidden_states, attention_mask, position_ids, past_key_value, output_attentions, use_cache, cache_position, position_embeddings, **kwargs)\u001b[0m\n\u001b[1;32m    673\u001b[0m hidden_states \u001b[38;5;241m=\u001b[39m \u001b[38;5;28mself\u001b[39m\u001b[38;5;241m.\u001b[39minput_layernorm(hidden_states)\n\u001b[1;32m    675\u001b[0m \u001b[38;5;66;03m# Self Attention\u001b[39;00m\n\u001b[0;32m--> 676\u001b[0m hidden_states, self_attn_weights, present_key_value \u001b[38;5;241m=\u001b[39m \u001b[38;5;28;43mself\u001b[39;49m\u001b[38;5;241;43m.\u001b[39;49m\u001b[43mself_attn\u001b[49m\u001b[43m(\u001b[49m\n\u001b[1;32m    677\u001b[0m \u001b[43m    \u001b[49m\u001b[43mhidden_states\u001b[49m\u001b[38;5;241;43m=\u001b[39;49m\u001b[43mhidden_states\u001b[49m\u001b[43m,\u001b[49m\n\u001b[1;32m    678\u001b[0m \u001b[43m    \u001b[49m\u001b[43mattention_mask\u001b[49m\u001b[38;5;241;43m=\u001b[39;49m\u001b[43mattention_mask\u001b[49m\u001b[43m,\u001b[49m\n\u001b[1;32m    679\u001b[0m \u001b[43m    \u001b[49m\u001b[43mposition_ids\u001b[49m\u001b[38;5;241;43m=\u001b[39;49m\u001b[43mposition_ids\u001b[49m\u001b[43m,\u001b[49m\n\u001b[1;32m    680\u001b[0m \u001b[43m    \u001b[49m\u001b[43mpast_key_value\u001b[49m\u001b[38;5;241;43m=\u001b[39;49m\u001b[43mpast_key_value\u001b[49m\u001b[43m,\u001b[49m\n\u001b[1;32m    681\u001b[0m \u001b[43m    \u001b[49m\u001b[43moutput_attentions\u001b[49m\u001b[38;5;241;43m=\u001b[39;49m\u001b[43moutput_attentions\u001b[49m\u001b[43m,\u001b[49m\n\u001b[1;32m    682\u001b[0m \u001b[43m    \u001b[49m\u001b[43muse_cache\u001b[49m\u001b[38;5;241;43m=\u001b[39;49m\u001b[43muse_cache\u001b[49m\u001b[43m,\u001b[49m\n\u001b[1;32m    683\u001b[0m \u001b[43m    \u001b[49m\u001b[43mcache_position\u001b[49m\u001b[38;5;241;43m=\u001b[39;49m\u001b[43mcache_position\u001b[49m\u001b[43m,\u001b[49m\n\u001b[1;32m    684\u001b[0m \u001b[43m    \u001b[49m\u001b[43mposition_embeddings\u001b[49m\u001b[38;5;241;43m=\u001b[39;49m\u001b[43mposition_embeddings\u001b[49m\u001b[43m,\u001b[49m\n\u001b[1;32m    685\u001b[0m \u001b[43m    \u001b[49m\u001b[38;5;241;43m*\u001b[39;49m\u001b[38;5;241;43m*\u001b[39;49m\u001b[43mkwargs\u001b[49m\u001b[43m,\u001b[49m\n\u001b[1;32m    686\u001b[0m \u001b[43m\u001b[49m\u001b[43m)\u001b[49m\n\u001b[1;32m    687\u001b[0m hidden_states \u001b[38;5;241m=\u001b[39m residual \u001b[38;5;241m+\u001b[39m hidden_states\n\u001b[1;32m    689\u001b[0m \u001b[38;5;66;03m# Fully Connected\u001b[39;00m\n",
      "File \u001b[0;32m/opt/conda/lib/python3.10/site-packages/torch/nn/modules/module.py:1518\u001b[0m, in \u001b[0;36mModule._wrapped_call_impl\u001b[0;34m(self, *args, **kwargs)\u001b[0m\n\u001b[1;32m   1516\u001b[0m     \u001b[38;5;28;01mreturn\u001b[39;00m \u001b[38;5;28mself\u001b[39m\u001b[38;5;241m.\u001b[39m_compiled_call_impl(\u001b[38;5;241m*\u001b[39margs, \u001b[38;5;241m*\u001b[39m\u001b[38;5;241m*\u001b[39mkwargs)  \u001b[38;5;66;03m# type: ignore[misc]\u001b[39;00m\n\u001b[1;32m   1517\u001b[0m \u001b[38;5;28;01melse\u001b[39;00m:\n\u001b[0;32m-> 1518\u001b[0m     \u001b[38;5;28;01mreturn\u001b[39;00m \u001b[38;5;28;43mself\u001b[39;49m\u001b[38;5;241;43m.\u001b[39;49m\u001b[43m_call_impl\u001b[49m\u001b[43m(\u001b[49m\u001b[38;5;241;43m*\u001b[39;49m\u001b[43margs\u001b[49m\u001b[43m,\u001b[49m\u001b[43m \u001b[49m\u001b[38;5;241;43m*\u001b[39;49m\u001b[38;5;241;43m*\u001b[39;49m\u001b[43mkwargs\u001b[49m\u001b[43m)\u001b[49m\n",
      "File \u001b[0;32m/opt/conda/lib/python3.10/site-packages/torch/nn/modules/module.py:1527\u001b[0m, in \u001b[0;36mModule._call_impl\u001b[0;34m(self, *args, **kwargs)\u001b[0m\n\u001b[1;32m   1522\u001b[0m \u001b[38;5;66;03m# If we don't have any hooks, we want to skip the rest of the logic in\u001b[39;00m\n\u001b[1;32m   1523\u001b[0m \u001b[38;5;66;03m# this function, and just call forward.\u001b[39;00m\n\u001b[1;32m   1524\u001b[0m \u001b[38;5;28;01mif\u001b[39;00m \u001b[38;5;129;01mnot\u001b[39;00m (\u001b[38;5;28mself\u001b[39m\u001b[38;5;241m.\u001b[39m_backward_hooks \u001b[38;5;129;01mor\u001b[39;00m \u001b[38;5;28mself\u001b[39m\u001b[38;5;241m.\u001b[39m_backward_pre_hooks \u001b[38;5;129;01mor\u001b[39;00m \u001b[38;5;28mself\u001b[39m\u001b[38;5;241m.\u001b[39m_forward_hooks \u001b[38;5;129;01mor\u001b[39;00m \u001b[38;5;28mself\u001b[39m\u001b[38;5;241m.\u001b[39m_forward_pre_hooks\n\u001b[1;32m   1525\u001b[0m         \u001b[38;5;129;01mor\u001b[39;00m _global_backward_pre_hooks \u001b[38;5;129;01mor\u001b[39;00m _global_backward_hooks\n\u001b[1;32m   1526\u001b[0m         \u001b[38;5;129;01mor\u001b[39;00m _global_forward_hooks \u001b[38;5;129;01mor\u001b[39;00m _global_forward_pre_hooks):\n\u001b[0;32m-> 1527\u001b[0m     \u001b[38;5;28;01mreturn\u001b[39;00m \u001b[43mforward_call\u001b[49m\u001b[43m(\u001b[49m\u001b[38;5;241;43m*\u001b[39;49m\u001b[43margs\u001b[49m\u001b[43m,\u001b[49m\u001b[43m \u001b[49m\u001b[38;5;241;43m*\u001b[39;49m\u001b[38;5;241;43m*\u001b[39;49m\u001b[43mkwargs\u001b[49m\u001b[43m)\u001b[49m\n\u001b[1;32m   1529\u001b[0m \u001b[38;5;28;01mtry\u001b[39;00m:\n\u001b[1;32m   1530\u001b[0m     result \u001b[38;5;241m=\u001b[39m \u001b[38;5;28;01mNone\u001b[39;00m\n",
      "File \u001b[0;32m/opt/conda/lib/python3.10/site-packages/transformers/models/llama/modeling_llama.py:357\u001b[0m, in \u001b[0;36mLlamaAttention.forward\u001b[0;34m(self, hidden_states, attention_mask, position_ids, past_key_value, output_attentions, use_cache, cache_position, position_embeddings, **kwargs)\u001b[0m\n\u001b[1;32m    355\u001b[0m \u001b[38;5;28;01melse\u001b[39;00m:\n\u001b[1;32m    356\u001b[0m     cos, sin \u001b[38;5;241m=\u001b[39m position_embeddings\n\u001b[0;32m--> 357\u001b[0m query_states, key_states \u001b[38;5;241m=\u001b[39m \u001b[43mapply_rotary_pos_emb\u001b[49m\u001b[43m(\u001b[49m\u001b[43mquery_states\u001b[49m\u001b[43m,\u001b[49m\u001b[43m \u001b[49m\u001b[43mkey_states\u001b[49m\u001b[43m,\u001b[49m\u001b[43m \u001b[49m\u001b[43mcos\u001b[49m\u001b[43m,\u001b[49m\u001b[43m \u001b[49m\u001b[43msin\u001b[49m\u001b[43m)\u001b[49m\n\u001b[1;32m    359\u001b[0m \u001b[38;5;28;01mif\u001b[39;00m past_key_value \u001b[38;5;129;01mis\u001b[39;00m \u001b[38;5;129;01mnot\u001b[39;00m \u001b[38;5;28;01mNone\u001b[39;00m:\n\u001b[1;32m    360\u001b[0m     \u001b[38;5;66;03m# sin and cos are specific to RoPE models; cache_position needed for the static cache\u001b[39;00m\n\u001b[1;32m    361\u001b[0m     cache_kwargs \u001b[38;5;241m=\u001b[39m {\u001b[38;5;124m\"\u001b[39m\u001b[38;5;124msin\u001b[39m\u001b[38;5;124m\"\u001b[39m: sin, \u001b[38;5;124m\"\u001b[39m\u001b[38;5;124mcos\u001b[39m\u001b[38;5;124m\"\u001b[39m: cos, \u001b[38;5;124m\"\u001b[39m\u001b[38;5;124mcache_position\u001b[39m\u001b[38;5;124m\"\u001b[39m: cache_position}\n",
      "File \u001b[0;32m/opt/conda/lib/python3.10/site-packages/transformers/models/llama/modeling_llama.py:224\u001b[0m, in \u001b[0;36mapply_rotary_pos_emb\u001b[0;34m(q, k, cos, sin, position_ids, unsqueeze_dim)\u001b[0m\n\u001b[1;32m    222\u001b[0m cos \u001b[38;5;241m=\u001b[39m cos\u001b[38;5;241m.\u001b[39munsqueeze(unsqueeze_dim)\n\u001b[1;32m    223\u001b[0m sin \u001b[38;5;241m=\u001b[39m sin\u001b[38;5;241m.\u001b[39munsqueeze(unsqueeze_dim)\n\u001b[0;32m--> 224\u001b[0m q_embed \u001b[38;5;241m=\u001b[39m (q \u001b[38;5;241m*\u001b[39m cos) \u001b[38;5;241m+\u001b[39m (\u001b[43mrotate_half\u001b[49m\u001b[43m(\u001b[49m\u001b[43mq\u001b[49m\u001b[43m)\u001b[49m \u001b[38;5;241m*\u001b[39m sin)\n\u001b[1;32m    225\u001b[0m k_embed \u001b[38;5;241m=\u001b[39m (k \u001b[38;5;241m*\u001b[39m cos) \u001b[38;5;241m+\u001b[39m (rotate_half(k) \u001b[38;5;241m*\u001b[39m sin)\n\u001b[1;32m    226\u001b[0m \u001b[38;5;28;01mreturn\u001b[39;00m q_embed, k_embed\n",
      "File \u001b[0;32m/opt/conda/lib/python3.10/site-packages/transformers/models/llama/modeling_llama.py:199\u001b[0m, in \u001b[0;36mrotate_half\u001b[0;34m(x)\u001b[0m\n\u001b[1;32m    197\u001b[0m x1 \u001b[38;5;241m=\u001b[39m x[\u001b[38;5;241m.\u001b[39m\u001b[38;5;241m.\u001b[39m\u001b[38;5;241m.\u001b[39m, : x\u001b[38;5;241m.\u001b[39mshape[\u001b[38;5;241m-\u001b[39m\u001b[38;5;241m1\u001b[39m] \u001b[38;5;241m/\u001b[39m\u001b[38;5;241m/\u001b[39m \u001b[38;5;241m2\u001b[39m]\n\u001b[1;32m    198\u001b[0m x2 \u001b[38;5;241m=\u001b[39m x[\u001b[38;5;241m.\u001b[39m\u001b[38;5;241m.\u001b[39m\u001b[38;5;241m.\u001b[39m, x\u001b[38;5;241m.\u001b[39mshape[\u001b[38;5;241m-\u001b[39m\u001b[38;5;241m1\u001b[39m] \u001b[38;5;241m/\u001b[39m\u001b[38;5;241m/\u001b[39m \u001b[38;5;241m2\u001b[39m :]\n\u001b[0;32m--> 199\u001b[0m \u001b[38;5;28;01mreturn\u001b[39;00m \u001b[43mtorch\u001b[49m\u001b[38;5;241;43m.\u001b[39;49m\u001b[43mcat\u001b[49m\u001b[43m(\u001b[49m\u001b[43m(\u001b[49m\u001b[38;5;241;43m-\u001b[39;49m\u001b[43mx2\u001b[49m\u001b[43m,\u001b[49m\u001b[43m \u001b[49m\u001b[43mx1\u001b[49m\u001b[43m)\u001b[49m\u001b[43m,\u001b[49m\u001b[43m \u001b[49m\u001b[43mdim\u001b[49m\u001b[38;5;241;43m=\u001b[39;49m\u001b[38;5;241;43m-\u001b[39;49m\u001b[38;5;241;43m1\u001b[39;49m\u001b[43m)\u001b[49m\n",
      "\u001b[0;31mKeyboardInterrupt\u001b[0m: "
     ]
    }
   ],
   "source": [
    "# 노이즈가 있는 뉴스 기사 제목\n",
    "ko2en = df.copy()\n",
    "for tidx, kor_title in enumerate(df['text']) :\n",
    "    prompt = f\"\"\"You are an AI translator proficient in both Korean and English. Please translate the following Korean sentence into English.\n",
    "                Korean sentence: '{kor_title}'\n",
    "                \n",
    "                Please follow these guidelines when translating:\n",
    "                1. Translate the Korean text into English. While doing so, maintain the original meaning of the sentence and consider the context to provide a natural translation.\n",
    "                2. If there are any awkward parts in the text, please revise them to make them more natural. \n",
    "                3. If there are any incomplete or insufficient parts, please fill them in or expand on them as necessary.\n",
    "                4. Adjust the translated result to fit the format of a news article headline, making it sound natural.\n",
    "\n",
    "                Translated headline:\"\"\"\n",
    "\n",
    "    inputs = tokenizer(prompt, return_tensors=\"pt\").to(model.device)\n",
    "\n",
    "    with torch.no_grad():\n",
    "        outputs = model.generate(\n",
    "            **inputs,\n",
    "            max_new_tokens=150,\n",
    "            num_return_sequences=1,\n",
    "            temperature=0.7,\n",
    "            top_p=0.95,\n",
    "            do_sample=True\n",
    "        )\n",
    "\n",
    "    generated_text = tokenizer.decode(outputs[0], skip_special_tokens=True)\n",
    "    cleaned_text = generated_text.split(\"Translated headline:\")[-1].split('\\n')[0].strip()\n",
    "    ko2en.loc[tidx, 'text'] = cleaned_text\n",
    "\n",
    "ko2en.to_csv(f'./data/cleaning_BT/k2e.csv', index=False)\n",
    "\n",
    "en2ko = ko2en.copy()\n",
    "for tidx, en_title in enumerate(ko2en['text']) :\n",
    "    prompt = f\"\"\"당신은 한국어와 영어에 능통한 AI 번역가입니다. 다음 영어 문장을 한국어로 번역해주세요.\n",
    "                영어 문장: '{en_title}'\n",
    "                \n",
    "                번역 시 다음 지침을 따라주세요:\n",
    "                1. 영어 텍스트를 한국어로 번역하세요. 이 과정에서 문장의 원래 의미를 유지하고 맥락을 고려하여 자연스러운 번역을 제공하세요.\n",
    "                2. 텍스트에 어색한 부분이 있다면 더 자연스럽게 수정해주세요.\n",
    "                3. 불완전하거나 부족한 부분이 있다면 필요에 따라 채우거나 확장해주세요.\n",
    "                4. 번역된 결과를 뉴스 기사 헤드라인 형식에 맞게 조정하여 자연스러운 뉴스기사 제목이 되도록 만드세요.\n",
    "\n",
    "                번역된 헤드라인:\"\"\"\n",
    "\n",
    "    inputs = tokenizer(prompt, return_tensors=\"pt\").to(model.device)\n",
    "\n",
    "    with torch.no_grad():\n",
    "        outputs = model.generate(\n",
    "            **inputs,\n",
    "            max_new_tokens=150,\n",
    "            num_return_sequences=1,\n",
    "            temperature=0.7,\n",
    "            top_p=0.95,\n",
    "            do_sample=True\n",
    "        )\n",
    "\n",
    "    generated_text = tokenizer.decode(outputs[0], skip_special_tokens=True)\n",
    "    cleaned_text = generated_text.split(\"번역된 헤드라인:\")[-1].split('\\n')[0].strip()\n",
    "    en2ko.loc[tidx, 'text'] = cleaned_text\n",
    "\n",
    "en2ko.to_csv(f'./data/cleaning_BT/e2k.csv', index=False)\n"
   ]
  },
  {
   "cell_type": "code",
   "execution_count": null,
   "metadata": {},
   "outputs": [
    {
     "name": "stderr",
     "output_type": "stream",
     "text": [
      "Setting `pad_token_id` to `eos_token_id`:None for open-end generation.\n",
      "Setting `pad_token_id` to `eos_token_id`:None for open-end generation.\n"
     ]
    },
    {
     "name": "stdout",
     "output_type": "stream",
     "text": [
      "origin :  KISA's Park Min-jeong, Elected as APTLD Director\n",
      "cleaned :   KISA 박민정, APTLD 회장으로 당선\n"
     ]
    },
    {
     "name": "stderr",
     "output_type": "stream",
     "text": [
      "Setting `pad_token_id` to `eos_token_id`:None for open-end generation.\n"
     ]
    },
    {
     "name": "stdout",
     "output_type": "stream",
     "text": [
      "origin :  Real Madrid and Atletico Madrid face off in the UEFA Champions League 4th round Madrid Derby\n",
      "cleaned :   UEFA 챔피언스리그 4차전 마드리드 더비: 레알 마드리드와 아틀레티코 마드리드 대결\n"
     ]
    },
    {
     "name": "stderr",
     "output_type": "stream",
     "text": [
      "Setting `pad_token_id` to `eos_token_id`:None for open-end generation.\n"
     ]
    },
    {
     "name": "stdout",
     "output_type": "stream",
     "text": [
      "origin :  Bentley's Aston Martin Spas to be produced domestically in 4500 units\n",
      "cleaned :   벤트리의 애스턴 마틴 스파 4500대 국내 생산\n"
     ]
    },
    {
     "name": "stderr",
     "output_type": "stream",
     "text": [
      "Setting `pad_token_id` to `eos_token_id`:None for open-end generation.\n"
     ]
    },
    {
     "name": "stdout",
     "output_type": "stream",
     "text": [
      "origin :  'Toilet in 6 test centers of the College Scholastic Ability Test (Suneung) on Ulleungdo Island'\n",
      "cleaned :   \"울릉도에서 실시되는 대학 수능 시험 6개 시험장의 화장실 문제\"\n"
     ]
    },
    {
     "name": "stderr",
     "output_type": "stream",
     "text": [
      "Setting `pad_token_id` to `eos_token_id`:None for open-end generation.\n"
     ]
    },
    {
     "name": "stdout",
     "output_type": "stream",
     "text": [
      "origin :  New Book \"Intellectual Capitalism and Social Enterprises\" Released\n",
      "cleaned :   \"지적 자본주의와 사회적 기업\"이라는 새로운 책 출간\n"
     ]
    },
    {
     "name": "stderr",
     "output_type": "stream",
     "text": [
      "Setting `pad_token_id` to `eos_token_id`:None for open-end generation.\n"
     ]
    },
    {
     "name": "stdout",
     "output_type": "stream",
     "text": [
      "origin :  Today, the air quality is moderate due to fine dust, but it is expected to improve gradually from the afternoon.\n",
      "cleaned :   오늘 미세먼지가 약간 높아 공기 질이 보통이지만 오후부터 점차 개선될 것으로 예상됩니다.\n"
     ]
    },
    {
     "name": "stderr",
     "output_type": "stream",
     "text": [
      "Setting `pad_token_id` to `eos_token_id`:None for open-end generation.\n"
     ]
    },
    {
     "name": "stdout",
     "output_type": "stream",
     "text": [
      "origin :  K-pop Star Radio Show at Daehwa Station\n",
      "cleaned :   대화역 K-POP 스타 라디오 쇼\n"
     ]
    },
    {
     "name": "stderr",
     "output_type": "stream",
     "text": [
      "Setting `pad_token_id` to `eos_token_id`:None for open-end generation.\n"
     ]
    },
    {
     "name": "stdout",
     "output_type": "stream",
     "text": [
      "origin :  President Park Meets TK Congressman for 110 Minutes, Listens to Public Opinion on THAAD\n",
      "cleaned :   박 대통령, TK 의원과 110분간 만나, THAAD에 대한 국민 의견\n"
     ]
    },
    {
     "name": "stderr",
     "output_type": "stream",
     "text": [
      "Setting `pad_token_id` to `eos_token_id`:None for open-end generation.\n"
     ]
    },
    {
     "name": "stdout",
     "output_type": "stream",
     "text": [
      "origin :  Pottery Works, Expecting Visitors from Around the World\n",
      "cleaned :   세계 각국의 방문객들을 맞이할 예정이랍니다. \n"
     ]
    },
    {
     "name": "stderr",
     "output_type": "stream",
     "text": [
      "Setting `pad_token_id` to `eos_token_id`:None for open-end generation.\n"
     ]
    },
    {
     "name": "stdout",
     "output_type": "stream",
     "text": [
      "origin :  Group C Pic Seooul 9:01 am Ilgang I\n",
      "cleaned :   그룹 C의 사진, 서울 9:01 오전 이강 이\n"
     ]
    },
    {
     "name": "stderr",
     "output_type": "stream",
     "text": [
      "Setting `pad_token_id` to `eos_token_id`:None for open-end generation.\n"
     ]
    },
    {
     "name": "stdout",
     "output_type": "stream",
     "text": [
      "origin :  The Importance of Managing Pet Health with AI Horse Travel\n",
      "cleaned :   AI말로 동물 건강 관리하기: 말 여행의 중요성\n"
     ]
    },
    {
     "name": "stderr",
     "output_type": "stream",
     "text": [
      "Setting `pad_token_id` to `eos_token_id`:None for open-end generation.\n"
     ]
    },
    {
     "name": "stdout",
     "output_type": "stream",
     "text": [
      "origin :  A Thrilling Experience with Luxury: 3 Munji Literature Works\n",
      "cleaned :   고급스러운 경험의 스릴: 3개의 문지 문학 작품\n"
     ]
    },
    {
     "name": "stderr",
     "output_type": "stream",
     "text": [
      "Setting `pad_token_id` to `eos_token_id`:None for open-end generation.\n"
     ]
    },
    {
     "name": "stdout",
     "output_type": "stream",
     "text": [
      "origin :  3 Koreans to Appear in Japan's 'Egoyeonjeok' Play\n",
      "cleaned :   3 한국인이 일본의 '에고연적' 연극에 출연\n"
     ]
    },
    {
     "name": "stderr",
     "output_type": "stream",
     "text": [
      "Setting `pad_token_id` to `eos_token_id`:None for open-end generation.\n"
     ]
    },
    {
     "name": "stdout",
     "output_type": "stream",
     "text": [
      "origin :  SPT Dropped, Suspected to be a 4th Floor Robbery Incident\n",
      "cleaned :   4층 강도 사건으로 의심받는 SPT 무단 방류 사건 발생\n"
     ]
    },
    {
     "name": "stderr",
     "output_type": "stream",
     "text": [
      "Setting `pad_token_id` to `eos_token_id`:None for open-end generation.\n"
     ]
    },
    {
     "name": "stdout",
     "output_type": "stream",
     "text": [
      "origin :  Incheon Gyeyang-gu Morning 7:01 am 1st Issue Hacked\n",
      "cleaned :   인천 계양구 아침 7:01 1차 발행자 해킹\n"
     ]
    },
    {
     "name": "stderr",
     "output_type": "stream",
     "text": [
      "Setting `pad_token_id` to `eos_token_id`:None for open-end generation.\n"
     ]
    },
    {
     "name": "stdout",
     "output_type": "stream",
     "text": [
      "origin :  Hottest Summer Day, Mjonghwa-gwan Exhibition Popular Among Outdoor Visitors\n",
      "cleaned :   가득한 여름날, 바깥 방문객들에게 인기있는 무궁화관 전시회\n"
     ]
    },
    {
     "name": "stderr",
     "output_type": "stream",
     "text": [
      "Setting `pad_token_id` to `eos_token_id`:None for open-end generation.\n"
     ]
    },
    {
     "name": "stdout",
     "output_type": "stream",
     "text": [
      "origin :  A Blizzard Warning is Issued in 6 Cities in Gyeonggi-do Province at Midnight. \n",
      "cleaned :   새벽 12시에 경기도 6개 시에서 폭풍 경보 발령\n"
     ]
    },
    {
     "name": "stderr",
     "output_type": "stream",
     "text": [
      "Setting `pad_token_id` to `eos_token_id`:None for open-end generation.\n"
     ]
    },
    {
     "name": "stdout",
     "output_type": "stream",
     "text": [
      "origin :  Equine and Women's Sovereignty: Intangible Cultural Heritage of Humanity and Marine Culture\n",
      "cleaned :   말과 여성의 자주권: 인류 무형문화유산과 해양문화\n"
     ]
    },
    {
     "name": "stderr",
     "output_type": "stream",
     "text": [
      "Setting `pad_token_id` to `eos_token_id`:None for open-end generation.\n"
     ]
    },
    {
     "name": "stdout",
     "output_type": "stream",
     "text": [
      "origin :  5-Day Golden Holiday: Free Apartment Use Rights!\n",
      "cleaned :   5일간의 황금 휴일: 무료 아파트 사용권!\n"
     ]
    },
    {
     "name": "stderr",
     "output_type": "stream",
     "text": [
      "Setting `pad_token_id` to `eos_token_id`:None for open-end generation.\n"
     ]
    },
    {
     "name": "stdout",
     "output_type": "stream",
     "text": [
      "origin :  Yeoncheon Shivers in Record-Breaking Cold, Dipping to -9 Degrees Celsius\n",
      "cleaned :   연천서 기록적인 추위, 최저 -9도까지 내려가\n"
     ]
    },
    {
     "name": "stderr",
     "output_type": "stream",
     "text": [
      "Setting `pad_token_id` to `eos_token_id`:None for open-end generation.\n"
     ]
    },
    {
     "name": "stdout",
     "output_type": "stream",
     "text": [
      "origin :  Fire Safety Meeting Held on August 6th\n",
      "cleaned :   8월 6일 화재\n"
     ]
    },
    {
     "name": "stderr",
     "output_type": "stream",
     "text": [
      "Setting `pad_token_id` to `eos_token_id`:None for open-end generation.\n"
     ]
    },
    {
     "name": "stdout",
     "output_type": "stream",
     "text": [
      "origin :  Jeju Island Travel Agency M: 4-Color Valley Festival\n",
      "cleaned :   제주도 여행사 M: 4색 계곡 축제\n"
     ]
    },
    {
     "name": "stderr",
     "output_type": "stream",
     "text": [
      "Setting `pad_token_id` to `eos_token_id`:None for open-end generation.\n"
     ]
    },
    {
     "name": "stdout",
     "output_type": "stream",
     "text": [
      "origin :  Hitejinro, 9 areas in Gyeonggi Province designated as top 5 dangerous fine dust areas\n",
      "cleaned :   경기도 9개 지역, 지니로가 선정한 톱 5 대\n"
     ]
    },
    {
     "name": "stderr",
     "output_type": "stream",
     "text": [
      "Setting `pad_token_id` to `eos_token_id`:None for open-end generation.\n"
     ]
    },
    {
     "name": "stdout",
     "output_type": "stream",
     "text": [
      "origin :  Master W, who has been in the industry for 30 years, passed away. \n",
      "cleaned :   30년간 산업계에서 활동한 마스터 W, 서거함.\n"
     ]
    },
    {
     "name": "stderr",
     "output_type": "stream",
     "text": [
      "Setting `pad_token_id` to `eos_token_id`:None for open-end generation.\n"
     ]
    },
    {
     "name": "stdout",
     "output_type": "stream",
     "text": [
      "origin :  Water and Air Pollution Crisis in the Face of Rising Sea Levels and Air Pollution\n",
      "cleaned :   수위와 공기 오염 위기, 상승하는 해수면과 공기 오염에 직면함\n"
     ]
    },
    {
     "name": "stderr",
     "output_type": "stream",
     "text": [
      "Setting `pad_token_id` to `eos_token_id`:None for open-end generation.\n"
     ]
    },
    {
     "name": "stdout",
     "output_type": "stream",
     "text": [
      "origin :  NH Nonghyup Card AI Development Project Approved\n",
      "cleaned :   농협카드 AI 개발 프로젝트 승인\n"
     ]
    },
    {
     "name": "stderr",
     "output_type": "stream",
     "text": [
      "Setting `pad_token_id` to `eos_token_id`:None for open-end generation.\n"
     ]
    },
    {
     "name": "stdout",
     "output_type": "stream",
     "text": [
      "origin :  New Candlelight Vigil, Simultaneous on March 9th\n",
      "cleaned :   새로운 촛불시위, 3월 9일 동시 개최\n"
     ]
    },
    {
     "name": "stderr",
     "output_type": "stream",
     "text": [
      "Setting `pad_token_id` to `eos_token_id`:None for open-end generation.\n"
     ]
    },
    {
     "name": "stdout",
     "output_type": "stream",
     "text": [
      "origin :  Warm weather in the central region continues until late at night, reaching 19 degrees Celsius. \n",
      "cleaned :   센트럴지역은 밤늦게까지 온난한 날씨 지속, 최고 19도까지 상승\n"
     ]
    },
    {
     "name": "stderr",
     "output_type": "stream",
     "text": [
      "Setting `pad_token_id` to `eos_token_id`:None for open-end generation.\n"
     ]
    },
    {
     "name": "stdout",
     "output_type": "stream",
     "text": [
      "origin :  8th Photo Exhibition: V-NOW, New City Star\n",
      "cleaned :  \n"
     ]
    },
    {
     "name": "stderr",
     "output_type": "stream",
     "text": [
      "Setting `pad_token_id` to `eos_token_id`:None for open-end generation.\n"
     ]
    },
    {
     "name": "stdout",
     "output_type": "stream",
     "text": [
      "origin :  Reka Transmara J. Ha 4 is on fire!\n",
      "cleaned :   재카 트란스마라 J. 하 4가 불타고 있다!\n"
     ]
    },
    {
     "name": "stderr",
     "output_type": "stream",
     "text": [
      "Setting `pad_token_id` to `eos_token_id`:None for open-end generation.\n"
     ]
    },
    {
     "name": "stdout",
     "output_type": "stream",
     "text": [
      "origin :  SK Telecom and Yucon Systems Cooperate on 5G Drone ICT Solution Development\n",
      "cleaned :   SK텔레콤과 유콘 시스템즈, 5G 드론 ICT 솔루\n"
     ]
    },
    {
     "name": "stderr",
     "output_type": "stream",
     "text": [
      "Setting `pad_token_id` to `eos_token_id`:None for open-end generation.\n"
     ]
    },
    {
     "name": "stdout",
     "output_type": "stream",
     "text": [
      "origin :  Bestseller Rights Pre-Contracted in Large Bookstore for the First Time\n",
      "cleaned :   대형 서점에서 베스트셀러 권리 최초로 사전 계약\n"
     ]
    },
    {
     "name": "stderr",
     "output_type": "stream",
     "text": [
      "Setting `pad_token_id` to `eos_token_id`:None for open-end generation.\n"
     ]
    },
    {
     "name": "stdout",
     "output_type": "stream",
     "text": [
      "origin :  Revisiting the history of Yu Bang, the story of the Independence Movement written by Cho So-ang\n",
      "cleaned :   유방의 역사를 다시 조명하다: 독립운동의 이야기, 조소앙\n"
     ]
    },
    {
     "name": "stderr",
     "output_type": "stream",
     "text": [
      "Setting `pad_token_id` to `eos_token_id`:None for open-end generation.\n"
     ]
    },
    {
     "name": "stdout",
     "output_type": "stream",
     "text": [
      "origin :  Vietnamese Curry Remains Top Seller for Sixth Week, a Favorite Among Diners\n",
      "cleaned :   베트남 커리는 6주째 판매 1위, 식객들의 인기 메뉴로 지속 인기\n"
     ]
    },
    {
     "name": "stderr",
     "output_type": "stream",
     "text": [
      "Setting `pad_token_id` to `eos_token_id`:None for open-end generation.\n"
     ]
    },
    {
     "name": "stdout",
     "output_type": "stream",
     "text": [
      "origin :  Newspaper Suspect Interview\n",
      "cleaned :   신문사 용의자 인터뷰\n"
     ]
    },
    {
     "name": "stderr",
     "output_type": "stream",
     "text": [
      "Setting `pad_token_id` to `eos_token_id`:None for open-end generation.\n"
     ]
    },
    {
     "name": "stdout",
     "output_type": "stream",
     "text": [
      "origin :  The Future of Isan and the Military Influence on the Ryonggyong Valley\n",
      "cleaned :   이산의 미래와 용경 계곡에 대한 군사적 영향\n"
     ]
    },
    {
     "name": "stderr",
     "output_type": "stream",
     "text": [
      "Setting `pad_token_id` to `eos_token_id`:None for open-end generation.\n"
     ]
    },
    {
     "name": "stdout",
     "output_type": "stream",
     "text": [
      "origin :  The National Language Research Institute of Korea: U-sang Kim, Do-jeon Hun, Soon-ok Kim, and Ye-ri Park\n",
      "cleaned :   한국어 국립언어연구원: 김우상, 훈도전, 김순옥, 박예리\n"
     ]
    },
    {
     "name": "stderr",
     "output_type": "stream",
     "text": [
      "Setting `pad_token_id` to `eos_token_id`:None for open-end generation.\n"
     ]
    },
    {
     "name": "stdout",
     "output_type": "stream",
     "text": [
      "origin :  R Village Trapped in Storm, Amount of Snowfall So Far\n",
      "cleaned :   폭풍 속에 갇힌 R 마을, 지금까지의 눈 강우량\n"
     ]
    },
    {
     "name": "stderr",
     "output_type": "stream",
     "text": [
      "Setting `pad_token_id` to `eos_token_id`:None for open-end generation.\n"
     ]
    },
    {
     "name": "stdout",
     "output_type": "stream",
     "text": [
      "origin :  Lung Injury and Trauma 3rd Stage\n",
      "cleaned :   폐 부상 및 외상 3단계\n"
     ]
    },
    {
     "name": "stderr",
     "output_type": "stream",
     "text": [
      "Setting `pad_token_id` to `eos_token_id`:None for open-end generation.\n"
     ]
    },
    {
     "name": "stdout",
     "output_type": "stream",
     "text": [
      "origin :  Public Reaction to the Decision to Abolish the Whaling Industry\n",
      "cleaned :   국민들의 반응: 월어 산업 폐지 결정\n"
     ]
    },
    {
     "name": "stderr",
     "output_type": "stream",
     "text": [
      "Setting `pad_token_id` to `eos_token_id`:None for open-end generation.\n"
     ]
    },
    {
     "name": "stdout",
     "output_type": "stream",
     "text": [
      "origin :  A new era of popularity: The buzz around reading \"T자 데리\"\n",
      "cleaned :   새 인기 시대: 'T자 데리' 읽기의 인기\n"
     ]
    },
    {
     "name": "stderr",
     "output_type": "stream",
     "text": [
      "Setting `pad_token_id` to `eos_token_id`:None for open-end generation.\n"
     ]
    },
    {
     "name": "stdout",
     "output_type": "stream",
     "text": [
      "origin :  Evening temperature in western region 14 degrees, lower than average.\n",
      "cleaned :   서부 지역 저녁 기온 14도, 평균치보다 낮아\n"
     ]
    },
    {
     "name": "stderr",
     "output_type": "stream",
     "text": [
      "Setting `pad_token_id` to `eos_token_id`:None for open-end generation.\n"
     ]
    },
    {
     "name": "stdout",
     "output_type": "stream",
     "text": [
      "origin :  UEFA Inquiries Into Paris Saint-Germain's Potential FFP Violations\n",
      "cleaned :   UEFA, 파리 생제르맹의 잠재적 FFP 위반 조사 진행\n"
     ]
    },
    {
     "name": "stderr",
     "output_type": "stream",
     "text": [
      "Setting `pad_token_id` to `eos_token_id`:None for open-end generation.\n"
     ]
    },
    {
     "name": "stdout",
     "output_type": "stream",
     "text": [
      "origin :  One Day to Feel Europe Travel \n",
      "cleaned :   유럽 여행을 한 번에 느낄 수 있는 하루\n"
     ]
    },
    {
     "name": "stderr",
     "output_type": "stream",
     "text": [
      "Setting `pad_token_id` to `eos_token_id`:None for open-end generation.\n"
     ]
    },
    {
     "name": "stdout",
     "output_type": "stream",
     "text": [
      "origin :  North Gyeongsang Province Extends the Regional Autonomy Alert by 1 Hour\n",
      "cleaned :   경북 북부, 지역자치 경보 1시간 연장\n"
     ]
    },
    {
     "name": "stderr",
     "output_type": "stream",
     "text": [
      "Setting `pad_token_id` to `eos_token_id`:None for open-end generation.\n"
     ]
    },
    {
     "name": "stdout",
     "output_type": "stream",
     "text": [
      "origin :  The trial date has been postponed to Oth of October\n",
      "cleaned :   10월 8일로 연기된 재판 날짜\n"
     ]
    },
    {
     "name": "stderr",
     "output_type": "stream",
     "text": [
      "Setting `pad_token_id` to `eos_token_id`:None for open-end generation.\n"
     ]
    },
    {
     "name": "stdout",
     "output_type": "stream",
     "text": [
      "origin :  Three Gods of the Han River: A Compact Revolver\n",
      "cleaned :   한강의 세 신: 컴팩트 리볼버\n"
     ]
    },
    {
     "name": "stderr",
     "output_type": "stream",
     "text": [
      "Setting `pad_token_id` to `eos_token_id`:None for open-end generation.\n"
     ]
    },
    {
     "name": "stdout",
     "output_type": "stream",
     "text": [
      "origin :  An Introduction to S Corporation by 3GI, a Novelist\n",
      "cleaned :   3GI 작가의 S 회사 소개\n"
     ]
    },
    {
     "name": "stderr",
     "output_type": "stream",
     "text": [
      "Setting `pad_token_id` to `eos_token_id`:None for open-end generation.\n"
     ]
    },
    {
     "name": "stdout",
     "output_type": "stream",
     "text": [
      "origin :  Apple CEO Tim Cook Launches Augmented Reality with iOS 11 Deployment\n",
      "cleaned :   애플 CEO 팀 쿡, iOS 11 배포로 증강현실을 시작합니다.\n"
     ]
    },
    {
     "name": "stderr",
     "output_type": "stream",
     "text": [
      "Setting `pad_token_id` to `eos_token_id`:None for open-end generation.\n"
     ]
    },
    {
     "name": "stdout",
     "output_type": "stream",
     "text": [
      "origin :  Multinational Corporate Forum on March 2, 2023\n",
      "cleaned :   2023년 3월 2일 다국적 기업 포럼\n"
     ]
    },
    {
     "name": "stderr",
     "output_type": "stream",
     "text": [
      "Setting `pad_token_id` to `eos_token_id`:None for open-end generation.\n"
     ]
    },
    {
     "name": "stdout",
     "output_type": "stream",
     "text": [
      "origin :  11th First Weekend, Outdoor for Gyeonggi-Chungcheong Region\n",
      "cleaned :   11번째 첫 주말, 경기·충청 지역 야외행사\n"
     ]
    },
    {
     "name": "stderr",
     "output_type": "stream",
     "text": [
      "Setting `pad_token_id` to `eos_token_id`:None for open-end generation.\n"
     ]
    },
    {
     "name": "stdout",
     "output_type": "stream",
     "text": [
      "origin :   Gongju City's First Novel Festival in a Year \n",
      "cleaned :   공주시 첫 연간 소설 축제\n"
     ]
    },
    {
     "name": "stderr",
     "output_type": "stream",
     "text": [
      "Setting `pad_token_id` to `eos_token_id`:None for open-end generation.\n"
     ]
    },
    {
     "name": "stdout",
     "output_type": "stream",
     "text": [
      "origin :  Simcheong Reaches Perfect Chapter and Thrives\n",
      "cleaned :   심청이 완벽한 장을 이룬다: 번창\n"
     ]
    },
    {
     "name": "stderr",
     "output_type": "stream",
     "text": [
      "Setting `pad_token_id` to `eos_token_id`:None for open-end generation.\n"
     ]
    },
    {
     "name": "stdout",
     "output_type": "stream",
     "text": [
      "origin :  Mid-Term Trader's Cup World Championship\n",
      "cleaned :   미드-텀 트레이더 월드 챔피언십 대회\n"
     ]
    },
    {
     "name": "stderr",
     "output_type": "stream",
     "text": [
      "Setting `pad_token_id` to `eos_token_id`:None for open-end generation.\n"
     ]
    },
    {
     "name": "stdout",
     "output_type": "stream",
     "text": [
      "origin :  Thor Aron Duo, \"Princess\" Album Release Planned\n",
      "cleaned :   '프린세스' 앨범 발매 예정, 토르 아론 듀오\n"
     ]
    },
    {
     "name": "stderr",
     "output_type": "stream",
     "text": [
      "Setting `pad_token_id` to `eos_token_id`:None for open-end generation.\n"
     ]
    },
    {
     "name": "stdout",
     "output_type": "stream",
     "text": [
      "origin :  The monsoon in the central region has ended and is starting to subside after two days. \n",
      "cleaned :   중앙 지역의 모ンスーン은 두 일째째 날을 맞이하여 종료되고, 점차 감소하기 시작했습니다. \n"
     ]
    },
    {
     "name": "stderr",
     "output_type": "stream",
     "text": [
      "Setting `pad_token_id` to `eos_token_id`:None for open-end generation.\n"
     ]
    },
    {
     "name": "stdout",
     "output_type": "stream",
     "text": [
      "origin :  8 Local Autonomous Districts in Gyeonggi Province, Promoting Health Center Activation Projects\n",
      "cleaned :   경기도의 8개 자치구, 건강센터 활성화 프로젝트 추진\n"
     ]
    },
    {
     "name": "stderr",
     "output_type": "stream",
     "text": [
      "Setting `pad_token_id` to `eos_token_id`:None for open-end generation.\n"
     ]
    },
    {
     "name": "stdout",
     "output_type": "stream",
     "text": [
      "origin :  Small MNz's S W Power V Extreme\n",
      "cleaned :   미니멀한 MNz의 S W 파워 V 익스트림\n"
     ]
    },
    {
     "name": "stderr",
     "output_type": "stream",
     "text": [
      "Setting `pad_token_id` to `eos_token_id`:None for open-end generation.\n"
     ]
    },
    {
     "name": "stdout",
     "output_type": "stream",
     "text": [
      "origin :  13th Promotion Number with Clean Z-style Melody that Captivates the Audience\n",
      "cleaned :   청정 Z-스타일 멜로디로 관객을 매료한 13번째 프로모션 번호\n"
     ]
    },
    {
     "name": "stderr",
     "output_type": "stream",
     "text": [
      "Setting `pad_token_id` to `eos_token_id`:None for open-end generation.\n"
     ]
    },
    {
     "name": "stdout",
     "output_type": "stream",
     "text": [
      "origin :  2024: Tomorrow on the Korean Peninsula, it will be -1 degrees Celsius\n",
      "cleaned :   2024년 한국반\n"
     ]
    },
    {
     "name": "stderr",
     "output_type": "stream",
     "text": [
      "Setting `pad_token_id` to `eos_token_id`:None for open-end generation.\n"
     ]
    },
    {
     "name": "stdout",
     "output_type": "stream",
     "text": [
      "origin :  I will pay 8 out of the 10 parts I owe you. Only you.\n",
      "cleaned :   나는 당신에게 빚진 10분의 8을 내놓겠습니다. 오직 당신만. \n"
     ]
    },
    {
     "name": "stderr",
     "output_type": "stream",
     "text": [
      "Setting `pad_token_id` to `eos_token_id`:None for open-end generation.\n"
     ]
    },
    {
     "name": "stdout",
     "output_type": "stream",
     "text": [
      "origin :  Queen's Cafe to Open in Seoul\n",
      "cleaned :   서울에 퀸스 카페 오픈\n"
     ]
    },
    {
     "name": "stderr",
     "output_type": "stream",
     "text": [
      "Setting `pad_token_id` to `eos_token_id`:None for open-end generation.\n"
     ]
    },
    {
     "name": "stdout",
     "output_type": "stream",
     "text": [
      "origin :  A large-scale event is scheduled to take place on August 8th. \n",
      "cleaned :   8월 8일 대규모 행사가 예정되어 있습니다. \n"
     ]
    },
    {
     "name": "stderr",
     "output_type": "stream",
     "text": [
      "Setting `pad_token_id` to `eos_token_id`:None for open-end generation.\n"
     ]
    },
    {
     "name": "stdout",
     "output_type": "stream",
     "text": [
      "origin :  South Korean Airline Flight Delayed for 9 Hours\n",
      "cleaned :   한국 항공편 9시간 지연\n"
     ]
    },
    {
     "name": "stderr",
     "output_type": "stream",
     "text": [
      "Setting `pad_token_id` to `eos_token_id`:None for open-end generation.\n"
     ]
    },
    {
     "name": "stdout",
     "output_type": "stream",
     "text": [
      "origin :  The Great Journey of the Nine Gods and the Genius\n",
      "cleaned :   신들의 9대 여정과 천재의 발명\n"
     ]
    },
    {
     "name": "stderr",
     "output_type": "stream",
     "text": [
      "Setting `pad_token_id` to `eos_token_id`:None for open-end generation.\n"
     ]
    },
    {
     "name": "stdout",
     "output_type": "stream",
     "text": [
      "origin :  Special Exhibition at Seoul City Museum of Art\n",
      "cleaned :   서울시\n"
     ]
    },
    {
     "name": "stderr",
     "output_type": "stream",
     "text": [
      "Setting `pad_token_id` to `eos_token_id`:None for open-end generation.\n"
     ]
    },
    {
     "name": "stdout",
     "output_type": "stream",
     "text": [
      "origin :  KTB Sees 8% Surge in August, Room Occupancy Up 560%\n",
      "cleaned :   8월 KTB, 560% 증가한 객실 점유율로 8% 성장\n"
     ]
    },
    {
     "name": "stderr",
     "output_type": "stream",
     "text": [
      "Setting `pad_token_id` to `eos_token_id`:None for open-end generation.\n"
     ]
    },
    {
     "name": "stdout",
     "output_type": "stream",
     "text": [
      "origin :  KOSPI Rises and Surpasses 1,900 Line in the Morning\n",
      "cleaned :   오전 KOSPI 상승, 1,900선 돌파\n"
     ]
    },
    {
     "name": "stderr",
     "output_type": "stream",
     "text": [
      "Setting `pad_token_id` to `eos_token_id`:None for open-end generation.\n"
     ]
    },
    {
     "name": "stdout",
     "output_type": "stream",
     "text": [
      "origin :  Jeju ZGi: Who Will Replace F with C - Oh! You Special Edition\n",
      "cleaned :   제주 ZGi: F 대신 C를 대체할 사람은 누구인가 - Oh! 특별판\n"
     ]
    },
    {
     "name": "stderr",
     "output_type": "stream",
     "text": [
      "Setting `pad_token_id` to `eos_token_id`:None for open-end generation.\n"
     ]
    },
    {
     "name": "stdout",
     "output_type": "stream",
     "text": [
      "origin :  The 5th Korean Literature Award Winner Announced\n",
      "cleaned :   5번째 한국문학상 수상자 발표\n"
     ]
    },
    {
     "name": "stderr",
     "output_type": "stream",
     "text": [
      "Setting `pad_token_id` to `eos_token_id`:None for open-end generation.\n"
     ]
    },
    {
     "name": "stdout",
     "output_type": "stream",
     "text": [
      "origin :  A Foreigner E's Favorite Work, Popular in Korea\n",
      "cleaned :   외국인의 가장 좋아하는 작품, 한국에서 인기\n"
     ]
    },
    {
     "name": "stderr",
     "output_type": "stream",
     "text": [
      "Setting `pad_token_id` to `eos_token_id`:None for open-end generation.\n"
     ]
    },
    {
     "name": "stdout",
     "output_type": "stream",
     "text": [
      "origin :  Highway Traffic Congestion Forecast for June 9 Due to Increased Traffic Volume\n",
      "cleaned :   6월 9일 도로 교통 혼잡 예측: 교통량 증가로 인한 혼잡\n"
     ]
    },
    {
     "name": "stderr",
     "output_type": "stream",
     "text": [
      "Setting `pad_token_id` to `eos_token_id`:None for open-end generation.\n"
     ]
    },
    {
     "name": "stdout",
     "output_type": "stream",
     "text": [
      "origin :  We Return to the Beautiful Manyeonsan Forest\n",
      "cleaned :   아름다운 만연산 숲으로 돌아\n"
     ]
    },
    {
     "name": "stderr",
     "output_type": "stream",
     "text": [
      "Setting `pad_token_id` to `eos_token_id`:None for open-end generation.\n"
     ]
    },
    {
     "name": "stdout",
     "output_type": "stream",
     "text": [
      "origin :   Kim Nowoo, Pipi Sonmin, and Winter Lotus \n",
      "cleaned :   김누우, 피피손민, 겨울련꽃\n"
     ]
    },
    {
     "name": "stderr",
     "output_type": "stream",
     "text": [
      "Setting `pad_token_id` to `eos_token_id`:None for open-end generation.\n"
     ]
    },
    {
     "name": "stdout",
     "output_type": "stream",
     "text": [
      "origin :  \"New Book 'Bianpan' Sells Out 15,000 Copies Immediately\n",
      "cleaned :   \"신서 '비안판' 15,000부 즉각 매진\"\n"
     ]
    },
    {
     "name": "stderr",
     "output_type": "stream",
     "text": [
      "Setting `pad_token_id` to `eos_token_id`:None for open-end generation.\n"
     ]
    },
    {
     "name": "stdout",
     "output_type": "stream",
     "text": [
      "origin :  A Large-Scale Flood Occurs in the East of Jeju Island\n",
      "cleaned :   제주도 동쪽에서 대규모 홍수가 발생함\n"
     ]
    },
    {
     "name": "stderr",
     "output_type": "stream",
     "text": [
      "Setting `pad_token_id` to `eos_token_id`:None for open-end generation.\n"
     ]
    },
    {
     "name": "stdout",
     "output_type": "stream",
     "text": [
      "origin :  N7,000 EKC Park to be Built in Oncheon-dong, Asan-si, Chungcheongnam-do\n",
      "cleaned :   천안시 안성시 충청남도 온천동에 N7,000 EKC 공원이 조성되다\n"
     ]
    },
    {
     "name": "stderr",
     "output_type": "stream",
     "text": [
      "Setting `pad_token_id` to `eos_token_id`:None for open-end generation.\n"
     ]
    },
    {
     "name": "stdout",
     "output_type": "stream",
     "text": [
      "origin :  Paju Road Construction Excellence Award Winner, A Country Riboo Middle School\n",
      "cleaned :   파주 도로 건설 우수상 수상자, 한글마을 중학교\n"
     ]
    },
    {
     "name": "stderr",
     "output_type": "stream",
     "text": [
      "Setting `pad_token_id` to `eos_token_id`:None for open-end generation.\n"
     ]
    },
    {
     "name": "stdout",
     "output_type": "stream",
     "text": [
      "origin :  1st Grade G Science Center Opening\n",
      "cleaned :   1학년 G 과학센터 개장\n"
     ]
    },
    {
     "name": "stderr",
     "output_type": "stream",
     "text": [
      "Setting `pad_token_id` to `eos_token_id`:None for open-end generation.\n"
     ]
    },
    {
     "name": "stdout",
     "output_type": "stream",
     "text": [
      "origin :  Tourist Safety Alert at Cheonan Station Cliffside\n",
      "cleaned :   천안역 절벽에서 관광객 안전경보 발령\n"
     ]
    },
    {
     "name": "stderr",
     "output_type": "stream",
     "text": [
      "Setting `pad_token_id` to `eos_token_id`:None for open-end generation.\n"
     ]
    },
    {
     "name": "stdout",
     "output_type": "stream",
     "text": [
      "origin :  Japan's a Country and bB Corporation, Viewed Through Y's Eyes\n",
      "cleaned :   일본과 BB코퍼레이션, Y의 시각을 통해 바라보기\n"
     ]
    },
    {
     "name": "stderr",
     "output_type": "stream",
     "text": [
      "Setting `pad_token_id` to `eos_token_id`:None for open-end generation.\n"
     ]
    },
    {
     "name": "stdout",
     "output_type": "stream",
     "text": [
      "origin :  3rd United Nations Conference on the Law of the Sea\n",
      "cleaned :   제3차 유엔 해양법 회의\n"
     ]
    },
    {
     "name": "stderr",
     "output_type": "stream",
     "text": [
      "Setting `pad_token_id` to `eos_token_id`:None for open-end generation.\n"
     ]
    },
    {
     "name": "stdout",
     "output_type": "stream",
     "text": [
      "origin :  IV6S Expands Overseas Operations, Doubling Global Sales\n",
      "cleaned :   IV6S, 해외 사업 확장...글로벌 매출 두 배 증가\n"
     ]
    },
    {
     "name": "stderr",
     "output_type": "stream",
     "text": [
      "Setting `pad_token_id` to `eos_token_id`:None for open-end generation.\n"
     ]
    },
    {
     "name": "stdout",
     "output_type": "stream",
     "text": [
      "origin :  Korea International Cooperation Foundation K006 Project Date\n",
      "cleaned :   한국국제협력재단 K006 프로젝트 날짜\n"
     ]
    },
    {
     "name": "stderr",
     "output_type": "stream",
     "text": [
      "Setting `pad_token_id` to `eos_token_id`:None for open-end generation.\n"
     ]
    },
    {
     "name": "stdout",
     "output_type": "stream",
     "text": [
      "origin :  Diverse Stories Behind 'Haeundae' Tower: A 50-Year-Old Man's Tale\n",
      "cleaned :   해운대 타워의 다양한 이야기: 50대 남성의 이야기\n"
     ]
    },
    {
     "name": "stderr",
     "output_type": "stream",
     "text": [
      "Setting `pad_token_id` to `eos_token_id`:None for open-end generation.\n"
     ]
    },
    {
     "name": "stdout",
     "output_type": "stream",
     "text": [
      "origin :  Heavy rain and strong winds expected to continue in Busan for up to 42 days\n",
      "cleaned :   부산에 42일간 계속된 폭우와 강풍 예보\n"
     ]
    },
    {
     "name": "stderr",
     "output_type": "stream",
     "text": [
      "Setting `pad_token_id` to `eos_token_id`:None for open-end generation.\n"
     ]
    },
    {
     "name": "stdout",
     "output_type": "stream",
     "text": [
      "origin :  8,000 B-Class R1 Macau Airline 3 Flights\n",
      "cleaned :   마카오항공 3편 B-클래스 R1 8,000석\n"
     ]
    },
    {
     "name": "stderr",
     "output_type": "stream",
     "text": [
      "Setting `pad_token_id` to `eos_token_id`:None for open-end generation.\n"
     ]
    },
    {
     "name": "stdout",
     "output_type": "stream",
     "text": [
      "origin :  OK! Korea 52L Elders\n",
      "cleaned :   OK! 한국 52세 이상 노인들\n"
     ]
    },
    {
     "name": "stderr",
     "output_type": "stream",
     "text": [
      "Setting `pad_token_id` to `eos_token_id`:None for open-end generation.\n"
     ]
    },
    {
     "name": "stdout",
     "output_type": "stream",
     "text": [
      "origin :  I realized the need to wear a hat on the 23rd of the 16th lunar month earlier than others\n",
      "cleaned :   16번째 월의 23일은 다른 사람들보다 앞서 모자 착용의 필요성을 깨달았습니다. \n"
     ]
    },
    {
     "name": "stderr",
     "output_type": "stream",
     "text": [
      "Setting `pad_token_id` to `eos_token_id`:None for open-end generation.\n"
     ]
    },
    {
     "name": "stdout",
     "output_type": "stream",
     "text": [
      "origin :  G-Penguin's U-perfect S-3-ness\n",
      "cleaned :   펭귄의 완벽한 U-3 성격\n"
     ]
    },
    {
     "name": "stderr",
     "output_type": "stream",
     "text": [
      "Setting `pad_token_id` to `eos_token_id`:None for open-end generation.\n"
     ]
    },
    {
     "name": "stdout",
     "output_type": "stream",
     "text": [
      "origin :  Weather Forecast: Rain is Expected\n",
      "cleaned :   날씨 예보: 비가 예상됨\n"
     ]
    },
    {
     "name": "stderr",
     "output_type": "stream",
     "text": [
      "Setting `pad_token_id` to `eos_token_id`:None for open-end generation.\n"
     ]
    },
    {
     "name": "stdout",
     "output_type": "stream",
     "text": [
      "origin :  G-Han B-Hwang D-Young, 5th Artist, Submits My-Hye 7 to QY\n",
      "cleaned :   한방화 양동균 5번째 아티스트, '미혜 7'을 퀘이에 제출\n"
     ]
    },
    {
     "name": "stderr",
     "output_type": "stream",
     "text": [
      "Setting `pad_token_id` to `eos_token_id`:None for open-end generation.\n"
     ]
    },
    {
     "name": "stdout",
     "output_type": "stream",
     "text": [
      "origin :  The 2023 Quake International Children's Film Festival and Comic-Con Open\n",
      "cleaned :   2023 퀘이크 국제 어린이 영화제와 코믹콘 개막\n"
     ]
    },
    {
     "name": "stderr",
     "output_type": "stream",
     "text": [
      "Setting `pad_token_id` to `eos_token_id`:None for open-end generation.\n"
     ]
    },
    {
     "name": "stdout",
     "output_type": "stream",
     "text": [
      "origin :  Six Countries Hit by Snowfall\n",
      "cleaned :   6개국에 눈이 내렸다\n"
     ]
    },
    {
     "name": "stderr",
     "output_type": "stream",
     "text": [
      "Setting `pad_token_id` to `eos_token_id`:None for open-end generation.\n"
     ]
    },
    {
     "name": "stdout",
     "output_type": "stream",
     "text": [
      "origin :  제목없음\n",
      "cleaned :   제목 없음\n"
     ]
    },
    {
     "name": "stderr",
     "output_type": "stream",
     "text": [
      "Setting `pad_token_id` to `eos_token_id`:None for open-end generation.\n"
     ]
    },
    {
     "name": "stdout",
     "output_type": "stream",
     "text": [
      "origin :  \"New Book 'The Perfect Score of Carnivorous Animals': Dad's 5G is Curiosity, iG\"\n",
      "cleaned :   \"새 책 '육식동물의 완벽 점수': 아버지의 5G는 호기심, iG\"\n"
     ]
    },
    {
     "name": "stderr",
     "output_type": "stream",
     "text": [
      "Setting `pad_token_id` to `eos_token_id`:None for open-end generation.\n"
     ]
    },
    {
     "name": "stdout",
     "output_type": "stream",
     "text": [
      "origin :  I&I YN Beauty Event Won by A.T.W. Ad on Victory Holiday\n",
      "cleaned :   I&I YN 뷰티 이벤트, A.T.W 광고로 승리한 홀리데이\n"
     ]
    },
    {
     "name": "stderr",
     "output_type": "stream",
     "text": [
      "Setting `pad_token_id` to `eos_token_id`:None for open-end generation.\n"
     ]
    },
    {
     "name": "stdout",
     "output_type": "stream",
     "text": [
      "origin :  x Presses 5th, gSchoiSChoi, the Strongest in G-Sa\n",
      "cleaned :   x가 5번째, gSchoiSChoi, 강자\n"
     ]
    },
    {
     "name": "stderr",
     "output_type": "stream",
     "text": [
      "Setting `pad_token_id` to `eos_token_id`:None for open-end generation.\n"
     ]
    },
    {
     "name": "stdout",
     "output_type": "stream",
     "text": [
      "origin :  A Mato Festival at Hwacheon, 13C, to Sell for 200 Million Won\n",
      "cleaned :   화천 마토축제, 13세기, 2억 원에 판매\n"
     ]
    },
    {
     "name": "stderr",
     "output_type": "stream",
     "text": [
      "Setting `pad_token_id` to `eos_token_id`:None for open-end generation.\n"
     ]
    },
    {
     "name": "stdout",
     "output_type": "stream",
     "text": [
      "origin :  Biting Cold and Snowfall: Freezing Weather Conditions\n",
      "cleaned :   추위와 눈: 극한의 날씨 조건\n"
     ]
    },
    {
     "name": "stderr",
     "output_type": "stream",
     "text": [
      "Setting `pad_token_id` to `eos_token_id`:None for open-end generation.\n"
     ]
    },
    {
     "name": "stdout",
     "output_type": "stream",
     "text": [
      "origin :  Grade 9 students take over elementary school\n",
      "cleaned :   9학년 학생들이 초등학교를 장악하다\n"
     ]
    },
    {
     "name": "stderr",
     "output_type": "stream",
     "text": [
      "Setting `pad_token_id` to `eos_token_id`:None for open-end generation.\n"
     ]
    },
    {
     "name": "stdout",
     "output_type": "stream",
     "text": [
      "origin :  Einstein's Ghost and Mysterious Traffic Accident\n",
      "cleaned :   에인슈타인의 유령과 신비한 교통사고\n"
     ]
    },
    {
     "name": "stderr",
     "output_type": "stream",
     "text": [
      "Setting `pad_token_id` to `eos_token_id`:None for open-end generation.\n"
     ]
    },
    {
     "name": "stdout",
     "output_type": "stream",
     "text": [
      "origin :  New Musical \"G Hall\" Canceled: N Jin's Orchestra Concert\n",
      "cleaned :   신작 뮤지컬 \"G 홀\" 취소, N진의 오케스트라 콘서트\n"
     ]
    },
    {
     "name": "stderr",
     "output_type": "stream",
     "text": [
      "Setting `pad_token_id` to `eos_token_id`:None for open-end generation.\n"
     ]
    },
    {
     "name": "stdout",
     "output_type": "stream",
     "text": [
      "origin :  The National Human Rights Commission\n",
      "cleaned :   국가인\n"
     ]
    },
    {
     "name": "stderr",
     "output_type": "stream",
     "text": [
      "Setting `pad_token_id` to `eos_token_id`:None for open-end generation.\n"
     ]
    },
    {
     "name": "stdout",
     "output_type": "stream",
     "text": [
      "origin :  Art Fair Busan 2021 Opens Its Doors\n",
      "cleaned :   부산 아트페어 2021 개막\n"
     ]
    },
    {
     "name": "stderr",
     "output_type": "stream",
     "text": [
      "Setting `pad_token_id` to `eos_token_id`:None for open-end generation.\n"
     ]
    },
    {
     "name": "stdout",
     "output_type": "stream",
     "text": [
      "origin :  S9 M9 Starling: Low-Interest Savings Benefit\n",
      "cleaned :   S9 M9 스타링: 저금리 저축 혜택\n"
     ]
    },
    {
     "name": "stderr",
     "output_type": "stream",
     "text": [
      "Setting `pad_token_id` to `eos_token_id`:None for open-end generation.\n"
     ]
    },
    {
     "name": "stdout",
     "output_type": "stream",
     "text": [
      "origin :  The Mercenary of Ice Cream will be announced at 8 pm on the 9th\n",
      "cleaned :   아이스크림의 용병, 9일 오후 8시에 발표\n"
     ]
    },
    {
     "name": "stderr",
     "output_type": "stream",
     "text": [
      "Setting `pad_token_id` to `eos_token_id`:None for open-end generation.\n"
     ]
    },
    {
     "name": "stdout",
     "output_type": "stream",
     "text": [
      "origin :  Literary Week with Poet-in-Residence, 2.1 Million Attend Korea National Literary Festival\n",
      "cleaned :   시인-in-Residence와 함께하는 문학주간, 2백만 명이 한국국립문학제에 참석합니다. \n"
     ]
    },
    {
     "name": "stderr",
     "output_type": "stream",
     "text": [
      "Setting `pad_token_id` to `eos_token_id`:None for open-end generation.\n"
     ]
    },
    {
     "name": "stdout",
     "output_type": "stream",
     "text": [
      "origin :  An Airplane Lands at Incheon International Airport\n",
      "cleaned :   인천국제공항에\n"
     ]
    },
    {
     "name": "stderr",
     "output_type": "stream",
     "text": [
      "Setting `pad_token_id` to `eos_token_id`:None for open-end generation.\n"
     ]
    },
    {
     "name": "stdout",
     "output_type": "stream",
     "text": [
      "origin :  New Book \"The Conquest of Umi-Ryeong\" Serialization 9th Round\n",
      "cleaned :   신서 '우미령의 정복' 9회 연재\n"
     ]
    },
    {
     "name": "stderr",
     "output_type": "stream",
     "text": [
      "Setting `pad_token_id` to `eos_token_id`:None for open-end generation.\n"
     ]
    },
    {
     "name": "stdout",
     "output_type": "stream",
     "text": [
      "origin :  2023 Mercedes-Benz C-Class Sports Car, 5 Models Unveiled\n",
      "cleaned :   2023 메르세데스-벤츠 C클래스 스포츠카, 5종 출시\n"
     ]
    },
    {
     "name": "stderr",
     "output_type": "stream",
     "text": [
      "Setting `pad_token_id` to `eos_token_id`:None for open-end generation.\n"
     ]
    },
    {
     "name": "stdout",
     "output_type": "stream",
     "text": [
      "origin :  Card News Q, F-Type 1M Air Conditioning K-Heat V Developed\n",
      "cleaned :   카드뉴스 Q, F-타입 1M 에어컨 K-히트 V 개발\n"
     ]
    },
    {
     "name": "stderr",
     "output_type": "stream",
     "text": [
      "Setting `pad_token_id` to `eos_token_id`:None for open-end generation.\n"
     ]
    },
    {
     "name": "stdout",
     "output_type": "stream",
     "text": [
      "origin :  SON Heung-min's Bold Breakthrough Leads Tottenham to a 2-1 Victory Over Manchester United in the EPL\n",
      "cleaned :   손흥민의 대담한 돌파로 토트넘, 맨체스터 유나이티드를 2-1로 꺾고 EPL 승리\n"
     ]
    },
    {
     "name": "stderr",
     "output_type": "stream",
     "text": [
      "Setting `pad_token_id` to `eos_token_id`:None for open-end generation.\n"
     ]
    },
    {
     "name": "stdout",
     "output_type": "stream",
     "text": [
      "origin :  Abundant iNfli Weddings and Events\n",
      "cleaned :   풍성한 iNFlI 결혼식과 행사\n"
     ]
    },
    {
     "name": "stderr",
     "output_type": "stream",
     "text": [
      "Setting `pad_token_id` to `eos_token_id`:None for open-end generation.\n"
     ]
    },
    {
     "name": "stdout",
     "output_type": "stream",
     "text": [
      "origin :  The Royal Family's Desperate Prayers for Shinzo Abe's Recovery\n",
      "cleaned :   \n"
     ]
    },
    {
     "name": "stderr",
     "output_type": "stream",
     "text": [
      "Setting `pad_token_id` to `eos_token_id`:None for open-end generation.\n"
     ]
    },
    {
     "name": "stdout",
     "output_type": "stream",
     "text": [
      "origin :  제목없음\n",
      "cleaned :   제목 없음\n"
     ]
    },
    {
     "name": "stderr",
     "output_type": "stream",
     "text": [
      "Setting `pad_token_id` to `eos_token_id`:None for open-end generation.\n"
     ]
    },
    {
     "name": "stdout",
     "output_type": "stream",
     "text": [
      "origin :  Discounted Outlet Inventory: A Type of Purchase\n",
      "cleaned :   할인된 오픈 스토어 인벤토리: 구매 유형\n"
     ]
    },
    {
     "name": "stderr",
     "output_type": "stream",
     "text": [
      "Setting `pad_token_id` to `eos_token_id`:None for open-end generation.\n"
     ]
    },
    {
     "name": "stdout",
     "output_type": "stream",
     "text": [
      "origin :  \"Lecture by Dr. Han Sang-seok, a nursing doctorate professor\"\n",
      "cleaned :   한상석 박사, 간호학 박사 교수 초청 강연\n"
     ]
    },
    {
     "name": "stderr",
     "output_type": "stream",
     "text": [
      "Setting `pad_token_id` to `eos_token_id`:None for open-end generation.\n"
     ]
    },
    {
     "name": "stdout",
     "output_type": "stream",
     "text": [
      "origin :  KBS News 9 - May 8, 2023 at 0:05 a.m. Pre-Comprehensive News\n",
      "cleaned :   KBS 뉴스 9 - 2023년 5월 8일 0:05 a.m. 전통통합 뉴스\n"
     ]
    },
    {
     "name": "stderr",
     "output_type": "stream",
     "text": [
      "Setting `pad_token_id` to `eos_token_id`:None for open-end generation.\n"
     ]
    },
    {
     "name": "stdout",
     "output_type": "stream",
     "text": [
      "origin :  Congratulations on receiving the 8th GeBan Award!\n",
      "cleaned :   8회 게반상 수상 축하합니다!\n"
     ]
    },
    {
     "name": "stderr",
     "output_type": "stream",
     "text": [
      "Setting `pad_token_id` to `eos_token_id`:None for open-end generation.\n"
     ]
    },
    {
     "name": "stdout",
     "output_type": "stream",
     "text": [
      "origin :  Capital Market Crisis: Special Broadcast Commemorating the 5th Anniversary of the 2008 Financial Crisis\n",
      "cleaned :   금융위기 5주년 특집방송: 2008년 금융위기 5주년을 기념하며\n"
     ]
    },
    {
     "name": "stderr",
     "output_type": "stream",
     "text": [
      "Setting `pad_token_id` to `eos_token_id`:None for open-end generation.\n"
     ]
    },
    {
     "name": "stdout",
     "output_type": "stream",
     "text": [
      "origin :  Moon Jae-in President Cooperates with Japan to Win the Support of Korean Women\n",
      "cleaned :   문재인 대통령, 일본과 협력해 한국 여성들의 지지를 얻다\n"
     ]
    },
    {
     "name": "stderr",
     "output_type": "stream",
     "text": [
      "Setting `pad_token_id` to `eos_token_id`:None for open-end generation.\n"
     ]
    },
    {
     "name": "stdout",
     "output_type": "stream",
     "text": [
      "origin :  China Pushes for RCEP, Benefiting Asian-Pacific Integration\n",
      "cleaned :   중국이 아세안+6 통합을 위한 RCEP 추진\n"
     ]
    },
    {
     "name": "stderr",
     "output_type": "stream",
     "text": [
      "Setting `pad_token_id` to `eos_token_id`:None for open-end generation.\n"
     ]
    },
    {
     "name": "stdout",
     "output_type": "stream",
     "text": [
      "origin :  \"H's Planning in the 1960s at W Mountain Museum RC Gallery\"\n",
      "cleaned :   \"W산 박물관 RC 갤러리에서 1960년대의 H의 계획\"\n"
     ]
    },
    {
     "name": "stderr",
     "output_type": "stream",
     "text": [
      "Setting `pad_token_id` to `eos_token_id`:None for open-end generation.\n"
     ]
    },
    {
     "name": "stdout",
     "output_type": "stream",
     "text": [
      "origin :   Weekly W Fights Against the Era of Smartphone VR: H&M's Y-gram, Korea Open in Bangkok \n",
      "cleaned :   스마트폰 VR 시대를 맞서 싸우는 주간 W: H&M의 Y-그램, 한국 오픈, 방콕에서\n"
     ]
    },
    {
     "name": "stderr",
     "output_type": "stream",
     "text": [
      "Setting `pad_token_id` to `eos_token_id`:None for open-end generation.\n"
     ]
    },
    {
     "name": "stdout",
     "output_type": "stream",
     "text": [
      "origin :  May 11th, Children's Day Event in Nowon-gu\n",
      "cleaned :   5월 11일, 노원구 어린이날 행사\n"
     ]
    },
    {
     "name": "stderr",
     "output_type": "stream",
     "text": [
      "Setting `pad_token_id` to `eos_token_id`:None for open-end generation.\n"
     ]
    },
    {
     "name": "stdout",
     "output_type": "stream",
     "text": [
      "origin :  Spring Flower Festival to be Held in Sejong\n",
      "cleaned :   세종에서 봄꽃 축제 개최\n"
     ]
    },
    {
     "name": "stderr",
     "output_type": "stream",
     "text": [
      "Setting `pad_token_id` to `eos_token_id`:None for open-end generation.\n"
     ]
    },
    {
     "name": "stdout",
     "output_type": "stream",
     "text": [
      "origin :  Youth Recruitment for the Founding of a New Age\n",
      "cleaned :   새 시대의 창립을 위한 청년 모집\n"
     ]
    },
    {
     "name": "stderr",
     "output_type": "stream",
     "text": [
      "Setting `pad_token_id` to `eos_token_id`:None for open-end generation.\n"
     ]
    },
    {
     "name": "stdout",
     "output_type": "stream",
     "text": [
      "origin :  Rain has been falling for 75 days, and thunderstorms are expected tomorrow. \n",
      "cleaned :  \n"
     ]
    },
    {
     "name": "stderr",
     "output_type": "stream",
     "text": [
      "Setting `pad_token_id` to `eos_token_id`:None for open-end generation.\n"
     ]
    },
    {
     "name": "stdout",
     "output_type": "stream",
     "text": [
      "origin :  6/6 Strong Wind Warning Issued in the Evening\n",
      "cleaned :   6월 6일 저녁 강풍 경보 발령\n"
     ]
    },
    {
     "name": "stderr",
     "output_type": "stream",
     "text": [
      "Setting `pad_token_id` to `eos_token_id`:None for open-end generation.\n"
     ]
    },
    {
     "name": "stdout",
     "output_type": "stream",
     "text": [
      "origin :  A Child Scores 100 on the Korean Language Proficiency Test\n",
      "cleaned :   한국어 능력 시험에서 100점을 받은 아이\n"
     ]
    },
    {
     "name": "stderr",
     "output_type": "stream",
     "text": [
      "Setting `pad_token_id` to `eos_token_id`:None for open-end generation.\n"
     ]
    },
    {
     "name": "stdout",
     "output_type": "stream",
     "text": [
      "origin :  Inje Zajak 4 Forest, 15th Entry Control\n",
      "cleaned :   인제자약 4 숲, 15번째 입출입 통제\n"
     ]
    },
    {
     "name": "stderr",
     "output_type": "stream",
     "text": [
      "Setting `pad_token_id` to `eos_token_id`:None for open-end generation.\n"
     ]
    },
    {
     "name": "stdout",
     "output_type": "stream",
     "text": [
      "origin :  By the Power of Their Workers\n",
      "cleaned :   노동자의 힘으로\n"
     ]
    },
    {
     "name": "stderr",
     "output_type": "stream",
     "text": [
      "Setting `pad_token_id` to `eos_token_id`:None for open-end generation.\n"
     ]
    },
    {
     "name": "stdout",
     "output_type": "stream",
     "text": [
      "origin :  4th Korea-France Ballet Festival Party\n",
      "cleaned :   4회 한국-프랑스 발레 축제 파티\n"
     ]
    },
    {
     "name": "stderr",
     "output_type": "stream",
     "text": [
      "Setting `pad_token_id` to `eos_token_id`:None for open-end generation.\n"
     ]
    },
    {
     "name": "stdout",
     "output_type": "stream",
     "text": [
      "origin :  The 16th diary of Munyeol Moon, a tattoo artist, is published in the S edition. \n",
      "cleaned :   문열의 16번째 일기는 S판에 실림\n"
     ]
    },
    {
     "name": "stderr",
     "output_type": "stream",
     "text": [
      "Setting `pad_token_id` to `eos_token_id`:None for open-end generation.\n"
     ]
    },
    {
     "name": "stdout",
     "output_type": "stream",
     "text": [
      "origin :  Gyeonggi Province, Health Protection Area for Fine Particulate Matter Discontinued After One Day\n",
      "cleaned :   경기도가 미세먼지 건강보호구역 일일 해제\n"
     ]
    },
    {
     "name": "stderr",
     "output_type": "stream",
     "text": [
      "Setting `pad_token_id` to `eos_token_id`:None for open-end generation.\n"
     ]
    },
    {
     "name": "stdout",
     "output_type": "stream",
     "text": [
      "origin :  Darkness at the camp: Restrictions on foreign travelers are in place\n",
      "cleaned :   캠프에서의 어둠: 외국 여행자에 대한 제한이 시행됨\n"
     ]
    },
    {
     "name": "stderr",
     "output_type": "stream",
     "text": [
      "Setting `pad_token_id` to `eos_token_id`:None for open-end generation.\n"
     ]
    },
    {
     "name": "stdout",
     "output_type": "stream",
     "text": [
      "origin :  Travel Agency Introduces a Course to Relieve Tired Minds on August 30, 2020\n",
      "cleaned :   여행사, 8월 30일 정신 지치신 여러분을 위한 특별한 프로그램 발표\n"
     ]
    },
    {
     "name": "stderr",
     "output_type": "stream",
     "text": [
      "Setting `pad_token_id` to `eos_token_id`:None for open-end generation.\n"
     ]
    },
    {
     "name": "stdout",
     "output_type": "stream",
     "text": [
      "origin :  제목없음\n",
      "cleaned :   (기사 제목 없음)\n"
     ]
    },
    {
     "name": "stderr",
     "output_type": "stream",
     "text": [
      "Setting `pad_token_id` to `eos_token_id`:None for open-end generation.\n"
     ]
    },
    {
     "name": "stdout",
     "output_type": "stream",
     "text": [
      "origin :  Weaving the Linen of Life: BC Center for Youth and Airing's Youthful Ambition\n",
      "cleaned :   인생의 면을 짜는: BC 청소년 센터와 에어링의 청년의 야망\n"
     ]
    },
    {
     "name": "stderr",
     "output_type": "stream",
     "text": [
      "Setting `pad_token_id` to `eos_token_id`:None for open-end generation.\n"
     ]
    },
    {
     "name": "stdout",
     "output_type": "stream",
     "text": [
      "origin :  7 Building A is easier, V3 type construction, 10 libraries share joint use\n",
      "cleaned :   7번 건물은 더 쉬워, V3 건축 유형, 10개의 도서관은 공동 사용\n"
     ]
    },
    {
     "name": "stderr",
     "output_type": "stream",
     "text": [
      "Setting `pad_token_id` to `eos_token_id`:None for open-end generation.\n"
     ]
    },
    {
     "name": "stdout",
     "output_type": "stream",
     "text": [
      "origin :  The 7th 3IUSb Left by the Late Joseon Dynasty and the Early Republic Era\n",
      "cleaned :   후기 조선 시대와 초기 공화국 시대의 7번째 3IUSb\n"
     ]
    },
    {
     "name": "stderr",
     "output_type": "stream",
     "text": [
      "Setting `pad_token_id` to `eos_token_id`:None for open-end generation.\n"
     ]
    },
    {
     "name": "stdout",
     "output_type": "stream",
     "text": [
      "origin :  Eun-kyung Lee and Ulsan 7th Representative Donate Musical Instruments\n",
      "cleaned :   이은경과 울산 7대 국회의원, 악기 기증\n"
     ]
    },
    {
     "name": "stderr",
     "output_type": "stream",
     "text": [
      "Setting `pad_token_id` to `eos_token_id`:None for open-end generation.\n"
     ]
    },
    {
     "name": "stdout",
     "output_type": "stream",
     "text": [
      "origin :  Green Micro Dust and Ozone Wipe Out Workers' Daytime Hours\n",
      "cleaned :   녹색 미세먼지와 오존, 노동자의 낮 시간을 지워버립니다.\n"
     ]
    },
    {
     "name": "stderr",
     "output_type": "stream",
     "text": [
      "Setting `pad_token_id` to `eos_token_id`:None for open-end generation.\n"
     ]
    },
    {
     "name": "stdout",
     "output_type": "stream",
     "text": [
      "origin :  Commercial and Civilian Damage Recovery Due to UHAT Fire\n",
      "cleaned :   우핏 화재로 인한 상업 및 민간 피해 복구\n"
     ]
    },
    {
     "name": "stderr",
     "output_type": "stream",
     "text": [
      "Setting `pad_token_id` to `eos_token_id`:None for open-end generation.\n"
     ]
    },
    {
     "name": "stdout",
     "output_type": "stream",
     "text": [
      "origin :  Sky is overcast, weather in Gyeongsangbuk-do is not good\n",
      "cleaned :   구름이 많아 경상북도 날씨가 좋지 않습니다. \n"
     ]
    },
    {
     "name": "stderr",
     "output_type": "stream",
     "text": [
      "Setting `pad_token_id` to `eos_token_id`:None for open-end generation.\n"
     ]
    },
    {
     "name": "stdout",
     "output_type": "stream",
     "text": [
      "origin :  6 Korean Writers Invited to Berlin International Film Festival\n",
      "cleaned :   한국 작가 \n"
     ]
    },
    {
     "name": "stderr",
     "output_type": "stream",
     "text": [
      "Setting `pad_token_id` to `eos_token_id`:None for open-end generation.\n"
     ]
    },
    {
     "name": "stdout",
     "output_type": "stream",
     "text": [
      "origin :  Parkview 1-1 A-Dong in Daejeon Chungnam by the River Sells Out\n",
      "cleaned :   대전 충남 대덕구 충청강변에 위치한 파크뷰 1-1 A-Dong A~D 단지는 완판\n"
     ]
    },
    {
     "name": "stderr",
     "output_type": "stream",
     "text": [
      "Setting `pad_token_id` to `eos_token_id`:None for open-end generation.\n"
     ]
    },
    {
     "name": "stdout",
     "output_type": "stream",
     "text": [
      "origin :  Do you remember X and the court? Photo Exhibition of West\n",
      "cleaned :   당신은 X와 법정을 기억하세요? 서부 사진전\n"
     ]
    },
    {
     "name": "stderr",
     "output_type": "stream",
     "text": [
      "Setting `pad_token_id` to `eos_token_id`:None for open-end generation.\n"
     ]
    },
    {
     "name": "stdout",
     "output_type": "stream",
     "text": [
      "origin :  Experts Look Forward to the Olympics\n",
      "cleaned :   전문가들이 올림픽에 기대감을 표한다\n"
     ]
    },
    {
     "name": "stderr",
     "output_type": "stream",
     "text": [
      "Setting `pad_token_id` to `eos_token_id`:None for open-end generation.\n"
     ]
    },
    {
     "name": "stdout",
     "output_type": "stream",
     "text": [
      "origin :  German VJ Lee's Activation\n",
      "cleaned :   독일 VJ 리의 활성화\n"
     ]
    },
    {
     "name": "stderr",
     "output_type": "stream",
     "text": [
      "Setting `pad_token_id` to `eos_token_id`:None for open-end generation.\n"
     ]
    },
    {
     "name": "stdout",
     "output_type": "stream",
     "text": [
      "origin :  2019 World IT Industry Major Events\n",
      "cleaned :   2019 세계 IT 산업 주요 이벤트\n"
     ]
    },
    {
     "name": "stderr",
     "output_type": "stream",
     "text": [
      "Setting `pad_token_id` to `eos_token_id`:None for open-end generation.\n"
     ]
    },
    {
     "name": "stdout",
     "output_type": "stream",
     "text": [
      "origin :  Six areas in Seoul are severely dry\n",
      "cleaned :   서울의 6개 지역은 매우 건조함\n"
     ]
    },
    {
     "name": "stderr",
     "output_type": "stream",
     "text": [
      "Setting `pad_token_id` to `eos_token_id`:None for open-end generation.\n"
     ]
    },
    {
     "name": "stdout",
     "output_type": "stream",
     "text": [
      "origin :  Bank of Korea Postpones Interest Rate Decision Until April\n",
      "cleaned :   한국은행, 금리 결정 지연…4월까지 연기\n"
     ]
    },
    {
     "name": "stderr",
     "output_type": "stream",
     "text": [
      "Setting `pad_token_id` to `eos_token_id`:None for open-end generation.\n"
     ]
    },
    {
     "name": "stdout",
     "output_type": "stream",
     "text": [
      "origin :  \"Food Biz Success Stories\"\n",
      "cleaned :   \"음식 비즈니스 성공 이야기\"\n"
     ]
    },
    {
     "name": "stderr",
     "output_type": "stream",
     "text": [
      "Setting `pad_token_id` to `eos_token_id`:None for open-end generation.\n"
     ]
    },
    {
     "name": "stdout",
     "output_type": "stream",
     "text": [
      "origin :  Disney Presents Freshly Singsong: A Freshly Singsong Performance by Mrs. Singsong\n",
      "cleaned :   디즈니, 신선한 싱송 공연을 선보여 - 싱송 부인의 싱송 공연\n"
     ]
    },
    {
     "name": "stderr",
     "output_type": "stream",
     "text": [
      "Setting `pad_token_id` to `eos_token_id`:None for open-end generation.\n"
     ]
    },
    {
     "name": "stdout",
     "output_type": "stream",
     "text": [
      "origin :  Constitutionalism 2A: GW Translation Edition\n",
      "cleaned :   미국 헌법 2차편: GW 번역판\n"
     ]
    },
    {
     "name": "stderr",
     "output_type": "stream",
     "text": [
      "Setting `pad_token_id` to `eos_token_id`:None for open-end generation.\n"
     ]
    },
    {
     "name": "stdout",
     "output_type": "stream",
     "text": [
      "origin :  39 Seoul Nopo, 65 Instant Noodles, 46 Wangsilda\n",
      "cleaned :   서울 노포 39, 즉석 라면 65, 왕실다 46\n"
     ]
    },
    {
     "name": "stderr",
     "output_type": "stream",
     "text": [
      "Setting `pad_token_id` to `eos_token_id`:None for open-end generation.\n"
     ]
    },
    {
     "name": "stdout",
     "output_type": "stream",
     "text": [
      "origin :  8th and 9th Grade Comprehensive until 2023\n",
      "cleaned :   8, 9학년 통합교육까지 2023년까지\n"
     ]
    },
    {
     "name": "stderr",
     "output_type": "stream",
     "text": [
      "Setting `pad_token_id` to `eos_token_id`:None for open-end generation.\n"
     ]
    },
    {
     "name": "stdout",
     "output_type": "stream",
     "text": [
      "origin :  Manga 3rd Part: Skeleton Kids: Burning\n",
      "cleaned :   만화 3부: 골격 어린이: 타오르다\n"
     ]
    },
    {
     "name": "stderr",
     "output_type": "stream",
     "text": [
      "Setting `pad_token_id` to `eos_token_id`:None for open-end generation.\n"
     ]
    },
    {
     "name": "stdout",
     "output_type": "stream",
     "text": [
      "origin :  The 5th paragraph of the 5th article of the Declaration of Independence written by Yong in prison 140 years ago\n",
      "cleaned :   140년 전에 감옥에서 쓴 용의 독립선언서 5항 5절\n"
     ]
    },
    {
     "name": "stderr",
     "output_type": "stream",
     "text": [
      "Setting `pad_token_id` to `eos_token_id`:None for open-end generation.\n"
     ]
    },
    {
     "name": "stdout",
     "output_type": "stream",
     "text": [
      "origin :  Photographer T V Jungman's YV Museum of Photography Exhibition\n",
      "cleaned :   사진작가 정만희의 YV 사진 박물관 전시회\n"
     ]
    },
    {
     "name": "stderr",
     "output_type": "stream",
     "text": [
      "Setting `pad_token_id` to `eos_token_id`:None for open-end generation.\n"
     ]
    },
    {
     "name": "stdout",
     "output_type": "stream",
     "text": [
      "origin :   2nd Nationwide Series Championships \n",
      "cleaned :   전국 2차 시리즈 챔피언십 \n"
     ]
    },
    {
     "name": "stderr",
     "output_type": "stream",
     "text": [
      "Setting `pad_token_id` to `eos_token_id`:None for open-end generation.\n"
     ]
    },
    {
     "name": "stdout",
     "output_type": "stream",
     "text": [
      "origin :  Hyundai August domestic sales up 176% from a year ago\n",
      "cleaned :   현대차 8월 국내 판매량, 전년동기 대비 176% 증가\n"
     ]
    },
    {
     "name": "stderr",
     "output_type": "stream",
     "text": [
      "Setting `pad_token_id` to `eos_token_id`:None for open-end generation.\n"
     ]
    },
    {
     "name": "stdout",
     "output_type": "stream",
     "text": [
      "origin :   Choi Ji-man Hits Two Consecutive Hits, Batting Average 0.269 \n",
      "cleaned :   최지만, 연속 두 안타, 타율 0.269 기록\n"
     ]
    },
    {
     "name": "stderr",
     "output_type": "stream",
     "text": [
      "Setting `pad_token_id` to `eos_token_id`:None for open-end generation.\n"
     ]
    },
    {
     "name": "stdout",
     "output_type": "stream",
     "text": [
      "origin :  Food and Drug Safety Administration Opens Library for Reviewing the Safety of Concentrated Bodies Technology\n",
      "cleaned :   식품의약품안전처, 집중체 기술 안전성 검토 특별 도서관 개설\n"
     ]
    },
    {
     "name": "stderr",
     "output_type": "stream",
     "text": [
      "Setting `pad_token_id` to `eos_token_id`:None for open-end generation.\n"
     ]
    },
    {
     "name": "stdout",
     "output_type": "stream",
     "text": [
      "origin :  COVID-19 Outbreak Continues for Two Months\n",
      "cleaned :   코로나19 감염이 2개월째 계속되고 있다\n"
     ]
    },
    {
     "name": "stderr",
     "output_type": "stream",
     "text": [
      "Setting `pad_token_id` to `eos_token_id`:None for open-end generation.\n"
     ]
    },
    {
     "name": "stdout",
     "output_type": "stream",
     "text": [
      "origin :  The Second District Court of Daegu, Geumjeong Branch, 7th Division, held a J Culture First Trial\n",
      "cleaned :   대구 남구청 북구청 7부 법원, 제2지방법원 금정지원, 첫 번째 J문화 심리 진행\n"
     ]
    },
    {
     "name": "stderr",
     "output_type": "stream",
     "text": [
      "Setting `pad_token_id` to `eos_token_id`:None for open-end generation.\n"
     ]
    },
    {
     "name": "stdout",
     "output_type": "stream",
     "text": [
      "origin :  The 81st batch of Chungbuk F1 trainees attracted a lot of attention. \n",
      "cleaned :   충북 F1 81기 훈련생들이 많은 관심을 끌었다.\n"
     ]
    },
    {
     "name": "stderr",
     "output_type": "stream",
     "text": [
      "Setting `pad_token_id` to `eos_token_id`:None for open-end generation.\n"
     ]
    },
    {
     "name": "stdout",
     "output_type": "stream",
     "text": [
      "origin :  Lotte to Pay 60 Million Won for V Mountain River Festival\n",
      "cleaned :   롯데, V산\n"
     ]
    },
    {
     "name": "stderr",
     "output_type": "stream",
     "text": [
      "Setting `pad_token_id` to `eos_token_id`:None for open-end generation.\n"
     ]
    },
    {
     "name": "stdout",
     "output_type": "stream",
     "text": [
      "origin :  LG Electronics Launches LG X6 with Triple Camera\n",
      "cleaned :   LG전자가 트리플 카메라를 탑재한 LG X6 출시\n"
     ]
    },
    {
     "name": "stderr",
     "output_type": "stream",
     "text": [
      "Setting `pad_token_id` to `eos_token_id`:None for open-end generation.\n"
     ]
    },
    {
     "name": "stdout",
     "output_type": "stream",
     "text": [
      "origin :  \"At the 9th King's B Minmarinsky, there were 4y seats in the 0th row.\"\n",
      "cleaned :   \"9번째 왕의 B 민마린스키에서 0번 열에는 4열이 있었다.\"\n"
     ]
    },
    {
     "name": "stderr",
     "output_type": "stream",
     "text": [
      "Setting `pad_token_id` to `eos_token_id`:None for open-end generation.\n"
     ]
    },
    {
     "name": "stdout",
     "output_type": "stream",
     "text": [
      "origin :  \"Kim Yoon-seok and Kim Young-ha Win the 9th East Asia Literary Award\"\n",
      "cleaned :   \"김윤석과 김영하, 제9회 동아시아 문학상 수상\"\n"
     ]
    },
    {
     "name": "stderr",
     "output_type": "stream",
     "text": [
      "Setting `pad_token_id` to `eos_token_id`:None for open-end generation.\n"
     ]
    },
    {
     "name": "stdout",
     "output_type": "stream",
     "text": [
      "origin :  Two Lost Dogs Found in RFW, Shinbanpodong\n",
      "cleaned :   두 마리의 실종된 개가 RFW, 신반포동에서 발견되다\n"
     ]
    },
    {
     "name": "stderr",
     "output_type": "stream",
     "text": [
      "Setting `pad_token_id` to `eos_token_id`:None for open-end generation.\n"
     ]
    },
    {
     "name": "stdout",
     "output_type": "stream",
     "text": [
      "origin :  In the Melting Ice of Space\n",
      "cleaned :   우주에서 녹는\n"
     ]
    },
    {
     "name": "stderr",
     "output_type": "stream",
     "text": [
      "Setting `pad_token_id` to `eos_token_id`:None for open-end generation.\n"
     ]
    },
    {
     "name": "stdout",
     "output_type": "stream",
     "text": [
      "origin :  Let's Look into How to Protect the Liver\n",
      "cleaned :   간을 보호하는 방법 알아보기\n"
     ]
    },
    {
     "name": "stderr",
     "output_type": "stream",
     "text": [
      "Setting `pad_token_id` to `eos_token_id`:None for open-end generation.\n"
     ]
    },
    {
     "name": "stdout",
     "output_type": "stream",
     "text": [
      "origin :  7 Gapsan Ice Fountain Experience\n",
      "cleaned :   7개의 얼음 샷 펀치 경험\n"
     ]
    },
    {
     "name": "stderr",
     "output_type": "stream",
     "text": [
      "Setting `pad_token_id` to `eos_token_id`:None for open-end generation.\n"
     ]
    },
    {
     "name": "stdout",
     "output_type": "stream",
     "text": [
      "origin :  After the Suneung, Seongnam City Hall offers 9 free benefits for O-See examination hall visitors\n",
      "cleaned :   오-시 시험장 방문자에게 성남시청 9가지 무료 혜택 제공\n"
     ]
    },
    {
     "name": "stderr",
     "output_type": "stream",
     "text": [
      "Setting `pad_token_id` to `eos_token_id`:None for open-end generation.\n"
     ]
    },
    {
     "name": "stdout",
     "output_type": "stream",
     "text": [
      "origin :  Today's weather: South Korea\n",
      "cleaned :   오늘의 날씨: 한국 남부\n"
     ]
    },
    {
     "name": "stderr",
     "output_type": "stream",
     "text": [
      "Setting `pad_token_id` to `eos_token_id`:None for open-end generation.\n"
     ]
    },
    {
     "name": "stdout",
     "output_type": "stream",
     "text": [
      "origin :  New Book on the Japanese Army and the Chinese Communist Party\n",
      "cleaned :   일본군과 중국공산당에 관한 새로운 책\n"
     ]
    },
    {
     "name": "stderr",
     "output_type": "stream",
     "text": [
      "Setting `pad_token_id` to `eos_token_id`:None for open-end generation.\n"
     ]
    },
    {
     "name": "stdout",
     "output_type": "stream",
     "text": [
      "origin :  2.7 Update for S_콤 5GX Add-on Features Released\n",
      "cleaned :   삼성 갤럭시 S_콤 5GX 추가 기능 업데이트 버전 2.7 출시\n"
     ]
    },
    {
     "name": "stderr",
     "output_type": "stream",
     "text": [
      "Setting `pad_token_id` to `eos_token_id`:None for open-end generation.\n"
     ]
    },
    {
     "name": "stdout",
     "output_type": "stream",
     "text": [
      "origin :  Today's Comparison of Apartment Prices in Seoul and Seoraksan Mountain in Jeongseon\n",
      "cleaned :   오늘 서울 아파트 가격과 정선 서오산산의 가격 비교\n"
     ]
    },
    {
     "name": "stderr",
     "output_type": "stream",
     "text": [
      "Setting `pad_token_id` to `eos_token_id`:None for open-end generation.\n"
     ]
    },
    {
     "name": "stdout",
     "output_type": "stream",
     "text": [
      "origin :  A Life Without Direction: Losing Time\n",
      "cleaned :   방향 없는 삶: 시간의 손실\n"
     ]
    },
    {
     "name": "stderr",
     "output_type": "stream",
     "text": [
      "Setting `pad_token_id` to `eos_token_id`:None for open-end generation.\n"
     ]
    },
    {
     "name": "stdout",
     "output_type": "stream",
     "text": [
      "origin :  Nationwide unsold homes in December 2021 increase by 237% in one month, reaching 61,000 units\n",
      "cleaned :   2021년 12월 전국 미판매 집 수, 한달 만에 237% 급증 61,000호에 달해\n"
     ]
    },
    {
     "name": "stderr",
     "output_type": "stream",
     "text": [
      "Setting `pad_token_id` to `eos_token_id`:None for open-end generation.\n"
     ]
    },
    {
     "name": "stdout",
     "output_type": "stream",
     "text": [
      "origin :  Crafting World with Kofbap and W, Busan LALALA Art Festival\n",
      "cleaned :   코프밥과 W로 세계를 꾸미다, 부산 LALALA 아\n"
     ]
    },
    {
     "name": "stderr",
     "output_type": "stream",
     "text": [
      "Setting `pad_token_id` to `eos_token_id`:None for open-end generation.\n"
     ]
    },
    {
     "name": "stdout",
     "output_type": "stream",
     "text": [
      "origin :  Park Sang-wook's 6th Modern Literature Series Book is Released\n",
      "cleaned :   박상욱의 6번째 현대문학시리즈 책이 출간되었다.\n"
     ]
    },
    {
     "name": "stderr",
     "output_type": "stream",
     "text": [
      "Setting `pad_token_id` to `eos_token_id`:None for open-end generation.\n"
     ]
    },
    {
     "name": "stdout",
     "output_type": "stream",
     "text": [
      "origin :  The butterfly soars into the sky after climbing on the dragon's back\n",
      "cleaned :   용의 등에 올라타 날아오르는 나비\n"
     ]
    },
    {
     "name": "stderr",
     "output_type": "stream",
     "text": [
      "Setting `pad_token_id` to `eos_token_id`:None for open-end generation.\n"
     ]
    },
    {
     "name": "stdout",
     "output_type": "stream",
     "text": [
      "origin :  South Korea's Extreme Arts: Upcoming Fall Performances\n",
      "cleaned :   한국의 극한 예술: 추석 기간 동안의 예술 공연\n"
     ]
    },
    {
     "name": "stderr",
     "output_type": "stream",
     "text": [
      "Setting `pad_token_id` to `eos_token_id`:None for open-end generation.\n"
     ]
    },
    {
     "name": "stdout",
     "output_type": "stream",
     "text": [
      "origin :  Energy Transition Policy Announced on May 17, 2022\n",
      "cleaned :   에너지 전환 정책, 2022년 5월 17일 발표\n"
     ]
    },
    {
     "name": "stderr",
     "output_type": "stream",
     "text": [
      "Setting `pad_token_id` to `eos_token_id`:None for open-end generation.\n"
     ]
    },
    {
     "name": "stdout",
     "output_type": "stream",
     "text": [
      "origin :  A Single Travel Photo Captivates 8 Non-Subscribers\n",
      "cleaned :   여행 사진 한 장으로 8명의 비구독자를 매혹하다\n"
     ]
    },
    {
     "name": "stderr",
     "output_type": "stream",
     "text": [
      "Setting `pad_token_id` to `eos_token_id`:None for open-end generation.\n"
     ]
    },
    {
     "name": "stdout",
     "output_type": "stream",
     "text": [
      "origin :  제목없음\n",
      "cleaned :   제목 없음\n"
     ]
    },
    {
     "name": "stderr",
     "output_type": "stream",
     "text": [
      "Setting `pad_token_id` to `eos_token_id`:None for open-end generation.\n"
     ]
    },
    {
     "name": "stdout",
     "output_type": "stream",
     "text": [
      "origin :  Classical concerts are my favorite, and I enjoy movies during the day too!\n",
      "cleaned :   클래식 콘서트가 제 취미이고, 낮 시간대 영화 관람도 좋아요!\n"
     ]
    },
    {
     "name": "stderr",
     "output_type": "stream",
     "text": [
      "Setting `pad_token_id` to `eos_token_id`:None for open-end generation.\n"
     ]
    },
    {
     "name": "stdout",
     "output_type": "stream",
     "text": [
      "origin :  Challenging for a 3-Game Winning Streak in the 3rd Round of the 3rd Round of the 3rd Round\n",
      "cleaned :   3경기를 연속으로 이길 수 있는 3라운드 3라운드 3라운드의 도전\n"
     ]
    },
    {
     "name": "stderr",
     "output_type": "stream",
     "text": [
      "Setting `pad_token_id` to `eos_token_id`:None for open-end generation.\n"
     ]
    },
    {
     "name": "stdout",
     "output_type": "stream",
     "text": [
      "origin :  8th Round Z for the Trend, at MarkeQ's Library\n",
      "cleaned :   8번째 라운드의 트렌드, 마케Q의 도서관에서 진행된다\n"
     ]
    },
    {
     "name": "stderr",
     "output_type": "stream",
     "text": [
      "Setting `pad_token_id` to `eos_token_id`:None for open-end generation.\n"
     ]
    },
    {
     "name": "stdout",
     "output_type": "stream",
     "text": [
      "origin :  Gimimuseum, 52nd Century, 4 People, Entrance Fee\n",
      "cleaned :   김이뮤지엄, 52세기, 4명, 입장료\n"
     ]
    },
    {
     "name": "stderr",
     "output_type": "stream",
     "text": [
      "Setting `pad_token_id` to `eos_token_id`:None for open-end generation.\n"
     ]
    },
    {
     "name": "stdout",
     "output_type": "stream",
     "text": [
      "origin :  Buehler's 2 HRs Lead Dodgers to ALCS Survival in Yankees Game\n",
      "cleaned :   부허러의 \n"
     ]
    },
    {
     "name": "stderr",
     "output_type": "stream",
     "text": [
      "Setting `pad_token_id` to `eos_token_id`:None for open-end generation.\n"
     ]
    },
    {
     "name": "stdout",
     "output_type": "stream",
     "text": [
      "origin :  Jinbaek Forest Healing Walk 2\n",
      "cleaned :   진백 숲 치유 걷기 2\n"
     ]
    },
    {
     "name": "stderr",
     "output_type": "stream",
     "text": [
      "Setting `pad_token_id` to `eos_token_id`:None for open-end generation.\n"
     ]
    },
    {
     "name": "stdout",
     "output_type": "stream",
     "text": [
      "origin :  Youth Criminals from All Over the Country Compete in National Championship\n",
      "cleaned :   전국 청소년 범죄자들이 국가 챔피언십 대회에 참가합니다. \n"
     ]
    },
    {
     "name": "stderr",
     "output_type": "stream",
     "text": [
      "Setting `pad_token_id` to `eos_token_id`:None for open-end generation.\n"
     ]
    },
    {
     "name": "stdout",
     "output_type": "stream",
     "text": [
      "origin :  Namwon News: Recruiting Director for Chuncheon Academy\n",
      "cleaned :   춘천학원의 신규 단장 모집 - 남원뉴스\n"
     ]
    },
    {
     "name": "stderr",
     "output_type": "stream",
     "text": [
      "Setting `pad_token_id` to `eos_token_id`:None for open-end generation.\n"
     ]
    },
    {
     "name": "stdout",
     "output_type": "stream",
     "text": [
      "origin :  Choo Shin-soo ends the season with a.265 batting average, while Choi Ji-man hits 19 home runs and drives in 6 runs. \n",
      "cleaned :   최진수는 시즌을.265의 타율로 마감했으며, 최지만은 19개의 홈런과 6개의 타점을 기록했습니다. \n"
     ]
    },
    {
     "name": "stderr",
     "output_type": "stream",
     "text": [
      "Setting `pad_token_id` to `eos_token_id`:None for open-end generation.\n"
     ]
    },
    {
     "name": "stdout",
     "output_type": "stream",
     "text": [
      "origin :  KIA, K4 M Class receives high praise from Sudanese fans\n",
      "cleaned :   KIA, K4 M 클래스, 수단 팬들로부터 높은 찬사를 받습니다.\n"
     ]
    },
    {
     "name": "stderr",
     "output_type": "stream",
     "text": [
      "Setting `pad_token_id` to `eos_token_id`:None for open-end generation.\n"
     ]
    },
    {
     "name": "stdout",
     "output_type": "stream",
     "text": [
      "origin :  KFA to Host 70th World Cup in July 2023\n",
      "cleaned :   2023년 7월 KFA가 개최하는 70회 FIFA 월드컵\n"
     ]
    },
    {
     "name": "stderr",
     "output_type": "stream",
     "text": [
      "Setting `pad_token_id` to `eos_token_id`:None for open-end generation.\n"
     ]
    },
    {
     "name": "stdout",
     "output_type": "stream",
     "text": [
      "origin :  \"35th Round of Soccer Masters Takes Place in Incheon\"\n",
      "cleaned :   \"인천에서 열리는 35회 축구 마스터스 대회\" \n"
     ]
    },
    {
     "name": "stderr",
     "output_type": "stream",
     "text": [
      "Setting `pad_token_id` to `eos_token_id`:None for open-end generation.\n"
     ]
    },
    {
     "name": "stdout",
     "output_type": "stream",
     "text": [
      "origin :  Vietnam Football Under Park Hang-seo's Preparation for Match with Korea\n",
      "cleaned :   박항서 감독이 지도하는 베트남 축구, 한국과의 경기 준비 중입니다.\n"
     ]
    },
    {
     "name": "stderr",
     "output_type": "stream",
     "text": [
      "Setting `pad_token_id` to `eos_token_id`:None for open-end generation.\n"
     ]
    },
    {
     "name": "stdout",
     "output_type": "stream",
     "text": [
      "origin :  Dodgers' Manager Dave Roberts Makes Choi Hwan as Ryu Hyun-Jin's Catcher\n",
      "cleaned :   로스앤젤레스 다저스의 감독 데이브 로버츠, 류현진의 캐쳐로 최환 선발\n"
     ]
    },
    {
     "name": "stderr",
     "output_type": "stream",
     "text": [
      "Setting `pad_token_id` to `eos_token_id`:None for open-end generation.\n"
     ]
    },
    {
     "name": "stdout",
     "output_type": "stream",
     "text": [
      "origin :  5-Corporation R Bank, 4 Regional Branches, 3 Employees Held Hostage\n",
      "cleaned :   5-Corporation R Bank, 4개 지역 지점, 3명 직원이 인질로 잡힌다.\n"
     ]
    },
    {
     "name": "stderr",
     "output_type": "stream",
     "text": [
      "Setting `pad_token_id` to `eos_token_id`:None for open-end generation.\n"
     ]
    },
    {
     "name": "stdout",
     "output_type": "stream",
     "text": [
      "origin :  I Don't Know, Kim Jong Il's Wife Kim Jong-Sook\n",
      "cleaned :  \n"
     ]
    },
    {
     "name": "stderr",
     "output_type": "stream",
     "text": [
      "Setting `pad_token_id` to `eos_token_id`:None for open-end generation.\n"
     ]
    },
    {
     "name": "stdout",
     "output_type": "stream",
     "text": [
      "origin :  World 9U Genius Commander S.Sico O.O Director Korean War\n",
      "cleaned :   세계 9세 천재 지휘관 S.Sico, 한국 전쟁의 명령을\n"
     ]
    },
    {
     "name": "stderr",
     "output_type": "stream",
     "text": [
      "Setting `pad_token_id` to `eos_token_id`:None for open-end generation.\n"
     ]
    },
    {
     "name": "stdout",
     "output_type": "stream",
     "text": [
      "origin :  Choo Shin-soo Hits 2 Home Runs in KBO League Game, Bats.21\n",
      "cleaned :   추신수, KBO 리그 경기에서 2홈런, 타율 21\n"
     ]
    },
    {
     "name": "stderr",
     "output_type": "stream",
     "text": [
      "Setting `pad_token_id` to `eos_token_id`:None for open-end generation.\n"
     ]
    },
    {
     "name": "stdout",
     "output_type": "stream",
     "text": [
      "origin :  Young-jun Yoo, Wang Wei, and 805 others carefully rescued \n",
      "cleaned :   유영준, 왕웨이, 805명이 신중하게 구조되었다. \n"
     ]
    },
    {
     "name": "stderr",
     "output_type": "stream",
     "text": [
      "Setting `pad_token_id` to `eos_token_id`:None for open-end generation.\n"
     ]
    },
    {
     "name": "stdout",
     "output_type": "stream",
     "text": [
      "origin :  Cho Hyun-woo's multi-goal, Seoul Bank's 1st win\n",
      "cleaned :   최현우의 멀티골, 서울은행 첫 승\n"
     ]
    },
    {
     "name": "stderr",
     "output_type": "stream",
     "text": [
      "Setting `pad_token_id` to `eos_token_id`:None for open-end generation.\n"
     ]
    },
    {
     "name": "stdout",
     "output_type": "stream",
     "text": [
      "origin :  157 Choi Woo-sung, Along with Poison, Struggles in PAG 5 Games\n",
      "cleaned :   157 최우성, 독과 함께 PAG 5 경기에서 싸움\n"
     ]
    },
    {
     "name": "stderr",
     "output_type": "stream",
     "text": [
      "Setting `pad_token_id` to `eos_token_id`:None for open-end generation.\n"
     ]
    },
    {
     "name": "stdout",
     "output_type": "stream",
     "text": [
      "origin :  X Corp, GS Caltex, SK Hynix, Hyundai Motor, LG Electronics, Top 5 Companies See 7-Month Consecutive Sales Increase\n",
      "cleaned :   X Corp, GS 칼텍스, SK 하이닉스, 현대자동차, LG전자, 5대 기업, 7개월 연속 매출 증가\n"
     ]
    },
    {
     "name": "stderr",
     "output_type": "stream",
     "text": [
      "Setting `pad_token_id` to `eos_token_id`:None for open-end generation.\n"
     ]
    },
    {
     "name": "stdout",
     "output_type": "stream",
     "text": [
      "origin :  1.8M for 4-year deal with Lee Tae-Suk\n",
      "cleaned :  \n"
     ]
    },
    {
     "name": "stderr",
     "output_type": "stream",
     "text": [
      "Setting `pad_token_id` to `eos_token_id`:None for open-end generation.\n"
     ]
    },
    {
     "name": "stdout",
     "output_type": "stream",
     "text": [
      "origin :  SK Ulsan Mobis Phoenix's Starting Lineup Change: L.L. Liams Signed\n",
      "cleaned :   울산 모비스 피닉스의 선발 라인업 변경: L.L. 리암스 영입\n"
     ]
    },
    {
     "name": "stderr",
     "output_type": "stream",
     "text": [
      "Setting `pad_token_id` to `eos_token_id`:None for open-end generation.\n"
     ]
    },
    {
     "name": "stdout",
     "output_type": "stream",
     "text": [
      "origin :  2022 8th Round Tournament: Germany vs Limousine\n",
      "cleaned :   2022년 독일 대 리무진 8회 토너먼트\n"
     ]
    },
    {
     "name": "stderr",
     "output_type": "stream",
     "text": [
      "Setting `pad_token_id` to `eos_token_id`:None for open-end generation.\n"
     ]
    },
    {
     "name": "stdout",
     "output_type": "stream",
     "text": [
      "origin :   Men's Volleyball Team A0 Line at the Olympics \n",
      "cleaned :   남자 배구 대표팀, 올림픽에서 A0 라인에 선다\n"
     ]
    },
    {
     "name": "stderr",
     "output_type": "stream",
     "text": [
      "Setting `pad_token_id` to `eos_token_id`:None for open-end generation.\n"
     ]
    },
    {
     "name": "stdout",
     "output_type": "stream",
     "text": [
      "origin :  MLB.com: Korea's Opening Day W vs. Ryu Hyun-Jin's Victory in the 12th Inning\n",
      "cleaned :   MLB.com: 한국의 개막전 승리, 류현진의 12회 투구 승리\n"
     ]
    },
    {
     "name": "stderr",
     "output_type": "stream",
     "text": [
      "Setting `pad_token_id` to `eos_token_id`:None for open-end generation.\n"
     ]
    },
    {
     "name": "stdout",
     "output_type": "stream",
     "text": [
      "origin :  Brazil vs. Women's National Soccer Team in the 3rd Round Match\n",
      "cleaned :   브라질과 여자 축구 국가대표팀, 3차전 경기\n"
     ]
    },
    {
     "name": "stderr",
     "output_type": "stream",
     "text": [
      "Setting `pad_token_id` to `eos_token_id`:None for open-end generation.\n"
     ]
    },
    {
     "name": "stdout",
     "output_type": "stream",
     "text": [
      "origin :  Park Chul-seo's score shot up and he was all tremors. \n",
      "cleaned :   박철서의 점수는 급격히 상승하고 그는 떨리고 있었다.\n"
     ]
    },
    {
     "name": "stderr",
     "output_type": "stream",
     "text": [
      "Setting `pad_token_id` to `eos_token_id`:None for open-end generation.\n"
     ]
    },
    {
     "name": "stdout",
     "output_type": "stream",
     "text": [
      "origin :  J's goal is not easy to open\n",
      "cleaned :   J의 목표는 쉽게 열리지 않습니다.\n"
     ]
    },
    {
     "name": "stderr",
     "output_type": "stream",
     "text": [
      "Setting `pad_token_id` to `eos_token_id`:None for open-end generation.\n"
     ]
    },
    {
     "name": "stdout",
     "output_type": "stream",
     "text": [
      "origin :  Interview with MLB Legend Bobby Cox\n",
      "cleaned :   MLB 전설 보비 콕스와의 인터뷰\n"
     ]
    },
    {
     "name": "stderr",
     "output_type": "stream",
     "text": [
      "Setting `pad_token_id` to `eos_token_id`:None for open-end generation.\n"
     ]
    },
    {
     "name": "stdout",
     "output_type": "stream",
     "text": [
      "origin :  Pocheon City, One Fishing Boat Caught for Illegally Installing a Structure\n",
      "cleaned :   포천시, 불법 구조물 설치를 이유로 한 어선 1척 검거\n"
     ]
    },
    {
     "name": "stderr",
     "output_type": "stream",
     "text": [
      "Setting `pad_token_id` to `eos_token_id`:None for open-end generation.\n"
     ]
    },
    {
     "name": "stdout",
     "output_type": "stream",
     "text": [
      "origin :  \"Lightning Fast Lee Wins by a Full Stroke\"\n",
      "cleaned :   \"전격적인 이승엽, 완력으로 승리\"\n"
     ]
    },
    {
     "name": "stderr",
     "output_type": "stream",
     "text": [
      "Setting `pad_token_id` to `eos_token_id`:None for open-end generation.\n"
     ]
    },
    {
     "name": "stdout",
     "output_type": "stream",
     "text": [
      "origin :  Construction of the New Gangwon CBS Headquarters Begins on the 8th, with Completion Expected in November\n",
      "cleaned :   강원 CBS 신사옥 건립 8일 시작, 11월 완료 예정\n"
     ]
    },
    {
     "name": "stderr",
     "output_type": "stream",
     "text": [
      "Setting `pad_token_id` to `eos_token_id`:None for open-end generation.\n"
     ]
    },
    {
     "name": "stdout",
     "output_type": "stream",
     "text": [
      "origin :  NHN Enters the RAYOCTEAST, 01 Win\n",
      "cleaned :   NHN 레이오컷에 입점, 01 윈 성공\n"
     ]
    },
    {
     "name": "stderr",
     "output_type": "stream",
     "text": [
      "Setting `pad_token_id` to `eos_token_id`:None for open-end generation.\n"
     ]
    },
    {
     "name": "stdout",
     "output_type": "stream",
     "text": [
      "origin :  Lotte Giants Win 74th Game in a Row at Home, at Jijik Stadium\n",
      "cleaned :   롯데 자이언츠, 홈에서 74연승 달성, 지직 스타디움에서 승리\n"
     ]
    },
    {
     "name": "stderr",
     "output_type": "stream",
     "text": [
      "Setting `pad_token_id` to `eos_token_id`:None for open-end generation.\n"
     ]
    },
    {
     "name": "stdout",
     "output_type": "stream",
     "text": [
      "origin :  Kim Bum-ho, 6th Generation JxN Instrument InfiniTe 2nd Concert\n",
      "cleaned :   김범호, 6세대 JxN 악기 인피니티 2차 콘서트\n"
     ]
    },
    {
     "name": "stderr",
     "output_type": "stream",
     "text": [
      "Setting `pad_token_id` to `eos_token_id`:None for open-end generation.\n"
     ]
    },
    {
     "name": "stdout",
     "output_type": "stream",
     "text": [
      "origin :   K4O to Hold Kick-Off Meeting at Seoul National University in January Next Year \n",
      "cleaned :   K4O가 다음 해 1월 서울대학교에서 킥오프 회의를 개최할 예정입니다.\n"
     ]
    },
    {
     "name": "stderr",
     "output_type": "stream",
     "text": [
      "Setting `pad_token_id` to `eos_token_id`:None for open-end generation.\n"
     ]
    },
    {
     "name": "stdout",
     "output_type": "stream",
     "text": [
      "origin :  This and That, B2 Construction Director Hwang Yeon Utilized for Consideration\n",
      "cleaned :   이와 그, B2 건설 대표 황연이 고려에 활용되다\n"
     ]
    },
    {
     "name": "stderr",
     "output_type": "stream",
     "text": [
      "Setting `pad_token_id` to `eos_token_id`:None for open-end generation.\n"
     ]
    },
    {
     "name": "stdout",
     "output_type": "stream",
     "text": [
      "origin :  SKD Moon Seung-hyun, 5 Innings, 4 Runs in CS Game\n",
      "cleaned :   SKD 문승현, CS 경기 5회 연속 4점\n"
     ]
    },
    {
     "name": "stderr",
     "output_type": "stream",
     "text": [
      "Setting `pad_token_id` to `eos_token_id`:None for open-end generation.\n"
     ]
    },
    {
     "name": "stdout",
     "output_type": "stream",
     "text": [
      "origin :  제목없음\n",
      "cleaned :   제목 없음: 제목 없음\n"
     ]
    },
    {
     "name": "stderr",
     "output_type": "stream",
     "text": [
      "Setting `pad_token_id` to `eos_token_id`:None for open-end generation.\n"
     ]
    },
    {
     "name": "stdout",
     "output_type": "stream",
     "text": [
      "origin :  Governor Kim Mentions the Gaposan Incident on the 6th Floor of F-Dong\n",
      "cleaned :   김지사의 6층 F동에서의 가포산 사건 언급\n"
     ]
    },
    {
     "name": "stderr",
     "output_type": "stream",
     "text": [
      "Setting `pad_token_id` to `eos_token_id`:None for open-end generation.\n"
     ]
    },
    {
     "name": "stdout",
     "output_type": "stream",
     "text": [
      "origin :  Wednesday, Korea's Football Team Has a Chance to Advance to the World Cup 16th Round\n",
      "cleaned :   수요일, 한국 축구 대표팀이 월드컵 16강 진출의 기회를 잡다\n"
     ]
    },
    {
     "name": "stderr",
     "output_type": "stream",
     "text": [
      "Setting `pad_token_id` to `eos_token_id`:None for open-end generation.\n"
     ]
    },
    {
     "name": "stdout",
     "output_type": "stream",
     "text": [
      "origin :  D Sports: AsennZR, Minimum Wage of 67 Billion Won\n",
      "cleaned :   D 스포츠: 애센즈알, 최소임금 67억 원\n"
     ]
    },
    {
     "name": "stderr",
     "output_type": "stream",
     "text": [
      "Setting `pad_token_id` to `eos_token_id`:None for open-end generation.\n"
     ]
    },
    {
     "name": "stdout",
     "output_type": "stream",
     "text": [
      "origin :  All Sports Home Shopping Enters BJ Home Shopping Market\n",
      "cleaned :   스포츠 모든 쇼핑 홈쇼핑이 BJ 홈쇼핑 시장에 진입합니다.\n"
     ]
    },
    {
     "name": "stderr",
     "output_type": "stream",
     "text": [
      "Setting `pad_token_id` to `eos_token_id`:None for open-end generation.\n"
     ]
    },
    {
     "name": "stdout",
     "output_type": "stream",
     "text": [
      "origin :  Goldstone HPBLTU to Collaborate with Samsung Electronics after 4 Years\n",
      "cleaned :   골드스톤 HPBLTU, 삼성전자와 4년 만에 협력\n"
     ]
    },
    {
     "name": "stderr",
     "output_type": "stream",
     "text": [
      "Setting `pad_token_id` to `eos_token_id`:None for open-end generation.\n"
     ]
    },
    {
     "name": "stdout",
     "output_type": "stream",
     "text": [
      "origin :  The Dodgers beat the Russians by 6 points with a 3-point field goal by Pollock, extending their winning streak to four games.\n",
      "cleaned :   러시아를 6점 차로 누르고 폴록의 3점 야투로 승리를 확장한 로스앤젤레스 다저스는 4연승을 기록했다.\n"
     ]
    },
    {
     "name": "stderr",
     "output_type": "stream",
     "text": [
      "Setting `pad_token_id` to `eos_token_id`:None for open-end generation.\n"
     ]
    },
    {
     "name": "stdout",
     "output_type": "stream",
     "text": [
      "origin :  The First Match of Group 4 in the African Women's World Cup Qualifiers\n",
      "cleaned :   2019년 아프리카 여자 월드컵 예선, 그룹 4 첫 경기\n"
     ]
    },
    {
     "name": "stderr",
     "output_type": "stream",
     "text": [
      "Setting `pad_token_id` to `eos_token_id`:None for open-end generation.\n"
     ]
    },
    {
     "name": "stdout",
     "output_type": "stream",
     "text": [
      "origin :  \"The 2nd Story of the 4th Republic: Amateur Debut on Stage\"\n",
      "cleaned :   \"제4공화국의 2번째 이야기: 무대 데뷔의 아마추어들\"\n"
     ]
    },
    {
     "name": "stderr",
     "output_type": "stream",
     "text": [
      "Setting `pad_token_id` to `eos_token_id`:None for open-end generation.\n"
     ]
    },
    {
     "name": "stdout",
     "output_type": "stream",
     "text": [
      "origin :  Oshity River Race, Arsenal's 20-Year Wait for League Title Frustrated\n",
      "cleaned :   오시티 강 레이스, 아스널의 리그 타이틀 20년 만의 기회 좌절\n"
     ]
    },
    {
     "name": "stderr",
     "output_type": "stream",
     "text": [
      "Setting `pad_token_id` to `eos_token_id`:None for open-end generation.\n"
     ]
    },
    {
     "name": "stdout",
     "output_type": "stream",
     "text": [
      "origin :  U2's \"Bad\" Played on YouTube Channel \"Park Ji-Sung's Goal\"\n",
      "cleaned :   U2의 \"Bad\" 박지성의 골 영상에 등장\n"
     ]
    },
    {
     "name": "stderr",
     "output_type": "stream",
     "text": [
      "Setting `pad_token_id` to `eos_token_id`:None for open-end generation.\n"
     ]
    },
    {
     "name": "stdout",
     "output_type": "stream",
     "text": [
      "origin :  KT Announces Second Quarter Earnings Report\n",
      "cleaned :   KT, 2분기 영업이익 2조 7천억 원 발표\n"
     ]
    },
    {
     "name": "stderr",
     "output_type": "stream",
     "text": [
      "Setting `pad_token_id` to `eos_token_id`:None for open-end generation.\n"
     ]
    },
    {
     "name": "stdout",
     "output_type": "stream",
     "text": [
      "origin :  15 Defeats in the Universe League Aran, Withdrawal from 4-Gendered League\n",
      "cleaned :   우주 리그 15연패, 아란 4성별 리그 탈퇴\n"
     ]
    },
    {
     "name": "stderr",
     "output_type": "stream",
     "text": [
      "Setting `pad_token_id` to `eos_token_id`:None for open-end generation.\n"
     ]
    },
    {
     "name": "stdout",
     "output_type": "stream",
     "text": [
      "origin :  LG G6 Pre-order Sales Begin, Offering a 45,000 Won Discount\n",
      "cleaned :   LG G6 예약 판매 시작, 45,000원 할인 제공\n"
     ]
    },
    {
     "name": "stderr",
     "output_type": "stream",
     "text": [
      "Setting `pad_token_id` to `eos_token_id`:None for open-end generation.\n"
     ]
    },
    {
     "name": "stdout",
     "output_type": "stream",
     "text": [
      "origin :  8 days after being investigated for assault, Uasia was arrested\n",
      "cleaned :   폭행 사건 조사 8일 만에, 우시아 체포됨\n"
     ]
    },
    {
     "name": "stderr",
     "output_type": "stream",
     "text": [
      "Setting `pad_token_id` to `eos_token_id`:None for open-end generation.\n"
     ]
    },
    {
     "name": "stdout",
     "output_type": "stream",
     "text": [
      "origin :  The Korea-Japan Women's Football Match Ended in a Draw\n",
      "cleaned :   한국-일본 여자 축구 경기는 무승부로 끝났다. \n"
     ]
    },
    {
     "name": "stderr",
     "output_type": "stream",
     "text": [
      "Setting `pad_token_id` to `eos_token_id`:None for open-end generation.\n"
     ]
    },
    {
     "name": "stdout",
     "output_type": "stream",
     "text": [
      "origin :  SallyCap acquires 4Q Y for 24 billion won, up 1 billion won from the previous bid\n",
      "cleaned :   샐리캡, 4QY 24억 원에 인수, 이전 입찰보다 1억 원 상승\n"
     ]
    },
    {
     "name": "stderr",
     "output_type": "stream",
     "text": [
      "Setting `pad_token_id` to `eos_token_id`:None for open-end generation.\n"
     ]
    },
    {
     "name": "stdout",
     "output_type": "stream",
     "text": [
      "origin :  Shanghai 2017 Asian Youth Games: Korean Women's Basketball 5th Day Match\n",
      "cleaned :   상하이 2017 아시아 청소년 게임: 한국 여자 농구 5일\n"
     ]
    },
    {
     "name": "stderr",
     "output_type": "stream",
     "text": [
      "Setting `pad_token_id` to `eos_token_id`:None for open-end generation.\n"
     ]
    },
    {
     "name": "stdout",
     "output_type": "stream",
     "text": [
      "origin :  Son Heung-min, Tottenham face Real Madrid in Champions League 8th Round\n",
      "cleaned :   손흥민, 토트넘 FC가 챔피언스리그 8라운드에서 레알 마드리드와 맞대결\n"
     ]
    },
    {
     "name": "stderr",
     "output_type": "stream",
     "text": [
      "Setting `pad_token_id` to `eos_token_id`:None for open-end generation.\n"
     ]
    },
    {
     "name": "stdout",
     "output_type": "stream",
     "text": [
      "origin :  Mercedes-Benz X-Class 1-Type Races Twice in Barcelona and Bilbao F1\n",
      "cleaned :   메르세데스-벤\n"
     ]
    },
    {
     "name": "stderr",
     "output_type": "stream",
     "text": [
      "Setting `pad_token_id` to `eos_token_id`:None for open-end generation.\n"
     ]
    },
    {
     "name": "stdout",
     "output_type": "stream",
     "text": [
      "origin :  Korean Air Pilot Donates $100,000 to Children's Charity\n",
      "cleaned :   한국항공사 조종사, 어린이 자선단체에 100만 달러 기부\n"
     ]
    },
    {
     "name": "stderr",
     "output_type": "stream",
     "text": [
      "Setting `pad_token_id` to `eos_token_id`:None for open-end generation.\n"
     ]
    },
    {
     "name": "stdout",
     "output_type": "stream",
     "text": [
      "origin :  LIMPIC Curling Qualifier: Prime Minister Nak-yeon\n",
      "cleaned :   임픽 크러링 예선: 총리 박남춘\n"
     ]
    },
    {
     "name": "stderr",
     "output_type": "stream",
     "text": [
      "Setting `pad_token_id` to `eos_token_id`:None for open-end generation.\n"
     ]
    },
    {
     "name": "stdout",
     "output_type": "stream",
     "text": [
      "origin :  Reversing P2PE Hybrid Launch\n",
      "cleaned :   P2PE 하이브리드 출시 반대\n"
     ]
    },
    {
     "name": "stderr",
     "output_type": "stream",
     "text": [
      "Setting `pad_token_id` to `eos_token_id`:None for open-end generation.\n"
     ]
    },
    {
     "name": "stdout",
     "output_type": "stream",
     "text": [
      "origin :  21st Morning: 3 points, 4th place, 5 goals, 6 wins\n",
      "cleaned :   21일 아침: 3점, 4위, 5골, 6승\n"
     ]
    },
    {
     "name": "stderr",
     "output_type": "stream",
     "text": [
      "Setting `pad_token_id` to `eos_token_id`:None for open-end generation.\n"
     ]
    },
    {
     "name": "stdout",
     "output_type": "stream",
     "text": [
      "origin :  Lee Jung-kyu hit the first home run of the game.\n",
      "cleaned :   이정규, 경기 첫 홈런\n"
     ]
    },
    {
     "name": "stderr",
     "output_type": "stream",
     "text": [
      "Setting `pad_token_id` to `eos_token_id`:None for open-end generation.\n"
     ]
    },
    {
     "name": "stdout",
     "output_type": "stream",
     "text": [
      "origin :  Remembering the Fallen: 1st Unity Blossom Festival on September 1st\n",
      "cleaned :   9월 1일, 첫 번째 통일 화랑제 추모 행사\n"
     ]
    },
    {
     "name": "stderr",
     "output_type": "stream",
     "text": [
      "Setting `pad_token_id` to `eos_token_id`:None for open-end generation.\n"
     ]
    },
    {
     "name": "stdout",
     "output_type": "stream",
     "text": [
      "origin :  Pro-Nonghyup Rep. Yoon Ho-yeong to Support 6.5 Million Won for Surgery\n",
      "cleaned :   농협을 지지하는 윤호영 의원이 수술비 6.5만 원 지원\n"
     ]
    },
    {
     "name": "stderr",
     "output_type": "stream",
     "text": [
      "Setting `pad_token_id` to `eos_token_id`:None for open-end generation.\n"
     ]
    },
    {
     "name": "stdout",
     "output_type": "stream",
     "text": [
      "origin :  The Second Consecutive Victory in the National Football Team's Departure Ceremony Will Be Exciting\n",
      "cleaned :   국가대표팀 출국식 연속 2번째 승리는 흥미로울 것임\n"
     ]
    },
    {
     "name": "stderr",
     "output_type": "stream",
     "text": [
      "Setting `pad_token_id` to `eos_token_id`:None for open-end generation.\n"
     ]
    },
    {
     "name": "stdout",
     "output_type": "stream",
     "text": [
      "origin :  Former Gyeongnam Governor Kim Wook Visits Gyeongnam for the 9th Time to Promote Standard Development\n",
      "cleaned :   前경남지사 김욱 9번째로 경남을 방문, 표준 발전에 기여합니다.\n"
     ]
    },
    {
     "name": "stderr",
     "output_type": "stream",
     "text": [
      "Setting `pad_token_id` to `eos_token_id`:None for open-end generation.\n"
     ]
    },
    {
     "name": "stdout",
     "output_type": "stream",
     "text": [
      "origin :  L9 96,000th L-Series LoTm5R Produced Annually for 3 Times\n",
      "cleaned :   L9, 96,000번째 L 시리즈 LoTm5R 연간 생산, 3년 연속\n"
     ]
    },
    {
     "name": "stderr",
     "output_type": "stream",
     "text": [
      "Setting `pad_token_id` to `eos_token_id`:None for open-end generation.\n"
     ]
    },
    {
     "name": "stdout",
     "output_type": "stream",
     "text": [
      "origin :  Video star Hyun-jin Yoo and outfielder Martin Berroa caught during border crossing inspection, 517 people caught\n",
      "cleaned :   비디오 스타 유현진과 외야수 마틴 베로아, 국경검문 중 체포, 517명 적발\n"
     ]
    },
    {
     "name": "stderr",
     "output_type": "stream",
     "text": [
      "Setting `pad_token_id` to `eos_token_id`:None for open-end generation.\n"
     ]
    },
    {
     "name": "stdout",
     "output_type": "stream",
     "text": [
      "origin :  Outstanding V-Factor Improvement Team for Volleyball Players, to Motivate 8 Former Players\n",
      "cleaned :   배구선수들을 위한 최고의 V-팩 개선 팀, 8명의 전 선수들을 독려하기 위해\n"
     ]
    },
    {
     "name": "stderr",
     "output_type": "stream",
     "text": [
      "Setting `pad_token_id` to `eos_token_id`:None for open-end generation.\n"
     ]
    },
    {
     "name": "stdout",
     "output_type": "stream",
     "text": [
      "origin :  LG Twins Play More Alive in Baseball 3 in 1 Team\n",
      "cleaned :   LG 트윈스는 야구 3in1 팀으로 더 활발하게 플레이합니다.\n"
     ]
    },
    {
     "name": "stderr",
     "output_type": "stream",
     "text": [
      "Setting `pad_token_id` to `eos_token_id`:None for open-end generation.\n"
     ]
    },
    {
     "name": "stdout",
     "output_type": "stream",
     "text": [
      "origin :  20th World Taekwondo Federation General Assembly Opens\n",
      "cleaned :   20차 세계 태권도 연맹 총회 개막\n"
     ]
    },
    {
     "name": "stderr",
     "output_type": "stream",
     "text": [
      "Setting `pad_token_id` to `eos_token_id`:None for open-end generation.\n"
     ]
    },
    {
     "name": "stdout",
     "output_type": "stream",
     "text": [
      "origin :  Byun Ra-geun, Launches K-Team at Hyundai Mobility's Daesung Factory\n",
      "cleaned :   부윤래근, 현대모빌리티 대성공장에서 K-팀 출범\n"
     ]
    },
    {
     "name": "stderr",
     "output_type": "stream",
     "text": [
      "Setting `pad_token_id` to `eos_token_id`:None for open-end generation.\n"
     ]
    },
    {
     "name": "stdout",
     "output_type": "stream",
     "text": [
      "origin :  Kim Ji-min scores 19 points, shocking G5, Hyundai Car5 wins the KBO League championship\n",
      "cleaned :   김지민, 19득점, G5를 놀라게...현대자동차5, KBO 리그 챔피언십 우승\n"
     ]
    },
    {
     "name": "stderr",
     "output_type": "stream",
     "text": [
      "Setting `pad_token_id` to `eos_token_id`:None for open-end generation.\n"
     ]
    },
    {
     "name": "stdout",
     "output_type": "stream",
     "text": [
      "origin :  제목없음\n",
      "cleaned :   제목 없음\n"
     ]
    },
    {
     "name": "stderr",
     "output_type": "stream",
     "text": [
      "Setting `pad_token_id` to `eos_token_id`:None for open-end generation.\n"
     ]
    },
    {
     "name": "stdout",
     "output_type": "stream",
     "text": [
      "origin :  ASMOCO TV Sued for Defamation Over 'PalKao V'\n",
      "cleaned :   '팔카오 V'에 대한 명예훼손 논란으로 ASMOCO TV에 소송 제기\n"
     ]
    },
    {
     "name": "stderr",
     "output_type": "stream",
     "text": [
      "Setting `pad_token_id` to `eos_token_id`:None for open-end generation.\n"
     ]
    },
    {
     "name": "stdout",
     "output_type": "stream",
     "text": [
      "origin :  \"We Got Married\" 2nd Episode to Air First\n",
      "cleaned :   '결혼했어요' 2회 방송 첫 회\n"
     ]
    },
    {
     "name": "stderr",
     "output_type": "stream",
     "text": [
      "Setting `pad_token_id` to `eos_token_id`:None for open-end generation.\n"
     ]
    },
    {
     "name": "stdout",
     "output_type": "stream",
     "text": [
      "origin :  제목없음\n",
      "cleaned :   제목 없음\n"
     ]
    },
    {
     "name": "stderr",
     "output_type": "stream",
     "text": [
      "Setting `pad_token_id` to `eos_token_id`:None for open-end generation.\n"
     ]
    },
    {
     "name": "stdout",
     "output_type": "stream",
     "text": [
      "origin :  Asian Grand Prix: Asiad gold medalist Daeyeong Jeong vs. Eunjin Park\n",
      "cleaned :   아시안 그랑프리: 아시안 게임 금메달리스트 정대용 vs. 박은진\n"
     ]
    },
    {
     "name": "stderr",
     "output_type": "stream",
     "text": [
      "Setting `pad_token_id` to `eos_token_id`:None for open-end generation.\n"
     ]
    },
    {
     "name": "stdout",
     "output_type": "stream",
     "text": [
      "origin :  Lotte Throws Just 7 Innings in a Start Against Doosan and SK, Winning the Pitcher's Battle\n",
      "cleaned :   롯데, 두산과 SK 상대에서 7이닝만 던져 승리, 투수전 승리\n"
     ]
    },
    {
     "name": "stderr",
     "output_type": "stream",
     "text": [
      "Setting `pad_token_id` to `eos_token_id`:None for open-end generation.\n"
     ]
    },
    {
     "name": "stdout",
     "output_type": "stream",
     "text": [
      "origin :  LG Electronics to Showcase Smartwatch as Top Priority at MWC\n",
      "cleaned :   LG전자, MWC에서 스마트워치 최우선으로 선보인다\n"
     ]
    },
    {
     "name": "stderr",
     "output_type": "stream",
     "text": [
      "Setting `pad_token_id` to `eos_token_id`:None for open-end generation.\n"
     ]
    },
    {
     "name": "stdout",
     "output_type": "stream",
     "text": [
      "origin :  Can Director Kim Ju-chan make a comeback with 58 losses?\n",
      "cleaned :   감독 김주찬, 58패로 복귀할 수 있을까?\n"
     ]
    },
    {
     "name": "stderr",
     "output_type": "stream",
     "text": [
      "Setting `pad_token_id` to `eos_token_id`:None for open-end generation.\n"
     ]
    },
    {
     "name": "stdout",
     "output_type": "stream",
     "text": [
      "origin :  MLB Robinson, appointed as new manager of the New York Mets\n",
      "cleaned :   메이저 리그 베이스볼 로빈슨, 뉴욕 메츠의 새 감독으로 임명\n"
     ]
    },
    {
     "name": "stderr",
     "output_type": "stream",
     "text": [
      "Setting `pad_token_id` to `eos_token_id`:None for open-end generation.\n"
     ]
    },
    {
     "name": "stdout",
     "output_type": "stream",
     "text": [
      "origin :  Chung Ji-hwan, 3 consecutive batters, 1 RBI, batting average 27%\n",
      "cleaned :   정지환, 3개 연속 타자, 1타점, 타율\n"
     ]
    },
    {
     "name": "stderr",
     "output_type": "stream",
     "text": [
      "Setting `pad_token_id` to `eos_token_id`:None for open-end generation.\n"
     ]
    },
    {
     "name": "stdout",
     "output_type": "stream",
     "text": [
      "origin :  KBS News 2: More Eagle Battle Lessons\n",
      "cleaned :   KBS 뉴스 2: 더 이글 전투 교훈\n"
     ]
    },
    {
     "name": "stderr",
     "output_type": "stream",
     "text": [
      "Setting `pad_token_id` to `eos_token_id`:None for open-end generation.\n"
     ]
    },
    {
     "name": "stdout",
     "output_type": "stream",
     "text": [
      "origin :  Q00th Goal, Hashi Final 4 Goals Behind, 1 Goal Behind C Division 30 Minutes\n",
      "cleaned :   30분 남은 상황에서 4골 뒤진 해시, C조 1골 뒤진 상황\n"
     ]
    },
    {
     "name": "stderr",
     "output_type": "stream",
     "text": [
      "Setting `pad_token_id` to `eos_token_id`:None for open-end generation.\n"
     ]
    },
    {
     "name": "stdout",
     "output_type": "stream",
     "text": [
      "origin :  제목없음\n",
      "cleaned :   제목 없음\n"
     ]
    },
    {
     "name": "stderr",
     "output_type": "stream",
     "text": [
      "Setting `pad_token_id` to `eos_token_id`:None for open-end generation.\n"
     ]
    },
    {
     "name": "stdout",
     "output_type": "stream",
     "text": [
      "origin :  The U.S. and Germany ended their 13-match series with a 6-7 record. \n",
      "cleaned :   독일과 미국은 13경기 시리즈를 6승 7패로 마무리했습니다.\n"
     ]
    },
    {
     "name": "stderr",
     "output_type": "stream",
     "text": [
      "Setting `pad_token_id` to `eos_token_id`:None for open-end generation.\n"
     ]
    },
    {
     "name": "stdout",
     "output_type": "stream",
     "text": [
      "origin :  Russian 99th Volleyball D Coach LxUNri Follows Q Ki Ori-Mer\n",
      "cleaned :   러시아 99번째 배구 감독 LxUNri, Q Ki Ori-Mer를 따른다.\n"
     ]
    },
    {
     "name": "stderr",
     "output_type": "stream",
     "text": [
      "Setting `pad_token_id` to `eos_token_id`:None for open-end generation.\n"
     ]
    },
    {
     "name": "stdout",
     "output_type": "stream",
     "text": [
      "origin :  FT Cellulose Nanofiber Designated as Priority\n",
      "cleaned :   FT 셀룰로오스 나노파이버, 우선순위 지정\n"
     ]
    },
    {
     "name": "stderr",
     "output_type": "stream",
     "text": [
      "Setting `pad_token_id` to `eos_token_id`:None for open-end generation.\n"
     ]
    },
    {
     "name": "stdout",
     "output_type": "stream",
     "text": [
      "origin :  K9 BOQl, Y 드9 난 넥 뒷돈 공 전 Y 드9 난 넥 뒷돈 g이 K9 BOQl 그가 공\n",
      "cleaned :   \"K9 BOQl, Y 드9 난 넥 뒷돈 공 전 Y 드9 난 넥 뒷돈 g이 K9 BOQl 그가 공\"\n"
     ]
    },
    {
     "name": "stderr",
     "output_type": "stream",
     "text": [
      "Setting `pad_token_id` to `eos_token_id`:None for open-end generation.\n"
     ]
    },
    {
     "name": "stdout",
     "output_type": "stream",
     "text": [
      "origin :  First Zombie Crisis: 1st Occurrence\n",
      "cleaned :   제1호 좀비 위기: 최초 발생\n"
     ]
    },
    {
     "name": "stderr",
     "output_type": "stream",
     "text": [
      "Setting `pad_token_id` to `eos_token_id`:None for open-end generation.\n"
     ]
    },
    {
     "name": "stdout",
     "output_type": "stream",
     "text": [
      "origin :  Tokyo-bound First Gateway Incheon International Airport Opens\n",
      "cleaned :   인천국제공항 첫 번째 게이트로 도쿄 행\n"
     ]
    },
    {
     "name": "stderr",
     "output_type": "stream",
     "text": [
      "Setting `pad_token_id` to `eos_token_id`:None for open-end generation.\n"
     ]
    },
    {
     "name": "stdout",
     "output_type": "stream",
     "text": [
      "origin :  Arnold Schwarzenegger and Eugene Byrngaard meet in Moscow\n",
      "cleaned :   아놀드 슈워제네거와 유진 바이르뉘아르드가 모스크바에서 만난다\n"
     ]
    },
    {
     "name": "stderr",
     "output_type": "stream",
     "text": [
      "Setting `pad_token_id` to `eos_token_id`:None for open-end generation.\n"
     ]
    },
    {
     "name": "stdout",
     "output_type": "stream",
     "text": [
      "origin :  Sung Woo Lee signs 4-year audition contract with AC Bella Napoli\n",
      "cleaned :   이성우, AC 벨라 나폴리와 4년 간의 오디션 계약 체결\n"
     ]
    },
    {
     "name": "stderr",
     "output_type": "stream",
     "text": [
      "Setting `pad_token_id` to `eos_token_id`:None for open-end generation.\n"
     ]
    },
    {
     "name": "stdout",
     "output_type": "stream",
     "text": [
      "origin :  Asia 4th Place, Self-Confidence to Challenge for 1st Place\n",
      "cleaned :   아시아, 4위 자존심을 키우며 1위 도전 준비 중\n"
     ]
    },
    {
     "name": "stderr",
     "output_type": "stream",
     "text": [
      "Setting `pad_token_id` to `eos_token_id`:None for open-end generation.\n"
     ]
    },
    {
     "name": "stdout",
     "output_type": "stream",
     "text": [
      "origin :  Namwon, originally a place of chaos and confusion\n",
      "cleaned :   난원\n"
     ]
    },
    {
     "name": "stderr",
     "output_type": "stream",
     "text": [
      "Setting `pad_token_id` to `eos_token_id`:None for open-end generation.\n"
     ]
    },
    {
     "name": "stdout",
     "output_type": "stream",
     "text": [
      "origin :  8th BAI 8th Basketball x Star Able All-Star Fan Tour\n",
      "cleaned :   8회 BAI 8회 농구 x 스타 어블 올스타 팬 투어\n"
     ]
    },
    {
     "name": "stderr",
     "output_type": "stream",
     "text": [
      "Setting `pad_token_id` to `eos_token_id`:None for open-end generation.\n"
     ]
    },
    {
     "name": "stdout",
     "output_type": "stream",
     "text": [
      "origin :  9th Park vs. Ryu Tummas Suzuki 1st match in Laos\n",
      "cleaned :   9번째 파크 대 류, 스즈키의 라오스 첫 경기\n"
     ]
    },
    {
     "name": "stderr",
     "output_type": "stream",
     "text": [
      "Setting `pad_token_id` to `eos_token_id`:None for open-end generation.\n"
     ]
    },
    {
     "name": "stdout",
     "output_type": "stream",
     "text": [
      "origin :  Gavin Mountain Experience Center Opens on September 2\n",
      "cleaned :   가\n"
     ]
    },
    {
     "name": "stderr",
     "output_type": "stream",
     "text": [
      "Setting `pad_token_id` to `eos_token_id`:None for open-end generation.\n"
     ]
    },
    {
     "name": "stdout",
     "output_type": "stream",
     "text": [
      "origin :  Three Actresses Earn Four Times More Revenue from the Rules of the Game\n",
      "cleaned :   세 여배우, 게임의 규칙으로부터 4배 더 많은 수익을 얻다\n"
     ]
    },
    {
     "name": "stderr",
     "output_type": "stream",
     "text": [
      "Setting `pad_token_id` to `eos_token_id`:None for open-end generation.\n"
     ]
    },
    {
     "name": "stdout",
     "output_type": "stream",
     "text": [
      "origin :  Samsung Electronics Wins Dramatic Comeback, Escaping the 1R Defeat Pit from DTB Son Heung-min\n",
      "cleaned :   삼성전자, DTB 손흥민의 1R 패배 구덩이에서 극적인 복귀\n"
     ]
    },
    {
     "name": "stderr",
     "output_type": "stream",
     "text": [
      "Setting `pad_token_id` to `eos_token_id`:None for open-end generation.\n"
     ]
    },
    {
     "name": "stdout",
     "output_type": "stream",
     "text": [
      "origin :  KB Insurance's Siu Achieves First Winning Streak in KBL Daegu Metropolitan City, Defeating IBK Industrial Bank\n",
      "cleaned :   KB 보험사의 시우, KBL 대구광역시 첫 연승 달성, IBK 산업은행을 꺾고\n"
     ]
    },
    {
     "name": "stderr",
     "output_type": "stream",
     "text": [
      "Setting `pad_token_id` to `eos_token_id`:None for open-end generation.\n"
     ]
    },
    {
     "name": "stdout",
     "output_type": "stream",
     "text": [
      "origin :  Long-acting effect of Hyunjin's drug confirmed\n",
      "cleaned :   휴진의 약물 장기간 효과 확인됨\n"
     ]
    },
    {
     "name": "stderr",
     "output_type": "stream",
     "text": [
      "Setting `pad_token_id` to `eos_token_id`:None for open-end generation.\n"
     ]
    },
    {
     "name": "stdout",
     "output_type": "stream",
     "text": [
      "origin :  Korea National Bank Women's Basketball Team Ranks First in Group F, 9 Losses Declared Invalid\n",
      "cleaned :   한국국민은행 여자 농구팀, 그룹 F 1위, 9패 무효 선언\n"
     ]
    },
    {
     "name": "stderr",
     "output_type": "stream",
     "text": [
      "Setting `pad_token_id` to `eos_token_id`:None for open-end generation.\n"
     ]
    },
    {
     "name": "stdout",
     "output_type": "stream",
     "text": [
      "origin :  T M7B: Autumn Baseball, U-Sung's Ochi Juru in Autumn\n",
      "cleaned :   타 M7B: 가을 야구, 우승의 오치 주루\n"
     ]
    },
    {
     "name": "stderr",
     "output_type": "stream",
     "text": [
      "Setting `pad_token_id` to `eos_token_id`:None for open-end generation.\n"
     ]
    },
    {
     "name": "stdout",
     "output_type": "stream",
     "text": [
      "origin :  Lee Beom-ho 7th N.K. A-grade Iu Header L1st B, SH Overwhelms\n",
      "cleaned :   이범호 7년차 북한 A급 유격대 L1차, SH가 압도\n"
     ]
    },
    {
     "name": "stderr",
     "output_type": "stream",
     "text": [
      "Setting `pad_token_id` to `eos_token_id`:None for open-end generation.\n"
     ]
    },
    {
     "name": "stdout",
     "output_type": "stream",
     "text": [
      "origin :  SK Telecom Launches AI-based Music Recommendation Platform, Flo\n",
      "cleaned :   SK텔레콤, AI 기반 음악 추천 플랫폼 '플로' 출시\n"
     ]
    },
    {
     "name": "stderr",
     "output_type": "stream",
     "text": [
      "Setting `pad_token_id` to `eos_token_id`:None for open-end generation.\n"
     ]
    },
    {
     "name": "stdout",
     "output_type": "stream",
     "text": [
      "origin :  5G subscribers' competition intensifies among the three major telecoms; LG V50 receives a maximum support of 77 million won\n",
      "cleaned :   5G 가입자들이 큰 세 회사의 경쟁을 격화시키다; LG V50, 최대 77백만 원 지원 받아\n"
     ]
    },
    {
     "name": "stderr",
     "output_type": "stream",
     "text": [
      "Setting `pad_token_id` to `eos_token_id`:None for open-end generation.\n"
     ]
    },
    {
     "name": "stdout",
     "output_type": "stream",
     "text": [
      "origin :  BWF World Tour 5th Million Dollar Tournament to be Held in Early May\n",
      "cleaned :   5월 초 세계랭킹 1위 선수들이 참가하는 BWF 세계투어 5차 1,000만 원 대회 개최\n"
     ]
    },
    {
     "name": "stderr",
     "output_type": "stream",
     "text": [
      "Setting `pad_token_id` to `eos_token_id`:None for open-end generation.\n"
     ]
    },
    {
     "name": "stdout",
     "output_type": "stream",
     "text": [
      "origin :  Dodgers' Locke Wins 6th Showdown in a Row\n",
      "cleaned :   로스앤젤레스 도저스의 로크가 연속 6번째 승리를 거두다\n"
     ]
    },
    {
     "name": "stderr",
     "output_type": "stream",
     "text": [
      "Setting `pad_token_id` to `eos_token_id`:None for open-end generation.\n"
     ]
    },
    {
     "name": "stdout",
     "output_type": "stream",
     "text": [
      "origin :  Captain America Hires 7 Collaborators: 4 Legends to Appear in S1\n",
      "cleaned :   캡틴 아메리카, 7명의 협력자 영입: S1에 4명의 전설 등장\n"
     ]
    },
    {
     "name": "stderr",
     "output_type": "stream",
     "text": [
      "Setting `pad_token_id` to `eos_token_id`:None for open-end generation.\n"
     ]
    },
    {
     "name": "stdout",
     "output_type": "stream",
     "text": [
      "origin :  Samsung Lions Park 3rd Stadium Opening Ceremony Scheduled for 30th\n",
      "cleaned :   삼성 라이온즈 파크 3호 경기장 개장식, 30일 예정\n"
     ]
    },
    {
     "name": "stderr",
     "output_type": "stream",
     "text": [
      "Setting `pad_token_id` to `eos_token_id`:None for open-end generation.\n"
     ]
    },
    {
     "name": "stdout",
     "output_type": "stream",
     "text": [
      "origin :  South Korea Wins the Championship in the QIT Finals\n",
      "cleaned :   한국, QIT 결승에서 챔피언으로 등극\n"
     ]
    },
    {
     "name": "stderr",
     "output_type": "stream",
     "text": [
      "Setting `pad_token_id` to `eos_token_id`:None for open-end generation.\n"
     ]
    },
    {
     "name": "stdout",
     "output_type": "stream",
     "text": [
      "origin :  Barcelona, 4 Consecutive Years of Reaching the 16th Round of the King's Cup\n",
      "cleaned :   바르셀로나, 4년 연속 왕스컵 16강 진출\n"
     ]
    },
    {
     "name": "stderr",
     "output_type": "stream",
     "text": [
      "Setting `pad_token_id` to `eos_token_id`:None for open-end generation.\n"
     ]
    },
    {
     "name": "stdout",
     "output_type": "stream",
     "text": [
      "origin :  A Day of Tension: 2 Real M1 G-Battle\n",
      "cleaned :   긴장감 가득한 하루: M1 G-전투 2편\n"
     ]
    },
    {
     "name": "stderr",
     "output_type": "stream",
     "text": [
      "Setting `pad_token_id` to `eos_token_id`:None for open-end generation.\n"
     ]
    },
    {
     "name": "stdout",
     "output_type": "stream",
     "text": [
      "origin :  Tram and Electric Train Road D06 to be Fined\n",
      "cleaned :   전차와 전기 철도 D06가\n"
     ]
    },
    {
     "name": "stderr",
     "output_type": "stream",
     "text": [
      "Setting `pad_token_id` to `eos_token_id`:None for open-end generation.\n"
     ]
    },
    {
     "name": "stdout",
     "output_type": "stream",
     "text": [
      "origin :  Cha Bum-Geun, Ji-sung and Park Ji-Min's New History\n",
      "cleaned :   차범근, 지성, 박지민의 새로운 역사\n"
     ]
    },
    {
     "name": "stderr",
     "output_type": "stream",
     "text": [
      "Setting `pad_token_id` to `eos_token_id`:None for open-end generation.\n"
     ]
    },
    {
     "name": "stdout",
     "output_type": "stream",
     "text": [
      "origin :  JALAND, NEW 4-COUNTRY BASKETBALL PLAYER RECRUITMENT\n",
      "cleaned :   4개국에서 온 새로운 JALAND 농구 선수 영입\n"
     ]
    },
    {
     "name": "stderr",
     "output_type": "stream",
     "text": [
      "Setting `pad_token_id` to `eos_token_id`:None for open-end generation.\n"
     ]
    },
    {
     "name": "stdout",
     "output_type": "stream",
     "text": [
      "origin :  Messi Bombards Juventus with 30 Goals, Wins Champions League\n",
      "cleaned :   메시, 유벤투스에 30골 폭격, 챔피언스리그 우승\n"
     ]
    },
    {
     "name": "stderr",
     "output_type": "stream",
     "text": [
      "Setting `pad_token_id` to `eos_token_id`:None for open-end generation.\n"
     ]
    },
    {
     "name": "stdout",
     "output_type": "stream",
     "text": [
      "origin :  Song Kwang-ki 3-point field goal, Park Yong 8, shortest record\n",
      "cleaned :   송광기 3점슛, 박용 8, 최단 기록\n"
     ]
    },
    {
     "name": "stderr",
     "output_type": "stream",
     "text": [
      "Setting `pad_token_id` to `eos_token_id`:None for open-end generation.\n"
     ]
    },
    {
     "name": "stdout",
     "output_type": "stream",
     "text": [
      "origin :  V-1st Representative of Yeongwol FC Confirmed for P-level F-biwi\n",
      "cleaned :   영월 FC 대표, F-비위 P등급 확인\n"
     ]
    },
    {
     "name": "stderr",
     "output_type": "stream",
     "text": [
      "Setting `pad_token_id` to `eos_token_id`:None for open-end generation.\n"
     ]
    },
    {
     "name": "stdout",
     "output_type": "stream",
     "text": [
      "origin :  South Korean Airline Korean Air and Insurance Company Samsung Fire & Marine Insurance Achieve 32-4 Record Winning Streak\n",
      "cleaned :   한국항공사와 삼성화재, 32-4 승률의 기록적인 우승 행진\n"
     ]
    },
    {
     "name": "stderr",
     "output_type": "stream",
     "text": [
      "Setting `pad_token_id` to `eos_token_id`:None for open-end generation.\n"
     ]
    },
    {
     "name": "stdout",
     "output_type": "stream",
     "text": [
      "origin :  SKT and KT, 7th Battle for 8th Place on July 7\n",
      "cleaned :   KT와 SKT, 7월 7일 8위 7차 대결\n"
     ]
    },
    {
     "name": "stderr",
     "output_type": "stream",
     "text": [
      "Setting `pad_token_id` to `eos_token_id`:None for open-end generation.\n"
     ]
    },
    {
     "name": "stdout",
     "output_type": "stream",
     "text": [
      "origin :  Vietnam's Business Failure: 800 Million Won in Losses\n",
      "cleaned :   베트남 기업의 실패: 800억 원의 손실\n"
     ]
    },
    {
     "name": "stderr",
     "output_type": "stream",
     "text": [
      "Setting `pad_token_id` to `eos_token_id`:None for open-end generation.\n"
     ]
    },
    {
     "name": "stdout",
     "output_type": "stream",
     "text": [
      "origin :  KT Multi-Campus and Gajini SERICEO Service Launch\n",
      "cleaned :   KT 멀티�\n"
     ]
    },
    {
     "name": "stderr",
     "output_type": "stream",
     "text": [
      "Setting `pad_token_id` to `eos_token_id`:None for open-end generation.\n"
     ]
    },
    {
     "name": "stdout",
     "output_type": "stream",
     "text": [
      "origin :  3BA State Houston Condition 8 Final M1\n",
      "cleaned :   텍사스주 휴스턴 3BA 상태 8 결승 M1\n"
     ]
    },
    {
     "name": "stderr",
     "output_type": "stream",
     "text": [
      "Setting `pad_token_id` to `eos_token_id`:None for open-end generation.\n"
     ]
    },
    {
     "name": "stdout",
     "output_type": "stream",
     "text": [
      "origin :  \"Sudden Attack 5D KB Insurance Wins 0-Point Victory Over Korea Power\"\n",
      "cleaned :   \"스우드어택 5D KB보험 0점 승리, 한국전력에 완승\"\n"
     ]
    },
    {
     "name": "stderr",
     "output_type": "stream",
     "text": [
      "Setting `pad_token_id` to `eos_token_id`:None for open-end generation.\n"
     ]
    },
    {
     "name": "stdout",
     "output_type": "stream",
     "text": [
      "origin :  Real Madrid Smiles as They Advance to the UEFA Champions League Final in January 2024\n",
      "cleaned :   2024년 1월 UEFA 챔피언스리그 결승 진출, 레알 마드리드의 웃음\n"
     ]
    },
    {
     "name": "stderr",
     "output_type": "stream",
     "text": [
      "Setting `pad_token_id` to `eos_token_id`:None for open-end generation.\n"
     ]
    },
    {
     "name": "stdout",
     "output_type": "stream",
     "text": [
      "origin :  New Orleans, led by Davis' 4 points, beat Boston by 7 points in the 8th game\n",
      "cleaned :   데이비스의 4점 선두로 뉴올리언스, 8차전에서 보스턴을 7점차로 누르고\n"
     ]
    },
    {
     "name": "stderr",
     "output_type": "stream",
     "text": [
      "Setting `pad_token_id` to `eos_token_id`:None for open-end generation.\n"
     ]
    },
    {
     "name": "stdout",
     "output_type": "stream",
     "text": [
      "origin :  China and Russia's Territorial Disputes Exceeding Japan\n",
      "cleaned :   중국과 러시아의 영토 분쟁, 일본을 넘어선다\n"
     ]
    },
    {
     "name": "stderr",
     "output_type": "stream",
     "text": [
      "Setting `pad_token_id` to `eos_token_id`:None for open-end generation.\n"
     ]
    },
    {
     "name": "stdout",
     "output_type": "stream",
     "text": [
      "origin :  Lee Dae-ho, KQ Season's First Goal in a Multi-Strike at Lotte N\n",
      "cleaned :   이대호, KQ 시즌 첫 골... 롯데 N에서의 멀티 스트라이크\n"
     ]
    },
    {
     "name": "stderr",
     "output_type": "stream",
     "text": [
      "Setting `pad_token_id` to `eos_token_id`:None for open-end generation.\n"
     ]
    },
    {
     "name": "stdout",
     "output_type": "stream",
     "text": [
      "origin :  Equinox Hero Sister Advances to Round 4\n",
      "cleaned :   동조점 영웅 자매, 4라운드 진출\n"
     ]
    },
    {
     "name": "stderr",
     "output_type": "stream",
     "text": [
      "Setting `pad_token_id` to `eos_token_id`:None for open-end generation.\n"
     ]
    },
    {
     "name": "stdout",
     "output_type": "stream",
     "text": [
      "origin :  eLand kt T's Year-long I Cold Water 2-Win Streak Ends\n",
      "cleaned :   eLand kt T의 연속 1년간 얼음 물 2승 행진 중단\n"
     ]
    },
    {
     "name": "stderr",
     "output_type": "stream",
     "text": [
      "Setting `pad_token_id` to `eos_token_id`:None for open-end generation.\n"
     ]
    },
    {
     "name": "stdout",
     "output_type": "stream",
     "text": [
      "origin :  Cairns Splash Glasgow Rugby Team Travels to Russia\n",
      "cleaned :   글래스고 럭비팀, 러시아 여행\n"
     ]
    },
    {
     "name": "stderr",
     "output_type": "stream",
     "text": [
      "Setting `pad_token_id` to `eos_token_id`:None for open-end generation.\n"
     ]
    },
    {
     "name": "stdout",
     "output_type": "stream",
     "text": [
      "origin :  Olympic Balloon No. 8, Jason, Explodes on Stage with Explosive Team Play\n",
      "cleaned :   올림픽 풍선 번호 8, 자손, 폭발적인 팀 플레이와 함께 무대에 등장\n"
     ]
    },
    {
     "name": "stderr",
     "output_type": "stream",
     "text": [
      "Setting `pad_token_id` to `eos_token_id`:None for open-end generation.\n"
     ]
    },
    {
     "name": "stdout",
     "output_type": "stream",
     "text": [
      "origin :  6th National Football Team, AFC Futsal Bi in Overseas Friendly Match\n",
      "cleaned :   6번째 국가대표 축구팀, 해외 친선 경기에서 AFC 풋살 비\n"
     ]
    },
    {
     "name": "stderr",
     "output_type": "stream",
     "text": [
      "Setting `pad_token_id` to `eos_token_id`:None for open-end generation.\n"
     ]
    },
    {
     "name": "stdout",
     "output_type": "stream",
     "text": [
      "origin :  Baseball: Will the mound be a fireball at the All-Japan Extravaganza?\n",
      "cleaned :   야구: 일본 전원 축제에서 마운드가 불꽃이 될까?번역된 헤드\n"
     ]
    },
    {
     "name": "stderr",
     "output_type": "stream",
     "text": [
      "Setting `pad_token_id` to `eos_token_id`:None for open-end generation.\n"
     ]
    },
    {
     "name": "stdout",
     "output_type": "stream",
     "text": [
      "origin :  \"Promoting the 7th Suengyeong-hoe of Dongjeongsong Jonggwangju\n",
      "cleaned :   동제송종광주 제7회 승경회 홍보\n"
     ]
    },
    {
     "name": "stderr",
     "output_type": "stream",
     "text": [
      "Setting `pad_token_id` to `eos_token_id`:None for open-end generation.\n"
     ]
    },
    {
     "name": "stdout",
     "output_type": "stream",
     "text": [
      "origin :  First Game in Hofer Hall: Shin Gyo-Yan Mulgol Defeats Poa\n",
      "cleaned :   호퍼 홀에서의 첫 경기: 신 교연 무골이 포아를 꺾음\n"
     ]
    },
    {
     "name": "stderr",
     "output_type": "stream",
     "text": [
      "Setting `pad_token_id` to `eos_token_id`:None for open-end generation.\n"
     ]
    },
    {
     "name": "stdout",
     "output_type": "stream",
     "text": [
      "origin :  \"Infinite Challenge Fans' Donations to Taekuk Foundation Puts It in Crisis\"\n",
      "cleaned :   \"무한도전 팬들의 태극재단 기부금, 재단\n"
     ]
    },
    {
     "name": "stderr",
     "output_type": "stream",
     "text": [
      "Setting `pad_token_id` to `eos_token_id`:None for open-end generation.\n"
     ]
    },
    {
     "name": "stdout",
     "output_type": "stream",
     "text": [
      "origin :  제목없음\n",
      "cleaned :   (한국어 제목)\n"
     ]
    },
    {
     "name": "stderr",
     "output_type": "stream",
     "text": [
      "Setting `pad_token_id` to `eos_token_id`:None for open-end generation.\n"
     ]
    },
    {
     "name": "stdout",
     "output_type": "stream",
     "text": [
      "origin :  Pro baseball champions 70-game back 3 consecutive years of poor performance KBO League teammates are also hard to find.\n",
      "cleaned :   프로야구 챔피언, 3년 연속 부진 70경기 차 KBO리그 동료들도 찾기 힘들어.\n"
     ]
    },
    {
     "name": "stderr",
     "output_type": "stream",
     "text": [
      "Setting `pad_token_id` to `eos_token_id`:None for open-end generation.\n"
     ]
    },
    {
     "name": "stdout",
     "output_type": "stream",
     "text": [
      "origin :  Second Part 1st Place: Seongnam, Goyang Chasing for the Lead\n",
      "cleaned :   성남, 고양, 1위 경쟁 파트 2: 추격자\n"
     ]
    },
    {
     "name": "stderr",
     "output_type": "stream",
     "text": [
      "Setting `pad_token_id` to `eos_token_id`:None for open-end generation.\n"
     ]
    },
    {
     "name": "stdout",
     "output_type": "stream",
     "text": [
      "origin :  제목없음\n",
      "cleaned :   제목 없음\n"
     ]
    },
    {
     "name": "stderr",
     "output_type": "stream",
     "text": [
      "Setting `pad_token_id` to `eos_token_id`:None for open-end generation.\n"
     ]
    },
    {
     "name": "stdout",
     "output_type": "stream",
     "text": [
      "origin :  Flop in performance leads to Dorum's sacking; Stephan appointed as new head coach\n",
      "cleaned :   경기력 부진으로 도럼 경질, 스테판 신임 감독으로 선임\n"
     ]
    },
    {
     "name": "stderr",
     "output_type": "stream",
     "text": [
      "Setting `pad_token_id` to `eos_token_id`:None for open-end generation.\n"
     ]
    },
    {
     "name": "stdout",
     "output_type": "stream",
     "text": [
      "origin :  Sj모비스, XKCC와 5연속 질주종목 우승\n",
      "cleaned :   Sj모비스, XKCC와 5연속 질주종목 우승\n"
     ]
    },
    {
     "name": "stderr",
     "output_type": "stream",
     "text": [
      "Setting `pad_token_id` to `eos_token_id`:None for open-end generation.\n"
     ]
    },
    {
     "name": "stdout",
     "output_type": "stream",
     "text": [
      "origin :  Samsung's Ulsan LSL with 4-inch Display Captivates the Eye\n",
      "cleaned :   삼성의 울산 LSL 4인치 디스플레이가 눈길을 사로잡아\n"
     ]
    },
    {
     "name": "stderr",
     "output_type": "stream",
     "text": [
      "Setting `pad_token_id` to `eos_token_id`:None for open-end generation.\n"
     ]
    },
    {
     "name": "stdout",
     "output_type": "stream",
     "text": [
      "origin :  Asian Games Champion Korea Kids Win\n",
      "cleaned :   아시아 게임 챔피언, 한국어 아이들 승리\n"
     ]
    },
    {
     "name": "stderr",
     "output_type": "stream",
     "text": [
      "Setting `pad_token_id` to `eos_token_id`:None for open-end generation.\n"
     ]
    },
    {
     "name": "stdout",
     "output_type": "stream",
     "text": [
      "origin :  Mask-wearing training seriously affects Tokyo Olympics H5 national team\n",
      "cleaned :   마스크 착용 훈련이 도쿄 올림픽 일본 대표팀에 심각한 영향을 미치고 있다.\n"
     ]
    },
    {
     "name": "stderr",
     "output_type": "stream",
     "text": [
      "Setting `pad_token_id` to `eos_token_id`:None for open-end generation.\n"
     ]
    },
    {
     "name": "stdout",
     "output_type": "stream",
     "text": [
      "origin :  4 Forfeit, 2 Bongseung LG NC Victory\n",
      "cleaned :   4명의 선수가 포기하고 2명의 선수가 부상을 당해 LG와 NC의 승리\n"
     ]
    },
    {
     "name": "stderr",
     "output_type": "stream",
     "text": [
      "Setting `pad_token_id` to `eos_token_id`:None for open-end generation.\n"
     ]
    },
    {
     "name": "stdout",
     "output_type": "stream",
     "text": [
      "origin :  The Asian Games' Ultimate Warrior: Victory!\n",
      "cleaned :   아시안 게임의 최강자: 승리!\n"
     ]
    },
    {
     "name": "stderr",
     "output_type": "stream",
     "text": [
      "Setting `pad_token_id` to `eos_token_id`:None for open-end generation.\n"
     ]
    },
    {
     "name": "stdout",
     "output_type": "stream",
     "text": [
      "origin :  Kim Hyun-su records a 2-run homer in the 9th game of the Samsung Lions. \n",
      "cleaned :   김현수, 삼성 라이온즈 9차전에서 2점 홈런 기록.\n"
     ]
    },
    {
     "name": "stderr",
     "output_type": "stream",
     "text": [
      "Setting `pad_token_id` to `eos_token_id`:None for open-end generation.\n"
     ]
    },
    {
     "name": "stdout",
     "output_type": "stream",
     "text": [
      "origin :  Meritz Securities Forecasts KOSPI to Fluctuate Between 1,900 and 2,400 in the Coming Year\n",
      "cleaned :   메리츠증권, 올해 KOSPI 1,900~2,400 사이 변동 예상\n"
     ]
    },
    {
     "name": "stderr",
     "output_type": "stream",
     "text": [
      "Setting `pad_token_id` to `eos_token_id`:None for open-end generation.\n"
     ]
    },
    {
     "name": "stdout",
     "output_type": "stream",
     "text": [
      "origin :  Ireland's Kim Hyun-su, who is a director, needs more opportunities to become a director.\n",
      "cleaned :   아일랜드의 김현수 감독은 감독으로서 더 많은 기회가 필요합니다.\n"
     ]
    },
    {
     "name": "stderr",
     "output_type": "stream",
     "text": [
      "Setting `pad_token_id` to `eos_token_id`:None for open-end generation.\n"
     ]
    },
    {
     "name": "stdout",
     "output_type": "stream",
     "text": [
      "origin :  Q-Real and Tom'sia Co., Ltd. and GS Caltex establish a B2B joint venture\n",
      "cleaned :   큐리얼과 토미시아(주)와 GS칼텍스가 B2B 합작회사 설립\n"
     ]
    },
    {
     "name": "stderr",
     "output_type": "stream",
     "text": [
      "Setting `pad_token_id` to `eos_token_id`:None for open-end generation.\n"
     ]
    },
    {
     "name": "stdout",
     "output_type": "stream",
     "text": [
      "origin :  Samsung Electronics Cancels Women's Basketball and Volleyball at the Japan World Cup\n",
      "cleaned :   삼성전자, 일본월드컵 여자농구와 배구 대회 취소\n"
     ]
    },
    {
     "name": "stderr",
     "output_type": "stream",
     "text": [
      "Setting `pad_token_id` to `eos_token_id`:None for open-end generation.\n"
     ]
    },
    {
     "name": "stdout",
     "output_type": "stream",
     "text": [
      "origin :  Cash usage in Seoul up 9% from last year, bank payments 6 times higher\n",
      "cleaned :   서울에서 현금 사용량 9% 증가, 은행 결제 6배 증가\n"
     ]
    },
    {
     "name": "stderr",
     "output_type": "stream",
     "text": [
      "Setting `pad_token_id` to `eos_token_id`:None for open-end generation.\n"
     ]
    },
    {
     "name": "stdout",
     "output_type": "stream",
     "text": [
      "origin :  Suwon Bluewings' 5-Goal Coach, No Complacency for 16th Round\n",
      "cleaned :   수원 블루윙즈 5골 코치, 16라운드\n"
     ]
    },
    {
     "name": "stderr",
     "output_type": "stream",
     "text": [
      "Setting `pad_token_id` to `eos_token_id`:None for open-end generation.\n"
     ]
    },
    {
     "name": "stdout",
     "output_type": "stream",
     "text": [
      "origin :  LPGA Golfer Park Min, Participates in the Victory UWS Fund 1\n",
      "cleaned :   LPGA 골퍼 박민, 승리의 UWS 펀드1에 참여합니다.\n"
     ]
    },
    {
     "name": "stderr",
     "output_type": "stream",
     "text": [
      "Setting `pad_token_id` to `eos_token_id`:None for open-end generation.\n"
     ]
    },
    {
     "name": "stdout",
     "output_type": "stream",
     "text": [
      "origin :  롯데 CS 론트 P&KB 리딘 승오두 AON 드 블룸, e5 연\n",
      "cleaned :   롯데 CS 론트 P&KB 리딘 승오두 AON 드 블룸, e5 연\n"
     ]
    },
    {
     "name": "stderr",
     "output_type": "stream",
     "text": [
      "Setting `pad_token_id` to `eos_token_id`:None for open-end generation.\n"
     ]
    },
    {
     "name": "stdout",
     "output_type": "stream",
     "text": [
      "origin :  Manchester United Invests 40 Million Won in Locker Room Renovation\n",
      "cleaned :   맨체스터 유나이티드, 로커룸 리노베이션에\n"
     ]
    },
    {
     "name": "stderr",
     "output_type": "stream",
     "text": [
      "Setting `pad_token_id` to `eos_token_id`:None for open-end generation.\n"
     ]
    },
    {
     "name": "stdout",
     "output_type": "stream",
     "text": [
      "origin :  Asian Games J Park Ji Foundation 4th Division L Day Team Summer Olympics\n",
      "cleaned :   아시안 게임, 제4차 박지재단 지원, 4팀 4일, 하계 올림픽 준비 완료\n"
     ]
    },
    {
     "name": "stderr",
     "output_type": "stream",
     "text": [
      "Setting `pad_token_id` to `eos_token_id`:None for open-end generation.\n"
     ]
    },
    {
     "name": "stdout",
     "output_type": "stream",
     "text": [
      "origin :  K League Championship Contender, J Nation, Challenges with 30 Million T Gold\n",
      "cleaned :   K리그 챔피언십 출전자 J네이션, 30억 T골드의 과제\n"
     ]
    },
    {
     "name": "stderr",
     "output_type": "stream",
     "text": [
      "Setting `pad_token_id` to `eos_token_id`:None for open-end generation.\n"
     ]
    },
    {
     "name": "stdout",
     "output_type": "stream",
     "text": [
      "origin :  Next Brigham Young University-Asia 7th Anniversary Celebration\n",
      "cleaned :   브리검 영 대학교 아시아 7주년 기념행사\n"
     ]
    },
    {
     "name": "stderr",
     "output_type": "stream",
     "text": [
      "Setting `pad_token_id` to `eos_token_id`:None for open-end generation.\n"
     ]
    },
    {
     "name": "stdout",
     "output_type": "stream",
     "text": [
      "origin :  Medica Markje Mediv League: A Different Stage\n",
      "cleaned :   메디카 마르케 메디빌리지: 다른 단계\n"
     ]
    },
    {
     "name": "stderr",
     "output_type": "stream",
     "text": [
      "Setting `pad_token_id` to `eos_token_id`:None for open-end generation.\n"
     ]
    },
    {
     "name": "stdout",
     "output_type": "stream",
     "text": [
      "origin :  Port of Pohang Arrives\n",
      "cleaned :   포항항 도착\n"
     ]
    },
    {
     "name": "stderr",
     "output_type": "stream",
     "text": [
      "Setting `pad_token_id` to `eos_token_id`:None for open-end generation.\n"
     ]
    },
    {
     "name": "stdout",
     "output_type": "stream",
     "text": [
      "origin :   Ryu Hyun-jin, Second Team Starter in KBO League's First All-Star Game \n",
      "cleaned :   류현진, KBO 리그 첫 올스타전 2차 선발 투수 \n"
     ]
    },
    {
     "name": "stderr",
     "output_type": "stream",
     "text": [
      "Setting `pad_token_id` to `eos_token_id`:None for open-end generation.\n"
     ]
    },
    {
     "name": "stdout",
     "output_type": "stream",
     "text": [
      "origin :  Girlfriend Park Hye-jin, Group MVP 4th Week Maintains No. 1 Position\n",
      "cleaned :   박혜진 전 여자친구, 그룹 MVP 4주차 1위 지키다\n"
     ]
    },
    {
     "name": "stderr",
     "output_type": "stream",
     "text": [
      "Setting `pad_token_id` to `eos_token_id`:None for open-end generation.\n"
     ]
    },
    {
     "name": "stdout",
     "output_type": "stream",
     "text": [
      "origin :  B-Pick, 6-4 in the front, 15Y in the rear, 3x in the middle\n",
      "cleaned :   전면 6-4, 후면 15Y, 중간 3x\n"
     ]
    },
    {
     "name": "stderr",
     "output_type": "stream",
     "text": [
      "Setting `pad_token_id` to `eos_token_id`:None for open-end generation.\n"
     ]
    },
    {
     "name": "stdout",
     "output_type": "stream",
     "text": [
      "origin :  Education Ministry's 4th Supplementary Budget Plan Announced; Experts, Including Associations, Say 'Wrong Direction'\n",
      "cleaned :   교육부의 4차 보충예산안 발표, 전문가들 포함 학회들 \"오판\" 비판\n"
     ]
    },
    {
     "name": "stderr",
     "output_type": "stream",
     "text": [
      "Setting `pad_token_id` to `eos_token_id`:None for open-end generation.\n"
     ]
    },
    {
     "name": "stdout",
     "output_type": "stream",
     "text": [
      "origin :  The Three Musketeers Achieved a 50% Win Rate in September Last Year\n",
      "cleaned :   2020년 9월, 삼총사는 50% 승률을 기록했습니다.\n"
     ]
    },
    {
     "name": "stderr",
     "output_type": "stream",
     "text": [
      "Setting `pad_token_id` to `eos_token_id`:None for open-end generation.\n"
     ]
    },
    {
     "name": "stdout",
     "output_type": "stream",
     "text": [
      "origin :  Choi Na's Multi-Hit, Tampa Bay's 4-game Losing Streak Escape\n",
      "cleaned :   최나 멀티히트, 탬파베이 4경기 연속 패배 탈출\n"
     ]
    },
    {
     "name": "stderr",
     "output_type": "stream",
     "text": [
      "Setting `pad_token_id` to `eos_token_id`:None for open-end generation.\n"
     ]
    },
    {
     "name": "stdout",
     "output_type": "stream",
     "text": [
      "origin :  South Korean Player Lee Seung-A Wins Y1K1 European Championship\n",
      "cleaned :   한국 선수 이승아, 유럽 챔피언십 1K1 우승\n"
     ]
    },
    {
     "name": "stderr",
     "output_type": "stream",
     "text": [
      "Setting `pad_token_id` to `eos_token_id`:None for open-end generation.\n"
     ]
    },
    {
     "name": "stdout",
     "output_type": "stream",
     "text": [
      "origin :  Daemo-BIS extends winning streak, beats KCC\n",
      "cleaned :   대모-비스, 연승 지속, 케이씨씨 누르고 우승\n"
     ]
    },
    {
     "name": "stderr",
     "output_type": "stream",
     "text": [
      "Setting `pad_token_id` to `eos_token_id`:None for open-end generation.\n"
     ]
    },
    {
     "name": "stdout",
     "output_type": "stream",
     "text": [
      "origin :  Son Heung-min Scores First Goal After Joining the Treble Club\n",
      "cleaned :   손흥민, 트레블 클럽 가입 후 첫 골 득점\n"
     ]
    },
    {
     "name": "stderr",
     "output_type": "stream",
     "text": [
      "Setting `pad_token_id` to `eos_token_id`:None for open-end generation.\n"
     ]
    },
    {
     "name": "stdout",
     "output_type": "stream",
     "text": [
      "origin :  Three teams compete for the title with the 8th defending champion, Shirari\n",
      "cleaned :   8번 우승팀인 시라리와 함께 타이틀을 놓고 경쟁\n"
     ]
    },
    {
     "name": "stderr",
     "output_type": "stream",
     "text": [
      "Setting `pad_token_id` to `eos_token_id`:None for open-end generation.\n"
     ]
    },
    {
     "name": "stdout",
     "output_type": "stream",
     "text": [
      "origin :  Organic Farming Wins the Championship in the 4th Division League\n",
      "cleaned :   유기농 농업, 4회 디비전 리그 챔피언십에서 우승\n"
     ]
    },
    {
     "name": "stderr",
     "output_type": "stream",
     "text": [
      "Setting `pad_token_id` to `eos_token_id`:None for open-end generation.\n"
     ]
    },
    {
     "name": "stdout",
     "output_type": "stream",
     "text": [
      "origin :  Park Ki-hwan, 0C O's carelessness is not good\n",
      "cleaned :   박기환, 0C 오스의 무책임함은 좋지 않다.\n"
     ]
    },
    {
     "name": "stderr",
     "output_type": "stream",
     "text": [
      "Setting `pad_token_id` to `eos_token_id`:None for open-end generation.\n"
     ]
    },
    {
     "name": "stdout",
     "output_type": "stream",
     "text": [
      "origin :  Hyundai Construction of Icheon Selected as MVP on 8th Day of Professional Basketball\n",
      "cleaned :   이천 현대건설, 프로 농구 8일차 MVP에 선정됨\n"
     ]
    },
    {
     "name": "stderr",
     "output_type": "stream",
     "text": [
      "Setting `pad_token_id` to `eos_token_id`:None for open-end generation.\n"
     ]
    },
    {
     "name": "stdout",
     "output_type": "stream",
     "text": [
      "origin :  4S Asia 2nd, 7th in scoring, Lodore Public Corporation leading, and H 4th jumping\n",
      "cleaned :   4S 아시아 2위, 득점 2위, 로더 퍼블릭 코퍼레이션 1위, H 4위 점프\n"
     ]
    },
    {
     "name": "stderr",
     "output_type": "stream",
     "text": [
      "Setting `pad_token_id` to `eos_token_id`:None for open-end generation.\n"
     ]
    },
    {
     "name": "stdout",
     "output_type": "stream",
     "text": [
      "origin :  D Cup ticket sales qualify-based competition intensifies, at least 5 tickets must be purchased\n",
      "cleaned :   D컵 티켓 판매, 자격 기반 경쟁 심화, 최소 5매 구매 필수\n"
     ]
    },
    {
     "name": "stderr",
     "output_type": "stream",
     "text": [
      "Setting `pad_token_id` to `eos_token_id`:None for open-end generation.\n"
     ]
    },
    {
     "name": "stdout",
     "output_type": "stream",
     "text": [
      "origin :  KT Signs MOUs with 4 Information Security Companies\n",
      "cleaned :   KT, 4개 정보보안 기업과 MOU 체결\n"
     ]
    },
    {
     "name": "stderr",
     "output_type": "stream",
     "text": [
      "Setting `pad_token_id` to `eos_token_id`:None for open-end generation.\n"
     ]
    },
    {
     "name": "stdout",
     "output_type": "stream",
     "text": [
      "origin :  South Korea's Challenge as the World Archery Championships 2022 Conqueror\n",
      "cleaned :   세계 양궁 선수권 대회 2022 우승자로서의 대한민국의 과제\n"
     ]
    },
    {
     "name": "stderr",
     "output_type": "stream",
     "text": [
      "Setting `pad_token_id` to `eos_token_id`:None for open-end generation.\n"
     ]
    },
    {
     "name": "stdout",
     "output_type": "stream",
     "text": [
      "origin :  Mets COVID-19 Outbreak Update: Strong Social Distancing Policies\n",
      "cleaned :   메츠 코로나19 발병 상황 업데이트: 강력한 사회적 거리두기 정책\n"
     ]
    },
    {
     "name": "stderr",
     "output_type": "stream",
     "text": [
      "Setting `pad_token_id` to `eos_token_id`:None for open-end generation.\n"
     ]
    },
    {
     "name": "stdout",
     "output_type": "stream",
     "text": [
      "origin :  Former Basketball Coach ZZZ Indicted for R-Charjin E Betting\n",
      "cleaned :   전 농구 감독 ZZZ, R-차징 E 베팅 혐의로 기소됨\n"
     ]
    },
    {
     "name": "stderr",
     "output_type": "stream",
     "text": [
      "Setting `pad_token_id` to `eos_token_id`:None for open-end generation.\n"
     ]
    },
    {
     "name": "stdout",
     "output_type": "stream",
     "text": [
      "origin :  Manchester United Beat Southampton to Win EFL Cup\n",
      "cleaned :   맨체스터 유나이티드, 사우샘프턴을 꺾고 EFL컵 우승\n"
     ]
    },
    {
     "name": "stderr",
     "output_type": "stream",
     "text": [
      "Setting `pad_token_id` to `eos_token_id`:None for open-end generation.\n"
     ]
    },
    {
     "name": "stdout",
     "output_type": "stream",
     "text": [
      "origin :  The death tax issue was a major concern for JR Hector\n",
      "cleaned :   헥터 씨, 증세 문제에 큰 관심을 표함\n"
     ]
    },
    {
     "name": "stderr",
     "output_type": "stream",
     "text": [
      "Setting `pad_token_id` to `eos_token_id`:None for open-end generation.\n"
     ]
    },
    {
     "name": "stdout",
     "output_type": "stream",
     "text": [
      "origin :  Roth IRA Savings 0% Commission, Top 5 Kim, TF Confirmed\n",
      "cleaned :   로스 IRA 저축 0% 수수료, 최상위 5명, TF 확인\n"
     ]
    },
    {
     "name": "stderr",
     "output_type": "stream",
     "text": [
      "Setting `pad_token_id` to `eos_token_id`:None for open-end generation.\n"
     ]
    },
    {
     "name": "stdout",
     "output_type": "stream",
     "text": [
      "origin :  Philadelphia 76ers Beat the New York Knicks and Achieve an 11-Game Winning Streak\n",
      "cleaned :   필라델피아 세븐티식서스가 뉴욕 닉스를 꺾고 11경기 연속 승리 기록\n"
     ]
    },
    {
     "name": "stderr",
     "output_type": "stream",
     "text": [
      "Setting `pad_token_id` to `eos_token_id`:None for open-end generation.\n"
     ]
    },
    {
     "name": "stdout",
     "output_type": "stream",
     "text": [
      "origin :  Maintaining the 5th place to advance to the FIFA World Cup semi-finals\n",
      "cleaned :   5위 유지, FIFA 월드컵 준결승 진출\n"
     ]
    },
    {
     "name": "stderr",
     "output_type": "stream",
     "text": [
      "Setting `pad_token_id` to `eos_token_id`:None for open-end generation.\n"
     ]
    },
    {
     "name": "stdout",
     "output_type": "stream",
     "text": [
      "origin :  \"4th Anniversary of Libera's Debut: MUB Enters the Hall of Fame\n",
      "cleaned :   \"4번째 해의 Libera 데뷔: MUB 명예의 전당에 들어가다\"\n"
     ]
    },
    {
     "name": "stderr",
     "output_type": "stream",
     "text": [
      "Setting `pad_token_id` to `eos_token_id`:None for open-end generation.\n"
     ]
    },
    {
     "name": "stdout",
     "output_type": "stream",
     "text": [
      "origin :  AroManCITY 67 goals, 28 years of TL club record\n",
      "cleaned :   아로맨시티 67골, 28년간의 TL 클럽 기록\n"
     ]
    },
    {
     "name": "stderr",
     "output_type": "stream",
     "text": [
      "Setting `pad_token_id` to `eos_token_id`:None for open-end generation.\n"
     ]
    },
    {
     "name": "stdout",
     "output_type": "stream",
     "text": [
      "origin :  Son Heung-min, GO7 in the spotlight, moves up to 7th place out of 00 points, Asia's only one\n",
      "cleaned :   손흥민, GO7에 빛나는 인물, 00점에서 7위로 올라, 아시아 유일의 1위\n"
     ]
    },
    {
     "name": "stderr",
     "output_type": "stream",
     "text": [
      "Setting `pad_token_id` to `eos_token_id`:None for open-end generation.\n"
     ]
    },
    {
     "name": "stdout",
     "output_type": "stream",
     "text": [
      "origin :  Captain Lancaster, who was in charge of the name, in the mountains\n",
      "cleaned :   산속에서 이름을 지킨 캡틴 랭커스터\n"
     ]
    },
    {
     "name": "stderr",
     "output_type": "stream",
     "text": [
      "Setting `pad_token_id` to `eos_token_id`:None for open-end generation.\n"
     ]
    },
    {
     "name": "stdout",
     "output_type": "stream",
     "text": [
      "origin :  Chang-Ho Park and Jae-Pil Kim Score a One-Run Victory With a Home Run Explosion\n",
      "cleaned :   박창호와 김재필, 홈런 폭발로 1점차 승리를 거두다\n"
     ]
    },
    {
     "name": "stderr",
     "output_type": "stream",
     "text": [
      "Setting `pad_token_id` to `eos_token_id`:None for open-end generation.\n"
     ]
    },
    {
     "name": "stdout",
     "output_type": "stream",
     "text": [
      "origin :  Double Perfect FC, Season 5 Wins, Loses to Lotte in a Row\n",
      "cleaned :   더블 퍼펙트 FC, 시즌 5 연속 패배, 롯데에게 패배\n"
     ]
    },
    {
     "name": "stderr",
     "output_type": "stream",
     "text": [
      "Setting `pad_token_id` to `eos_token_id`:None for open-end generation.\n"
     ]
    },
    {
     "name": "stdout",
     "output_type": "stream",
     "text": [
      "origin :  4-Year-8-Months-Old Ambassador of Agamez, Announces Grand Message\n",
      "cleaned :   4년 8개월 된 아가메즈의 대사, 거창한 메시지를 발표합니다.\n"
     ]
    },
    {
     "name": "stderr",
     "output_type": "stream",
     "text": [
      "Setting `pad_token_id` to `eos_token_id`:None for open-end generation.\n"
     ]
    },
    {
     "name": "stdout",
     "output_type": "stream",
     "text": [
      "origin :  DSME Invests 1.2 Billion Won in LG Energy Solution\n",
      "cleaned :   LG에너지솔루션에 1.2억 원 투자하는 DSME\n"
     ]
    },
    {
     "name": "stderr",
     "output_type": "stream",
     "text": [
      "Setting `pad_token_id` to `eos_token_id`:None for open-end generation.\n"
     ]
    },
    {
     "name": "stdout",
     "output_type": "stream",
     "text": [
      "origin :  7 scoreless innings, 11 points, E-Luyi and Shijie in a cycling competition\n",
      "cleaned :   무실점 7이닝, 11득점, E-Luyi와 Shijie의 사이클링 경쟁\n"
     ]
    },
    {
     "name": "stderr",
     "output_type": "stream",
     "text": [
      "Setting `pad_token_id` to `eos_token_id`:None for open-end generation.\n"
     ]
    },
    {
     "name": "stdout",
     "output_type": "stream",
     "text": [
      "origin :   Korea University Ranked 2nd in the World's Best Universities \n",
      "cleaned :   한국 대학, 세계 최고 대학 2위\n"
     ]
    },
    {
     "name": "stderr",
     "output_type": "stream",
     "text": [
      "Setting `pad_token_id` to `eos_token_id`:None for open-end generation.\n"
     ]
    },
    {
     "name": "stdout",
     "output_type": "stream",
     "text": [
      "origin :  제목없음\n",
      "cleaned :   제목 없음\n"
     ]
    },
    {
     "name": "stderr",
     "output_type": "stream",
     "text": [
      "Setting `pad_token_id` to `eos_token_id`:None for open-end generation.\n"
     ]
    },
    {
     "name": "stdout",
     "output_type": "stream",
     "text": [
      "origin :  \"Kim Woo's First J7 Inning on the Weekend, a No-Hit No-Run Game with 1 Win\"\n",
      "cleaned :   \"김우 첫 주말 J7 무투수 무득점 경기, 1승\"\n"
     ]
    },
    {
     "name": "stderr",
     "output_type": "stream",
     "text": [
      "Setting `pad_token_id` to `eos_token_id`:None for open-end generation.\n"
     ]
    },
    {
     "name": "stdout",
     "output_type": "stream",
     "text": [
      "origin :  Will the day come when Choo Shin-soo's life is baseball?\n",
      "cleaned :   추신수의 삶이 야구일 날이 오려나?\n"
     ]
    },
    {
     "name": "stderr",
     "output_type": "stream",
     "text": [
      "Setting `pad_token_id` to `eos_token_id`:None for open-end generation.\n"
     ]
    },
    {
     "name": "stdout",
     "output_type": "stream",
     "text": [
      "origin :  Spain's basketball team wins against Russia in a match\n",
      "cleaned :   스페인 농구 국가대표팀, 러시아와의 경기에서 승리\n"
     ]
    },
    {
     "name": "stderr",
     "output_type": "stream",
     "text": [
      "Setting `pad_token_id` to `eos_token_id`:None for open-end generation.\n"
     ]
    },
    {
     "name": "stdout",
     "output_type": "stream",
     "text": [
      "origin :  L-Shaped Samsung Digital OK Savings Bank Wins, Ending the Losing Streak\n",
      "cleaned :   L자형 삼성디지털OK저축은행 승리, 패배 기록 종료\n"
     ]
    },
    {
     "name": "stderr",
     "output_type": "stream",
     "text": [
      "Setting `pad_token_id` to `eos_token_id`:None for open-end generation.\n"
     ]
    },
    {
     "name": "stdout",
     "output_type": "stream",
     "text": [
      "origin :  South Korean Football Team Attends World Cup Victory Celebration Event\n",
      "cleaned :   한국 축구대표팀, 월드컵 우승 축하 행사 참석\n"
     ]
    },
    {
     "name": "stderr",
     "output_type": "stream",
     "text": [
      "Setting `pad_token_id` to `eos_token_id`:None for open-end generation.\n"
     ]
    },
    {
     "name": "stdout",
     "output_type": "stream",
     "text": [
      "origin :  Korean Power vs. Korea Highway Corporation: Women's Professional Volleyball League 2nd Round 9th Game\n",
      "cleaned :   한국 전력 vs. 한국도로공사: 여자 프로 배구 리그 2차 라운드 9경기\n"
     ]
    },
    {
     "name": "stderr",
     "output_type": "stream",
     "text": [
      "Setting `pad_token_id` to `eos_token_id`:None for open-end generation.\n"
     ]
    },
    {
     "name": "stdout",
     "output_type": "stream",
     "text": [
      "origin :  KB: Adjustment Fee Settlement Integrated Marketing\n",
      "cleaned :   KB: 통합 마케팅 조정 비용 정산\n"
     ]
    },
    {
     "name": "stderr",
     "output_type": "stream",
     "text": [
      "Setting `pad_token_id` to `eos_token_id`:None for open-end generation.\n"
     ]
    },
    {
     "name": "stdout",
     "output_type": "stream",
     "text": [
      "origin :  E-Land Enters Electric Car Market, Betting on 4 Strategies\n",
      "cleaned :   전기차 시장에 뛰어든 E-Land, 4가지 전략에 걸림돌로\n"
     ]
    },
    {
     "name": "stderr",
     "output_type": "stream",
     "text": [
      "Setting `pad_token_id` to `eos_token_id`:None for open-end generation.\n"
     ]
    },
    {
     "name": "stdout",
     "output_type": "stream",
     "text": [
      "origin :  Football Stars, Age Revealed \n",
      "cleaned :   축구 스타들의 나이 드러남\n"
     ]
    },
    {
     "name": "stderr",
     "output_type": "stream",
     "text": [
      "Setting `pad_token_id` to `eos_token_id`:None for open-end generation.\n"
     ]
    },
    {
     "name": "stdout",
     "output_type": "stream",
     "text": [
      "origin :  3P Hero Park Hang-seo, Today's Honor of the Day: Kared\n",
      "cleaned :   3P 영웅 박항서, 오늘의 영광: 카레드\n"
     ]
    },
    {
     "name": "stderr",
     "output_type": "stream",
     "text": [
      "Setting `pad_token_id` to `eos_token_id`:None for open-end generation.\n"
     ]
    },
    {
     "name": "stdout",
     "output_type": "stream",
     "text": [
      "origin :  Son Heung-min's Acceleration Faster Than Other European League Players in December\n",
      "cleaned :   손흥민의 12월 속도가 다른 유럽 리그 선수들보다 빠르다.\n"
     ]
    },
    {
     "name": "stderr",
     "output_type": "stream",
     "text": [
      "Setting `pad_token_id` to `eos_token_id`:None for open-end generation.\n"
     ]
    },
    {
     "name": "stdout",
     "output_type": "stream",
     "text": [
      "origin :  Samwoo Heavy Industries, First LNG Ship Order of the Year, 4,199 Billion Won Comprehensive Contract\n",
      "cleaned :   2023년 첫 LNG 선박 주문, 삼우중공업 4,199억 원 총 계약\n"
     ]
    },
    {
     "name": "stderr",
     "output_type": "stream",
     "text": [
      "Setting `pad_token_id` to `eos_token_id`:None for open-end generation.\n"
     ]
    },
    {
     "name": "stdout",
     "output_type": "stream",
     "text": [
      "origin :  Hyun Jin Dives Fast Tempo Team Achieves Great Success\n",
      "cleaned :   현진, 빠른 템포 팀, 거대한 성공 달성\n"
     ]
    },
    {
     "name": "stderr",
     "output_type": "stream",
     "text": [
      "Setting `pad_token_id` to `eos_token_id`:None for open-end generation.\n"
     ]
    },
    {
     "name": "stdout",
     "output_type": "stream",
     "text": [
      "origin :  Korea University 5th Year Finals, 3 vs. 3 Basketball Championship Match\n",
      "cleaned :   한국대학교 5학년 결승전, 3 대 3 농구 챔피언십 경기\n"
     ]
    },
    {
     "name": "stderr",
     "output_type": "stream",
     "text": [
      "Setting `pad_token_id` to `eos_token_id`:None for open-end generation.\n"
     ]
    },
    {
     "name": "stdout",
     "output_type": "stream",
     "text": [
      "origin :  Q Player's Rising Valuation, Highly Praised by CAO\n",
      "cleaned :   Q 플레이어의 가치 상승, CAO의 높은 평가\n"
     ]
    },
    {
     "name": "stderr",
     "output_type": "stream",
     "text": [
      "Setting `pad_token_id` to `eos_token_id`:None for open-end generation.\n"
     ]
    },
    {
     "name": "stdout",
     "output_type": "stream",
     "text": [
      "origin :  Kim Jong-un Announces New Year's Message on Reunification\n",
      "cleaned :   김정은, 2023년 새해 연합의 메시지 발표\n"
     ]
    },
    {
     "name": "stderr",
     "output_type": "stream",
     "text": [
      "Setting `pad_token_id` to `eos_token_id`:None for open-end generation.\n"
     ]
    },
    {
     "name": "stdout",
     "output_type": "stream",
     "text": [
      "origin :  Demolition of 7 in-laws in Munin-dong, 2-4, 4-2, and 7-2, Dong, Dang 2\n",
      "cleaned :   무인동 7호, 2-4, 4-2, 7-2호 철거\n"
     ]
    },
    {
     "name": "stderr",
     "output_type": "stream",
     "text": [
      "Setting `pad_token_id` to `eos_token_id`:None for open-end generation.\n"
     ]
    },
    {
     "name": "stdout",
     "output_type": "stream",
     "text": [
      "origin :  World Economic Forum's Series of Events: Discussion on Creative Economy\n",
      "cleaned :   세계경제포럼의 연속행사: 창의경제에 대한 토론\n"
     ]
    },
    {
     "name": "stderr",
     "output_type": "stream",
     "text": [
      "Setting `pad_token_id` to `eos_token_id`:None for open-end generation.\n"
     ]
    },
    {
     "name": "stdout",
     "output_type": "stream",
     "text": [
      "origin :  Shocking 6Mq Continuation Like Kim Jong-gil's Lehman Shock\n",
      "cleaned :   충격적인 6Mq 계속, 김종길의 레만 충격과 같은 충격\n"
     ]
    },
    {
     "name": "stderr",
     "output_type": "stream",
     "text": [
      "Setting `pad_token_id` to `eos_token_id`:None for open-end generation.\n"
     ]
    },
    {
     "name": "stdout",
     "output_type": "stream",
     "text": [
      "origin :  Moon Jae-in Proposes to Kim Jong-un to Hold a Summit as Soon as Possible\n",
      "cleaned :   문재인, 김정은과 가능한 빠른 시일 내에 정상회담 개최\n"
     ]
    },
    {
     "name": "stderr",
     "output_type": "stream",
     "text": [
      "Setting `pad_token_id` to `eos_token_id`:None for open-end generation.\n"
     ]
    },
    {
     "name": "stdout",
     "output_type": "stream",
     "text": [
      "origin :  3rd Part: Memorial Ceremony at the Appointment Ceremony for Ryu Siu in the International Community\n",
      "cleaned :   3부: 국제사회에서 류수 임명식 기념행사\n"
     ]
    },
    {
     "name": "stderr",
     "output_type": "stream",
     "text": [
      "Setting `pad_token_id` to `eos_token_id`:None for open-end generation.\n"
     ]
    },
    {
     "name": "stdout",
     "output_type": "stream",
     "text": [
      "origin :  D1v Partners with T-Line for Employment Plan to Revitalize the Ulsan-Gyeongsang Area\n",
      "cleaned :   D1v, 울산경상 지역 활성화를 위한 고용계획 발표 - T라인과 협력\n"
     ]
    },
    {
     "name": "stderr",
     "output_type": "stream",
     "text": [
      "Setting `pad_token_id` to `eos_token_id`:None for open-end generation.\n"
     ]
    },
    {
     "name": "stdout",
     "output_type": "stream",
     "text": [
      "origin :  The opposition E Party, led by former Park Geun-hye supporters, is planning to launch a reformist conservative party in Dongjak-gu tomorrow. \n",
      "cleaned :   전 박근혜 지지자들이 이끄는 야당 E당, 내일 도림동에서 개혁주의 보수주의자들을 위한 새로운 정당 창당 계획\n"
     ]
    },
    {
     "name": "stderr",
     "output_type": "stream",
     "text": [
      "Setting `pad_token_id` to `eos_token_id`:None for open-end generation.\n"
     ]
    },
    {
     "name": "stdout",
     "output_type": "stream",
     "text": [
      "origin :  The possibility of a North Korean military invasion is not small, and the North-South border is tense. \n",
      "cleaned :   북한 군사 침공 가능성이 작지 않으며 남북 국경은 긴장되어 있습니다.\n"
     ]
    },
    {
     "name": "stderr",
     "output_type": "stream",
     "text": [
      "Setting `pad_token_id` to `eos_token_id`:None for open-end generation.\n"
     ]
    },
    {
     "name": "stdout",
     "output_type": "stream",
     "text": [
      "origin :  The president's attempt to focus on an economic policy-based employment policy. \n",
      "cleaned :   대통령의 경제정책 기반 고용정책 방향성 추구\n"
     ]
    },
    {
     "name": "stderr",
     "output_type": "stream",
     "text": [
      "Setting `pad_token_id` to `eos_token_id`:None for open-end generation.\n"
     ]
    },
    {
     "name": "stdout",
     "output_type": "stream",
     "text": [
      "origin :  \"Chin Park, the Leader of the House of Representatives, Announces the Acquisition of G-Dan B-Hwa Hongmoon 8-Do in a Comprehensive Manner\n",
      "cleaned :   \"총무처장 진박, 국회의원 총무처장, 광문8도 획득 발표: 광문8도 광문8도 광문8도 광문8도 광문8도 광문8도 광\n"
     ]
    },
    {
     "name": "stderr",
     "output_type": "stream",
     "text": [
      "Setting `pad_token_id` to `eos_token_id`:None for open-end generation.\n"
     ]
    },
    {
     "name": "stdout",
     "output_type": "stream",
     "text": [
      "origin :  Division at a Private Academy in Bundang\n",
      "cleaned :   분당 사립학교 내 분쟁\n"
     ]
    },
    {
     "name": "stderr",
     "output_type": "stream",
     "text": [
      "Setting `pad_token_id` to `eos_token_id`:None for open-end generation.\n"
     ]
    },
    {
     "name": "stdout",
     "output_type": "stream",
     "text": [
      "origin :  Poem dedicated to Kim Jong-un\n",
      "cleaned :   김정은에 헌정된 시\n"
     ]
    },
    {
     "name": "stderr",
     "output_type": "stream",
     "text": [
      "Setting `pad_token_id` to `eos_token_id`:None for open-end generation.\n"
     ]
    },
    {
     "name": "stdout",
     "output_type": "stream",
     "text": [
      "origin :  Two Political Figures Chosen by Ruling and Opposition Parties, Private Organizations Join In\n",
      "cleaned :   정·야,\n"
     ]
    },
    {
     "name": "stderr",
     "output_type": "stream",
     "text": [
      "Setting `pad_token_id` to `eos_token_id`:None for open-end generation.\n"
     ]
    },
    {
     "name": "stdout",
     "output_type": "stream",
     "text": [
      "origin :  Second Half, 5 Wins: Two-Way Rival SK Wyverns Chasing First-Place Doosan Bears\n",
      "cleaned :   후반전 5승: 양대 라이벌 SK 와이번스가 선두 도산 베어스를 추격 중\n"
     ]
    },
    {
     "name": "stderr",
     "output_type": "stream",
     "text": [
      "Setting `pad_token_id` to `eos_token_id`:None for open-end generation.\n"
     ]
    },
    {
     "name": "stdout",
     "output_type": "stream",
     "text": [
      "origin :  President Moon Jae-in Announces Seven Pillars of the European Union Constitution in the UK\n",
      "cleaned :   \"문재인 대통령, 영국에서 유럽 연합 헌법의 7가지 기둥 발표\"\n"
     ]
    },
    {
     "name": "stderr",
     "output_type": "stream",
     "text": [
      "Setting `pad_token_id` to `eos_token_id`:None for open-end generation.\n"
     ]
    },
    {
     "name": "stdout",
     "output_type": "stream",
     "text": [
      "origin :  I, 7th in ruling party, developed from 75 billion won in innovation\n",
      "cleaned :   7위 정당, 혁신 750억 원에서 성장한 나는\n"
     ]
    },
    {
     "name": "stderr",
     "output_type": "stream",
     "text": [
      "Setting `pad_token_id` to `eos_token_id`:None for open-end generation.\n"
     ]
    },
    {
     "name": "stdout",
     "output_type": "stream",
     "text": [
      "origin :  President's Visit to Australia: WJ Residence, Corruption-Free Headquarters\n",
      "cleaned :   대통령의 오스트레일리아 방문: WJ 주택, 부정부패 없는 본부\n"
     ]
    },
    {
     "name": "stderr",
     "output_type": "stream",
     "text": [
      "Setting `pad_token_id` to `eos_token_id`:None for open-end generation.\n"
     ]
    },
    {
     "name": "stdout",
     "output_type": "stream",
     "text": [
      "origin :  Song Seop W of F National Assembly District B Line\n",
      "cleaned :   국회 B선거구 F 지역구의 송섭위 후보\n"
     ]
    },
    {
     "name": "stderr",
     "output_type": "stream",
     "text": [
      "Setting `pad_token_id` to `eos_token_id`:None for open-end generation.\n"
     ]
    },
    {
     "name": "stdout",
     "output_type": "stream",
     "text": [
      "origin :  3-Day Meeting with R MP and 9 S Advisors\n",
      "cleaned :   3일간의 RMP와 9S 고문과의 회의\n"
     ]
    },
    {
     "name": "stderr",
     "output_type": "stream",
     "text": [
      "Setting `pad_token_id` to `eos_token_id`:None for open-end generation.\n"
     ]
    },
    {
     "name": "stdout",
     "output_type": "stream",
     "text": [
      "origin :  Kim Jong-un Directs Construction of Second Science Street\n",
      "cleaned :   김정은, 두 번째 과학거리 건설 지휘\n"
     ]
    },
    {
     "name": "stderr",
     "output_type": "stream",
     "text": [
      "Setting `pad_token_id` to `eos_token_id`:None for open-end generation.\n"
     ]
    },
    {
     "name": "stdout",
     "output_type": "stream",
     "text": [
      "origin :  Special Emergency Decree Proclaimed for the Hocchinno District\n",
      "cleaned :   호친노 지역에 대한 특별 긴급 명령 선포\n"
     ]
    },
    {
     "name": "stderr",
     "output_type": "stream",
     "text": [
      "Setting `pad_token_id` to `eos_token_id`:None for open-end generation.\n"
     ]
    },
    {
     "name": "stdout",
     "output_type": "stream",
     "text": [
      "origin :  China 5-Nation RF Parliament GQs, 6-Nation Anti-Nuclear Resolution with 7 Clauses\n",
      "cleaned :   중국, 5개국 RF 의회 GQ, 6개국 핵 비확산 결의안 7개 조항 통과\n"
     ]
    },
    {
     "name": "stderr",
     "output_type": "stream",
     "text": [
      "Setting `pad_token_id` to `eos_token_id`:None for open-end generation.\n"
     ]
    },
    {
     "name": "stdout",
     "output_type": "stream",
     "text": [
      "origin :  \"Accept the YH issue, regardless of the decision made today\"\n",
      "cleaned :   \"\n"
     ]
    },
    {
     "name": "stderr",
     "output_type": "stream",
     "text": [
      "Setting `pad_token_id` to `eos_token_id`:None for open-end generation.\n"
     ]
    },
    {
     "name": "stdout",
     "output_type": "stream",
     "text": [
      "origin :  North Korea Proposes 6th Inter-Korean Summit for Reconciliation\n",
      "cleaned :   북한, 6차 남북정상회담 제안... 화해를 위한 만남 제안\n"
     ]
    },
    {
     "name": "stderr",
     "output_type": "stream",
     "text": [
      "Setting `pad_token_id` to `eos_token_id`:None for open-end generation.\n"
     ]
    },
    {
     "name": "stdout",
     "output_type": "stream",
     "text": [
      "origin :  제목없음\n",
      "cleaned :   \n"
     ]
    },
    {
     "name": "stderr",
     "output_type": "stream",
     "text": [
      "Setting `pad_token_id` to `eos_token_id`:None for open-end generation.\n"
     ]
    },
    {
     "name": "stdout",
     "output_type": "stream",
     "text": [
      "origin :  Election 5 months away, but only 4 of the 23 candidates are clear in C District\n",
      "cleaned :   선거 5개월 남았지만, C구역에서 23명 중 \n"
     ]
    },
    {
     "name": "stderr",
     "output_type": "stream",
     "text": [
      "Setting `pad_token_id` to `eos_token_id`:None for open-end generation.\n"
     ]
    },
    {
     "name": "stdout",
     "output_type": "stream",
     "text": [
      "origin :  National Cabinet Approval Needed for Minister of Land, Infrastructure and Transport's Transition to New Role\n",
      "cleaned :   국토교통부 장관의 전환을 위한 국무회의 승인 필요\n"
     ]
    },
    {
     "name": "stderr",
     "output_type": "stream",
     "text": [
      "Setting `pad_token_id` to `eos_token_id`:None for open-end generation.\n"
     ]
    },
    {
     "name": "stdout",
     "output_type": "stream",
     "text": [
      "origin :  Japan's Trade Deficit in the B Sector Continues to Worsen\n",
      "cleaned :   일본의 B 부문 무역 적자 계속 악화\n"
     ]
    },
    {
     "name": "stderr",
     "output_type": "stream",
     "text": [
      "Setting `pad_token_id` to `eos_token_id`:None for open-end generation.\n"
     ]
    },
    {
     "name": "stdout",
     "output_type": "stream",
     "text": [
      "origin :  Strengthening the support of elected representatives, enhancing the competitiveness of the National Assembly\n",
      "cleaned :   국회 경쟁력을 높이기 위한 선출 대표자들의 지원 강화\n"
     ]
    },
    {
     "name": "stderr",
     "output_type": "stream",
     "text": [
      "Setting `pad_token_id` to `eos_token_id`:None for open-end generation.\n"
     ]
    },
    {
     "name": "stdout",
     "output_type": "stream",
     "text": [
      "origin :  Youth during Japanese Occupation Preparing for War\n",
      "cleaned :   일본 점령 기간 동안 청소년들이\n"
     ]
    },
    {
     "name": "stderr",
     "output_type": "stream",
     "text": [
      "Setting `pad_token_id` to `eos_token_id`:None for open-end generation.\n"
     ]
    },
    {
     "name": "stdout",
     "output_type": "stream",
     "text": [
      "origin :  National Assembly Secretariat Signs MOU with University of the Pacific, USA\n",
      "cleaned :   국회사무처, 미국 태평양대학과 MOU 체결\n"
     ]
    },
    {
     "name": "stderr",
     "output_type": "stream",
     "text": [
      "Setting `pad_token_id` to `eos_token_id`:None for open-end generation.\n"
     ]
    },
    {
     "name": "stdout",
     "output_type": "stream",
     "text": [
      "origin :  The government is planning to send a special envoy to North Korea, with former National Intelligence Service Director Seo Hoon as the likely candidate. \n",
      "cleaned :   정부, 북한에 특사 보내기 계획, 전 국가정보원장 서훈 유력 후보\n"
     ]
    },
    {
     "name": "stderr",
     "output_type": "stream",
     "text": [
      "Setting `pad_token_id` to `eos_token_id`:None for open-end generation.\n"
     ]
    },
    {
     "name": "stdout",
     "output_type": "stream",
     "text": [
      "origin :  President Park's visit to North Korea was under pressure due to North Korea's warning\n",
      "cleaned :   북한의 경고로 인해 박 대통령의 북한 방문이 압박받았습니다.\n"
     ]
    },
    {
     "name": "stderr",
     "output_type": "stream",
     "text": [
      "Setting `pad_token_id` to `eos_token_id`:None for open-end generation.\n"
     ]
    },
    {
     "name": "stdout",
     "output_type": "stream",
     "text": [
      "origin :  South Korea-US Joint Military Drills: Defense Ministers of 5 Countries Hold Comprehensive Meeting\n",
      "cleaned :   5개국 국방장관, 한국-미국 합동군사훈련 관련 포괄적 회담 개최\n"
     ]
    },
    {
     "name": "stderr",
     "output_type": "stream",
     "text": [
      "Setting `pad_token_id` to `eos_token_id`:None for open-end generation.\n"
     ]
    },
    {
     "name": "stdout",
     "output_type": "stream",
     "text": [
      "origin :  Hong Nam-ki, Minister of Economy and Finance, Discusses Economic Stability Management at Ministerial Council Meeting\n",
      "cleaned :   경제·재정부장관 홍남기, 경제안정 관리 논의\n"
     ]
    },
    {
     "name": "stderr",
     "output_type": "stream",
     "text": [
      "Setting `pad_token_id` to `eos_token_id`:None for open-end generation.\n"
     ]
    },
    {
     "name": "stdout",
     "output_type": "stream",
     "text": [
      "origin :  Today, at the Yangjeong Summit, the 8th round of talks will be held, where the two leaders will toast to their friendship with a glass of makgeolli, a Korean rice wine. \n",
      "cleaned :   양정 정상회담 오늘, 8차 회담 개최...두 정상은 막걸리 한잔하며 우정을 기립니다.\n"
     ]
    },
    {
     "name": "stderr",
     "output_type": "stream",
     "text": [
      "Setting `pad_token_id` to `eos_token_id`:None for open-end generation.\n"
     ]
    },
    {
     "name": "stdout",
     "output_type": "stream",
     "text": [
      "origin :  NC Democratic Party Scandal, AZ Run for Office\n",
      "cleaned :   NC 민주당 스캔들, 아리조나 선거 출마\n"
     ]
    },
    {
     "name": "stderr",
     "output_type": "stream",
     "text": [
      "Setting `pad_token_id` to `eos_token_id`:None for open-end generation.\n"
     ]
    },
    {
     "name": "stdout",
     "output_type": "stream",
     "text": [
      "origin :  Former Minister of Gender Equality and Family, Kim Boo-sun, is expected to be decided within this month.\n",
      "cleaned :   여성가족부 전 장관 김부선, 이번 달 내 결정될 듯.\n"
     ]
    },
    {
     "name": "stderr",
     "output_type": "stream",
     "text": [
      "Setting `pad_token_id` to `eos_token_id`:None for open-end generation.\n"
     ]
    },
    {
     "name": "stdout",
     "output_type": "stream",
     "text": [
      "origin :  Immigrants Salute America\n",
      "cleaned :   이민자들이 미국을 찬양합니다\n"
     ]
    },
    {
     "name": "stderr",
     "output_type": "stream",
     "text": [
      "Setting `pad_token_id` to `eos_token_id`:None for open-end generation.\n"
     ]
    },
    {
     "name": "stdout",
     "output_type": "stream",
     "text": [
      "origin :  Serbian President Agrees to Visit North Korea and Russia in the Second Half of the Year with Kim Jong-un\n",
      "cleaned :   세르비아 대통령, 김정은과 함께 올해 2학기 북한과 러시아 방문\n"
     ]
    },
    {
     "name": "stderr",
     "output_type": "stream",
     "text": [
      "Setting `pad_token_id` to `eos_token_id`:None for open-end generation.\n"
     ]
    },
    {
     "name": "stdout",
     "output_type": "stream",
     "text": [
      "origin :  The L-shaped Latch of the Connected System Must Be Paul's Way\n",
      "cleaned :   연결된 시스템의 L자형 잠금은 폴의 방식이어야 한다\n"
     ]
    },
    {
     "name": "stderr",
     "output_type": "stream",
     "text": [
      "Setting `pad_token_id` to `eos_token_id`:None for open-end generation.\n"
     ]
    },
    {
     "name": "stdout",
     "output_type": "stream",
     "text": [
      "origin :  President Park received four times sign language in Tokyo\n",
      "cleaned :   대통령 박은 도쿄에서 4번의 수화로 환영받았습니다. \n"
     ]
    },
    {
     "name": "stderr",
     "output_type": "stream",
     "text": [
      "Setting `pad_token_id` to `eos_token_id`:None for open-end generation.\n"
     ]
    },
    {
     "name": "stdout",
     "output_type": "stream",
     "text": [
      "origin :  E National Assembly, Peace Walk in the General Election Speeches of National Assembly Members\n",
      "cleaned :   국회, 선거연설에서 평화 행진\n"
     ]
    },
    {
     "name": "stderr",
     "output_type": "stream",
     "text": [
      "Setting `pad_token_id` to `eos_token_id`:None for open-end generation.\n"
     ]
    },
    {
     "name": "stdout",
     "output_type": "stream",
     "text": [
      "origin :  International Society's Reform Voices Diverge: Government Divided\n",
      "cleaned :   국제 사회의 개혁 목소리가 갈리고 정부는 분열되어 있음\n"
     ]
    },
    {
     "name": "stderr",
     "output_type": "stream",
     "text": [
      "Setting `pad_token_id` to `eos_token_id`:None for open-end generation.\n"
     ]
    },
    {
     "name": "stdout",
     "output_type": "stream",
     "text": [
      "origin :  D Charter Signed by Minister Bum-kyun Kwon\n",
      "cleaned :   장관 권범균이 서명한 D 헌장\n"
     ]
    },
    {
     "name": "stderr",
     "output_type": "stream",
     "text": [
      "Setting `pad_token_id` to `eos_token_id`:None for open-end generation.\n"
     ]
    },
    {
     "name": "stdout",
     "output_type": "stream",
     "text": [
      "origin :  MBC's \"8 o'clock Overview\" Talk Show Sparks Controversy\n",
      "cleaned :   MBC의 \"8시 요약\" 토크쇼, 논란을 일으킵니다\n"
     ]
    },
    {
     "name": "stderr",
     "output_type": "stream",
     "text": [
      "Setting `pad_token_id` to `eos_token_id`:None for open-end generation.\n"
     ]
    },
    {
     "name": "stdout",
     "output_type": "stream",
     "text": [
      "origin :  Kz, a K-pop star, has decided to run for the general secretary of the pro-Minjoo Party to help the party. \n",
      "cleaned :   케이지, 케이팝 스타로서의 정치 입문, 민주시민당 총서기 후보로 출마\n"
     ]
    },
    {
     "name": "stderr",
     "output_type": "stream",
     "text": [
      "Setting `pad_token_id` to `eos_token_id`:None for open-end generation.\n"
     ]
    },
    {
     "name": "stdout",
     "output_type": "stream",
     "text": [
      "origin :  Preemptive Strike, Detox, Overthrow of Jang74, Healing of Korea\n",
      "cleaned :   예방적 공격, 디톡스, 장74 퇴진, 한국의 치유\n"
     ]
    },
    {
     "name": "stderr",
     "output_type": "stream",
     "text": [
      "Setting `pad_token_id` to `eos_token_id`:None for open-end generation.\n"
     ]
    },
    {
     "name": "stdout",
     "output_type": "stream",
     "text": [
      "origin :  The UN includes a charge d'affaires on North Korea's blacklist\n",
      "cleaned :   국제 연합은 북한의 블랙리스트에 있는 외교관을 임명합니다.\n"
     ]
    },
    {
     "name": "stderr",
     "output_type": "stream",
     "text": [
      "Setting `pad_token_id` to `eos_token_id`:None for open-end generation.\n"
     ]
    },
    {
     "name": "stdout",
     "output_type": "stream",
     "text": [
      "origin :  The President's Impeachment Decision: A Heavy Burden to Bear\n",
      "cleaned :   대통령의 탄핵 결심: 무거운 짐을 지고\n"
     ]
    },
    {
     "name": "stderr",
     "output_type": "stream",
     "text": [
      "Setting `pad_token_id` to `eos_token_id`:None for open-end generation.\n"
     ]
    },
    {
     "name": "stdout",
     "output_type": "stream",
     "text": [
      "origin :  North Korean tech companies join 17th local network\n",
      "cleaned :   북한 기술 기업들이 17회 지역 네트워크에 참여합니다. \n"
     ]
    },
    {
     "name": "stderr",
     "output_type": "stream",
     "text": [
      "Setting `pad_token_id` to `eos_token_id`:None for open-end generation.\n"
     ]
    },
    {
     "name": "stdout",
     "output_type": "stream",
     "text": [
      "origin :  North Korean Nuclear Threat: War Likelihood Rises This Year\n",
      "cleaned :   북한 핵 위협: 올해 전쟁 가능성 높아져\n"
     ]
    },
    {
     "name": "stderr",
     "output_type": "stream",
     "text": [
      "Setting `pad_token_id` to `eos_token_id`:None for open-end generation.\n"
     ]
    },
    {
     "name": "stdout",
     "output_type": "stream",
     "text": [
      "origin :  Presidential Jk Family Scandal Sparks Pd벌WBF Hiding Jun-Joon\n",
      "cleaned :   대통령 가족 스캔들, PD 벌WBF에 숨은 준준\n"
     ]
    },
    {
     "name": "stderr",
     "output_type": "stream",
     "text": [
      "Setting `pad_token_id` to `eos_token_id`:None for open-end generation.\n"
     ]
    },
    {
     "name": "stdout",
     "output_type": "stream",
     "text": [
      "origin :  FAM Members of X District Hold Joint Praise Service\n",
      "cleaned :   X구역 FAM 회원들이 공동 찬양 예배를 개최합니다. 번역된 제목은 영어 원문의 의미를\n"
     ]
    },
    {
     "name": "stderr",
     "output_type": "stream",
     "text": [
      "Setting `pad_token_id` to `eos_token_id`:None for open-end generation.\n"
     ]
    },
    {
     "name": "stdout",
     "output_type": "stream",
     "text": [
      "origin :  North Korean Tunnel Leak: Split Earth, Infiltration on Both Sides\n",
      "cleaned :   북한 터널 누설: 땅이 나눠지고 양측 침투\n"
     ]
    },
    {
     "name": "stderr",
     "output_type": "stream",
     "text": [
      "Setting `pad_token_id` to `eos_token_id`:None for open-end generation.\n"
     ]
    },
    {
     "name": "stdout",
     "output_type": "stream",
     "text": [
      "origin :  North Korea, Kim Jong-un elected as representative of Hamgyongbuk-do at the Party Congress\n",
      "cleaned :   북한, 김정은 대표로 함경북도 대표로 당대회 선출\n"
     ]
    },
    {
     "name": "stderr",
     "output_type": "stream",
     "text": [
      "Setting `pad_token_id` to `eos_token_id`:None for open-end generation.\n"
     ]
    },
    {
     "name": "stdout",
     "output_type": "stream",
     "text": [
      "origin :  North Korea Conducts 8th Nuclear Test... Developing 6G-ton Nuclear Warhead\n",
      "cleaned :   북한, 8차 핵실험... 6톤급 핵탄두 개발 중\n"
     ]
    },
    {
     "name": "stderr",
     "output_type": "stream",
     "text": [
      "Setting `pad_token_id` to `eos_token_id`:None for open-end generation.\n"
     ]
    },
    {
     "name": "stdout",
     "output_type": "stream",
     "text": [
      "origin :  President Moon and the leadership team strengthen communication with the director\n",
      "cleaned :   대통령 문재인과 리더십 팀이 감독과 의사소통 강화\n"
     ]
    },
    {
     "name": "stderr",
     "output_type": "stream",
     "text": [
      "Setting `pad_token_id` to `eos_token_id`:None for open-end generation.\n"
     ]
    },
    {
     "name": "stdout",
     "output_type": "stream",
     "text": [
      "origin :  North Korea Fires 9 T9 Missiles Successfully\n",
      "cleaned :   북한, \n"
     ]
    },
    {
     "name": "stderr",
     "output_type": "stream",
     "text": [
      "Setting `pad_token_id` to `eos_token_id`:None for open-end generation.\n"
     ]
    },
    {
     "name": "stdout",
     "output_type": "stream",
     "text": [
      "origin :  The Democratic Party's gth Month National Focus Bill No. 9 Stuck in Review… Korean Party Q Opposes\n",
      "cleaned :   민주당의 9월 국정 포커스 법안 제9호 검토중… 국민의힘 반대\n"
     ]
    },
    {
     "name": "stderr",
     "output_type": "stream",
     "text": [
      "Setting `pad_token_id` to `eos_token_id`:None for open-end generation.\n"
     ]
    },
    {
     "name": "stdout",
     "output_type": "stream",
     "text": [
      "origin :  Myung-Youn Yeo's Reaction Not Good to Park Won-Seok's Suggestion to Communicate More on K-Nuri Course\n",
      "cleaned :   여명윤의 K-Nuri 프로젝트\n"
     ]
    },
    {
     "name": "stderr",
     "output_type": "stream",
     "text": [
      "Setting `pad_token_id` to `eos_token_id`:None for open-end generation.\n"
     ]
    },
    {
     "name": "stdout",
     "output_type": "stream",
     "text": [
      "origin :  President Park must play the role of Jo-eseon to create a national flag of start-ups\n",
      "cleaned :   대통령 박근혜는 창업국가의 국기를 만들기 위해 조선 역할을 해야 한다.\n"
     ]
    },
    {
     "name": "stderr",
     "output_type": "stream",
     "text": [
      "Setting `pad_token_id` to `eos_token_id`:None for open-end generation.\n"
     ]
    },
    {
     "name": "stdout",
     "output_type": "stream",
     "text": [
      "origin :  The Justice Party Ulsan City Branch Announces 3 Candidates for the 6D3 Elections\n",
      "cleaned :   정의당 울산시지부, 6D3 선거에 3명의 후보 선\n"
     ]
    },
    {
     "name": "stderr",
     "output_type": "stream",
     "text": [
      "Setting `pad_token_id` to `eos_token_id`:None for open-end generation.\n"
     ]
    },
    {
     "name": "stdout",
     "output_type": "stream",
     "text": [
      "origin :  Gzntech of Germany and Kogomirae Europe Conference Missed\n",
      "cleaned :  \n"
     ]
    },
    {
     "name": "stderr",
     "output_type": "stream",
     "text": [
      "Setting `pad_token_id` to `eos_token_id`:None for open-end generation.\n"
     ]
    },
    {
     "name": "stdout",
     "output_type": "stream",
     "text": [
      "origin :  In the local election, a contest between the New Frontier Party and the Unified Progressive Party is expected to continue, with a seven-way race in some areas. \n",
      "cleaned :   지방선거에서 새로운 전진당과 통일진보당 간의 경쟁이 계속되며, 일부 지역에서는 7파전 예상\n"
     ]
    },
    {
     "name": "stderr",
     "output_type": "stream",
     "text": [
      "Setting `pad_token_id` to `eos_token_id`:None for open-end generation.\n"
     ]
    },
    {
     "name": "stdout",
     "output_type": "stream",
     "text": [
      "origin :  President Moon should address the nine major issues in one speech for a comprehensive response. \n",
      "cleaned :   대통령 문재인은 한 번의 연설로 9대 문제에 대해 포괄적인 답변을 해야 한다.\n"
     ]
    },
    {
     "name": "stderr",
     "output_type": "stream",
     "text": [
      "Setting `pad_token_id` to `eos_token_id`:None for open-end generation.\n"
     ]
    },
    {
     "name": "stdout",
     "output_type": "stream",
     "text": [
      "origin :  Head of the Korean United Presbyterian Church Apologizes for Two Sermons\n",
      "cleaned :   한국연합감리교회 총회장, 두 개의 설교에 대해 사과\n"
     ]
    },
    {
     "name": "stderr",
     "output_type": "stream",
     "text": [
      "Setting `pad_token_id` to `eos_token_id`:None for open-end generation.\n"
     ]
    },
    {
     "name": "stdout",
     "output_type": "stream",
     "text": [
      "origin :  Kim Dong-wan, FSC Reform in Geoje to B\n",
      "cleaned :   김동완, 거제 FSC 개혁을 B로 옮깁니다.\n"
     ]
    },
    {
     "name": "stderr",
     "output_type": "stream",
     "text": [
      "Setting `pad_token_id` to `eos_token_id`:None for open-end generation.\n"
     ]
    },
    {
     "name": "stdout",
     "output_type": "stream",
     "text": [
      "origin :  U and K, Strengthening Offensive...Maintaining the Invariant of the Legislative Branch\n",
      "cleaned :   영국과 미국, 입법부의 불변의 원칙을 유지하면서 공격력을 강화한다\n"
     ]
    },
    {
     "name": "stderr",
     "output_type": "stream",
     "text": [
      "Setting `pad_token_id` to `eos_token_id`:None for open-end generation.\n"
     ]
    },
    {
     "name": "stdout",
     "output_type": "stream",
     "text": [
      "origin :  Democratic Party of Korea MPs and Saha District Office Head Had Breakfast Together\n",
      "cleaned :   한국 민주당 의원들과 사하구청장, 아침 식사 함께\n"
     ]
    },
    {
     "name": "stderr",
     "output_type": "stream",
     "text": [
      "Setting `pad_token_id` to `eos_token_id`:None for open-end generation.\n"
     ]
    },
    {
     "name": "stdout",
     "output_type": "stream",
     "text": [
      "origin :  The Conclusion of the Hearing on the Registration of Honorary Listeners by the Government Side\n",
      "cleaned :   정부 측의 명예 청취자 등록 심판의 결론\n"
     ]
    },
    {
     "name": "stderr",
     "output_type": "stream",
     "text": [
      "Setting `pad_token_id` to `eos_token_id`:None for open-end generation.\n"
     ]
    },
    {
     "name": "stdout",
     "output_type": "stream",
     "text": [
      "origin :  An Elderly Man Commits Suicide\n",
      "cleaned :   고령자의 자살\n"
     ]
    },
    {
     "name": "stderr",
     "output_type": "stream",
     "text": [
      "Setting `pad_token_id` to `eos_token_id`:None for open-end generation.\n"
     ]
    },
    {
     "name": "stdout",
     "output_type": "stream",
     "text": [
      "origin :  2nd Right-Wing and Chorus of Voices in Agreement with the Order of the Chorus\n",
      "cleaned :   2차 우익과 합창단의 합창, 합창단의 순서에 동의하는 목소리\n"
     ]
    },
    {
     "name": "stderr",
     "output_type": "stream",
     "text": [
      "Setting `pad_token_id` to `eos_token_id`:None for open-end generation.\n"
     ]
    },
    {
     "name": "stdout",
     "output_type": "stream",
     "text": [
      "origin :  UK September Budget Debate: Foreign and Security Affairs Secretary's Work Report\n",
      "cleaned :   영국 9월 예산 논쟁: 외교안보장관의 업무보고\n"
     ]
    },
    {
     "name": "stderr",
     "output_type": "stream",
     "text": [
      "Setting `pad_token_id` to `eos_token_id`:None for open-end generation.\n"
     ]
    },
    {
     "name": "stdout",
     "output_type": "stream",
     "text": [
      "origin :  eP Abandoned Offense, South Korea Counterattacked with S-Triple Defense\n",
      "cleaned :   한국, eP 방해를 무력화시키기 위해 S-Triple\n"
     ]
    },
    {
     "name": "stderr",
     "output_type": "stream",
     "text": [
      "Setting `pad_token_id` to `eos_token_id`:None for open-end generation.\n"
     ]
    },
    {
     "name": "stdout",
     "output_type": "stream",
     "text": [
      "origin :  Moon Jae-in, Please Induce Interest in KTX in Yongsan. I Will Handle the Mahinda Well, Overall\n",
      "cleaned :   문재인 대통령, 용산 KTX 관심 유도해 주\n"
     ]
    },
    {
     "name": "stderr",
     "output_type": "stream",
     "text": [
      "Setting `pad_token_id` to `eos_token_id`:None for open-end generation.\n"
     ]
    },
    {
     "name": "stdout",
     "output_type": "stream",
     "text": [
      "origin :  Comprehensive Stabilization Measures to Be Implemented Starting March 5, 2023\n",
      "cleaned :   2023년 3월 5일부터 시행되는 전방위 안정화 조치\n"
     ]
    },
    {
     "name": "stderr",
     "output_type": "stream",
     "text": [
      "Setting `pad_token_id` to `eos_token_id`:None for open-end generation.\n"
     ]
    },
    {
     "name": "stdout",
     "output_type": "stream",
     "text": [
      "origin :  U3 공동으로 소프트웨어 설치합니다.\n",
      "cleaned :   공동으로 U3 소프트웨어 설치합니다.\n"
     ]
    },
    {
     "name": "stderr",
     "output_type": "stream",
     "text": [
      "Setting `pad_token_id` to `eos_token_id`:None for open-end generation.\n"
     ]
    },
    {
     "name": "stdout",
     "output_type": "stream",
     "text": [
      "origin :  The government will announce its response to address the crisis on the Korean Peninsula in April. \n",
      "cleaned :   정부, \n"
     ]
    },
    {
     "name": "stderr",
     "output_type": "stream",
     "text": [
      "Setting `pad_token_id` to `eos_token_id`:None for open-end generation.\n"
     ]
    },
    {
     "name": "stdout",
     "output_type": "stream",
     "text": [
      "origin :  North Korea is reportedly preparing for its 8th nuclear test and is being closely watched. \n",
      "cleaned :   북한이 8번째 핵실험 준비 중이라고 보고되며, 국제사회가 주목하고 있다.\n"
     ]
    },
    {
     "name": "stderr",
     "output_type": "stream",
     "text": [
      "Setting `pad_token_id` to `eos_token_id`:None for open-end generation.\n"
     ]
    },
    {
     "name": "stdout",
     "output_type": "stream",
     "text": [
      "origin :  Former President Lee Myung-bak's Photo Exhibition Opens at the Lee Seung-man Memorial Hall in the Blue House\n",
      "cleaned :   전 대통령 이명박의 사진전이 청와대 이승만 기념관에서 개막\n"
     ]
    },
    {
     "name": "stderr",
     "output_type": "stream",
     "text": [
      "Setting `pad_token_id` to `eos_token_id`:None for open-end generation.\n"
     ]
    },
    {
     "name": "stdout",
     "output_type": "stream",
     "text": [
      "origin :  Accommodation normal from the 9th, overseas travel is not allowed\n",
      "cleaned :   9일부터 숙박 가능, 해외여행 금지\n"
     ]
    },
    {
     "name": "stderr",
     "output_type": "stream",
     "text": [
      "Setting `pad_token_id` to `eos_token_id`:None for open-end generation.\n"
     ]
    },
    {
     "name": "stdout",
     "output_type": "stream",
     "text": [
      "origin :  Ruling and Opposition Parties Discuss Issues for National Convention in the National Assembly\n",
      "cleaned :   국회에서 국정 대토론, 여소야대 정당 대표들 논의\n"
     ]
    },
    {
     "name": "stderr",
     "output_type": "stream",
     "text": [
      "Setting `pad_token_id` to `eos_token_id`:None for open-end generation.\n"
     ]
    },
    {
     "name": "stdout",
     "output_type": "stream",
     "text": [
      "origin :  The 9th President of the Justice Party will also be present on the first day of the National Assembly audit. \n",
      "cleaned :   \"국회 감사 첫날, 정의당 9대 대표도 참석\"\n"
     ]
    },
    {
     "name": "stderr",
     "output_type": "stream",
     "text": [
      "Setting `pad_token_id` to `eos_token_id`:None for open-end generation.\n"
     ]
    },
    {
     "name": "stdout",
     "output_type": "stream",
     "text": [
      "origin :  Conflicts Expected Over Opposition and Government's Proposal for a Comprehensive Constitutional Amendment Special Committee\n",
      "cleaned :   정부와 야당의 포괄적인 헌법 개정 특별위원회 제안에 대한 충돌이 예상됨\n"
     ]
    },
    {
     "name": "stderr",
     "output_type": "stream",
     "text": [
      "Setting `pad_token_id` to `eos_token_id`:None for open-end generation.\n"
     ]
    },
    {
     "name": "stdout",
     "output_type": "stream",
     "text": [
      "origin :  No President's Think Tank with R and JIP Foundation Renovation\n",
      "cleaned :   대통령의 생각\n"
     ]
    },
    {
     "name": "stderr",
     "output_type": "stream",
     "text": [
      "Setting `pad_token_id` to `eos_token_id`:None for open-end generation.\n"
     ]
    },
    {
     "name": "stdout",
     "output_type": "stream",
     "text": [
      "origin :  North Korean Special Broadcast on Central Television Scheduled\n",
      "cleaned :   북한 중앙방송 특집방송 예정\n"
     ]
    },
    {
     "name": "stderr",
     "output_type": "stream",
     "text": [
      "Setting `pad_token_id` to `eos_token_id`:None for open-end generation.\n"
     ]
    },
    {
     "name": "stdout",
     "output_type": "stream",
     "text": [
      "origin :  Proposed North Korea First Incentive Clause\n",
      "cleaned :   제안된 북한 첫 번째 인센티브 조항\n"
     ]
    },
    {
     "name": "stderr",
     "output_type": "stream",
     "text": [
      "Setting `pad_token_id` to `eos_token_id`:None for open-end generation.\n"
     ]
    },
    {
     "name": "stdout",
     "output_type": "stream",
     "text": [
      "origin :  The Presidential Transition Committee Cooperates with 9 Companies from 3 Countries in the Economic Strategy Department\n",
      "cleaned :   대통령 전환 위원회, 3개국 9개 기업과 경제 전략팀 협력\n"
     ]
    },
    {
     "name": "stderr",
     "output_type": "stream",
     "text": [
      "Setting `pad_token_id` to `eos_token_id`:None for open-end generation.\n"
     ]
    },
    {
     "name": "stdout",
     "output_type": "stream",
     "text": [
      "origin :  Adversarial forces boost their attack capabilities, fueling U.S. threats\n",
      "cleaned :   적대 세력은 공격 능력을 강화하며 미국의 위협을 촉진한다\n"
     ]
    },
    {
     "name": "stderr",
     "output_type": "stream",
     "text": [
      "Setting `pad_token_id` to `eos_token_id`:None for open-end generation.\n"
     ]
    },
    {
     "name": "stdout",
     "output_type": "stream",
     "text": [
      "origin :  Blue House to Receive Presidential Draft on 21st\n",
      "cleaned :   청와대, 21일 대통령 후보자 초청 강연 받음\n"
     ]
    },
    {
     "name": "stderr",
     "output_type": "stream",
     "text": [
      "Setting `pad_token_id` to `eos_token_id`:None for open-end generation.\n"
     ]
    },
    {
     "name": "stdout",
     "output_type": "stream",
     "text": [
      "origin :  Former Leader Kim Jong-pil, Quick Report on President Park's Impeachment Chapter 9\n",
      "cleaned :   전직 지도자 김종필, 대통령 박근혜 탄핵 9장에 대한 신속 보고\n"
     ]
    },
    {
     "name": "stderr",
     "output_type": "stream",
     "text": [
      "Setting `pad_token_id` to `eos_token_id`:None for open-end generation.\n"
     ]
    },
    {
     "name": "stdout",
     "output_type": "stream",
     "text": [
      "origin :  The government will accelerate the recovery of employment conditions from June, with a 0-level recovery rate. \n",
      "cleaned :   정부, 6월부터 고용 상황 회복 가속화, 0% 회복율로 추진\n"
     ]
    },
    {
     "name": "stderr",
     "output_type": "stream",
     "text": [
      "Setting `pad_token_id` to `eos_token_id`:None for open-end generation.\n"
     ]
    },
    {
     "name": "stdout",
     "output_type": "stream",
     "text": [
      "origin :  South Korea's Seat Continues to Rise on 41 Street, One Seat Left\n",
      "cleaned :   41번가, 한국의 자리는 계속 상승하며 한 자리 남아\n"
     ]
    },
    {
     "name": "stderr",
     "output_type": "stream",
     "text": [
      "Setting `pad_token_id` to `eos_token_id`:None for open-end generation.\n"
     ]
    },
    {
     "name": "stdout",
     "output_type": "stream",
     "text": [
      "origin :  3R Total 3 Rounds, 3 Economists Together\n",
      "cleaned :   3R 총 3라운드, 3개국 경제학자 함께\n"
     ]
    },
    {
     "name": "stderr",
     "output_type": "stream",
     "text": [
      "Setting `pad_token_id` to `eos_token_id`:None for open-end generation.\n"
     ]
    },
    {
     "name": "stdout",
     "output_type": "stream",
     "text": [
      "origin :  North Korean Leader Kim Jong-un Strengthens Military Training with the State Security Department\n",
      "cleaned :   북한 지도자 김정은, 국가안보부와 군사훈련 강화\n"
     ]
    },
    {
     "name": "stderr",
     "output_type": "stream",
     "text": [
      "Setting `pad_token_id` to `eos_token_id`:None for open-end generation.\n"
     ]
    },
    {
     "name": "stdout",
     "output_type": "stream",
     "text": [
      "origin :  Chungbuk Heavy Rain Front to Affect Heavy Rain Tomorrow, 50~100mm Rainfall\n",
      "cleaned :   충북에 폭우 전선이 내일 폭우를 가져오며 50~100mm 강수량\n"
     ]
    },
    {
     "name": "stderr",
     "output_type": "stream",
     "text": [
      "Setting `pad_token_id` to `eos_token_id`:None for open-end generation.\n"
     ]
    },
    {
     "name": "stdout",
     "output_type": "stream",
     "text": [
      "origin :  President Moon's attempt to designate a central autonomous region in Seoul as a special district\n",
      "cleaned :   문 대통령, 서울 중앙 자치구 지정 특례구로 지정 시도\n"
     ]
    },
    {
     "name": "stderr",
     "output_type": "stream",
     "text": [
      "Setting `pad_token_id` to `eos_token_id`:None for open-end generation.\n"
     ]
    },
    {
     "name": "stdout",
     "output_type": "stream",
     "text": [
      "origin :  A Yoon Opposition Candidate's Arrest: Special Prosecutor's Office Seeks to Imprison Kim Sung-tae 4-to-1 in Four Major Cases\n",
      "cleaned :   윤석열 후보의 야당 후보인 김성태의 체포: 특검청은 김성태를 4대 사건에서 4명 1명으로 구형\n"
     ]
    },
    {
     "name": "stderr",
     "output_type": "stream",
     "text": [
      "Setting `pad_token_id` to `eos_token_id`:None for open-end generation.\n"
     ]
    },
    {
     "name": "stdout",
     "output_type": "stream",
     "text": [
      "origin :  Five new parties merge to win over the opposition party's vote in 2020\n",
      "cleaned :   2020년에 새로운 5개 정당이 반대 정당의 표\n"
     ]
    },
    {
     "name": "stderr",
     "output_type": "stream",
     "text": [
      "Setting `pad_token_id` to `eos_token_id`:None for open-end generation.\n"
     ]
    },
    {
     "name": "stdout",
     "output_type": "stream",
     "text": [
      "origin :  Controversy over 7 Private Research Institutes Continues: Focus on Pro-Japanese Strategy in the Current Political Climate\n",
      "cleaned :   7개 사립연구소 논란 지속: 현 정치 상황에서의 친일 전략에 초점을 맞춥니다\n"
     ]
    },
    {
     "name": "stderr",
     "output_type": "stream",
     "text": [
      "Setting `pad_token_id` to `eos_token_id`:None for open-end generation.\n"
     ]
    },
    {
     "name": "stdout",
     "output_type": "stream",
     "text": [
      "origin :  President Park, Announces Urgent A-Level Nuclear Information\n",
      "cleaned :   박 대통령, 긴급 A급 원자력 정보 발표\n"
     ]
    },
    {
     "name": "stderr",
     "output_type": "stream",
     "text": [
      "Setting `pad_token_id` to `eos_token_id`:None for open-end generation.\n"
     ]
    },
    {
     "name": "stdout",
     "output_type": "stream",
     "text": [
      "origin :  NBN Order for P's Predecessor Blows in the Wind\n",
      "cleaned :   P의 전임자의 NBN 주문은 바람에 의해 분다.\n"
     ]
    },
    {
     "name": "stderr",
     "output_type": "stream",
     "text": [
      "Setting `pad_token_id` to `eos_token_id`:None for open-end generation.\n"
     ]
    },
    {
     "name": "stdout",
     "output_type": "stream",
     "text": [
      "origin :  Pyeongchang Winter Olympics Hosts\n",
      "cleaned :   평창\n"
     ]
    },
    {
     "name": "stderr",
     "output_type": "stream",
     "text": [
      "Setting `pad_token_id` to `eos_token_id`:None for open-end generation.\n"
     ]
    },
    {
     "name": "stdout",
     "output_type": "stream",
     "text": [
      "origin :  U.S. lawmakers express concerns over South Korea's military training\n",
      "cleaned :   미국 의원들, 한국의 군사 훈련에 대해 우려 표출\n"
     ]
    },
    {
     "name": "stderr",
     "output_type": "stream",
     "text": [
      "Setting `pad_token_id` to `eos_token_id`:None for open-end generation.\n"
     ]
    },
    {
     "name": "stdout",
     "output_type": "stream",
     "text": [
      "origin :  Bupyeong-gu Office in Busan Placed on Sanctions List\n",
      "cleaned :   부산 부평구청이 제재 대상에 올랐다.\n"
     ]
    },
    {
     "name": "stderr",
     "output_type": "stream",
     "text": [
      "Setting `pad_token_id` to `eos_token_id`:None for open-end generation.\n"
     ]
    },
    {
     "name": "stdout",
     "output_type": "stream",
     "text": [
      "origin :  20s G in the West: 1 Night 2 Days Workshop\n",
      "cleaned :   20대 젊은 여성들이 서구에서 1박 2일 워크숍에 참석합니다.\n"
     ]
    },
    {
     "name": "stderr",
     "output_type": "stream",
     "text": [
      "Setting `pad_token_id` to `eos_token_id`:None for open-end generation.\n"
     ]
    },
    {
     "name": "stdout",
     "output_type": "stream",
     "text": [
      "origin :  Students at a preparatory middle school for unification and peace, the voice of the people\n",
      "cleaned :   통일과 평화의 준비 중학교 학생들, 국민의 목소리\n"
     ]
    },
    {
     "name": "stderr",
     "output_type": "stream",
     "text": [
      "Setting `pad_token_id` to `eos_token_id`:None for open-end generation.\n"
     ]
    },
    {
     "name": "stdout",
     "output_type": "stream",
     "text": [
      "origin :  First Private Contact Between North Korea and China\n",
      "cleaned :   북한과 중국의 첫 번째 사적 접촉\n"
     ]
    },
    {
     "name": "stderr",
     "output_type": "stream",
     "text": [
      "Setting `pad_token_id` to `eos_token_id`:None for open-end generation.\n"
     ]
    },
    {
     "name": "stdout",
     "output_type": "stream",
     "text": [
      "origin :  Youth Economic Top and Peace Democratic Reconstruction in Yeosu, Korea\n",
      "cleaned :   여수, 한국의 청년 경제 상위권과 평화적 민주적 재건\n"
     ]
    },
    {
     "name": "stderr",
     "output_type": "stream",
     "text": [
      "Setting `pad_token_id` to `eos_token_id`:None for open-end generation.\n"
     ]
    },
    {
     "name": "stdout",
     "output_type": "stream",
     "text": [
      "origin :  North Korea's Missile Launch Provokes Strong U.S. Reaction\n",
      "cleaned :   북한의 미사일 발사는 강력한 미국의 반응을 불러일으켰다.\n"
     ]
    },
    {
     "name": "stderr",
     "output_type": "stream",
     "text": [
      "Setting `pad_token_id` to `eos_token_id`:None for open-end generation.\n"
     ]
    },
    {
     "name": "stdout",
     "output_type": "stream",
     "text": [
      "origin :  The National Assembly Achieves a Parallel Agreement in the Extraordinary Session of the 19th National Assembly\n",
      "cleaned :   국회, 제19대 국회 임시회에서 병행 합의 성사\n"
     ]
    },
    {
     "name": "stderr",
     "output_type": "stream",
     "text": [
      "Setting `pad_token_id` to `eos_token_id`:None for open-end generation.\n"
     ]
    },
    {
     "name": "stdout",
     "output_type": "stream",
     "text": [
      "origin :  The government will present its opinion to President Moon after hearing news about a 1 trillion won Korean Power Corporation recruitment. \n",
      "cleaned :   정부는 한국 전력공사 1조원 채용 소식을\n"
     ]
    },
    {
     "name": "stderr",
     "output_type": "stream",
     "text": [
      "Setting `pad_token_id` to `eos_token_id`:None for open-end generation.\n"
     ]
    },
    {
     "name": "stdout",
     "output_type": "stream",
     "text": [
      "origin :  North Korea Demands Immediate FXT from ML Group for Mass Defection of M and P Workers\n",
      "cleaned :   북한, 대규모 탈출을 이유로 ML 그룹에 즉각적인 FXT\n"
     ]
    },
    {
     "name": "stderr",
     "output_type": "stream",
     "text": [
      "Setting `pad_token_id` to `eos_token_id`:None for open-end generation.\n"
     ]
    },
    {
     "name": "stdout",
     "output_type": "stream",
     "text": [
      "origin :  7 out of 7 people must participate\n",
      "cleaned :   7명 중 7명이 참여해야 합니다.\n"
     ]
    },
    {
     "name": "stderr",
     "output_type": "stream",
     "text": [
      "Setting `pad_token_id` to `eos_token_id`:None for open-end generation.\n"
     ]
    },
    {
     "name": "stdout",
     "output_type": "stream",
     "text": [
      "origin :  Park President Must Solve Two Key Puzzles: Demand for 5 Won from Choi Soon-sil with Reason\n",
      "cleaned :   박 대통령은 최순실에게 5원 요구를 해결해야 하는 두 가지 큰謎를 풀어야 합니다.\n"
     ]
    },
    {
     "name": "stderr",
     "output_type": "stream",
     "text": [
      "Setting `pad_token_id` to `eos_token_id`:None for open-end generation.\n"
     ]
    },
    {
     "name": "stdout",
     "output_type": "stream",
     "text": [
      "origin :  Democratic Party and opposition parties in the National Assembly to persuade WGBL in May\n",
      "cleaned :   국회 내 민주당과 야당, 5월 WGBL 설득 예정\n"
     ]
    },
    {
     "name": "stderr",
     "output_type": "stream",
     "text": [
      "Setting `pad_token_id` to `eos_token_id`:None for open-end generation.\n"
     ]
    },
    {
     "name": "stdout",
     "output_type": "stream",
     "text": [
      "origin :  North Korea Expected to Hold NSC Executive Meeting Today\n",
      "cleaned :   북한, 오늘 국가안전보장회의 상임위원회 회의 개최 예상\n"
     ]
    },
    {
     "name": "stderr",
     "output_type": "stream",
     "text": [
      "Setting `pad_token_id` to `eos_token_id`:None for open-end generation.\n"
     ]
    },
    {
     "name": "stdout",
     "output_type": "stream",
     "text": [
      "origin :  Summit Dinner Event Hosted\n",
      "cleaned :   정상회담 저녁식사 이벤트 주최자\n"
     ]
    },
    {
     "name": "stderr",
     "output_type": "stream",
     "text": [
      "Setting `pad_token_id` to `eos_token_id`:None for open-end generation.\n"
     ]
    },
    {
     "name": "stdout",
     "output_type": "stream",
     "text": [
      "origin :  The 8 Major Policy Directions for the Creation Economy Policy of the Park Geun-hye Government Are Announced\n",
      "cleaned :   박근\n"
     ]
    },
    {
     "name": "stderr",
     "output_type": "stream",
     "text": [
      "Setting `pad_token_id` to `eos_token_id`:None for open-end generation.\n"
     ]
    },
    {
     "name": "stdout",
     "output_type": "stream",
     "text": [
      "origin :  South Korea Sends Special Delegation to North Korea for Kim Jong-un and Moon Jae-in Summit\n",
      "cleaned :   남북정상회담 위해 북한에 특사단 파견\n"
     ]
    },
    {
     "name": "stderr",
     "output_type": "stream",
     "text": [
      "Setting `pad_token_id` to `eos_token_id`:None for open-end generation.\n"
     ]
    },
    {
     "name": "stdout",
     "output_type": "stream",
     "text": [
      "origin :  South Korean leaders of the five and seven nations united in voice at the APEC meeting\n",
      "cleaned :   한국, 5개국 및 7개국의 리더들이 APEC 회의에서 목소리를 하나로 합쳐\n"
     ]
    },
    {
     "name": "stderr",
     "output_type": "stream",
     "text": [
      "Setting `pad_token_id` to `eos_token_id`:None for open-end generation.\n"
     ]
    },
    {
     "name": "stdout",
     "output_type": "stream",
     "text": [
      "origin :  In-Flight Medical Evaluation Compliance with 4Z Work\n",
      "cleaned :   비행 중 의료 평가 4Z 작업 준수\n"
     ]
    },
    {
     "name": "stderr",
     "output_type": "stream",
     "text": [
      "Setting `pad_token_id` to `eos_token_id`:None for open-end generation.\n"
     ]
    },
    {
     "name": "stdout",
     "output_type": "stream",
     "text": [
      "origin :  North Korea Stresses Nuclear Disarmament in New Year's Address\n",
      "cleaned :   북한, 신년사에서 핵무력 해체 강조\n"
     ]
    },
    {
     "name": "stderr",
     "output_type": "stream",
     "text": [
      "Setting `pad_token_id` to `eos_token_id`:None for open-end generation.\n"
     ]
    },
    {
     "name": "stdout",
     "output_type": "stream",
     "text": [
      "origin :  The International Community Is Surprised by North Korea's Nuclear Test: China and the US Propose a Unified Approach\n",
      "cleaned :   국제사회, 북한의 핵실험에 놀라 중국과 미국,\n"
     ]
    },
    {
     "name": "stderr",
     "output_type": "stream",
     "text": [
      "Setting `pad_token_id` to `eos_token_id`:None for open-end generation.\n"
     ]
    },
    {
     "name": "stdout",
     "output_type": "stream",
     "text": [
      "origin :  President's Minimum Wage Hike with the People, Nearing a Bipartisan Agreement\n",
      "cleaned :   대통령의 최소임금 인상, 국민과 함께하는 방식으로 양당 간 합의 근접\n"
     ]
    },
    {
     "name": "stderr",
     "output_type": "stream",
     "text": [
      "Setting `pad_token_id` to `eos_token_id`:None for open-end generation.\n"
     ]
    },
    {
     "name": "stdout",
     "output_type": "stream",
     "text": [
      "origin :  Human Rights for Cats: 7-Step Cat Shelter\n",
      "cleaned :   7단계 고양이 보호소: 고양이의 인권을 위한 길\n"
     ]
    },
    {
     "name": "stderr",
     "output_type": "stream",
     "text": [
      "Setting `pad_token_id` to `eos_token_id`:None for open-end generation.\n"
     ]
    },
    {
     "name": "stdout",
     "output_type": "stream",
     "text": [
      "origin :  International oil prices rebound after three days, WTI up 22 dollars this week.\n",
      "cleaned :   국제 석유 가격, 3일간의 하락 후\n"
     ]
    },
    {
     "name": "stderr",
     "output_type": "stream",
     "text": [
      "Setting `pad_token_id` to `eos_token_id`:None for open-end generation.\n"
     ]
    },
    {
     "name": "stdout",
     "output_type": "stream",
     "text": [
      "origin :  President Park Supports Terror Prevention Act for National Messages\n",
      "cleaned :   박 대통령, 국가 메시지에 대한 테러 방지법 지지\n"
     ]
    },
    {
     "name": "stderr",
     "output_type": "stream",
     "text": [
      "Setting `pad_token_id` to `eos_token_id`:None for open-end generation.\n"
     ]
    },
    {
     "name": "stdout",
     "output_type": "stream",
     "text": [
      "origin :  International Society Concerned Over North Korea's Missile Launch; U.S. Open to Dialogue in December with North Korea\n",
      "cleaned :   국제사회, 북한의 미사일 발사에 우려... 미국, 12월에 북한과 대화 가능성 엿보임\n"
     ]
    },
    {
     "name": "stderr",
     "output_type": "stream",
     "text": [
      "Setting `pad_token_id` to `eos_token_id`:None for open-end generation.\n"
     ]
    },
    {
     "name": "stdout",
     "output_type": "stream",
     "text": [
      "origin :  Prime Minister of Evesnap Menis Proposes Parliamentary Cooperation\n",
      "cleaned :   에베스냅 메니스 총리는 의회 협력을 제안합니다.\n"
     ]
    },
    {
     "name": "stderr",
     "output_type": "stream",
     "text": [
      "Setting `pad_token_id` to `eos_token_id`:None for open-end generation.\n"
     ]
    },
    {
     "name": "stdout",
     "output_type": "stream",
     "text": [
      "origin :  North Korea and Russia are pushing for the strengthening of military diplomacy.\n",
      "cleaned :   북한과 러시아, 군사외교 강화 추진\n"
     ]
    },
    {
     "name": "stderr",
     "output_type": "stream",
     "text": [
      "Setting `pad_token_id` to `eos_token_id`:None for open-end generation.\n"
     ]
    },
    {
     "name": "stdout",
     "output_type": "stream",
     "text": [
      "origin :  North Korean Foreign Minister W Kim Leads Diplomatic Negotiation Team\n",
      "cleaned :   북한 외교장관 김 위원장이 외교 협상팀을 이끈다\n"
     ]
    },
    {
     "name": "stderr",
     "output_type": "stream",
     "text": [
      "Setting `pad_token_id` to `eos_token_id`:None for open-end generation.\n"
     ]
    },
    {
     "name": "stdout",
     "output_type": "stream",
     "text": [
      "origin :  Thick Material, 2-3/8 Inch, No Complaints\n",
      "cleaned :   두꺼운 재질, 2-3/8인치, 불편함 없음\n"
     ]
    },
    {
     "name": "stderr",
     "output_type": "stream",
     "text": [
      "Setting `pad_token_id` to `eos_token_id`:None for open-end generation.\n"
     ]
    },
    {
     "name": "stdout",
     "output_type": "stream",
     "text": [
      "origin :  The Democratic Party Announces Plan for Chip Industry Development\n",
      "cleaned :   민주당, 칩 산업 발전 계획 발표\n"
     ]
    },
    {
     "name": "stderr",
     "output_type": "stream",
     "text": [
      "Setting `pad_token_id` to `eos_token_id`:None for open-end generation.\n"
     ]
    },
    {
     "name": "stdout",
     "output_type": "stream",
     "text": [
      "origin :  \"Kim Jin-pyo MC, Z's 8, The More You Push, The More Unison\"\n",
      "cleaned :   \"김진표 MC, Z's 8, 더 밀어 넣을수록 더 하나되다\"\n"
     ]
    },
    {
     "name": "stderr",
     "output_type": "stream",
     "text": [
      "Setting `pad_token_id` to `eos_token_id`:None for open-end generation.\n"
     ]
    },
    {
     "name": "stdout",
     "output_type": "stream",
     "text": [
      "origin :  제목없음\n",
      "cleaned :   제목 없음\n"
     ]
    },
    {
     "name": "stderr",
     "output_type": "stream",
     "text": [
      "Setting `pad_token_id` to `eos_token_id`:None for open-end generation.\n"
     ]
    },
    {
     "name": "stdout",
     "output_type": "stream",
     "text": [
      "origin :  President Park Stresses Strong Response to North Korea's Nuclear Issue at UN General Assembly\n",
      "cleaned :   박 대통령, UN 총회에서 북한 핵문제에 대한 강력한 대응 강조\n"
     ]
    },
    {
     "name": "stderr",
     "output_type": "stream",
     "text": [
      "Setting `pad_token_id` to `eos_token_id`:None for open-end generation.\n"
     ]
    },
    {
     "name": "stdout",
     "output_type": "stream",
     "text": [
      "origin :  International oil and grain prices rise, agricultural management costs expected to decrease by 33% this year\n",
      "cleaned :   국제 석유와 곡물 가격 상승, 농업 관리 비용이 올해 33% 감소 예상\n"
     ]
    },
    {
     "name": "stderr",
     "output_type": "stream",
     "text": [
      "Setting `pad_token_id` to `eos_token_id`:None for open-end generation.\n"
     ]
    },
    {
     "name": "stdout",
     "output_type": "stream",
     "text": [
      "origin :  Kim Jong-un Delivers Report on Accounting at the 5th Plenary Meeting of the Party Congress\n",
      "cleaned :   김정은, 당대회 5차 전원회의에서 회계 보고서 발표\n"
     ]
    },
    {
     "name": "stderr",
     "output_type": "stream",
     "text": [
      "Setting `pad_token_id` to `eos_token_id`:None for open-end generation.\n"
     ]
    },
    {
     "name": "stdout",
     "output_type": "stream",
     "text": [
      "origin :  70-year-old Park Won-soon, a candidate from the People's Party, is running for mayor\n",
      "cleaned :   70세의 국민당 후보 박원순, 서울시장 출마\n"
     ]
    },
    {
     "name": "stderr",
     "output_type": "stream",
     "text": [
      "Setting `pad_token_id` to `eos_token_id`:None for open-end generation.\n"
     ]
    },
    {
     "name": "stdout",
     "output_type": "stream",
     "text": [
      "origin :  C Jung-hyun: Unwavering in the Competition for U-Certification Mother Min's Tomorrow\n",
      "cleaned :   정현숙: 승부사 정신으로 U-Certification 모더민의 내일을 찾아내다\n"
     ]
    },
    {
     "name": "stderr",
     "output_type": "stream",
     "text": [
      "Setting `pad_token_id` to `eos_token_id`:None for open-end generation.\n"
     ]
    },
    {
     "name": "stdout",
     "output_type": "stream",
     "text": [
      "origin :  North Korea's 4th Party Congress and East Asian F-16 Nuclear Power Conference Conclude\n",
      "cleaned :   북한 4차 당대회와 동아시아 F-16 핵력 회의 종료\n"
     ]
    },
    {
     "name": "stderr",
     "output_type": "stream",
     "text": [
      "Setting `pad_token_id` to `eos_token_id`:None for open-end generation.\n"
     ]
    },
    {
     "name": "stdout",
     "output_type": "stream",
     "text": [
      "origin :  Incheon City, PC over 1,000,000 won, C Incheon X Hall Q UnZyeon X2, All Fully Paid\n",
      "cleaned :   인천광역시, PC 1,000,000원 이상, C 인천 X 홀 Q 언전 X2, 전액 결제 완료\n"
     ]
    },
    {
     "name": "stderr",
     "output_type": "stream",
     "text": [
      "Setting `pad_token_id` to `eos_token_id`:None for open-end generation.\n"
     ]
    },
    {
     "name": "stdout",
     "output_type": "stream",
     "text": [
      "origin :  2nd 16th Exam I\n",
      "cleaned :   16번째 시험 2차\n"
     ]
    },
    {
     "name": "stderr",
     "output_type": "stream",
     "text": [
      "Setting `pad_token_id` to `eos_token_id`:None for open-end generation.\n"
     ]
    },
    {
     "name": "stdout",
     "output_type": "stream",
     "text": [
      "origin :  President Park and GR Speaker of the National Assembly Reach a Consensus on a Constitutional Amendment; LK of the Opposition Party Refuses to Attend\n",
      "cleaned :   대통령 박과 국회 원내대표는 헌법 개정에 합의; 야당 대표 LK는 참석 거부\n"
     ]
    },
    {
     "name": "stderr",
     "output_type": "stream",
     "text": [
      "Setting `pad_token_id` to `eos_token_id`:None for open-end generation.\n"
     ]
    },
    {
     "name": "stdout",
     "output_type": "stream",
     "text": [
      "origin :  Lee Hee-Jae, Donates to the 7th A Seobing Hospital\n",
      "cleaned :   이희재, 제7회 아서스 병원에 기부\n"
     ]
    },
    {
     "name": "stderr",
     "output_type": "stream",
     "text": [
      "Setting `pad_token_id` to `eos_token_id`:None for open-end generation.\n"
     ]
    },
    {
     "name": "stdout",
     "output_type": "stream",
     "text": [
      "origin :  8% of Lee Seok-su's supporters sign up for the blue camp\n",
      "cleaned :   이석수의 8% 지지자들이 푸른 캠프에 가입\n"
     ]
    },
    {
     "name": "stderr",
     "output_type": "stream",
     "text": [
      "Setting `pad_token_id` to `eos_token_id`:None for open-end generation.\n"
     ]
    },
    {
     "name": "stdout",
     "output_type": "stream",
     "text": [
      "origin :  IIG Fails to Take Off, Talks About Cancellation\n",
      "cleaned :   IIG 발행이 무산, 취소 논의\n"
     ]
    },
    {
     "name": "stderr",
     "output_type": "stream",
     "text": [
      "Setting `pad_token_id` to `eos_token_id`:None for open-end generation.\n"
     ]
    },
    {
     "name": "stdout",
     "output_type": "stream",
     "text": [
      "origin :  7 Issues to be Dealt with in the First Regular Session of the 7th National Assembly\n",
      "cleaned :   제7회 국회 1차 정례회에서 다루어야 할 7가지 사항\n"
     ]
    },
    {
     "name": "stderr",
     "output_type": "stream",
     "text": [
      "Setting `pad_token_id` to `eos_token_id`:None for open-end generation.\n"
     ]
    },
    {
     "name": "stdout",
     "output_type": "stream",
     "text": [
      "origin :   I vs Kim Hyun-kwon vs Won-ah, Decision 8 reduced \n",
      "cleaned :   김현권 vs 원아, 결정 8\n"
     ]
    },
    {
     "name": "stderr",
     "output_type": "stream",
     "text": [
      "Setting `pad_token_id` to `eos_token_id`:None for open-end generation.\n"
     ]
    },
    {
     "name": "stdout",
     "output_type": "stream",
     "text": [
      "origin :  제목없음\n",
      "cleaned :   제목 없음\n"
     ]
    },
    {
     "name": "stderr",
     "output_type": "stream",
     "text": [
      "Setting `pad_token_id` to `eos_token_id`:None for open-end generation.\n"
     ]
    },
    {
     "name": "stdout",
     "output_type": "stream",
     "text": [
      "origin :  President Park's Press Conference ②: Meeting to be held on March 5th\n",
      "cleaned :   박 대통령의 기자회견 ②: 3월 5일에 회담 개최\n"
     ]
    },
    {
     "name": "stderr",
     "output_type": "stream",
     "text": [
      "Setting `pad_token_id` to `eos_token_id`:None for open-end generation.\n"
     ]
    },
    {
     "name": "stdout",
     "output_type": "stream",
     "text": [
      "origin :  Prime Minister Asks Defense Science Research Institute to Assign Security-Related Tasks to Researchers\n",
      "cleaned :   총리가 국방과학기술연구소에 연구자들에게 보안 관련 업무를 할당해달라고 요청했습니다.\n"
     ]
    },
    {
     "name": "stderr",
     "output_type": "stream",
     "text": [
      "Setting `pad_token_id` to `eos_token_id`:None for open-end generation.\n"
     ]
    },
    {
     "name": "stdout",
     "output_type": "stream",
     "text": [
      "origin :  Z Party Leads in 4 G Districts in Busan's Vegetable Garden Area\n",
      "cleaned :   부산의 채소밭 지역 4구역에서 Z당이 선두를 차지합니다\n"
     ]
    },
    {
     "name": "stderr",
     "output_type": "stream",
     "text": [
      "Setting `pad_token_id` to `eos_token_id`:None for open-end generation.\n"
     ]
    },
    {
     "name": "stdout",
     "output_type": "stream",
     "text": [
      "origin :  National Assembly Dismisses Park's Frame\n",
      "cleaned :   국회, 박 대통령의 명예훼손 사건 기각\n"
     ]
    },
    {
     "name": "stderr",
     "output_type": "stream",
     "text": [
      "Setting `pad_token_id` to `eos_token_id`:None for open-end generation.\n"
     ]
    },
    {
     "name": "stdout",
     "output_type": "stream",
     "text": [
      "origin :  6 Major Companies, 7 Livelihood Budgets of 4 Trillion Won to be Processed Soon\n",
      "cleaned :   6개 기업, 4조 원 7개 생활예산 곧 처리\n"
     ]
    },
    {
     "name": "stderr",
     "output_type": "stream",
     "text": [
      "Setting `pad_token_id` to `eos_token_id`:None for open-end generation.\n"
     ]
    },
    {
     "name": "stdout",
     "output_type": "stream",
     "text": [
      "origin :  Unification Minister: Kim Jong-un's Tourism Budget 30,000 Won\n",
      "cleaned :   통일부 장관: 김정은의 관광 예산 30,000원\n"
     ]
    },
    {
     "name": "stderr",
     "output_type": "stream",
     "text": [
      "Setting `pad_token_id` to `eos_token_id`:None for open-end generation.\n"
     ]
    },
    {
     "name": "stdout",
     "output_type": "stream",
     "text": [
      "origin :  Gangwon-do, Supporting Medical Expenses for Four Regions in Gangwon-do under the National Health Insurance Program\n",
      "cleaned :   강원도, 국민건강보험 프로그램에서 강원도 4개 지역의 의료\n"
     ]
    },
    {
     "name": "stderr",
     "output_type": "stream",
     "text": [
      "Setting `pad_token_id` to `eos_token_id`:None for open-end generation.\n"
     ]
    },
    {
     "name": "stdout",
     "output_type": "stream",
     "text": [
      "origin :  The First AI Football World Cup Hosted by KAIST, with 12 Countries and 29 Teams Participating\n",
      "cleaned :   KAIST 주최 첫 AI 축구 월드컵, 12개국 29개 팀 참가\n"
     ]
    },
    {
     "name": "stderr",
     "output_type": "stream",
     "text": [
      "Setting `pad_token_id` to `eos_token_id`:None for open-end generation.\n"
     ]
    },
    {
     "name": "stdout",
     "output_type": "stream",
     "text": [
      "origin :  KT Launches 10,000 Won LTE Plans and Foldable Phone LG Feature Phone\n",
      "cleaned :   KT, 10,000원 LTE 요금제와 폴더블 폰, LG 기능폰 출시\n"
     ]
    },
    {
     "name": "stderr",
     "output_type": "stream",
     "text": [
      "Setting `pad_token_id` to `eos_token_id`:None for open-end generation.\n"
     ]
    },
    {
     "name": "stdout",
     "output_type": "stream",
     "text": [
      "origin :  5 Political Figures, 150+ MuSu, Marching, Explosion\n",
      "cleaned :   5명의 정치인, 150명 이상의 무수, 행진, 폭발\n"
     ]
    },
    {
     "name": "stderr",
     "output_type": "stream",
     "text": [
      "Setting `pad_token_id` to `eos_token_id`:None for open-end generation.\n"
     ]
    },
    {
     "name": "stdout",
     "output_type": "stream",
     "text": [
      "origin :  More Friends, More Favors: A Visit to the Supreme Court\n",
      "cleaned :   더 많은 친구, 더 많은 호의: 대법원 방문\n"
     ]
    },
    {
     "name": "stderr",
     "output_type": "stream",
     "text": [
      "Setting `pad_token_id` to `eos_token_id`:None for open-end generation.\n"
     ]
    },
    {
     "name": "stdout",
     "output_type": "stream",
     "text": [
      "origin :  Kim Gwan-young, Drew5's Underground Inspection Period Extended\n",
      "cleaned :   김관\n"
     ]
    },
    {
     "name": "stderr",
     "output_type": "stream",
     "text": [
      "Setting `pad_token_id` to `eos_token_id`:None for open-end generation.\n"
     ]
    },
    {
     "name": "stdout",
     "output_type": "stream",
     "text": [
      "origin :  V Area Can Travel to XE 2 Plan\n",
      "cleaned :   V 지역이 XE 2 계획에 여행할 수 있음\n"
     ]
    },
    {
     "name": "stderr",
     "output_type": "stream",
     "text": [
      "Setting `pad_token_id` to `eos_token_id`:None for open-end generation.\n"
     ]
    },
    {
     "name": "stdout",
     "output_type": "stream",
     "text": [
      "origin :  North Korea Test-Fires First Silenced FBM-2 Missile\n",
      "cleaned :   북한, 첫 무음 FBM-2 탄두 시험발사\n"
     ]
    },
    {
     "name": "stderr",
     "output_type": "stream",
     "text": [
      "Setting `pad_token_id` to `eos_token_id`:None for open-end generation.\n"
     ]
    },
    {
     "name": "stdout",
     "output_type": "stream",
     "text": [
      "origin :  High-Ranking North Korean Representative Escapes to the US\n",
      "cleaned :   북한 고위급 대표 탈북\n"
     ]
    },
    {
     "name": "stderr",
     "output_type": "stream",
     "text": [
      "Setting `pad_token_id` to `eos_token_id`:None for open-end generation.\n"
     ]
    },
    {
     "name": "stdout",
     "output_type": "stream",
     "text": [
      "origin :  M1 Spacecraft S Company Satellite Plan Announced\n",
      "cleaned :   M1 우주선, S사 위성 계획 발표\n"
     ]
    },
    {
     "name": "stderr",
     "output_type": "stream",
     "text": [
      "Setting `pad_token_id` to `eos_token_id`:None for open-end generation.\n"
     ]
    },
    {
     "name": "stdout",
     "output_type": "stream",
     "text": [
      "origin :  Mediterranean Drone First Mention: Utilizing the Blue House\n",
      "cleaned :   지중해 드론 첫 언급: 블루하우스 활용\n"
     ]
    },
    {
     "name": "stderr",
     "output_type": "stream",
     "text": [
      "Setting `pad_token_id` to `eos_token_id`:None for open-end generation.\n"
     ]
    },
    {
     "name": "stdout",
     "output_type": "stream",
     "text": [
      "origin :  9th Year of the 3rd Unification Government\n",
      "cleaned :   제3통\n"
     ]
    },
    {
     "name": "stderr",
     "output_type": "stream",
     "text": [
      "Setting `pad_token_id` to `eos_token_id`:None for open-end generation.\n"
     ]
    },
    {
     "name": "stdout",
     "output_type": "stream",
     "text": [
      "origin :  Park Geun-hye President's 4-day visit to Cheongwadae T8 Shop BK's National Power E\n",
      "cleaned :   박근혜 대통령의 4일간의 청와대 방문과 T8 쇼핑몰, 국력 발휘\n"
     ]
    },
    {
     "name": "stderr",
     "output_type": "stream",
     "text": [
      "Setting `pad_token_id` to `eos_token_id`:None for open-end generation.\n"
     ]
    },
    {
     "name": "stdout",
     "output_type": "stream",
     "text": [
      "origin :  Heavy rainfall in the middle of August, double the average, 2234mm of rainfall\n",
      "cleaned :   8월 중순 폭우, 평균 두 배, 2234mm의 강수량\n"
     ]
    },
    {
     "name": "stderr",
     "output_type": "stream",
     "text": [
      "Setting `pad_token_id` to `eos_token_id`:None for open-end generation.\n"
     ]
    },
    {
     "name": "stdout",
     "output_type": "stream",
     "text": [
      "origin :  President Park also had a secret meeting with the head of U.S. diplomacy\n",
      "cleaned :   박 대통령도 미국 외교의 책임자와 비밀 회담을 가진다\n"
     ]
    },
    {
     "name": "stderr",
     "output_type": "stream",
     "text": [
      "Setting `pad_token_id` to `eos_token_id`:None for open-end generation.\n"
     ]
    },
    {
     "name": "stdout",
     "output_type": "stream",
     "text": [
      "origin :  The ruling by the court on whether to arrest the former Democratic Party leader is to be released, and the public is curious. \n",
      "cleaned :   전 민주당 지도자의 구속 여부를 결정할 법원의 판결이 공개되며, 국민들은 궁금해합니다. \n"
     ]
    },
    {
     "name": "stderr",
     "output_type": "stream",
     "text": [
      "Setting `pad_token_id` to `eos_token_id`:None for open-end generation.\n"
     ]
    },
    {
     "name": "stdout",
     "output_type": "stream",
     "text": [
      "origin :  The 1st Meeting of the 6th Party Congress Preparatory Committee\n",
      "cleaned :   제6차 당대회 준비위원회 1차 회의\n"
     ]
    },
    {
     "name": "stderr",
     "output_type": "stream",
     "text": [
      "Setting `pad_token_id` to `eos_token_id`:None for open-end generation.\n"
     ]
    },
    {
     "name": "stdout",
     "output_type": "stream",
     "text": [
      "origin :  Part of Coal Mine Civilian Rally Canceled\n",
      "cleaned :   석탄광 민간 집회 일부가 취소되었습니다.\n"
     ]
    },
    {
     "name": "stderr",
     "output_type": "stream",
     "text": [
      "Setting `pad_token_id` to `eos_token_id`:None for open-end generation.\n"
     ]
    },
    {
     "name": "stdout",
     "output_type": "stream",
     "text": [
      "origin :  Im Jong-seok Responds to Criticism of Cheong Wa Dae Spokesperson\n",
      "cleaned :   청와대 대변인 비판에 이종석 대응\n"
     ]
    },
    {
     "name": "stderr",
     "output_type": "stream",
     "text": [
      "Setting `pad_token_id` to `eos_token_id`:None for open-end generation.\n"
     ]
    },
    {
     "name": "stdout",
     "output_type": "stream",
     "text": [
      "origin :  North Korea's Mobile Training, US SOF's Comprehensive Observation\n",
      "cleaned :   북한의 이동 훈련, 미국 특수부대의 포괄적 관찰\n"
     ]
    },
    {
     "name": "stderr",
     "output_type": "stream",
     "text": [
      "Setting `pad_token_id` to `eos_token_id`:None for open-end generation.\n"
     ]
    },
    {
     "name": "stdout",
     "output_type": "stream",
     "text": [
      "origin :  M Exchanges in the North and China: Strategic Mutual Understanding Amid Sanctions\n",
      "cleaned :   북한과 중국의 M 교환: 제재 속에서의 전략적 상호 이해\n"
     ]
    },
    {
     "name": "stderr",
     "output_type": "stream",
     "text": [
      "Setting `pad_token_id` to `eos_token_id`:None for open-end generation.\n"
     ]
    },
    {
     "name": "stdout",
     "output_type": "stream",
     "text": [
      "origin :  President Moon Discusses Constitutional Amendment\n",
      "cleaned :   문 대통령, 헌법 개헌 논의\n"
     ]
    },
    {
     "name": "stderr",
     "output_type": "stream",
     "text": [
      "Setting `pad_token_id` to `eos_token_id`:None for open-end generation.\n"
     ]
    },
    {
     "name": "stdout",
     "output_type": "stream",
     "text": [
      "origin :  Progressive Platform, Democratic Party 7th Party Representative Election, and Post-Election Meeting in Jeonbuk Region\n",
      "cleaned :   진보 플랫폼, 민주당 제7회 전국대표선거, 전북지역 선거 후 회의\n"
     ]
    },
    {
     "name": "stderr",
     "output_type": "stream",
     "text": [
      "Setting `pad_token_id` to `eos_token_id`:None for open-end generation.\n"
     ]
    },
    {
     "name": "stdout",
     "output_type": "stream",
     "text": [
      "origin :  QBO's 9-Piung Room Booms with Prosperity\n",
      "cleaned :   천재의 9-피웅 방은 번영의 터입니다.\n"
     ]
    },
    {
     "name": "stderr",
     "output_type": "stream",
     "text": [
      "Setting `pad_token_id` to `eos_token_id`:None for open-end generation.\n"
     ]
    },
    {
     "name": "stdout",
     "output_type": "stream",
     "text": [
      "origin :  New Smartphone to Be Released on August 8th\n",
      "cleaned :   8월 8일 신형 스마트폰 출시 예정\n"
     ]
    },
    {
     "name": "stderr",
     "output_type": "stream",
     "text": [
      "Setting `pad_token_id` to `eos_token_id`:None for open-end generation.\n"
     ]
    },
    {
     "name": "stdout",
     "output_type": "stream",
     "text": [
      "origin :  Decontamination Work for the First Joint Nuclear Experiment of the Danun Alliance\n",
      "cleaned :   단운 동맹의 첫 공동 핵실험을 위한 디컨탠메이션 작업\n"
     ]
    },
    {
     "name": "stderr",
     "output_type": "stream",
     "text": [
      "Setting `pad_token_id` to `eos_token_id`:None for open-end generation.\n"
     ]
    },
    {
     "name": "stdout",
     "output_type": "stream",
     "text": [
      "origin :  North Korea: European Open Skies Reports Fever Case\n",
      "cleaned :   북한: 유럽 오픈 스카이 보고서, 발열 환자 발생\n"
     ]
    },
    {
     "name": "stderr",
     "output_type": "stream",
     "text": [
      "Setting `pad_token_id` to `eos_token_id`:None for open-end generation.\n"
     ]
    },
    {
     "name": "stdout",
     "output_type": "stream",
     "text": [
      "origin :  Shihara and Hapye, Representatives of the World's Best Music Artists, Hold a Joint Press Conference to Showcase Their Talents and Collaboration. \n",
      "cleaned :   세계 최고 음악 아티스트들의 대표, 시하라와 하페 대표, 그들의 재능과 협업을 보여주기 위한 공동 기자회견 개최. \n"
     ]
    },
    {
     "name": "stderr",
     "output_type": "stream",
     "text": [
      "Setting `pad_token_id` to `eos_token_id`:None for open-end generation.\n"
     ]
    },
    {
     "name": "stdout",
     "output_type": "stream",
     "text": [
      "origin :  North Korea's 2nd F-15K Procurement Strategy Announced, Aims to Reduce Regime Impact\n",
      "cleaned :   북한의 2차 F-15K 구매 전략 발표, 정권 영향 감소 목표\n"
     ]
    },
    {
     "name": "stderr",
     "output_type": "stream",
     "text": [
      "Setting `pad_token_id` to `eos_token_id`:None for open-end generation.\n"
     ]
    },
    {
     "name": "stdout",
     "output_type": "stream",
     "text": [
      "origin :  Song Hee-kyung's Affiliate Project 2nd Generation Intern Recruitment\n",
      "cleaned :   송희경의 계열사 프로젝트 제2세대 인턴 모집\n"
     ]
    },
    {
     "name": "stderr",
     "output_type": "stream",
     "text": [
      "Setting `pad_token_id` to `eos_token_id`:None for open-end generation.\n"
     ]
    },
    {
     "name": "stdout",
     "output_type": "stream",
     "text": [
      "origin :  Why was this prime minister appointed for the third time? Because the situation was not able to fully perform the H position. \n",
      "cleaned :   왜 이 총리가 세 번째로 임명되었는가? 상황\n"
     ]
    },
    {
     "name": "stderr",
     "output_type": "stream",
     "text": [
      "Setting `pad_token_id` to `eos_token_id`:None for open-end generation.\n"
     ]
    },
    {
     "name": "stdout",
     "output_type": "stream",
     "text": [
      "origin :  K-Chal-Choong-hwan-President-Asks-for-Meeting-with-Lee-Jin-Ho-Chairman-for-2-Hours\n",
      "cleaned :   \n"
     ]
    },
    {
     "name": "stderr",
     "output_type": "stream",
     "text": [
      "Setting `pad_token_id` to `eos_token_id`:None for open-end generation.\n"
     ]
    },
    {
     "name": "stdout",
     "output_type": "stream",
     "text": [
      "origin :  Hyundai Motor CEO Expands Executive Team to Strengthen Leadership\n",
      "cleaned :   현대자동차 CEO, 리더십 강화를 위해 경영진 확장\n"
     ]
    },
    {
     "name": "stderr",
     "output_type": "stream",
     "text": [
      "Setting `pad_token_id` to `eos_token_id`:None for open-end generation.\n"
     ]
    },
    {
     "name": "stdout",
     "output_type": "stream",
     "text": [
      "origin :  Ship Explosion Site Investigation\n",
      "cleaned :   선박 폭발 현장 조사\n"
     ]
    },
    {
     "name": "stderr",
     "output_type": "stream",
     "text": [
      "Setting `pad_token_id` to `eos_token_id`:None for open-end generation.\n"
     ]
    },
    {
     "name": "stdout",
     "output_type": "stream",
     "text": [
      "origin :  The World K International Trade Association has trained 1,000 trade professionals in S2\n",
      "cleaned :   국제 무역 협회는 S2에서 1,000명의 무역 전문가를 교육했습니다.\n"
     ]
    },
    {
     "name": "stderr",
     "output_type": "stream",
     "text": [
      "Setting `pad_token_id` to `eos_token_id`:None for open-end generation.\n"
     ]
    },
    {
     "name": "stdout",
     "output_type": "stream",
     "text": [
      "origin :  5 Years to Adhere to the Asbestos Regulation for Ph.D. Students\n",
      "cleaned :   5년간 석박사생을 위한 아스베스톤 규제 준수기간\n"
     ]
    },
    {
     "name": "stderr",
     "output_type": "stream",
     "text": [
      "Setting `pad_token_id` to `eos_token_id`:None for open-end generation.\n"
     ]
    },
    {
     "name": "stdout",
     "output_type": "stream",
     "text": [
      "origin :  X Parliament Special Meeting Absent\n",
      "cleaned :   의회 특별 회의 참석자 없음\n"
     ]
    },
    {
     "name": "stderr",
     "output_type": "stream",
     "text": [
      "Setting `pad_token_id` to `eos_token_id`:None for open-end generation.\n"
     ]
    },
    {
     "name": "stdout",
     "output_type": "stream",
     "text": [
      "origin :  Inkukgong and I Corporation's Year D Announcement: Is it a Progressive Step?\n",
      "cleaned :   인크그공과 I사, 1년차 발표: 진보적인 발전일까?\n"
     ]
    },
    {
     "name": "stderr",
     "output_type": "stream",
     "text": [
      "Setting `pad_token_id` to `eos_token_id`:None for open-end generation.\n"
     ]
    },
    {
     "name": "stdout",
     "output_type": "stream",
     "text": [
      "origin :  School Attendance in Response to COVID-19\n",
      "cleaned :   코로나19에 따른 학교 출석 상황\n"
     ]
    },
    {
     "name": "stderr",
     "output_type": "stream",
     "text": [
      "Setting `pad_token_id` to `eos_token_id`:None for open-end generation.\n"
     ]
    },
    {
     "name": "stdout",
     "output_type": "stream",
     "text": [
      "origin :  Seoul City Taxi Navigation System, 'National Type' Launches\n",
      "cleaned :   서울시 택시 내비게이션 시스템, '국산형' 출시\n"
     ]
    },
    {
     "name": "stderr",
     "output_type": "stream",
     "text": [
      "Setting `pad_token_id` to `eos_token_id`:None for open-end generation.\n"
     ]
    },
    {
     "name": "stdout",
     "output_type": "stream",
     "text": [
      "origin :  Feel the Hot Springs Spa! D20 of Cheonhanbang\n",
      "cleaned :   천한방 D20 스파에서 핫 스프링을 체험하세요!\n"
     ]
    },
    {
     "name": "stderr",
     "output_type": "stream",
     "text": [
      "Setting `pad_token_id` to `eos_token_id`:None for open-end generation.\n"
     ]
    },
    {
     "name": "stdout",
     "output_type": "stream",
     "text": [
      "origin :  B-Grade Bill on the Amendment to Prevent Urban Sprawl in Local Cities is Proposed\n",
      "cleaned :   지역 도시에서의 도시 확산을 방지하기 위한 개정안 B-등급 법안\n"
     ]
    },
    {
     "name": "stderr",
     "output_type": "stream",
     "text": [
      "Setting `pad_token_id` to `eos_token_id`:None for open-end generation.\n"
     ]
    },
    {
     "name": "stdout",
     "output_type": "stream",
     "text": [
      "origin :  5 New Cases of COVID-19 Confirmed on Suwon's Ewha Womans University Campus on the 7th\n",
      "cleaned :   7일 수원 에바 여자대학 캠퍼스에서 5건의 신종 코로나바이러스 확진자 확인\n"
     ]
    },
    {
     "name": "stderr",
     "output_type": "stream",
     "text": [
      "Setting `pad_token_id` to `eos_token_id`:None for open-end generation.\n"
     ]
    },
    {
     "name": "stdout",
     "output_type": "stream",
     "text": [
      "origin :  Judicial Discrepancy Issue\n",
      "cleaned :   법원 판결 불일치 문제\n"
     ]
    },
    {
     "name": "stderr",
     "output_type": "stream",
     "text": [
      "Setting `pad_token_id` to `eos_token_id`:None for open-end generation.\n"
     ]
    },
    {
     "name": "stdout",
     "output_type": "stream",
     "text": [
      "origin :  S9XOC Carpet 6 Online Class Co-organized\n",
      "cleaned :   온라인 클래스 S9XOC 카펫 6 공동 주최\n"
     ]
    },
    {
     "name": "stderr",
     "output_type": "stream",
     "text": [
      "Setting `pad_token_id` to `eos_token_id`:None for open-end generation.\n"
     ]
    },
    {
     "name": "stdout",
     "output_type": "stream",
     "text": [
      "origin :  2nd Asian Games in Seoul in 1986\n",
      "cleaned :   1986년 서울 아시안 게임 개최\n"
     ]
    },
    {
     "name": "stderr",
     "output_type": "stream",
     "text": [
      "Setting `pad_token_id` to `eos_token_id`:None for open-end generation.\n"
     ]
    },
    {
     "name": "stdout",
     "output_type": "stream",
     "text": [
      "origin :  Full Moon Brings Soyang River's Popularity Soar\n",
      "cleaned :   풀문이 소양강 인기를\n"
     ]
    },
    {
     "name": "stderr",
     "output_type": "stream",
     "text": [
      "Setting `pad_token_id` to `eos_token_id`:None for open-end generation.\n"
     ]
    },
    {
     "name": "stdout",
     "output_type": "stream",
     "text": [
      "origin :  The signage of the independent candidate in B seat of our local council will be changed.\n",
      "cleaned :   지역자치단체 B석 자주민후보자의 표지판이 바뀔 것입니다.\n"
     ]
    },
    {
     "name": "stderr",
     "output_type": "stream",
     "text": [
      "Setting `pad_token_id` to `eos_token_id`:None for open-end generation.\n"
     ]
    },
    {
     "name": "stdout",
     "output_type": "stream",
     "text": [
      "origin :  The sentence structure is incorrect\n",
      "cleaned :   문법 오류: 문장 구조가 정확하지\n"
     ]
    },
    {
     "name": "stderr",
     "output_type": "stream",
     "text": [
      "Setting `pad_token_id` to `eos_token_id`:None for open-end generation.\n"
     ]
    },
    {
     "name": "stdout",
     "output_type": "stream",
     "text": [
      "origin :  Epa Wins 5th Street Festival\n",
      "cleaned :   에이피에이(EPA)가 5번가 축제에서 우승한다.\n"
     ]
    },
    {
     "name": "stderr",
     "output_type": "stream",
     "text": [
      "Setting `pad_token_id` to `eos_token_id`:None for open-end generation.\n"
     ]
    },
    {
     "name": "stdout",
     "output_type": "stream",
     "text": [
      "origin :  Former Journalist and Disability Advocate Jo Juk is a Poet\n",
      "cleaned :   전직 기자와 장애인 권익 운동가 조죽은 시인이자 시인\n"
     ]
    },
    {
     "name": "stderr",
     "output_type": "stream",
     "text": [
      "Setting `pad_token_id` to `eos_token_id`:None for open-end generation.\n"
     ]
    },
    {
     "name": "stdout",
     "output_type": "stream",
     "text": [
      "origin :  Daewoo Shipbuilding & Marine Engineering secures orders for two LNG carriers worth 4,199 billion won\n",
      "cleaned :   대우조선해양, 4,199억 원 규모 LNG 운반선 2척 수주 성공\n"
     ]
    },
    {
     "name": "stderr",
     "output_type": "stream",
     "text": [
      "Setting `pad_token_id` to `eos_token_id`:None for open-end generation.\n"
     ]
    },
    {
     "name": "stdout",
     "output_type": "stream",
     "text": [
      "origin :  South Korea's First Observation of 7% PM2.5: World's First\n",
      "cleaned :   한국 최초의 7% PM2.5 관측: 세계 최초\n"
     ]
    },
    {
     "name": "stderr",
     "output_type": "stream",
     "text": [
      "Setting `pad_token_id` to `eos_token_id`:None for open-end generation.\n"
     ]
    },
    {
     "name": "stdout",
     "output_type": "stream",
     "text": [
      "origin :  NHN Entertainment Sees 50% Increase in 2Q Operating Profit to 14.9 Billion Won\n",
      "cleaned :   NHN 엔터테인먼트, 2분기 영업이익 50% 증가, 14.9억 원 기록\n"
     ]
    },
    {
     "name": "stderr",
     "output_type": "stream",
     "text": [
      "Setting `pad_token_id` to `eos_token_id`:None for open-end generation.\n"
     ]
    },
    {
     "name": "stdout",
     "output_type": "stream",
     "text": [
      "origin :  Gwangju Buk-gu Post Office Affiliated Company X\n",
      "cleaned :   광주 북구 우편국 계열사 X\n"
     ]
    },
    {
     "name": "stderr",
     "output_type": "stream",
     "text": [
      "Setting `pad_token_id` to `eos_token_id`:None for open-end generation.\n"
     ]
    },
    {
     "name": "stdout",
     "output_type": "stream",
     "text": [
      "origin :  Listen to Kim Eojun's News Factory, Yulx1g1!\n",
      "cleaned :   김어준의 뉴스 팩토리, 율크1그1 들으세요!\n"
     ]
    },
    {
     "name": "stderr",
     "output_type": "stream",
     "text": [
      "Setting `pad_token_id` to `eos_token_id`:None for open-end generation.\n"
     ]
    },
    {
     "name": "stdout",
     "output_type": "stream",
     "text": [
      "origin :  KT Bay Offline Sales\n",
      "cleaned :   KT 베이 오프라인 판매\n"
     ]
    },
    {
     "name": "stderr",
     "output_type": "stream",
     "text": [
      "Setting `pad_token_id` to `eos_token_id`:None for open-end generation.\n"
     ]
    },
    {
     "name": "stdout",
     "output_type": "stream",
     "text": [
      "origin :  Kim Jong-un Meets with Nationalist Advisers in Wido Island\n",
      "cleaned :   김정\n"
     ]
    },
    {
     "name": "stderr",
     "output_type": "stream",
     "text": [
      "Setting `pad_token_id` to `eos_token_id`:None for open-end generation.\n"
     ]
    },
    {
     "name": "stdout",
     "output_type": "stream",
     "text": [
      "origin :  Geojedo Software Company and Bucheon Police Station Sign MOU\n",
      "cleaned :  \n"
     ]
    },
    {
     "name": "stderr",
     "output_type": "stream",
     "text": [
      "Setting `pad_token_id` to `eos_token_id`:None for open-end generation.\n"
     ]
    },
    {
     "name": "stdout",
     "output_type": "stream",
     "text": [
      "origin :  Applying for a 3-month uninsured vehicle with a foreign driver's license\n",
      "cleaned :   외국 운전면허로 3개월 무보험 차량 신청하기\n"
     ]
    },
    {
     "name": "stderr",
     "output_type": "stream",
     "text": [
      "Setting `pad_token_id` to `eos_token_id`:None for open-end generation.\n"
     ]
    },
    {
     "name": "stdout",
     "output_type": "stream",
     "text": [
      "origin :  Suspicion of Unlawful Investment by Current FSS Staff\n",
      "cleaned :   현 FSS 직원의 불법 투자 의혹\n"
     ]
    },
    {
     "name": "stderr",
     "output_type": "stream",
     "text": [
      "Setting `pad_token_id` to `eos_token_id`:None for open-end generation.\n"
     ]
    },
    {
     "name": "stdout",
     "output_type": "stream",
     "text": [
      "origin :  Gyeonggi-do's First Live Commentary at V6 Up Cooperation\n",
      "cleaned :   경기도 첫 라이브 코멘터리, V6업 협력\n"
     ]
    },
    {
     "name": "stderr",
     "output_type": "stream",
     "text": [
      "Setting `pad_token_id` to `eos_token_id`:None for open-end generation.\n"
     ]
    },
    {
     "name": "stdout",
     "output_type": "stream",
     "text": [
      "origin :  The 2nd Korean Journalists Awards EVC Winner Announced\n",
      "cleaned :   제2회 한국 기자상 EVC 수상자 발표\n"
     ]
    },
    {
     "name": "stderr",
     "output_type": "stream",
     "text": [
      "Setting `pad_token_id` to `eos_token_id`:None for open-end generation.\n"
     ]
    },
    {
     "name": "stdout",
     "output_type": "stream",
     "text": [
      "origin :  9 Women in Sejong City, Age 9, Test Positive for COVID-19 at Home\n",
      "cleaned :   세종시 9세 여자 9명, 집에서 코로나19 양성 판정\n"
     ]
    },
    {
     "name": "stderr",
     "output_type": "stream",
     "text": [
      "Setting `pad_token_id` to `eos_token_id`:None for open-end generation.\n"
     ]
    },
    {
     "name": "stdout",
     "output_type": "stream",
     "text": [
      "origin :  Page 16, Column 8 of Han Kyung Shinmun\n",
      "cleaned :   16면 8열, 한경신문\n"
     ]
    },
    {
     "name": "stderr",
     "output_type": "stream",
     "text": [
      "Setting `pad_token_id` to `eos_token_id`:None for open-end generation.\n"
     ]
    },
    {
     "name": "stdout",
     "output_type": "stream",
     "text": [
      "origin :  Ting1 Csi Rescued 100 North Korean Soldiers\n",
      "cleaned :   100명의 북한군을 구출한 치1 씨\n"
     ]
    },
    {
     "name": "stderr",
     "output_type": "stream",
     "text": [
      "Setting `pad_token_id` to `eos_token_id`:None for open-end generation.\n"
     ]
    },
    {
     "name": "stdout",
     "output_type": "stream",
     "text": [
      "origin :  1-to-1 Dialogue Session for K-Night Market to Be Held in Andong, Gyeongbuk\n",
      "cleaned :   강원도 안동에서 열리는 K-나이트 시장 1:1 대화 세\n"
     ]
    },
    {
     "name": "stderr",
     "output_type": "stream",
     "text": [
      "Setting `pad_token_id` to `eos_token_id`:None for open-end generation.\n"
     ]
    },
    {
     "name": "stdout",
     "output_type": "stream",
     "text": [
      "origin :  Korean sentence: '당정 3지카 바이어 7급 7명의 연말 정례 회의'\n",
      "cleaned :   당정 3지카 바이어 7급 7명의 연말 정례회의\n"
     ]
    },
    {
     "name": "stderr",
     "output_type": "stream",
     "text": [
      "Setting `pad_token_id` to `eos_token_id`:None for open-end generation.\n"
     ]
    },
    {
     "name": "stdout",
     "output_type": "stream",
     "text": [
      "origin :  Budget Rejection Slavery: Abolish Slavery and Volunteer Service\n",
      "cleaned :   예산 거부는 노예제: 노예제와 자원봉사 제도 폐지\n"
     ]
    },
    {
     "name": "stderr",
     "output_type": "stream",
     "text": [
      "Setting `pad_token_id` to `eos_token_id`:None for open-end generation.\n"
     ]
    },
    {
     "name": "stdout",
     "output_type": "stream",
     "text": [
      "origin :  Fire Breaks Out in Three High-Rise Buildings in Incheon\n",
      "cleaned :   인천 3개 고층 건물에서 화재 발생\n"
     ]
    },
    {
     "name": "stderr",
     "output_type": "stream",
     "text": [
      "Setting `pad_token_id` to `eos_token_id`:None for open-end generation.\n"
     ]
    },
    {
     "name": "stdout",
     "output_type": "stream",
     "text": [
      "origin :  New Students for the 2nd Season of \"Guest Pan\" are Recruiting through KakaoTalk Chat\n",
      "cleaned :   카카오톡 채팅을 통해 2기 \"게스트팬\"의 신규 멤버 모집 중\n"
     ]
    },
    {
     "name": "stderr",
     "output_type": "stream",
     "text": [
      "Setting `pad_token_id` to `eos_token_id`:None for open-end generation.\n"
     ]
    },
    {
     "name": "stdout",
     "output_type": "stream",
     "text": [
      "origin :  Bukgu District Office, 19 Land Public Servants, Including 7 Seeders of D-type, Appointed\n",
      "cleaned :   부평구청, D종자 7명 포함 19명의 공무원 임명\n"
     ]
    },
    {
     "name": "stderr",
     "output_type": "stream",
     "text": [
      "Setting `pad_token_id` to `eos_token_id`:None for open-end generation.\n"
     ]
    },
    {
     "name": "stdout",
     "output_type": "stream",
     "text": [
      "origin :  4 Members of 2D Electronic Flight Squad Squad 9 Officially Depart\n",
      "cleaned :   2D 전자비행팀 9단원 4명 공식 출발\n"
     ]
    },
    {
     "name": "stderr",
     "output_type": "stream",
     "text": [
      "Setting `pad_token_id` to `eos_token_id`:None for open-end generation.\n"
     ]
    },
    {
     "name": "stdout",
     "output_type": "stream",
     "text": [
      "origin :  Special Prosecutor's Office Seizes Four Locations, Including Office of 2nd Director General Lee Hwa and Related Person F\n",
      "cleaned :   특검, 2차장 이화 사무실 등 4곳 압수\n"
     ]
    },
    {
     "name": "stderr",
     "output_type": "stream",
     "text": [
      "Setting `pad_token_id` to `eos_token_id`:None for open-end generation.\n"
     ]
    },
    {
     "name": "stdout",
     "output_type": "stream",
     "text": [
      "origin :  First EBS Youth Long-term University Student Journalist Club Founded\n",
      "cleaned :   제1회 EBS 청소년 장기 대학원 기자 클럽 창단\n"
     ]
    },
    {
     "name": "stderr",
     "output_type": "stream",
     "text": [
      "Setting `pad_token_id` to `eos_token_id`:None for open-end generation.\n"
     ]
    },
    {
     "name": "stdout",
     "output_type": "stream",
     "text": [
      "origin :  Gangwon V, Teachers' Association, TA, and 8 Other Organizations Expand to 8 Organizations\n",
      "cleaned :   강원 V, 교사단체, TA, 8개 단체 통합, 8개 단체로 확장\n"
     ]
    },
    {
     "name": "stderr",
     "output_type": "stream",
     "text": [
      "Setting `pad_token_id` to `eos_token_id`:None for open-end generation.\n"
     ]
    },
    {
     "name": "stdout",
     "output_type": "stream",
     "text": [
      "origin :  B2 Class 8, 8th Race at the Seoul Racecourse\n",
      "cleaned :   서울 경마장 8차 경주, 8대 B2급 경주\n"
     ]
    },
    {
     "name": "stderr",
     "output_type": "stream",
     "text": [
      "Setting `pad_token_id` to `eos_token_id`:None for open-end generation.\n"
     ]
    },
    {
     "name": "stdout",
     "output_type": "stream",
     "text": [
      "origin :  Unpaid Leave of More Than 3 Days, Monthly Support of 500,000 Won\n",
      "cleaned :   3일 이상 무급휴가, 월 50만 원 지원\n"
     ]
    },
    {
     "name": "stderr",
     "output_type": "stream",
     "text": [
      "Setting `pad_token_id` to `eos_token_id`:None for open-end generation.\n"
     ]
    },
    {
     "name": "stdout",
     "output_type": "stream",
     "text": [
      "origin :  eXn Magazine's Review A - Blit: Conservative Columnist Hee-jae Byun's x for C-charge\n",
      "cleaned :   eXn 매거진 리뷰 A - 블\n"
     ]
    },
    {
     "name": "stderr",
     "output_type": "stream",
     "text": [
      "Setting `pad_token_id` to `eos_token_id`:None for open-end generation.\n"
     ]
    },
    {
     "name": "stdout",
     "output_type": "stream",
     "text": [
      "origin :  4 Schools Had Students Attend In-Person Classes Today, and 2 Students Tested Positive for COVID-19\n",
      "cleaned :   4개의 학교에서 학생들이 교실에서 수업을 듣고, 2명의 학생이 코로나19 양성 반응을 보였습니다.\n"
     ]
    },
    {
     "name": "stderr",
     "output_type": "stream",
     "text": [
      "Setting `pad_token_id` to `eos_token_id`:None for open-end generation.\n"
     ]
    },
    {
     "name": "stdout",
     "output_type": "stream",
     "text": [
      "origin :  Phishing Criminals Arrested, One Table Recovered\n",
      "cleaned :   해킹\n"
     ]
    },
    {
     "name": "stderr",
     "output_type": "stream",
     "text": [
      "Setting `pad_token_id` to `eos_token_id`:None for open-end generation.\n"
     ]
    },
    {
     "name": "stdout",
     "output_type": "stream",
     "text": [
      "origin :  Login Speed Plummets Due to Leaked Digital Certificate\n",
      "cleaned :   디지털 인증서 유출로 로그인 속도가 급감\n"
     ]
    },
    {
     "name": "stderr",
     "output_type": "stream",
     "text": [
      "Setting `pad_token_id` to `eos_token_id`:None for open-end generation.\n"
     ]
    },
    {
     "name": "stdout",
     "output_type": "stream",
     "text": [
      "origin :  The First National Small and Medium-sized Enterprise Competition is Held\n",
      "cleaned :   제1회 전국 중소기업 경진대회 개최\n"
     ]
    },
    {
     "name": "stderr",
     "output_type": "stream",
     "text": [
      "Setting `pad_token_id` to `eos_token_id`:None for open-end generation.\n"
     ]
    },
    {
     "name": "stdout",
     "output_type": "stream",
     "text": [
      "origin :  High School MT Award Ceremony\n",
      "cleaned :   고등학교 MT 시상식\n"
     ]
    },
    {
     "name": "stderr",
     "output_type": "stream",
     "text": [
      "Setting `pad_token_id` to `eos_token_id`:None for open-end generation.\n"
     ]
    },
    {
     "name": "stdout",
     "output_type": "stream",
     "text": [
      "origin :  Third Police Day Anniversary Event\n",
      "cleaned :   경찰의 날 3주년 행사\n"
     ]
    },
    {
     "name": "stderr",
     "output_type": "stream",
     "text": [
      "Setting `pad_token_id` to `eos_token_id`:None for open-end generation.\n"
     ]
    },
    {
     "name": "stdout",
     "output_type": "stream",
     "text": [
      "origin :  7 Attendees at YTN's 7th T-Original Meeting in Sacheon\n",
      "cleaned :   제7회 YTN 원메이트 사천 대회 참석자 7명\n"
     ]
    },
    {
     "name": "stderr",
     "output_type": "stream",
     "text": [
      "Setting `pad_token_id` to `eos_token_id`:None for open-end generation.\n"
     ]
    },
    {
     "name": "stdout",
     "output_type": "stream",
     "text": [
      "origin :  32-year-old woman, 39-year-old consumer Z, influenced by Reebok\n",
      "cleaned :   32세 여성, 39세 소비자 Z, 리복에 영향을 받음\n"
     ]
    },
    {
     "name": "stderr",
     "output_type": "stream",
     "text": [
      "Setting `pad_token_id` to `eos_token_id`:None for open-end generation.\n"
     ]
    },
    {
     "name": "stdout",
     "output_type": "stream",
     "text": [
      "origin :  EQBC9 Announcer a: Recommendation for Resolution of Performance Issues\n",
      "cleaned :   EQBC9 방송인 a: 성과 문제 해결을 위한 권고 사항\n"
     ]
    },
    {
     "name": "stderr",
     "output_type": "stream",
     "text": [
      "Setting `pad_token_id` to `eos_token_id`:None for open-end generation.\n"
     ]
    },
    {
     "name": "stdout",
     "output_type": "stream",
     "text": [
      "origin :  Up to 9 Fashion Trend Nights with 3 Global Famous Fashion Brands Participating\n",
      "cleaned :   글로벌 유명 패션 브랜드 3개사가 참여하는 최대 9개의 패션 트렌드 밤\n"
     ]
    },
    {
     "name": "stderr",
     "output_type": "stream",
     "text": [
      "Setting `pad_token_id` to `eos_token_id`:None for open-end generation.\n"
     ]
    },
    {
     "name": "stdout",
     "output_type": "stream",
     "text": [
      "origin :  Highway Operation Begins for WY5 Model V-Style E-Bank\n",
      "cleaned :   WY5 모델 V-스타일 E-뱅크의 고속도로 운영 시작\n"
     ]
    },
    {
     "name": "stderr",
     "output_type": "stream",
     "text": [
      "Setting `pad_token_id` to `eos_token_id`:None for open-end generation.\n"
     ]
    },
    {
     "name": "stdout",
     "output_type": "stream",
     "text": [
      "origin :  Two Officials, Including Social Service F Section 3 Office Chief, and Employee 1st Grade Department Head, Hired Through Civil Service Examination\n",
      "cleaned :   사회복지부 3부실장, 공무원 1급 부서장 등 2명, 공무원 시험을 통해 채용\n"
     ]
    },
    {
     "name": "stderr",
     "output_type": "stream",
     "text": [
      "Setting `pad_token_id` to `eos_token_id`:None for open-end generation.\n"
     ]
    },
    {
     "name": "stdout",
     "output_type": "stream",
     "text": [
      "origin :  Tourists Flock to Jeju International Airport and Jeju City Terminal, the Only One in Jeju Island\n",
      "cleaned :   제주국제공항과 제주도 유일한 제주시 터미널에 관광객들이 몰려든다\n"
     ]
    },
    {
     "name": "stderr",
     "output_type": "stream",
     "text": [
      "Setting `pad_token_id` to `eos_token_id`:None for open-end generation.\n"
     ]
    },
    {
     "name": "stdout",
     "output_type": "stream",
     "text": [
      "origin :  The Third 9th Group Tragedy: KBS, MBC, SBS's 8 Top Executives Revealed\n",
      "cleaned :   KBS, MBC, SBS의 8대 최고 경영자들이 드러났습니다: 9번째 9번째 그룹의 비극\n"
     ]
    },
    {
     "name": "stderr",
     "output_type": "stream",
     "text": [
      "Setting `pad_token_id` to `eos_token_id`:None for open-end generation.\n"
     ]
    },
    {
     "name": "stdout",
     "output_type": "stream",
     "text": [
      "origin :  RI resident ill for 36 days, hospitalized\n",
      "cleaned :   36일간 병원에 입\n"
     ]
    },
    {
     "name": "stderr",
     "output_type": "stream",
     "text": [
      "Setting `pad_token_id` to `eos_token_id`:None for open-end generation.\n"
     ]
    },
    {
     "name": "stdout",
     "output_type": "stream",
     "text": [
      "origin :  \"K8sM Government Response to the Cancellation of the Omnibus Bill at the Blue House\"\n",
      "cleaned :   \"K8sM 정부, 블루하우스에서 전기차 혁신법 철회에 대한 대응\"\n"
     ]
    },
    {
     "name": "stderr",
     "output_type": "stream",
     "text": [
      "Setting `pad_token_id` to `eos_token_id`:None for open-end generation.\n"
     ]
    },
    {
     "name": "stdout",
     "output_type": "stream",
     "text": [
      "origin :  KTX and VU, a grand compromise; Lee Jae-myung's comprehensive leadership\n",
      "cleaned :   KTX와 VU, 거대한 타협; 이재명 총리, 포괄적인 리더십\n"
     ]
    },
    {
     "name": "stderr",
     "output_type": "stream",
     "text": [
      "Setting `pad_token_id` to `eos_token_id`:None for open-end generation.\n"
     ]
    },
    {
     "name": "stdout",
     "output_type": "stream",
     "text": [
      "origin :  5/5 Pick (R) Paying Rooms 4 Occupancy and Post-Three Months Outlook\n",
      "cleaned :   5/5 픽 (R) - 숙소 예약률과 3개월 후\n"
     ]
    },
    {
     "name": "stderr",
     "output_type": "stream",
     "text": [
      "Setting `pad_token_id` to `eos_token_id`:None for open-end generation.\n"
     ]
    },
    {
     "name": "stdout",
     "output_type": "stream",
     "text": [
      "origin :  The 15th Anniversary of the Korea Journalists Association\n",
      "cleaned :   한국기자협회 15주년\n"
     ]
    },
    {
     "name": "stderr",
     "output_type": "stream",
     "text": [
      "Setting `pad_token_id` to `eos_token_id`:None for open-end generation.\n"
     ]
    },
    {
     "name": "stdout",
     "output_type": "stream",
     "text": [
      "origin :  The City Submits to the International Religious Foundation\n",
      "cleaned :   국제 종교 기금에 도쿄가 굴복한다\n"
     ]
    },
    {
     "name": "stderr",
     "output_type": "stream",
     "text": [
      "Setting `pad_token_id` to `eos_token_id`:None for open-end generation.\n"
     ]
    },
    {
     "name": "stdout",
     "output_type": "stream",
     "text": [
      "origin :  The Korean Federation of Community Service Associations for the Aged donates 500 million won to the Korea Community Chest of the Red Cross. \n",
      "cleaned :   한국사회복지노인연합회, 한국적십자사 사회복지금 5000만 원 기부\n"
     ]
    },
    {
     "name": "stderr",
     "output_type": "stream",
     "text": [
      "Setting `pad_token_id` to `eos_token_id`:None for open-end generation.\n"
     ]
    },
    {
     "name": "stdout",
     "output_type": "stream",
     "text": [
      "origin :  The VC Labor Union Urges the Introduction of a 52-Hour Workweek System\n",
      "cleaned :   VC 노동조합, 52시간 주당 근무제 도입 촉구\n"
     ]
    },
    {
     "name": "stderr",
     "output_type": "stream",
     "text": [
      "Setting `pad_token_id` to `eos_token_id`:None for open-end generation.\n"
     ]
    },
    {
     "name": "stdout",
     "output_type": "stream",
     "text": [
      "origin :  A Large-Scale Event Will Take Place at the Stadium on August 8th at 4 PM\n",
      "cleaned :   8월 8일 오후 4시에 스타디움에서 대규모 이벤트가 열릴 예정입니다.\n"
     ]
    },
    {
     "name": "stderr",
     "output_type": "stream",
     "text": [
      "Setting `pad_token_id` to `eos_token_id`:None for open-end generation.\n"
     ]
    },
    {
     "name": "stdout",
     "output_type": "stream",
     "text": [
      "origin :  One Dead in Train Derailment, Fire Accident at Inhang Station\n",
      "cleaned :   한 명 사망, 인항역 열차 탈선·화재 사고\n"
     ]
    },
    {
     "name": "stderr",
     "output_type": "stream",
     "text": [
      "Setting `pad_token_id` to `eos_token_id`:None for open-end generation.\n"
     ]
    },
    {
     "name": "stdout",
     "output_type": "stream",
     "text": [
      "origin :  The Private Space Development Era Begins in 2026: Lunar Landing by 2030 as the Goal\n",
      "cleaned :   2026년부터 민간 우주개발 시대 개막, 2030년 달 착륙 목표로\n"
     ]
    },
    {
     "name": "stderr",
     "output_type": "stream",
     "text": [
      "Setting `pad_token_id` to `eos_token_id`:None for open-end generation.\n"
     ]
    },
    {
     "name": "stdout",
     "output_type": "stream",
     "text": [
      "origin :  Geojedo E0 Monthly Access Restriction Winter Maintenance b Inside S 3-Day Reopening\n",
      "cleaned :   거제도 E0 월간 이용 제한 겨울 정비, 내부 S 3일 개장\n"
     ]
    },
    {
     "name": "stderr",
     "output_type": "stream",
     "text": [
      "Setting `pad_token_id` to `eos_token_id`:None for open-end generation.\n"
     ]
    },
    {
     "name": "stdout",
     "output_type": "stream",
     "text": [
      "origin :  7 candidates for the 3rd round of the Korea Communications Commission's selection process\n",
      "cleaned :   3차 한국통신위원회의 후보 7명 발표\n"
     ]
    },
    {
     "name": "stderr",
     "output_type": "stream",
     "text": [
      "Setting `pad_token_id` to `eos_token_id`:None for open-end generation.\n"
     ]
    },
    {
     "name": "stdout",
     "output_type": "stream",
     "text": [
      "origin :  제목없음\n",
      "cleaned :   제목 없음\n"
     ]
    },
    {
     "name": "stderr",
     "output_type": "stream",
     "text": [
      "Setting `pad_token_id` to `eos_token_id`:None for open-end generation.\n"
     ]
    },
    {
     "name": "stdout",
     "output_type": "stream",
     "text": [
      "origin :  Digital 5th Announces 'One-Stop Dating' Selection\n",
      "cleaned :   디지털 5세 '데이트 선택' 한 번에 해결\n"
     ]
    },
    {
     "name": "stderr",
     "output_type": "stream",
     "text": [
      "Setting `pad_token_id` to `eos_token_id`:None for open-end generation.\n"
     ]
    },
    {
     "name": "stdout",
     "output_type": "stream",
     "text": [
      "origin :  제목없음\n",
      "cleaned :   제목 없음\n"
     ]
    },
    {
     "name": "stderr",
     "output_type": "stream",
     "text": [
      "Setting `pad_token_id` to `eos_token_id`:None for open-end generation.\n"
     ]
    },
    {
     "name": "stdout",
     "output_type": "stream",
     "text": [
      "origin :  E-Sanhyung Electronic No-Change Top 4 in the World\n",
      "cleaned :   전자산형 전자변경 없음 세계 4위\n"
     ]
    },
    {
     "name": "stderr",
     "output_type": "stream",
     "text": [
      "Setting `pad_token_id` to `eos_token_id`:None for open-end generation.\n"
     ]
    },
    {
     "name": "stdout",
     "output_type": "stream",
     "text": [
      "origin :  4-Week Fracture Week C: A Trial of 4 Weeks of Fracture Healing\n",
      "cleaned :   4주간 골절 주간 C: 골절 치유에 대한 4주간의 시범 연구\n"
     ]
    },
    {
     "name": "stderr",
     "output_type": "stream",
     "text": [
      "Setting `pad_token_id` to `eos_token_id`:None for open-end generation.\n"
     ]
    },
    {
     "name": "stdout",
     "output_type": "stream",
     "text": [
      "origin :  The Gangneung R Rapid Cause Investigation Office Announces a Plan to Identify the Cause of the Accident and Support Victims\n",
      "cleaned :   강릉 R급 사고 원인 조사 사무소, 사고 원인 확인 및 피해자 지원 계획 발표\n"
     ]
    },
    {
     "name": "stderr",
     "output_type": "stream",
     "text": [
      "Setting `pad_token_id` to `eos_token_id`:None for open-end generation.\n"
     ]
    },
    {
     "name": "stdout",
     "output_type": "stream",
     "text": [
      "origin :  No Wikipedia Books in Each Volume of N Fertilizer Manufacturing Company?\n",
      "cleaned :   \"N 비료 제조업체의 각 권에는 위키피디아 책이 있을까요?\"\n"
     ]
    },
    {
     "name": "stderr",
     "output_type": "stream",
     "text": [
      "Setting `pad_token_id` to `eos_token_id`:None for open-end generation.\n"
     ]
    },
    {
     "name": "stdout",
     "output_type": "stream",
     "text": [
      "origin :  SNS 3rd: Gift Restrictions Eased by Kim Young-ja Law, Debate on Both Sides\n",
      "cleaned :   SNS 3차: 김영자법으로 선물 제한 풀려, 양측의 논쟁\n"
     ]
    },
    {
     "name": "stderr",
     "output_type": "stream",
     "text": [
      "Setting `pad_token_id` to `eos_token_id`:None for open-end generation.\n"
     ]
    },
    {
     "name": "stdout",
     "output_type": "stream",
     "text": [
      "origin :  Lack of experience in 2D national team due to E nation's TU\n",
      "cleaned :   2D 국가대표팀의 경험 부족, E 국가의 TU 때문\n"
     ]
    },
    {
     "name": "stderr",
     "output_type": "stream",
     "text": [
      "Setting `pad_token_id` to `eos_token_id`:None for open-end generation.\n"
     ]
    },
    {
     "name": "stdout",
     "output_type": "stream",
     "text": [
      "origin :  Shinco F3 Branch in Mokdong, 6 Schools Closed\n",
      "cleaned :   신코 F3 막동지점, 6개 학교 폐쇄\n"
     ]
    },
    {
     "name": "stderr",
     "output_type": "stream",
     "text": [
      "Setting `pad_token_id` to `eos_token_id`:None for open-end generation.\n"
     ]
    },
    {
     "name": "stdout",
     "output_type": "stream",
     "text": [
      "origin :  Five Bus Drivers of Daechi High School Commuter Bus Test Positive for COVID-19, Wonju Office of Education\n",
      "cleaned :   대치고등학교 통학버스 5명 코로나19 확진, 원주교육청\n"
     ]
    },
    {
     "name": "stderr",
     "output_type": "stream",
     "text": [
      "Setting `pad_token_id` to `eos_token_id`:None for open-end generation.\n"
     ]
    },
    {
     "name": "stdout",
     "output_type": "stream",
     "text": [
      "origin :  Date Advertising Regulation Triggers Fourth-Ranked eTech Company\n",
      "cleaned :   광고 규제가 네 번째 순위 eTech 기업을 촉발시킵니다.\n"
     ]
    },
    {
     "name": "stderr",
     "output_type": "stream",
     "text": [
      "Setting `pad_token_id` to `eos_token_id`:None for open-end generation.\n"
     ]
    },
    {
     "name": "stdout",
     "output_type": "stream",
     "text": [
      "origin :  An Author to Be Disciplined for Alleged Sexual Assault at MZ Company\n",
      "cleaned :   MZ 기업 성폭행 혐의로 저자에게 징계 처분\n"
     ]
    },
    {
     "name": "stderr",
     "output_type": "stream",
     "text": [
      "Setting `pad_token_id` to `eos_token_id`:None for open-end generation.\n"
     ]
    },
    {
     "name": "stdout",
     "output_type": "stream",
     "text": [
      "origin :  National B Department's 50 Won Fee Application Sued\n",
      "cleaned :   국세청 50원 수수료 신청 소송 제기\n"
     ]
    },
    {
     "name": "stderr",
     "output_type": "stream",
     "text": [
      "Setting `pad_token_id` to `eos_token_id`:None for open-end generation.\n"
     ]
    },
    {
     "name": "stdout",
     "output_type": "stream",
     "text": [
      "origin :  25th Park Museum Ancestral Festival to be Held on the 25th, Divided into 1st and 2nd Parts\n",
      "cleaned :   25일 박박 박물관 조상 축제, 1, 2부로 나누어 개최\n"
     ]
    },
    {
     "name": "stderr",
     "output_type": "stream",
     "text": [
      "Setting `pad_token_id` to `eos_token_id`:None for open-end generation.\n"
     ]
    },
    {
     "name": "stdout",
     "output_type": "stream",
     "text": [
      "origin :  \"5 local media outlets, including PiBeOz News in Busan, South Korea, receive a request for a free trial\"\n",
      "cleaned :   \"부산의 피보즈뉴스 포함 5개 국내 언론사가 무료 시범\n"
     ]
    },
    {
     "name": "stderr",
     "output_type": "stream",
     "text": [
      "Setting `pad_token_id` to `eos_token_id`:None for open-end generation.\n"
     ]
    },
    {
     "name": "stdout",
     "output_type": "stream",
     "text": [
      "origin :  MBC's Blacklist VOD Release Scheduled\n",
      "cleaned :   MBC의 블랙리스트 VOD 출시 일정\n"
     ]
    },
    {
     "name": "stderr",
     "output_type": "stream",
     "text": [
      "Setting `pad_token_id` to `eos_token_id`:None for open-end generation.\n"
     ]
    },
    {
     "name": "stdout",
     "output_type": "stream",
     "text": [
      "origin :  Haeundae Has the Highest Total of 88,000 Won Coronavirus Disaster Relief Payments\n",
      "cleaned :   해운대구, 코로나19 재난지원금 88,000원 총액 최고\n"
     ]
    },
    {
     "name": "stderr",
     "output_type": "stream",
     "text": [
      "Setting `pad_token_id` to `eos_token_id`:None for open-end generation.\n"
     ]
    },
    {
     "name": "stdout",
     "output_type": "stream",
     "text": [
      "origin :  Naver N8 VT Z7 Service Begins\n",
      "cleaned :   네이버 N8, VT Z7 서비스 시작\n"
     ]
    },
    {
     "name": "stderr",
     "output_type": "stream",
     "text": [
      "Setting `pad_token_id` to `eos_token_id`:None for open-end generation.\n"
     ]
    },
    {
     "name": "stdout",
     "output_type": "stream",
     "text": [
      "origin :  Q Newspaper's Editor-in-Chief, Former Representative Ahn Byung-hyun\n",
      "cleaned :   기존 대표 이병현, Q신문 편집장으로\n"
     ]
    },
    {
     "name": "stderr",
     "output_type": "stream",
     "text": [
      "Setting `pad_token_id` to `eos_token_id`:None for open-end generation.\n"
     ]
    },
    {
     "name": "stdout",
     "output_type": "stream",
     "text": [
      "origin :  198 Bottles of Drinks Maximized to 1 SC\n",
      "cleaned :   198병의 음료수, 1SC로 최적화\n"
     ]
    },
    {
     "name": "stderr",
     "output_type": "stream",
     "text": [
      "Setting `pad_token_id` to `eos_token_id`:None for open-end generation.\n"
     ]
    },
    {
     "name": "stdout",
     "output_type": "stream",
     "text": [
      "origin :  KTX 1 Line Directional Panel: KTX 1st Class Tickets on Sale\n",
      "cleaned :   KTX 1호선 방향판: 1등급 KTX 티켓 판매 시작\n"
     ]
    },
    {
     "name": "stderr",
     "output_type": "stream",
     "text": [
      "Setting `pad_token_id` to `eos_token_id`:None for open-end generation.\n"
     ]
    },
    {
     "name": "stdout",
     "output_type": "stream",
     "text": [
      "origin :  제목없음\n",
      "cleaned :   제목 없음\n"
     ]
    },
    {
     "name": "stderr",
     "output_type": "stream",
     "text": [
      "Setting `pad_token_id` to `eos_token_id`:None for open-end generation.\n"
     ]
    },
    {
     "name": "stdout",
     "output_type": "stream",
     "text": [
      "origin :  South Korean and Japanese-Mongolian experts find a solution to air pollution\n",
      "cleaned :   한국과 일본-몽골 전문가들이 대기오염 해결책을 찾았다\n"
     ]
    },
    {
     "name": "stderr",
     "output_type": "stream",
     "text": [
      "Setting `pad_token_id` to `eos_token_id`:None for open-end generation.\n"
     ]
    },
    {
     "name": "stdout",
     "output_type": "stream",
     "text": [
      "origin :  Seoul National University and KAIST Host Graduate School Math Camp for High School Students\n",
      "cleaned :   서울대학교와 KAIST, 고등학생 대상 대학원 수학과 캠프 개최\n"
     ]
    },
    {
     "name": "stderr",
     "output_type": "stream",
     "text": [
      "Setting `pad_token_id` to `eos_token_id`:None for open-end generation.\n"
     ]
    },
    {
     "name": "stdout",
     "output_type": "stream",
     "text": [
      "origin :  Six new and five-year civil servants are not qualified\n",
      "cleaned :  \n"
     ]
    },
    {
     "name": "stderr",
     "output_type": "stream",
     "text": [
      "Setting `pad_token_id` to `eos_token_id`:None for open-end generation.\n"
     ]
    },
    {
     "name": "stdout",
     "output_type": "stream",
     "text": [
      "origin :  GO Card and 3 Quarantine Cards, 1st Processing Completed\n",
      "cleaned :   GO 카드 및 3개 쿼러린 카드, 1차 처리 완료\n"
     ]
    },
    {
     "name": "stderr",
     "output_type": "stream",
     "text": [
      "Setting `pad_token_id` to `eos_token_id`:None for open-end generation.\n"
     ]
    },
    {
     "name": "stdout",
     "output_type": "stream",
     "text": [
      "origin :  SK Telecom Launches Galaxy A8 Star\n",
      "cleaned :   SK텔레콤, 갤럭시 A8 스타 출시\n"
     ]
    },
    {
     "name": "stderr",
     "output_type": "stream",
     "text": [
      "Setting `pad_token_id` to `eos_token_id`:None for open-end generation.\n"
     ]
    },
    {
     "name": "stdout",
     "output_type": "stream",
     "text": [
      "origin :  Damyang-gun holds KH banquet with Hanwoo as the main dish\n",
      "cleaned :   담양군,\n"
     ]
    },
    {
     "name": "stderr",
     "output_type": "stream",
     "text": [
      "Setting `pad_token_id` to `eos_token_id`:None for open-end generation.\n"
     ]
    },
    {
     "name": "stdout",
     "output_type": "stream",
     "text": [
      "origin :  A2 Zone, Toothache Ward, 6th Life WNIC\n",
      "cleaned :   제6차 인생, 치통 병동, A2 구역, WNIC\n"
     ]
    },
    {
     "name": "stderr",
     "output_type": "stream",
     "text": [
      "Setting `pad_token_id` to `eos_token_id`:None for open-end generation.\n"
     ]
    },
    {
     "name": "stdout",
     "output_type": "stream",
     "text": [
      "origin :  ANLAP's Failed Disclosure Company\n",
      "cleaned :   ANLAP의 실패한 공개 기업\n"
     ]
    },
    {
     "name": "stderr",
     "output_type": "stream",
     "text": [
      "Setting `pad_token_id` to `eos_token_id`:None for open-end generation.\n"
     ]
    },
    {
     "name": "stdout",
     "output_type": "stream",
     "text": [
      "origin :  Watch the M8 Labrinths Live from Seoul\n",
      "cleaned :   M8 래브린스, 서울에서 라이브로 관람하세요.\n"
     ]
    },
    {
     "name": "stderr",
     "output_type": "stream",
     "text": [
      "Setting `pad_token_id` to `eos_token_id`:None for open-end generation.\n"
     ]
    },
    {
     "name": "stdout",
     "output_type": "stream",
     "text": [
      "origin :  Oyagi Kim says, \"I'm also going to Hell.\"\n",
      "cleaned :   김오얏이 말했다, \"나는 또한 지옥에 간다.\"\n"
     ]
    },
    {
     "name": "stderr",
     "output_type": "stream",
     "text": [
      "Setting `pad_token_id` to `eos_token_id`:None for open-end generation.\n"
     ]
    },
    {
     "name": "stdout",
     "output_type": "stream",
     "text": [
      "origin :  LG G7 Smartphone: Display M LCD Label and Red Color Controversy\n",
      "cleaned :   LG G7 스마트폰: 디스플레이 M LCD 라벨과 빨간색 색상 논란\n"
     ]
    },
    {
     "name": "stderr",
     "output_type": "stream",
     "text": [
      "Setting `pad_token_id` to `eos_token_id`:None for open-end generation.\n"
     ]
    },
    {
     "name": "stdout",
     "output_type": "stream",
     "text": [
      "origin :  Samsung to Launch Galaxy Note 10 in 70 Countries on September 23, Expanding to 130 Countries in September\n",
      "cleaned :   삼성, 9월 23일에 갤럭시 노트 10을 70개국에서 출시, 9월에는 130개국으로 확장\n"
     ]
    },
    {
     "name": "stderr",
     "output_type": "stream",
     "text": [
      "Setting `pad_token_id` to `eos_token_id`:None for open-end generation.\n"
     ]
    },
    {
     "name": "stdout",
     "output_type": "stream",
     "text": [
      "origin :  Bestseller Kim Nando Trend Korea 2020 Ranks 1st for 3 weeks in a row\n",
      "cleaned :   베스트셀러 김난도 트렌드 코리아 2020, 연속 3주 1위\n"
     ]
    },
    {
     "name": "stderr",
     "output_type": "stream",
     "text": [
      "Setting `pad_token_id` to `eos_token_id`:None for open-end generation.\n"
     ]
    },
    {
     "name": "stdout",
     "output_type": "stream",
     "text": [
      "origin :  KBa1J2BXM1: A New Breakthrough in Technology\n",
      "cleaned :   기술 분야의 새로운 혁신: KBa1J2BXM1\n"
     ]
    },
    {
     "name": "stderr",
     "output_type": "stream",
     "text": [
      "Setting `pad_token_id` to `eos_token_id`:None for open-end generation.\n"
     ]
    },
    {
     "name": "stdout",
     "output_type": "stream",
     "text": [
      "origin :  제목없음\n",
      "cleaned :   제목 없음\n"
     ]
    },
    {
     "name": "stderr",
     "output_type": "stream",
     "text": [
      "Setting `pad_token_id` to `eos_token_id`:None for open-end generation.\n"
     ]
    },
    {
     "name": "stdout",
     "output_type": "stream",
     "text": [
      "origin :  SK Telecom Secures Future Customers\n",
      "cleaned :   SK텔레콤, 미래 고객 확보\n"
     ]
    },
    {
     "name": "stderr",
     "output_type": "stream",
     "text": [
      "Setting `pad_token_id` to `eos_token_id`:None for open-end generation.\n"
     ]
    },
    {
     "name": "stdout",
     "output_type": "stream",
     "text": [
      "origin :  High-speed Rail Electrification Between Busan, Cheonan, and Cheongju in Full Swing, Scheduled to Start Construction in 2022\n",
      "cleaned :   부산, 천안, 청주 고속철 전기화, 2022년 착공 예정\n"
     ]
    },
    {
     "name": "stderr",
     "output_type": "stream",
     "text": [
      "Setting `pad_token_id` to `eos_token_id`:None for open-end generation.\n"
     ]
    },
    {
     "name": "stdout",
     "output_type": "stream",
     "text": [
      "origin :  Wednesday's Reconsideration of the Agreement and Testimony of Yoo Soo-ye, the Bereaved Family Member\n",
      "cleaned :   수요일, 협정 재검토 및 유수연 유족의 증언\n"
     ]
    },
    {
     "name": "stderr",
     "output_type": "stream",
     "text": [
      "Setting `pad_token_id` to `eos_token_id`:None for open-end generation.\n"
     ]
    },
    {
     "name": "stdout",
     "output_type": "stream",
     "text": [
      "origin :  GP Disturbance for Three Days, Ship Operations Halted\n",
      "cleaned :   3일간의 GP 혼란, 선박운항 중단\n"
     ]
    },
    {
     "name": "stderr",
     "output_type": "stream",
     "text": [
      "Setting `pad_token_id` to `eos_token_id`:None for open-end generation.\n"
     ]
    },
    {
     "name": "stdout",
     "output_type": "stream",
     "text": [
      "origin :  C-O KBS6s Approves Response to Overtime Strike\n",
      "cleaned :   KBS6s C-O 승인: 야간 추가근무 파업에 대한 대응\n"
     ]
    },
    {
     "name": "stderr",
     "output_type": "stream",
     "text": [
      "Setting `pad_token_id` to `eos_token_id`:None for open-end generation.\n"
     ]
    },
    {
     "name": "stdout",
     "output_type": "stream",
     "text": [
      "origin :  Ransomware Report Cases Rise to 4, with 2 New Cases\n",
      "cleaned :   랜섬웨어 보고서 사건 수가 4건으로 증가, 2건의 새로운 사건 발생\n"
     ]
    },
    {
     "name": "stderr",
     "output_type": "stream",
     "text": [
      "Setting `pad_token_id` to `eos_token_id`:None for open-end generation.\n"
     ]
    },
    {
     "name": "stdout",
     "output_type": "stream",
     "text": [
      "origin :  74 Senior College Students Visit Local Government Organizations\n",
      "cleaned :   74명의 고학년 대학생들이 지역 정부 기관을 방문했습니다.  (번역: 74명의 고학년 대학생들이 지역 정부 기관을 방문했습니다.)  번역: 74명의 고학년 대학생들이 지역\n"
     ]
    },
    {
     "name": "stderr",
     "output_type": "stream",
     "text": [
      "Setting `pad_token_id` to `eos_token_id`:None for open-end generation.\n"
     ]
    },
    {
     "name": "stdout",
     "output_type": "stream",
     "text": [
      "origin :  8 Online Education, Preparing for the New School Year with XR Technology\n",
      "cleaned :   8 온라인 교육, XR 기술로 새로운 학년도 준비하기\n"
     ]
    },
    {
     "name": "stderr",
     "output_type": "stream",
     "text": [
      "Setting `pad_token_id` to `eos_token_id`:None for open-end generation.\n"
     ]
    },
    {
     "name": "stdout",
     "output_type": "stream",
     "text": [
      "origin :  First Central Election Management Commission Policy Workshop Held\n",
      "cleaned :   중앙선거관리위원회 제1차 정책워크숍 개최\n"
     ]
    },
    {
     "name": "stderr",
     "output_type": "stream",
     "text": [
      "Setting `pad_token_id` to `eos_token_id`:None for open-end generation.\n"
     ]
    },
    {
     "name": "stdout",
     "output_type": "stream",
     "text": [
      "origin :  Disaster in Yangyang Section of Dongcheon River: 31 Days to Process\n",
      "cleaned :   양양동천 하류에서 발생한 재난: 31일간 처리\n"
     ]
    },
    {
     "name": "stderr",
     "output_type": "stream",
     "text": [
      "Setting `pad_token_id` to `eos_token_id`:None for open-end generation.\n"
     ]
    },
    {
     "name": "stdout",
     "output_type": "stream",
     "text": [
      "origin :  L9 Innotek Personnel: Seniority System, Exemption, F Division, etc.\n",
      "cleaned :   인노테크 L9 직원: 경력 시스템, 면제, F 구역, 등.\n"
     ]
    },
    {
     "name": "stderr",
     "output_type": "stream",
     "text": [
      "Setting `pad_token_id` to `eos_token_id`:None for open-end generation.\n"
     ]
    },
    {
     "name": "stdout",
     "output_type": "stream",
     "text": [
      "origin :  The 8th Economic and Financial Autonomy Committee Emphasizes the Need for G8 Book Complementation\n",
      "cleaned :   8차 경제 및 금융 자율성 위원회, G8 서적 보완의 필요성 강조\n"
     ]
    },
    {
     "name": "stderr",
     "output_type": "stream",
     "text": [
      "Setting `pad_token_id` to `eos_token_id`:None for open-end generation.\n"
     ]
    },
    {
     "name": "stdout",
     "output_type": "stream",
     "text": [
      "origin :  High School 1st Graders to Wear Stripes at Middle School Church Meeting\n",
      "cleaned :   고등학교 1학년 학생들이 중학교 교회 회의에서 스트라이프를 입는다\n"
     ]
    },
    {
     "name": "stderr",
     "output_type": "stream",
     "text": [
      "Setting `pad_token_id` to `eos_token_id`:None for open-end generation.\n"
     ]
    },
    {
     "name": "stdout",
     "output_type": "stream",
     "text": [
      "origin :  M Company's Z Corporation to Pay D Compensation; D's Review in the Middle of the Case\n",
      "cleaned :   M회사 자회사 Z회사, D에 배상금 지급; D의 중재, 사건 중반에 진행\n"
     ]
    },
    {
     "name": "stderr",
     "output_type": "stream",
     "text": [
      "Setting `pad_token_id` to `eos_token_id`:None for open-end generation.\n"
     ]
    },
    {
     "name": "stdout",
     "output_type": "stream",
     "text": [
      "origin :  Opinions of Chatiri Fp on the improvement of the exterior image\n",
      "cleaned :   채찍질 Fp는 외관 개선에 대한 의견\n"
     ]
    },
    {
     "name": "stderr",
     "output_type": "stream",
     "text": [
      "Setting `pad_token_id` to `eos_token_id`:None for open-end generation.\n"
     ]
    },
    {
     "name": "stdout",
     "output_type": "stream",
     "text": [
      "origin :  Korean Highway Corporation, Support for Expanding Entrance Roads to Highways Upgraded to 8 National Highways\n",
      "cleaned :   한국고속도로공사, 고속도로 입구 도로 확\n"
     ]
    },
    {
     "name": "stderr",
     "output_type": "stream",
     "text": [
      "Setting `pad_token_id` to `eos_token_id`:None for open-end generation.\n"
     ]
    },
    {
     "name": "stdout",
     "output_type": "stream",
     "text": [
      "origin :  Chungbuk Provincial Office of Education Union, Voice of 4 Groups in Each Military District\n",
      "cleaned :   충북교육청노조, 각 군지역 4단체의 목소리를 담아낸다\n"
     ]
    },
    {
     "name": "stderr",
     "output_type": "stream",
     "text": [
      "Setting `pad_token_id` to `eos_token_id`:None for open-end generation.\n"
     ]
    },
    {
     "name": "stdout",
     "output_type": "stream",
     "text": [
      "origin :  8th Anniv. of Natural Disaster, Fee Reduction for Radio Station Use in Jucheon and Cheonan\n",
      "cleaned :   자연재해 8주년, 주체연 대체방송료 인하, 천안·천안시 이용료 감액\n"
     ]
    },
    {
     "name": "stderr",
     "output_type": "stream",
     "text": [
      "Setting `pad_token_id` to `eos_token_id`:None for open-end generation.\n"
     ]
    },
    {
     "name": "stdout",
     "output_type": "stream",
     "text": [
      "origin :  Bank of Korea Announces Interest Rate Decision\n",
      "cleaned :   한국은행 금리 결정 발표\n"
     ]
    },
    {
     "name": "stderr",
     "output_type": "stream",
     "text": [
      "Setting `pad_token_id` to `eos_token_id`:None for open-end generation.\n"
     ]
    },
    {
     "name": "stdout",
     "output_type": "stream",
     "text": [
      "origin :  Chungbuk e7-year college tuition 21,000 won, outpacing the national average\n",
      "cleaned :   충북 7년제 대학 학비 21,000원, 전국 평균을 앞서가\n"
     ]
    },
    {
     "name": "stderr",
     "output_type": "stream",
     "text": [
      "Setting `pad_token_id` to `eos_token_id`:None for open-end generation.\n"
     ]
    },
    {
     "name": "stdout",
     "output_type": "stream",
     "text": [
      "origin :  Crisis of Citrus Exports Due to COVID-19 Spread\n",
      "cleaned :   코로나19 확산으로 인한 감귤류 수출 위기\n"
     ]
    },
    {
     "name": "stderr",
     "output_type": "stream",
     "text": [
      "Setting `pad_token_id` to `eos_token_id`:None for open-end generation.\n"
     ]
    },
    {
     "name": "stdout",
     "output_type": "stream",
     "text": [
      "origin :  Inundated with Applicants: Bupyeong Station's Youth Short-term Intern Recruitment\n",
      "cleaned :   부평역 청년 단기 인턴 모집 신청 폭주\n"
     ]
    },
    {
     "name": "stderr",
     "output_type": "stream",
     "text": [
      "Setting `pad_token_id` to `eos_token_id`:None for open-end generation.\n"
     ]
    },
    {
     "name": "stdout",
     "output_type": "stream",
     "text": [
      "origin :  KtGV JoKook is heading for MBC debate\n",
      "cleaned :   ktGv 조국은 MBC 토론에 나선다\n"
     ]
    },
    {
     "name": "stderr",
     "output_type": "stream",
     "text": [
      "Setting `pad_token_id` to `eos_token_id`:None for open-end generation.\n"
     ]
    },
    {
     "name": "stdout",
     "output_type": "stream",
     "text": [
      "origin :  Channel A official, QF decision on the article of suspicion by 5 departments of the prosecution\n",
      "cleaned :   검찰 5개 부서의 의혹 기사에 대한 채널A 공식자의 QF 결정\n"
     ]
    },
    {
     "name": "stderr",
     "output_type": "stream",
     "text": [
      "Setting `pad_token_id` to `eos_token_id`:None for open-end generation.\n"
     ]
    },
    {
     "name": "stdout",
     "output_type": "stream",
     "text": [
      "origin :  Applying vectors for KakaoTalk's composite videos is urgent\n",
      "cleaned :   카카오톡의 합성 영상에 벡터를 적용하는 것은 긴급\n"
     ]
    },
    {
     "name": "stderr",
     "output_type": "stream",
     "text": [
      "Setting `pad_token_id` to `eos_token_id`:None for open-end generation.\n"
     ]
    },
    {
     "name": "stdout",
     "output_type": "stream",
     "text": [
      "origin :  S Life Insurance CEO Takes Office After Retiring, Raises Controversy\n",
      "cleaned :   S 생명보험 CEO 은퇴 후 재취업 논란\n"
     ]
    },
    {
     "name": "stderr",
     "output_type": "stream",
     "text": [
      "Setting `pad_token_id` to `eos_token_id`:None for open-end generation.\n"
     ]
    },
    {
     "name": "stdout",
     "output_type": "stream",
     "text": [
      "origin :  CJ HelloVision and SKB's Merger Nullification Lawsuit Followed by LGU's Legal Response\n",
      "cleaned :   CJ 헬로비전과 SKB의 합병 무효 소송에 이어 LGU의 법적 대응\n"
     ]
    },
    {
     "name": "stderr",
     "output_type": "stream",
     "text": [
      "Setting `pad_token_id` to `eos_token_id`:None for open-end generation.\n"
     ]
    },
    {
     "name": "stdout",
     "output_type": "stream",
     "text": [
      "origin :  Shut Down T3 W Line, H2 Also Hit by COVID-19\n",
      "cleaned :   코로나19로 T3 W선,\n"
     ]
    },
    {
     "name": "stderr",
     "output_type": "stream",
     "text": [
      "Setting `pad_token_id` to `eos_token_id`:None for open-end generation.\n"
     ]
    },
    {
     "name": "stdout",
     "output_type": "stream",
     "text": [
      "origin :  Ryu Si0 Chairman Falls Asleep in Suwon Sulfuric Acid Fire\n",
      "cleaned :   수원 황산 화재 중 의장 류 씨가 잠든다\n"
     ]
    },
    {
     "name": "stderr",
     "output_type": "stream",
     "text": [
      "Setting `pad_token_id` to `eos_token_id`:None for open-end generation.\n"
     ]
    },
    {
     "name": "stdout",
     "output_type": "stream",
     "text": [
      "origin :  Three Suspects Under Investigation: Return Home Inquiry and GCD Corporation Employee Inquiry\n",
      "cleaned :   3명의 용의자 조사: 귀국 조사 및 GCD 회사 직원 조사\n"
     ]
    },
    {
     "name": "stderr",
     "output_type": "stream",
     "text": [
      "Setting `pad_token_id` to `eos_token_id`:None for open-end generation.\n"
     ]
    },
    {
     "name": "stdout",
     "output_type": "stream",
     "text": [
      "origin :  Jo Kook's U Seizure, Prosecution and Unification Ministry's Impact, Future Nuclear Progress Influenced\n",
      "cleaned :   조국 U 사태, 검찰과 통일부 영향, 미래 핵 발전 영향\n"
     ]
    },
    {
     "name": "stderr",
     "output_type": "stream",
     "text": [
      "Setting `pad_token_id` to `eos_token_id`:None for open-end generation.\n"
     ]
    },
    {
     "name": "stdout",
     "output_type": "stream",
     "text": [
      "origin :  The 31st Anniversary of Kangneung-Wonju University's Opening Ceremony Postponed for Two Weeks\n",
      "cleaned :   강릉원주대학교 개교 31주년 기념식, 2주 연기\n"
     ]
    },
    {
     "name": "stderr",
     "output_type": "stream",
     "text": [
      "Setting `pad_token_id` to `eos_token_id`:None for open-end generation.\n"
     ]
    },
    {
     "name": "stdout",
     "output_type": "stream",
     "text": [
      "origin :  3.6 Trillion Won to be Supplied Over 3 Years\n",
      "cleaned :   3년간 3.6조 원 지원\n"
     ]
    },
    {
     "name": "stderr",
     "output_type": "stream",
     "text": [
      "Setting `pad_token_id` to `eos_token_id`:None for open-end generation.\n"
     ]
    },
    {
     "name": "stdout",
     "output_type": "stream",
     "text": [
      "origin :  Seoul is a Y-shaped curse word that has become F\n",
      "cleaned :   서울은 Y자 모양의 욕설이 F가 된 것이다\n"
     ]
    },
    {
     "name": "stderr",
     "output_type": "stream",
     "text": [
      "Setting `pad_token_id` to `eos_token_id`:None for open-end generation.\n"
     ]
    },
    {
     "name": "stdout",
     "output_type": "stream",
     "text": [
      "origin :  School 1 Emergency Sudden Closure 4th Grade Parent Guidelines\n",
      "cleaned :   4학년 부모님을 위한 급격한 학교 1급 비상 폐교 안내\n"
     ]
    },
    {
     "name": "stderr",
     "output_type": "stream",
     "text": [
      "Setting `pad_token_id` to `eos_token_id`:None for open-end generation.\n"
     ]
    },
    {
     "name": "stdout",
     "output_type": "stream",
     "text": [
      "origin :  Transportation University Youth HaTech Convergence Project: Wasp W Collaborates\n",
      "cleaned :   운송대학 청소년 하테크 융합 프로젝트: 와스프 W 협업\n"
     ]
    },
    {
     "name": "stderr",
     "output_type": "stream",
     "text": [
      "Setting `pad_token_id` to `eos_token_id`:None for open-end generation.\n"
     ]
    },
    {
     "name": "stdout",
     "output_type": "stream",
     "text": [
      "origin :  12th ZM Yangdae Information University B-Dong O Dong-yeon President Elected as Lee Man-jeon, Minister of B Scent\n",
      "cleaned :   제 12대 양대 정보대학교 B동 오동연 총장이 이만전, B향식부장으로 선출되다\n"
     ]
    },
    {
     "name": "stderr",
     "output_type": "stream",
     "text": [
      "Setting `pad_token_id` to `eos_token_id`:None for open-end generation.\n"
     ]
    },
    {
     "name": "stdout",
     "output_type": "stream",
     "text": [
      "origin :  Six Shops Burned Down in Kim's Commercial Building in Sim3-gwan\n",
      "cleaned :   김의 상업 빌딩 3관 6개 상점이 불에 타\n"
     ]
    },
    {
     "name": "stderr",
     "output_type": "stream",
     "text": [
      "Setting `pad_token_id` to `eos_token_id`:None for open-end generation.\n"
     ]
    },
    {
     "name": "stdout",
     "output_type": "stream",
     "text": [
      "origin :  O-S, Line 9 Sanikyeung, Bloody Battle of D's 5P\n",
      "cleaned :   오에스, 라인9 산이경, 디의 5P 피의 전투\n"
     ]
    },
    {
     "name": "stderr",
     "output_type": "stream",
     "text": [
      "Setting `pad_token_id` to `eos_token_id`:None for open-end generation.\n"
     ]
    },
    {
     "name": "stdout",
     "output_type": "stream",
     "text": [
      "origin :  9.2 Billion to Be Invested in C-Jungang Bridge Office Cleaning Staff Training\n",
      "cleaned :   9.2조 투입, C-강남교 청소직 직원 교육에 투자합니다.\n"
     ]
    },
    {
     "name": "stderr",
     "output_type": "stream",
     "text": [
      "Setting `pad_token_id` to `eos_token_id`:None for open-end generation.\n"
     ]
    },
    {
     "name": "stdout",
     "output_type": "stream",
     "text": [
      "origin :  KBS Children's 9th Grade Vehicle Safety Hotspot Camera Installation\n",
      "cleaned :   KBS, 9학년 학생용 차량안전 핫스팟 카메라 설치\n"
     ]
    },
    {
     "name": "stderr",
     "output_type": "stream",
     "text": [
      "Setting `pad_token_id` to `eos_token_id`:None for open-end generation.\n"
     ]
    },
    {
     "name": "stdout",
     "output_type": "stream",
     "text": [
      "origin :  The Korean Confederation of Trade Unions Aims to Create 4-Day Workweek and Reduce 6-Week Work Hours\n",
      "cleaned :   한국노총, 4일근무와 6주간 근무시간 줄이기 목표\n"
     ]
    },
    {
     "name": "stderr",
     "output_type": "stream",
     "text": [
      "Setting `pad_token_id` to `eos_token_id`:None for open-end generation.\n"
     ]
    },
    {
     "name": "stdout",
     "output_type": "stream",
     "text": [
      "origin :  Marine and Fishing Village 1st Development: Establishment of Metropolitan Area Interchange Station\n",
      "cleaned :   해양·어촌 1호 개발: 수도권 환승역 설치\n"
     ]
    },
    {
     "name": "stderr",
     "output_type": "stream",
     "text": [
      "Setting `pad_token_id` to `eos_token_id`:None for open-end generation.\n"
     ]
    },
    {
     "name": "stdout",
     "output_type": "stream",
     "text": [
      "origin :  The 19th National Congress of the Chinese Communist Party Begins\n",
      "cleaned :   중국공산당 제19차 전국대회 개막\n"
     ]
    },
    {
     "name": "stderr",
     "output_type": "stream",
     "text": [
      "Setting `pad_token_id` to `eos_token_id`:None for open-end generation.\n"
     ]
    },
    {
     "name": "stdout",
     "output_type": "stream",
     "text": [
      "origin :  Coronavirus: 17,000 New Cases, 9,000 on Friday\n",
      "cleaned :   코로나바이러스: 금요일 9,000명 신규 확진, 전체 17,000명\n"
     ]
    },
    {
     "name": "stderr",
     "output_type": "stream",
     "text": [
      "Setting `pad_token_id` to `eos_token_id`:None for open-end generation.\n"
     ]
    },
    {
     "name": "stdout",
     "output_type": "stream",
     "text": [
      "origin :  Apollo 13 Commander Achieves Moon Landing Dream with LG V30 After 47 Years\n",
      "cleaned :   아폴로 13호의 지휘관, 47년 만에 달 착륙 꿈을 LG V30으로 이루다\n"
     ]
    },
    {
     "name": "stderr",
     "output_type": "stream",
     "text": [
      "Setting `pad_token_id` to `eos_token_id`:None for open-end generation.\n"
     ]
    },
    {
     "name": "stdout",
     "output_type": "stream",
     "text": [
      "origin :  CJ to Acquire a 51% Stake in Pledis Entertainment\n",
      "cleaned :   CJ, 플레디스 엔터테인먼트에 51% 지분 취득\n"
     ]
    },
    {
     "name": "stderr",
     "output_type": "stream",
     "text": [
      "Setting `pad_token_id` to `eos_token_id`:None for open-end generation.\n"
     ]
    },
    {
     "name": "stdout",
     "output_type": "stream",
     "text": [
      "origin :  Two Cases and Five Principles for Summer Air Conditioning\n",
      "cleaned :   여름철 에어컨 2가지 대안과 5가지 원칙\n"
     ]
    },
    {
     "name": "stderr",
     "output_type": "stream",
     "text": [
      "Setting `pad_token_id` to `eos_token_id`:None for open-end generation.\n"
     ]
    },
    {
     "name": "stdout",
     "output_type": "stream",
     "text": [
      "origin :  제목없음\n",
      "cleaned :   제목 없음\n"
     ]
    },
    {
     "name": "stderr",
     "output_type": "stream",
     "text": [
      "Setting `pad_token_id` to `eos_token_id`:None for open-end generation.\n"
     ]
    },
    {
     "name": "stdout",
     "output_type": "stream",
     "text": [
      "origin :  Online 3rd Year Tuition Fee\n",
      "cleaned :   3학년 온라인 학비\n"
     ]
    },
    {
     "name": "stderr",
     "output_type": "stream",
     "text": [
      "Setting `pad_token_id` to `eos_token_id`:None for open-end generation.\n"
     ]
    },
    {
     "name": "stdout",
     "output_type": "stream",
     "text": [
      "origin :  NH6 Terminal Fire Incident\n",
      "cleaned :   NH6 터미널 화재 사고\n"
     ]
    },
    {
     "name": "stderr",
     "output_type": "stream",
     "text": [
      "Setting `pad_token_id` to `eos_token_id`:None for open-end generation.\n"
     ]
    },
    {
     "name": "stdout",
     "output_type": "stream",
     "text": [
      "origin :  Next year, Daegu City's basic salary will be 2 won per a\n",
      "cleaned :   내년도 대구시 기본급 2원 인상\n"
     ]
    },
    {
     "name": "stderr",
     "output_type": "stream",
     "text": [
      "Setting `pad_token_id` to `eos_token_id`:None for open-end generation.\n"
     ]
    },
    {
     "name": "stdout",
     "output_type": "stream",
     "text": [
      "origin :  The First Meeting of the Automobile Industry Revolution Committee: Resolution on Science and Technology Policy\n",
      "cleaned :   자동차 산업 혁명위원회 첫 회의: 과학기술 정책 결의\n"
     ]
    },
    {
     "name": "stderr",
     "output_type": "stream",
     "text": [
      "Setting `pad_token_id` to `eos_token_id`:None for open-end generation.\n"
     ]
    },
    {
     "name": "stdout",
     "output_type": "stream",
     "text": [
      "origin :  In Yangsan, the competition rate for the general election in Gyeongnam was 4:1, the highest in the region.\n",
      "cleaned :   경남 양산에서 4:1로 가장 높은 선거 참여율 기록\n"
     ]
    },
    {
     "name": "stderr",
     "output_type": "stream",
     "text": [
      "Setting `pad_token_id` to `eos_token_id`:None for open-end generation.\n"
     ]
    },
    {
     "name": "stdout",
     "output_type": "stream",
     "text": [
      "origin :  A Child Found on I-80 South\n",
      "cleaned :   아이가 I-80 남부에서 발견됨\n"
     ]
    },
    {
     "name": "stderr",
     "output_type": "stream",
     "text": [
      "Setting `pad_token_id` to `eos_token_id`:None for open-end generation.\n"
     ]
    },
    {
     "name": "stdout",
     "output_type": "stream",
     "text": [
      "origin :  Comparison between Korea Nodisc and Regular Nodisc E Document\n",
      "cleaned :   한국 노디스크와 일반 노디스크 E 문서 비교\n"
     ]
    },
    {
     "name": "stderr",
     "output_type": "stream",
     "text": [
      "Setting `pad_token_id` to `eos_token_id`:None for open-end generation.\n"
     ]
    },
    {
     "name": "stdout",
     "output_type": "stream",
     "text": [
      "origin :  'The 9V0U1p Day of the UK Zeros'\n",
      "cleaned :   '영국의 제로의 9V0U1p'\n"
     ]
    },
    {
     "name": "stderr",
     "output_type": "stream",
     "text": [
      "Setting `pad_token_id` to `eos_token_id`:None for open-end generation.\n"
     ]
    },
    {
     "name": "stdout",
     "output_type": "stream",
     "text": [
      "origin :  4 Outside the Rodeo, a child in the children's lane in 2019 PCG\n",
      "cleaned :   2019년 PCG에서 로데오 밖, 아이들이 즐기는 놀이터\n"
     ]
    },
    {
     "name": "stderr",
     "output_type": "stream",
     "text": [
      "Setting `pad_token_id` to `eos_token_id`:None for open-end generation.\n"
     ]
    },
    {
     "name": "stdout",
     "output_type": "stream",
     "text": [
      "origin :  Ransomware Domestic Damage Report: 1 Case\n",
      "cleaned :   국내 랜섬웨어 피해 보고서: 1건의 사례\n"
     ]
    },
    {
     "name": "stderr",
     "output_type": "stream",
     "text": [
      "Setting `pad_token_id` to `eos_token_id`:None for open-end generation.\n"
     ]
    },
    {
     "name": "stdout",
     "output_type": "stream",
     "text": [
      "origin :  KAIST 50th Anniversary Commemorative Project Begins on July 13th\n",
      "cleaned :   KAIST 50주년 기념 프로젝트 7월 13일에 시작\n"
     ]
    },
    {
     "name": "stderr",
     "output_type": "stream",
     "text": [
      "Setting `pad_token_id` to `eos_token_id`:None for open-end generation.\n"
     ]
    },
    {
     "name": "stdout",
     "output_type": "stream",
     "text": [
      "origin :  Public Officials Can Now Get Internships at Designated Hospitals\n",
      "cleaned :   공무원들이 지정된 병원에서 인턴십을 할 수 있게 되었습니다.\n"
     ]
    },
    {
     "name": "stderr",
     "output_type": "stream",
     "text": [
      "Setting `pad_token_id` to `eos_token_id`:None for open-end generation.\n"
     ]
    },
    {
     "name": "stdout",
     "output_type": "stream",
     "text": [
      "origin :  V8X 1000 times 6G Korean Confederation of Trade Unions New Deputy Committee Elected\n",
      "cleaned :   한국노총 6G 한국 산업 협력회의 새로운 부위원장 선출: V8X 1000배 증가\n"
     ]
    },
    {
     "name": "stderr",
     "output_type": "stream",
     "text": [
      "Setting `pad_token_id` to `eos_token_id`:None for open-end generation.\n"
     ]
    },
    {
     "name": "stdout",
     "output_type": "stream",
     "text": [
      "origin :  iDaewoo General Hospital Recognized with Presidential Commendation and National Medal\n",
      "cleaned :   대우종합병원이 대통령 표창 및 국장 수상\n"
     ]
    },
    {
     "name": "stderr",
     "output_type": "stream",
     "text": [
      "Setting `pad_token_id` to `eos_token_id`:None for open-end generation.\n"
     ]
    },
    {
     "name": "stdout",
     "output_type": "stream",
     "text": [
      "origin :  A company's employee bullying incident receives strict punishment\n",
      "cleaned :   회사 직원의 괴롭힘 사건에 엄격한 처벌\n"
     ]
    },
    {
     "name": "stderr",
     "output_type": "stream",
     "text": [
      "Setting `pad_token_id` to `eos_token_id`:None for open-end generation.\n"
     ]
    },
    {
     "name": "stdout",
     "output_type": "stream",
     "text": [
      "origin :  Forest Fire at B5, No. 5 Stopped at Ulsan Library Parking Lot\n",
      "cleaned :   울산 도서관 주차장에서 B5, No. 5 숲 화재 진압\n"
     ]
    },
    {
     "name": "stderr",
     "output_type": "stream",
     "text": [
      "Setting `pad_token_id` to `eos_token_id`:None for open-end generation.\n"
     ]
    },
    {
     "name": "stdout",
     "output_type": "stream",
     "text": [
      "origin :  2nd Independence Day 100th Anniversary Ceremony Held, W News\n",
      "cleaned :   100주년 독립기념일 행사 개최, W 뉴스\n"
     ]
    },
    {
     "name": "stderr",
     "output_type": "stream",
     "text": [
      "Setting `pad_token_id` to `eos_token_id`:None for open-end generation.\n"
     ]
    },
    {
     "name": "stdout",
     "output_type": "stream",
     "text": [
      "origin :  The Scandal Will Make Park Jae-dong's Book Inevitable\n",
      "cleaned :   파크재동의 책은 스캔들로 인해 불가피하다.\n"
     ]
    },
    {
     "name": "stderr",
     "output_type": "stream",
     "text": [
      "Setting `pad_token_id` to `eos_token_id`:None for open-end generation.\n"
     ]
    },
    {
     "name": "stdout",
     "output_type": "stream",
     "text": [
      "origin :  2022 February 8th, 8th Meeting of the Pharmaceutical System\n",
      "cleaned :   2022년 2월 8일, 제8차 의약품 시스템 회의\n"
     ]
    },
    {
     "name": "stderr",
     "output_type": "stream",
     "text": [
      "Setting `pad_token_id` to `eos_token_id`:None for open-end generation.\n"
     ]
    },
    {
     "name": "stdout",
     "output_type": "stream",
     "text": [
      "origin :  The head of the service, Mr. Moon, and the chief Mr. Cha\n",
      "cleaned :   서비스장 문씨와 차장\n"
     ]
    },
    {
     "name": "stderr",
     "output_type": "stream",
     "text": [
      "Setting `pad_token_id` to `eos_token_id`:None for open-end generation.\n"
     ]
    },
    {
     "name": "stdout",
     "output_type": "stream",
     "text": [
      "origin :  A Proposal for the Establishment of the 3rd Welfare Center at Dongbu University, a Public Forum\n",
      "cleaned :   동부대학교 3호 복지센터 설립 제안, 공개토론회 개최\n"
     ]
    },
    {
     "name": "stderr",
     "output_type": "stream",
     "text": [
      "Setting `pad_token_id` to `eos_token_id`:None for open-end generation.\n"
     ]
    },
    {
     "name": "stdout",
     "output_type": "stream",
     "text": [
      "origin :  Military-exclusive 3 vehicles cross Goljangdae waters\n",
      "cleaned :   군사전용 3대, 골장대 수역 건너\n"
     ]
    },
    {
     "name": "stderr",
     "output_type": "stream",
     "text": [
      "Setting `pad_token_id` to `eos_token_id`:None for open-end generation.\n"
     ]
    },
    {
     "name": "stdout",
     "output_type": "stream",
     "text": [
      "origin :  Tourism in Seoul is on the rise\n",
      "cleaned :   서울 관광업은 증가 중입니다.\n"
     ]
    },
    {
     "name": "stderr",
     "output_type": "stream",
     "text": [
      "Setting `pad_token_id` to `eos_token_id`:None for open-end generation.\n"
     ]
    },
    {
     "name": "stdout",
     "output_type": "stream",
     "text": [
      "origin :  Introducing a Roadmap for Detecting Lies through Q&A\n",
      "cleaned :   Q&A를 통해 거짓말 탐지하는 길잡이 소개\n"
     ]
    },
    {
     "name": "stderr",
     "output_type": "stream",
     "text": [
      "Setting `pad_token_id` to `eos_token_id`:None for open-end generation.\n"
     ]
    },
    {
     "name": "stdout",
     "output_type": "stream",
     "text": [
      "origin :  PD Ho Gx Agreement and 5th Supplementary Agreement for t Proposal\n",
      "cleaned :   PD Ho Gx 합의 및 제5차 보완 합의 제안\n"
     ]
    },
    {
     "name": "stderr",
     "output_type": "stream",
     "text": [
      "Setting `pad_token_id` to `eos_token_id`:None for open-end generation.\n"
     ]
    },
    {
     "name": "stdout",
     "output_type": "stream",
     "text": [
      "origin :  Empty Schoolroom\n",
      "cleaned :   텅 빈 학교 방\n"
     ]
    },
    {
     "name": "stderr",
     "output_type": "stream",
     "text": [
      "Setting `pad_token_id` to `eos_token_id`:None for open-end generation.\n"
     ]
    },
    {
     "name": "stdout",
     "output_type": "stream",
     "text": [
      "origin :  Heinz Scores 10,000 Points, Yang Dong-geun Steals 900 in NBA Season Opener\n",
      "cleaned :   하인츠, 10,000 점 득점,\n"
     ]
    },
    {
     "name": "stderr",
     "output_type": "stream",
     "text": [
      "Setting `pad_token_id` to `eos_token_id`:None for open-end generation.\n"
     ]
    },
    {
     "name": "stdout",
     "output_type": "stream",
     "text": [
      "origin :  KT's 2-Minute Service Period to End Soon\n",
      "cleaned :   KT의 2분기 서비스 기간이 곧 끝날 것\n"
     ]
    },
    {
     "name": "stderr",
     "output_type": "stream",
     "text": [
      "Setting `pad_token_id` to `eos_token_id`:None for open-end generation.\n"
     ]
    },
    {
     "name": "stdout",
     "output_type": "stream",
     "text": [
      "origin :  XSAI Repair 0: DidiFre 41\n",
      "cleaned :   XSAI 리페어 0: 디디프레 41\n"
     ]
    },
    {
     "name": "stderr",
     "output_type": "stream",
     "text": [
      "Setting `pad_token_id` to `eos_token_id`:None for open-end generation.\n"
     ]
    },
    {
     "name": "stdout",
     "output_type": "stream",
     "text": [
      "origin :  Life Authentication: Public Transport Users Can Pay with Biometric Authentication\n",
      "cleaned :   생체인증: 대중교통 이용자는 생체인증으로 결제할 수 있습니다.\n"
     ]
    },
    {
     "name": "stderr",
     "output_type": "stream",
     "text": [
      "Setting `pad_token_id` to `eos_token_id`:None for open-end generation.\n"
     ]
    },
    {
     "name": "stdout",
     "output_type": "stream",
     "text": [
      "origin :  DSCC's Artificial Light Year Production Capacity Has Increased\n",
      "cleaned :   DSCC의 인공광년 생산 능력이 증가했습니다.\n"
     ]
    },
    {
     "name": "stderr",
     "output_type": "stream",
     "text": [
      "Setting `pad_token_id` to `eos_token_id`:None for open-end generation.\n"
     ]
    },
    {
     "name": "stdout",
     "output_type": "stream",
     "text": [
      "origin :  Weeks PS PlayStation Korea 7: How much is made in Korea?\n",
      "cleaned :   플레이스테이션 한국 7주: 한국에서 얼마나 벌어들어 오나요?\n"
     ]
    },
    {
     "name": "stderr",
     "output_type": "stream",
     "text": [
      "Setting `pad_token_id` to `eos_token_id`:None for open-end generation.\n"
     ]
    },
    {
     "name": "stdout",
     "output_type": "stream",
     "text": [
      "origin :  LG V40 with 5 Fun Cameras to be Released\n",
      "cleaned :   LG V40 5가지 즐거운 카메라와 함께 출시\n"
     ]
    },
    {
     "name": "stderr",
     "output_type": "stream",
     "text": [
      "Setting `pad_token_id` to `eos_token_id`:None for open-end generation.\n"
     ]
    },
    {
     "name": "stdout",
     "output_type": "stream",
     "text": [
      "origin :  2 out of 78 F electrons were purchased, and T experience is planned\n",
      "cleaned :   78개 F전자 중 2개가 구입되며, T 경험을 계획합니다.\n"
     ]
    },
    {
     "name": "stderr",
     "output_type": "stream",
     "text": [
      "Setting `pad_token_id` to `eos_token_id`:None for open-end generation.\n"
     ]
    },
    {
     "name": "stdout",
     "output_type": "stream",
     "text": [
      "origin :  LG U+ and Google Jointly Develop AI Camera Technology for Pixel Phones Without Launching New Phones\n",
      "cleaned :   LG U+와 구글, 픽셀폰에 AI 카메라 기술 공동 개발...새폰 출시 없이\n"
     ]
    },
    {
     "name": "stderr",
     "output_type": "stream",
     "text": [
      "Setting `pad_token_id` to `eos_token_id`:None for open-end generation.\n"
     ]
    },
    {
     "name": "stdout",
     "output_type": "stream",
     "text": [
      "origin :  3D X-Flex paper with three-holed paper can cause diarrhea\n",
      "cleaned :   3D X-Flex 종이 3개의 구멍이 있는 종이가 대변을 유발할 수 있습니다. \n"
     ]
    },
    {
     "name": "stderr",
     "output_type": "stream",
     "text": [
      "Setting `pad_token_id` to `eos_token_id`:None for open-end generation.\n"
     ]
    },
    {
     "name": "stdout",
     "output_type": "stream",
     "text": [
      "origin :  World's Top 5 Dining Cities Chosen\n",
      "cleaned :   세계 최고 5대 식당 도시 선정\n"
     ]
    },
    {
     "name": "stderr",
     "output_type": "stream",
     "text": [
      "Setting `pad_token_id` to `eos_token_id`:None for open-end generation.\n"
     ]
    },
    {
     "name": "stdout",
     "output_type": "stream",
     "text": [
      "origin :  Silicon Dioxide Photovoltaic Synthesis House Development\n",
      "cleaned :   시리콘 다이옥사이드 화력 발전소 개발\n"
     ]
    },
    {
     "name": "stderr",
     "output_type": "stream",
     "text": [
      "Setting `pad_token_id` to `eos_token_id`:None for open-end generation.\n"
     ]
    },
    {
     "name": "stdout",
     "output_type": "stream",
     "text": [
      "origin :  Geepan QK Telecom Hosts iPhone 4G Event\n",
      "cleaned :   케이팬 QK 텔레콤, 아이폰 4G 이벤트 개최\n"
     ]
    },
    {
     "name": "stderr",
     "output_type": "stream",
     "text": [
      "Setting `pad_token_id` to `eos_token_id`:None for open-end generation.\n"
     ]
    },
    {
     "name": "stdout",
     "output_type": "stream",
     "text": [
      "origin :  \"Samsung Big X Developer Desktop Computer: First Launch in Seoul\"\n",
      "cleaned :   삼성 빅엑스 개발자 데스크탑 컴퓨터: 서울 첫 공개\n"
     ]
    },
    {
     "name": "stderr",
     "output_type": "stream",
     "text": [
      "Setting `pad_token_id` to `eos_token_id`:None for open-end generation.\n"
     ]
    },
    {
     "name": "stdout",
     "output_type": "stream",
     "text": [
      "origin :  Unauthorized SMS Delivery\n",
      "cleaned :   비인가된 문자 메시지 전송\n"
     ]
    },
    {
     "name": "stderr",
     "output_type": "stream",
     "text": [
      "Setting `pad_token_id` to `eos_token_id`:None for open-end generation.\n"
     ]
    },
    {
     "name": "stdout",
     "output_type": "stream",
     "text": [
      "origin :  LGR Love Letter: Samsung Galaxy S8 Advert for Other Brands' Customers\n",
      "cleaned :   삼성 갤럭시 S8 광고: 다른 브랜드 고객들을 위한 러브 레터\n"
     ]
    },
    {
     "name": "stderr",
     "output_type": "stream",
     "text": [
      "Setting `pad_token_id` to `eos_token_id`:None for open-end generation.\n"
     ]
    },
    {
     "name": "stdout",
     "output_type": "stream",
     "text": [
      "origin :  S-Inter7SING Yv3Tune for the Future Food Market\n",
      "cleaned :   미래의 식품 시장에 맞춘 S-Inter7SING Yv3Tune\n"
     ]
    },
    {
     "name": "stderr",
     "output_type": "stream",
     "text": [
      "Setting `pad_token_id` to `eos_token_id`:None for open-end generation.\n"
     ]
    },
    {
     "name": "stdout",
     "output_type": "stream",
     "text": [
      "origin :   Dodgers are WS championship contender for 3 consecutive years, but the championship is still unclear \n",
      "cleaned :   LA 다저스는 3년 연속 월드시리즈 우승\n"
     ]
    },
    {
     "name": "stderr",
     "output_type": "stream",
     "text": [
      "Setting `pad_token_id` to `eos_token_id`:None for open-end generation.\n"
     ]
    },
    {
     "name": "stdout",
     "output_type": "stream",
     "text": [
      "origin :  Galaxy T7 O3E from KakaoTalk Refund 80,000 Won Possible\n",
      "cleaned :   카카오톡 환불 가능, 갤럭시 T7 O3E 80,000원 환불 가능\n"
     ]
    },
    {
     "name": "stderr",
     "output_type": "stream",
     "text": [
      "Setting `pad_token_id` to `eos_token_id`:None for open-end generation.\n"
     ]
    },
    {
     "name": "stdout",
     "output_type": "stream",
     "text": [
      "origin :  The Future Begins: Y&F's A2 Launch\n",
      "cleaned :   미래가 시작된다: Y&F의 A2 출시\n"
     ]
    },
    {
     "name": "stderr",
     "output_type": "stream",
     "text": [
      "Setting `pad_token_id` to `eos_token_id`:None for open-end generation.\n"
     ]
    },
    {
     "name": "stdout",
     "output_type": "stream",
     "text": [
      "origin :  Apple Starts Reservations for iPhone 11\n",
      "cleaned :   애플, 아이폰 11 예약 시작\n"
     ]
    },
    {
     "name": "stderr",
     "output_type": "stream",
     "text": [
      "Setting `pad_token_id` to `eos_token_id`:None for open-end generation.\n"
     ]
    },
    {
     "name": "stdout",
     "output_type": "stream",
     "text": [
      "origin :  Samsung Galaxy S21 5G Surpasses 500,000 Sales\n",
      "cleaned :   삼성 갤럭시 S21 5G, 500,000대 판매 돌파\n"
     ]
    },
    {
     "name": "stderr",
     "output_type": "stream",
     "text": [
      "Setting `pad_token_id` to `eos_token_id`:None for open-end generation.\n"
     ]
    },
    {
     "name": "stdout",
     "output_type": "stream",
     "text": [
      "origin :  Commercial Chemical Paints in Korea\n",
      "cleaned :   한국의 상업화된 화학색료\n"
     ]
    },
    {
     "name": "stderr",
     "output_type": "stream",
     "text": [
      "Setting `pad_token_id` to `eos_token_id`:None for open-end generation.\n"
     ]
    },
    {
     "name": "stdout",
     "output_type": "stream",
     "text": [
      "origin :  Pancake Bt mTV App: Pinkfong Tutorial Launches\n",
      "cleaned :   팬케이크 Bt mTV 앱: 핑크퐁 튜토리얼 출시\n"
     ]
    },
    {
     "name": "stderr",
     "output_type": "stream",
     "text": [
      "Setting `pad_token_id` to `eos_token_id`:None for open-end generation.\n"
     ]
    },
    {
     "name": "stdout",
     "output_type": "stream",
     "text": [
      "origin :  Griffin Y57EE Recalls Due to Defect\n",
      "cleaned :   그리핀 Y57EE의 결함으로 인한 사고 예방 조치\n"
     ]
    },
    {
     "name": "stderr",
     "output_type": "stream",
     "text": [
      "Setting `pad_token_id` to `eos_token_id`:None for open-end generation.\n"
     ]
    },
    {
     "name": "stdout",
     "output_type": "stream",
     "text": [
      "origin :  AI Restores Cactus Eruption in a Circular Pattern Slowly\n",
      "cleaned :   AI가 순환 패턴으로 천천히 사막의 사막 화산 폭\n"
     ]
    },
    {
     "name": "stderr",
     "output_type": "stream",
     "text": [
      "Setting `pad_token_id` to `eos_token_id`:None for open-end generation.\n"
     ]
    },
    {
     "name": "stdout",
     "output_type": "stream",
     "text": [
      "origin :  AI Develops Technology to Draw Trees, Becoming More Human-Like\n",
      "cleaned :  \n"
     ]
    },
    {
     "name": "stderr",
     "output_type": "stream",
     "text": [
      "Setting `pad_token_id` to `eos_token_id`:None for open-end generation.\n"
     ]
    },
    {
     "name": "stdout",
     "output_type": "stream",
     "text": [
      "origin :  제목없음\n",
      "cleaned :  \n"
     ]
    },
    {
     "name": "stderr",
     "output_type": "stream",
     "text": [
      "Setting `pad_token_id` to `eos_token_id`:None for open-end generation.\n"
     ]
    },
    {
     "name": "stdout",
     "output_type": "stream",
     "text": [
      "origin :  Seo Young-hoon, the first commercial deal with YG Entertainment\n",
      "cleaned :   YG 엔터테인먼트와의 첫 상업적 거래, 서영훈\n"
     ]
    },
    {
     "name": "stderr",
     "output_type": "stream",
     "text": [
      "Setting `pad_token_id` to `eos_token_id`:None for open-end generation.\n"
     ]
    },
    {
     "name": "stdout",
     "output_type": "stream",
     "text": [
      "origin :  제목없음\n",
      "cleaned :   제목 없음\n"
     ]
    },
    {
     "name": "stderr",
     "output_type": "stream",
     "text": [
      "Setting `pad_token_id` to `eos_token_id`:None for open-end generation.\n"
     ]
    },
    {
     "name": "stdout",
     "output_type": "stream",
     "text": [
      "origin :   Nuclear Reprocessing Sodium Fast Reactor 5: Its Continuation \n",
      "cleaned :   핵분리 소듐 빠른 반응기 5: 그 지속\n"
     ]
    },
    {
     "name": "stderr",
     "output_type": "stream",
     "text": [
      "Setting `pad_token_id` to `eos_token_id`:None for open-end generation.\n"
     ]
    },
    {
     "name": "stdout",
     "output_type": "stream",
     "text": [
      "origin :  Jeonbuk, Lowest Temperature Reaches -78°C with Snow\n",
      "cleaned :   전북 최저기온 -78℃, 눈내림\n"
     ]
    },
    {
     "name": "stderr",
     "output_type": "stream",
     "text": [
      "Setting `pad_token_id` to `eos_token_id`:None for open-end generation.\n"
     ]
    },
    {
     "name": "stdout",
     "output_type": "stream",
     "text": [
      "origin :  KTQ5 m반 Ag2O 성인식 YCg 플랫폼\n",
      "cleaned :   KTQ5 m반 Ag2O 성인식 YCg 플랫폼\n"
     ]
    },
    {
     "name": "stderr",
     "output_type": "stream",
     "text": [
      "Setting `pad_token_id` to `eos_token_id`:None for open-end generation.\n"
     ]
    },
    {
     "name": "stdout",
     "output_type": "stream",
     "text": [
      "origin :  GM Announces aT KsForm Linkage Program for Small and Medium-sized Enterprises\n",
      "cleaned :   GM, 소기업 및 중견기업에 대한 aT 링크 프로그램 발표\n"
     ]
    },
    {
     "name": "stderr",
     "output_type": "stream",
     "text": [
      "Setting `pad_token_id` to `eos_token_id`:None for open-end generation.\n"
     ]
    },
    {
     "name": "stdout",
     "output_type": "stream",
     "text": [
      "origin :  Why is Vtv's 1 Content Being Featured? Facebook Knows the Truth! 6E\n",
      "cleaned :   왜 VTV의 1 콘텐츠가 특집인가? 페이스북이 알고 있는 진실! 6E\n"
     ]
    },
    {
     "name": "stderr",
     "output_type": "stream",
     "text": [
      "Setting `pad_token_id` to `eos_token_id`:None for open-end generation.\n"
     ]
    },
    {
     "name": "stdout",
     "output_type": "stream",
     "text": [
      "origin :  Stock issuance in November up 60% from the previous month, IPO through rights issue\n",
      "cleaned :   11월 신규 주식 발행, 전월 대비 60%\n"
     ]
    },
    {
     "name": "stderr",
     "output_type": "stream",
     "text": [
      "Setting `pad_token_id` to `eos_token_id`:None for open-end generation.\n"
     ]
    },
    {
     "name": "stdout",
     "output_type": "stream",
     "text": [
      "origin :  2018 Basleyna International Conference, Galaxy S Preparation, Over 5,000 Attendees Expected\n",
      "cleaned :   2018 바젤리나 국제 컨퍼런스, 갤럭시 S 준비, 5,000명 이상 참석 예상\n"
     ]
    },
    {
     "name": "stderr",
     "output_type": "stream",
     "text": [
      "Setting `pad_token_id` to `eos_token_id`:None for open-end generation.\n"
     ]
    },
    {
     "name": "stdout",
     "output_type": "stream",
     "text": [
      "origin :  Content Removal Support for Communication Companies of Various Types\n",
      "cleaned :   다양한 종류의 통신\n"
     ]
    },
    {
     "name": "stderr",
     "output_type": "stream",
     "text": [
      "Setting `pad_token_id` to `eos_token_id`:None for open-end generation.\n"
     ]
    },
    {
     "name": "stdout",
     "output_type": "stream",
     "text": [
      "origin :  Choi Joo-min, Kim Woo-jae, Kang Kyung-min, and Kim Kang-kyung miss their medical checkup\n",
      "cleaned :   최주민, 김우재, 강경민, 김강경 의료 검진을 놓친다\n"
     ]
    },
    {
     "name": "stderr",
     "output_type": "stream",
     "text": [
      "Setting `pad_token_id` to `eos_token_id`:None for open-end generation.\n"
     ]
    },
    {
     "name": "stdout",
     "output_type": "stream",
     "text": [
      "origin :  Fitz Edition Sells 1 Million Copies on Amazon in Just 7 Days\n",
      "cleaned :   피츠 에디션, 아마존에서 7일 만에 100만 부 판매\n"
     ]
    },
    {
     "name": "stderr",
     "output_type": "stream",
     "text": [
      "Setting `pad_token_id` to `eos_token_id`:None for open-end generation.\n"
     ]
    },
    {
     "name": "stdout",
     "output_type": "stream",
     "text": [
      "origin :  AfricanTV signs MOU with entertainment companies to target F&T market\n",
      "cleaned :   아프리카 TV, 엔터테인먼트 기업들과 MOU 체결, F&T 시장 타깃팅\n"
     ]
    },
    {
     "name": "stderr",
     "output_type": "stream",
     "text": [
      "Setting `pad_token_id` to `eos_token_id`:None for open-end generation.\n"
     ]
    },
    {
     "name": "stdout",
     "output_type": "stream",
     "text": [
      "origin :  Korea Aerospace Research Institute Plans to Launch an Artificial Satellite by 2022 in Collaboration with the Korea Astronomy and Space Science Institute\n",
      "cleaned :   한국항공우주연구원, 2022년까지 인공위성 발사 계획 발표...한국천문우주과학연구원과 협력\n"
     ]
    },
    {
     "name": "stderr",
     "output_type": "stream",
     "text": [
      "Setting `pad_token_id` to `eos_token_id`:None for open-end generation.\n"
     ]
    },
    {
     "name": "stdout",
     "output_type": "stream",
     "text": [
      "origin :  Kip G's Amalgamation Development: Ensuring a New Era of Growth\n",
      "cleaned :   Kip G의 융합 개발: 새로운 성장 시대의 보장\n"
     ]
    },
    {
     "name": "stderr",
     "output_type": "stream",
     "text": [
      "Setting `pad_token_id` to `eos_token_id`:None for open-end generation.\n"
     ]
    },
    {
     "name": "stdout",
     "output_type": "stream",
     "text": [
      "origin :  \"Korean Studies Society Presents Research on Alcohol and Food\"\n",
      "cleaned :   \"한국학 연구회, 음주 및 식생활에 대한 연구 발표\" \n"
     ]
    },
    {
     "name": "stderr",
     "output_type": "stream",
     "text": [
      "Setting `pad_token_id` to `eos_token_id`:None for open-end generation.\n"
     ]
    },
    {
     "name": "stdout",
     "output_type": "stream",
     "text": [
      "origin :  Google's AI Evolution: How Far Has It Come? Introducing the New Face and K-Policy\n",
      "cleaned :   구글의 AI 발전: 얼마나 진화했나요? 새로운 얼굴과 K-정책 소개\n"
     ]
    },
    {
     "name": "stderr",
     "output_type": "stream",
     "text": [
      "Setting `pad_token_id` to `eos_token_id`:None for open-end generation.\n"
     ]
    },
    {
     "name": "stdout",
     "output_type": "stream",
     "text": [
      "origin :  제목없음\n",
      "cleaned :   제목 없음\n"
     ]
    },
    {
     "name": "stderr",
     "output_type": "stream",
     "text": [
      "Setting `pad_token_id` to `eos_token_id`:None for open-end generation.\n"
     ]
    },
    {
     "name": "stdout",
     "output_type": "stream",
     "text": [
      "origin :  Samsung Electronics Receives Positive Verdict, Proceeds with Special Recruitment\n",
      "cleaned :   삼성전자 긍정판결 받고 특별채용 진행\n"
     ]
    },
    {
     "name": "stderr",
     "output_type": "stream",
     "text": [
      "Setting `pad_token_id` to `eos_token_id`:None for open-end generation.\n"
     ]
    },
    {
     "name": "stdout",
     "output_type": "stream",
     "text": [
      "origin :  LG Electronics Offers Google Home with Purchase of G6 in the U.S.\n",
      "cleaned :   LG전자, G6 구매시 미국에서 구글 홈 무료 제공\n"
     ]
    },
    {
     "name": "stderr",
     "output_type": "stream",
     "text": [
      "Setting `pad_token_id` to `eos_token_id`:None for open-end generation.\n"
     ]
    },
    {
     "name": "stdout",
     "output_type": "stream",
     "text": [
      "origin :  Tmax AI: Innovating to Enhance the Quality of Life\n",
      "cleaned :   Tmax AI: 삶의 질을 향상시키기 위한 혁신\n"
     ]
    },
    {
     "name": "stderr",
     "output_type": "stream",
     "text": [
      "Setting `pad_token_id` to `eos_token_id`:None for open-end generation.\n"
     ]
    },
    {
     "name": "stdout",
     "output_type": "stream",
     "text": [
      "origin :  제목없음\n",
      "cleaned :   제목 없음\n"
     ]
    },
    {
     "name": "stderr",
     "output_type": "stream",
     "text": [
      "Setting `pad_token_id` to `eos_token_id`:None for open-end generation.\n"
     ]
    },
    {
     "name": "stdout",
     "output_type": "stream",
     "text": [
      "origin :  MWC Ski Jumping Competition Participants\n",
      "cleaned :   스키점프 MWC 대회 참가자들\n"
     ]
    },
    {
     "name": "stderr",
     "output_type": "stream",
     "text": [
      "Setting `pad_token_id` to `eos_token_id`:None for open-end generation.\n"
     ]
    },
    {
     "name": "stdout",
     "output_type": "stream",
     "text": [
      "origin :  A Galaxy S9 in an Illegal Galaxy S9 Store Auctioned for 649 Million KRW\n",
      "cleaned :   불법 갤럭시 S9 매장에서 입찰된 갤럭시 S\n"
     ]
    },
    {
     "name": "stderr",
     "output_type": "stream",
     "text": [
      "Setting `pad_token_id` to `eos_token_id`:None for open-end generation.\n"
     ]
    },
    {
     "name": "stdout",
     "output_type": "stream",
     "text": [
      "origin :  Naver and YouTube's AI N: Second Presentation\n",
      "cleaned :   네이버와 유튜브의 AI N: 두 번째 발표\n"
     ]
    },
    {
     "name": "stderr",
     "output_type": "stream",
     "text": [
      "Setting `pad_token_id` to `eos_token_id`:None for open-end generation.\n"
     ]
    },
    {
     "name": "stdout",
     "output_type": "stream",
     "text": [
      "origin :  Nexon, Strategic Investment in Game Developer iFunnPack\n",
      "cleaned :   넥슨, 게임 개발사 iFunnPack에 전략적 투자\n"
     ]
    },
    {
     "name": "stderr",
     "output_type": "stream",
     "text": [
      "Setting `pad_token_id` to `eos_token_id`:None for open-end generation.\n"
     ]
    },
    {
     "name": "stdout",
     "output_type": "stream",
     "text": [
      "origin :  Google CEO and Top Management Sign Alphabet T with World Companies\n",
      "cleaned :   구글 CEO와 최고경영진, 알파벳 T와 세계 기업들과 계약서에 서명\n"
     ]
    },
    {
     "name": "stderr",
     "output_type": "stream",
     "text": [
      "Setting `pad_token_id` to `eos_token_id`:None for open-end generation.\n"
     ]
    },
    {
     "name": "stdout",
     "output_type": "stream",
     "text": [
      "origin :  Samsung Galaxy Note7 Sales Hit 500,000 Units: What's the Impact on the Secondhand Market?\n",
      "cleaned :   삼성 갤럭시 노트7 판매량 500,000개 돌파: 2차 시장 영향은 어떠할까요?\n"
     ]
    },
    {
     "name": "stderr",
     "output_type": "stream",
     "text": [
      "Setting `pad_token_id` to `eos_token_id`:None for open-end generation.\n"
     ]
    },
    {
     "name": "stdout",
     "output_type": "stream",
     "text": [
      "origin :  800 Million Burdened for 5 Years due to Series Malfunction\n",
      "cleaned :   5년간 8000만 명이 시리즈 장애로 부담\n"
     ]
    },
    {
     "name": "stderr",
     "output_type": "stream",
     "text": [
      "Setting `pad_token_id` to `eos_token_id`:None for open-end generation.\n"
     ]
    },
    {
     "name": "stdout",
     "output_type": "stream",
     "text": [
      "origin :  \"Zhang Xugu Limit Show 8G PCTA Call Video\"\n",
      "cleaned :   \"중국 방송 '장서구 제한 쇼' 8G PCTA 영상 호출\"\n"
     ]
    },
    {
     "name": "stderr",
     "output_type": "stream",
     "text": [
      "Setting `pad_token_id` to `eos_token_id`:None for open-end generation.\n"
     ]
    },
    {
     "name": "stdout",
     "output_type": "stream",
     "text": [
      "origin :  Generation 1020, Watches 44 times for 52 minutes a day on YouTube\n",
      "cleaned :   1020 세대, 하루에 52분 동안 44회 유튜브 시청\n"
     ]
    },
    {
     "name": "stderr",
     "output_type": "stream",
     "text": [
      "Setting `pad_token_id` to `eos_token_id`:None for open-end generation.\n"
     ]
    },
    {
     "name": "stdout",
     "output_type": "stream",
     "text": [
      "origin :  2020 8월, the World 5G Olympic Games is Upon Us\n",
      "cleaned :   2020년 8월, 세계 5G 올림픽이 열리고 있다. \n"
     ]
    },
    {
     "name": "stderr",
     "output_type": "stream",
     "text": [
      "Setting `pad_token_id` to `eos_token_id`:None for open-end generation.\n"
     ]
    },
    {
     "name": "stdout",
     "output_type": "stream",
     "text": [
      "origin :  Digital Newspaper Boxes and Editor's Lengths Are Popular\n",
      "cleaned :   디지털 신문 상자와 편집자의 길이는 인기 있음\n"
     ]
    },
    {
     "name": "stderr",
     "output_type": "stream",
     "text": [
      "Setting `pad_token_id` to `eos_token_id`:None for open-end generation.\n"
     ]
    },
    {
     "name": "stdout",
     "output_type": "stream",
     "text": [
      "origin :  Galaxy S9 Qualcomm J Electronic Package, 5,000 Won Discount Limited Sale\n",
      "cleaned :   갤럭시 S9 퀄컴 J 전자 패키지, 5,000원 할인 한정 판매\n"
     ]
    },
    {
     "name": "stderr",
     "output_type": "stream",
     "text": [
      "Setting `pad_token_id` to `eos_token_id`:None for open-end generation.\n"
     ]
    },
    {
     "name": "stdout",
     "output_type": "stream",
     "text": [
      "origin :  제목없음\n",
      "cleaned :   제목 없음\n"
     ]
    },
    {
     "name": "stderr",
     "output_type": "stream",
     "text": [
      "Setting `pad_token_id` to `eos_token_id`:None for open-end generation.\n"
     ]
    },
    {
     "name": "stdout",
     "output_type": "stream",
     "text": [
      "origin :  S4T Announces Real-Time Language Translation Feature\n",
      "cleaned :   S4T, 실시간 언어 번역 기능 발표\n"
     ]
    },
    {
     "name": "stderr",
     "output_type": "stream",
     "text": [
      "Setting `pad_token_id` to `eos_token_id`:None for open-end generation.\n"
     ]
    },
    {
     "name": "stdout",
     "output_type": "stream",
     "text": [
      "origin :  PCW 5th Global Game Developer VDRI First Time Raises Windows Market Share to XE\n",
      "cleaned :   PCW 5번째 글로벌 게임 개발자 VDRI, 처음으로 윈도우 시장 점유율을 XE로 높입니다.\n"
     ]
    },
    {
     "name": "stderr",
     "output_type": "stream",
     "text": [
      "Setting `pad_token_id` to `eos_token_id`:None for open-end generation.\n"
     ]
    },
    {
     "name": "stdout",
     "output_type": "stream",
     "text": [
      "origin :  代理 Omapone ZW00K 출시, C1 7짜\n",
      "cleaned :   오마폰 ZW00K 출시, C1 7인치 버전\n"
     ]
    },
    {
     "name": "stderr",
     "output_type": "stream",
     "text": [
      "Setting `pad_token_id` to `eos_token_id`:None for open-end generation.\n"
     ]
    },
    {
     "name": "stdout",
     "output_type": "stream",
     "text": [
      "origin :  South Korean Apple and Samsung Electronics are growing faster than Google of Naver\n",
      "cleaned :   삼성전자와 애플, 네이버의 구글보다 빠르게 성장\n"
     ]
    },
    {
     "name": "stderr",
     "output_type": "stream",
     "text": [
      "Setting `pad_token_id` to `eos_token_id`:None for open-end generation.\n"
     ]
    },
    {
     "name": "stdout",
     "output_type": "stream",
     "text": [
      "origin :  Lotte Chilsung Beverage Invests 10 Billion Won in Non-Oil Development\n",
      "cleaned :   롯데칠성음료, 10억 원 투입, 비유제\n"
     ]
    },
    {
     "name": "stderr",
     "output_type": "stream",
     "text": [
      "Setting `pad_token_id` to `eos_token_id`:None for open-end generation.\n"
     ]
    },
    {
     "name": "stdout",
     "output_type": "stream",
     "text": [
      "origin :  WSJ 스크린 5함 0란 갤럭시 폴드 조롱 동상\n",
      "cleaned :   월스트리트 저널 스크린 5함 0란 갤럭시 폴드 조롱 동상\n"
     ]
    },
    {
     "name": "stderr",
     "output_type": "stream",
     "text": [
      "Setting `pad_token_id` to `eos_token_id`:None for open-end generation.\n"
     ]
    },
    {
     "name": "stdout",
     "output_type": "stream",
     "text": [
      "origin :  KT Launches AI TV Ggajini 2\n",
      "cleaned :   KT, AI TV 'Ggajini 2' 출시\n"
     ]
    },
    {
     "name": "stderr",
     "output_type": "stream",
     "text": [
      "Setting `pad_token_id` to `eos_token_id`:None for open-end generation.\n"
     ]
    },
    {
     "name": "stdout",
     "output_type": "stream",
     "text": [
      "origin :  KBS 1TV News at 8:50\n",
      "cleaned :   KBS 1TV 뉴스 8:50\n"
     ]
    },
    {
     "name": "stderr",
     "output_type": "stream",
     "text": [
      "Setting `pad_token_id` to `eos_token_id`:None for open-end generation.\n"
     ]
    },
    {
     "name": "stdout",
     "output_type": "stream",
     "text": [
      "origin :  Samsung Electronics Launches Galaxy S10 Series\n",
      "cleaned :   삼성전자, 갤럭시 S10 시리즈 출시\n"
     ]
    },
    {
     "name": "stderr",
     "output_type": "stream",
     "text": [
      "Setting `pad_token_id` to `eos_token_id`:None for open-end generation.\n"
     ]
    },
    {
     "name": "stdout",
     "output_type": "stream",
     "text": [
      "origin :  World Festival to be Held in Korea and Japan\n",
      "cleaned :   세계 축제가 한국과 일본에서 개최\n"
     ]
    },
    {
     "name": "stderr",
     "output_type": "stream",
     "text": [
      "Setting `pad_token_id` to `eos_token_id`:None for open-end generation.\n"
     ]
    },
    {
     "name": "stdout",
     "output_type": "stream",
     "text": [
      "origin :  Local Transport App Provides Faster Bus Location Information Than Kakao Taxis\n",
      "cleaned :   지역 교통 앱, 카카오 택시보다 빠른 버스 위치 정보 제공\n"
     ]
    },
    {
     "name": "stderr",
     "output_type": "stream",
     "text": [
      "Setting `pad_token_id` to `eos_token_id`:None for open-end generation.\n"
     ]
    },
    {
     "name": "stdout",
     "output_type": "stream",
     "text": [
      "origin :  The Key to Exploring the Cause of Primate Brain Neurological Diseases: Competition\n",
      "cleaned :   영장류 뇌 신경학적 질환 원인을 밝히는 열쇠: 경쟁\n"
     ]
    },
    {
     "name": "stderr",
     "output_type": "stream",
     "text": [
      "Setting `pad_token_id` to `eos_token_id`:None for open-end generation.\n"
     ]
    },
    {
     "name": "stdout",
     "output_type": "stream",
     "text": [
      "origin :  Children's Hygiene Products Can Be Used in the Bathroom\n",
      "cleaned :   \"아동 위생용품은 화장실에서도 사용 가능하다\" \n"
     ]
    },
    {
     "name": "stderr",
     "output_type": "stream",
     "text": [
      "Setting `pad_token_id` to `eos_token_id`:None for open-end generation.\n"
     ]
    },
    {
     "name": "stdout",
     "output_type": "stream",
     "text": [
      "origin :  Nationwide 1,000+ Villages to Improve Infrastructure\n",
      "cleaned :   전국 1,000개 이상의 마을, 인프라 개선 계획 발표\n"
     ]
    },
    {
     "name": "stderr",
     "output_type": "stream",
     "text": [
      "Setting `pad_token_id` to `eos_token_id`:None for open-end generation.\n"
     ]
    },
    {
     "name": "stdout",
     "output_type": "stream",
     "text": [
      "origin :  KT's Y-Day, a shared digital platform app, surpasses 1 million subscribers\n",
      "cleaned :   KT의 Y-데이, 공유 디지털 플랫폼 앱 1백만 명 넘어선다\n"
     ]
    },
    {
     "name": "stderr",
     "output_type": "stream",
     "text": [
      "Setting `pad_token_id` to `eos_token_id`:None for open-end generation.\n"
     ]
    },
    {
     "name": "stdout",
     "output_type": "stream",
     "text": [
      "origin :  Voice and Image B Detection Feature Placed in Bomail\n",
      "cleaned :   보이스 앤 이미지 B 감지 기능이 보메일에 추가\n"
     ]
    },
    {
     "name": "stderr",
     "output_type": "stream",
     "text": [
      "Setting `pad_token_id` to `eos_token_id`:None for open-end generation.\n"
     ]
    },
    {
     "name": "stdout",
     "output_type": "stream",
     "text": [
      "origin :  제목없음\n",
      "cleaned :  \n"
     ]
    },
    {
     "name": "stderr",
     "output_type": "stream",
     "text": [
      "Setting `pad_token_id` to `eos_token_id`:None for open-end generation.\n"
     ]
    },
    {
     "name": "stdout",
     "output_type": "stream",
     "text": [
      "origin :  SKT, Real-Time S0 System with SKT for Phase Disaster Rescue System Construction\n",
      "cleaned :   SKT, 실시간 S0 시스템과 함께 SKT로 인명구조 시스템 구축\n"
     ]
    },
    {
     "name": "stderr",
     "output_type": "stream",
     "text": [
      "Setting `pad_token_id` to `eos_token_id`:None for open-end generation.\n"
     ]
    },
    {
     "name": "stdout",
     "output_type": "stream",
     "text": [
      "origin :  Three companies captivated by the new iPhone 1st generation, Galaxy S1 launched\n",
      "cleaned :   3개 회사, 신형 아이폰 1세대에 매료, 갤럭시 S1 출시\n"
     ]
    },
    {
     "name": "stderr",
     "output_type": "stream",
     "text": [
      "Setting `pad_token_id` to `eos_token_id`:None for open-end generation.\n"
     ]
    },
    {
     "name": "stdout",
     "output_type": "stream",
     "text": [
      "origin :  POSCO Signs Agreement to Develop Advanced Steel System in Kazakhstan\n",
      "cleaned :   POSCO, 카자흐스탄에서 고급강 시스템 개발 협약 체결\n"
     ]
    },
    {
     "name": "stderr",
     "output_type": "stream",
     "text": [
      "Setting `pad_token_id` to `eos_token_id`:None for open-end generation.\n"
     ]
    },
    {
     "name": "stdout",
     "output_type": "stream",
     "text": [
      "origin :  Samsung Galaxy Z Fold 2 Unveiled\n",
      "cleaned :   삼성 갤럭시 Z 폴드2 공개\n"
     ]
    },
    {
     "name": "stderr",
     "output_type": "stream",
     "text": [
      "Setting `pad_token_id` to `eos_token_id`:None for open-end generation.\n"
     ]
    },
    {
     "name": "stdout",
     "output_type": "stream",
     "text": [
      "origin :  Announcement of the Candidate for the Mayor of Anseong City\n",
      "cleaned :   안성시장 후보 발표\n"
     ]
    },
    {
     "name": "stderr",
     "output_type": "stream",
     "text": [
      "Setting `pad_token_id` to `eos_token_id`:None for open-end generation.\n"
     ]
    },
    {
     "name": "stdout",
     "output_type": "stream",
     "text": [
      "origin :  Nerve Realignment Surgery for Both Legs\n",
      "cleaned :   양쪽 다리의 신경 정렬 수술\n"
     ]
    },
    {
     "name": "stderr",
     "output_type": "stream",
     "text": [
      "Setting `pad_token_id` to `eos_token_id`:None for open-end generation.\n"
     ]
    },
    {
     "name": "stdout",
     "output_type": "stream",
     "text": [
      "origin :  E-Net 5 Data Utilization: Eon-Ae Art Group Meeting\n",
      "cleaned :   이온-아트 그룹 회의: E-Net 5 데이터 활용\n"
     ]
    },
    {
     "name": "stderr",
     "output_type": "stream",
     "text": [
      "Setting `pad_token_id` to `eos_token_id`:None for open-end generation.\n"
     ]
    },
    {
     "name": "stdout",
     "output_type": "stream",
     "text": [
      "origin :  Samsung Galaxy S6 with 5K Super AMOLED Display, Set for Release in February 2015\n",
      "cleaned :   삼성 갤럭시 S6, 5K 슈퍼 AMOLED 디스플레이 탑재, 2015년 2월 출시 예정\n"
     ]
    },
    {
     "name": "stderr",
     "output_type": "stream",
     "text": [
      "Setting `pad_token_id` to `eos_token_id`:None for open-end generation.\n"
     ]
    },
    {
     "name": "stdout",
     "output_type": "stream",
     "text": [
      "origin :  A 4-part 6-episode short film shot in LHEVK0 became a hot topic at the New York Film Festival.\n",
      "cleaned :   \"6부작 4부작 단편 영화, LHEVK0에서 촬영, 뉴욕 영화제에서 화제\"\n"
     ]
    },
    {
     "name": "stderr",
     "output_type": "stream",
     "text": [
      "Setting `pad_token_id` to `eos_token_id`:None for open-end generation.\n"
     ]
    },
    {
     "name": "stdout",
     "output_type": "stream",
     "text": [
      "origin :   Will the Samsung Galaxy S8 Be Released in a Bezel-Less Version? \n",
      "cleaned :   삼성 갤럭시 S8, 베젤리스 버전 출시될까?\n"
     ]
    },
    {
     "name": "stderr",
     "output_type": "stream",
     "text": [
      "Setting `pad_token_id` to `eos_token_id`:None for open-end generation.\n"
     ]
    },
    {
     "name": "stdout",
     "output_type": "stream",
     "text": [
      "origin :  Free Korea Party MPs head to the National Assembly for a July 7th Interpellation Session\n",
      "cleaned :   7월 7일 국회 여당 의원들, 자유한국당 의원들, 국회 상임위원회 청문회 참석\n"
     ]
    },
    {
     "name": "stderr",
     "output_type": "stream",
     "text": [
      "Setting `pad_token_id` to `eos_token_id`:None for open-end generation.\n"
     ]
    },
    {
     "name": "stdout",
     "output_type": "stream",
     "text": [
      "origin :  2018-2019 KB Kookmin Bank Women's Basketball Season Ticket Sales Begin on November 11\n",
      "cleaned :   2018-2019 KB국민은행 여자농구 시즌권 판매, 11월 11일 시작\n"
     ]
    },
    {
     "name": "stderr",
     "output_type": "stream",
     "text": [
      "Setting `pad_token_id` to `eos_token_id`:None for open-end generation.\n"
     ]
    },
    {
     "name": "stdout",
     "output_type": "stream",
     "text": [
      "origin :  Samsung Galaxy Watch 4 to be released in the 28,000 won range\n",
      "cleaned :   삼성 갤럭시 워치4 출시 예정, 28,000원대\n"
     ]
    },
    {
     "name": "stderr",
     "output_type": "stream",
     "text": [
      "Setting `pad_token_id` to `eos_token_id`:None for open-end generation.\n"
     ]
    },
    {
     "name": "stdout",
     "output_type": "stream",
     "text": [
      "origin :  제목없음\n",
      "cleaned :   제목 없음\n"
     ]
    },
    {
     "name": "stderr",
     "output_type": "stream",
     "text": [
      "Setting `pad_token_id` to `eos_token_id`:None for open-end generation.\n"
     ]
    },
    {
     "name": "stdout",
     "output_type": "stream",
     "text": [
      "origin :  제목없음\n",
      "cleaned :   제목 없음\n"
     ]
    },
    {
     "name": "stderr",
     "output_type": "stream",
     "text": [
      "Setting `pad_token_id` to `eos_token_id`:None for open-end generation.\n"
     ]
    },
    {
     "name": "stdout",
     "output_type": "stream",
     "text": [
      "origin :  The Veiled Top I-Type Robot, the First to Depart for the Pyeongchang Olympic Torch Relay\n",
      "cleaned :   피에르 탑 I형 로봇,\n"
     ]
    },
    {
     "name": "stderr",
     "output_type": "stream",
     "text": [
      "Setting `pad_token_id` to `eos_token_id`:None for open-end generation.\n"
     ]
    },
    {
     "name": "stdout",
     "output_type": "stream",
     "text": [
      "origin :  AI from Japan Ranks 1st in the World Top 8 Countries\n",
      "cleaned :   AI 일본 기술 1위 세계 8대 국\n"
     ]
    },
    {
     "name": "stderr",
     "output_type": "stream",
     "text": [
      "Setting `pad_token_id` to `eos_token_id`:None for open-end generation.\n"
     ]
    },
    {
     "name": "stdout",
     "output_type": "stream",
     "text": [
      "origin :  A Large-Bodied Dinosaur with Horned Noses is Abundant\n",
      "cleaned :   뿔이 있는 큰 몸집의 공룡이 풍부하다.\n"
     ]
    },
    {
     "name": "stderr",
     "output_type": "stream",
     "text": [
      "Setting `pad_token_id` to `eos_token_id`:None for open-end generation.\n"
     ]
    },
    {
     "name": "stdout",
     "output_type": "stream",
     "text": [
      "origin :  Mold Found 10 Years Ago, a Health Hazard\n",
      "cleaned :   10년 전에 발견된 미세균: 건강위험\n"
     ]
    },
    {
     "name": "stderr",
     "output_type": "stream",
     "text": [
      "Setting `pad_token_id` to `eos_token_id`:None for open-end generation.\n"
     ]
    },
    {
     "name": "stdout",
     "output_type": "stream",
     "text": [
      "origin :  LKT Electric Car Idea Presentation\n",
      "cleaned :   LKT 전기차 아이디어 제시\n"
     ]
    },
    {
     "name": "stderr",
     "output_type": "stream",
     "text": [
      "Setting `pad_token_id` to `eos_token_id`:None for open-end generation.\n"
     ]
    },
    {
     "name": "stdout",
     "output_type": "stream",
     "text": [
      "origin :  제목없음\n",
      "cleaned :   제목 없음\n"
     ]
    },
    {
     "name": "stderr",
     "output_type": "stream",
     "text": [
      "Setting `pad_token_id` to `eos_token_id`:None for open-end generation.\n"
     ]
    },
    {
     "name": "stdout",
     "output_type": "stream",
     "text": [
      "origin :  KB Kookmin Bank and Kiwoom Securities Jointly Develop Next-Generation Hotel System\n",
      "cleaned :   KB국민은행, 키움증권, 호텔업계의 미래를 위한 차세대 시스템 개발 협력\n"
     ]
    },
    {
     "name": "stderr",
     "output_type": "stream",
     "text": [
      "Setting `pad_token_id` to `eos_token_id`:None for open-end generation.\n"
     ]
    },
    {
     "name": "stdout",
     "output_type": "stream",
     "text": [
      "origin :  Ministry of Science and ICT Focused on the K-Market\n",
      "cleaned :   과기정상 Focused on K-Market\n"
     ]
    },
    {
     "name": "stderr",
     "output_type": "stream",
     "text": [
      "Setting `pad_token_id` to `eos_token_id`:None for open-end generation.\n"
     ]
    },
    {
     "name": "stdout",
     "output_type": "stream",
     "text": [
      "origin :  Nikon D850's Successor to Be Released Soon\n",
      "cleaned :   니콘 D850의 후속 모델 곧 출시\n"
     ]
    },
    {
     "name": "stderr",
     "output_type": "stream",
     "text": [
      "Setting `pad_token_id` to `eos_token_id`:None for open-end generation.\n"
     ]
    },
    {
     "name": "stdout",
     "output_type": "stream",
     "text": [
      "origin :  The Korean DOI Center Manages Digital Objects in Korea\n",
      "cleaned :   한국 DOI 센터, 한국 디지털 객체 관리\n"
     ]
    },
    {
     "name": "stderr",
     "output_type": "stream",
     "text": [
      "Setting `pad_token_id` to `eos_token_id`:None for open-end generation.\n"
     ]
    },
    {
     "name": "stdout",
     "output_type": "stream",
     "text": [
      "origin :  The Samsung Galaxy J8's Lite Model, ZE72, Launches for $B1,000\n",
      "cleaned :   삼성 갤럭시 J8의 라이트 모델, ZE72 출시, 1,000원\n"
     ]
    },
    {
     "name": "stderr",
     "output_type": "stream",
     "text": [
      "Setting `pad_token_id` to `eos_token_id`:None for open-end generation.\n"
     ]
    },
    {
     "name": "stdout",
     "output_type": "stream",
     "text": [
      "origin :   AT Commander, Secretary's Office of President Moon Jae-in in Jongno Head Office \n",
      "cleaned :    문재인 대통령의 청와대 정훈실장, 종로 본부 방문\n"
     ]
    },
    {
     "name": "stderr",
     "output_type": "stream",
     "text": [
      "Setting `pad_token_id` to `eos_token_id`:None for open-end generation.\n"
     ]
    },
    {
     "name": "stdout",
     "output_type": "stream",
     "text": [
      "origin :  Galaxy S8 1st unit activated, 5-day camping at Seoul Subway Line 1 in front of Seoul Station\n",
      "cleaned :   갤럭시S8 첫 단위 활성화, 서울역 앞 지하철 1호선 5일간 캠프\n"
     ]
    },
    {
     "name": "stderr",
     "output_type": "stream",
     "text": [
      "Setting `pad_token_id` to `eos_token_id`:None for open-end generation.\n"
     ]
    },
    {
     "name": "stdout",
     "output_type": "stream",
     "text": [
      "origin :  The Efficiency of Korean Organic Solar Cells Has Been Improved Five Times\n",
      "cleaned :   한국 유기 태양전지의 효율이 5배 향상됨\n"
     ]
    },
    {
     "name": "stderr",
     "output_type": "stream",
     "text": [
      "Setting `pad_token_id` to `eos_token_id`:None for open-end generation.\n"
     ]
    },
    {
     "name": "stdout",
     "output_type": "stream",
     "text": [
      "origin :  2022 Outlook for Korea's ICT Industry: LGK Telecom Companies to Invest 2 Trillion Won\n",
      "cleaned :   2022년 한국 ICT 산업 전망: LGK 통신 기업, 2조 원 투자\n"
     ]
    },
    {
     "name": "stderr",
     "output_type": "stream",
     "text": [
      "Setting `pad_token_id` to `eos_token_id`:None for open-end generation.\n"
     ]
    },
    {
     "name": "stdout",
     "output_type": "stream",
     "text": [
      "origin :  In 5 Years, Gucheon to Sign a 9 Trillion Won R&D Parent-Teacher Agreement\n",
      "cleaned :   5년 뒤, 구천이 9조 원 R&D 부모-교사 협약을 체결할 예정입니다.\n"
     ]
    },
    {
     "name": "stderr",
     "output_type": "stream",
     "text": [
      "Setting `pad_token_id` to `eos_token_id`:None for open-end generation.\n"
     ]
    },
    {
     "name": "stdout",
     "output_type": "stream",
     "text": [
      "origin :  Samsung Galaxy Note 7 Explodes\n",
      "cleaned :   삼성 갤럭시 노트7 폭발\n"
     ]
    },
    {
     "name": "stderr",
     "output_type": "stream",
     "text": [
      "Setting `pad_token_id` to `eos_token_id`:None for open-end generation.\n"
     ]
    },
    {
     "name": "stdout",
     "output_type": "stream",
     "text": [
      "origin :  Inn Inn's Postal Code 9 Unpacked\n",
      "cleaned :   인인의 우편번호 9는 풀렸다.\n"
     ]
    },
    {
     "name": "stderr",
     "output_type": "stream",
     "text": [
      "Setting `pad_token_id` to `eos_token_id`:None for open-end generation.\n"
     ]
    },
    {
     "name": "stdout",
     "output_type": "stream",
     "text": [
      "origin :  L Electronics Begins Pre-Reservation Sales for UVrpQ Synchronous Communication System\n",
      "cleaned :  \n"
     ]
    },
    {
     "name": "stderr",
     "output_type": "stream",
     "text": [
      "Setting `pad_token_id` to `eos_token_id`:None for open-end generation.\n"
     ]
    },
    {
     "name": "stdout",
     "output_type": "stream",
     "text": [
      "origin :  Vessel depressions are mosaicked\n",
      "cleaned :   선박 침몰은 겹쳐진다\n"
     ]
    },
    {
     "name": "stderr",
     "output_type": "stream",
     "text": [
      "Setting `pad_token_id` to `eos_token_id`:None for open-end generation.\n"
     ]
    },
    {
     "name": "stdout",
     "output_type": "stream",
     "text": [
      "origin :  Nexon GT's Overseas Expansion, Launch of Hangeul6 Inevitable\n",
      "cleaned :   넥슨GT의 해외 확장, 한글6 출시 불가피\n"
     ]
    },
    {
     "name": "stderr",
     "output_type": "stream",
     "text": [
      "Setting `pad_token_id` to `eos_token_id`:None for open-end generation.\n"
     ]
    },
    {
     "name": "stdout",
     "output_type": "stream",
     "text": [
      "origin :  In the body, 0.9g of HHX is confirmed\n",
      "cleaned :   신체 내에서 0.9g의 HHX 확인됨\n"
     ]
    },
    {
     "name": "stderr",
     "output_type": "stream",
     "text": [
      "Setting `pad_token_id` to `eos_token_id`:None for open-end generation.\n"
     ]
    },
    {
     "name": "stdout",
     "output_type": "stream",
     "text": [
      "origin :  Legislation on legal punishment for malicious drones and IoT devices is being considered\n",
      "cleaned :   악의적인 드론과 IoT 기기의 법적 처벌에 관한 법률이 논의 중입니다. \n"
     ]
    },
    {
     "name": "stderr",
     "output_type": "stream",
     "text": [
      "Setting `pad_token_id` to `eos_token_id`:None for open-end generation.\n"
     ]
    },
    {
     "name": "stdout",
     "output_type": "stream",
     "text": [
      "origin :  T1X Watch Grows as Apple Watch Competitor\n",
      "cleaned :   애플워치의 경쟁자로 성장하는 T1X 워치\n"
     ]
    },
    {
     "name": "stderr",
     "output_type": "stream",
     "text": [
      "Setting `pad_token_id` to `eos_token_id`:None for open-end generation.\n"
     ]
    },
    {
     "name": "stdout",
     "output_type": "stream",
     "text": [
      "origin :  5G Core Chip Development Achieves 9V Performance\n",
      "cleaned :   5G 코어 칩 개발, 9V 성능 달성\n"
     ]
    },
    {
     "name": "stderr",
     "output_type": "stream",
     "text": [
      "Setting `pad_token_id` to `eos_token_id`:None for open-end generation.\n"
     ]
    },
    {
     "name": "stdout",
     "output_type": "stream",
     "text": [
      "origin :  Cognex O5, 2 Horsepower in the Liquor Mart Factory Announcement\n",
      "cleaned :   퀀텍스 O5, 2마력의 술 마트 공장 발표\n"
     ]
    },
    {
     "name": "stderr",
     "output_type": "stream",
     "text": [
      "Setting `pad_token_id` to `eos_token_id`:None for open-end generation.\n"
     ]
    },
    {
     "name": "stdout",
     "output_type": "stream",
     "text": [
      "origin :  Out of 20 million internet users nationwide, 1 in 1,600 is an ad streaming user.\n",
      "cleaned :   전국 인터넷 사용자 20만 명 중 1명 중 1,\n"
     ]
    },
    {
     "name": "stderr",
     "output_type": "stream",
     "text": [
      "Setting `pad_token_id` to `eos_token_id`:None for open-end generation.\n"
     ]
    },
    {
     "name": "stdout",
     "output_type": "stream",
     "text": [
      "origin :  KT to Offer Advanced Undersea Internet Service to MZ Generation\n",
      "cleaned :   KT, MZ 세대에게 고급 해저 인터넷 서비스 제공\n"
     ]
    },
    {
     "name": "stderr",
     "output_type": "stream",
     "text": [
      "Setting `pad_token_id` to `eos_token_id`:None for open-end generation.\n"
     ]
    },
    {
     "name": "stdout",
     "output_type": "stream",
     "text": [
      "origin :  Hologram Technology Introduced at 2022 Rio Olympics\n",
      "cleaned :   2022년 리우 올림픽에서 홀로그램 기술 소개\n"
     ]
    },
    {
     "name": "stderr",
     "output_type": "stream",
     "text": [
      "Setting `pad_token_id` to `eos_token_id`:None for open-end generation.\n"
     ]
    },
    {
     "name": "stdout",
     "output_type": "stream",
     "text": [
      "origin :  P&G Electronics Promotes Construction of New Office in Yeongdeungpo District\n",
      "cleaned :   프로cter & Gamble 전자부문, 연동포구 신규 사무소 건립 촉진\n"
     ]
    },
    {
     "name": "stderr",
     "output_type": "stream",
     "text": [
      "Setting `pad_token_id` to `eos_token_id`:None for open-end generation.\n"
     ]
    },
    {
     "name": "stdout",
     "output_type": "stream",
     "text": [
      "origin :  Limited Edition LG 42P T4GZ Model Verified\n",
      "cleaned :   제한판 LG 42P T4GZ 모델 인증\n"
     ]
    },
    {
     "name": "stderr",
     "output_type": "stream",
     "text": [
      "Setting `pad_token_id` to `eos_token_id`:None for open-end generation.\n"
     ]
    },
    {
     "name": "stdout",
     "output_type": "stream",
     "text": [
      "origin :  Future Vehicle Technology Showcased by Iron Boy 4\n",
      "cleaned :   철인 4의 미래 차량 기술 공개\n"
     ]
    },
    {
     "name": "stderr",
     "output_type": "stream",
     "text": [
      "Setting `pad_token_id` to `eos_token_id`:None for open-end generation.\n"
     ]
    },
    {
     "name": "stdout",
     "output_type": "stream",
     "text": [
      "origin :  South Korean Religious Group Plans to Build Wind Farm in Open Field at Q1\n",
      "cleaned :   한국의 종교단체, 1분기 오픈 필드에서\n"
     ]
    },
    {
     "name": "stderr",
     "output_type": "stream",
     "text": [
      "Setting `pad_token_id` to `eos_token_id`:None for open-end generation.\n"
     ]
    },
    {
     "name": "stdout",
     "output_type": "stream",
     "text": [
      "origin :  Mobile Phone Service in Mapo-gu is Packed with Complaints\n",
      "cleaned :   마포구 모바일폰 서비스에 불만 터져나오다\n"
     ]
    },
    {
     "name": "stderr",
     "output_type": "stream",
     "text": [
      "Setting `pad_token_id` to `eos_token_id`:None for open-end generation.\n"
     ]
    },
    {
     "name": "stdout",
     "output_type": "stream",
     "text": [
      "origin :  Academic Revolution: Approval of the Third Semester Budget Plan for the 3rd Ability Development Program\n",
      "cleaned :   학문 혁명: 3차 능력 개발 프로그램 3학기 예산안 승인\n"
     ]
    },
    {
     "name": "stderr",
     "output_type": "stream",
     "text": [
      "Setting `pad_token_id` to `eos_token_id`:None for open-end generation.\n"
     ]
    },
    {
     "name": "stdout",
     "output_type": "stream",
     "text": [
      "origin :  Kakao to Send Royalties\n",
      "cleaned :   카카오, 로열티 지불\n"
     ]
    },
    {
     "name": "stderr",
     "output_type": "stream",
     "text": [
      "Setting `pad_token_id` to `eos_token_id`:None for open-end generation.\n"
     ]
    },
    {
     "name": "stdout",
     "output_type": "stream",
     "text": [
      "origin :  Eyes Can't Fool Financial Authorities: Young People Ask for Real Answers\n",
      "cleaned :   눈으로 속이지 못하는 금융당국: 젊은\n"
     ]
    },
    {
     "name": "stderr",
     "output_type": "stream",
     "text": [
      "Setting `pad_token_id` to `eos_token_id`:None for open-end generation.\n"
     ]
    },
    {
     "name": "stdout",
     "output_type": "stream",
     "text": [
      "origin :  SK Telecom to Discontinue 4G Services in EJ Along with 5G\n",
      "cleaned :   SK텔레콤, 5G와 함께 EJ에서 4G 서비스 중단\n"
     ]
    },
    {
     "name": "stderr",
     "output_type": "stream",
     "text": [
      "Setting `pad_token_id` to `eos_token_id`:None for open-end generation.\n"
     ]
    },
    {
     "name": "stdout",
     "output_type": "stream",
     "text": [
      "origin :  Samsung Electronics Breaks Smart TV 3-Set Sales Record\n",
      "cleaned :   삼성전자, 스마트 TV 3개 세트 판매 기록 경신했다\n"
     ]
    },
    {
     "name": "stderr",
     "output_type": "stream",
     "text": [
      "Setting `pad_token_id` to `eos_token_id`:None for open-end generation.\n"
     ]
    },
    {
     "name": "stdout",
     "output_type": "stream",
     "text": [
      "origin :  C-net, Korean No. 1 Internet Service Provider, Sees 100,000 Subscribers, LH in Crisis\n",
      "cleaned :   케이넷, 한국 인터넷 서비스 제공업체 1위, 100,000명의 가입\n"
     ]
    },
    {
     "name": "stderr",
     "output_type": "stream",
     "text": [
      "Setting `pad_token_id` to `eos_token_id`:None for open-end generation.\n"
     ]
    },
    {
     "name": "stdout",
     "output_type": "stream",
     "text": [
      "origin :  U.S. mWAVE sanctions may hinder LNH OG network construction\n",
      "cleaned :   미국의 mWAVE 제재로 인해 LNH OG 네트워크 구축에 지장이 있을 수 있음\n"
     ]
    },
    {
     "name": "stderr",
     "output_type": "stream",
     "text": [
      "Setting `pad_token_id` to `eos_token_id`:None for open-end generation.\n"
     ]
    },
    {
     "name": "stdout",
     "output_type": "stream",
     "text": [
      "origin :  Samsung's Future Technology Promotion Team Selected\n",
      "cleaned :   삼성의 미래 기술 홍보팀 선발\n"
     ]
    },
    {
     "name": "stderr",
     "output_type": "stream",
     "text": [
      "Setting `pad_token_id` to `eos_token_id`:None for open-end generation.\n"
     ]
    },
    {
     "name": "stdout",
     "output_type": "stream",
     "text": [
      "origin :  2018 Pyeongchang Winter Olympics Preparation Complete\n",
      "cleaned :   2018 평창 동계올림픽 준비 완료\n"
     ]
    },
    {
     "name": "stderr",
     "output_type": "stream",
     "text": [
      "Setting `pad_token_id` to `eos_token_id`:None for open-end generation.\n"
     ]
    },
    {
     "name": "stdout",
     "output_type": "stream",
     "text": [
      "origin :  S8T, a dialogue-based navigation system, is released. \n",
      "cleaned :   대화 기반의 S8T 지도가 출시되다.\n"
     ]
    },
    {
     "name": "stderr",
     "output_type": "stream",
     "text": [
      "Setting `pad_token_id` to `eos_token_id`:None for open-end generation.\n"
     ]
    },
    {
     "name": "stdout",
     "output_type": "stream",
     "text": [
      "origin :  Baby Idol Star Turns 1 Month Old Today!\n",
      "cleaned :   오늘 1개월 된 아기 아이돌 스타!\n"
     ]
    },
    {
     "name": "stderr",
     "output_type": "stream",
     "text": [
      "Setting `pad_token_id` to `eos_token_id`:None for open-end generation.\n"
     ]
    },
    {
     "name": "stdout",
     "output_type": "stream",
     "text": [
      "origin :  The police introduce AI KAI-ME 3bot, which has a conversation with a counselor through AI camera and AI messenger\n",
      "cleaned :   경찰, AI 카이-미 3봇 도입... AI 카메라와 AI 메신저로 상담사와 대화\n"
     ]
    },
    {
     "name": "stderr",
     "output_type": "stream",
     "text": [
      "Setting `pad_token_id` to `eos_token_id`:None for open-end generation.\n"
     ]
    },
    {
     "name": "stdout",
     "output_type": "stream",
     "text": [
      "origin :  iBooks CEO Visits Korea, SKB Explains 7 Controversial Issues on Facebook\n",
      "cleaned :   iBooks CEO, 한국 방문 중 SKB가 7가지 논란을 설명하는 Facebook\n"
     ]
    },
    {
     "name": "stderr",
     "output_type": "stream",
     "text": [
      "Setting `pad_token_id` to `eos_token_id`:None for open-end generation.\n"
     ]
    },
    {
     "name": "stdout",
     "output_type": "stream",
     "text": [
      "origin :  KT's Battery-Saving Technology Lets You Use Galaxy S9 for 55% More\n",
      "cleaned :   삼성 갤럭시 S9의 배터리 절약 기술로 55% 더 오래 사용 가능\n"
     ]
    },
    {
     "name": "stderr",
     "output_type": "stream",
     "text": [
      "Setting `pad_token_id` to `eos_token_id`:None for open-end generation.\n"
     ]
    },
    {
     "name": "stdout",
     "output_type": "stream",
     "text": [
      "origin :  Samsung Galaxy Note 7 Launch Gains High Consumer Response in China Market\n",
      "cleaned :   삼성 갤럭시 노트7 출시, 중국 시장에서 높은 소비자 반응 얻음\n"
     ]
    },
    {
     "name": "stderr",
     "output_type": "stream",
     "text": [
      "Setting `pad_token_id` to `eos_token_id`:None for open-end generation.\n"
     ]
    },
    {
     "name": "stdout",
     "output_type": "stream",
     "text": [
      "origin :  95-Year-Old Shu-Tao Gu, Owner of Shu-Tao Tennis Club, to Appear in Seoul\n",
      "cleaned :   95세의 슈타오 구, 슈타오 테니스 클럽의 주인이 서울에서 등장한다. \n"
     ]
    },
    {
     "name": "stderr",
     "output_type": "stream",
     "text": [
      "Setting `pad_token_id` to `eos_token_id`:None for open-end generation.\n"
     ]
    },
    {
     "name": "stdout",
     "output_type": "stream",
     "text": [
      "origin :  35G Speed Evaluation Report: Reliability Re-Evaluation\n",
      "cleaned :   35G 속도 평가 보고서: 신뢰성 재평가\n"
     ]
    },
    {
     "name": "stderr",
     "output_type": "stream",
     "text": [
      "Setting `pad_token_id` to `eos_token_id`:None for open-end generation.\n"
     ]
    },
    {
     "name": "stdout",
     "output_type": "stream",
     "text": [
      "origin :   Ryu Hyun-jin Felt Pain in His 100th Start, Voluntarily Left the Game After 1 1/3 Innings \n",
      "cleaned :   류현진, 100번째 경기서 통증 느껴 경기 중퇴 \n"
     ]
    },
    {
     "name": "stderr",
     "output_type": "stream",
     "text": [
      "Setting `pad_token_id` to `eos_token_id`:None for open-end generation.\n"
     ]
    },
    {
     "name": "stdout",
     "output_type": "stream",
     "text": [
      "origin :  Galaxy S4 Device Breaks 22,000 Sales on the First Day of the Holiday, Will It Be a Hit?\n",
      "cleaned :   갤럭시 S4 장치가 첫날 휴일 판매\n"
     ]
    },
    {
     "name": "stderr",
     "output_type": "stream",
     "text": [
      "Setting `pad_token_id` to `eos_token_id`:None for open-end generation.\n"
     ]
    },
    {
     "name": "stdout",
     "output_type": "stream",
     "text": [
      "origin :  KT Aims to Increase Patients with Bb Xlephon by Early 2023\n",
      "cleaned :   KT, 2023년 초까지 Bb Xlephon 사용자 증가 계획\n"
     ]
    },
    {
     "name": "stderr",
     "output_type": "stream",
     "text": [
      "Setting `pad_token_id` to `eos_token_id`:None for open-end generation.\n"
     ]
    },
    {
     "name": "stdout",
     "output_type": "stream",
     "text": [
      "origin :  2022 Summer Camp Hosted by the Ministry of Science and ICT\n",
      "cleaned :   2022년 과학기술정보통신부 주최 여름 캠프\n"
     ]
    },
    {
     "name": "stderr",
     "output_type": "stream",
     "text": [
      "Setting `pad_token_id` to `eos_token_id`:None for open-end generation.\n"
     ]
    },
    {
     "name": "stdout",
     "output_type": "stream",
     "text": [
      "origin :  2022 AI Health Counseling Rates Announced\n",
      "cleaned :   2022 AI 건강 상담 요금 발표\n"
     ]
    },
    {
     "name": "stderr",
     "output_type": "stream",
     "text": [
      "Setting `pad_token_id` to `eos_token_id`:None for open-end generation.\n"
     ]
    },
    {
     "name": "stdout",
     "output_type": "stream",
     "text": [
      "origin :  SK Telecom Develops IT Services Using Corporate H-Type Large Houses\n",
      "cleaned :   SK텔레콤, 기업 H형 대형주택을 활용한 IT 서비스 개발\n"
     ]
    },
    {
     "name": "stderr",
     "output_type": "stream",
     "text": [
      "Setting `pad_token_id` to `eos_token_id`:None for open-end generation.\n"
     ]
    },
    {
     "name": "stdout",
     "output_type": "stream",
     "text": [
      "origin :  Two Hospitals Caught Illegally Storing Items\n",
      "cleaned :   두 병원이 불법으로 물품을 저장하다\n"
     ]
    },
    {
     "name": "stderr",
     "output_type": "stream",
     "text": [
      "Setting `pad_token_id` to `eos_token_id`:None for open-end generation.\n"
     ]
    },
    {
     "name": "stdout",
     "output_type": "stream",
     "text": [
      "origin :  Pokémon GO app, Sweet Home 3, released, topping the overall game chart at 2nd place.\n",
      "cleaned :   포켓몬 GO 앱, 스위트 홈 3, 출시, 전체 게임 차트 2위에 올랐다.\n"
     ]
    },
    {
     "name": "stderr",
     "output_type": "stream",
     "text": [
      "Setting `pad_token_id` to `eos_token_id`:None for open-end generation.\n"
     ]
    },
    {
     "name": "stdout",
     "output_type": "stream",
     "text": [
      "origin :  IBM 7/1/2023: Q1 Business Performance Announcement\n",
      "cleaned :   IBM, 1분기 사업 성과 발표\n"
     ]
    },
    {
     "name": "stderr",
     "output_type": "stream",
     "text": [
      "Setting `pad_token_id` to `eos_token_id`:None for open-end generation.\n"
     ]
    },
    {
     "name": "stdout",
     "output_type": "stream",
     "text": [
      "origin :  The Samsung Galaxy Note 8 is set to face off against the iPhone X.\n",
      "cleaned :   삼성 갤럭시 노트 8, 아이폰 X와 대결을 준비한다.\n"
     ]
    },
    {
     "name": "stderr",
     "output_type": "stream",
     "text": [
      "Setting `pad_token_id` to `eos_token_id`:None for open-end generation.\n"
     ]
    },
    {
     "name": "stdout",
     "output_type": "stream",
     "text": [
      "origin :  AI Boosts Work Efficiency\n",
      "cleaned :   AI, 업무 효율성을 높\n"
     ]
    },
    {
     "name": "stderr",
     "output_type": "stream",
     "text": [
      "Setting `pad_token_id` to `eos_token_id`:None for open-end generation.\n"
     ]
    },
    {
     "name": "stdout",
     "output_type": "stream",
     "text": [
      "origin :  CIA's Q Operation Climate Crisis Investigation Fails\n",
      "cleaned :   CIA의 Q 작전 기후 위기 조사 실패\n"
     ]
    },
    {
     "name": "stderr",
     "output_type": "stream",
     "text": [
      "Setting `pad_token_id` to `eos_token_id`:None for open-end generation.\n"
     ]
    },
    {
     "name": "stdout",
     "output_type": "stream",
     "text": [
      "origin :  J8 Summit Office in the U.S. Entrusted for 5 Years, Wide-ranging Organization\n",
      "cleaned :   미국의 J8 정상회담 사무국, 5년간 맡아 전방위적 조직화\n"
     ]
    },
    {
     "name": "stderr",
     "output_type": "stream",
     "text": [
      "Setting `pad_token_id` to `eos_token_id`:None for open-end generation.\n"
     ]
    },
    {
     "name": "stdout",
     "output_type": "stream",
     "text": [
      "origin :  G4 8C Network Problem of Cafe 140R Type Communication\n",
      "cleaned :   카페 140R형 통신의 G4 8C 네트워크 문제\n"
     ]
    },
    {
     "name": "stderr",
     "output_type": "stream",
     "text": [
      "Setting `pad_token_id` to `eos_token_id`:None for open-end generation.\n"
     ]
    },
    {
     "name": "stdout",
     "output_type": "stream",
     "text": [
      "origin :  Galaxy Note7 Accident Response Meeting\n",
      "cleaned :   갤럭시 노트7 사고 대응 회의\n"
     ]
    },
    {
     "name": "stderr",
     "output_type": "stream",
     "text": [
      "Setting `pad_token_id` to `eos_token_id`:None for open-end generation.\n"
     ]
    },
    {
     "name": "stdout",
     "output_type": "stream",
     "text": [
      "origin :  Google Jii Diagnosis: Assistant Role for X Department That Cannot Practice Medicine\n",
      "cleaned :   구글 지이 진단: 의학을 실천할 수 없는 X부서에 보조 역할을 할 의사\n"
     ]
    },
    {
     "name": "stderr",
     "output_type": "stream",
     "text": [
      "Setting `pad_token_id` to `eos_token_id`:None for open-end generation.\n"
     ]
    },
    {
     "name": "stdout",
     "output_type": "stream",
     "text": [
      "origin :  Samsung Galaxy J5 Launches in Southeast Asian Market\n",
      "cleaned :   삼성 갤럭시 J5, 동\n"
     ]
    },
    {
     "name": "stderr",
     "output_type": "stream",
     "text": [
      "Setting `pad_token_id` to `eos_token_id`:None for open-end generation.\n"
     ]
    },
    {
     "name": "stdout",
     "output_type": "stream",
     "text": [
      "origin :  Kakao Pay Expands 6 Certified AI Services\n",
      "cleaned :   카카오페이, 6개 AI 인증 서비스 확장\n"
     ]
    },
    {
     "name": "stderr",
     "output_type": "stream",
     "text": [
      "Setting `pad_token_id` to `eos_token_id`:None for open-end generation.\n"
     ]
    },
    {
     "name": "stdout",
     "output_type": "stream",
     "text": [
      "origin :  News About New York\n",
      "cleaned :   뉴욕 뉴스\n"
     ]
    },
    {
     "name": "stderr",
     "output_type": "stream",
     "text": [
      "Setting `pad_token_id` to `eos_token_id`:None for open-end generation.\n"
     ]
    },
    {
     "name": "stdout",
     "output_type": "stream",
     "text": [
      "origin :  8 Missing Persons Identified, 5 Found in Pohang Area\n",
      "cleaned :   포항 지역에서 8명 발견, 5명 확인\n"
     ]
    },
    {
     "name": "stderr",
     "output_type": "stream",
     "text": [
      "Setting `pad_token_id` to `eos_token_id`:None for open-end generation.\n"
     ]
    },
    {
     "name": "stdout",
     "output_type": "stream",
     "text": [
      "origin :  Lee Seong-woo, Departing for Korea University of Foreign Studies Research Team\n",
      "cleaned :   이성우, 한국외국어대학교 연구팀 출발\n"
     ]
    },
    {
     "name": "stderr",
     "output_type": "stream",
     "text": [
      "Setting `pad_token_id` to `eos_token_id`:None for open-end generation.\n"
     ]
    },
    {
     "name": "stdout",
     "output_type": "stream",
     "text": [
      "origin :  K8 Plus N Series with 5G Technology, Successful Launch\n",
      "cleaned :   5G 기술을 갖춘 K8 플러스 N 시리즈, 성공적인 출시\n"
     ]
    },
    {
     "name": "stderr",
     "output_type": "stream",
     "text": [
      "Setting `pad_token_id` to `eos_token_id`:None for open-end generation.\n"
     ]
    },
    {
     "name": "stdout",
     "output_type": "stream",
     "text": [
      "origin :  Choi Ji-man, 3 at-bats, 0 hits, batting average 0.257\n",
      "cleaned :   최지만, 3타수 무안타, 타율 0.257\n"
     ]
    },
    {
     "name": "stderr",
     "output_type": "stream",
     "text": [
      "Setting `pad_token_id` to `eos_token_id`:None for open-end generation.\n"
     ]
    },
    {
     "name": "stdout",
     "output_type": "stream",
     "text": [
      "origin :  NCSU to Develop Smart Factory Technology at 9th Phase\n",
      "cleaned :   NCSU, 9차 시대 스마트 공장 기술 개발\n"
     ]
    },
    {
     "name": "stderr",
     "output_type": "stream",
     "text": [
      "Setting `pad_token_id` to `eos_token_id`:None for open-end generation.\n"
     ]
    },
    {
     "name": "stdout",
     "output_type": "stream",
     "text": [
      "origin :  SKB Entertainment's Log A Play Song\n",
      "cleaned :   SKB 엔터테인먼트의 '플레이 노래' 발행\n"
     ]
    },
    {
     "name": "stderr",
     "output_type": "stream",
     "text": [
      "Setting `pad_token_id` to `eos_token_id`:None for open-end generation.\n"
     ]
    },
    {
     "name": "stdout",
     "output_type": "stream",
     "text": [
      "origin :  President Trump to Conquer the Dam in August\n",
      "cleaned :   트럼프 대통령, 8월에 댐을 정복하다\n"
     ]
    },
    {
     "name": "stderr",
     "output_type": "stream",
     "text": [
      "Setting `pad_token_id` to `eos_token_id`:None for open-end generation.\n"
     ]
    },
    {
     "name": "stdout",
     "output_type": "stream",
     "text": [
      "origin :  U.S. to Conduct Port Guter Evaluation on July 8th\n",
      "cleaned :   미국, 7월 8일 포트 구테르 평가 진행\n"
     ]
    },
    {
     "name": "stderr",
     "output_type": "stream",
     "text": [
      "Setting `pad_token_id` to `eos_token_id`:None for open-end generation.\n"
     ]
    },
    {
     "name": "stdout",
     "output_type": "stream",
     "text": [
      "origin :  Establishment of National Y58: Introduction of Noticeability Institutions\n",
      "cleaned :   국가 Y58의 설립: 인지도 제고 기관 소개\n"
     ]
    },
    {
     "name": "stderr",
     "output_type": "stream",
     "text": [
      "Setting `pad_token_id` to `eos_token_id`:None for open-end generation.\n"
     ]
    },
    {
     "name": "stdout",
     "output_type": "stream",
     "text": [
      "origin :  Seoul Finishes Third in PM President's Cup International Football Tournament\n",
      "cleaned :   서울, PM 대통령컵 국제 축구 대회에서 3위를 차지합니다.\n"
     ]
    },
    {
     "name": "stderr",
     "output_type": "stream",
     "text": [
      "Setting `pad_token_id` to `eos_token_id`:None for open-end generation.\n"
     ]
    },
    {
     "name": "stdout",
     "output_type": "stream",
     "text": [
      "origin :  Apple to Unveil iPhone X and Introduce iOS 11\n",
      "cleaned :   애플, 아이폰 X 공개 및 iOS 11 발표\n"
     ]
    },
    {
     "name": "stderr",
     "output_type": "stream",
     "text": [
      "Setting `pad_token_id` to `eos_token_id`:None for open-end generation.\n"
     ]
    },
    {
     "name": "stdout",
     "output_type": "stream",
     "text": [
      "origin :  Galaxy S8: Address shortage within two days of activation\n",
      "cleaned :   갤럭시 S8: 2일 이내에 활성화 후 부족 해결\n"
     ]
    },
    {
     "name": "stderr",
     "output_type": "stream",
     "text": [
      "Setting `pad_token_id` to `eos_token_id`:None for open-end generation.\n"
     ]
    },
    {
     "name": "stdout",
     "output_type": "stream",
     "text": [
      "origin :  Ransomware damage from two domestic companies increases \n",
      "cleaned :   국내 두 회사의 랜섬웨어 피해 증가\n"
     ]
    },
    {
     "name": "stderr",
     "output_type": "stream",
     "text": [
      "Setting `pad_token_id` to `eos_token_id`:None for open-end generation.\n"
     ]
    },
    {
     "name": "stdout",
     "output_type": "stream",
     "text": [
      "origin :  Virus Detection: Over 3,000 New Domestic Infections Confirmed\n",
      "cleaned :   코로나바이러스 감염: 국내 신규 감염 3,000명 넘어 확인\n"
     ]
    },
    {
     "name": "stderr",
     "output_type": "stream",
     "text": [
      "Setting `pad_token_id` to `eos_token_id`:None for open-end generation.\n"
     ]
    },
    {
     "name": "stdout",
     "output_type": "stream",
     "text": [
      "origin :  Samsung Unveils the Galaxy M30\n",
      "cleaned :   삼성, 갤럭시 M30 공개\n"
     ]
    },
    {
     "name": "stderr",
     "output_type": "stream",
     "text": [
      "Setting `pad_token_id` to `eos_token_id`:None for open-end generation.\n"
     ]
    },
    {
     "name": "stdout",
     "output_type": "stream",
     "text": [
      "origin :  5G-Based MES Platform\n",
      "cleaned :   5G 기반의 MES 플랫폼\n"
     ]
    },
    {
     "name": "stderr",
     "output_type": "stream",
     "text": [
      "Setting `pad_token_id` to `eos_token_id`:None for open-end generation.\n"
     ]
    },
    {
     "name": "stdout",
     "output_type": "stream",
     "text": [
      "origin :  Verifying Wireless IP Services for 3 European 5G Equipment\n",
      "cleaned :   5G 장비 3개국에서의 무선 IP 서비스 확인\n"
     ]
    },
    {
     "name": "stderr",
     "output_type": "stream",
     "text": [
      "Setting `pad_token_id` to `eos_token_id`:None for open-end generation.\n"
     ]
    },
    {
     "name": "stdout",
     "output_type": "stream",
     "text": [
      "origin :  \"Park Ji-su scores 2 points and 2 rebounds in LA Sparks WNBA game\"\n",
      "cleaned :   \"박지수, LA 스파크스 WNBA 경기에서 2점 2리바운드 기록\"\n"
     ]
    },
    {
     "name": "stderr",
     "output_type": "stream",
     "text": [
      "Setting `pad_token_id` to `eos_token_id`:None for open-end generation.\n"
     ]
    },
    {
     "name": "stdout",
     "output_type": "stream",
     "text": [
      "origin :  Samsung Display to Unveil Galaxy S21 at MWC 2021\n",
      "cleaned :   삼성디스플레이, MWC 2021에서 갤럭시 S21 공개\n"
     ]
    },
    {
     "name": "stderr",
     "output_type": "stream",
     "text": [
      "Setting `pad_token_id` to `eos_token_id`:None for open-end generation.\n"
     ]
    },
    {
     "name": "stdout",
     "output_type": "stream",
     "text": [
      "origin :  Jupiter's L5 Lagrange Point: The Second Launch of the 5Lopastra Rover\n",
      "cleaned :   천왕성의 L5 라그랑주 점: 5Lopastra 로버의 두 번째 발사\n"
     ]
    },
    {
     "name": "stderr",
     "output_type": "stream",
     "text": [
      "Setting `pad_token_id` to `eos_token_id`:None for open-end generation.\n"
     ]
    },
    {
     "name": "stdout",
     "output_type": "stream",
     "text": [
      "origin :  KT's 94u-band 5G truck provides long-distance augmented reality services\n",
      "cleaned :   KT의 94u-대역 5G 트럭, 장거리 증강현실 서비스 제공\n"
     ]
    },
    {
     "name": "stderr",
     "output_type": "stream",
     "text": [
      "Setting `pad_token_id` to `eos_token_id`:None for open-end generation.\n"
     ]
    },
    {
     "name": "stdout",
     "output_type": "stream",
     "text": [
      "origin :  Naver Line Day Center Selected for 9 Centers, Advances to Finals\n",
      "cleaned :   네이버 라인 데이센터 9개 센터 선정, 결승행\n"
     ]
    },
    {
     "name": "stderr",
     "output_type": "stream",
     "text": [
      "Setting `pad_token_id` to `eos_token_id`:None for open-end generation.\n"
     ]
    },
    {
     "name": "stdout",
     "output_type": "stream",
     "text": [
      "origin :  Kakao Blockchain Prototype\n",
      "cleaned :   카카오 블록체인 프로토타입\n"
     ]
    },
    {
     "name": "stderr",
     "output_type": "stream",
     "text": [
      "Setting `pad_token_id` to `eos_token_id`:None for open-end generation.\n"
     ]
    },
    {
     "name": "stdout",
     "output_type": "stream",
     "text": [
      "origin :  Whisky Shortage Worries Future\n",
      "cleaned :   위스키 부족, 미래에 대한 걱정\n"
     ]
    },
    {
     "name": "stderr",
     "output_type": "stream",
     "text": [
      "Setting `pad_token_id` to `eos_token_id`:None for open-end generation.\n"
     ]
    },
    {
     "name": "stdout",
     "output_type": "stream",
     "text": [
      "origin :  Korean AI Company Develops Hand Gesture-Controlled Chatbot Builder\n",
      "cleaned :   한국 AI 기업, 손짓으로 통제하는 챗봇 빌더 개발\n"
     ]
    },
    {
     "name": "stderr",
     "output_type": "stream",
     "text": [
      "Setting `pad_token_id` to `eos_token_id`:None for open-end generation.\n"
     ]
    },
    {
     "name": "stdout",
     "output_type": "stream",
     "text": [
      "origin :  Smartphones and J Compete, Open 6 New Markets in the IT Innovation Era\n",
      "cleaned :   스마트폰과 J가 경쟁하며 IT 혁신 시대에 6개의 신규 시장 개척\n"
     ]
    },
    {
     "name": "stderr",
     "output_type": "stream",
     "text": [
      "Setting `pad_token_id` to `eos_token_id`:None for open-end generation.\n"
     ]
    },
    {
     "name": "stdout",
     "output_type": "stream",
     "text": [
      "origin :  LG V30 in Temptation's Color: Raspberry Rose\n",
      "cleaned :   LG V30, 감성색 라즈베리 로즈로 출시\n"
     ]
    },
    {
     "name": "stderr",
     "output_type": "stream",
     "text": [
      "Setting `pad_token_id` to `eos_token_id`:None for open-end generation.\n"
     ]
    },
    {
     "name": "stdout",
     "output_type": "stream",
     "text": [
      "origin :  Google Wearable 1, Rebranded as Android Wear OS\n",
      "cleaned :   구글 웨어러블 1이 안드로이드 웨어 OS로 재브랜딩\n"
     ]
    },
    {
     "name": "stderr",
     "output_type": "stream",
     "text": [
      "Setting `pad_token_id` to `eos_token_id`:None for open-end generation.\n"
     ]
    },
    {
     "name": "stdout",
     "output_type": "stream",
     "text": [
      "origin :  Lounge's New Limitless Eating Ability\n",
      "cleaned :   무제한 식사 능력의 라운지 신설\n"
     ]
    },
    {
     "name": "stderr",
     "output_type": "stream",
     "text": [
      "Setting `pad_token_id` to `eos_token_id`:None for open-end generation.\n"
     ]
    },
    {
     "name": "stdout",
     "output_type": "stream",
     "text": [
      "origin :  VT50 4s Exposition Submission G1 Emerges as the Winner\n",
      "cleaned :   VT50 4s 전시회 제출 G1이 우승자로 선발됨\n"
     ]
    },
    {
     "name": "stderr",
     "output_type": "stream",
     "text": [
      "Setting `pad_token_id` to `eos_token_id`:None for open-end generation.\n"
     ]
    },
    {
     "name": "stdout",
     "output_type": "stream",
     "text": [
      "origin :  Art O V4c미i m9\n",
      "cleaned :   아트 오브 비4c미이엠9\n"
     ]
    },
    {
     "name": "stderr",
     "output_type": "stream",
     "text": [
      "Setting `pad_token_id` to `eos_token_id`:None for open-end generation.\n"
     ]
    },
    {
     "name": "stdout",
     "output_type": "stream",
     "text": [
      "origin :  G in OFF at Naver's Pago in Korea\n",
      "cleaned :   네이버 페이코의 G가 꺼져 있습니다.\n"
     ]
    },
    {
     "name": "stderr",
     "output_type": "stream",
     "text": [
      "Setting `pad_token_id` to `eos_token_id`:None for open-end generation.\n"
     ]
    },
    {
     "name": "stdout",
     "output_type": "stream",
     "text": [
      "origin :  A Korean representative star congratulates the debut of an idol group\n",
      "cleaned :   한국 대표 스타, 아이돌 그룹 데뷔 축하합니다.\n"
     ]
    },
    {
     "name": "stderr",
     "output_type": "stream",
     "text": [
      "Setting `pad_token_id` to `eos_token_id`:None for open-end generation.\n"
     ]
    },
    {
     "name": "stdout",
     "output_type": "stream",
     "text": [
      "origin :  Samsung's Galaxy S7 Edge Device Uses Qualcomm Snapdragon 8 Series Chipset with 4m Strength Inside\n",
      "cleaned :   삼성 갤럭시 S7 에지 장치는 퀄컴 스냅드래곤 8 시리즈 칩셋과 4m 강도의 내부를 갖추고 있습니다.\n"
     ]
    },
    {
     "name": "stderr",
     "output_type": "stream",
     "text": [
      "Setting `pad_token_id` to `eos_token_id`:None for open-end generation.\n"
     ]
    },
    {
     "name": "stdout",
     "output_type": "stream",
     "text": [
      "origin :  NH Investment IRP Unsecured Product Returns, Industry No. 1\n",
      "cleaned :   NH투자 IRP 무보증 상품, 업계 1위 복귀\n"
     ]
    },
    {
     "name": "stderr",
     "output_type": "stream",
     "text": [
      "Setting `pad_token_id` to `eos_token_id`:None for open-end generation.\n"
     ]
    },
    {
     "name": "stdout",
     "output_type": "stream",
     "text": [
      "origin :  iPhone X Sees Improved Demand, Sold at $1,000 a Piece\n",
      "cleaned :   아이폰 X의 판매량 증가, 1,000달러에 판매\n"
     ]
    },
    {
     "name": "stderr",
     "output_type": "stream",
     "text": [
      "Setting `pad_token_id` to `eos_token_id`:None for open-end generation.\n"
     ]
    },
    {
     "name": "stdout",
     "output_type": "stream",
     "text": [
      "origin :  \"AR Signboard to Convert 7-Line CM into 9a.m. Advert\"\n",
      "cleaned :   \"AR판 디스플레이, 7줄 CM을 9시 광고로 변환\"\n"
     ]
    },
    {
     "name": "stderr",
     "output_type": "stream",
     "text": [
      "Setting `pad_token_id` to `eos_token_id`:None for open-end generation.\n"
     ]
    },
    {
     "name": "stdout",
     "output_type": "stream",
     "text": [
      "origin :  Korea's K4 Smartphones Launching Soon\n",
      "cleaned :   곧 출시되는 한국의 K4 스마트폰\n"
     ]
    },
    {
     "name": "stderr",
     "output_type": "stream",
     "text": [
      "Setting `pad_token_id` to `eos_token_id`:None for open-end generation.\n"
     ]
    },
    {
     "name": "stdout",
     "output_type": "stream",
     "text": [
      "origin :  제목없음\n",
      "cleaned :   제목 없음\n"
     ]
    },
    {
     "name": "stderr",
     "output_type": "stream",
     "text": [
      "Setting `pad_token_id` to `eos_token_id`:None for open-end generation.\n"
     ]
    },
    {
     "name": "stdout",
     "output_type": "stream",
     "text": [
      "origin :  Brain study finds larger brains linked to better learning capabilities\n",
      "cleaned :   뇌 연구, 더 큰 뇌가 더 나은 학습 능력과 관련이 있음\n"
     ]
    },
    {
     "name": "stderr",
     "output_type": "stream",
     "text": [
      "Setting `pad_token_id` to `eos_token_id`:None for open-end generation.\n"
     ]
    },
    {
     "name": "stdout",
     "output_type": "stream",
     "text": [
      "origin :  Samsung Galaxy S23 and Galaxy A53 to be Unveiled at CES 2023\n",
      "cleaned :   삼성 갤럭시 S23와 갤럭시 A53, CES 2023에서 공개\n"
     ]
    },
    {
     "name": "stderr",
     "output_type": "stream",
     "text": [
      "Setting `pad_token_id` to `eos_token_id`:None for open-end generation.\n"
     ]
    },
    {
     "name": "stdout",
     "output_type": "stream",
     "text": [
      "origin :  Introduction of a Mobile Internet Assistant\n",
      "cleaned :   스마트폰용 모바일 인터넷 어시스턴트 소개\n"
     ]
    },
    {
     "name": "stderr",
     "output_type": "stream",
     "text": [
      "Setting `pad_token_id` to `eos_token_id`:None for open-end generation.\n"
     ]
    },
    {
     "name": "stdout",
     "output_type": "stream",
     "text": [
      "origin :  19 Patients Admitted for Anticoagulant Ingredient 'Koma' Confirmed at JF Forum\n",
      "cleaned :   19명의 환자, 항응고제 성분 '코마'로 입원, JF포럼에서 확인됨\n"
     ]
    },
    {
     "name": "stderr",
     "output_type": "stream",
     "text": [
      "Setting `pad_token_id` to `eos_token_id`:None for open-end generation.\n"
     ]
    },
    {
     "name": "stdout",
     "output_type": "stream",
     "text": [
      "origin :  DJI to Avoid Portable Drone, mmX Air Launched\n",
      "cleaned :   DJI, 휴대용 드론 회피, mmX 에어 출시\n"
     ]
    },
    {
     "name": "stderr",
     "output_type": "stream",
     "text": [
      "Setting `pad_token_id` to `eos_token_id`:None for open-end generation.\n"
     ]
    },
    {
     "name": "stdout",
     "output_type": "stream",
     "text": [
      "origin :  6th Pan-Communication GJ Trade Fair, BBWF, 8th JY Software Exhibition\n",
      "cleaned :   6회 통합 통신 GJ 무역 박람회, BBWF, 8회 JY 소프트웨어 전시회\n"
     ]
    },
    {
     "name": "stderr",
     "output_type": "stream",
     "text": [
      "Setting `pad_token_id` to `eos_token_id`:None for open-end generation.\n"
     ]
    },
    {
     "name": "stdout",
     "output_type": "stream",
     "text": [
      "origin :  Samsung Electronics Introduces 3rd Generation Galaxy A Series to the World\n",
      "cleaned :   삼성전자가 세 번째 세대 갤럭시 A 시리즈를 세계에 소개합니다. \n"
     ]
    },
    {
     "name": "stderr",
     "output_type": "stream",
     "text": [
      "Setting `pad_token_id` to `eos_token_id`:None for open-end generation.\n"
     ]
    },
    {
     "name": "stdout",
     "output_type": "stream",
     "text": [
      "origin :  Loyalty Chain Technology Ensures Appropriate Anti-Terrorism Insurance Payouts\n",
      "cleaned :   충성 체인 기술, 적절한 항테 보험금 지급을 보장합니다\n"
     ]
    },
    {
     "name": "stderr",
     "output_type": "stream",
     "text": [
      "Setting `pad_token_id` to `eos_token_id`:None for open-end generation.\n"
     ]
    },
    {
     "name": "stdout",
     "output_type": "stream",
     "text": [
      "origin :  KT, SK Telecom, and 3G Companies Collaborate\n",
      "cleaned :   KT, SK텔\n"
     ]
    },
    {
     "name": "stderr",
     "output_type": "stream",
     "text": [
      "Setting `pad_token_id` to `eos_token_id`:None for open-end generation.\n"
     ]
    },
    {
     "name": "stdout",
     "output_type": "stream",
     "text": [
      "origin :  3 New COVID-19 Cases Added, Latest Situation Report by Newsroom\n",
      "cleaned :   3명의 코로나19 신규 확진자, 뉴스룸의 최신 상황 보고서 발표\n"
     ]
    },
    {
     "name": "stderr",
     "output_type": "stream",
     "text": [
      "Setting `pad_token_id` to `eos_token_id`:None for open-end generation.\n"
     ]
    },
    {
     "name": "stdout",
     "output_type": "stream",
     "text": [
      "origin :  Seven Kidnapped in a Tunnel\n",
      "cleaned :   터널에서 7명 납치 사건 발생\n"
     ]
    },
    {
     "name": "stderr",
     "output_type": "stream",
     "text": [
      "Setting `pad_token_id` to `eos_token_id`:None for open-end generation.\n"
     ]
    },
    {
     "name": "stdout",
     "output_type": "stream",
     "text": [
      "origin :  CJ E&M's Creative Support 5 System Development\n",
      "cleaned :   CJ E&M의 창의적 지원 5 시스템 개발\n"
     ]
    },
    {
     "name": "stderr",
     "output_type": "stream",
     "text": [
      "Setting `pad_token_id` to `eos_token_id`:None for open-end generation.\n"
     ]
    },
    {
     "name": "stdout",
     "output_type": "stream",
     "text": [
      "origin :  Serious News Show\n",
      "cleaned :   심각한 뉴스쇼\n"
     ]
    },
    {
     "name": "stderr",
     "output_type": "stream",
     "text": [
      "Setting `pad_token_id` to `eos_token_id`:None for open-end generation.\n"
     ]
    },
    {
     "name": "stdout",
     "output_type": "stream",
     "text": [
      "origin :  LG Electronics to Disseminate Smart 1 Series at CES\n",
      "cleaned :   LG전자, CES에서 스마트 1 시리즈 발행\n"
     ]
    },
    {
     "name": "stderr",
     "output_type": "stream",
     "text": [
      "Setting `pad_token_id` to `eos_token_id`:None for open-end generation.\n"
     ]
    },
    {
     "name": "stdout",
     "output_type": "stream",
     "text": [
      "origin :  Leaked Camera Sensor and Thinner Screen on Galaxy S6\n",
      "cleaned :   갤럭시 S6에 누출된 카메라 센서 및 얇은 화면\n"
     ]
    },
    {
     "name": "stderr",
     "output_type": "stream",
     "text": [
      "Setting `pad_token_id` to `eos_token_id`:None for open-end generation.\n"
     ]
    },
    {
     "name": "stdout",
     "output_type": "stream",
     "text": [
      "origin :  Iran Achieves First Successful Development of Unmanned Aerial Vehicle\n",
      "cleaned :   이란, 무인 항공기 개발 성공\n"
     ]
    },
    {
     "name": "stderr",
     "output_type": "stream",
     "text": [
      "Setting `pad_token_id` to `eos_token_id`:None for open-end generation.\n"
     ]
    },
    {
     "name": "stdout",
     "output_type": "stream",
     "text": [
      "origin :  The use of CLi Smart GMVx is determined\n",
      "cleaned :   스마트 GMVx의 사용이 결정되었습니다.\n"
     ]
    },
    {
     "name": "stderr",
     "output_type": "stream",
     "text": [
      "Setting `pad_token_id` to `eos_token_id`:None for open-end generation.\n"
     ]
    },
    {
     "name": "stdout",
     "output_type": "stream",
     "text": [
      "origin :  Telegram Service Disrupted for 2 Hours on Chinese Servers\n",
      "cleaned :   텔레그램 서비스 중국서버 2시간 동안 중단\n"
     ]
    },
    {
     "name": "stderr",
     "output_type": "stream",
     "text": [
      "Setting `pad_token_id` to `eos_token_id`:None for open-end generation.\n"
     ]
    },
    {
     "name": "stdout",
     "output_type": "stream",
     "text": [
      "origin :  R-Model Infrared Camera Stock Price at Peak\n",
      "cleaned :   적외선 카메라 R-모델 주가, 최고점에 도달\n"
     ]
    },
    {
     "name": "stderr",
     "output_type": "stream",
     "text": [
      "Setting `pad_token_id` to `eos_token_id`:None for open-end generation.\n"
     ]
    },
    {
     "name": "stdout",
     "output_type": "stream",
     "text": [
      "origin :  Q3 RekoM's Operating Profit Increased by 1.105 Billion Won\n",
      "cleaned :   Q3 RekoM의 영업이익 110억 원 증가\n"
     ]
    },
    {
     "name": "stderr",
     "output_type": "stream",
     "text": [
      "Setting `pad_token_id` to `eos_token_id`:None for open-end generation.\n"
     ]
    },
    {
     "name": "stdout",
     "output_type": "stream",
     "text": [
      "origin :  10,000 Attend Charity Event on February 7, 2023\n",
      "cleaned :   2023년 2월 7일 자선 행사 10,000명 참석\n"
     ]
    },
    {
     "name": "stderr",
     "output_type": "stream",
     "text": [
      "Setting `pad_token_id` to `eos_token_id`:None for open-end generation.\n"
     ]
    },
    {
     "name": "stdout",
     "output_type": "stream",
     "text": [
      "origin :  The European Union and South Korea Announce an M3 Exchange Agreement\n",
      "cleaned :   유럽연합과 한국\n"
     ]
    },
    {
     "name": "stderr",
     "output_type": "stream",
     "text": [
      "Setting `pad_token_id` to `eos_token_id`:None for open-end generation.\n"
     ]
    },
    {
     "name": "stdout",
     "output_type": "stream",
     "text": [
      "origin :  Special Operation No. 6, G&C Fundraising Rakes in 5.2 Billion Won\n",
      "cleaned :   특수작전 6호, G&C 기금 모금 52억 원 거둬들여\n"
     ]
    },
    {
     "name": "stderr",
     "output_type": "stream",
     "text": [
      "Setting `pad_token_id` to `eos_token_id`:None for open-end generation.\n"
     ]
    },
    {
     "name": "stdout",
     "output_type": "stream",
     "text": [
      "origin :  Amazon Invests $300M in Lotte Department Store\n",
      "cleaned :   아마존, 롯데백화점에 300억 투자\n"
     ]
    },
    {
     "name": "stderr",
     "output_type": "stream",
     "text": [
      "Setting `pad_token_id` to `eos_token_id`:None for open-end generation.\n"
     ]
    },
    {
     "name": "stdout",
     "output_type": "stream",
     "text": [
      "origin :  KU Cyber Division's Second Quarter Operating Profit Falls to Zero\n",
      "cleaned :   KU 사이버부문의 2분기 영업이익이 0으로 떨어짐\n"
     ]
    },
    {
     "name": "stderr",
     "output_type": "stream",
     "text": [
      "Setting `pad_token_id` to `eos_token_id`:None for open-end generation.\n"
     ]
    },
    {
     "name": "stdout",
     "output_type": "stream",
     "text": [
      "origin :  H-D Dots 2-Zero License for Urban Education Purposes\n",
      "cleaned :   도시 교육 목적의 H-D Dots 2-자유 라이선스\n"
     ]
    },
    {
     "name": "stderr",
     "output_type": "stream",
     "text": [
      "Setting `pad_token_id` to `eos_token_id`:None for open-end generation.\n"
     ]
    },
    {
     "name": "stdout",
     "output_type": "stream",
     "text": [
      "origin :  German Koupang Halt and 2 Branches' Delivery Fails\n",
      "cleaned :   독일 쿠팡 전역 및 2개 지점 배송 중단\n"
     ]
    },
    {
     "name": "stderr",
     "output_type": "stream",
     "text": [
      "Setting `pad_token_id` to `eos_token_id`:None for open-end generation.\n"
     ]
    },
    {
     "name": "stdout",
     "output_type": "stream",
     "text": [
      "origin :  Cooperation Plan 9 between Son Kyung-woo and J Company\n",
      "cleaned :   손경우와 J 회사 간 협력 계획\n"
     ]
    },
    {
     "name": "stderr",
     "output_type": "stream",
     "text": [
      "Setting `pad_token_id` to `eos_token_id`:None for open-end generation.\n"
     ]
    },
    {
     "name": "stdout",
     "output_type": "stream",
     "text": [
      "origin :  1st Korea-Foreigner Investment Policy Consultation Meeting in 2020\n",
      "cleaned :   2020년 한국-외국인 투자 정책 상담회의 첫 회\n"
     ]
    },
    {
     "name": "stderr",
     "output_type": "stream",
     "text": [
      "Setting `pad_token_id` to `eos_token_id`:None for open-end generation.\n"
     ]
    },
    {
     "name": "stdout",
     "output_type": "stream",
     "text": [
      "origin :  CD 8호, 16KHz\n",
      "cleaned :   CD 8호, 16KHz\n"
     ]
    },
    {
     "name": "stderr",
     "output_type": "stream",
     "text": [
      "Setting `pad_token_id` to `eos_token_id`:None for open-end generation.\n"
     ]
    },
    {
     "name": "stdout",
     "output_type": "stream",
     "text": [
      "origin :  February 31, 2023\n",
      "cleaned :   2023년 2월 31일\n"
     ]
    },
    {
     "name": "stderr",
     "output_type": "stream",
     "text": [
      "Setting `pad_token_id` to `eos_token_id`:None for open-end generation.\n"
     ]
    },
    {
     "name": "stdout",
     "output_type": "stream",
     "text": [
      "origin :  Co-op is promoting the distribution of 8 public housing units\n",
      "cleaned :   협동조합, 공공임대주택 8채 분양 촉진\n"
     ]
    },
    {
     "name": "stderr",
     "output_type": "stream",
     "text": [
      "Setting `pad_token_id` to `eos_token_id`:None for open-end generation.\n"
     ]
    },
    {
     "name": "stdout",
     "output_type": "stream",
     "text": [
      "origin :  Private Debt Declines by 55% from 9 Trillion Won\n",
      "cleaned :   사적 빚 55% 감소, 9조 원에서\n"
     ]
    },
    {
     "name": "stderr",
     "output_type": "stream",
     "text": [
      "Setting `pad_token_id` to `eos_token_id`:None for open-end generation.\n"
     ]
    },
    {
     "name": "stdout",
     "output_type": "stream",
     "text": [
      "origin :  S3 Partners Sign a Growth Agreement to Co-Produce with Korean Companies\n",
      "cleaned :   한국 기업과 공동 제작을 위한 성장 협약 체결\n"
     ]
    },
    {
     "name": "stderr",
     "output_type": "stream",
     "text": [
      "Setting `pad_token_id` to `eos_token_id`:None for open-end generation.\n"
     ]
    },
    {
     "name": "stdout",
     "output_type": "stream",
     "text": [
      "origin :  Hee Choi, SKT 7J Health Vision Announcement: Competing with Samsung Electronics\n",
      "cleaned :   SKT 7J 건강 비전 발표: 삼성전자와 경쟁하는 희철\n"
     ]
    },
    {
     "name": "stderr",
     "output_type": "stream",
     "text": [
      "Setting `pad_token_id` to `eos_token_id`:None for open-end generation.\n"
     ]
    },
    {
     "name": "stdout",
     "output_type": "stream",
     "text": [
      "origin :  1st Quarter: Total 3 Companies Listed on the KODEX CombiMarket\n",
      "cleaned :   1분기 KODEX 콤비마켓에 총 3개 기업 상장\n"
     ]
    },
    {
     "name": "stderr",
     "output_type": "stream",
     "text": [
      "Setting `pad_token_id` to `eos_token_id`:None for open-end generation.\n"
     ]
    },
    {
     "name": "stdout",
     "output_type": "stream",
     "text": [
      "origin :  EJ Project Hosts Construction Project with a Budget of 100 Million Won\n",
      "cleaned :   에이제이 프로젝트, 1억 원 예산으로 건설 프로젝트 진행\n"
     ]
    },
    {
     "name": "stderr",
     "output_type": "stream",
     "text": [
      "Setting `pad_token_id` to `eos_token_id`:None for open-end generation.\n"
     ]
    },
    {
     "name": "stdout",
     "output_type": "stream",
     "text": [
      "origin :  Group Tpick's 7 Realization Rates are Calculated Using 3-Year C-San Formula through T-VVC\n",
      "cleaned :   그룹 T픽의 7개 실현률은 3년 C-San 공식에 따라 T-VVC를 통해 계산됩니다. \n"
     ]
    },
    {
     "name": "stderr",
     "output_type": "stream",
     "text": [
      "Setting `pad_token_id` to `eos_token_id`:None for open-end generation.\n"
     ]
    },
    {
     "name": "stdout",
     "output_type": "stream",
     "text": [
      "origin :  Loans of 6% per year are available for small business owners with lower credit ratings\n",
      "cleaned :   저신용 소상공인에게 연 6% 금리로 대출 가능\n"
     ]
    },
    {
     "name": "stderr",
     "output_type": "stream",
     "text": [
      "Setting `pad_token_id` to `eos_token_id`:None for open-end generation.\n"
     ]
    },
    {
     "name": "stdout",
     "output_type": "stream",
     "text": [
      "origin :  FBI Investigates Olympic Gold Medalist for Ties to Power Brokers\n",
      "cleaned :   올림픽 금메달리스트, 권력자들과의 연관성 조사받아\n"
     ]
    },
    {
     "name": "stderr",
     "output_type": "stream",
     "text": [
      "Setting `pad_token_id` to `eos_token_id`:None for open-end generation.\n"
     ]
    },
    {
     "name": "stdout",
     "output_type": "stream",
     "text": [
      "origin :  Samsung Electronics Sees Positive Outlook for NAND Flash Revenue in Q1 H2\n",
      "cleaned :   삼성전자, 1분기 후반 낸\n"
     ]
    },
    {
     "name": "stderr",
     "output_type": "stream",
     "text": [
      "Setting `pad_token_id` to `eos_token_id`:None for open-end generation.\n"
     ]
    },
    {
     "name": "stdout",
     "output_type": "stream",
     "text": [
      "origin :  5th F Line, D Haesun, Big Loss in Legal Village\n",
      "cleaned :   5번째 F 라인, D 해순, 법률 마을 큰 손실\n"
     ]
    },
    {
     "name": "stderr",
     "output_type": "stream",
     "text": [
      "Setting `pad_token_id` to `eos_token_id`:None for open-end generation.\n"
     ]
    },
    {
     "name": "stdout",
     "output_type": "stream",
     "text": [
      "origin :  8JM: 30M Individual Investors, 3 Billion Won Y5t\n",
      "cleaned :   8개월 동안 30만 개의 개인 투자자, 3억 원 투자금\n"
     ]
    },
    {
     "name": "stderr",
     "output_type": "stream",
     "text": [
      "Setting `pad_token_id` to `eos_token_id`:None for open-end generation.\n"
     ]
    },
    {
     "name": "stdout",
     "output_type": "stream",
     "text": [
      "origin :  7-Month Expansion of Support for Birthcare Expenses\n",
      "cleaned :   출산경비 지원 7개월 연장\n"
     ]
    },
    {
     "name": "stderr",
     "output_type": "stream",
     "text": [
      "Setting `pad_token_id` to `eos_token_id`:None for open-end generation.\n"
     ]
    },
    {
     "name": "stdout",
     "output_type": "stream",
     "text": [
      "origin :  Stock Market: Investors Flock to 4 Funds as NYSE Rises\n",
      "cleaned :   주식시장: 투자자들이 NYSE 상승에 4개 펀드로 몰려든다\n"
     ]
    },
    {
     "name": "stderr",
     "output_type": "stream",
     "text": [
      "Setting `pad_token_id` to `eos_token_id`:None for open-end generation.\n"
     ]
    },
    {
     "name": "stdout",
     "output_type": "stream",
     "text": [
      "origin :  Korean Won Dollar Exchange Rate May Fall Due to Declining Korean Won Exchange Rate and Possible Early Termination of EMB's Two-Way F Contract\n",
      "cleaned :   한국환-달러 환율 하락 가능성: 한국환 환율 하락과 EMB의 2방향 F 계약 조기 종료 가능성\n"
     ]
    },
    {
     "name": "stderr",
     "output_type": "stream",
     "text": [
      "Setting `pad_token_id` to `eos_token_id`:None for open-end generation.\n"
     ]
    },
    {
     "name": "stdout",
     "output_type": "stream",
     "text": [
      "origin :  Another decrease in A's former military housing sales\n",
      "cleaned :   A의 전 군사 주택 판매 감소 또 한 번\n"
     ]
    },
    {
     "name": "stderr",
     "output_type": "stream",
     "text": [
      "Setting `pad_token_id` to `eos_token_id`:None for open-end generation.\n"
     ]
    },
    {
     "name": "stdout",
     "output_type": "stream",
     "text": [
      "origin :  70TBa of Zinc Ore Produced in Korean Factory, Korea's Zinc Industry Booms\n",
      "cleaned :   한국의 제철소에서 70톤의 주석 광석 생산, 한국의 주석 산업 활황\n"
     ]
    },
    {
     "name": "stderr",
     "output_type": "stream",
     "text": [
      "Setting `pad_token_id` to `eos_token_id`:None for open-end generation.\n"
     ]
    },
    {
     "name": "stdout",
     "output_type": "stream",
     "text": [
      "origin :  LH Sells 3 Billion Won, Supplying 30 Billion Won to the Market\n",
      "cleaned :   LH, 300억원 매각, 시장에 3천억원 공급\n"
     ]
    },
    {
     "name": "stderr",
     "output_type": "stream",
     "text": [
      "Setting `pad_token_id` to `eos_token_id`:None for open-end generation.\n"
     ]
    },
    {
     "name": "stdout",
     "output_type": "stream",
     "text": [
      "origin :  Mitsui Sumitomo Investment, Shinhan Bank's Performance, Dividend 6.8 Billion Won\n",
      "cleaned :   미쓰이 수미모 인베스트먼트, 신한은행의 성과, 680억 원의 배당금\n"
     ]
    },
    {
     "name": "stderr",
     "output_type": "stream",
     "text": [
      "Setting `pad_token_id` to `eos_token_id`:None for open-end generation.\n"
     ]
    },
    {
     "name": "stdout",
     "output_type": "stream",
     "text": [
      "origin :  LG G6 Takes the No. 1 Spot in Video Performance, Overtaking the Galaxy S8\n",
      "cleaned :   LG G6, 영상 성능 1위, 갤럭시 S8을 제치고 1위로 올라서다\n"
     ]
    },
    {
     "name": "stderr",
     "output_type": "stream",
     "text": [
      "Setting `pad_token_id` to `eos_token_id`:None for open-end generation.\n"
     ]
    },
    {
     "name": "stdout",
     "output_type": "stream",
     "text": [
      "origin :  Accounting Board, Uses Less Than E1.5 Billion in Management Funds\n",
      "cleaned :   회계부, 관리비 1.5억 원 미만 사용\n"
     ]
    },
    {
     "name": "stderr",
     "output_type": "stream",
     "text": [
      "Setting `pad_token_id` to `eos_token_id`:None for open-end generation.\n"
     ]
    },
    {
     "name": "stdout",
     "output_type": "stream",
     "text": [
      "origin :  제목없음\n",
      "cleaned :   제목 없음\n"
     ]
    },
    {
     "name": "stderr",
     "output_type": "stream",
     "text": [
      "Setting `pad_token_id` to `eos_token_id`:None for open-end generation.\n"
     ]
    },
    {
     "name": "stdout",
     "output_type": "stream",
     "text": [
      "origin :  FTT Engine Parts Sales, 6th in the Replenishment Market\n",
      "cleaned :   FTT\n"
     ]
    },
    {
     "name": "stderr",
     "output_type": "stream",
     "text": [
      "Setting `pad_token_id` to `eos_token_id`:None for open-end generation.\n"
     ]
    },
    {
     "name": "stdout",
     "output_type": "stream",
     "text": [
      "origin :  Austrian Government Invests 200 Billion Won in COVID-19 Response\n",
      "cleaned :   오스트리아 정부, 200억 원 투입 코로나19 대응\n"
     ]
    },
    {
     "name": "stderr",
     "output_type": "stream",
     "text": [
      "Setting `pad_token_id` to `eos_token_id`:None for open-end generation.\n"
     ]
    },
    {
     "name": "stdout",
     "output_type": "stream",
     "text": [
      "origin :  Australia's Twin Breeders, ABIVz with\n",
      "cleaned :   호주의 쌍둥이 번식자, ABIVz와 함께\n"
     ]
    },
    {
     "name": "stderr",
     "output_type": "stream",
     "text": [
      "Setting `pad_token_id` to `eos_token_id`:None for open-end generation.\n"
     ]
    },
    {
     "name": "stdout",
     "output_type": "stream",
     "text": [
      "origin :  Defense expenditure burden to be expanded as the defense budget is short of foreign exchange reserves due to the lack of foreign exchange reserves in a non-convertible currency system.\n",
      "cleaned :   국방예산 부족으로 인해 환율 변동성이 높은 비환불 통화체계에서 외화보유액이 부족해져 국방예산 부담이 증가할 것으로 예상됩니다. \n"
     ]
    },
    {
     "name": "stderr",
     "output_type": "stream",
     "text": [
      "Setting `pad_token_id` to `eos_token_id`:None for open-end generation.\n"
     ]
    },
    {
     "name": "stdout",
     "output_type": "stream",
     "text": [
      "origin :  World Property Prices Rise by 50% Over 10 Years, Korea at 30%\n",
      "cleaned :   세계 부동산 가격 10년간 50% 상승, 한국 30% 증가\n"
     ]
    },
    {
     "name": "stderr",
     "output_type": "stream",
     "text": [
      "Setting `pad_token_id` to `eos_token_id`:None for open-end generation.\n"
     ]
    },
    {
     "name": "stdout",
     "output_type": "stream",
     "text": [
      "origin :  제목없음\n",
      "cleaned :   \n"
     ]
    },
    {
     "name": "stderr",
     "output_type": "stream",
     "text": [
      "Setting `pad_token_id` to `eos_token_id`:None for open-end generation.\n"
     ]
    },
    {
     "name": "stdout",
     "output_type": "stream",
     "text": [
      "origin :  Cheap near a station, Shinbanpo Station 3, 10 billion approaching\n",
      "cleaned :   역 근처 저렴한 신반포역 3번 출구, 10억 접근\n"
     ]
    },
    {
     "name": "stderr",
     "output_type": "stream",
     "text": [
      "Setting `pad_token_id` to `eos_token_id`:None for open-end generation.\n"
     ]
    },
    {
     "name": "stdout",
     "output_type": "stream",
     "text": [
      "origin :  Hyundai Motor and Hyundai Mobis Agree to Strengthen Management with 90% Rise in Stocks\n",
      "cleaned :   현대자동차와 현대모비스, 주식 90% 상승으로 경영 강\n"
     ]
    },
    {
     "name": "stderr",
     "output_type": "stream",
     "text": [
      "Setting `pad_token_id` to `eos_token_id`:None for open-end generation.\n"
     ]
    },
    {
     "name": "stdout",
     "output_type": "stream",
     "text": [
      "origin :  Daeshin Securities, along with Dead Cross, Positively Burns Its Own Shares\n",
      "cleaned :   대신증권과 데드크로스, 자사주 소각으로 긍정적 평가 받습니다\n"
     ]
    },
    {
     "name": "stderr",
     "output_type": "stream",
     "text": [
      "Setting `pad_token_id` to `eos_token_id`:None for open-end generation.\n"
     ]
    },
    {
     "name": "stdout",
     "output_type": "stream",
     "text": [
      "origin :  Messi and Ronaldo Selected to UEFA Team of the Year, No EPL Players Included\n",
      "cleaned :   메시와 로나우디가 UEFA 올해의 팀에 선정, 잉글리시 프리미어리그 선수는 포함되지 않음\n"
     ]
    },
    {
     "name": "stderr",
     "output_type": "stream",
     "text": [
      "Setting `pad_token_id` to `eos_token_id`:None for open-end generation.\n"
     ]
    },
    {
     "name": "stdout",
     "output_type": "stream",
     "text": [
      "origin :  2023 World's Best-Selling Smartphone: Z Phone\n",
      "cleaned :   2023년 세계 최고 판매 스마트폰: Z폰\n"
     ]
    },
    {
     "name": "stderr",
     "output_type": "stream",
     "text": [
      "Setting `pad_token_id` to `eos_token_id`:None for open-end generation.\n"
     ]
    },
    {
     "name": "stdout",
     "output_type": "stream",
     "text": [
      "origin :  IBK Corporate Bank, Highest Unemployment Rate Increase in 6 Industries\n",
      "cleaned :   IBK 기업은행, 6개 산업 중 실업률 증가율 최고 기록\n"
     ]
    },
    {
     "name": "stderr",
     "output_type": "stream",
     "text": [
      "Setting `pad_token_id` to `eos_token_id`:None for open-end generation.\n"
     ]
    },
    {
     "name": "stdout",
     "output_type": "stream",
     "text": [
      "origin :  7 Final Candidates for the Next Financial Services Director are Confirmed\n",
      "cleaned :   다음 금융서비스 이사회장 후보 7명이 확정되었다. \n"
     ]
    },
    {
     "name": "stderr",
     "output_type": "stream",
     "text": [
      "Setting `pad_token_id` to `eos_token_id`:None for open-end generation.\n"
     ]
    },
    {
     "name": "stdout",
     "output_type": "stream",
     "text": [
      "origin :  R-Type Apartment Winner Announced in Seocho-gu Autonomous District of Seoul City\n",
      "cleaned :   서울시 서초구 자치구에서 R-Type 아파트 당첨자 발표\n"
     ]
    },
    {
     "name": "stderr",
     "output_type": "stream",
     "text": [
      "Setting `pad_token_id` to `eos_token_id`:None for open-end generation.\n"
     ]
    },
    {
     "name": "stdout",
     "output_type": "stream",
     "text": [
      "origin :  Qualcomm smartphones set a record of 72 million units sold in the second quarter\n",
      "cleaned :   퀄컴 스마트폰, 2분기 7,200만 대 판매로 역대 최고 기록\n"
     ]
    },
    {
     "name": "stderr",
     "output_type": "stream",
     "text": [
      "Setting `pad_token_id` to `eos_token_id`:None for open-end generation.\n"
     ]
    },
    {
     "name": "stdout",
     "output_type": "stream",
     "text": [
      "origin :  ETI, $1.64 Billion DS Platform Manufacturing Equipment Supply Contract Signed\n",
      "cleaned :   에티, 1조 6400만 달러 DS 플랫\n"
     ]
    },
    {
     "name": "stderr",
     "output_type": "stream",
     "text": [
      "Setting `pad_token_id` to `eos_token_id`:None for open-end generation.\n"
     ]
    },
    {
     "name": "stdout",
     "output_type": "stream",
     "text": [
      "origin :   Last Month's Sale of 3,268 Units: 7-Month Consecutive Income Tax \n",
      "cleaned :   지난달 3,268호의 판매: 7개월 연속 소득세\n"
     ]
    },
    {
     "name": "stderr",
     "output_type": "stream",
     "text": [
      "Setting `pad_token_id` to `eos_token_id`:None for open-end generation.\n"
     ]
    },
    {
     "name": "stdout",
     "output_type": "stream",
     "text": [
      "origin :  Btuyo Muhly Life Product Trading Line\n",
      "cleaned :   부티 무흘리 라이프 상품 거래 라인\n"
     ]
    },
    {
     "name": "stderr",
     "output_type": "stream",
     "text": [
      "Setting `pad_token_id` to `eos_token_id`:None for open-end generation.\n"
     ]
    },
    {
     "name": "stdout",
     "output_type": "stream",
     "text": [
      "origin :  Proverb for Countries with Low COVID-19 Vaccination Rates\n",
      "cleaned :   코로나19 백신 접종률이 낮은 국가들에 대한 속담\n"
     ]
    },
    {
     "name": "stderr",
     "output_type": "stream",
     "text": [
      "Setting `pad_token_id` to `eos_token_id`:None for open-end generation.\n"
     ]
    },
    {
     "name": "stdout",
     "output_type": "stream",
     "text": [
      "origin :  2016 North Korea Cooperation Fund: 91.78 billion won, 8.55 billion won more than 2016\n",
      "cleaned :   2016 북한 협력기금: 91.78억 원, 2016년에 비해 8.55억 원 증가\n"
     ]
    },
    {
     "name": "stderr",
     "output_type": "stream",
     "text": [
      "Setting `pad_token_id` to `eos_token_id`:None for open-end generation.\n"
     ]
    },
    {
     "name": "stdout",
     "output_type": "stream",
     "text": [
      "origin :  Samsung Group Stocks Rally in P. Jae-yong's Permanent Injunction Case\n",
      "cleaned :   삼성그룹 주식, P.재용 영구 금지 판결에 반발\n"
     ]
    },
    {
     "name": "stderr",
     "output_type": "stream",
     "text": [
      "Setting `pad_token_id` to `eos_token_id`:None for open-end generation.\n"
     ]
    },
    {
     "name": "stdout",
     "output_type": "stream",
     "text": [
      "origin :  3rd Asia-Pacific Economic Cooperation Council to be Held in Tokyo\n",
      "cleaned :   제3차 아시아태평양 경제 협력회의, 도쿄에서 개최됩니다.\n"
     ]
    },
    {
     "name": "stderr",
     "output_type": "stream",
     "text": [
      "Setting `pad_token_id` to `eos_token_id`:None for open-end generation.\n"
     ]
    },
    {
     "name": "stdout",
     "output_type": "stream",
     "text": [
      "origin :  Microsoft Korea Launches Windows 10 IoT Edition for B2B Market\n",
      "cleaned :   마이크로소프트 코리아, B2B 시장용 윈도우 10 IoT 에디션 출시\n"
     ]
    },
    {
     "name": "stderr",
     "output_type": "stream",
     "text": [
      "Setting `pad_token_id` to `eos_token_id`:None for open-end generation.\n"
     ]
    },
    {
     "name": "stdout",
     "output_type": "stream",
     "text": [
      "origin :  Apple Hits a Double Against KT, a Big Hit!\n",
      "cleaned :   애플, KT에 두 골을 넣어 큰 승리를 거둠!\n"
     ]
    },
    {
     "name": "stderr",
     "output_type": "stream",
     "text": [
      "Setting `pad_token_id` to `eos_token_id`:None for open-end generation.\n"
     ]
    },
    {
     "name": "stdout",
     "output_type": "stream",
     "text": [
      "origin :  제목없음\n",
      "cleaned :   제목 없음\n"
     ]
    },
    {
     "name": "stderr",
     "output_type": "stream",
     "text": [
      "Setting `pad_token_id` to `eos_token_id`:None for open-end generation.\n"
     ]
    },
    {
     "name": "stdout",
     "output_type": "stream",
     "text": [
      "origin :  Mobile Payment i 1st, Samsung Pay 2nd\n",
      "cleaned :   모바일 결제\n"
     ]
    },
    {
     "name": "stderr",
     "output_type": "stream",
     "text": [
      "Setting `pad_token_id` to `eos_token_id`:None for open-end generation.\n"
     ]
    },
    {
     "name": "stdout",
     "output_type": "stream",
     "text": [
      "origin :  Sincere Apologies: Gangnam Post's D-drug quantity competition ratio, 33:1\n",
      "cleaned :   진심어린 사과: 강남포스트의 D-약량 경쟁비율, 33:1\n"
     ]
    },
    {
     "name": "stderr",
     "output_type": "stream",
     "text": [
      "Setting `pad_token_id` to `eos_token_id`:None for open-end generation.\n"
     ]
    },
    {
     "name": "stdout",
     "output_type": "stream",
     "text": [
      "origin :  The Pic of a House with a Full Tenancy Guarantee\n",
      "cleaned :   집 전체 임차보증의 멋진 사진\n"
     ]
    },
    {
     "name": "stderr",
     "output_type": "stream",
     "text": [
      "Setting `pad_token_id` to `eos_token_id`:None for open-end generation.\n"
     ]
    },
    {
     "name": "stdout",
     "output_type": "stream",
     "text": [
      "origin :  POSCO Invests 41.2 Billion Won in New Housing Factory, Starts Operations After 5 Months\n",
      "cleaned :   포스코, 신규 주택 공장에 41.2억 원 투자...5개월 만에 운영 시작\n"
     ]
    },
    {
     "name": "stderr",
     "output_type": "stream",
     "text": [
      "Setting `pad_token_id` to `eos_token_id`:None for open-end generation.\n"
     ]
    },
    {
     "name": "stdout",
     "output_type": "stream",
     "text": [
      "origin :  Nahan Bank, Credit Card Interest Rate Down by 32% p.a., 2,000 Won Reduces\n",
      "cleaned :   나한은 32% p.a.의 신용카드 금리 감소, 2,000원 절감\n"
     ]
    },
    {
     "name": "stderr",
     "output_type": "stream",
     "text": [
      "Setting `pad_token_id` to `eos_token_id`:None for open-end generation.\n"
     ]
    },
    {
     "name": "stdout",
     "output_type": "stream",
     "text": [
      "origin :  Alibaba's Rich: $9 Billion for 733 Billion Won Annually\n",
      "cleaned :   알리바바의 부자: 733억 원 연간 9억 달러\n"
     ]
    },
    {
     "name": "stderr",
     "output_type": "stream",
     "text": [
      "Setting `pad_token_id` to `eos_token_id`:None for open-end generation.\n"
     ]
    },
    {
     "name": "stdout",
     "output_type": "stream",
     "text": [
      "origin :  Desalination Technology: Water Found Across the Globe to Quench Thirst\n",
      "cleaned :   세계 곳곳에 있는 바닷물을 이용한 상수원 기술, 세계적인 기근 해결책이 될까?\n"
     ]
    },
    {
     "name": "stderr",
     "output_type": "stream",
     "text": [
      "Setting `pad_token_id` to `eos_token_id`:None for open-end generation.\n"
     ]
    },
    {
     "name": "stdout",
     "output_type": "stream",
     "text": [
      "origin :  Housing Pension: From February 2023, the monthly payment will be reduced by 3%\n",
      "cleaned :   2023년 2월부터 주택 연금, 월납액 3% 감액\n"
     ]
    },
    {
     "name": "stderr",
     "output_type": "stream",
     "text": [
      "Setting `pad_token_id` to `eos_token_id`:None for open-end generation.\n"
     ]
    },
    {
     "name": "stdout",
     "output_type": "stream",
     "text": [
      "origin :  President Yoon Seok-yeol Holds a Forum at Lang Kho International Airport in Vietnam\n",
      "cleaned :   윤석열 대통령, 베트남 랑꼬 국제공항에서 포럼 개최\n"
     ]
    },
    {
     "name": "stderr",
     "output_type": "stream",
     "text": [
      "Setting `pad_token_id` to `eos_token_id`:None for open-end generation.\n"
     ]
    },
    {
     "name": "stdout",
     "output_type": "stream",
     "text": [
      "origin :  2.5 Billion to Expand Infrastructure Investments\n",
      "cleaned :   2500억 원 규모의 인프라 투자 확장\n"
     ]
    },
    {
     "name": "stderr",
     "output_type": "stream",
     "text": [
      "Setting `pad_token_id` to `eos_token_id`:None for open-end generation.\n"
     ]
    },
    {
     "name": "stdout",
     "output_type": "stream",
     "text": [
      "origin :  Public Launch Event for Commercial Umbrella Fund\n",
      "cleaned :   상업용 우산펀드 공개 이벤트\n"
     ]
    },
    {
     "name": "stderr",
     "output_type": "stream",
     "text": [
      "Setting `pad_token_id` to `eos_token_id`:None for open-end generation.\n"
     ]
    },
    {
     "name": "stdout",
     "output_type": "stream",
     "text": [
      "origin :  Samsung Electronics, Smartphone Sales Decline\n",
      "cleaned :   삼성전자, 스마트폰 판매 감소\n"
     ]
    },
    {
     "name": "stderr",
     "output_type": "stream",
     "text": [
      "Setting `pad_token_id` to `eos_token_id`:None for open-end generation.\n"
     ]
    },
    {
     "name": "stdout",
     "output_type": "stream",
     "text": [
      "origin :  Housing Savings Bank and Korea Financial Group 4Y Cooperate in Development\n",
      "cleaned :   한국주택저축은행과 한국금융그룹 4Y, 개발 협력\n"
     ]
    },
    {
     "name": "stderr",
     "output_type": "stream",
     "text": [
      "Setting `pad_token_id` to `eos_token_id`:None for open-end generation.\n"
     ]
    },
    {
     "name": "stdout",
     "output_type": "stream",
     "text": [
      "origin :  B-법 증여로 그래픽 ITM 기 용한 3례\n",
      "cleaned :   B-법 증여로 그래픽 ITM 용한 3례\n"
     ]
    },
    {
     "name": "stderr",
     "output_type": "stream",
     "text": [
      "Setting `pad_token_id` to `eos_token_id`:None for open-end generation.\n"
     ]
    },
    {
     "name": "stdout",
     "output_type": "stream",
     "text": [
      "origin :  H&F Etron to Announce A-Grade Kerosene Procurement at 5 pm\n",
      "cleaned :   H&F 에트론, 오후 5시에 A급 경유 구매 발표\n"
     ]
    },
    {
     "name": "stderr",
     "output_type": "stream",
     "text": [
      "Setting `pad_token_id` to `eos_token_id`:None for open-end generation.\n"
     ]
    },
    {
     "name": "stdout",
     "output_type": "stream",
     "text": [
      "origin :  The company aims to achieve 9.5 billion won in OP growth and 800,000 draft formation. \n",
      "cleaned :   회사, 영업이익 950억 원 성장, 800만 달러 규모의 계약 체결 목표\n"
     ]
    },
    {
     "name": "stderr",
     "output_type": "stream",
     "text": [
      "Setting `pad_token_id` to `eos_token_id`:None for open-end generation.\n"
     ]
    },
    {
     "name": "stdout",
     "output_type": "stream",
     "text": [
      "origin :  Hanwha Investment & Asset Management Identifies Retail QUL Investment Timing\n",
      "cleaned :   한화투자증권 자산운용, 소비자 QUL 투자 시기 발굴\n"
     ]
    },
    {
     "name": "stderr",
     "output_type": "stream",
     "text": [
      "Setting `pad_token_id` to `eos_token_id`:None for open-end generation.\n"
     ]
    },
    {
     "name": "stdout",
     "output_type": "stream",
     "text": [
      "origin :  SKT's 010-ntl943 Users Face Government Issues\n",
      "cleaned :   SKT의 010-ntl943 사용자들, 정부 문제에 직면함\n"
     ]
    },
    {
     "name": "stderr",
     "output_type": "stream",
     "text": [
      "Setting `pad_token_id` to `eos_token_id`:None for open-end generation.\n"
     ]
    },
    {
     "name": "stdout",
     "output_type": "stream",
     "text": [
      "origin :  Cheongju Seeks 19.2 Billion Won in National Budget, Aiming to Achieve It by May 5th, This Year\n",
      "cleaned :   청주, 1,920억 원 국비 지원을 위한 5월 5일까지의 계획 발표\n"
     ]
    },
    {
     "name": "stderr",
     "output_type": "stream",
     "text": [
      "Setting `pad_token_id` to `eos_token_id`:None for open-end generation.\n"
     ]
    },
    {
     "name": "stdout",
     "output_type": "stream",
     "text": [
      "origin :  5G Smartphone Y Series Basic Model, Launches for $55,000 Won\n",
      "cleaned :   5G 스마트폰 Y 시리즈 기본 모델, 55,000원에 출시\n"
     ]
    },
    {
     "name": "stderr",
     "output_type": "stream",
     "text": [
      "Setting `pad_token_id` to `eos_token_id`:None for open-end generation.\n"
     ]
    },
    {
     "name": "stdout",
     "output_type": "stream",
     "text": [
      "origin :  Hanjin Group Chairman Must Succeed in Succession to Survive\n",
      "cleaned :   한진그룹 회장, 계승 성공해야 생존할 수 있다\n"
     ]
    },
    {
     "name": "stderr",
     "output_type": "stream",
     "text": [
      "Setting `pad_token_id` to `eos_token_id`:None for open-end generation.\n"
     ]
    },
    {
     "name": "stdout",
     "output_type": "stream",
     "text": [
      "origin :  Seoul City 2nd Hongdae Railaylation Show Submission\n",
      "cleaned :   서울시 홍대 2차 철도 재개발 공모\n"
     ]
    },
    {
     "name": "stderr",
     "output_type": "stream",
     "text": [
      "Setting `pad_token_id` to `eos_token_id`:None for open-end generation.\n"
     ]
    },
    {
     "name": "stdout",
     "output_type": "stream",
     "text": [
      "origin :  Group G Department Store Files for Bankruptcy Protection\n",
      "cleaned :   그룹 G 백화점, 재정 보호 신청\n"
     ]
    },
    {
     "name": "stderr",
     "output_type": "stream",
     "text": [
      "Setting `pad_token_id` to `eos_token_id`:None for open-end generation.\n"
     ]
    },
    {
     "name": "stdout",
     "output_type": "stream",
     "text": [
      "origin :  The world's first 5G phone, Galaxy S10 5G, is priced at 1,397,000 won. \n",
      "cleaned :   세계 최초의 5G 스마트폰 갤럭시 S10 5G, 1,397,000원 가격 책정\n"
     ]
    },
    {
     "name": "stderr",
     "output_type": "stream",
     "text": [
      "Setting `pad_token_id` to `eos_token_id`:None for open-end generation.\n"
     ]
    },
    {
     "name": "stdout",
     "output_type": "stream",
     "text": [
      "origin :  Government's Response to the Foundation\n",
      "cleaned :   정부의 기초에 대한 대응\n"
     ]
    },
    {
     "name": "stderr",
     "output_type": "stream",
     "text": [
      "Setting `pad_token_id` to `eos_token_id`:None for open-end generation.\n"
     ]
    },
    {
     "name": "stdout",
     "output_type": "stream",
     "text": [
      "origin :  LH HART Gamil District 5-Unit i8 Land for Sale\n",
      "cleaned :   LH 하트, 가밀 구역 5-Unit i8 토지 판매\n"
     ]
    },
    {
     "name": "stderr",
     "output_type": "stream",
     "text": [
      "Setting `pad_token_id` to `eos_token_id`:None for open-end generation.\n"
     ]
    },
    {
     "name": "stdout",
     "output_type": "stream",
     "text": [
      "origin :  Korean Investment Securities Opens Customer Center for Investor Protection\n",
      "cleaned :   한국투자증권, 투자자 보호를 위한 고객센터 개설\n"
     ]
    },
    {
     "name": "stderr",
     "output_type": "stream",
     "text": [
      "Setting `pad_token_id` to `eos_token_id`:None for open-end generation.\n"
     ]
    },
    {
     "name": "stdout",
     "output_type": "stream",
     "text": [
      "origin :  China's ZN Company Participates in D0x Event to Target Customers in September and Announces Tuesday's Overall Plan\n",
      "cleaned :   중국의 ZN 회사, 9월 고객 대상 도스 이벤트 참여 및 전체 계획 발표\n"
     ]
    },
    {
     "name": "stderr",
     "output_type": "stream",
     "text": [
      "Setting `pad_token_id` to `eos_token_id`:None for open-end generation.\n"
     ]
    },
    {
     "name": "stdout",
     "output_type": "stream",
     "text": [
      "origin :  제목없음\n",
      "cleaned :   제목 없음\n"
     ]
    },
    {
     "name": "stderr",
     "output_type": "stream",
     "text": [
      "Setting `pad_token_id` to `eos_token_id`:None for open-end generation.\n"
     ]
    },
    {
     "name": "stdout",
     "output_type": "stream",
     "text": [
      "origin :  Even if apartment prices soar in Q year, foreign investors will not limit them to 1-person 0-generation multiple homeowners. \n",
      "cleaned :   Q년 아파트 가격 급등에도 외국인 투자\n"
     ]
    },
    {
     "name": "stderr",
     "output_type": "stream",
     "text": [
      "Setting `pad_token_id` to `eos_token_id`:None for open-end generation.\n"
     ]
    },
    {
     "name": "stdout",
     "output_type": "stream",
     "text": [
      "origin :  4.81 Billion Won-Scale W16H Billion Won-Scale Facility Construction Project\n",
      "cleaned :   4.81조 원 규모 W16H 1조 원 규모 시설 구축 프로젝트\n"
     ]
    },
    {
     "name": "stderr",
     "output_type": "stream",
     "text": [
      "Setting `pad_token_id` to `eos_token_id`:None for open-end generation.\n"
     ]
    },
    {
     "name": "stdout",
     "output_type": "stream",
     "text": [
      "origin :  \"Telecom CFs Overwhelm PH for B20s with 99% Loss\"\n",
      "cleaned :   \"통신 CFs, B20s에 99% 손실로 인해 필리핀을 압도\"\n"
     ]
    },
    {
     "name": "stderr",
     "output_type": "stream",
     "text": [
      "Setting `pad_token_id` to `eos_token_id`:None for open-end generation.\n"
     ]
    },
    {
     "name": "stdout",
     "output_type": "stream",
     "text": [
      "origin :  The Won's Exchange Rate Falls by 1,200 Won Due to Bond Sales\n",
      "cleaned :   원 환율 1,200원 하락, 채권 판매 영향\n"
     ]
    },
    {
     "name": "stderr",
     "output_type": "stream",
     "text": [
      "Setting `pad_token_id` to `eos_token_id`:None for open-end generation.\n"
     ]
    },
    {
     "name": "stdout",
     "output_type": "stream",
     "text": [
      "origin :  KT&G Celebrates Its 15th Anniversary, Surpassing 2 Trillion Won in Cumulative Transactions\n",
      "cleaned :   KT&G, 2조 원 돌파… 15주년 축하합니다\n"
     ]
    },
    {
     "name": "stderr",
     "output_type": "stream",
     "text": [
      "Setting `pad_token_id` to `eos_token_id`:None for open-end generation.\n"
     ]
    },
    {
     "name": "stdout",
     "output_type": "stream",
     "text": [
      "origin :  Tightening of Loan Terms for Loan Sharks, Handwritten 4F on Important Matters\n",
      "cleaned :   대부업 금융조건 강화, 중요한 사항에 대한 손편지 4F\n"
     ]
    },
    {
     "name": "stderr",
     "output_type": "stream",
     "text": [
      "Setting `pad_token_id` to `eos_token_id`:None for open-end generation.\n"
     ]
    },
    {
     "name": "stdout",
     "output_type": "stream",
     "text": [
      "origin :  \"Lineup for the Q&A session with Sunup Club over two days\"\n",
      "cleaned :   \"양일간 선업클럽과의 질의응답 세션 라인업\"\n"
     ]
    },
    {
     "name": "stderr",
     "output_type": "stream",
     "text": [
      "Setting `pad_token_id` to `eos_token_id`:None for open-end generation.\n"
     ]
    },
    {
     "name": "stdout",
     "output_type": "stream",
     "text": [
      "origin :  2G Discount Event to Be Held in September\n",
      "cleaned :   9월 2G 할인 행사 예정\n"
     ]
    },
    {
     "name": "stderr",
     "output_type": "stream",
     "text": [
      "Setting `pad_token_id` to `eos_token_id`:None for open-end generation.\n"
     ]
    },
    {
     "name": "stdout",
     "output_type": "stream",
     "text": [
      "origin :  51 Bank Regular Personnel Management Researcher, Kang Gyo, Expands\n",
      "cleaned :   은\n"
     ]
    },
    {
     "name": "stderr",
     "output_type": "stream",
     "text": [
      "Setting `pad_token_id` to `eos_token_id`:None for open-end generation.\n"
     ]
    },
    {
     "name": "stdout",
     "output_type": "stream",
     "text": [
      "origin :  Sports Toto lottery sales budget of 550 million won\n",
      "cleaned :   스포츠 토토 복권 판매 예산 5500만원\n"
     ]
    },
    {
     "name": "stderr",
     "output_type": "stream",
     "text": [
      "Setting `pad_token_id` to `eos_token_id`:None for open-end generation.\n"
     ]
    },
    {
     "name": "stdout",
     "output_type": "stream",
     "text": [
      "origin :  G8 Countries Ease Travel Restrictions Related to COVID-19\n",
      "cleaned :   G8 국가들, 코로나19 관련\n"
     ]
    },
    {
     "name": "stderr",
     "output_type": "stream",
     "text": [
      "Setting `pad_token_id` to `eos_token_id`:None for open-end generation.\n"
     ]
    },
    {
     "name": "stdout",
     "output_type": "stream",
     "text": [
      "origin :  Bitcoin Fake Currency Surges 96-Fold\n",
      "cleaned :   가짜 비트코인 거래량 96배 급증\n"
     ]
    },
    {
     "name": "stderr",
     "output_type": "stream",
     "text": [
      "Setting `pad_token_id` to `eos_token_id`:None for open-end generation.\n"
     ]
    },
    {
     "name": "stdout",
     "output_type": "stream",
     "text": [
      "origin :  Korean Kosdaq stock prices rise, marking a boom in corporate activity\n",
      "cleaned :   코스닥 주가 상승, 기업 활동 활황\n"
     ]
    },
    {
     "name": "stderr",
     "output_type": "stream",
     "text": [
      "Setting `pad_token_id` to `eos_token_id`:None for open-end generation.\n"
     ]
    },
    {
     "name": "stdout",
     "output_type": "stream",
     "text": [
      "origin :  Purchasing 1% stake in Turi E&M\n",
      "cleaned :   투리 E&M 1% 지분 취득\n"
     ]
    },
    {
     "name": "stderr",
     "output_type": "stream",
     "text": [
      "Setting `pad_token_id` to `eos_token_id`:None for open-end generation.\n"
     ]
    },
    {
     "name": "stdout",
     "output_type": "stream",
     "text": [
      "origin :  U.S. Q, a, pVx1, Russia, XK7nP, Rebound, End\n",
      "cleaned :   미국, 러시아와의 회담에서 회복력 발휘, 결렬 상황 극복\n"
     ]
    },
    {
     "name": "stderr",
     "output_type": "stream",
     "text": [
      "Setting `pad_token_id` to `eos_token_id`:None for open-end generation.\n"
     ]
    },
    {
     "name": "stdout",
     "output_type": "stream",
     "text": [
      "origin :  Hana Tour Samsung Electronics 2D Business Performance Declines, Targeted\n",
      "cleaned :   삼성전자, 하나투어 2D 사업 성과 하락, 타겟팅\n"
     ]
    },
    {
     "name": "stderr",
     "output_type": "stream",
     "text": [
      "Setting `pad_token_id` to `eos_token_id`:None for open-end generation.\n"
     ]
    },
    {
     "name": "stdout",
     "output_type": "stream",
     "text": [
      "origin :  37 Million\n",
      "cleaned :   37,000만 명\n"
     ]
    },
    {
     "name": "stderr",
     "output_type": "stream",
     "text": [
      "Setting `pad_token_id` to `eos_token_id`:None for open-end generation.\n"
     ]
    },
    {
     "name": "stdout",
     "output_type": "stream",
     "text": [
      "origin :  Japan's Asahi Shimbun: Gono Foreign Minister Meets with USTR Ambassador, Agrees to Collaborate on WTO Reform\n",
      "cleaned :   일본 아사히 신문: 곤 일본 외상, 무역대표부 특사와 WTO 개혁 협력에 합의\n"
     ]
    },
    {
     "name": "stderr",
     "output_type": "stream",
     "text": [
      "Setting `pad_token_id` to `eos_token_id`:None for open-end generation.\n"
     ]
    },
    {
     "name": "stdout",
     "output_type": "stream",
     "text": [
      "origin :  Headline: \"Lifting the head and bleeding 100 million won in local savings\"\n",
      "cleaned :   \"지역 저축 1000만 원 낭패를 겪다\"\n"
     ]
    },
    {
     "name": "stderr",
     "output_type": "stream",
     "text": [
      "Setting `pad_token_id` to `eos_token_id`:None for open-end generation.\n"
     ]
    },
    {
     "name": "stdout",
     "output_type": "stream",
     "text": [
      "origin :  Rapper X Joins I2T in February\n",
      "cleaned :   래퍼 X, 2월에 I2T에 합류합니다.\n"
     ]
    },
    {
     "name": "stderr",
     "output_type": "stream",
     "text": [
      "Setting `pad_token_id` to `eos_token_id`:None for open-end generation.\n"
     ]
    },
    {
     "name": "stdout",
     "output_type": "stream",
     "text": [
      "origin :  Treasury Bond Yields Fall Across the Board; 3-Year Note Yield at 1.717%\n",
      "cleaned :   국채 금리 전반적으로 하락; 3년 만기 국채 금리 1.717%로 떨어짐\n"
     ]
    },
    {
     "name": "stderr",
     "output_type": "stream",
     "text": [
      "Setting `pad_token_id` to `eos_token_id`:None for open-end generation.\n"
     ]
    },
    {
     "name": "stdout",
     "output_type": "stream",
     "text": [
      "origin :  Daeshin Securities: A7 Pacific Confirmed Cases of New Virus\n",
      "cleaned :   대신증권: A7 태평양 신종 바이러스 확진\n"
     ]
    },
    {
     "name": "stderr",
     "output_type": "stream",
     "text": [
      "Setting `pad_token_id` to `eos_token_id`:None for open-end generation.\n"
     ]
    },
    {
     "name": "stdout",
     "output_type": "stream",
     "text": [
      "origin :  Today's 7/7 Binning Shock, H to Fight for F\n",
      "cleaned :   오늘의 7/7 빔쇼크, H가 F를 위한 싸움에 나선다.\n"
     ]
    },
    {
     "name": "stderr",
     "output_type": "stream",
     "text": [
      "Setting `pad_token_id` to `eos_token_id`:None for open-end generation.\n"
     ]
    },
    {
     "name": "stdout",
     "output_type": "stream",
     "text": [
      "origin :  Case Investment: Cheap Price for Stock Purchase Interest\n",
      "cleaned :   케이스 인베스트먼트: 저렴한 가격으로 주식 구매 관심\n"
     ]
    },
    {
     "name": "stderr",
     "output_type": "stream",
     "text": [
      "Setting `pad_token_id` to `eos_token_id`:None for open-end generation.\n"
     ]
    },
    {
     "name": "stdout",
     "output_type": "stream",
     "text": [
      "origin :  Journalist of Insurance Agency D for H Group Missing, 7 Hunters in Hunt\n",
      "cleaned :   보험회사 H 그룹 D사 기자 실종, 7명의 사냥꾼이 사냥\n"
     ]
    },
    {
     "name": "stderr",
     "output_type": "stream",
     "text": [
      "Setting `pad_token_id` to `eos_token_id`:None for open-end generation.\n"
     ]
    },
    {
     "name": "stdout",
     "output_type": "stream",
     "text": [
      "origin :  F&J Automotive Begins Acquisition of Detroit Research\n",
      "cleaned :   F&J 자동차, 디트로이트 연구 시작\n"
     ]
    },
    {
     "name": "stderr",
     "output_type": "stream",
     "text": [
      "Setting `pad_token_id` to `eos_token_id`:None for open-end generation.\n"
     ]
    },
    {
     "name": "stdout",
     "output_type": "stream",
     "text": [
      "origin :  In January 2021, the amendments to the Marine Life Protection Act were released in the Manchurian region, with a total of 28.08 million shares. \n",
      "cleaned :   2021년 1월, 만주지역에서 해양생물보호법 개정안 2,800만 주가 발표되다.\n"
     ]
    },
    {
     "name": "stderr",
     "output_type": "stream",
     "text": [
      "Setting `pad_token_id` to `eos_token_id`:None for open-end generation.\n"
     ]
    },
    {
     "name": "stdout",
     "output_type": "stream",
     "text": [
      "origin :  Today, Z-Cha Investors Trade Securities on the Scene at 9 AM\n",
      "cleaned :   오늘, Z-차 투자자들은 9시에 장에서 주식을 거래합니다.\n"
     ]
    },
    {
     "name": "stderr",
     "output_type": "stream",
     "text": [
      "Setting `pad_token_id` to `eos_token_id`:None for open-end generation.\n"
     ]
    },
    {
     "name": "stdout",
     "output_type": "stream",
     "text": [
      "origin :  LGM Desktop Computer Price Cut Under Review\n",
      "cleaned :   LGM 데스크탑 컴퓨터 가격 인하 검토\n"
     ]
    },
    {
     "name": "stderr",
     "output_type": "stream",
     "text": [
      "Setting `pad_token_id` to `eos_token_id`:None for open-end generation.\n"
     ]
    },
    {
     "name": "stdout",
     "output_type": "stream",
     "text": [
      "origin :  Channel 20th Year 5th Month Slight Decline\n",
      "cleaned :   채널 20주년 5월, 약간의 감소\n"
     ]
    },
    {
     "name": "stderr",
     "output_type": "stream",
     "text": [
      "Setting `pad_token_id` to `eos_token_id`:None for open-end generation.\n"
     ]
    },
    {
     "name": "stdout",
     "output_type": "stream",
     "text": [
      "origin :  Research on the Application of Soundproofing Method bmo 8 for Noise Control\n",
      "cleaned :   소음 통제를 위한 음향 차단 방법 bmo 8의 연구\n"
     ]
    },
    {
     "name": "stderr",
     "output_type": "stream",
     "text": [
      "Setting `pad_token_id` to `eos_token_id`:None for open-end generation.\n"
     ]
    },
    {
     "name": "stdout",
     "output_type": "stream",
     "text": [
      "origin :  vAppS Apple Music 9th Month Launch\n",
      "cleaned :   애플 뮤직 9개월째 출시\n"
     ]
    },
    {
     "name": "stderr",
     "output_type": "stream",
     "text": [
      "Setting `pad_token_id` to `eos_token_id`:None for open-end generation.\n"
     ]
    },
    {
     "name": "stdout",
     "output_type": "stream",
     "text": [
      "origin :  DB Financial Group's Pac10 Semiconductor Industry 4 Major Ratios Absorbed by NEON\n",
      "cleaned :   DB금융그룹의 Pac10 반도체 산업 4가지 주요 비율을 NEON이 흡수한다\n"
     ]
    },
    {
     "name": "stderr",
     "output_type": "stream",
     "text": [
      "Setting `pad_token_id` to `eos_token_id`:None for open-end generation.\n"
     ]
    },
    {
     "name": "stdout",
     "output_type": "stream",
     "text": [
      "origin :  World Cup Success Depends on 6 Free Trade Agreements\n",
      "cleaned :   월드컵 성공은 6개의 자유무역협정에 달려있다.\n"
     ]
    },
    {
     "name": "stderr",
     "output_type": "stream",
     "text": [
      "Setting `pad_token_id` to `eos_token_id`:None for open-end generation.\n"
     ]
    },
    {
     "name": "stdout",
     "output_type": "stream",
     "text": [
      "origin :  Q1 Steel Sheet Price Outlook: Feature X\n",
      "cleaned :   Q1 스틸 시트 가격 전망: 특징 X\n"
     ]
    },
    {
     "name": "stderr",
     "output_type": "stream",
     "text": [
      "Setting `pad_token_id` to `eos_token_id`:None for open-end generation.\n"
     ]
    },
    {
     "name": "stdout",
     "output_type": "stream",
     "text": [
      "origin :  BTS LG G7 ThinQ Ad Surpasses 1.5 Billion Views in 50 Days\n",
      "cleaned :   빅히트 엔터테인먼트 LG G7 씽큐 광고 50일 만에 1.5억 회 이상 조회\n"
     ]
    },
    {
     "name": "stderr",
     "output_type": "stream",
     "text": [
      "Setting `pad_token_id` to `eos_token_id`:None for open-end generation.\n"
     ]
    },
    {
     "name": "stdout",
     "output_type": "stream",
     "text": [
      "origin :  Hyundai Motor Records 2.53 Billion Won Operating Loss in 2nd Quarter\n",
      "cleaned :   현대자동차, 2분기 영업손실 253억 원 기록\n"
     ]
    },
    {
     "name": "stderr",
     "output_type": "stream",
     "text": [
      "Setting `pad_token_id` to `eos_token_id`:None for open-end generation.\n"
     ]
    },
    {
     "name": "stdout",
     "output_type": "stream",
     "text": [
      "origin :  LGU Prepares for 5G SA Commercialization, Verifies SA Technology with NSA Core Equipment\n",
      "cleaned :   LGU, 5G SA 상용화 준비, SA 기술 NSA 코어 장비를 통해 검증\n"
     ]
    },
    {
     "name": "stderr",
     "output_type": "stream",
     "text": [
      "Setting `pad_token_id` to `eos_token_id`:None for open-end generation.\n"
     ]
    },
    {
     "name": "stdout",
     "output_type": "stream",
     "text": [
      "origin :  7 New Mergers and Information Provision\n",
      "cleaned :   7개의 새로운 합병 및 정보 제공\n"
     ]
    },
    {
     "name": "stderr",
     "output_type": "stream",
     "text": [
      "Setting `pad_token_id` to `eos_token_id`:None for open-end generation.\n"
     ]
    },
    {
     "name": "stdout",
     "output_type": "stream",
     "text": [
      "origin :  The balance in my savings account has increased by KRW 2.73 billion over 7 years. \n",
      "cleaned :   저의 저축 계좌 잔액은 7년 동안 273억 원 증가했습니다. \n"
     ]
    },
    {
     "name": "stderr",
     "output_type": "stream",
     "text": [
      "Setting `pad_token_id` to `eos_token_id`:None for open-end generation.\n"
     ]
    },
    {
     "name": "stdout",
     "output_type": "stream",
     "text": [
      "origin :  Galaxy S New Model Launch Event on March 9th, Virtual Currency Likely to Be Sold at 0 Won\n",
      "cleaned :   갤럭시 S 신제품 출시 이벤트 3월 9일, 비트코인 0원 판매 가능\n"
     ]
    },
    {
     "name": "stderr",
     "output_type": "stream",
     "text": [
      "Setting `pad_token_id` to `eos_token_id`:None for open-end generation.\n"
     ]
    },
    {
     "name": "stdout",
     "output_type": "stream",
     "text": [
      "origin :  1,000,000 H3D V-Rent Monthly Rental of 200 Million Won\n",
      "cleaned :   2000만 H3D V-Rent 월 2억 원 렌탈\n"
     ]
    },
    {
     "name": "stderr",
     "output_type": "stream",
     "text": [
      "Setting `pad_token_id` to `eos_token_id`:None for open-end generation.\n"
     ]
    },
    {
     "name": "stdout",
     "output_type": "stream",
     "text": [
      "origin :  S Corporation Appoints 9 Directors from Power Institutions as Outside Directors\n",
      "cleaned :   S 법인, 전력기관 출신 9명의 외부 이사 선임\n"
     ]
    },
    {
     "name": "stderr",
     "output_type": "stream",
     "text": [
      "Setting `pad_token_id` to `eos_token_id`:None for open-end generation.\n"
     ]
    },
    {
     "name": "stdout",
     "output_type": "stream",
     "text": [
      "origin :  Friday Economic News 3: X1 Shaken for 8 Minutes Already\n",
      "cleaned :   금요일 경제 뉴스 3: X1 8분 동안 흔들려서 이미\n"
     ]
    },
    {
     "name": "stderr",
     "output_type": "stream",
     "text": [
      "Setting `pad_token_id` to `eos_token_id`:None for open-end generation.\n"
     ]
    },
    {
     "name": "stdout",
     "output_type": "stream",
     "text": [
      "origin :  E&Coding's B Shareholder Corporate Profit Increase\n",
      "cleaned :   에이앤코딩의 B 주주 기업 이익 증가\n"
     ]
    },
    {
     "name": "stderr",
     "output_type": "stream",
     "text": [
      "Setting `pad_token_id` to `eos_token_id`:None for open-end generation.\n"
     ]
    },
    {
     "name": "stdout",
     "output_type": "stream",
     "text": [
      "origin :  Sub-title: The 32nd Sports Chosun Conference, with 32 companies participating\n",
      "cleaned :   제32회 스포츠조선 컨퍼런스, 32개사가 참여\n"
     ]
    },
    {
     "name": "stderr",
     "output_type": "stream",
     "text": [
      "Setting `pad_token_id` to `eos_token_id`:None for open-end generation.\n"
     ]
    },
    {
     "name": "stdout",
     "output_type": "stream",
     "text": [
      "origin :  5,310 Units of D Sales Rights for U5 Part D Are Issued on December 5, 2021\n",
      "cleaned :   2021년 12월 5일에 U5 파트 D에 대한 5,310개 D 판매권이 발행됩니다.\n"
     ]
    },
    {
     "name": "stderr",
     "output_type": "stream",
     "text": [
      "Setting `pad_token_id` to `eos_token_id`:None for open-end generation.\n"
     ]
    },
    {
     "name": "stdout",
     "output_type": "stream",
     "text": [
      "origin :  Financial Services Commission Announces 4th Revised Draft of Comprehensive Review of Financial Policies\n",
      "cleaned :   금융위원회, 금융정책 종합 검토 4차 개정안 발표\n"
     ]
    },
    {
     "name": "stderr",
     "output_type": "stream",
     "text": [
      "Setting `pad_token_id` to `eos_token_id`:None for open-end generation.\n"
     ]
    },
    {
     "name": "stdout",
     "output_type": "stream",
     "text": [
      "origin :  Q Bank to Open First Branch in 2023\n",
      "cleaned :   Q 뱅크, 2023년에 첫 번째 지점 개설\n"
     ]
    },
    {
     "name": "stderr",
     "output_type": "stream",
     "text": [
      "Setting `pad_token_id` to `eos_token_id`:None for open-end generation.\n"
     ]
    },
    {
     "name": "stdout",
     "output_type": "stream",
     "text": [
      "origin :  Paint Industry's Consolidated 7Q Operating Profit: 8.8 Billion Won 54\n",
      "cleaned :   7분기 연속된 페인트 산업의 매출 성장: 880억 원, 54%\n"
     ]
    },
    {
     "name": "stderr",
     "output_type": "stream",
     "text": [
      "Setting `pad_token_id` to `eos_token_id`:None for open-end generation.\n"
     ]
    },
    {
     "name": "stdout",
     "output_type": "stream",
     "text": [
      "origin :  Kodak 3,900 billion won project\n",
      "cleaned :   코닥 3,900억 원 프로젝트\n"
     ]
    },
    {
     "name": "stderr",
     "output_type": "stream",
     "text": [
      "Setting `pad_token_id` to `eos_token_id`:None for open-end generation.\n"
     ]
    },
    {
     "name": "stdout",
     "output_type": "stream",
     "text": [
      "origin :  Ocean6 Group Acquires 200 Million Won Stake in Subsidiary\n",
      "cleaned :   오션6그룹, 자회사에 2000만원 투자\n"
     ]
    },
    {
     "name": "stderr",
     "output_type": "stream",
     "text": [
      "Setting `pad_token_id` to `eos_token_id`:None for open-end generation.\n"
     ]
    },
    {
     "name": "stdout",
     "output_type": "stream",
     "text": [
      "origin :  Hanra Connection 4Q Operating Profit Decreases by 300 Billion Won\n",
      "cleaned :   한라연결 4분기 영업이익 3,000억원 감소\n"
     ]
    },
    {
     "name": "stderr",
     "output_type": "stream",
     "text": [
      "Setting `pad_token_id` to `eos_token_id`:None for open-end generation.\n"
     ]
    },
    {
     "name": "stdout",
     "output_type": "stream",
     "text": [
      "origin :  Estrid Enters the Domestic Market\n",
      "cleaned :   에스트리드는 국내 시장에 진입합니다.\n"
     ]
    },
    {
     "name": "stderr",
     "output_type": "stream",
     "text": [
      "Setting `pad_token_id` to `eos_token_id`:None for open-end generation.\n"
     ]
    },
    {
     "name": "stdout",
     "output_type": "stream",
     "text": [
      "origin :  제목없음\n",
      "cleaned :   제목 없음\n"
     ]
    },
    {
     "name": "stderr",
     "output_type": "stream",
     "text": [
      "Setting `pad_token_id` to `eos_token_id`:None for open-end generation.\n"
     ]
    },
    {
     "name": "stdout",
     "output_type": "stream",
     "text": [
      "origin :  제목없음\n",
      "cleaned :   제목 없음\n"
     ]
    },
    {
     "name": "stderr",
     "output_type": "stream",
     "text": [
      "Setting `pad_token_id` to `eos_token_id`:None for open-end generation.\n"
     ]
    },
    {
     "name": "stdout",
     "output_type": "stream",
     "text": [
      "origin :  Oil prices hit their worst in 37 months on September 8th\n",
      "cleaned :   9월 8일, 국제유가 37개월 만에 최저 기록\n"
     ]
    },
    {
     "name": "stderr",
     "output_type": "stream",
     "text": [
      "Setting `pad_token_id` to `eos_token_id`:None for open-end generation.\n"
     ]
    },
    {
     "name": "stdout",
     "output_type": "stream",
     "text": [
      "origin :  European Parliament to push for the introduction of a GMO food safety certification scheme\n",
      "cleaned :   유럽 의회, GMO 식품 안전 인증 제도를 도입 촉진\n"
     ]
    },
    {
     "name": "stderr",
     "output_type": "stream",
     "text": [
      "Setting `pad_token_id` to `eos_token_id`:None for open-end generation.\n"
     ]
    },
    {
     "name": "stdout",
     "output_type": "stream",
     "text": [
      "origin :  iCafe Celtrion Kospi Rising Trend\n",
      "cleaned :   iCafe 셀트리온 코스피 상승 트렌드\n"
     ]
    },
    {
     "name": "stderr",
     "output_type": "stream",
     "text": [
      "Setting `pad_token_id` to `eos_token_id`:None for open-end generation.\n"
     ]
    },
    {
     "name": "stdout",
     "output_type": "stream",
     "text": [
      "origin :  제목없음\n",
      "cleaned :   (제목 없음)\n"
     ]
    },
    {
     "name": "stderr",
     "output_type": "stream",
     "text": [
      "Setting `pad_token_id` to `eos_token_id`:None for open-end generation.\n"
     ]
    },
    {
     "name": "stdout",
     "output_type": "stream",
     "text": [
      "origin :  SK Telecom's 5G service reaches 1 million subscribers, breaking a world record\n",
      "cleaned :   SK텔레콤, 세계 최초 5G 가입자 100만 명 돌파\n"
     ]
    },
    {
     "name": "stderr",
     "output_type": "stream",
     "text": [
      "Setting `pad_token_id` to `eos_token_id`:None for open-end generation.\n"
     ]
    },
    {
     "name": "stdout",
     "output_type": "stream",
     "text": [
      "origin :  SK Telecom and Slanting Marts, Reaching the Peak of Marts\n",
      "cleaned :   SK텔레콤과 슬랜팅 마트, 마트의 정점에 도달\n"
     ]
    },
    {
     "name": "stderr",
     "output_type": "stream",
     "text": [
      "Setting `pad_token_id` to `eos_token_id`:None for open-end generation.\n"
     ]
    },
    {
     "name": "stdout",
     "output_type": "stream",
     "text": [
      "origin :  제목없음\n",
      "cleaned :   제목 없음\n"
     ]
    },
    {
     "name": "stderr",
     "output_type": "stream",
     "text": [
      "Setting `pad_token_id` to `eos_token_id`:None for open-end generation.\n"
     ]
    },
    {
     "name": "stdout",
     "output_type": "stream",
     "text": [
      "origin :  Samsung Electronics Achieves 14 Trillion Won in Operating Profit in Q2\n",
      "cleaned :   삼성전자, 2분기 영업이익 14조 원 달성\n"
     ]
    },
    {
     "name": "stderr",
     "output_type": "stream",
     "text": [
      "Setting `pad_token_id` to `eos_token_id`:None for open-end generation.\n"
     ]
    },
    {
     "name": "stdout",
     "output_type": "stream",
     "text": [
      "origin :  First Quarter Performance of New Securities Firms Under Pressure to Decline\n",
      "cleaned :   신규 보안 회사들의 1분기 성과, 하락 압력 받습니다.\n"
     ]
    },
    {
     "name": "stderr",
     "output_type": "stream",
     "text": [
      "Setting `pad_token_id` to `eos_token_id`:None for open-end generation.\n"
     ]
    },
    {
     "name": "stdout",
     "output_type": "stream",
     "text": [
      "origin :  2018 ICT Samsung Foldable Phone, Will it Be the New Year's Rival to Apple iPhone X?\n",
      "cleaned :   2018년 ICT 삼성 폴더블폰, 올해 애플 아이폰X의 새로운 경쟁자 될까?\n"
     ]
    },
    {
     "name": "stderr",
     "output_type": "stream",
     "text": [
      "Setting `pad_token_id` to `eos_token_id`:None for open-end generation.\n"
     ]
    },
    {
     "name": "stdout",
     "output_type": "stream",
     "text": [
      "origin :  Songpa Cam M Athlete Wins Asian Games Bronze Medal\n",
      "cleaned :  송파캠 M 운동 선수, 아시안 게임 동메달 획득\n"
     ]
    },
    {
     "name": "stderr",
     "output_type": "stream",
     "text": [
      "Setting `pad_token_id` to `eos_token_id`:None for open-end generation.\n"
     ]
    },
    {
     "name": "stdout",
     "output_type": "stream",
     "text": [
      "origin :  T Wave of Ga Companies for Enterprise Use 7 DR\n",
      "cleaned :   가 기업의 기업용 7차 T파도\n"
     ]
    },
    {
     "name": "stderr",
     "output_type": "stream",
     "text": [
      "Setting `pad_token_id` to `eos_token_id`:None for open-end generation.\n"
     ]
    },
    {
     "name": "stdout",
     "output_type": "stream",
     "text": [
      "origin :  Stocks Recover to 2,800 Line Due to Institutional Buying\n",
      "cleaned :   기관들의 매수로 주가 회복, 2,800선 돌파\n"
     ]
    },
    {
     "name": "stderr",
     "output_type": "stream",
     "text": [
      "Setting `pad_token_id` to `eos_token_id`:None for open-end generation.\n"
     ]
    },
    {
     "name": "stdout",
     "output_type": "stream",
     "text": [
      "origin :  Cerillion1C Planning & Engineering 2020 - 520 Million KRW Grand Prize\n",
      "cleaned :   세릴리온 1C 계획 및 엔지니어링 2020 - 520억 원의 그랜드 프라이즈\n"
     ]
    },
    {
     "name": "stderr",
     "output_type": "stream",
     "text": [
      "Setting `pad_token_id` to `eos_token_id`:None for open-end generation.\n"
     ]
    },
    {
     "name": "stdout",
     "output_type": "stream",
     "text": [
      "origin :  H Cough Medicine Rises to KRX 31st Level, Urged to Buy\n",
      "cleaned :   기침약 급등 KRX 31위, 매수 권유\n"
     ]
    },
    {
     "name": "stderr",
     "output_type": "stream",
     "text": [
      "Setting `pad_token_id` to `eos_token_id`:None for open-end generation.\n"
     ]
    },
    {
     "name": "stdout",
     "output_type": "stream",
     "text": [
      "origin :  CPI Declines Then Reverses, Records Highest in 20 Months\n",
      "cleaned :   CPI 하락 후 반전, 20개월 만에 최고 기록\n"
     ]
    },
    {
     "name": "stderr",
     "output_type": "stream",
     "text": [
      "Setting `pad_token_id` to `eos_token_id`:None for open-end generation.\n"
     ]
    },
    {
     "name": "stdout",
     "output_type": "stream",
     "text": [
      "origin :  제목없음\n",
      "cleaned :   제목 없음\n"
     ]
    },
    {
     "name": "stderr",
     "output_type": "stream",
     "text": [
      "Setting `pad_token_id` to `eos_token_id`:None for open-end generation.\n"
     ]
    },
    {
     "name": "stdout",
     "output_type": "stream",
     "text": [
      "origin :  Many customers from the 2nd financial sector are moving to the first financial sector. \n",
      "cleaned :   제2금융권 고객들이 제1금융권으로 이동하고 있습니다.\n"
     ]
    },
    {
     "name": "stderr",
     "output_type": "stream",
     "text": [
      "Setting `pad_token_id` to `eos_token_id`:None for open-end generation.\n"
     ]
    },
    {
     "name": "stdout",
     "output_type": "stream",
     "text": [
      "origin :  SZE Project Part 2 Slated for July 2023\n",
      "cleaned :   SZE\n"
     ]
    },
    {
     "name": "stderr",
     "output_type": "stream",
     "text": [
      "Setting `pad_token_id` to `eos_token_id`:None for open-end generation.\n"
     ]
    },
    {
     "name": "stdout",
     "output_type": "stream",
     "text": [
      "origin :  Hyundai Motor Co. launches Ampere battery discharge insurance\n",
      "cleaned :   현대자동차, 암페\n"
     ]
    },
    {
     "name": "stderr",
     "output_type": "stream",
     "text": [
      "Setting `pad_token_id` to `eos_token_id`:None for open-end generation.\n"
     ]
    },
    {
     "name": "stdout",
     "output_type": "stream",
     "text": [
      "origin :  The manufacturing industry outlook index in Busan is in a difficult situation, 6 journalists from Chosun Ilbo die, the worst in history\n",
      "cleaned :   부산의 제조업 산업 전망 지수는 어려운 상황에 빠져 있고, 조선일보의 6명의 기자들이 사망, 역대 최악의 사고 발생\n"
     ]
    },
    {
     "name": "stderr",
     "output_type": "stream",
     "text": [
      "Setting `pad_token_id` to `eos_token_id`:None for open-end generation.\n"
     ]
    },
    {
     "name": "stdout",
     "output_type": "stream",
     "text": [
      "origin :  Golden Week Holiday Sales Plunge 48% for Distributors\n",
      "cleaned :   추석 연휴 판매량 48% 감소\n"
     ]
    },
    {
     "name": "stderr",
     "output_type": "stream",
     "text": [
      "Setting `pad_token_id` to `eos_token_id`:None for open-end generation.\n"
     ]
    },
    {
     "name": "stdout",
     "output_type": "stream",
     "text": [
      "origin :  Nimori Comprehensive Research Institute to Invest 200 Billion Won in New Factory Construction\n",
      "cleaned :   니모리 종합연구소, 신규 공장 건설에 2000억 원 투자\n"
     ]
    },
    {
     "name": "stderr",
     "output_type": "stream",
     "text": [
      "Setting `pad_token_id` to `eos_token_id`:None for open-end generation.\n"
     ]
    },
    {
     "name": "stdout",
     "output_type": "stream",
     "text": [
      "origin :  Wage Cuts in Eastern Region to Contribute to Economic Stabilization\n",
      "cleaned :   동부 지역의\n"
     ]
    },
    {
     "name": "stderr",
     "output_type": "stream",
     "text": [
      "Setting `pad_token_id` to `eos_token_id`:None for open-end generation.\n"
     ]
    },
    {
     "name": "stdout",
     "output_type": "stream",
     "text": [
      "origin :  Ulsan Area Firms Invest Over 30 Billion Won in 1Q This Year\n",
      "cleaned :   울산 지역 기업들이 올 1분기에 30억 원 이상 투자\n"
     ]
    },
    {
     "name": "stderr",
     "output_type": "stream",
     "text": [
      "Setting `pad_token_id` to `eos_token_id`:None for open-end generation.\n"
     ]
    },
    {
     "name": "stdout",
     "output_type": "stream",
     "text": [
      "origin :  Environmental Issues Arising from the Development of the Solar Energy Industry\n",
      "cleaned :   태양 에너지 산업 발전에 따른 환경 문제\n"
     ]
    },
    {
     "name": "stderr",
     "output_type": "stream",
     "text": [
      "Setting `pad_token_id` to `eos_token_id`:None for open-end generation.\n"
     ]
    },
    {
     "name": "stdout",
     "output_type": "stream",
     "text": [
      "origin :  Hanjin Kal Defends 10 Billion Won Short-Term Vehicle Lease\n",
      "cleaned :   한진칼, 1천억 원 자동차 임차 방어\n"
     ]
    },
    {
     "name": "stderr",
     "output_type": "stream",
     "text": [
      "Setting `pad_token_id` to `eos_token_id`:None for open-end generation.\n"
     ]
    },
    {
     "name": "stdout",
     "output_type": "stream",
     "text": [
      "origin :  \"3Q Operating Profit of Imagination Rises 4.36 Billion Won\"\n",
      "cleaned :   \"이매지네이션의 3분기 영업이익 4.36억 원 증가\" \n"
     ]
    },
    {
     "name": "stderr",
     "output_type": "stream",
     "text": [
      "Setting `pad_token_id` to `eos_token_id`:None for open-end generation.\n"
     ]
    },
    {
     "name": "stdout",
     "output_type": "stream",
     "text": [
      "origin :  LGU & Compier C Launches a 4% High-Interest Savings Account\n",
      "cleaned :   LGU & 컴피어 C, 4% 고금리 저축 계좌 출시\n"
     ]
    },
    {
     "name": "stderr",
     "output_type": "stream",
     "text": [
      "Setting `pad_token_id` to `eos_token_id`:None for open-end generation.\n"
     ]
    },
    {
     "name": "stdout",
     "output_type": "stream",
     "text": [
      "origin :  C1 Stock Manufacturer, 1.2 Billion Won in Net Cash Flow\n",
      "cleaned :   C1 주식 제조업체, 1.2억 원의 순현금 흐름\n"
     ]
    },
    {
     "name": "stderr",
     "output_type": "stream",
     "text": [
      "Setting `pad_token_id` to `eos_token_id`:None for open-end generation.\n"
     ]
    },
    {
     "name": "stdout",
     "output_type": "stream",
     "text": [
      "origin :  Hankuk Carbon 12 with a limit of 4 trillion won, and limited edition Okecian 34 release in full coverage\n",
      "cleaned :   한국탄 12, 4조 한정판 및 한정판 옥시언 34 출시\n"
     ]
    },
    {
     "name": "stderr",
     "output_type": "stream",
     "text": [
      "Setting `pad_token_id` to `eos_token_id`:None for open-end generation.\n"
     ]
    },
    {
     "name": "stdout",
     "output_type": "stream",
     "text": [
      "origin :  Exchange Rate Stabilization Expands Financial Investment and Currency Services\n",
      "cleaned :   환율\n"
     ]
    },
    {
     "name": "stderr",
     "output_type": "stream",
     "text": [
      "Setting `pad_token_id` to `eos_token_id`:None for open-end generation.\n"
     ]
    },
    {
     "name": "stdout",
     "output_type": "stream",
     "text": [
      "origin :  SK Telecom's 5G Pre-Order Exceeds 142,000\n",
      "cleaned :   SK텔레콤의 5G 사전 주문 142,000건 돌파\n"
     ]
    },
    {
     "name": "stderr",
     "output_type": "stream",
     "text": [
      "Setting `pad_token_id` to `eos_token_id`:None for open-end generation.\n"
     ]
    },
    {
     "name": "stdout",
     "output_type": "stream",
     "text": [
      "origin :  Residential Development Planning Committee Weakens\n",
      "cleaned :   주거 개발 계획위원회 약화\n"
     ]
    },
    {
     "name": "stderr",
     "output_type": "stream",
     "text": [
      "Setting `pad_token_id` to `eos_token_id`:None for open-end generation.\n"
     ]
    },
    {
     "name": "stdout",
     "output_type": "stream",
     "text": [
      "origin :  A Big Loser: A's 4th Nozzle 6 Faces a Dilemma\n",
      "cleaned :   큰 실패자: 4번째 노즐 6번은 딜레마에 직면합니다. \n"
     ]
    },
    {
     "name": "stderr",
     "output_type": "stream",
     "text": [
      "Setting `pad_token_id` to `eos_token_id`:None for open-end generation.\n"
     ]
    },
    {
     "name": "stdout",
     "output_type": "stream",
     "text": [
      "origin :  The government announces COVID-19 vaccine measures\n",
      "cleaned :   정부, 코로나19 백신 대응 조치를 발표\n"
     ]
    },
    {
     "name": "stderr",
     "output_type": "stream",
     "text": [
      "Setting `pad_token_id` to `eos_token_id`:None for open-end generation.\n"
     ]
    },
    {
     "name": "stdout",
     "output_type": "stream",
     "text": [
      "origin :  Samsung Galaxy S7 Equipped with Word Processing Function\n",
      "cleaned :   삼성 갤럭시 S7, 워드프로세싱 기능 탑재\n"
     ]
    },
    {
     "name": "stderr",
     "output_type": "stream",
     "text": [
      "Setting `pad_token_id` to `eos_token_id`:None for open-end generation.\n"
     ]
    },
    {
     "name": "stdout",
     "output_type": "stream",
     "text": [
      "origin :  Dutch Cafe to Open in the Americas Region\n",
      "cleaned :   북미 지역에서 네덜란드 카페 개점\n"
     ]
    },
    {
     "name": "stderr",
     "output_type": "stream",
     "text": [
      "Setting `pad_token_id` to `eos_token_id`:None for open-end generation.\n"
     ]
    },
    {
     "name": "stdout",
     "output_type": "stream",
     "text": [
      "origin :  Mid-Term R&D Korea Fund\n",
      "cleaned :   중기 R&D 한국 기금\n"
     ]
    },
    {
     "name": "stderr",
     "output_type": "stream",
     "text": [
      "Setting `pad_token_id` to `eos_token_id`:None for open-end generation.\n"
     ]
    },
    {
     "name": "stdout",
     "output_type": "stream",
     "text": [
      "origin :  제목없음\n",
      "cleaned :   제목 없음\n"
     ]
    },
    {
     "name": "stderr",
     "output_type": "stream",
     "text": [
      "Setting `pad_token_id` to `eos_token_id`:None for open-end generation.\n"
     ]
    },
    {
     "name": "stdout",
     "output_type": "stream",
     "text": [
      "origin :  Samsung Electronics Records 797 Billion Won in Business Profit in Q3\n",
      "cleaned :   삼성전자, 3분기 사업이익 797억 원 기록\n"
     ]
    },
    {
     "name": "stderr",
     "output_type": "stream",
     "text": [
      "Setting `pad_token_id` to `eos_token_id`:None for open-end generation.\n"
     ]
    },
    {
     "name": "stdout",
     "output_type": "stream",
     "text": [
      "origin :  제목없음\n",
      "cleaned :   (제목 없음) \n"
     ]
    },
    {
     "name": "stderr",
     "output_type": "stream",
     "text": [
      "Setting `pad_token_id` to `eos_token_id`:None for open-end generation.\n"
     ]
    },
    {
     "name": "stdout",
     "output_type": "stream",
     "text": [
      "origin :  My W Up Company Bond M Line Soars, E Above F, VV Below\n",
      "cleaned :   My W 업계 관계자들의 회사 지분 M선이 상승, E선은 F를 웃돌고 VV선은 하락\n"
     ]
    },
    {
     "name": "stderr",
     "output_type": "stream",
     "text": [
      "Setting `pad_token_id` to `eos_token_id`:None for open-end generation.\n"
     ]
    },
    {
     "name": "stdout",
     "output_type": "stream",
     "text": [
      "origin :  M & D Participates in Hanwha JGI's Ubi9, C8 Merger\n",
      "cleaned :   한화 JGI의 Ubi9, C8 합병에 참여하는 M & D\n"
     ]
    },
    {
     "name": "stderr",
     "output_type": "stream",
     "text": [
      "Setting `pad_token_id` to `eos_token_id`:None for open-end generation.\n"
     ]
    },
    {
     "name": "stdout",
     "output_type": "stream",
     "text": [
      "origin :  Songdo Station W Hotel Pre-booking Begins, Expected to Attract 81,000 Families\n",
      "cleaned :   송도역 W 호텔 예약 시작, 81,000가족 유치 예정\n"
     ]
    },
    {
     "name": "stderr",
     "output_type": "stream",
     "text": [
      "Setting `pad_token_id` to `eos_token_id`:None for open-end generation.\n"
     ]
    },
    {
     "name": "stdout",
     "output_type": "stream",
     "text": [
      "origin :  Meet Mr. Park, the CEO of the 9th Line Moving to the First Stage\n",
      "cleaned :   9번 라인의 CEO 박 대표, 1단계로 이동\n"
     ]
    },
    {
     "name": "stderr",
     "output_type": "stream",
     "text": [
      "Setting `pad_token_id` to `eos_token_id`:None for open-end generation.\n"
     ]
    },
    {
     "name": "stdout",
     "output_type": "stream",
     "text": [
      "origin :  Kim Tae-hee Concerned About Car 2nd Grade Prisoner's Release\n",
      "cleaned :   김태희, 2차례 차\n"
     ]
    },
    {
     "name": "stderr",
     "output_type": "stream",
     "text": [
      "Setting `pad_token_id` to `eos_token_id`:None for open-end generation.\n"
     ]
    },
    {
     "name": "stdout",
     "output_type": "stream",
     "text": [
      "origin :  Eugene Construction Shareholders' Meeting Closes\n",
      "cleaned :   에이진 콘스트럭션 주주총회 폐막\n"
     ]
    },
    {
     "name": "stderr",
     "output_type": "stream",
     "text": [
      "Setting `pad_token_id` to `eos_token_id`:None for open-end generation.\n"
     ]
    },
    {
     "name": "stdout",
     "output_type": "stream",
     "text": [
      "origin :  Merger of Kookmin Bank and KB Kookmin Bank Expands Local Financial Savings\n",
      "cleaned :   국민은행과 한국투시은행의 합병으로 지역 금융세탁 확장\n"
     ]
    },
    {
     "name": "stderr",
     "output_type": "stream",
     "text": [
      "Setting `pad_token_id` to `eos_token_id`:None for open-end generation.\n"
     ]
    },
    {
     "name": "stdout",
     "output_type": "stream",
     "text": [
      "origin :  B Representative of the Women's B Division M Reservation H3Q Overlap Reservation\n",
      "cleaned :   여성 B군 B 대표자, M군 H3Q 겹친 예비역\n"
     ]
    },
    {
     "name": "stderr",
     "output_type": "stream",
     "text": [
      "Setting `pad_token_id` to `eos_token_id`:None for open-end generation.\n"
     ]
    },
    {
     "name": "stdout",
     "output_type": "stream",
     "text": [
      "origin :  QsanU Financial Aid: ISC, Layoff Management, bSum, YM System 6\n",
      "cleaned :   금융지원: ISC, 해고 관리, bSum, YM 시스템 6\n"
     ]
    },
    {
     "name": "stderr",
     "output_type": "stream",
     "text": [
      "Setting `pad_token_id` to `eos_token_id`:None for open-end generation.\n"
     ]
    },
    {
     "name": "stdout",
     "output_type": "stream",
     "text": [
      "origin :  Dollar Exchange Rate Locks at 1,220, Outlining Outlaying Game, 4th Round of Economic Monitoring\n",
      "cleaned :   1,220달러 환율, 예산 게임의 경계를 설정, 4차 경제 감시 회의\n"
     ]
    },
    {
     "name": "stderr",
     "output_type": "stream",
     "text": [
      "Setting `pad_token_id` to `eos_token_id`:None for open-end generation.\n"
     ]
    },
    {
     "name": "stdout",
     "output_type": "stream",
     "text": [
      "origin :  In the run-up to the US presidential election, R2F is under increased surveillance compared to a single foot. \n",
      "cleaned :   미국 대통령 선거 앞둔 상황에서 R2F는 단일 발의 R2F보다 더 많은 감시를 받고 있다.\n"
     ]
    },
    {
     "name": "stderr",
     "output_type": "stream",
     "text": [
      "Setting `pad_token_id` to `eos_token_id`:None for open-end generation.\n"
     ]
    },
    {
     "name": "stdout",
     "output_type": "stream",
     "text": [
      "origin :  U.S. MBA Women's Ratio Rises for 4 Consecutive Weeks\n",
      "cleaned :   미국 MBA 여성 비율 4주 연속 상승\n"
     ]
    },
    {
     "name": "stderr",
     "output_type": "stream",
     "text": [
      "Setting `pad_token_id` to `eos_token_id`:None for open-end generation.\n"
     ]
    },
    {
     "name": "stdout",
     "output_type": "stream",
     "text": [
      "origin :  U.S.-Korea M2 antibody, European B cell therapy, in full-scale Austrian clinical trial\n",
      "cleaned :   미국-한국 M2 항체, 유럽 B 세포 치료, 오스트리아 대규모 임상 시험 진행\n"
     ]
    },
    {
     "name": "stderr",
     "output_type": "stream",
     "text": [
      "Setting `pad_token_id` to `eos_token_id`:None for open-end generation.\n"
     ]
    },
    {
     "name": "stdout",
     "output_type": "stream",
     "text": [
      "origin :  Obama also acknowledged that there was no diplomatic failure between Asa and Trump\n",
      "cleaned :   오바마는 아사와 트럼프 사이의 외교적 실패를 인정했다.\n"
     ]
    },
    {
     "name": "stderr",
     "output_type": "stream",
     "text": [
      "Setting `pad_token_id` to `eos_token_id`:None for open-end generation.\n"
     ]
    },
    {
     "name": "stdout",
     "output_type": "stream",
     "text": [
      "origin :  Nagoya Branch of X Group Financial Company to Close Down\n",
      "cleaned :   나가오야 지점의 X 그룹 금융회사 폐쇄\n"
     ]
    },
    {
     "name": "stderr",
     "output_type": "stream",
     "text": [
      "Setting `pad_token_id` to `eos_token_id`:None for open-end generation.\n"
     ]
    },
    {
     "name": "stdout",
     "output_type": "stream",
     "text": [
      "origin :  3rd Quarter: Identity Verification is Essential, Pre-Registration is Required Before Using Medical Services\n",
      "cleaned :   3분기: 신분 확인 필수, 의료 서비스 이용 전에 사전 등록이 필요합니다.\n"
     ]
    },
    {
     "name": "stderr",
     "output_type": "stream",
     "text": [
      "Setting `pad_token_id` to `eos_token_id`:None for open-end generation.\n"
     ]
    },
    {
     "name": "stdout",
     "output_type": "stream",
     "text": [
      "origin :  France and Macron Target China at G7 Summit\n",
      "cleaned :   프랑스와 마크롱, G7 정상회담에서 중국을 겨냥한다\n"
     ]
    },
    {
     "name": "stderr",
     "output_type": "stream",
     "text": [
      "Setting `pad_token_id` to `eos_token_id`:None for open-end generation.\n"
     ]
    },
    {
     "name": "stdout",
     "output_type": "stream",
     "text": [
      "origin :  Kolon Plastics Records 5,813.8 Million Won in Net Operating Profit for Q1\n",
      "cleaned :   \n"
     ]
    },
    {
     "name": "stderr",
     "output_type": "stream",
     "text": [
      "Setting `pad_token_id` to `eos_token_id`:None for open-end generation.\n"
     ]
    },
    {
     "name": "stdout",
     "output_type": "stream",
     "text": [
      "origin :  China Begins Survey on Women's Voting Participation in Local Areas\n",
      "cleaned :   중국, 지역 선거에 여성 투표 참여 조사 시작\n"
     ]
    },
    {
     "name": "stderr",
     "output_type": "stream",
     "text": [
      "Setting `pad_token_id` to `eos_token_id`:None for open-end generation.\n"
     ]
    },
    {
     "name": "stdout",
     "output_type": "stream",
     "text": [
      "origin :  Two Injured in Twin Cities Explosions in Minneapolis, Minnesota\n",
      "cleaned :   미네소타주 미니애폴리스\n"
     ]
    },
    {
     "name": "stderr",
     "output_type": "stream",
     "text": [
      "Setting `pad_token_id` to `eos_token_id`:None for open-end generation.\n"
     ]
    },
    {
     "name": "stdout",
     "output_type": "stream",
     "text": [
      "origin :  \"Vx Grill Franchise from the Middle East, B Strongly Suggests Q as its Brand\"\n",
      "cleaned :   \"중동에서 온 Vx 그릴 프랜차이즈, B는 Q를 브랜드로 강력 추천한다.\"\n"
     ]
    },
    {
     "name": "stderr",
     "output_type": "stream",
     "text": [
      "Setting `pad_token_id` to `eos_token_id`:None for open-end generation.\n"
     ]
    },
    {
     "name": "stdout",
     "output_type": "stream",
     "text": [
      "origin :  SBS's 'It's Know-How' 112: Burning Sun Gate\n",
      "cleaned :   SBS의 '알고리즘' 112: 버닝썬 게이트\n"
     ]
    },
    {
     "name": "stderr",
     "output_type": "stream",
     "text": [
      "Setting `pad_token_id` to `eos_token_id`:None for open-end generation.\n"
     ]
    },
    {
     "name": "stdout",
     "output_type": "stream",
     "text": [
      "origin :  Estdream Gyeonggi Regional Children's Center, located in Guro-gu\n",
      "cleaned :   경기 지역 어린이 센터 에스드림, 구로구에 위치\n"
     ]
    },
    {
     "name": "stderr",
     "output_type": "stream",
     "text": [
      "Setting `pad_token_id` to `eos_token_id`:None for open-end generation.\n"
     ]
    },
    {
     "name": "stdout",
     "output_type": "stream",
     "text": [
      "origin :  South Korean Company Invests $100 Million in US X Corporation\n",
      "cleaned :  \n"
     ]
    },
    {
     "name": "stderr",
     "output_type": "stream",
     "text": [
      "Setting `pad_token_id` to `eos_token_id`:None for open-end generation.\n"
     ]
    },
    {
     "name": "stdout",
     "output_type": "stream",
     "text": [
      "origin :  Hong Kong’s Voting Rights for Issue 9 of the Prohibition of Candidacy are Under Review\n",
      "cleaned :   홍콩의 후보자 금지 제9항의 투표권은 검토 중입니다. \n"
     ]
    },
    {
     "name": "stderr",
     "output_type": "stream",
     "text": [
      "Setting `pad_token_id` to `eos_token_id`:None for open-end generation.\n"
     ]
    },
    {
     "name": "stdout",
     "output_type": "stream",
     "text": [
      "origin :  Jabez Calls on the Opposition to Compromise on S4T\n",
      "cleaned :   야벳이 S4T에 대한 야당의 타협을 촉구합니다.\n"
     ]
    },
    {
     "name": "stderr",
     "output_type": "stream",
     "text": [
      "Setting `pad_token_id` to `eos_token_id`:None for open-end generation.\n"
     ]
    },
    {
     "name": "stdout",
     "output_type": "stream",
     "text": [
      "origin :  UAE and UAE Cooperation Strengthened\n",
      "cleaned :   UAE와 UAE 협력 강화\n"
     ]
    },
    {
     "name": "stderr",
     "output_type": "stream",
     "text": [
      "Setting `pad_token_id` to `eos_token_id`:None for open-end generation.\n"
     ]
    },
    {
     "name": "stdout",
     "output_type": "stream",
     "text": [
      "origin :  Indo Air Force, K-Grand Combined WPO in Pakistan\n",
      "cleaned :   인도 공군, 파키스탄에서 K-그랜드 합동 WPO 개최\n"
     ]
    },
    {
     "name": "stderr",
     "output_type": "stream",
     "text": [
      "Setting `pad_token_id` to `eos_token_id`:None for open-end generation.\n"
     ]
    },
    {
     "name": "stdout",
     "output_type": "stream",
     "text": [
      "origin :  Putin and Saudi King Reach Agreement with Yoo Seo-joon's Mediation\n",
      "cleaned :   푸틴과 사우디 왕, 유세준의 중재로 합의 도출\n"
     ]
    },
    {
     "name": "stderr",
     "output_type": "stream",
     "text": [
      "Setting `pad_token_id` to `eos_token_id`:None for open-end generation.\n"
     ]
    },
    {
     "name": "stdout",
     "output_type": "stream",
     "text": [
      "origin :  Arab League Anti-D Resolution Summit: Iran's 9 Nations Agrees with 5 Nations\n",
      "cleaned :   아랍 연맹 대이란 결의안 회의: 9개국이 5개국과 동의함\n"
     ]
    },
    {
     "name": "stderr",
     "output_type": "stream",
     "text": [
      "Setting `pad_token_id` to `eos_token_id`:None for open-end generation.\n"
     ]
    },
    {
     "name": "stdout",
     "output_type": "stream",
     "text": [
      "origin :  O.A. Receives the Order of the British Empire for Helping North Korean Refugees and Becoming a Korean-British Royal Honor Recipient\n",
      "cleaned :   영국의 O.A., 북한 탈출민 돕고 한국-영국 왕실 영예 받았다\n"
     ]
    },
    {
     "name": "stderr",
     "output_type": "stream",
     "text": [
      "Setting `pad_token_id` to `eos_token_id`:None for open-end generation.\n"
     ]
    },
    {
     "name": "stdout",
     "output_type": "stream",
     "text": [
      "origin :  Minister Yuncker is not optimistic about the EU's withdrawal from Europe, with the 8 countries in question. \n",
      "cleaned :   유커스 내무부장관, 8개국 EU 탈퇴에 대해 낙관하지 않습니다. \n"
     ]
    },
    {
     "name": "stderr",
     "output_type": "stream",
     "text": [
      "Setting `pad_token_id` to `eos_token_id`:None for open-end generation.\n"
     ]
    },
    {
     "name": "stdout",
     "output_type": "stream",
     "text": [
      "origin :  2nd 9-in-1 Dividend, 5 Thematic Stocks of the 1st Lim Bio-Watch Committee of the Moon Jae-in Government Captured\n",
      "cleaned :   2차 9종 이\n"
     ]
    },
    {
     "name": "stderr",
     "output_type": "stream",
     "text": [
      "Setting `pad_token_id` to `eos_token_id`:None for open-end generation.\n"
     ]
    },
    {
     "name": "stdout",
     "output_type": "stream",
     "text": [
      "origin :  Ran Pang 2 days response\n",
      "cleaned :   팡 2일 응답\n"
     ]
    },
    {
     "name": "stderr",
     "output_type": "stream",
     "text": [
      "Setting `pad_token_id` to `eos_token_id`:None for open-end generation.\n"
     ]
    },
    {
     "name": "stdout",
     "output_type": "stream",
     "text": [
      "origin :  Hwang Kyo-ahn's former employee Kim Kang-min from Canada raises doubts about P-T's involvement, and is criticized for the third time\n",
      "cleaned :   캐나다의 김강민, 전 황교안 사무실 직원이 P-T의 관련성에 의문을 제기하며 3번째 비판\n"
     ]
    },
    {
     "name": "stderr",
     "output_type": "stream",
     "text": [
      "Setting `pad_token_id` to `eos_token_id`:None for open-end generation.\n"
     ]
    },
    {
     "name": "stdout",
     "output_type": "stream",
     "text": [
      "origin :  Organizing the Air-On Demonstration Flight\n",
      "cleaned :   에어온 데모 비행 준비\n"
     ]
    },
    {
     "name": "stderr",
     "output_type": "stream",
     "text": [
      "Setting `pad_token_id` to `eos_token_id`:None for open-end generation.\n"
     ]
    },
    {
     "name": "stdout",
     "output_type": "stream",
     "text": [
      "origin :  8:30 PM Serial Patrol After\n",
      "cleaned :   오후 8시 30분, 연속 순찰 이후\n"
     ]
    },
    {
     "name": "stderr",
     "output_type": "stream",
     "text": [
      "Setting `pad_token_id` to `eos_token_id`:None for open-end generation.\n"
     ]
    },
    {
     "name": "stdout",
     "output_type": "stream",
     "text": [
      "origin :  E-Si M-Force Large-Scale Operation Stabilization Council\n",
      "cleaned :   e-시 M-포스 대규모 작전 안정화 컨퍼런스\n"
     ]
    },
    {
     "name": "stderr",
     "output_type": "stream",
     "text": [
      "Setting `pad_token_id` to `eos_token_id`:None for open-end generation.\n"
     ]
    },
    {
     "name": "stdout",
     "output_type": "stream",
     "text": [
      "origin :  Hearing: Z2 AutoBahn Road Bx to Phx\n",
      "cleaned :   자동차 길 Z2 Bx에서 Ph\n"
     ]
    },
    {
     "name": "stderr",
     "output_type": "stream",
     "text": [
      "Setting `pad_token_id` to `eos_token_id`:None for open-end generation.\n"
     ]
    },
    {
     "name": "stdout",
     "output_type": "stream",
     "text": [
      "origin :  The Opening Ceremony of the Anti-Aging Conference with Nobel Prize Laureates\n",
      "cleaned :   노벨상 수상자들과 함께하는 노화에 대한 국제 컨퍼런스 개막식\n"
     ]
    },
    {
     "name": "stderr",
     "output_type": "stream",
     "text": [
      "Setting `pad_token_id` to `eos_token_id`:None for open-end generation.\n"
     ]
    },
    {
     "name": "stdout",
     "output_type": "stream",
     "text": [
      "origin :  New Zealand University Protests, Departmental Domestic Degrees\n",
      "cleaned :   뉴질랜드 대학, 학과 내 국내 학위 문제로 항의\n"
     ]
    },
    {
     "name": "stderr",
     "output_type": "stream",
     "text": [
      "Setting `pad_token_id` to `eos_token_id`:None for open-end generation.\n"
     ]
    },
    {
     "name": "stdout",
     "output_type": "stream",
     "text": [
      "origin :  Live from G City, West Virginia: Economic Revitalization Starts on D Day \n",
      "cleaned :   웨스트버지니아의 G시에서 생방송: 경제 활성화, D일을 시작\n"
     ]
    },
    {
     "name": "stderr",
     "output_type": "stream",
     "text": [
      "Setting `pad_token_id` to `eos_token_id`:None for open-end generation.\n"
     ]
    },
    {
     "name": "stdout",
     "output_type": "stream",
     "text": [
      "origin :  Abe's meeting with the Prime Minister, D country's 60 national jobs under threat, D union\n",
      "cleaned :   아베 총리와 D 국가의 60개 산업이 위기에 처해: D 연맹\n"
     ]
    },
    {
     "name": "stderr",
     "output_type": "stream",
     "text": [
      "Setting `pad_token_id` to `eos_token_id`:None for open-end generation.\n"
     ]
    },
    {
     "name": "stdout",
     "output_type": "stream",
     "text": [
      "origin :  United Nations Security Council, More Than 100 Civilian Deaths in Afghan Airstrike\n",
      "cleaned :   아프가니스탄 공습, 민간인 100명 이상 사망, 유엔 안보리 대응\n"
     ]
    },
    {
     "name": "stderr",
     "output_type": "stream",
     "text": [
      "Setting `pad_token_id` to `eos_token_id`:None for open-end generation.\n"
     ]
    },
    {
     "name": "stdout",
     "output_type": "stream",
     "text": [
      "origin :  Iranian Opposition Group Added to Sanctions List\n",
      "cleaned :   이란 반정부 집단, 추가 제재 대상\n"
     ]
    },
    {
     "name": "stderr",
     "output_type": "stream",
     "text": [
      "Setting `pad_token_id` to `eos_token_id`:None for open-end generation.\n"
     ]
    },
    {
     "name": "stdout",
     "output_type": "stream",
     "text": [
      "origin :  Crude Oil Prices Plunge to $8 per Barrel\n",
      "cleaned :   원유 가격이 1천 달러에 하락합니다. \n"
     ]
    },
    {
     "name": "stderr",
     "output_type": "stream",
     "text": [
      "Setting `pad_token_id` to `eos_token_id`:None for open-end generation.\n"
     ]
    },
    {
     "name": "stdout",
     "output_type": "stream",
     "text": [
      "origin :  China's Defense Ministry Mentions Deployment of THAAD\n",
      "cleaned :   중국 국방부, THAAD 배치 언급\n"
     ]
    },
    {
     "name": "stderr",
     "output_type": "stream",
     "text": [
      "Setting `pad_token_id` to `eos_token_id`:None for open-end generation.\n"
     ]
    },
    {
     "name": "stdout",
     "output_type": "stream",
     "text": [
      "origin :  North Korean Drone Strike Sparks Shock and Fear\n",
      "cleaned :   북한 드론 공격, 충격과 공포 조성\n"
     ]
    },
    {
     "name": "stderr",
     "output_type": "stream",
     "text": [
      "Setting `pad_token_id` to `eos_token_id`:None for open-end generation.\n"
     ]
    },
    {
     "name": "stdout",
     "output_type": "stream",
     "text": [
      "origin :  Rwandan Collapse Crisis: University Area Collapse Accident in Indonesia\n",
      "cleaned :   인도네시아에서 대학 지역 붕괴 사고, 르완다 붕괴 위기\n"
     ]
    },
    {
     "name": "stderr",
     "output_type": "stream",
     "text": [
      "Setting `pad_token_id` to `eos_token_id`:None for open-end generation.\n"
     ]
    },
    {
     "name": "stdout",
     "output_type": "stream",
     "text": [
      "origin :  Let's Present an Independent Position on LEXISNEXIS UK & Ireland\n",
      "cleaned :  \n"
     ]
    },
    {
     "name": "stderr",
     "output_type": "stream",
     "text": [
      "Setting `pad_token_id` to `eos_token_id`:None for open-end generation.\n"
     ]
    },
    {
     "name": "stdout",
     "output_type": "stream",
     "text": [
      "origin :  Five people sign a petition against Putin's terror law\n",
      "cleaned :   푸틴의 테러법에 반대하는 5명의 사람들이 청원서에 서\n"
     ]
    },
    {
     "name": "stderr",
     "output_type": "stream",
     "text": [
      "Setting `pad_token_id` to `eos_token_id`:None for open-end generation.\n"
     ]
    },
    {
     "name": "stdout",
     "output_type": "stream",
     "text": [
      "origin :  Xi Jinping Continues to Follow the Path of the Common People's Life\n",
      "cleaned :   시진핑, 공동체의 삶의 길을 계속 따라간다\n"
     ]
    },
    {
     "name": "stderr",
     "output_type": "stream",
     "text": [
      "Setting `pad_token_id` to `eos_token_id`:None for open-end generation.\n"
     ]
    },
    {
     "name": "stdout",
     "output_type": "stream",
     "text": [
      "origin :  Iran Nuclear Deal Opens Up in the Final Stretch\n",
      "cleaned :   이란 핵협상이 결승점으로 접어든다\n"
     ]
    },
    {
     "name": "stderr",
     "output_type": "stream",
     "text": [
      "Setting `pad_token_id` to `eos_token_id`:None for open-end generation.\n"
     ]
    },
    {
     "name": "stdout",
     "output_type": "stream",
     "text": [
      "origin :  Madgarverg's Madgaberg and Kyoungjung-ho Break Up Party\n",
      "cleaned :   매그버그의 매그버그와 경중호의 이별 파티\n"
     ]
    },
    {
     "name": "stderr",
     "output_type": "stream",
     "text": [
      "Setting `pad_token_id` to `eos_token_id`:None for open-end generation.\n"
     ]
    },
    {
     "name": "stdout",
     "output_type": "stream",
     "text": [
      "origin :   LA Consulate General, Korean Student Associations at UCLA and USC Share Job Information \n",
      "cleaned :   UCLA와 USC의 한국 학생회와 LA 총영사관, 취업 정보 공유\n"
     ]
    },
    {
     "name": "stderr",
     "output_type": "stream",
     "text": [
      "Setting `pad_token_id` to `eos_token_id`:None for open-end generation.\n"
     ]
    },
    {
     "name": "stdout",
     "output_type": "stream",
     "text": [
      "origin :  Marine Corps 1st Infantry Regiment Commander Kim Jae-yong Lieutenant Colonel, with 7 U.S. soldiers\n",
      "cleaned :   해병대 1보병연대장 김재용 소령,\n"
     ]
    },
    {
     "name": "stderr",
     "output_type": "stream",
     "text": [
      "Setting `pad_token_id` to `eos_token_id`:None for open-end generation.\n"
     ]
    },
    {
     "name": "stdout",
     "output_type": "stream",
     "text": [
      "origin :  9th Provincial Office, 7 Administrative Departments, and 771 Residents Gathered Together\n",
      "cleaned :   9번 지방사무소, 7개 행정부서, 771명의 주민이 한자리에\n"
     ]
    },
    {
     "name": "stderr",
     "output_type": "stream",
     "text": [
      "Setting `pad_token_id` to `eos_token_id`:None for open-end generation.\n"
     ]
    },
    {
     "name": "stdout",
     "output_type": "stream",
     "text": [
      "origin :  China Confirms It Will Begin Discussing the Second SARS Crisis in August\n",
      "cleaned :   중국, 8월에 두 번째 사스 위기 논의 시작 확인\n"
     ]
    },
    {
     "name": "stderr",
     "output_type": "stream",
     "text": [
      "Setting `pad_token_id` to `eos_token_id`:None for open-end generation.\n"
     ]
    },
    {
     "name": "stdout",
     "output_type": "stream",
     "text": [
      "origin :  Monday Demonstration of a Million, 8 Arrested\n",
      "cleaned :   월요일에 1,000만 명이 참여한 시위, 8명 체포\n"
     ]
    },
    {
     "name": "stderr",
     "output_type": "stream",
     "text": [
      "Setting `pad_token_id` to `eos_token_id`:None for open-end generation.\n"
     ]
    },
    {
     "name": "stdout",
     "output_type": "stream",
     "text": [
      "origin :  33rd Battle of K-POP FM Audio Clean: K-MOOC 6 Actions Not Performed\n",
      "cleaned :   제33회 K-POP 전쟁: K-MOOC 6단계 작업 미수행\n"
     ]
    },
    {
     "name": "stderr",
     "output_type": "stream",
     "text": [
      "Setting `pad_token_id` to `eos_token_id`:None for open-end generation.\n"
     ]
    },
    {
     "name": "stdout",
     "output_type": "stream",
     "text": [
      "origin :   SK Broadband Aggressively Offers to KT Digital \n",
      "cleaned :   SK 브라우드밴드, KT 디지털에 적극적인 제안\n"
     ]
    },
    {
     "name": "stderr",
     "output_type": "stream",
     "text": [
      "Setting `pad_token_id` to `eos_token_id`:None for open-end generation.\n"
     ]
    },
    {
     "name": "stdout",
     "output_type": "stream",
     "text": [
      "origin :  Two of 25 people collide with a street performer, one in critical condition\n",
      "cleaned :   25명 중 2명이\n"
     ]
    },
    {
     "name": "stderr",
     "output_type": "stream",
     "text": [
      "Setting `pad_token_id` to `eos_token_id`:None for open-end generation.\n"
     ]
    },
    {
     "name": "stdout",
     "output_type": "stream",
     "text": [
      "origin :  Hong Kong Protests: $15 Million in Damages, 3,000 Injured\n",
      "cleaned :   홍콩 시위: 15억 달러 손해, 3,000명 부상\n"
     ]
    },
    {
     "name": "stderr",
     "output_type": "stream",
     "text": [
      "Setting `pad_token_id` to `eos_token_id`:None for open-end generation.\n"
     ]
    },
    {
     "name": "stdout",
     "output_type": "stream",
     "text": [
      "origin :  SK Telecom AI Conference aix 2019 to be held\n",
      "cleaned :   SK텔레콤 AI 컨퍼런스 aix 2019 개최\n"
     ]
    },
    {
     "name": "stderr",
     "output_type": "stream",
     "text": [
      "Setting `pad_token_id` to `eos_token_id`:None for open-end generation.\n"
     ]
    },
    {
     "name": "stdout",
     "output_type": "stream",
     "text": [
      "origin :  Foshan Overseas Longshoremen's Union Delegation Fights for Their Rights at the Port of Gumi\n",
      "cleaned :   포산 해외항만 노동자 연맹 대표단, 구미항 노동권 보호 위해 싸움\n"
     ]
    },
    {
     "name": "stderr",
     "output_type": "stream",
     "text": [
      "Setting `pad_token_id` to `eos_token_id`:None for open-end generation.\n"
     ]
    },
    {
     "name": "stdout",
     "output_type": "stream",
     "text": [
      "origin :  United States, Preparing Sanctions on Iran - S. Exchange Ship Joins\n",
      "cleaned :   미국, 이란에 대한 제재 준비 - S. 교환선이 참여함\n"
     ]
    },
    {
     "name": "stderr",
     "output_type": "stream",
     "text": [
      "Setting `pad_token_id` to `eos_token_id`:None for open-end generation.\n"
     ]
    },
    {
     "name": "stdout",
     "output_type": "stream",
     "text": [
      "origin :  CCK in Jeonbuk Region Participates in Future Car Technology Development\n",
      "cleaned :   전북지역의 CCK, 미래자동차 기술 개발에 참여\n"
     ]
    },
    {
     "name": "stderr",
     "output_type": "stream",
     "text": [
      "Setting `pad_token_id` to `eos_token_id`:None for open-end generation.\n"
     ]
    },
    {
     "name": "stdout",
     "output_type": "stream",
     "text": [
      "origin :  Experts Analyze U.S. Real Estate Market Views\n",
      "cleaned :   전문가들이 미국 부동산 시장에 대한 견해 분석\n"
     ]
    },
    {
     "name": "stderr",
     "output_type": "stream",
     "text": [
      "Setting `pad_token_id` to `eos_token_id`:None for open-end generation.\n"
     ]
    },
    {
     "name": "stdout",
     "output_type": "stream",
     "text": [
      "origin :  Sri Lanka's Malariawave Situation Worsens\n",
      "cleaned :   스리랑카 말라리아 파동 상황 악화\n"
     ]
    },
    {
     "name": "stderr",
     "output_type": "stream",
     "text": [
      "Setting `pad_token_id` to `eos_token_id`:None for open-end generation.\n"
     ]
    },
    {
     "name": "stdout",
     "output_type": "stream",
     "text": [
      "origin :  Justice Party's In-kai-ah-hsan and MN in a tête-à-tête\n",
      "cleaned :   정의당 인카이아스와 MN의 tête-à-tête\n"
     ]
    },
    {
     "name": "stderr",
     "output_type": "stream",
     "text": [
      "Setting `pad_token_id` to `eos_token_id`:None for open-end generation.\n"
     ]
    },
    {
     "name": "stdout",
     "output_type": "stream",
     "text": [
      "origin :  Russia Provides Missile Technology to the United States\n",
      "cleaned :   러시아, 미국에 미사일 기술 제공\n"
     ]
    },
    {
     "name": "stderr",
     "output_type": "stream",
     "text": [
      "Setting `pad_token_id` to `eos_token_id`:None for open-end generation.\n"
     ]
    },
    {
     "name": "stdout",
     "output_type": "stream",
     "text": [
      "origin :  4th Generation Nuclear Power Plant Storing Core Radon\n",
      "cleaned :   4세대 원자력 발전소 핵심 라돈 저장\n"
     ]
    },
    {
     "name": "stderr",
     "output_type": "stream",
     "text": [
      "Setting `pad_token_id` to `eos_token_id`:None for open-end generation.\n"
     ]
    },
    {
     "name": "stdout",
     "output_type": "stream",
     "text": [
      "origin :  \"Bx8 in Japan: Like Mario, We Will Fight for DC Investment\"\n",
      "cleaned :   \"일본에서의 Bx8: 마리오처럼, 우리는 DC 투자를 위해 싸울 것이다.\"\n"
     ]
    },
    {
     "name": "stderr",
     "output_type": "stream",
     "text": [
      "Setting `pad_token_id` to `eos_token_id`:None for open-end generation.\n"
     ]
    },
    {
     "name": "stdout",
     "output_type": "stream",
     "text": [
      "origin :  Foreign Minister, 8-Bia Visit: KO Solution Not Possible\n",
      "cleaned :   외교부 장관, 8비아 방문: KO 해결책 불가능\n"
     ]
    },
    {
     "name": "stderr",
     "output_type": "stream",
     "text": [
      "Setting `pad_token_id` to `eos_token_id`:None for open-end generation.\n"
     ]
    },
    {
     "name": "stdout",
     "output_type": "stream",
     "text": [
      "origin :  Cooperation Among 8 Countries, Restoring Marine Ecosystems in the North American Region\n",
      "cleaned :   북아메리카 지역의 해양생태계 복원, 8개국 협력\n"
     ]
    },
    {
     "name": "stderr",
     "output_type": "stream",
     "text": [
      "Setting `pad_token_id` to `eos_token_id`:None for open-end generation.\n"
     ]
    },
    {
     "name": "stdout",
     "output_type": "stream",
     "text": [
      "origin :  France Responds to Iran's Missile Launch\n",
      "cleaned :   프랑스, 이란의 미사일 발사에 반응\n"
     ]
    },
    {
     "name": "stderr",
     "output_type": "stream",
     "text": [
      "Setting `pad_token_id` to `eos_token_id`:None for open-end generation.\n"
     ]
    },
    {
     "name": "stdout",
     "output_type": "stream",
     "text": [
      "origin :  Regretfully, the refugee issue arose in September.\n",
      "cleaned :   유감스럽게도, 난민 문제는 9월에 발생했습니다. \n"
     ]
    },
    {
     "name": "stderr",
     "output_type": "stream",
     "text": [
      "Setting `pad_token_id` to `eos_token_id`:None for open-end generation.\n"
     ]
    },
    {
     "name": "stdout",
     "output_type": "stream",
     "text": [
      "origin :  Russia's Pre-Oil and Gas Xmond to be Acquired by Former Construction Giant P\n",
      "cleaned :   러시아의 전 전기, 가스 기업 Xmond, 전 건설 대기업 P에 인수되다\n"
     ]
    },
    {
     "name": "stderr",
     "output_type": "stream",
     "text": [
      "Setting `pad_token_id` to `eos_token_id`:None for open-end generation.\n"
     ]
    },
    {
     "name": "stdout",
     "output_type": "stream",
     "text": [
      "origin :  China Accuses UN Committee of Having Bad Forces for Protesting Against North Korea\n",
      "cleaned :   중국, UN 위원회가 북한에 항의한 것에 대해\n"
     ]
    },
    {
     "name": "stderr",
     "output_type": "stream",
     "text": [
      "Setting `pad_token_id` to `eos_token_id`:None for open-end generation.\n"
     ]
    },
    {
     "name": "stdout",
     "output_type": "stream",
     "text": [
      "origin :  Security Council Meeting Held on Opening Day Amid Protests Over Support for China's State-Run 3 Networks\n",
      "cleaned :   보안 이사회 첫날, 중국 국영 3개 네\n"
     ]
    },
    {
     "name": "stderr",
     "output_type": "stream",
     "text": [
      "Setting `pad_token_id` to `eos_token_id`:None for open-end generation.\n"
     ]
    },
    {
     "name": "stdout",
     "output_type": "stream",
     "text": [
      "origin :   Conte Government Receives Approval for Italian Prime Minister Camilleri's 6th Coalition Government, with Party Formation and Delegation of Powers \n",
      "cleaned :   콘테 정부, 카밀레리 이탈리아 총리 6차 연립정부 승인을 받다: 정당 형성과 권한 위임\n"
     ]
    },
    {
     "name": "stderr",
     "output_type": "stream",
     "text": [
      "Setting `pad_token_id` to `eos_token_id`:None for open-end generation.\n"
     ]
    },
    {
     "name": "stdout",
     "output_type": "stream",
     "text": [
      "origin :  9th Akimiya Architectural Festival\n",
      "cleaned :   제9회 아키히마 아키텍처 페스티벌\n"
     ]
    },
    {
     "name": "stderr",
     "output_type": "stream",
     "text": [
      "Setting `pad_token_id` to `eos_token_id`:None for open-end generation.\n"
     ]
    },
    {
     "name": "stdout",
     "output_type": "stream",
     "text": [
      "origin :  Official Announcement of New Projects in the First Half of the Year in the Four Regions of the Busan-Gyeongnam Area\n",
      "cleaned :   부산-경남 지역 4개 지역의 첫 반년간 신규 사업 공식 발표\n"
     ]
    },
    {
     "name": "stderr",
     "output_type": "stream",
     "text": [
      "Setting `pad_token_id` to `eos_token_id`:None for open-end generation.\n"
     ]
    },
    {
     "name": "stdout",
     "output_type": "stream",
     "text": [
      "origin :  Official Proposal for a Summit between Russia and South Korea\n",
      "cleaned :   러시아-한국 정상회담 공식 제안\n"
     ]
    },
    {
     "name": "stderr",
     "output_type": "stream",
     "text": [
      "Setting `pad_token_id` to `eos_token_id`:None for open-end generation.\n"
     ]
    },
    {
     "name": "stdout",
     "output_type": "stream",
     "text": [
      "origin :  14,000 COVID-19 Patients Treated on April 14, 2020\n",
      "cleaned :   2020년 4월 14일, 코로나19 환자 14,000명 치료\n"
     ]
    },
    {
     "name": "stderr",
     "output_type": "stream",
     "text": [
      "Setting `pad_token_id` to `eos_token_id`:None for open-end generation.\n"
     ]
    },
    {
     "name": "stdout",
     "output_type": "stream",
     "text": [
      "origin :  9th Summit: NPT, Trade, Investment, FTA Cooperation, and More\n",
      "cleaned :   제9차 NPT, 무역, 투자, FTA 협력, 그리고 더 많은 것들\n"
     ]
    },
    {
     "name": "stderr",
     "output_type": "stream",
     "text": [
      "Setting `pad_token_id` to `eos_token_id`:None for open-end generation.\n"
     ]
    },
    {
     "name": "stdout",
     "output_type": "stream",
     "text": [
      "origin :  The Impact of Maternal Churches Diminishes in East Asia Due to the Spread of Waheism\n",
      "cleaned :   동아시아에서 마타르니 교회의 영향력은 웨헤이즘의 확산으로 감소하고 있습니다.\n"
     ]
    },
    {
     "name": "stderr",
     "output_type": "stream",
     "text": [
      "Setting `pad_token_id` to `eos_token_id`:None for open-end generation.\n"
     ]
    },
    {
     "name": "stdout",
     "output_type": "stream",
     "text": [
      "origin :  The 5J9 Branch of Taheo in Israel Achieves a Coalition of Opposition Parties\n",
      "cleaned :   이스라엘의 태허 5J9 지부, 야당 연합 성사\n"
     ]
    },
    {
     "name": "stderr",
     "output_type": "stream",
     "text": [
      "Setting `pad_token_id` to `eos_token_id`:None for open-end generation.\n"
     ]
    },
    {
     "name": "stdout",
     "output_type": "stream",
     "text": [
      "origin :  U.S. Signs 7th Trade Agreement in July\n",
      "cleaned :   미국, 7월 7번째 무역협정 체결\n"
     ]
    },
    {
     "name": "stderr",
     "output_type": "stream",
     "text": [
      "Setting `pad_token_id` to `eos_token_id`:None for open-end generation.\n"
     ]
    },
    {
     "name": "stdout",
     "output_type": "stream",
     "text": [
      "origin :  Austrian government votes to rearm as far-right rises to power\n",
      "cleaned :   오스트리아 정부, 극우 정당의 집권에 맞춰 재무장을 결정\n"
     ]
    },
    {
     "name": "stderr",
     "output_type": "stream",
     "text": [
      "Setting `pad_token_id` to `eos_token_id`:None for open-end generation.\n"
     ]
    },
    {
     "name": "stdout",
     "output_type": "stream",
     "text": [
      "origin :  President Obama Announces the Fourth Bomb Ban Act\n",
      "cleaned :   제4차 폭탄 금지법 발표\n"
     ]
    },
    {
     "name": "stderr",
     "output_type": "stream",
     "text": [
      "Setting `pad_token_id` to `eos_token_id`:None for open-end generation.\n"
     ]
    },
    {
     "name": "stdout",
     "output_type": "stream",
     "text": [
      "origin :  China Continues to Pursue the 5th Generation Artillery Project\n",
      "cleaned :   중국, 5세대 방위사업 프로젝트 지속 추진\n"
     ]
    },
    {
     "name": "stderr",
     "output_type": "stream",
     "text": [
      "Setting `pad_token_id` to `eos_token_id`:None for open-end generation.\n"
     ]
    },
    {
     "name": "stdout",
     "output_type": "stream",
     "text": [
      "origin :  6 Japanese Candidates to Run for Office, 15th in National Assembly, 22nd in Kobe Ceremony\n",
      "cleaned :   일본 6명 후보, 15번째 국회의원, 22번째 고베 행사 출마\n"
     ]
    },
    {
     "name": "stderr",
     "output_type": "stream",
     "text": [
      "Setting `pad_token_id` to `eos_token_id`:None for open-end generation.\n"
     ]
    },
    {
     "name": "stdout",
     "output_type": "stream",
     "text": [
      "origin :  United Voice on Obama's Speech Style\n",
      "cleaned :   오바마의\n"
     ]
    },
    {
     "name": "stderr",
     "output_type": "stream",
     "text": [
      "Setting `pad_token_id` to `eos_token_id`:None for open-end generation.\n"
     ]
    },
    {
     "name": "stdout",
     "output_type": "stream",
     "text": [
      "origin :  K-3S: 2 Dead and 7 Evacuated in 3 Provinces Nationwide\n",
      "cleaned :   전국 3개 지역에서 K-3S 사고: 2명 사망, 7명\n"
     ]
    },
    {
     "name": "stderr",
     "output_type": "stream",
     "text": [
      "Setting `pad_token_id` to `eos_token_id`:None for open-end generation.\n"
     ]
    },
    {
     "name": "stdout",
     "output_type": "stream",
     "text": [
      "origin :  u-country E-organization KGC's 'Iraque' vs E-anti \n",
      "cleaned :   우-나라 E-조직 KGC의 '이라크' vs E-반대\n"
     ]
    },
    {
     "name": "stderr",
     "output_type": "stream",
     "text": [
      "Setting `pad_token_id` to `eos_token_id`:None for open-end generation.\n"
     ]
    },
    {
     "name": "stdout",
     "output_type": "stream",
     "text": [
      "origin :  Rude Diplomacy Policy, Unrelated to Japan, Replaced... 4 Injured, Abe 11th Place\n",
      "cleaned :   무례한 외교 정책, 일본과 관계없이 대체... 4명 부상, 아베 11번째로 랭크됨\n"
     ]
    },
    {
     "name": "stderr",
     "output_type": "stream",
     "text": [
      "Setting `pad_token_id` to `eos_token_id`:None for open-end generation.\n"
     ]
    },
    {
     "name": "stdout",
     "output_type": "stream",
     "text": [
      "origin :  KT and NBIoT Business Collaboration Agreement\n",
      "cleaned :   KT와 NBIoT 사업 협력 MOU 체결\n"
     ]
    },
    {
     "name": "stderr",
     "output_type": "stream",
     "text": [
      "Setting `pad_token_id` to `eos_token_id`:None for open-end generation.\n"
     ]
    },
    {
     "name": "stdout",
     "output_type": "stream",
     "text": [
      "origin :  Globalization Must Be Opposed: G2 Countries Must Worry About This\n",
      "cleaned :   글로벌화는 반대되어야 한다: G2 국가들은 이에 대해 걱정해야 한다\n"
     ]
    },
    {
     "name": "stderr",
     "output_type": "stream",
     "text": [
      "Setting `pad_token_id` to `eos_token_id`:None for open-end generation.\n"
     ]
    },
    {
     "name": "stdout",
     "output_type": "stream",
     "text": [
      "origin :  제목없음\n",
      "cleaned :   제목 없음\n"
     ]
    },
    {
     "name": "stderr",
     "output_type": "stream",
     "text": [
      "Setting `pad_token_id` to `eos_token_id`:None for open-end generation.\n"
     ]
    },
    {
     "name": "stdout",
     "output_type": "stream",
     "text": [
      "origin :  KBS News 5: KTV Meteorological Agency Announcement, Broadcasted on J-Fuji TV\n",
      "cleaned :   KBS 뉴스 5: KTV 기상청 발표, J-Fuji TV에서 방송\n"
     ]
    },
    {
     "name": "stderr",
     "output_type": "stream",
     "text": [
      "Setting `pad_token_id` to `eos_token_id`:None for open-end generation.\n"
     ]
    },
    {
     "name": "stdout",
     "output_type": "stream",
     "text": [
      "origin :  Chinese App Developers Rebel Against Apple's Bullying\n",
      "cleaned :   중국 앱 개발자들이 애플의 괴롭힘에 반발합니다.\n"
     ]
    },
    {
     "name": "stderr",
     "output_type": "stream",
     "text": [
      "Setting `pad_token_id` to `eos_token_id`:None for open-end generation.\n"
     ]
    },
    {
     "name": "stdout",
     "output_type": "stream",
     "text": [
      "origin :  HDC Real Estate Incorporates 114 Subsidiary\n",
      "cleaned :   HDC 부동산이 114 자회사 통합\n"
     ]
    },
    {
     "name": "stderr",
     "output_type": "stream",
     "text": [
      "Setting `pad_token_id` to `eos_token_id`:None for open-end generation.\n"
     ]
    },
    {
     "name": "stdout",
     "output_type": "stream",
     "text": [
      "origin :  Taiwanese-American 7-accounts A Father B's Board of Directors, Was Picked or Not? ZN Investigation\n",
      "cleaned :   미국-타이완 7인 A부모 B사 사외이사, 선발됐나 안 됐나? ZN조사\n"
     ]
    },
    {
     "name": "stderr",
     "output_type": "stream",
     "text": [
      "Setting `pad_token_id` to `eos_token_id`:None for open-end generation.\n"
     ]
    },
    {
     "name": "stdout",
     "output_type": "stream",
     "text": [
      "origin :  Trump president mentions the situation of US troops facing off in Baghdad city\n",
      "cleaned :   트럼프 대통령, 바그다드 시에서 맞붙은 미국 병사들의 상황 언급\n"
     ]
    },
    {
     "name": "stderr",
     "output_type": "stream",
     "text": [
      "Setting `pad_token_id` to `eos_token_id`:None for open-end generation.\n"
     ]
    },
    {
     "name": "stdout",
     "output_type": "stream",
     "text": [
      "origin :  Endless Love in Florida: Philadelphia Honeymoon\n",
      "cleaned :   플로리다에서 끝없는 사랑: 필라델피아 결혼식 후원\n"
     ]
    },
    {
     "name": "stderr",
     "output_type": "stream",
     "text": [
      "Setting `pad_token_id` to `eos_token_id`:None for open-end generation.\n"
     ]
    },
    {
     "name": "stdout",
     "output_type": "stream",
     "text": [
      "origin :  US: 1000 Million Won in Freight Train Accident, 1 Dead, 100 Injured in 3 Days\n",
      "cleaned :   미국: 화물 열차 사고로 1000만 원 피해, 3일간 1명 사망, 100명 부상\n"
     ]
    },
    {
     "name": "stderr",
     "output_type": "stream",
     "text": [
      "Setting `pad_token_id` to `eos_token_id`:None for open-end generation.\n"
     ]
    },
    {
     "name": "stdout",
     "output_type": "stream",
     "text": [
      "origin :  Landslide Defeat for the Centrist Party in the Land General Election, First Rally Canceled\n",
      "cleaned :   중도 정당, 전국 총선 대패, 첫 집회 취소\n"
     ]
    },
    {
     "name": "stderr",
     "output_type": "stream",
     "text": [
      "Setting `pad_token_id` to `eos_token_id`:None for open-end generation.\n"
     ]
    },
    {
     "name": "stdout",
     "output_type": "stream",
     "text": [
      "origin :  Islamic State Infiltrates India\n",
      "cleaned :   이슬람 국가, 인도 침투\n"
     ]
    },
    {
     "name": "stderr",
     "output_type": "stream",
     "text": [
      "Setting `pad_token_id` to `eos_token_id`:None for open-end generation.\n"
     ]
    },
    {
     "name": "stdout",
     "output_type": "stream",
     "text": [
      "origin :  Milan Digital Square Outdoor Advertising\n",
      "cleaned :   밀란 디지털 스퀘어 야외 광고\n"
     ]
    },
    {
     "name": "stderr",
     "output_type": "stream",
     "text": [
      "Setting `pad_token_id` to `eos_token_id`:None for open-end generation.\n"
     ]
    },
    {
     "name": "stdout",
     "output_type": "stream",
     "text": [
      "origin :  G20 Summit with Saudi Arabia: Participating in the International Economic Conference\n",
      "cleaned :   G20 정상회담: 사우디아라비아에서 국제 경제 콘퍼런스 참여\n"
     ]
    },
    {
     "name": "stderr",
     "output_type": "stream",
     "text": [
      "Setting `pad_token_id` to `eos_token_id`:None for open-end generation.\n"
     ]
    },
    {
     "name": "stdout",
     "output_type": "stream",
     "text": [
      "origin :  Syrian Civil War: Taiwan's 7 nations, 'One Country, Two Systems' principle announced\n",
      "cleaned :   시리아 내전: 중화민국 7개국, '한 나라, 두 체제' 원칙 발표\n"
     ]
    },
    {
     "name": "stderr",
     "output_type": "stream",
     "text": [
      "Setting `pad_token_id` to `eos_token_id`:None for open-end generation.\n"
     ]
    },
    {
     "name": "stdout",
     "output_type": "stream",
     "text": [
      "origin :  Indonesia Approves a Batch of On-Energy Projects for 10 Companies\n",
      "cleaned :   인도네시아, 10개 기업에 에너지 프로젝트 승인\n"
     ]
    },
    {
     "name": "stderr",
     "output_type": "stream",
     "text": [
      "Setting `pad_token_id` to `eos_token_id`:None for open-end generation.\n"
     ]
    },
    {
     "name": "stdout",
     "output_type": "stream",
     "text": [
      "origin :  Coast Guard search vessel hit by Chinese vessel\n",
      "cleaned :   중국 선박이 해상구조선에 충돌\n"
     ]
    },
    {
     "name": "stderr",
     "output_type": "stream",
     "text": [
      "Setting `pad_token_id` to `eos_token_id`:None for open-end generation.\n"
     ]
    },
    {
     "name": "stdout",
     "output_type": "stream",
     "text": [
      "origin :  Teaching Australian 3rd Grade Students\n",
      "cleaned :   오스트레일리아 3학년 학생들을 위한 교육\n"
     ]
    },
    {
     "name": "stderr",
     "output_type": "stream",
     "text": [
      "Setting `pad_token_id` to `eos_token_id`:None for open-end generation.\n"
     ]
    },
    {
     "name": "stdout",
     "output_type": "stream",
     "text": [
      "origin :  China Yuan Rises to Record High, 25 Months After Lowest Level\n",
      "cleaned :   중국 위안화, 최저치 기록 25개월 만에 최고치 기록\n"
     ]
    },
    {
     "name": "stderr",
     "output_type": "stream",
     "text": [
      "Setting `pad_token_id` to `eos_token_id`:None for open-end generation.\n"
     ]
    },
    {
     "name": "stdout",
     "output_type": "stream",
     "text": [
      "origin :  Hongneung Street Cleaning Squad T Country Has the Most 8th Class, 6th Hospital Unit\n",
      "cleaned :   홍릉 거리 청소대국, 8급 1위, 6급 병원 단위 1위\n"
     ]
    },
    {
     "name": "stderr",
     "output_type": "stream",
     "text": [
      "Setting `pad_token_id` to `eos_token_id`:None for open-end generation.\n"
     ]
    },
    {
     "name": "stdout",
     "output_type": "stream",
     "text": [
      "origin :  APTI Korea Establishes New Business Division in Land Outside\n",
      "cleaned :   한국 APTI, 땅 밖의 새로운 비즈니스 부서 설립\n"
     ]
    },
    {
     "name": "stderr",
     "output_type": "stream",
     "text": [
      "Setting `pad_token_id` to `eos_token_id`:None for open-end generation.\n"
     ]
    },
    {
     "name": "stdout",
     "output_type": "stream",
     "text": [
      "origin :  Israel Launches 5 Rockets at Israel's Earth\n",
      "cleaned :   이스라엘, 지구에 5발 로켓 발사\n"
     ]
    },
    {
     "name": "stderr",
     "output_type": "stream",
     "text": [
      "Setting `pad_token_id` to `eos_token_id`:None for open-end generation.\n"
     ]
    },
    {
     "name": "stdout",
     "output_type": "stream",
     "text": [
      "origin :  Rex1T and Infant Care 7th Reopening Schedule Announced\n",
      "cleaned :   \n"
     ]
    },
    {
     "name": "stderr",
     "output_type": "stream",
     "text": [
      "Setting `pad_token_id` to `eos_token_id`:None for open-end generation.\n"
     ]
    },
    {
     "name": "stdout",
     "output_type": "stream",
     "text": [
      "origin :  President Hamma and President Washington DC hold summit\n",
      "cleaned :   대통령 하마와 워싱턴 D.C. 대통령이 정상회담을 개최합니다.\n"
     ]
    },
    {
     "name": "stderr",
     "output_type": "stream",
     "text": [
      "Setting `pad_token_id` to `eos_token_id`:None for open-end generation.\n"
     ]
    },
    {
     "name": "stdout",
     "output_type": "stream",
     "text": [
      "origin :  North Korea's Additional Provocation over 0cket Engine Test, Relying on China\n",
      "cleaned :   북한의 로켓엔진 시험 추가 도발, 중국 의존\n"
     ]
    },
    {
     "name": "stderr",
     "output_type": "stream",
     "text": [
      "Setting `pad_token_id` to `eos_token_id`:None for open-end generation.\n"
     ]
    },
    {
     "name": "stdout",
     "output_type": "stream",
     "text": [
      "origin :  No signs of trauma found in US prompt recall\n",
      "cleaned :   미국에서 발견된 외상 징후 없음, 제품 회수 조치\n"
     ]
    },
    {
     "name": "stderr",
     "output_type": "stream",
     "text": [
      "Setting `pad_token_id` to `eos_token_id`:None for open-end generation.\n"
     ]
    },
    {
     "name": "stdout",
     "output_type": "stream",
     "text": [
      "origin :  Russia Engages in Trade War with China Amid Tensions Between the US and Germany\n",
      "cleaned :   러시아, 미국과 독일 사이의 긴장 속에 중국과의 무역 전쟁에 참여\n"
     ]
    },
    {
     "name": "stderr",
     "output_type": "stream",
     "text": [
      "Setting `pad_token_id` to `eos_token_id`:None for open-end generation.\n"
     ]
    },
    {
     "name": "stdout",
     "output_type": "stream",
     "text": [
      "origin :  The EU Sends a Special Envoy to Iran to Avoid Sanctions\n",
      "cleaned :   유럽연합, 이란에 특별대표 파견해 제재 피하기\n"
     ]
    },
    {
     "name": "stderr",
     "output_type": "stream",
     "text": [
      "Setting `pad_token_id` to `eos_token_id`:None for open-end generation.\n"
     ]
    },
    {
     "name": "stdout",
     "output_type": "stream",
     "text": [
      "origin :  The 2024 World Manufacturing Expo is set to be held in W country.\n",
      "cleaned :   2024 세계 제조업 엑스포는 W 나라에서 개최될 예정입니다.\n"
     ]
    },
    {
     "name": "stderr",
     "output_type": "stream",
     "text": [
      "Setting `pad_token_id` to `eos_token_id`:None for open-end generation.\n"
     ]
    },
    {
     "name": "stdout",
     "output_type": "stream",
     "text": [
      "origin :  84th Trial in Congo: A Challenge for GE\n",
      "cleaned :   콩고 84번째 재판: GE의 도전\n"
     ]
    },
    {
     "name": "stderr",
     "output_type": "stream",
     "text": [
      "Setting `pad_token_id` to `eos_token_id`:None for open-end generation.\n"
     ]
    },
    {
     "name": "stdout",
     "output_type": "stream",
     "text": [
      "origin :  Airline Employees Banned from Making 4 Calls in Total\n",
      "cleaned :   항공사 직원들, 총 4회 전화 통화 금지\n"
     ]
    },
    {
     "name": "stderr",
     "output_type": "stream",
     "text": [
      "Setting `pad_token_id` to `eos_token_id`:None for open-end generation.\n"
     ]
    },
    {
     "name": "stdout",
     "output_type": "stream",
     "text": [
      "origin :  US-China Trade War: A Comparative Analysis of 7 Economic Sectors\n",
      "cleaned :   미국-중국 무역 전쟁: 7개 경제 분야의 비교 분석\n"
     ]
    },
    {
     "name": "stderr",
     "output_type": "stream",
     "text": [
      "Setting `pad_token_id` to `eos_token_id`:None for open-end generation.\n"
     ]
    },
    {
     "name": "stdout",
     "output_type": "stream",
     "text": [
      "origin :  The U.S. government rejects the appointment of the Taliban's vice president\n",
      "cleaned :   미 정부, 탈레반 부통령 임명\n"
     ]
    },
    {
     "name": "stderr",
     "output_type": "stream",
     "text": [
      "Setting `pad_token_id` to `eos_token_id`:None for open-end generation.\n"
     ]
    },
    {
     "name": "stdout",
     "output_type": "stream",
     "text": [
      "origin :  Yellow Treaty Assembly to be Held, February 27th\n",
      "cleaned :   황색 조약 회의, 2월 27일 개최\n"
     ]
    },
    {
     "name": "stderr",
     "output_type": "stream",
     "text": [
      "Setting `pad_token_id` to `eos_token_id`:None for open-end generation.\n"
     ]
    },
    {
     "name": "stdout",
     "output_type": "stream",
     "text": [
      "origin :  The Impact of France and Brexit Is Nonexistent\n",
      "cleaned :   프랑스와 브렉시트의 영향은 전혀 없다.\n"
     ]
    },
    {
     "name": "stderr",
     "output_type": "stream",
     "text": [
      "Setting `pad_token_id` to `eos_token_id`:None for open-end generation.\n"
     ]
    },
    {
     "name": "stdout",
     "output_type": "stream",
     "text": [
      "origin :  Pro-North Korea Group's Second Quarter Military Parade Ends on 15th\n",
      "cleaned :   북한 찬양 단체의 2분기 군사 퍼레이드 15일 종료\n"
     ]
    },
    {
     "name": "stderr",
     "output_type": "stream",
     "text": [
      "Setting `pad_token_id` to `eos_token_id`:None for open-end generation.\n"
     ]
    },
    {
     "name": "stdout",
     "output_type": "stream",
     "text": [
      "origin :  The following day, Turkey and Russia opposed the S3S Noise masterpiece plan.\n",
      "cleaned :   다음 날 터키와 러시아는 S3S 소음 마스터 계획에 반대했습니다.\n"
     ]
    },
    {
     "name": "stderr",
     "output_type": "stream",
     "text": [
      "Setting `pad_token_id` to `eos_token_id`:None for open-end generation.\n"
     ]
    },
    {
     "name": "stdout",
     "output_type": "stream",
     "text": [
      "origin :  KBO to Host Winter Meeting on 29-30 December for League Development Discussions\n",
      "cleaned :   KBO, 29-30일 리그 발전 논의를 위한 동계 회의 개최\n"
     ]
    },
    {
     "name": "stderr",
     "output_type": "stream",
     "text": [
      "Setting `pad_token_id` to `eos_token_id`:None for open-end generation.\n"
     ]
    },
    {
     "name": "stdout",
     "output_type": "stream",
     "text": [
      "origin :  17 Passengers Missing on Air Busan Flight\n",
      "cleaned :   에어부산 항공편 17명 탑승객 실종\n"
     ]
    },
    {
     "name": "stderr",
     "output_type": "stream",
     "text": [
      "Setting `pad_token_id` to `eos_token_id`:None for open-end generation.\n"
     ]
    },
    {
     "name": "stdout",
     "output_type": "stream",
     "text": [
      "origin :  Confucianism and R Religion, X of the C Y Clan\n",
      "cleaned :   유교와 R종교, C Y씨족의 X\n"
     ]
    },
    {
     "name": "stderr",
     "output_type": "stream",
     "text": [
      "Setting `pad_token_id` to `eos_token_id`:None for open-end generation.\n"
     ]
    },
    {
     "name": "stdout",
     "output_type": "stream",
     "text": [
      "origin :  Pope Francis: A Debate on Human Dignity and Moral Obligations\n",
      "cleaned :   교황 프란치스코: 인간 존엄성과 도덕적 의무에 대한 논쟁\n"
     ]
    },
    {
     "name": "stderr",
     "output_type": "stream",
     "text": [
      "Setting `pad_token_id` to `eos_token_id`:None for open-end generation.\n"
     ]
    },
    {
     "name": "stdout",
     "output_type": "stream",
     "text": [
      "origin :  Africa's Angora Rabbit Punishment Law Abolition Discussion\n",
      "cleaned :   아프리카 앙고라 토끼 처벌법 폐지 논의\n"
     ]
    },
    {
     "name": "stderr",
     "output_type": "stream",
     "text": [
      "Setting `pad_token_id` to `eos_token_id`:None for open-end generation.\n"
     ]
    },
    {
     "name": "stdout",
     "output_type": "stream",
     "text": [
      "origin :  Central Government to Support 2.6 Trillion Won for COVID-19 Response\n",
      "cleaned :   중앙 정부, 2.6조원 지원 COVID-19 대응\n"
     ]
    },
    {
     "name": "stderr",
     "output_type": "stream",
     "text": [
      "Setting `pad_token_id` to `eos_token_id`:None for open-end generation.\n"
     ]
    },
    {
     "name": "stdout",
     "output_type": "stream",
     "text": [
      "origin :  Sweden Requests the International Labour Organization (ILO) to Combat Corruption\n",
      "cleaned :   스웨덴, 국제노동기구(ILO)에 부패 근절 요청\n"
     ]
    },
    {
     "name": "stderr",
     "output_type": "stream",
     "text": [
      "Setting `pad_token_id` to `eos_token_id`:None for open-end generation.\n"
     ]
    },
    {
     "name": "stdout",
     "output_type": "stream",
     "text": [
      "origin :  C-Style Show Gains Popularity on Alexa App\n",
      "cleaned :   Alexa 앱에서 인기 있는 C-스타일 쇼\n"
     ]
    },
    {
     "name": "stderr",
     "output_type": "stream",
     "text": [
      "Setting `pad_token_id` to `eos_token_id`:None for open-end generation.\n"
     ]
    },
    {
     "name": "stdout",
     "output_type": "stream",
     "text": [
      "origin :  제목없음\n",
      "cleaned :   제목 없음\n"
     ]
    },
    {
     "name": "stderr",
     "output_type": "stream",
     "text": [
      "Setting `pad_token_id` to `eos_token_id`:None for open-end generation.\n"
     ]
    },
    {
     "name": "stdout",
     "output_type": "stream",
     "text": [
      "origin :  Upcoming K2 Tank to Visit Romania\n",
      "cleaned :   \n"
     ]
    },
    {
     "name": "stderr",
     "output_type": "stream",
     "text": [
      "Setting `pad_token_id` to `eos_token_id`:None for open-end generation.\n"
     ]
    },
    {
     "name": "stdout",
     "output_type": "stream",
     "text": [
      "origin :  W. Raell, Nedd R. Prime Minister's Operation Plan Against Japan\n",
      "cleaned :   일본에 대한 일본 총리의 작전 계획: W. Raell, Nedd R. Prime\n"
     ]
    },
    {
     "name": "stderr",
     "output_type": "stream",
     "text": [
      "Setting `pad_token_id` to `eos_token_id`:None for open-end generation.\n"
     ]
    },
    {
     "name": "stdout",
     "output_type": "stream",
     "text": [
      "origin :  Japan's LDP, 51 Draft of the Constitution Revision Bill, Hereditary Property Rights, and Tax Breaks for Inheritance\n",
      "cleaned :   일본의 LDP, 51개 조항의 헌법 개정 법안, 유산권, 상속세 감면\n"
     ]
    },
    {
     "name": "stderr",
     "output_type": "stream",
     "text": [
      "Setting `pad_token_id` to `eos_token_id`:None for open-end generation.\n"
     ]
    },
    {
     "name": "stdout",
     "output_type": "stream",
     "text": [
      "origin :  U.S. and European Nations Excluded from Sanctions for Missile Launch Rumors\n",
      "cleaned :   미사일 발사 소문에 대한 제재에서 미국과 유럽 국가 제외\n"
     ]
    },
    {
     "name": "stderr",
     "output_type": "stream",
     "text": [
      "Setting `pad_token_id` to `eos_token_id`:None for open-end generation.\n"
     ]
    },
    {
     "name": "stdout",
     "output_type": "stream",
     "text": [
      "origin :  Vice President Meets with Pence on TV Debate Over North Korea's Nuclear Issue\n",
      "cleaned :   북한 핵문제 TV 토론, 부통령과 펜스 회담\n"
     ]
    },
    {
     "name": "stderr",
     "output_type": "stream",
     "text": [
      "Setting `pad_token_id` to `eos_token_id`:None for open-end generation.\n"
     ]
    },
    {
     "name": "stdout",
     "output_type": "stream",
     "text": [
      "origin :  Sudan Opposition Parties 114 Strikes on the Way\n",
      "cleaned :   수단 반대파 114명, 파업 준비중\n"
     ]
    },
    {
     "name": "stderr",
     "output_type": "stream",
     "text": [
      "Setting `pad_token_id` to `eos_token_id`:None for open-end generation.\n"
     ]
    },
    {
     "name": "stdout",
     "output_type": "stream",
     "text": [
      "origin :  F C 싱크탱크, 브렉시트 48시간 방법 제시\n",
      "cleaned :   브렉시트 48시간 방법 제안: 싱크탱크의 혁신적 제안\n"
     ]
    },
    {
     "name": "stderr",
     "output_type": "stream",
     "text": [
      "Setting `pad_token_id` to `eos_token_id`:None for open-end generation.\n"
     ]
    },
    {
     "name": "stdout",
     "output_type": "stream",
     "text": [
      "origin :  Blue Peas 5 million tons to be imported, 50-year communication project\n",
      "cleaned :   파랑콩 5백만 톤 수입, 50년간의 소통 프로젝트\n"
     ]
    },
    {
     "name": "stderr",
     "output_type": "stream",
     "text": [
      "Setting `pad_token_id` to `eos_token_id`:None for open-end generation.\n"
     ]
    },
    {
     "name": "stdout",
     "output_type": "stream",
     "text": [
      "origin :  Non-Alignment 9 Countries Attend G20 Summit\n",
      "cleaned :   비동맹 \n"
     ]
    },
    {
     "name": "stderr",
     "output_type": "stream",
     "text": [
      "Setting `pad_token_id` to `eos_token_id`:None for open-end generation.\n"
     ]
    },
    {
     "name": "stdout",
     "output_type": "stream",
     "text": [
      "origin :  UAV Accident Occurs in Seoul Sky\n",
      "cleaned :   서울 하늘에서 UAV 사고 발생\n"
     ]
    },
    {
     "name": "stderr",
     "output_type": "stream",
     "text": [
      "Setting `pad_token_id` to `eos_token_id`:None for open-end generation.\n"
     ]
    },
    {
     "name": "stdout",
     "output_type": "stream",
     "text": [
      "origin :  48 Nurses Sacrificed, Some Children Died\n",
      "cleaned :   48명의 간호사가 희생되었고, 일부 어린이들이 사망했습니다. \n"
     ]
    },
    {
     "name": "stderr",
     "output_type": "stream",
     "text": [
      "Setting `pad_token_id` to `eos_token_id`:None for open-end generation.\n"
     ]
    },
    {
     "name": "stdout",
     "output_type": "stream",
     "text": [
      "origin :  BTS and Kai's NCT 127 Concert\n",
      "cleaned :   방탄소년단과 카이의 NCT 127 콘서트\n"
     ]
    },
    {
     "name": "stderr",
     "output_type": "stream",
     "text": [
      "Setting `pad_token_id` to `eos_token_id`:None for open-end generation.\n"
     ]
    },
    {
     "name": "stdout",
     "output_type": "stream",
     "text": [
      "origin :  Crude Oil Prices Soar as US Denies Waiver to JX, Warns of Hormuz Strait Passage\n",
      "cleaned :   원유 가격 급등, 미국이 JX에 면제를 거절하고 호르무즈 해협 통행 경고\n"
     ]
    },
    {
     "name": "stderr",
     "output_type": "stream",
     "text": [
      "Setting `pad_token_id` to `eos_token_id`:None for open-end generation.\n"
     ]
    },
    {
     "name": "stdout",
     "output_type": "stream",
     "text": [
      "origin :  The 44th batch of the 9th ship of Yanma B Co. has refused to participate in the Yau protest 36 times.\n",
      "cleaned :   제9대 양마B 기업 44번째 배의 승객들은 36회에 걸쳐 유아 항의에 참여하지 않았다.\n"
     ]
    },
    {
     "name": "stderr",
     "output_type": "stream",
     "text": [
      "Setting `pad_token_id` to `eos_token_id`:None for open-end generation.\n"
     ]
    },
    {
     "name": "stdout",
     "output_type": "stream",
     "text": [
      "origin :  Russia, Japan Resolve Territorial Dispute\n",
      "cleaned :   러시아와 일본, 영토 분쟁 해결\n"
     ]
    },
    {
     "name": "stderr",
     "output_type": "stream",
     "text": [
      "Setting `pad_token_id` to `eos_token_id`:None for open-end generation.\n"
     ]
    },
    {
     "name": "stdout",
     "output_type": "stream",
     "text": [
      "origin :  GO Conflict in France Launches Unusual Nuclear Missile Training\n",
      "cleaned :   프랑스에서 발생한 GO 분쟁, 비정상적인 핵미사일 훈련 실시\n"
     ]
    },
    {
     "name": "stderr",
     "output_type": "stream",
     "text": [
      "Setting `pad_token_id` to `eos_token_id`:None for open-end generation.\n"
     ]
    },
    {
     "name": "stdout",
     "output_type": "stream",
     "text": [
      "origin :  A 2,000-meter-high column of volcanic ash from Baekdu Mountain\n",
      "cleaned :   백두산 화산재 2,000m 높이의 화산재 열\n"
     ]
    },
    {
     "name": "stderr",
     "output_type": "stream",
     "text": [
      "Setting `pad_token_id` to `eos_token_id`:None for open-end generation.\n"
     ]
    },
    {
     "name": "stdout",
     "output_type": "stream",
     "text": [
      "origin :  I&J, 염설기업 차단\n",
      "cleaned :   염설기업 차단, I&J의 결정\n"
     ]
    },
    {
     "name": "stderr",
     "output_type": "stream",
     "text": [
      "Setting `pad_token_id` to `eos_token_id`:None for open-end generation.\n"
     ]
    },
    {
     "name": "stdout",
     "output_type": "stream",
     "text": [
      "origin :  U.S. 4-Term Congressman Debate Judgement: Clinton vs. Trump, Changing Tides Observed\n",
      "cleaned :   미국 4선 의원 후보 토론 판단: 클린턴 vs. 트럼프, 변화의 조짐\n"
     ]
    },
    {
     "name": "stderr",
     "output_type": "stream",
     "text": [
      "Setting `pad_token_id` to `eos_token_id`:None for open-end generation.\n"
     ]
    },
    {
     "name": "stdout",
     "output_type": "stream",
     "text": [
      "origin :  Social and Nuclear Missiles: 8 Countries Participate in Shanghai\n",
      "cleaned :   사회와\n"
     ]
    },
    {
     "name": "stderr",
     "output_type": "stream",
     "text": [
      "Setting `pad_token_id` to `eos_token_id`:None for open-end generation.\n"
     ]
    },
    {
     "name": "stdout",
     "output_type": "stream",
     "text": [
      "origin :  Larry Boxsmith A, 4th Round Suspension, Mid-Term Suspension\n",
      "cleaned :   래리 박스스미스, 4라운드 출장 정지, 중간 정지\n"
     ]
    },
    {
     "name": "stderr",
     "output_type": "stream",
     "text": [
      "Setting `pad_token_id` to `eos_token_id`:None for open-end generation.\n"
     ]
    },
    {
     "name": "stdout",
     "output_type": "stream",
     "text": [
      "origin :  Oidoo, PQ Corp, and Iwoobuobok must act quickly at 8. \n",
      "cleaned :   오두, P&Q 기업, 그리고 이우부복은 빠르게 행동해야 합니다. \n"
     ]
    },
    {
     "name": "stderr",
     "output_type": "stream",
     "text": [
      "Setting `pad_token_id` to `eos_token_id`:None for open-end generation.\n"
     ]
    },
    {
     "name": "stdout",
     "output_type": "stream",
     "text": [
      "origin :  North Korea's Response to Russia's North Korea Policy\n",
      "cleaned :   북한의 러시아 정책\n"
     ]
    },
    {
     "name": "stderr",
     "output_type": "stream",
     "text": [
      "Setting `pad_token_id` to `eos_token_id`:None for open-end generation.\n"
     ]
    },
    {
     "name": "stdout",
     "output_type": "stream",
     "text": [
      "origin :  A shooting incident occurred at the Mi Hutton Mall\n",
      "cleaned :   미허튼 몰에서 총격 사건 발생\n"
     ]
    },
    {
     "name": "stderr",
     "output_type": "stream",
     "text": [
      "Setting `pad_token_id` to `eos_token_id`:None for open-end generation.\n"
     ]
    },
    {
     "name": "stdout",
     "output_type": "stream",
     "text": [
      "origin :  500 People in 5 Seconds, Racial 5 Algo: Decision of the US CCR Committee\n",
      "cleaned :   5초 만에 500명, 인종 5 알고리즘: 미국 CCR 위원회의 결정\n"
     ]
    },
    {
     "name": "stderr",
     "output_type": "stream",
     "text": [
      "Setting `pad_token_id` to `eos_token_id`:None for open-end generation.\n"
     ]
    },
    {
     "name": "stdout",
     "output_type": "stream",
     "text": [
      "origin :  Hong Kong's Four Financial Firms Struggling with Operating Losses\n",
      "cleaned :   홍콩의 네 대 금융회사가 영업손실에 직면함\n"
     ]
    },
    {
     "name": "stderr",
     "output_type": "stream",
     "text": [
      "Setting `pad_token_id` to `eos_token_id`:None for open-end generation.\n"
     ]
    },
    {
     "name": "stdout",
     "output_type": "stream",
     "text": [
      "origin :  Trawler 2, Six-Row Fishing, Intensified Yang-e Competition\n",
      "cleaned :   트롤선 2, 6열 어선, 양어 경쟁 심화\n"
     ]
    },
    {
     "name": "stderr",
     "output_type": "stream",
     "text": [
      "Setting `pad_token_id` to `eos_token_id`:None for open-end generation.\n"
     ]
    },
    {
     "name": "stdout",
     "output_type": "stream",
     "text": [
      "origin :  Nambaseryooe Myeongrmo Yeongnamjinn Gyojungchaegye\n",
      "cleaned :   남바세리우에 명로 영남진국 조중차개\n"
     ]
    },
    {
     "name": "stderr",
     "output_type": "stream",
     "text": [
      "Setting `pad_token_id` to `eos_token_id`:None for open-end generation.\n"
     ]
    },
    {
     "name": "stdout",
     "output_type": "stream",
     "text": [
      "origin :  Protests in Hong Kong Intensify, What is the Hong Kong Government's Response? \n",
      "cleaned :   홍콩에서 항의가 격화되고 있으니, 홍콩 정부는 어떤 대응을 하고 있나요?\n"
     ]
    },
    {
     "name": "stderr",
     "output_type": "stream",
     "text": [
      "Setting `pad_token_id` to `eos_token_id`:None for open-end generation.\n"
     ]
    },
    {
     "name": "stdout",
     "output_type": "stream",
     "text": [
      "origin :  Turkish Kurdish Troops Dominate vs Kurdish Civilians; Death Toll Rises in Overall 2nd Round\n",
      "cleaned :   터키 쿠르드 군대와 쿠르드 민간인 사이의 대결; 2차 라운드 전체에서 사망자 수가 증가\n"
     ]
    },
    {
     "name": "stderr",
     "output_type": "stream",
     "text": [
      "Setting `pad_token_id` to `eos_token_id`:None for open-end generation.\n"
     ]
    },
    {
     "name": "stdout",
     "output_type": "stream",
     "text": [
      "origin :  \"Bill Clinton, former US president, was the most insane thing to say in his strategic marketing 2nd speech\"\n",
      "cleaned :   \"전 미국 대통령 빌 클린턴, 그의 전략적 마케팅 2차 연설에서 가장 황당한 말 중 하나를 했다\"\n"
     ]
    },
    {
     "name": "stderr",
     "output_type": "stream",
     "text": [
      "Setting `pad_token_id` to `eos_token_id`:None for open-end generation.\n"
     ]
    },
    {
     "name": "stdout",
     "output_type": "stream",
     "text": [
      "origin :  Ecuadorian Government Arrests 50 People in Anti-Government Protests on July 7\n",
      "cleaned :   에콰도르 정부, 7월 7일 반정부 시위에서 50명 체포\n"
     ]
    },
    {
     "name": "stderr",
     "output_type": "stream",
     "text": [
      "Setting `pad_token_id` to `eos_token_id`:None for open-end generation.\n"
     ]
    },
    {
     "name": "stdout",
     "output_type": "stream",
     "text": [
      "origin :  The ITPP1 Bill in the National Assembly: H in the House of Representatives, Y in the House of Councilors\n",
      "cleaned :   국회에서 ITPP1 법안 통과: 하원에서 H표, 상원에서 Y표\n"
     ]
    },
    {
     "name": "stderr",
     "output_type": "stream",
     "text": [
      "Setting `pad_token_id` to `eos_token_id`:None for open-end generation.\n"
     ]
    },
    {
     "name": "stdout",
     "output_type": "stream",
     "text": [
      "origin :  US Supreme Court Joins Internet Order with 4 Companies\n",
      "cleaned :   미국 최고 법원, \n"
     ]
    },
    {
     "name": "stderr",
     "output_type": "stream",
     "text": [
      "Setting `pad_token_id` to `eos_token_id`:None for open-end generation.\n"
     ]
    },
    {
     "name": "stdout",
     "output_type": "stream",
     "text": [
      "origin :  U.S. Women Can Win a Show and Tell Game for Husbands\n",
      "cleaned :   미국 여성들이 남편을 위한 쇼 앤 텔 게임에서 승리할 수 있다.\n"
     ]
    },
    {
     "name": "stderr",
     "output_type": "stream",
     "text": [
      "Setting `pad_token_id` to `eos_token_id`:None for open-end generation.\n"
     ]
    },
    {
     "name": "stdout",
     "output_type": "stream",
     "text": [
      "origin :  Xiaomi 6X for Xiaomi 6X: A Review of Xiaomi 6X's Features and Performance\n",
      "cleaned :   미 미 6X: 미 미 6X의 기능과 성능에 대한 리뷰\n"
     ]
    },
    {
     "name": "stderr",
     "output_type": "stream",
     "text": [
      "Setting `pad_token_id` to `eos_token_id`:None for open-end generation.\n"
     ]
    },
    {
     "name": "stdout",
     "output_type": "stream",
     "text": [
      "origin :  Construction firm No. 1 GS Cascade, K-Beauty overturns the government's opposition\n",
      "cleaned :   건설업체 1위 GS 캐스케이드, K-뷰티가 정부의 반대로 뒤집어 놓다\n"
     ]
    },
    {
     "name": "stderr",
     "output_type": "stream",
     "text": [
      "Setting `pad_token_id` to `eos_token_id`:None for open-end generation.\n"
     ]
    },
    {
     "name": "stdout",
     "output_type": "stream",
     "text": [
      "origin :  Train Derails and Collides with a House in Henan, China, One Person Missing\n",
      "cleaned :   중국 후난성에서 열차 탈선, 집에 충돌, 1명 실종\n"
     ]
    },
    {
     "name": "stderr",
     "output_type": "stream",
     "text": [
      "Setting `pad_token_id` to `eos_token_id`:None for open-end generation.\n"
     ]
    },
    {
     "name": "stdout",
     "output_type": "stream",
     "text": [
      "origin :  CNG: US Airline to Move 6 Silos to Iran\n",
      "cleaned :   CNG: 미국 항공사가 6개의 저장탱크를 이란으로 옮긴다.\n"
     ]
    },
    {
     "name": "stderr",
     "output_type": "stream",
     "text": [
      "Setting `pad_token_id` to `eos_token_id`:None for open-end generation.\n"
     ]
    },
    {
     "name": "stdout",
     "output_type": "stream",
     "text": [
      "origin :  Paté 6,000,000,000 Won, 35 Francs, 500 Million Emergency\n",
      "cleaned :   6,000,000,000원, 35프랑, 500억 긴급 패테\n"
     ]
    },
    {
     "name": "stderr",
     "output_type": "stream",
     "text": [
      "Setting `pad_token_id` to `eos_token_id`:None for open-end generation.\n"
     ]
    },
    {
     "name": "stdout",
     "output_type": "stream",
     "text": [
      "origin :  Samsung Securities' 1Q Operating Profit Down by 1.5 Trillion Won\n",
      "cleaned :   삼성증권, 1분기 영업이익 1조5000억원 감소\n"
     ]
    },
    {
     "name": "stderr",
     "output_type": "stream",
     "text": [
      "Setting `pad_token_id` to `eos_token_id`:None for open-end generation.\n"
     ]
    },
    {
     "name": "stdout",
     "output_type": "stream",
     "text": [
      "origin :  China's Counterblow to US: Three Countries Expand Semiconductor Industry Share\n",
      "cleaned :   중국의 미국에 대한 대응: 세 나라가 반도체 산업 시장 점유율 확대\n"
     ]
    },
    {
     "name": "stderr",
     "output_type": "stream",
     "text": [
      "Setting `pad_token_id` to `eos_token_id`:None for open-end generation.\n"
     ]
    },
    {
     "name": "stdout",
     "output_type": "stream",
     "text": [
      "origin :  China's Xinjiang Crackdown on Uighurs Often Called \"War\" by US\n",
      "cleaned :   미국은 중국의 신장 위구르족 탄압을 \"전쟁\"이라고 부름\n"
     ]
    },
    {
     "name": "stderr",
     "output_type": "stream",
     "text": [
      "Setting `pad_token_id` to `eos_token_id`:None for open-end generation.\n"
     ]
    },
    {
     "name": "stdout",
     "output_type": "stream",
     "text": [
      "origin :  The 2023 ASEAN+3 Foreign Ministers' Meeting to be Held in Vietnam\n",
      "cleaned :   2023년 아세안+3 외교장관 회담, 베트남에서 개최\n"
     ]
    },
    {
     "name": "stderr",
     "output_type": "stream",
     "text": [
      "Setting `pad_token_id` to `eos_token_id`:None for open-end generation.\n"
     ]
    },
    {
     "name": "stdout",
     "output_type": "stream",
     "text": [
      "origin :  Peru Major General Proposes Two Electoral Districts for General Elections\n",
      "cleaned :   페루 주요 장성, 총선에 두 개의 선거구 제안\n"
     ]
    },
    {
     "name": "stderr",
     "output_type": "stream",
     "text": [
      "Setting `pad_token_id` to `eos_token_id`:None for open-end generation.\n"
     ]
    },
    {
     "name": "stdout",
     "output_type": "stream",
     "text": [
      "origin :  Overall, W is a cause for concern for its modifications.\n",
      "cleaned :   W는 수정 사항 때문에 염려되는 상황입니다.\n"
     ]
    },
    {
     "name": "stderr",
     "output_type": "stream",
     "text": [
      "Setting `pad_token_id` to `eos_token_id`:None for open-end generation.\n"
     ]
    },
    {
     "name": "stdout",
     "output_type": "stream",
     "text": [
      "origin :  Israeli intelligence authorities impose KRW 100 million fine on five people for a message\n",
      "cleaned :   이스라엘 정보당국, 5명에 대해 메시지에 1억 원 벌금 부과\n"
     ]
    },
    {
     "name": "stderr",
     "output_type": "stream",
     "text": [
      "Setting `pad_token_id` to `eos_token_id`:None for open-end generation.\n"
     ]
    },
    {
     "name": "stdout",
     "output_type": "stream",
     "text": [
      "origin :  The trade surplus on Monday was 18 billion dollars\n",
      "cleaned :   월요일의 무역수지 18억 달러 적자\n"
     ]
    },
    {
     "name": "stderr",
     "output_type": "stream",
     "text": [
      "Setting `pad_token_id` to `eos_token_id`:None for open-end generation.\n"
     ]
    },
    {
     "name": "stdout",
     "output_type": "stream",
     "text": [
      "origin :  5th Class WU Scholar Alliance, PKV House U Talitha 5th Class Press Conference\n",
      "cleaned :   제5회 WU 학자 동맹, PKV 하우스 타리타 제5회 기자 회견\n"
     ]
    },
    {
     "name": "stderr",
     "output_type": "stream",
     "text": [
      "Setting `pad_token_id` to `eos_token_id`:None for open-end generation.\n"
     ]
    },
    {
     "name": "stdout",
     "output_type": "stream",
     "text": [
      "origin :  Putin Announces Plan to Withdraw Troops from Libya, Pre-Consultation on THAAD Deployment\n",
      "cleaned :   푸틴, 리비아 군사철수 발표 및 미사일 방어 시스템 THAAD 배치 전 논의\n"
     ]
    },
    {
     "name": "stderr",
     "output_type": "stream",
     "text": [
      "Setting `pad_token_id` to `eos_token_id`:None for open-end generation.\n"
     ]
    },
    {
     "name": "stdout",
     "output_type": "stream",
     "text": [
      "origin :  Six Japanese and five Koreans are accused of taxi driver murder\n",
      "cleaned :   일본인 6명과 한국인 5명이 택시 운전사 살해 혐의로 기소됨\n"
     ]
    },
    {
     "name": "stderr",
     "output_type": "stream",
     "text": [
      "Setting `pad_token_id` to `eos_token_id`:None for open-end generation.\n"
     ]
    },
    {
     "name": "stdout",
     "output_type": "stream",
     "text": [
      "origin :  5 New Markets Diverge in Colorful CH 2s; 8 Points Filled with E's\n",
      "cleaned :   5개의 새로운 시장, 다채로운 CH2s에서 분화; 8개 점수, E의 숫자로 채워짐\n"
     ]
    },
    {
     "name": "stderr",
     "output_type": "stream",
     "text": [
      "Setting `pad_token_id` to `eos_token_id`:None for open-end generation.\n"
     ]
    },
    {
     "name": "stdout",
     "output_type": "stream",
     "text": [
      "origin :  Is the Mediterranean Sea's naval power a dream or reality? 3rd Emergency for Sea Transport\n",
      "cleaned :   지중해 해군력, 꿈인가 현실인가? 3차 해운 긴급상황\n"
     ]
    },
    {
     "name": "stderr",
     "output_type": "stream",
     "text": [
      "Setting `pad_token_id` to `eos_token_id`:None for open-end generation.\n"
     ]
    },
    {
     "name": "stdout",
     "output_type": "stream",
     "text": [
      "origin :  79 People Suspected of Oil Tanker Attack Tied to the US, Urgent Issue for the Government\n",
      "cleaned :   미국과 연관된 79명, 오일 탱커 공격에 연루 의심받아 정부에 긴급한 문제로 대두\n"
     ]
    },
    {
     "name": "stderr",
     "output_type": "stream",
     "text": [
      "Setting `pad_token_id` to `eos_token_id`:None for open-end generation.\n"
     ]
    },
    {
     "name": "stdout",
     "output_type": "stream",
     "text": [
      "origin :  US Missile Defense System Stored in Poland\n",
      "cleaned :   폴란드에 저장된 미국의 미사일 방어 시스템\n"
     ]
    },
    {
     "name": "stderr",
     "output_type": "stream",
     "text": [
      "Setting `pad_token_id` to `eos_token_id`:None for open-end generation.\n"
     ]
    },
    {
     "name": "stdout",
     "output_type": "stream",
     "text": [
      "origin :  Local Chinese government, UN 7th North Korea Nuclear Issue Dialogue Strengthened\n",
      "cleaned :   중국 지방정부, UN 7번째 북핵 문제 대화 강화\n"
     ]
    },
    {
     "name": "stderr",
     "output_type": "stream",
     "text": [
      "Setting `pad_token_id` to `eos_token_id`:None for open-end generation.\n"
     ]
    },
    {
     "name": "stdout",
     "output_type": "stream",
     "text": [
      "origin :  International Labor Organization (ILO) and UNICEF Express Concern over 1 Billion Dollar Aid Package\n",
      "cleaned :   국제 노동 기구(ILO)와 유니세프, \n"
     ]
    },
    {
     "name": "stderr",
     "output_type": "stream",
     "text": [
      "Setting `pad_token_id` to `eos_token_id`:None for open-end generation.\n"
     ]
    },
    {
     "name": "stdout",
     "output_type": "stream",
     "text": [
      "origin :  Gumamori University Develops Technology to Withstand Earthquakes for More Than 700 Minutes in High-Rise Buildings\n",
      "cleaned :   700분 이상 고층건물에서 지진을 견디는 기술 개발 - 구마모리 대학\n"
     ]
    },
    {
     "name": "stderr",
     "output_type": "stream",
     "text": [
      "Setting `pad_token_id` to `eos_token_id`:None for open-end generation.\n"
     ]
    },
    {
     "name": "stdout",
     "output_type": "stream",
     "text": [
      "origin :  Impeachment of Cep V Tong Becomes Stronger\n",
      "cleaned :   척 V. 통의 탄핵이 강화되다\n"
     ]
    },
    {
     "name": "stderr",
     "output_type": "stream",
     "text": [
      "Setting `pad_token_id` to `eos_token_id`:None for open-end generation.\n"
     ]
    },
    {
     "name": "stdout",
     "output_type": "stream",
     "text": [
      "origin :  7.7% Unemployment Rate in July, Lowest in 4 Months\n",
      "cleaned :   7월 7.7% 실업률, 4개월만에 최저\n"
     ]
    },
    {
     "name": "stderr",
     "output_type": "stream",
     "text": [
      "Setting `pad_token_id` to `eos_token_id`:None for open-end generation.\n"
     ]
    },
    {
     "name": "stdout",
     "output_type": "stream",
     "text": [
      "origin :  U.S. State Department Conspires to Sanction North Korean Ballistic Missile Launching Provocation\n",
      "cleaned :   북한 발사 탄도미사일 도발에 대한 미국 국무부의 제재 음모\n"
     ]
    },
    {
     "name": "stderr",
     "output_type": "stream",
     "text": [
      "Setting `pad_token_id` to `eos_token_id`:None for open-end generation.\n"
     ]
    },
    {
     "name": "stdout",
     "output_type": "stream",
     "text": [
      "origin :  EU Announces $16.7 Billion Investment in Digital Infrastructure\n",
      "cleaned :   유럽연합, 디지털 인프라에 16.7억 달러 투자 발표\n"
     ]
    },
    {
     "name": "stderr",
     "output_type": "stream",
     "text": [
      "Setting `pad_token_id` to `eos_token_id`:None for open-end generation.\n"
     ]
    },
    {
     "name": "stdout",
     "output_type": "stream",
     "text": [
      "origin :  2nd Al-Qa'ida Unit in Indio Died in US-Afghan Operation\n",
      "cleaned :   2번째 알카에다 단원이 인디오에서 사망, 미국-아프가니스탄 합동작전에서\n"
     ]
    },
    {
     "name": "stderr",
     "output_type": "stream",
     "text": [
      "Setting `pad_token_id` to `eos_token_id`:None for open-end generation.\n"
     ]
    },
    {
     "name": "stdout",
     "output_type": "stream",
     "text": [
      "origin :  Five promising industries, including five street food restaurants worth 20 million won, are selected\n",
      "cleaned :   5개 분야의 유망 산업, 20만 원 상당\n"
     ]
    },
    {
     "name": "stderr",
     "output_type": "stream",
     "text": [
      "Setting `pad_token_id` to `eos_token_id`:None for open-end generation.\n"
     ]
    },
    {
     "name": "stdout",
     "output_type": "stream",
     "text": [
      "origin :  North Korea Seizes Flag\n",
      "cleaned :   북한, 국기를 압수\n"
     ]
    },
    {
     "name": "stderr",
     "output_type": "stream",
     "text": [
      "Setting `pad_token_id` to `eos_token_id`:None for open-end generation.\n"
     ]
    },
    {
     "name": "stdout",
     "output_type": "stream",
     "text": [
      "origin :  IMF Annual Meeting: 2 Trillion Dollar Collision Risk for Missed European Countries\n",
      "cleaned :   IMF 연례 회의: 2조 달러의 충돌 위험, 유럽 국가들이 놓칠 경우\n"
     ]
    },
    {
     "name": "stderr",
     "output_type": "stream",
     "text": [
      "Setting `pad_token_id` to `eos_token_id`:None for open-end generation.\n"
     ]
    },
    {
     "name": "stdout",
     "output_type": "stream",
     "text": [
      "origin :  Q-System Relaxation Bill V Passes, No Real Impact\n",
      "cleaned :   Q-시스템 휴식법 B안 통과, 실질적인 영향 없음\n"
     ]
    },
    {
     "name": "stderr",
     "output_type": "stream",
     "text": [
      "Setting `pad_token_id` to `eos_token_id`:None for open-end generation.\n"
     ]
    },
    {
     "name": "stdout",
     "output_type": "stream",
     "text": [
      "origin :  Trump Executive Order Affects MLB Acquisition\n",
      "cleaned :   트럼프 행정명령\n"
     ]
    },
    {
     "name": "stderr",
     "output_type": "stream",
     "text": [
      "Setting `pad_token_id` to `eos_token_id`:None for open-end generation.\n"
     ]
    },
    {
     "name": "stdout",
     "output_type": "stream",
     "text": [
      "origin :  Urges Emergency Meeting with Yemen Opposition Forces\n",
      "cleaned :   예멘 반대파와 긴급 회담 촉구\n"
     ]
    },
    {
     "name": "stderr",
     "output_type": "stream",
     "text": [
      "Setting `pad_token_id` to `eos_token_id`:None for open-end generation.\n"
     ]
    },
    {
     "name": "stdout",
     "output_type": "stream",
     "text": [
      "origin :  There is no disagreement on North Korean issues with the Information Office. Why?\n",
      "cleaned :   정보실과 북한 문제에 대한 의견 불일치는 없다. 왜?\n"
     ]
    },
    {
     "name": "stderr",
     "output_type": "stream",
     "text": [
      "Setting `pad_token_id` to `eos_token_id`:None for open-end generation.\n"
     ]
    },
    {
     "name": "stdout",
     "output_type": "stream",
     "text": [
      "origin :  Attendees of a wedding in China attend a trade conference in Busan\n",
      "cleaned :   중국 결혼식 참석자들이 부산에서 무역 컨퍼런스를 참석합니다.\n"
     ]
    },
    {
     "name": "stderr",
     "output_type": "stream",
     "text": [
      "Setting `pad_token_id` to `eos_token_id`:None for open-end generation.\n"
     ]
    },
    {
     "name": "stdout",
     "output_type": "stream",
     "text": [
      "origin :  Triple Park, a park in the middle of a forest, is under a ban on entry to foreign visitors. Mayor of Daegu Park Wo-jeong, who will be spending 8 billion won.\"\n",
      "cleaned :   삼림공원 중턱에 위치한 트리플 공원이 외국인 방문객의 입장 금지에 따라 8억 원을 투입, 대구시장은 박보정 시장입니다.\n"
     ]
    },
    {
     "name": "stderr",
     "output_type": "stream",
     "text": [
      "Setting `pad_token_id` to `eos_token_id`:None for open-end generation.\n"
     ]
    },
    {
     "name": "stdout",
     "output_type": "stream",
     "text": [
      "origin :  Demolition of Anti-Spanish Yellow Liberty Zone in North Korea\n",
      "cleaned :   북한의 반스페인 노란 자유 구역 철거\n"
     ]
    },
    {
     "name": "stderr",
     "output_type": "stream",
     "text": [
      "Setting `pad_token_id` to `eos_token_id`:None for open-end generation.\n"
     ]
    },
    {
     "name": "stdout",
     "output_type": "stream",
     "text": [
      "origin :  South China Sea: US-4 Nation Military Clash Likelihood Grows... Cooperation Needed\n",
      "cleaned :   남중국해: 미국-4국 군사 충돌 가능성 커져... 협력이 필요합니다.\n"
     ]
    },
    {
     "name": "stderr",
     "output_type": "stream",
     "text": [
      "Setting `pad_token_id` to `eos_token_id`:None for open-end generation.\n"
     ]
    },
    {
     "name": "stdout",
     "output_type": "stream",
     "text": [
      "origin :  Frida Kahlo's Philosophy Is Hard to Understand for the U.S. Ambassador to Mexico\n",
      "cleaned :   프리\n"
     ]
    },
    {
     "name": "stderr",
     "output_type": "stream",
     "text": [
      "Setting `pad_token_id` to `eos_token_id`:None for open-end generation.\n"
     ]
    },
    {
     "name": "stdout",
     "output_type": "stream",
     "text": [
      "origin :  8 Injured, 1 Seriously Injured in Western US T3 Mainland\n",
      "cleaned :   서부 미국 T3 본토에서 8명 부상, 1명 중상\n",
      "origin :  13 Nova Lines 2Mi Jets 10: Final Prize\n",
      "cleaned :   13개의 노바 라인 2미 제트 10: 최종 상금\n"
     ]
    },
    {
     "ename": "",
     "evalue": "",
     "output_type": "error",
     "traceback": [
      "\u001b[1;31m현재 셀 또는 이전 셀에서 코드를 실행하는 동안 Kernel이 충돌했습니다. \n",
      "\u001b[1;31m셀의 코드를 검토하여 가능한 오류 원인을 식별하세요. \n",
      "\u001b[1;31m자세한 내용을 보려면 <a href='https://aka.ms/vscodeJupyterKernelCrash'>여기</a>를 클릭하세요. \n",
      "\u001b[1;31m자세한 내용은 Jupyter <a href='command:jupyter.viewOutput'>로그</a>를 참조하세요."
     ]
    }
   ],
   "source": []
  },
  {
   "cell_type": "code",
   "execution_count": null,
   "metadata": {},
   "outputs": [],
   "source": []
  }
 ],
 "metadata": {
  "kernelspec": {
   "display_name": "base",
   "language": "python",
   "name": "python3"
  },
  "language_info": {
   "codemirror_mode": {
    "name": "ipython",
    "version": 3
   },
   "file_extension": ".py",
   "mimetype": "text/x-python",
   "name": "python",
   "nbconvert_exporter": "python",
   "pygments_lexer": "ipython3",
   "version": "3.10.13"
  }
 },
 "nbformat": 4,
 "nbformat_minor": 2
}
