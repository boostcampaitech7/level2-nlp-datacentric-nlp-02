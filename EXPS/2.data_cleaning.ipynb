{
 "cells": [
  {
   "cell_type": "code",
   "execution_count": 35,
   "metadata": {},
   "outputs": [],
   "source": [
    "import pandas as pd\n",
    "import os\n",
    "import torch\n",
    "from tqdm import tqdm\n",
    "from transformers import AutoTokenizer\n",
    "from transformers import AutoModelForCausalLM"
   ]
  },
  {
   "cell_type": "code",
   "execution_count": 2,
   "metadata": {},
   "outputs": [],
   "source": [
    "BASE_DIR = os.getcwd()\n",
    "DATA_DIR = os.path.join(BASE_DIR, 'data')\n",
    "OUTPUT_DIR = os.path.join(BASE_DIR, 'outputs')\n",
    "\n",
    "labeled_data_path = os.path.join(DATA_DIR, \"noised_label\")\n"
   ]
  },
  {
   "cell_type": "code",
   "execution_count": 3,
   "metadata": {},
   "outputs": [
    {
     "name": "stdout",
     "output_type": "stream",
     "text": [
      "                    ID                            text  target\n",
      "0  ynat-v1_train_00015  게시판 KISA 박민정 책임연구원 APTLD 이사 선출       0\n",
      "1  ynat-v1_train_00066  UEFA 챔스리그 4강 마드리드 더비 성사레알 vs 아       0\n",
      "2  ynat-v1_train_00079     본t카 애스턴마틴 Sp라 국내 4P500대g 생산       0\n",
      "3  ynat-v1_train_00087              수능 6원G울 문O서 h개한 꽃Z       0\n",
      "4  ynat-v1_train_00113            신간 Z끗 g이V자cJ법코뮤니3트33       0\n",
      "                    ID                          text  target\n",
      "0  ynat-v1_train_00020  추신수 타율 0265로 시즌 마감최지만은 19홈런6       1\n",
      "1  ynat-v1_train_00021    KIA I수단팬nI께하는호kQ4M족 한마5 S최       1\n",
      "2  ynat-v1_train_00028        GD nn강d감독 2로축구연맹WS70회부       1\n",
      "3  ynat-v1_train_00029           p축구M인천 qN 35c운드 rQ영       1\n",
      "4  ynat-v1_train_00032          박항C 매직c베트남i축구_표팀K 쏟d       1\n",
      "                    ID                            text  target\n",
      "0  ynat-v1_train_00002             m 김정 자주통일 새r열1나가야1보       2\n",
      "1  ynat-v1_train_00014       문인 당2 4nS 민관2동7사위 X보 철거tt       2\n",
      "2  ynat-v1_train_00042         WE F일 연k상t의장 G견u창조경제 논의       2\n",
      "3  ynat-v1_train_00047  김종ll리먼 라더스 사태처럼 6Mq 충격지속KIN을 것       2\n",
      "4  ynat-v1_train_00057  문대통령 김정m트프7 YTD 조속히H끝내고 A다고p2합       2\n",
      "                    ID                         text  target\n",
      "0  ynat-v1_train_00001       K찰국DLwo 로L3한N 회장 2 T0송       3\n",
      "1  ynat-v1_train_00022     현N차sJ e 임원6늘려세z 리g 보j 육y       3\n",
      "2  ynat-v1_train_00025                   선 폭n 현장N조Z       3\n",
      "3  ynat-v1_train_00031  세계K인무역협회 올S2 무역인 1천b55w 배출한       3\n",
      "4  ynat-v1_train_00033               학 석면 S거 규정k지키5       3\n",
      "                    ID                           text  target\n",
      "0  ynat-v1_train_00000  정i 파1 미사z KT 이용기간 2e 단 Q분종U2보       4\n",
      "1  ynat-v1_train_00013          아이XSI수리0 b대맥3 디dF레 41       4\n",
      "2  ynat-v1_train_00027        생r인증②_D안a제bK 유되면 대J _가끝       4\n",
      "3  ynat-v1_train_00037  dcST C 생산 인공광Fy에d기보다BS에6활hty적       4\n",
      "4  ynat-v1_train_00052         위클스PS플코리아7f 한국서e얼마나 벌을       4\n",
      "                    ID                       text  target\n",
      "0  ynat-v1_train_00010    oi 매력 R모h츠a열w3약 l주가 고Q진       5\n",
      "1  ynat-v1_train_00026  STJ레콤 J분기 영D익t4천105t21 증가       5\n",
      "2  ynat-v1_train_00062     CT2fSSt0 877vA자 10만명 돌       5\n",
      "3  ynat-v1_train_00064      유라1아3경w연합r회q상품M3교환 합의       5\n",
      "4  ynat-v1_train_00075   특OH6호에k Gc모h금조달에 52P 신고가       5\n",
      "                    ID                            text  target\n",
      "0  ynat-v1_train_00004      pI美대선I앞두고 R2fr단 발 비해 감시 강화       6\n",
      "1  ynat-v1_train_00050  美MBA여성 비율x계속 x가4주E19a대 U입생 중Ym       6\n",
      "2  ynat-v1_train_00058     한M2 는 유8 치료제 오B솔 美 임 3a 본격화       6\n",
      "3  ynat-v1_train_00059      아사w 트K프 외교S험k없다고i5오바I도KR8였       6\n",
      "4  ynat-v1_train_00067          x콩P면금T 나g트물J1h나고 지철 기고       6\n"
     ]
    }
   ],
   "source": [
    "df_list = []\n",
    "for label in range(7) :\n",
    "    df = pd.read_csv(labeled_data_path+f\"/noised_label_{label}.csv\")\n",
    "    df_list.append(df)\n",
    "    print(df.head())"
   ]
  },
  {
   "cell_type": "code",
   "execution_count": 4,
   "metadata": {},
   "outputs": [
    {
     "data": {
      "text/plain": [
       "'세계K인무역협회 올S2 무역인 1천b55w 배출한'"
      ]
     },
     "execution_count": 4,
     "metadata": {},
     "output_type": "execute_result"
    }
   ],
   "source": [
    "test_text = df_list[3]['text'][3]\n",
    "test_text\n"
   ]
  },
  {
   "cell_type": "code",
   "execution_count": 18,
   "metadata": {},
   "outputs": [
    {
     "data": {
      "application/vnd.jupyter.widget-view+json": {
       "model_id": "0faa75d308b84e79879b01e8a54e7c3a",
       "version_major": 2,
       "version_minor": 0
      },
      "text/plain": [
       "tokenizer_config.json:   0%|          | 0.00/57.9k [00:00<?, ?B/s]"
      ]
     },
     "metadata": {},
     "output_type": "display_data"
    },
    {
     "data": {
      "application/vnd.jupyter.widget-view+json": {
       "model_id": "a4d37c9327ae479e906d3cecabcda764",
       "version_major": 2,
       "version_minor": 0
      },
      "text/plain": [
       "tokenizer.json:   0%|          | 0.00/9.09M [00:00<?, ?B/s]"
      ]
     },
     "metadata": {},
     "output_type": "display_data"
    },
    {
     "data": {
      "application/vnd.jupyter.widget-view+json": {
       "model_id": "6abbf8d337084f45a4fde57ca5426cb7",
       "version_major": 2,
       "version_minor": 0
      },
      "text/plain": [
       "special_tokens_map.json:   0%|          | 0.00/462 [00:00<?, ?B/s]"
      ]
     },
     "metadata": {},
     "output_type": "display_data"
    },
    {
     "data": {
      "application/vnd.jupyter.widget-view+json": {
       "model_id": "08525a35ae9944b391cb4bf53b8ad3ce",
       "version_major": 2,
       "version_minor": 0
      },
      "text/plain": [
       "config.json:   0%|          | 0.00/913 [00:00<?, ?B/s]"
      ]
     },
     "metadata": {},
     "output_type": "display_data"
    },
    {
     "data": {
      "application/vnd.jupyter.widget-view+json": {
       "model_id": "818ecd7e1d72488d89125e0d637b1998",
       "version_major": 2,
       "version_minor": 0
      },
      "text/plain": [
       "model.safetensors.index.json:   0%|          | 0.00/22.8k [00:00<?, ?B/s]"
      ]
     },
     "metadata": {},
     "output_type": "display_data"
    },
    {
     "data": {
      "application/vnd.jupyter.widget-view+json": {
       "model_id": "6295e4b06a994f23919d03cf3c7ab576",
       "version_major": 2,
       "version_minor": 0
      },
      "text/plain": [
       "Downloading shards:   0%|          | 0/4 [00:00<?, ?it/s]"
      ]
     },
     "metadata": {},
     "output_type": "display_data"
    },
    {
     "data": {
      "application/vnd.jupyter.widget-view+json": {
       "model_id": "ad5e7e951bc3496788b7a428f565f210",
       "version_major": 2,
       "version_minor": 0
      },
      "text/plain": [
       "model-00001-of-00004.safetensors:   0%|          | 0.00/4.95G [00:00<?, ?B/s]"
      ]
     },
     "metadata": {},
     "output_type": "display_data"
    },
    {
     "data": {
      "application/vnd.jupyter.widget-view+json": {
       "model_id": "5bef875d8dfb40da89a9a8b1d64704d4",
       "version_major": 2,
       "version_minor": 0
      },
      "text/plain": [
       "model-00002-of-00004.safetensors:   0%|          | 0.00/5.00G [00:00<?, ?B/s]"
      ]
     },
     "metadata": {},
     "output_type": "display_data"
    },
    {
     "data": {
      "application/vnd.jupyter.widget-view+json": {
       "model_id": "22b02edd03ec478b8eb46a13adb2e7ac",
       "version_major": 2,
       "version_minor": 0
      },
      "text/plain": [
       "model-00003-of-00004.safetensors:   0%|          | 0.00/4.92G [00:00<?, ?B/s]"
      ]
     },
     "metadata": {},
     "output_type": "display_data"
    },
    {
     "data": {
      "application/vnd.jupyter.widget-view+json": {
       "model_id": "9c16b958378d44b4be1320346490f120",
       "version_major": 2,
       "version_minor": 0
      },
      "text/plain": [
       "model-00004-of-00004.safetensors:   0%|          | 0.00/1.19G [00:00<?, ?B/s]"
      ]
     },
     "metadata": {},
     "output_type": "display_data"
    },
    {
     "data": {
      "application/vnd.jupyter.widget-view+json": {
       "model_id": "386ff78a92584dc08d8b2a0bff7542a1",
       "version_major": 2,
       "version_minor": 0
      },
      "text/plain": [
       "Loading checkpoint shards:   0%|          | 0/4 [00:00<?, ?it/s]"
      ]
     },
     "metadata": {},
     "output_type": "display_data"
    }
   ],
   "source": [
    "# 모델과 토크나이저 로드\n",
    "model_name = 'Saxo/Linkbricks-Horizon-AI-Korean-Pro-8B'\n",
    "tokenizer = AutoTokenizer.from_pretrained(model_name)\n",
    "model = AutoModelForCausalLM.from_pretrained(model_name, torch_dtype=torch.float16, device_map=\"auto\")\n",
    "\n",
    "# 노이즈가 있는 뉴스 기사 제목\n",
    "noisy_title = \"세계K인무역협회 올S2 무역인 1천b55w 배출한\"\n"
   ]
  },
  {
   "cell_type": "code",
   "execution_count": 19,
   "metadata": {},
   "outputs": [
    {
     "name": "stderr",
     "output_type": "stream",
     "text": [
      "Setting `pad_token_id` to `eos_token_id`:None for open-end generation.\n",
      "Setting `pad_token_id` to `eos_token_id`:None for open-end generation.\n",
      "Setting `pad_token_id` to `eos_token_id`:None for open-end generation.\n"
     ]
    },
    {
     "name": "stdout",
     "output_type": "stream",
     "text": [
      "model_name :  Saxo/Linkbricks-Horizon-AI-Korean-Pro-8B\n",
      "(step_prompt_result) :  '세계한국무역협회 올해 2차 무역인 1천명 배출'\n",
      "\n",
      "번역:\n",
      "이 제목은 무역 분야에서 전문성을 갖춘 한국인 인재를 양성하는 세계한국무역협\n",
      "------------\n",
      "(few_shot_result) :  '세계K인무역협회 올S2 무역인 1천55억 원 배출한'\n",
      "\n",
      "1. 세계K인무역협회 올S2 무역인 1천55억 원 배출한\n",
      "------------\n",
      "(back_translation) :  '세계 K-무역 협회 올 S2 무역인 1,000명 배출한' (노이즈로 보이는 부분을 최대한 문맥을 고려하여 해석)\n",
      "\n",
      "번역된 영어 제목: '\n"
     ]
    }
   ],
   "source": [
    "\n",
    "# 프롬프트 작성\n",
    "prompt1 = f\"\"\"당신은 전문적인 한국어 텍스트 정제 AI입니다. 다음은 노이즈가 포함된 한국어 뉴스 기사의 제목입니다. 이 제목에서 노이즈를 제거하고 원래의 자연스러운 뉴스 제목으로 복원해주세요.\n",
    "\n",
    "노이즈가 포함된 제목: '{noisy_title}'\n",
    "\n",
    "복원 시 다음 지침을 따라주세요:\n",
    "1. 무작위로 삽입된 영문자와 숫자를 제거하세요.\n",
    "2. 특수문자를 적절히 처리하세요.\n",
    "3. 줄임말이나 약어는 가능한 원래 형태로 복원하세요.\n",
    "4. 문맥을 고려하여 누락된 단어나 조사를 추가하세요.\n",
    "5. 제목의 전체적인 의미를 유지하면서 자연스러운 한국어 문장으로 만드세요.\n",
    "\n",
    "복원된 제목:\"\"\"\n",
    "\n",
    "prompt2 = f\"\"\"당신은 전문적인 한국어 텍스트 정제 AI입니다. 다음은 노이즈가 포함된 한국어 뉴스 기사의 제목입니다. 이 제목에서 노이즈를 제거하고 원래의 자연스러운 뉴스 제목으로 복원해주세요.\n",
    "\n",
    "다음은 노이즈가 제거된 예시입니다:\n",
    "\n",
    "1. 노이즈가 포함된 제목: '게시판 KISA 박민정 책임연구원 APTLD 이사 선출'\n",
    "   복원된 제목: 'KISA 박민정 책임연구원, APTLD 이사 선출'\n",
    "\n",
    "2. 노이즈가 포함된 제목: 'UEFA 챔스리그 4강 마드리드 더비 성사레알 vs 아'\n",
    "   복원된 제목: 'UEFA 챔스리그 4강, 마드리드 더비 성사... 레알 vs 아틀레티코'\n",
    "\n",
    "3. 노이즈가 포함된 제목: '본t카 애스턴마틴 Sp라 국내 4P500대g 생산'\n",
    "   복원된 제목: '본드카 애스턴마틴 스포츠카, 국내 450대 생산'\n",
    "\n",
    "이제 다음 제목의 노이즈를 제거해주세요:\n",
    "\n",
    "노이즈가 포함된 제목: '{noisy_title}'\n",
    "\n",
    "복원된 제목:\"\"\"\n",
    "\n",
    "prompt3 = f\"\"\"당신은 다국어 능력을 갖춘 전문 번역 AI입니다. 다음은 노이즈가 포함된 한국어 뉴스 기사의 제목입니다. 이 제목을 정제하기 위해 다음 단계를 수행해주세요:\n",
    "\n",
    "1. 노이즈가 포함된 한국어 제목을 영어로 번역하세요. 이 때, 노이즈로 보이는 부분은 최대한 문맥을 고려하여 자연스럽게 해석하세요.\n",
    "2. 번역된 영어 제목을 다시 한국어로 번역하세요. 이 과정에서 원래 제목의 의미를 최대한 보존하면서 자연스러운 한국어 뉴스 제목을 만들어주세요.\n",
    "\n",
    "참고: 다음은 이 과정의 예시입니다.\n",
    "\n",
    "예시 1:\n",
    "노이즈가 포함된 한국어 제목: '게시판 KISA 박민정 책임연구원 APTLD 이사 선출'\n",
    "1단계 - 영어 번역: 'KISA Senior Researcher Park Min-jung Elected as APTLD Director'\n",
    "2단계 - 한국어 재번역: 'KISA 박민정 책임연구원, APTLD 이사로 선출'\n",
    "\n",
    "예시 2:\n",
    "노이즈가 포함된 한국어 제목: 'UEFA 챔스리그 4강 마드리드 더비 성사레알 vs 아'\n",
    "1단계 - 영어 번역: 'UEFA Champions League Semifinals: Madrid Derby Confirmed, Real vs Atletico'\n",
    "2단계 - 한국어 재번역: 'UEFA 챔피언스리그 4강: 마드리드 더비 성사, 레알 vs 아틀레티코'\n",
    "\n",
    "이제 주어진 제목에 대해 위 과정을 수행해주세요.\n",
    "노이즈가 포함된 제목: '{noisy_title}'\n",
    "\n",
    "복원된 제목:\"\"\"\n",
    "\n",
    "# 토크나이즈 및 모델 입력 생성\n",
    "input1 = tokenizer(prompt1, return_tensors=\"pt\").to(model.device)\n",
    "input2 = tokenizer(prompt2, return_tensors=\"pt\").to(model.device)\n",
    "input3 = tokenizer(prompt3, return_tensors=\"pt\").to(model.device)\n",
    "# 모델을 사용하여 텍스트 생성\n",
    "with torch.no_grad():\n",
    "    outputs1 = model.generate(\n",
    "        **input1,\n",
    "        max_new_tokens=50,\n",
    "        num_return_sequences=1,\n",
    "        temperature=0.7,\n",
    "        top_p=0.95,\n",
    "        do_sample=True\n",
    "    )\n",
    "\n",
    "    outputs2 = model.generate(\n",
    "        **input2,\n",
    "        max_new_tokens=50,\n",
    "        num_return_sequences=1,\n",
    "        temperature=0.7,\n",
    "        top_p=0.95,\n",
    "        do_sample=True\n",
    "    )\n",
    "\n",
    "    outputs3 = model.generate(\n",
    "        **input3,\n",
    "        max_new_tokens=50,\n",
    "        num_return_sequences=1,\n",
    "        temperature=0.7,\n",
    "        top_p=0.95,\n",
    "        do_sample=True\n",
    "    )\n",
    "\n",
    "# 생성된 텍스트 디코딩\n",
    "generated_text1 = tokenizer.decode(outputs1[0], skip_special_tokens=True)\n",
    "generated_text2 = tokenizer.decode(outputs2[0], skip_special_tokens=True)\n",
    "generated_text3 = tokenizer.decode(outputs3[0], skip_special_tokens=True)\n",
    "\n",
    "# 결과 출력\n",
    "print(\"model_name : \", model_name)\n",
    "print(\"(step_prompt_result) : \", generated_text1.split(\"복원된 제목:\")[-1].strip())\n",
    "print(\"------------\")\n",
    "print(\"(few_shot_result) : \",generated_text2.split(\"복원된 제목:\")[-1].strip())\n",
    "print(\"------------\")\n",
    "print(\"(back_translation) : \",generated_text3.split(\"복원된 제목:\")[-1].strip())"
   ]
  },
  {
   "cell_type": "code",
   "execution_count": 22,
   "metadata": {},
   "outputs": [
    {
     "data": {
      "text/html": [
       "<div>\n",
       "<style scoped>\n",
       "    .dataframe tbody tr th:only-of-type {\n",
       "        vertical-align: middle;\n",
       "    }\n",
       "\n",
       "    .dataframe tbody tr th {\n",
       "        vertical-align: top;\n",
       "    }\n",
       "\n",
       "    .dataframe thead th {\n",
       "        text-align: right;\n",
       "    }\n",
       "</style>\n",
       "<table border=\"1\" class=\"dataframe\">\n",
       "  <thead>\n",
       "    <tr style=\"text-align: right;\">\n",
       "      <th></th>\n",
       "      <th>ID</th>\n",
       "      <th>text</th>\n",
       "      <th>target</th>\n",
       "    </tr>\n",
       "  </thead>\n",
       "  <tbody>\n",
       "    <tr>\n",
       "      <th>0</th>\n",
       "      <td>ynat-v1_train_00015</td>\n",
       "      <td>게시판 KISA 박민정 책임연구원 APTLD 이사 선출</td>\n",
       "      <td>0</td>\n",
       "    </tr>\n",
       "    <tr>\n",
       "      <th>1</th>\n",
       "      <td>ynat-v1_train_00066</td>\n",
       "      <td>UEFA 챔스리그 4강 마드리드 더비 성사레알 vs 아</td>\n",
       "      <td>0</td>\n",
       "    </tr>\n",
       "    <tr>\n",
       "      <th>2</th>\n",
       "      <td>ynat-v1_train_00079</td>\n",
       "      <td>본t카 애스턴마틴 Sp라 국내 4P500대g 생산</td>\n",
       "      <td>0</td>\n",
       "    </tr>\n",
       "    <tr>\n",
       "      <th>3</th>\n",
       "      <td>ynat-v1_train_00087</td>\n",
       "      <td>수능 6원G울 문O서 h개한 꽃Z</td>\n",
       "      <td>0</td>\n",
       "    </tr>\n",
       "    <tr>\n",
       "      <th>4</th>\n",
       "      <td>ynat-v1_train_00113</td>\n",
       "      <td>신간 Z끗 g이V자cJ법코뮤니3트33</td>\n",
       "      <td>0</td>\n",
       "    </tr>\n",
       "    <tr>\n",
       "      <th>...</th>\n",
       "      <td>...</td>\n",
       "      <td>...</td>\n",
       "      <td>...</td>\n",
       "    </tr>\n",
       "    <tr>\n",
       "      <th>199</th>\n",
       "      <td>ynat-v1_train_02744</td>\n",
       "      <td>기미술관52S기당만4 사람hIUF</td>\n",
       "      <td>0</td>\n",
       "    </tr>\n",
       "    <tr>\n",
       "      <th>200</th>\n",
       "      <td>ynat-v1_train_02747</td>\n",
       "      <td>홈런 2방에 벌랜더 와르르MLB 양키스 ALCS서 기사회생</td>\n",
       "      <td>0</td>\n",
       "    </tr>\n",
       "    <tr>\n",
       "      <th>201</th>\n",
       "      <td>ynat-v1_train_02753</td>\n",
       "      <td>진 x백숲P걷기2w힐링8스r가꾼e</td>\n",
       "      <td>0</td>\n",
       "    </tr>\n",
       "    <tr>\n",
       "      <th>202</th>\n",
       "      <td>ynat-v1_train_02767</td>\n",
       "      <td>청Z한 1요BM전국 vvX큰일dT감fcNM세요</td>\n",
       "      <td>0</td>\n",
       "    </tr>\n",
       "    <tr>\n",
       "      <th>203</th>\n",
       "      <td>ynat-v1_train_02788</td>\n",
       "      <td>남원소식 춘X학단장Rn 모집</td>\n",
       "      <td>0</td>\n",
       "    </tr>\n",
       "  </tbody>\n",
       "</table>\n",
       "<p>204 rows × 3 columns</p>\n",
       "</div>"
      ],
      "text/plain": [
       "                      ID                              text  target\n",
       "0    ynat-v1_train_00015    게시판 KISA 박민정 책임연구원 APTLD 이사 선출       0\n",
       "1    ynat-v1_train_00066    UEFA 챔스리그 4강 마드리드 더비 성사레알 vs 아       0\n",
       "2    ynat-v1_train_00079       본t카 애스턴마틴 Sp라 국내 4P500대g 생산       0\n",
       "3    ynat-v1_train_00087                수능 6원G울 문O서 h개한 꽃Z       0\n",
       "4    ynat-v1_train_00113              신간 Z끗 g이V자cJ법코뮤니3트33       0\n",
       "..                   ...                               ...     ...\n",
       "199  ynat-v1_train_02744                기미술관52S기당만4 사람hIUF       0\n",
       "200  ynat-v1_train_02747  홈런 2방에 벌랜더 와르르MLB 양키스 ALCS서 기사회생       0\n",
       "201  ynat-v1_train_02753                진 x백숲P걷기2w힐링8스r가꾼e       0\n",
       "202  ynat-v1_train_02767         청Z한 1요BM전국 vvX큰일dT감fcNM세요       0\n",
       "203  ynat-v1_train_02788                   남원소식 춘X학단장Rn 모집       0\n",
       "\n",
       "[204 rows x 3 columns]"
      ]
     },
     "execution_count": 22,
     "metadata": {},
     "output_type": "execute_result"
    }
   ],
   "source": [
    "df_list[0]"
   ]
  },
  {
   "cell_type": "code",
   "execution_count": null,
   "metadata": {},
   "outputs": [
    {
     "name": "stderr",
     "output_type": "stream",
     "text": [
      "0it [00:00, ?it/s]Setting `pad_token_id` to `eos_token_id`:None for open-end generation.\n",
      "1it [00:02,  2.03s/it]Setting `pad_token_id` to `eos_token_id`:None for open-end generation.\n"
     ]
    },
    {
     "name": "stdout",
     "output_type": "stream",
     "text": [
      "origin :  게시판 KISA 박민정 책임연구원 APTLD 이사 선출\n",
      "cleaned :  KISA 박민정 책임연구원이 APTLD 이사로 선출되다\n"
     ]
    },
    {
     "name": "stderr",
     "output_type": "stream",
     "text": [
      "2it [00:04,  2.03s/it]Setting `pad_token_id` to `eos_token_id`:None for open-end generation.\n"
     ]
    },
    {
     "name": "stdout",
     "output_type": "stream",
     "text": [
      "origin :  UEFA 챔스리그 4강 마드리드 더비 성사레알 vs 아\n",
      "cleaned :  UEFA 챔피언스리그 4강 마드리드 더비, 레알 마드리드와 아틀레티코 마드리드가 맞붙는다\n"
     ]
    },
    {
     "name": "stderr",
     "output_type": "stream",
     "text": [
      "3it [00:06,  2.04s/it]Setting `pad_token_id` to `eos_token_id`:None for open-end generation.\n"
     ]
    },
    {
     "name": "stdout",
     "output_type": "stream",
     "text": [
      "origin :  본t카 애스턴마틴 Sp라 국내 4P500대g 생산\n",
      "cleaned :  본트카 애스턴마틴 스파 국내 4백500대 생산\n"
     ]
    },
    {
     "name": "stderr",
     "output_type": "stream",
     "text": [
      "4it [00:08,  2.05s/it]Setting `pad_token_id` to `eos_token_id`:None for open-end generation.\n"
     ]
    },
    {
     "name": "stdout",
     "output_type": "stream",
     "text": [
      "origin :  수능 6원G울 문O서 h개한 꽃Z\n",
      "cleaned :  수능 6개 시험장 울릉도서 한 화장실\n"
     ]
    },
    {
     "name": "stderr",
     "output_type": "stream",
     "text": [
      "5it [00:10,  2.04s/it]Setting `pad_token_id` to `eos_token_id`:None for open-end generation.\n"
     ]
    },
    {
     "name": "stdout",
     "output_type": "stream",
     "text": [
      "origin :  신간 Z끗 g이V자cJ법코뮤니3트33\n",
      "cleaned :  신간 \"지적자본주의와 사회적 기업\" 출간\n"
     ]
    },
    {
     "name": "stderr",
     "output_type": "stream",
     "text": [
      "6it [00:12,  2.04s/it]Setting `pad_token_id` to `eos_token_id`:None for open-end generation.\n"
     ]
    },
    {
     "name": "stdout",
     "output_type": "stream",
     "text": [
      "origin :  날씨미z먼지 보통 수y오후부터 xJ지고곳곳 F12일\n",
      "cleaned :  오늘 날씨 미세먼지 보통 수, 오후부터 점차 개선될 예정\n"
     ]
    },
    {
     "name": "stderr",
     "output_type": "stream",
     "text": [
      "7it [00:14,  2.04s/it]Setting `pad_token_id` to `eos_token_id`:None for open-end generation.\n"
     ]
    },
    {
     "name": "stdout",
     "output_type": "stream",
     "text": [
      "origin :  올해iEIDFO상에 멀리 개 짖는 소w가 들S\n",
      "cleaned :  제목없음\n"
     ]
    },
    {
     "name": "stderr",
     "output_type": "stream",
     "text": [
      "8it [00:16,  2.04s/it]Setting `pad_token_id` to `eos_token_id`:None for open-end generation.\n"
     ]
    },
    {
     "name": "stdout",
     "output_type": "stream",
     "text": [
      "origin :  대화점 팝 pvhvV트Y랩 진T\n",
      "cleaned :  대화점 팝스타 라디오쇼\n"
     ]
    },
    {
     "name": "stderr",
     "output_type": "stream",
     "text": [
      "9it [00:18,  2.04s/it]Setting `pad_token_id` to `eos_token_id`:None for open-end generation.\n"
     ]
    },
    {
     "name": "stdout",
     "output_type": "stream",
     "text": [
      "origin :  朴대통령 與 TK 국회의원과 110분 면담사드 민심 청취\n",
      "cleaned :  박 대통령, TK 국회의원과 110분간 면담…사드 민심 청취\n"
     ]
    },
    {
     "name": "stderr",
     "output_type": "stream",
     "text": [
      "10it [00:20,  2.04s/it]Setting `pad_token_id` to `eos_token_id`:None for open-end generation.\n"
     ]
    },
    {
     "name": "stdout",
     "output_type": "stream",
     "text": [
      "origin :  도자기g작품_E상O람객들\n",
      "cleaned :  도자기 작품, 에상 올람객들\n"
     ]
    },
    {
     "name": "stderr",
     "output_type": "stream",
     "text": [
      "11it [00:22,  2.04s/it]Setting `pad_token_id` to `eos_token_id`:None for open-end generation.\n"
     ]
    },
    {
     "name": "stdout",
     "output_type": "stream",
     "text": [
      "origin :  그C픽서울9s1l 일강H이\n",
      "cleaned :  그룹 C픽 서울 9시 1분 일강 이\n"
     ]
    },
    {
     "name": "stderr",
     "output_type": "stream",
     "text": [
      "12it [00:24,  2.04s/it]Setting `pad_token_id` to `eos_token_id`:None for open-end generation.\n"
     ]
    },
    {
     "name": "stdout",
     "output_type": "stream",
     "text": [
      "origin :  말N 여행 aiq 의 qe을 반3는 딧M1짝\n",
      "cleaned :  말 여행 AI가 반려동물의 건강을 관리하는 것의 중요성\n"
     ]
    },
    {
     "name": "stderr",
     "output_type": "stream",
     "text": [
      "13it [00:26,  2.04s/it]Setting `pad_token_id` to `eos_token_id`:None for open-end generation.\n"
     ]
    },
    {
     "name": "stdout",
     "output_type": "stream",
     "text": [
      "origin :  명 옮p 는 즐Y움필사 3문지 문uq간\n",
      "cleaned :  명품 즐거움 필사 3문지 문학간\n"
     ]
    },
    {
     "name": "stderr",
     "output_type": "stream",
     "text": [
      "14it [00:28,  2.05s/it]Setting `pad_token_id` to `eos_token_id`:None for open-end generation.\n"
     ]
    },
    {
     "name": "stdout",
     "output_type": "stream",
     "text": [
      "origin :  한국Q아1i3명N키 m일본r의Q이기연극H\n",
      "cleaned :  한국 3명이 일본의 이기연극에 출연\n"
     ]
    },
    {
     "name": "stderr",
     "output_type": "stream",
     "text": [
      "15it [00:30,  2.05s/it]Setting `pad_token_id` to `eos_token_id`:None for open-end generation.\n"
     ]
    },
    {
     "name": "stdout",
     "output_type": "stream",
     "text": [
      "origin :  SPT뚝 떨어0Dt4출wzP에 s도 I6으로 라\n",
      "cleaned :  SPT뚝 떨어져 4층으로 추정되는 도난 사건\n"
     ]
    },
    {
     "name": "stderr",
     "output_type": "stream",
     "text": [
      "16it [00:32,  2.04s/it]Setting `pad_token_id` to `eos_token_id`:None for open-end generation.\n"
     ]
    },
    {
     "name": "stdout",
     "output_type": "stream",
     "text": [
      "origin :  인EN진군 오전 E1rq0RdY주보 해K\n",
      "cleaned :  인천 계양구 오전 7시 1호 주보 해킹\n"
     ]
    },
    {
     "name": "stderr",
     "output_type": "stream",
     "text": [
      "17it [00:34,  2.04s/it]Setting `pad_token_id` to `eos_token_id`:None for open-end generation.\n"
     ]
    },
    {
     "name": "stdout",
     "output_type": "stream",
     "text": [
      "origin :  폭a4 야o0 보러 x려든z시민xM종화I관6전시 인기\n",
      "cleaned :  폭염 속 야외 보러 몰린 시민 M종화관 전시 인기\n"
     ]
    },
    {
     "name": "stderr",
     "output_type": "stream",
     "text": [
      "18it [00:36,  2.04s/it]Setting `pad_token_id` to `eos_token_id`:None for open-end generation.\n"
     ]
    },
    {
     "name": "stdout",
     "output_type": "stream",
     "text": [
      "origin :  경kLe6개 시dy_오0시 대설주의보Y해\n",
      "cleaned :  경기도 6개 시, 0시 대설주의보 발령\n"
     ]
    },
    {
     "name": "stderr",
     "output_type": "stream",
     "text": [
      "19it [00:38,  2.04s/it]Setting `pad_token_id` to `eos_token_id`:None for open-end generation.\n"
     ]
    },
    {
     "name": "stdout",
     "output_type": "stream",
     "text": [
      "origin :  말 N 여h 주권 인류무형문화유산 해화를 _나다44 0비0Z\n",
      "cleaned :  말과 여자의 주권 인류 무형문화유산 해양화\n"
     ]
    },
    {
     "name": "stderr",
     "output_type": "stream",
     "text": [
      "20it [00:41,  2.10s/it]Setting `pad_token_id` to `eos_token_id`:None for open-end generation.\n"
     ]
    },
    {
     "name": "stdout",
     "output_type": "stream",
     "text": [
      "origin :  5 황0연휴해5 APl박 이용권드려x\n",
      "cleaned :  5일 황금연휴, 아파트 이용권 무료로 드려요\n"
     ]
    },
    {
     "name": "stderr",
     "output_type": "stream",
     "text": [
      "21it [00:43,  2.26s/it]Setting `pad_token_id` to `eos_token_id`:None for open-end generation.\n"
     ]
    },
    {
     "name": "stdout",
     "output_type": "stream",
     "text": [
      "origin :  연천 영하 91도경d북T오후부_V강F위 풀려\n",
      "cleaned :  연천, 영하 9도까지 추워졌어요\n"
     ]
    },
    {
     "name": "stderr",
     "output_type": "stream",
     "text": [
      "22it [00:45,  2.27s/it]Setting `pad_token_id` to `eos_token_id`:None for open-end generation.\n"
     ]
    },
    {
     "name": "stdout",
     "output_type": "stream",
     "text": [
      "origin :  기소식8부 내0 6j8일 Jm도 7화재 대8제\n",
      "cleaned :  8월 6일, 화재 대책회의 개최\n"
     ]
    },
    {
     "name": "stderr",
     "output_type": "stream",
     "text": [
      "23it [00:47,  2.20s/it]Setting `pad_token_id` to `eos_token_id`:None for open-end generation.\n"
     ]
    },
    {
     "name": "stdout",
     "output_type": "stream",
     "text": [
      "origin :  t말 Nx여행 제주Do취향vua나자M대야 날릴4색 계곡다 축제\n",
      "cleaned :  제주도 여행 취향맞춤 여행사 M대야 날릴 4색 계곡다 축제\n"
     ]
    },
    {
     "name": "stderr",
     "output_type": "stream",
     "text": [
      "24it [00:50,  2.15s/it]Setting `pad_token_id` to `eos_token_id`:None for open-end generation.\n"
     ]
    },
    {
     "name": "stdout",
     "output_type": "stream",
     "text": [
      "origin :  답한빛 하t경기9 초미세5지 주E5 20으Hd대\n",
      "cleaned :  하이트진로, 경기도 9곳 초미세먼지 5대 위험지역 선정\n"
     ]
    },
    {
     "name": "stderr",
     "output_type": "stream",
     "text": [
      "25it [00:52,  2.12s/it]Setting `pad_token_id` to `eos_token_id`:None for open-end generation.\n"
     ]
    },
    {
     "name": "stdout",
     "output_type": "stream",
     "text": [
      "origin :  등단 30년 장X남tP인 W가r나 지줬죠\n",
      "cleaned :  등단 30년 차 장인 W가 지냈습니다\n"
     ]
    },
    {
     "name": "stderr",
     "output_type": "stream",
     "text": [
      "26it [00:54,  2.09s/it]Setting `pad_token_id` to `eos_token_id`:None for open-end generation.\n"
     ]
    },
    {
     "name": "stdout",
     "output_type": "stream",
     "text": [
      "origin :  B미3먼지qKIG이터 물_o\n",
      "cleaned :  미세먼지 위기 속 물가 상황\n"
     ]
    },
    {
     "name": "stderr",
     "output_type": "stream",
     "text": [
      "27it [00:56,  2.07s/it]Setting `pad_token_id` to `eos_token_id`:None for open-end generation.\n"
     ]
    },
    {
     "name": "stdout",
     "output_type": "stream",
     "text": [
      "origin :  Q해Rg운하 NH카드AI크g드P고q이ui\n",
      "cleaned :  NH농협카드 AI 개발 프로젝트 승인\n"
     ]
    },
    {
     "name": "stderr",
     "output_type": "stream",
     "text": [
      "28it [00:58,  2.06s/it]Setting `pad_token_id` to `eos_token_id`:None for open-end generation.\n"
     ]
    },
    {
     "name": "stdout",
     "output_type": "stream",
     "text": [
      "origin :  신 촛불의 눈으로 3Et동 다\n",
      "cleaned :  신 촛불 시위, 3월 9일 동시다\n"
     ]
    },
    {
     "name": "stderr",
     "output_type": "stream",
     "text": [
      "29it [01:00,  2.05s/it]Setting `pad_token_id` to `eos_token_id`:None for open-end generation.\n"
     ]
    },
    {
     "name": "stdout",
     "output_type": "stream",
     "text": [
      "origin :  SW최Z 19도 날v 따뜻O져중부 밤늦게 m 조금\n",
      "cleaned :  중부지역 밤늦게까지 19도의 따뜻한 날씨가 이어집니다\n"
     ]
    },
    {
     "name": "stderr",
     "output_type": "stream",
     "text": [
      "30it [01:02,  2.05s/it]Setting `pad_token_id` to `eos_token_id`:None for open-end generation.\n"
     ]
    },
    {
     "name": "stdout",
     "output_type": "stream",
     "text": [
      "origin :  사진 8전 V노운 노m이와이 도시 p별\n",
      "cleaned :  사진 8전 V노운 노이 도시 별\n"
     ]
    },
    {
     "name": "stderr",
     "output_type": "stream",
     "text": [
      "31it [01:04,  2.04s/it]Setting `pad_token_id` to `eos_token_id`:None for open-end generation.\n"
     ]
    },
    {
     "name": "stdout",
     "output_type": "stream",
     "text": [
      "origin :  v레까O전맑f 가_J씨vL해4은 내g까 U고 비\n",
      "cleaned :  레카 전맑가 J씨 해4은 내까 U고 비\n"
     ]
    },
    {
     "name": "stderr",
     "output_type": "stream",
     "text": [
      "32it [01:06,  2.04s/it]Setting `pad_token_id` to `eos_token_id`:None for open-end generation.\n"
     ]
    },
    {
     "name": "stdout",
     "output_type": "stream",
     "text": [
      "origin :  SKT유콘시스템 5G 드론용 ICT 솔루션 개발 협력\n",
      "cleaned :  SK텔레콤, 유콘시스템과 5G 드론용 ICT 솔루션 개발 협력\n"
     ]
    },
    {
     "name": "stderr",
     "output_type": "stream",
     "text": [
      "33it [01:08,  2.04s/it]Setting `pad_token_id` to `eos_token_id`:None for open-end generation.\n"
     ]
    },
    {
     "name": "stdout",
     "output_type": "stream",
     "text": [
      "origin :  대형서점엔없uDtOJ네yC과 손는 b판사들\n",
      "cleaned :  대형 서점에 없던 베스트셀러 판권 사전 계약\n"
     ]
    },
    {
     "name": "stderr",
     "output_type": "stream",
     "text": [
      "34it [01:10,  2.04s/it]Setting `pad_token_id` to `eos_token_id`:None for open-end generation.\n"
     ]
    },
    {
     "name": "stdout",
     "output_type": "stream",
     "text": [
      "origin :  조소앙이 쓴 독립운I1평전 유방z Ep역\n",
      "cleaned :  조소앙이 쓴 독립운동 이야기, 유방의 역사를 되짚어본다\n"
     ]
    },
    {
     "name": "stderr",
     "output_type": "stream",
     "text": [
      "35it [01:12,  2.04s/it]Setting `pad_token_id` to `eos_token_id`:None for open-end generation.\n"
     ]
    },
    {
     "name": "stdout",
     "output_type": "stream",
     "text": [
      "origin :  베트셀러q은z어Y게 삶의 무가 0는가6주째 0\n",
      "cleaned :  베트남산 카레가 인기 메뉴로 6주째 1위\n"
     ]
    },
    {
     "name": "stderr",
     "output_type": "stream",
     "text": [
      "36it [01:14,  2.04s/it]Setting `pad_token_id` to `eos_token_id`:None for open-end generation.\n"
     ]
    },
    {
     "name": "stdout",
     "output_type": "stream",
     "text": [
      "origin :  신p피U 로y의 시\n",
      "cleaned :  신문 피의자 인터뷰\n"
     ]
    },
    {
     "name": "stderr",
     "output_type": "stream",
     "text": [
      "37it [01:16,  2.04s/it]Setting `pad_token_id` to `eos_token_id`:None for open-end generation.\n"
     ]
    },
    {
     "name": "stdout",
     "output_type": "stream",
     "text": [
      "origin :  I6y든i미8령계곡G어 gN군 i방 7T\n",
      "cleaned :  이산의 미래와령계곡의 군사적 영향력\n"
     ]
    },
    {
     "name": "stderr",
     "output_type": "stream",
     "text": [
      "38it [01:18,  2.04s/it]Setting `pad_token_id` to `eos_token_id`:None for open-end generation.\n"
     ]
    },
    {
     "name": "stdout",
     "output_type": "stream",
     "text": [
      "origin :  국문협U상에D임f훈안K순n육Oa박예R\n",
      "cleaned :  국문협 U상에 도임훈안 김순옥 박예리\n"
     ]
    },
    {
     "name": "stderr",
     "output_type": "stream",
     "text": [
      "39it [01:20,  2.04s/it]Setting `pad_token_id` to `eos_token_id`:None for open-end generation.\n"
     ]
    },
    {
     "name": "stdout",
     "output_type": "stream",
     "text": [
      "origin :  폭Q 갇I R주 E산r마을 m렇게 이 내린 건 D음\n",
      "cleaned :  폭풍으로 갇힌 R주 산마을, 지금까지 이 내린 눈의 양은\n"
     ]
    },
    {
     "name": "stderr",
     "output_type": "stream",
     "text": [
      "40it [01:22,  2.04s/it]Setting `pad_token_id` to `eos_token_id`:None for open-end generation.\n"
     ]
    },
    {
     "name": "stdout",
     "output_type": "stream",
     "text": [
      "origin :  간 기와 외X 음k5quA타 3q\n",
      "cleaned :  간 기와 외상 3차\n"
     ]
    },
    {
     "name": "stderr",
     "output_type": "stream",
     "text": [
      "41it [01:24,  2.04s/it]Setting `pad_token_id` to `eos_token_id`:None for open-end generation.\n"
     ]
    },
    {
     "name": "stdout",
     "output_type": "stream",
     "text": [
      "origin :  고 해E라기bd시S게N j롬 DirG\n",
      "cleaned :  고래잡이 산업 폐지 결정에 대한 시민들의 반응\n"
     ]
    },
    {
     "name": "stderr",
     "output_type": "stream",
     "text": [
      "42it [01:26,  2.04s/it]Setting `pad_token_id` to `eos_token_id`:None for open-end generation.\n"
     ]
    },
    {
     "name": "stdout",
     "output_type": "stream",
     "text": [
      "origin :  신간T자 데리를1읽는 W간포퓰k즘6i주i\n",
      "cleaned :  신간 \"T자 데리\"를 읽는 와글와글한 인기 시대\n"
     ]
    },
    {
     "name": "stderr",
     "output_type": "stream",
     "text": [
      "43it [01:28,  2.04s/it]Setting `pad_token_id` to `eos_token_id`:None for open-end generation.\n"
     ]
    },
    {
     "name": "stdout",
     "output_type": "stream",
     "text": [
      "origin :  서 L z북 진o 영하B14Zx낮부pm평년기온\n",
      "cleaned :  서쪽 지역 저녁 기온 14도, 평년보다 낮음\n"
     ]
    },
    {
     "name": "stderr",
     "output_type": "stream",
     "text": [
      "44it [01:30,  2.03s/it]Setting `pad_token_id` to `eos_token_id`:None for open-end generation.\n"
     ]
    },
    {
     "name": "stdout",
     "output_type": "stream",
     "text": [
      "origin :  UEFA 파리 생제르맹 FFP 위반 여부 조사 착수\n",
      "cleaned :  UEFA 파리 생제르맹의 FFP 위반 여부 조사 착수\n"
     ]
    },
    {
     "name": "stderr",
     "output_type": "stream",
     "text": [
      "45it [01:32,  2.04s/it]Setting `pad_token_id` to `eos_token_id`:None for open-end generation.\n"
     ]
    },
    {
     "name": "stdout",
     "output_type": "stream",
     "text": [
      "origin :  한날느낌있는 Y글U lR세요\n",
      "cleaned :  한날 느껴보는 유럽 여행\n"
     ]
    },
    {
     "name": "stderr",
     "output_type": "stream",
     "text": [
      "46it [01:34,  2.04s/it]Setting `pad_token_id` to `eos_token_id`:None for open-end generation.\n"
     ]
    },
    {
     "name": "stdout",
     "output_type": "stream",
     "text": [
      "origin :  기M 북부 n 시군Gc존주의보V1시간 rH 해종합\n",
      "cleaned :  북부 지역 시군 지역주의보 발효 1시간 연장\n"
     ]
    },
    {
     "name": "stderr",
     "output_type": "stream",
     "text": [
      "47it [01:36,  2.04s/it]Setting `pad_token_id` to `eos_token_id`:None for open-end generation.\n"
     ]
    },
    {
     "name": "stdout",
     "output_type": "stream",
     "text": [
      "origin :  사건실를 b라극체O월f\n",
      "cleaned :  사건실을 O월 5일로 연기\n"
     ]
    },
    {
     "name": "stderr",
     "output_type": "stream",
     "text": [
      "48it [01:38,  2.04s/it]Setting `pad_token_id` to `eos_token_id`:None for open-end generation.\n"
     ]
    },
    {
     "name": "stdout",
     "output_type": "stream",
     "text": [
      "origin :  만3신간i 한강eJ리 A리올_\n",
      "cleaned :  한강에서 만나는 3신 간이 리볼버\n"
     ]
    },
    {
     "name": "stderr",
     "output_type": "stream",
     "text": [
      "49it [01:40,  2.04s/it]Setting `pad_token_id` to `eos_token_id`:None for open-end generation.\n"
     ]
    },
    {
     "name": "stdout",
     "output_type": "stream",
     "text": [
      "origin :  과 소설0아지 3GI스가 쓴 S계사 개론서\n",
      "cleaned :  과소설 작가 3GI스가 쓴 S계사 개론서\n"
     ]
    },
    {
     "name": "stderr",
     "output_type": "stream",
     "text": [
      "50it [01:42,  2.04s/it]Setting `pad_token_id` to `eos_token_id`:None for open-end generation.\n"
     ]
    },
    {
     "name": "stdout",
     "output_type": "stream",
     "text": [
      "origin :  팀 쿡 애플 CEO iOS 11 배포 통해 증강현실 본격화\n",
      "cleaned :  애플 CEO 팀 쿡, iOS 11 배포를 통해 증강현실 본격화\n"
     ]
    },
    {
     "name": "stderr",
     "output_type": "stream",
     "text": [
      "51it [01:44,  2.04s/it]Setting `pad_token_id` to `eos_token_id`:None for open-end generation.\n"
     ]
    },
    {
     "name": "stdout",
     "output_type": "stream",
     "text": [
      "origin :  tdP년s다3F5일 qq 다4포3월2XH Fv\n",
      "cleaned :  2023년 3월 2일 다국적 기업 포럼\n"
     ]
    },
    {
     "name": "stderr",
     "output_type": "stream",
     "text": [
      "52it [01:47,  2.04s/it]Setting `pad_token_id` to `eos_token_id`:None for open-end generation.\n"
     ]
    },
    {
     "name": "stdout",
     "output_type": "stream",
     "text": [
      "origin :  11zn첫주말 가 정CCQz더_E4o기 전s 야외로\n",
      "cleaned :  11일 첫 주말, 가천충청지역 야외로\n"
     ]
    },
    {
     "name": "stderr",
     "output_type": "stream",
     "text": [
      "53it [01:49,  2.04s/it]Setting `pad_token_id` to `eos_token_id`:None for open-end generation.\n"
     ]
    },
    {
     "name": "stdout",
     "output_type": "stream",
     "text": [
      "origin :  공지q 1년만의 소설Ts할머p죽지l는다\n",
      "cleaned :  공주시 1년만의 소설 축제 개최\n"
     ]
    },
    {
     "name": "stderr",
     "output_type": "stream",
     "text": [
      "54it [01:51,  2.04s/it]Setting `pad_token_id` to `eos_token_id`:None for open-end generation.\n"
     ]
    },
    {
     "name": "stdout",
     "output_type": "stream",
     "text": [
      "origin :  심청H 완p 장문zW의 본에 닿고 F습니\n",
      "cleaned :  심청이 완벽한 장문의 본문에 닿고 습니다.\n"
     ]
    },
    {
     "name": "stderr",
     "output_type": "stream",
     "text": [
      "55it [01:53,  2.04s/it]Setting `pad_token_id` to `eos_token_id`:None for open-end generation.\n"
     ]
    },
    {
     "name": "stdout",
     "output_type": "stream",
     "text": [
      "origin :  기중기 트B들0 기77y 세계K최 X용\n",
      "cleaned :  중기 트레이더스컵 세계 대회\n"
     ]
    },
    {
     "name": "stderr",
     "output_type": "stream",
     "text": [
      "56it [01:55,  2.04s/it]Setting `pad_token_id` to `eos_token_id`:None for open-end generation.\n"
     ]
    },
    {
     "name": "stdout",
     "output_type": "stream",
     "text": [
      "origin :  토r 애레T듀오 fyg넷플OP서 X틀\n",
      "cleaned :  토르 애런 듀오, \"프린세스\" 앨범 발매 예정\n"
     ]
    },
    {
     "name": "stderr",
     "output_type": "stream",
     "text": [
      "57it [01:57,  2.04s/it]Setting `pad_token_id` to `eos_token_id`:None for open-end generation.\n"
     ]
    },
    {
     "name": "stdout",
     "output_type": "stream",
     "text": [
      "origin :  중부지방2일9JP 장마 오pP끝RY7그치V 푹 찐krb\n",
      "cleaned :  중부지방 2일째 장마 끝나고 그치기 시작\n"
     ]
    },
    {
     "name": "stderr",
     "output_type": "stream",
     "text": [
      "58it [01:59,  2.04s/it]Setting `pad_token_id` to `eos_token_id`:None for open-end generation.\n"
     ]
    },
    {
     "name": "stdout",
     "output_type": "stream",
     "text": [
      "origin :  경기 Xa권 8개 B Q존주m보h_T활8 자P\n",
      "cleaned :  경기 지역 8개 자치구, 보건소 활성화 사업 추진\n"
     ]
    },
    {
     "name": "stderr",
     "output_type": "stream",
     "text": [
      "59it [02:01,  2.04s/it]Setting `pad_token_id` to `eos_token_id`:None for open-end generation.\n"
     ]
    },
    {
     "name": "stdout",
     "output_type": "stream",
     "text": [
      "origin :  작은 MNz귀 기울이s W권V극제\n",
      "cleaned :  작은 MNz 귀 기울이 S W 권 V 극제\n"
     ]
    },
    {
     "name": "stderr",
     "output_type": "stream",
     "text": [
      "60it [02:03,  2.04s/it]Setting `pad_token_id` to `eos_token_id`:None for open-end generation.\n"
     ]
    },
    {
     "name": "stdout",
     "output_type": "stream",
     "text": [
      "origin :  클Z식선율로S물드는 13 째PB\n",
      "cleaned :  클린Z식 선율로S물드는 13번째 프로모션 번호\n"
     ]
    },
    {
     "name": "stderr",
     "output_type": "stream",
     "text": [
      "61it [02:05,  2.04s/it]Setting `pad_token_id` to `eos_token_id`:None for open-end generation.\n"
     ]
    },
    {
     "name": "stdout",
     "output_type": "stream",
     "text": [
      "origin :  서ZfP년 한nv보 l4내일 영하 1도\n",
      "cleaned :  2024년 한반도 내일 영하 1도\n"
     ]
    },
    {
     "name": "stderr",
     "output_type": "stream",
     "text": [
      "62it [02:07,  2.04s/it]Setting `pad_token_id` to `eos_token_id`:None for open-end generation.\n"
     ]
    },
    {
     "name": "stdout",
     "output_type": "stream",
     "text": [
      "origin :  x간 내 몫의 8랑을 탕6고 지J 당신t만\n",
      "cleaned :  x간 내 몫의 8 랑을 탕6고 지J 당신만\n"
     ]
    },
    {
     "name": "stderr",
     "output_type": "stream",
     "text": [
      "63it [02:09,  2.04s/it]Setting `pad_token_id` to `eos_token_id`:None for open-end generation.\n"
     ]
    },
    {
     "name": "stdout",
     "output_type": "stream",
     "text": [
      "origin :  Qh k이애미 h리 트F서울옥w블 z\n",
      "cleaned :  퀸스 카페, 서울에서 열린다\n"
     ]
    },
    {
     "name": "stderr",
     "output_type": "stream",
     "text": [
      "64it [02:11,  2.04s/it]Setting `pad_token_id` to `eos_token_id`:None for open-end generation.\n"
     ]
    },
    {
     "name": "stdout",
     "output_type": "stream",
     "text": [
      "origin :  m8야L8러가G\n",
      "cleaned :  8월 8일 대규모 행사가 열릴 예정\n"
     ]
    },
    {
     "name": "stderr",
     "output_type": "stream",
     "text": [
      "65it [02:13,  2.04s/it]Setting `pad_token_id` to `eos_token_id`:None for open-end generation.\n"
     ]
    },
    {
     "name": "stdout",
     "output_type": "stream",
     "text": [
      "origin :  청By항 짙은 안63항공S 회9F지 운\n",
      "cleaned :  대한항공 63편 항공기가 9시간 지연됨\n"
     ]
    },
    {
     "name": "stderr",
     "output_type": "stream",
     "text": [
      "66it [02:15,  2.04s/it]Setting `pad_token_id` to `eos_token_id`:None for open-end generation.\n"
     ]
    },
    {
     "name": "stdout",
     "output_type": "stream",
     "text": [
      "origin :  오 부u7P과Z천wt w동9hP안b주의\n",
      "cleaned :  오부처와 천재가 동행하다\n"
     ]
    },
    {
     "name": "stderr",
     "output_type": "stream",
     "text": [
      "67it [02:17,  2.04s/it]Setting `pad_token_id` to `eos_token_id`:None for open-end generation.\n"
     ]
    },
    {
     "name": "stdout",
     "output_type": "stream",
     "text": [
      "origin :  게시판현미술ilI의Fj p트r9아\n",
      "cleaned :  서울시립미술관의 특별 전시\n"
     ]
    },
    {
     "name": "stderr",
     "output_type": "stream",
     "text": [
      "68it [02:19,  2.04s/it]Setting `pad_token_id` to `eos_token_id`:None for open-end generation.\n"
     ]
    },
    {
     "name": "stdout",
     "output_type": "stream",
     "text": [
      "origin :  KTEo 급 대폭 려야G뒤 객560y증가\n",
      "cleaned :  KTB 8월 대폭 증가, 객실 560% 증가\n"
     ]
    },
    {
     "name": "stderr",
     "output_type": "stream",
     "text": [
      "69it [02:21,  2.04s/it]Setting `pad_token_id` to `eos_token_id`:None for open-end generation.\n"
     ]
    },
    {
     "name": "stdout",
     "output_type": "stream",
     "text": [
      "origin :  1보 코스피 상승 출발장중 1900선 돌파\n",
      "cleaned :  코스피가 상승 출발, 장중 1900선 넘어\n"
     ]
    },
    {
     "name": "stderr",
     "output_type": "stream",
     "text": [
      "70it [02:23,  2.04s/it]Setting `pad_token_id` to `eos_token_id`:None for open-end generation.\n"
     ]
    },
    {
     "name": "stdout",
     "output_type": "stream",
     "text": [
      "origin :  이 ZGi누가 F을대C문O 유e가특집\n",
      "cleaned :  제주 ZGi 누가 F를 대체할 C문 오유 특집\n"
     ]
    },
    {
     "name": "stderr",
     "output_type": "stream",
     "text": [
      "71it [02:25,  2.04s/it]Setting `pad_token_id` to `eos_token_id`:None for open-end generation.\n"
     ]
    },
    {
     "name": "stdout",
     "output_type": "stream",
     "text": [
      "origin :  제5T e림문학상S수Z작N기타1r 셔플 u\n",
      "cleaned :  제5회 한국문학상 수상자 발표\n"
     ]
    },
    {
     "name": "stderr",
     "output_type": "stream",
     "text": [
      "72it [02:27,  2.04s/it]Setting `pad_token_id` to `eos_token_id`:None for open-end generation.\n"
     ]
    },
    {
     "name": "stdout",
     "output_type": "stream",
     "text": [
      "origin :  외국E 좋Z1Blo다 n3좋아하고 사하는작품 w0\n",
      "cleaned :  외국인 E가 좋아하는 작품, 국내에서 인기\n"
     ]
    },
    {
     "name": "stderr",
     "output_type": "stream",
     "text": [
      "73it [02:29,  2.04s/it]Setting `pad_token_id` to `eos_token_id`:None for open-end generation.\n"
     ]
    },
    {
     "name": "stdout",
     "output_type": "stream",
     "text": [
      "origin :  C간 는 고이로6k9무x7다\n",
      "cleaned :  고속도로 교통량 증가로 6월 9일은 교통 혼잡 예보\n"
     ]
    },
    {
     "name": "stderr",
     "output_type": "stream",
     "text": [
      "74it [02:32,  2.13s/it]Setting `pad_token_id` to `eos_token_id`:None for open-end generation.\n"
     ]
    },
    {
     "name": "stdout",
     "output_type": "stream",
     "text": [
      "origin :  24라 멋 라 만연산 치x 숲으로8ei순N힐 G행\n",
      "cleaned :  24라 멋진 만연산 숲으로 돌아갑니다\n"
     ]
    },
    {
     "name": "stderr",
     "output_type": "stream",
     "text": [
      "75it [02:34,  2.10s/it]Setting `pad_token_id` to `eos_token_id`:None for open-end generation.\n"
     ]
    },
    {
     "name": "stdout",
     "output_type": "stream",
     "text": [
      "origin :  노u김d피QY3손민j겨4Pc는bd베G트n연곡\n",
      "cleaned :  노우김 피피손민 겨울 연꽃\n"
     ]
    },
    {
     "name": "stderr",
     "output_type": "stream",
     "text": [
      "76it [02:36,  2.08s/it]Setting `pad_token_id` to `eos_token_id`:None for open-end generation.\n"
     ]
    },
    {
     "name": "stdout",
     "output_type": "stream",
     "text": [
      "origin :  x0 명성4 j변판출간 즉aIg천 매진\n",
      "cleaned :  변판 출간, 즉각 1만5000부 매진\n"
     ]
    },
    {
     "name": "stderr",
     "output_type": "stream",
     "text": [
      "77it [02:38,  2.07s/it]Setting `pad_token_id` to `eos_token_id`:None for open-end generation.\n"
     ]
    },
    {
     "name": "stdout",
     "output_type": "stream",
     "text": [
      "origin :  zX남쪽S먼M제주 동부 풍d강풍경e 대\n",
      "cleaned :  제주 동부 풍경에 대규모 홍수가 발생\n"
     ]
    },
    {
     "name": "stderr",
     "output_type": "stream",
     "text": [
      "78it [02:40,  2.06s/it]Setting `pad_token_id` to `eos_token_id`:None for open-end generation.\n"
     ]
    },
    {
     "name": "stdout",
     "output_type": "stream",
     "text": [
      "origin :  충a v8원에 N만7천 규모ekc파크 조성\n",
      "cleaned :  충청남도 아산시 원천동에 N만7천 규모의 EKC파크 조성\n"
     ]
    },
    {
     "name": "stderr",
     "output_type": "stream",
     "text": [
      "79it [02:42,  2.05s/it]Setting `pad_token_id` to `eos_token_id`:None for open-end generation.\n"
     ]
    },
    {
     "name": "stdout",
     "output_type": "stream",
     "text": [
      "origin :  파주n드U저 상 수상자E A국x리보중\n",
      "cleaned :  파주 도로 공사 우수상 수상자, A국 리보중\n"
     ]
    },
    {
     "name": "stderr",
     "output_type": "stream",
     "text": [
      "80it [02:44,  2.04s/it]Setting `pad_token_id` to `eos_token_id`:None for open-end generation.\n"
     ]
    },
    {
     "name": "stdout",
     "output_type": "stream",
     "text": [
      "origin :  1세 그s픽 w자이cf상01주기 추Tl\n",
      "cleaned :  1세 그룹 G사이언스 센터 오픈\n"
     ]
    },
    {
     "name": "stderr",
     "output_type": "stream",
     "text": [
      "81it [02:46,  2.05s/it]Setting `pad_token_id` to `eos_token_id`:None for open-end generation.\n"
     ]
    },
    {
     "name": "stdout",
     "output_type": "stream",
     "text": [
      "origin :  100만 체험 목전0 둔 화천산천어축3\n",
      "cleaned :  제목없음\n"
     ]
    },
    {
     "name": "stderr",
     "output_type": "stream",
     "text": [
      "82it [02:48,  2.04s/it]Setting `pad_token_id` to `eos_token_id`:None for open-end generation.\n"
     ]
    },
    {
     "name": "stdout",
     "output_type": "stream",
     "text": [
      "origin :  투G 천Q 길 낭이 흐르는 jxS여Q\n",
      "cleaned :  투어 천안역에서 낭떠러지 위험 경고\n"
     ]
    },
    {
     "name": "stderr",
     "output_type": "stream",
     "text": [
      "83it [02:50,  2.04s/it]Setting `pad_token_id` to `eos_token_id`:None for open-end generation.\n"
     ]
    },
    {
     "name": "stdout",
     "output_type": "stream",
     "text": [
      "origin :  Y_인의 시선B로 바라본j일bB a국aU\n",
      "cleaned :  Y인의 시선으로 바라본 일본의 a국과 bB의 일B\n"
     ]
    },
    {
     "name": "stderr",
     "output_type": "stream",
     "text": [
      "84it [02:52,  2.03s/it]Setting `pad_token_id` to `eos_token_id`:None for open-end generation.\n"
     ]
    },
    {
     "name": "stdout",
     "output_type": "stream",
     "text": [
      "origin :  3운 m적 기용B스님r재조\n",
      "cleaned :  3운 미적 기용 법사 재조\n"
     ]
    },
    {
     "name": "stderr",
     "output_type": "stream",
     "text": [
      "85it [02:54,  2.03s/it]Setting `pad_token_id` to `eos_token_id`:None for open-end generation.\n"
     ]
    },
    {
     "name": "stdout",
     "output_type": "stream",
     "text": [
      "origin :  한국lV6S전q세계 긴다업z 해외 보 확대\n",
      "cleaned :  한국 IV6S 전 세계 긴다업 해외 보 확대\n"
     ]
    },
    {
     "name": "stderr",
     "output_type": "stream",
     "text": [
      "86it [02:56,  2.03s/it]Setting `pad_token_id` to `eos_token_id`:None for open-end generation.\n"
     ]
    },
    {
     "name": "stdout",
     "output_type": "stream",
     "text": [
      "origin :  K006졸재 일자s 콘트\n",
      "cleaned :  한국국제교류재단 K006 프로젝트 일자\n"
     ]
    },
    {
     "name": "stderr",
     "output_type": "stream",
     "text": [
      "87it [02:59,  2.21s/it]Setting `pad_token_id` to `eos_token_id`:None for open-end generation.\n"
     ]
    },
    {
     "name": "stdout",
     "output_type": "stream",
     "text": [
      "origin :  H픈초M우는여바 속 다양T 지0에얽5 사연\n",
      "cleaned :  H픈초M우는여바 속 다양T 지0에얽5 사연\n"
     ]
    },
    {
     "name": "stderr",
     "output_type": "stream",
     "text": [
      "88it [03:01,  2.34s/it]Setting `pad_token_id` to `eos_token_id`:None for open-end generation.\n"
     ]
    },
    {
     "name": "stdout",
     "output_type": "stream",
     "text": [
      "origin :  부산에최대 42 xv0일까 흐리고b강풍 불\n",
      "cleaned :  부산에 최대 42일까지 흐리고 강풍이 불어\n"
     ]
    },
    {
     "name": "stderr",
     "output_type": "stream",
     "text": [
      "89it [03:04,  2.42s/it]Setting `pad_token_id` to `eos_token_id`:None for open-end generation.\n"
     ]
    },
    {
     "name": "stdout",
     "output_type": "stream",
     "text": [
      "origin :  8만B짜리 R1마카Y 항공zK나3\n",
      "cleaned :  8만 B짜리 R1 마카오 항공 3편\n"
     ]
    },
    {
     "name": "stderr",
     "output_type": "stream",
     "text": [
      "90it [03:07,  2.48s/it]Setting `pad_token_id` to `eos_token_id`:None for open-end generation.\n"
     ]
    },
    {
     "name": "stdout",
     "output_type": "stream",
     "text": [
      "origin :  오P카 한국 52L원로들\n",
      "cleaned :  오케이 한국 52L 원로들\n"
     ]
    },
    {
     "name": "stderr",
     "output_type": "stream",
     "text": [
      "91it [03:09,  2.52s/it]Setting `pad_token_id` to `eos_token_id`:None for open-end generation.\n"
     ]
    },
    {
     "name": "stdout",
     "output_type": "stream",
     "text": [
      "origin :  Y십3 빛본 화0q비니u I 9쳐야 한단 사실 일찍J깨달아\n",
      "cleaned :  이십삼 빛본 화요일 비니를 쓸 필요가 있다는 사실 일찍 깨달았다\n"
     ]
    },
    {
     "name": "stderr",
     "output_type": "stream",
     "text": [
      "92it [03:12,  2.55s/it]Setting `pad_token_id` to `eos_token_id`:None for open-end generation.\n"
     ]
    },
    {
     "name": "stdout",
     "output_type": "stream",
     "text": [
      "origin :  신G펭귄의x사생U완벽Za사3엔s가되는\n",
      "cleaned :  신 G 펭귄의 사생 U 완벽 사 3 엔스가 되다\n"
     ]
    },
    {
     "name": "stderr",
     "output_type": "stream",
     "text": [
      "93it [03:14,  2.42s/it]Setting `pad_token_id` to `eos_token_id`:None for open-end generation.\n"
     ]
    },
    {
     "name": "stdout",
     "output_type": "stream",
     "text": [
      "origin :  날씨투표 는 l비 T다 오fm터8G쳐JY일\n",
      "cleaned :  날씨 투표, 비가 올 것이라고 합니다\n"
     ]
    },
    {
     "name": "stderr",
     "output_type": "stream",
     "text": [
      "94it [03:16,  2.30s/it]Setting `pad_token_id` to `eos_token_id`:None for open-end generation.\n"
     ]
    },
    {
     "name": "stdout",
     "output_type": "stream",
     "text": [
      "origin :  전 G한B황D영5작가 y 의 QY에My혀7있\n",
      "cleaned :  전 G한B황D영5작가가 QY에 My혀7을 올렸다\n"
     ]
    },
    {
     "name": "stderr",
     "output_type": "stream",
     "text": [
      "95it [03:18,  2.22s/it]Setting `pad_token_id` to `eos_token_id`:None for open-end generation.\n"
     ]
    },
    {
     "name": "stdout",
     "output_type": "stream",
     "text": [
      "origin :  Q국j아온 uZ처P축제코믹콘 0k개막\n",
      "cleaned :  퀘이크국제아동영화축제 코믹콘 개막\n"
     ]
    },
    {
     "name": "stderr",
     "output_type": "stream",
     "text": [
      "96it [03:20,  2.17s/it]Setting `pad_token_id` to `eos_token_id`:None for open-end generation.\n"
     ]
    },
    {
     "name": "stdout",
     "output_type": "stream",
     "text": [
      "origin :  흰Xu년PXh_ 등 강 k설 4T 6개국서간XZ\n",
      "cleaned :  6개국에서 강설이 발생했습니다\n"
     ]
    },
    {
     "name": "stderr",
     "output_type": "stream",
     "text": [
      "97it [03:22,  2.13s/it]Setting `pad_token_id` to `eos_token_id`:None for open-end generation.\n"
     ]
    },
    {
     "name": "stdout",
     "output_type": "stream",
     "text": [
      "origin :  eH q한Z역9서SN사5Z WY\n",
      "cleaned :  에너지 효율성이 높은 한화역사5차 산업혁명에 기여합니다\n"
     ]
    },
    {
     "name": "stderr",
     "output_type": "stream",
     "text": [
      "98it [03:24,  2.10s/it]Setting `pad_token_id` to `eos_token_id`:None for open-end generation.\n"
     ]
    },
    {
     "name": "stdout",
     "output_type": "stream",
     "text": [
      "origin :  신간 백점 o들 육식동물_아빠5g는야 호기심은iG\n",
      "cleaned :  신간 백점 올 육식동물, 아빠 5G는 호기심은 iG\n"
     ]
    },
    {
     "name": "stderr",
     "output_type": "stream",
     "text": [
      "99it [03:26,  2.09s/it]Setting `pad_token_id` to `eos_token_id`:None for open-end generation.\n"
     ]
    },
    {
     "name": "stdout",
     "output_type": "stream",
     "text": [
      "origin :  eT위 Ad 꺾여tc분한 휴일IiYN리 v행사\n",
      "cleaned :  에이티위 광고가 승리한 휴일 I&I YN 리 뷰티 행사\n"
     ]
    },
    {
     "name": "stderr",
     "output_type": "stream",
     "text": [
      "100it [03:28,  2.07s/it]Setting `pad_token_id` to `eos_token_id`:None for open-end generation.\n"
     ]
    },
    {
     "name": "stdout",
     "output_type": "stream",
     "text": [
      "origin :  x권을 누르고 5사를s g상S최강 재벌\n",
      "cleaned :  x권을 누르고 5사를 g상S최강 재벌\n"
     ]
    },
    {
     "name": "stderr",
     "output_type": "stream",
     "text": [
      "101it [03:30,  2.06s/it]Setting `pad_token_id` to `eos_token_id`:None for open-end generation.\n"
     ]
    },
    {
     "name": "stdout",
     "output_type": "stream",
     "text": [
      "origin :  화천A마토축제 성리 폐a13C 찾아 2억 판_\n",
      "cleaned :  화천 A 마토 축제 성리 폐 13C를 찾아 2억 원을 판다\n"
     ]
    },
    {
     "name": "stderr",
     "output_type": "stream",
     "text": [
      "102it [03:32,  2.05s/it]Setting `pad_token_id` to `eos_token_id`:None for open-end generation.\n"
     ]
    },
    {
     "name": "stdout",
     "output_type": "stream",
     "text": [
      "origin :  추워져q눈 내리고기온ik\n",
      "cleaned :  추워지고 눈이 내리는 기온\n"
     ]
    },
    {
     "name": "stderr",
     "output_type": "stream",
     "text": [
      "103it [03:34,  2.05s/it]Setting `pad_token_id` to `eos_token_id`:None for open-end generation.\n"
     ]
    },
    {
     "name": "stdout",
     "output_type": "stream",
     "text": [
      "origin :  초9세l점령\n",
      "cleaned :  초등 9학년 점령\n"
     ]
    },
    {
     "name": "stderr",
     "output_type": "stream",
     "text": [
      "104it [03:36,  2.04s/it]Setting `pad_token_id` to `eos_token_id`:None for open-end generation.\n"
     ]
    },
    {
     "name": "stdout",
     "output_type": "stream",
     "text": [
      "origin :  _0 아인슈타u의VO적종와mJ교\n",
      "cleaned :  아인슈타인의 유령과 미스터리한 교통사고\n"
     ]
    },
    {
     "name": "stderr",
     "output_type": "stream",
     "text": [
      "105it [03:38,  2.04s/it]Setting `pad_token_id` to `eos_token_id`:None for open-end generation.\n"
     ]
    },
    {
     "name": "stdout",
     "output_type": "stream",
     "text": [
      "origin :  뮤지l 신흥G관_교0 N진ki사고오C 공연 취\n",
      "cleaned :  뮤지컬 신작 G관에서 N진기사고 오케스트라 공연 취소\n"
     ]
    },
    {
     "name": "stderr",
     "output_type": "stream",
     "text": [
      "106it [03:40,  2.04s/it]Setting `pad_token_id` to `eos_token_id`:None for open-end generation.\n"
     ]
    },
    {
     "name": "stdout",
     "output_type": "stream",
     "text": [
      "origin :  권익g 바일o품a04뜰사u r책 공모N\n",
      "cleaned :  권익위원회, \n"
     ]
    },
    {
     "name": "stderr",
     "output_type": "stream",
     "text": [
      "107it [03:42,  2.04s/it]Setting `pad_token_id` to `eos_token_id`:None for open-end generation.\n"
     ]
    },
    {
     "name": "stdout",
     "output_type": "stream",
     "text": [
      "origin :  아티 펜n하우Kv부산HL1문 연다\n",
      "cleaned :  아트페어 부산 2021 문을 연다\n"
     ]
    },
    {
     "name": "stderr",
     "output_type": "stream",
     "text": [
      "108it [03:44,  2.04s/it]Setting `pad_token_id` to `eos_token_id`:None for open-end generation.\n"
     ]
    },
    {
     "name": "stdout",
     "output_type": "stream",
     "text": [
      "origin :  S차 더 M9스팅어 D고고 저금리부 혜택\n",
      "cleaned :  S차 더 M9 스타링어 D고고 저금리부 혜택\n"
     ]
    },
    {
     "name": "stderr",
     "output_type": "stream",
     "text": [
      "109it [03:47,  2.04s/it]Setting `pad_token_id` to `eos_token_id`:None for open-end generation.\n"
     ]
    },
    {
     "name": "stdout",
     "output_type": "stream",
     "text": [
      "origin :  A용배우는9 8들\n",
      "cleaned :  아이스크림 용병은 9일 8시 발표\n"
     ]
    },
    {
     "name": "stderr",
     "output_type": "stream",
     "text": [
      "110it [03:49,  2.04s/it]Setting `pad_token_id` to `eos_token_id`:None for open-end generation.\n"
     ]
    },
    {
     "name": "stdout",
     "output_type": "stream",
     "text": [
      "origin :  시문인D함께 즐기는 문학주S 201M 국서K진행\n",
      "cleaned :  시문인과 함께 즐기는 문학주간, 201만 명이 참여한 대한민국 국립문학제 진행\n"
     ]
    },
    {
     "name": "stderr",
     "output_type": "stream",
     "text": [
      "111it [03:51,  2.04s/it]Setting `pad_token_id` to `eos_token_id`:None for open-end generation.\n"
     ]
    },
    {
     "name": "stdout",
     "output_type": "stream",
     "text": [
      "origin :  비hkA려 qk서G강 0제\n",
      "cleaned :  비행기가 인천공항에서 강ERA제\n"
     ]
    },
    {
     "name": "stderr",
     "output_type": "stream",
     "text": [
      "112it [03:53,  2.11s/it]Setting `pad_token_id` to `eos_token_id`:None for open-end generation.\n"
     ]
    },
    {
     "name": "stdout",
     "output_type": "stream",
     "text": [
      "origin :  신간그 우Mi L니C암J정복 연9기\n",
      "cleaned :  신간 \"우미령의 정복\" 연재 9기\n"
     ]
    },
    {
     "name": "stderr",
     "output_type": "stream",
     "text": [
      "113it [03:55,  2.09s/it]Setting `pad_token_id` to `eos_token_id`:None for open-end generation.\n"
     ]
    },
    {
     "name": "stdout",
     "output_type": "stream",
     "text": [
      "origin :  a모쇼 벤츠스포X카 성SF XHEV B셉트카 5개\n",
      "cleaned :  2023 벤츠 C클래스 스포츠카, 5가지 모델 공개\n"
     ]
    },
    {
     "name": "stderr",
     "output_type": "stream",
     "text": [
      "114it [03:57,  2.07s/it]Setting `pad_token_id` to `eos_token_id`:None for open-end generation.\n"
     ]
    },
    {
     "name": "stdout",
     "output_type": "stream",
     "text": [
      "origin :  카드뉴Q나 F자s다 1M 냉방5용K열V\n",
      "cleaned :  카드 뉴스 Q, F자형 1M 냉방용 K열 V 개발\n"
     ]
    },
    {
     "name": "stderr",
     "output_type": "stream",
     "text": [
      "115it [03:59,  2.06s/it]Setting `pad_token_id` to `eos_token_id`:None for open-end generation.\n"
     ]
    },
    {
     "name": "stdout",
     "output_type": "stream",
     "text": [
      "origin :  손흥민 과감한 돌파 토트넘 맨유에 21 승리EPL\n",
      "cleaned :  손흥민의 과감한 돌파로 토트넘, 맨유에 2-1 승리EPL\n"
     ]
    },
    {
     "name": "stderr",
     "output_type": "stream",
     "text": [
      "116it [04:01,  2.05s/it]Setting `pad_token_id` to `eos_token_id`:None for open-end generation.\n"
     ]
    },
    {
     "name": "stdout",
     "output_type": "stream",
     "text": [
      "origin :  iNf리 WED가w 이벤트 풍성\n",
      "cleaned :  이벤트 풍성한 iNf리 WED가와\n"
     ]
    },
    {
     "name": "stderr",
     "output_type": "stream",
     "text": [
      "117it [04:03,  2.04s/it]Setting `pad_token_id` to `eos_token_id`:None for open-end generation.\n"
     ]
    },
    {
     "name": "stdout",
     "output_type": "stream",
     "text": [
      "origin :  신yFdP 조 왕실 간절한 기도처\n",
      "cleaned :  신조 왕실 간절한 기도처\n"
     ]
    },
    {
     "name": "stderr",
     "output_type": "stream",
     "text": [
      "118it [04:05,  2.04s/it]Setting `pad_token_id` to `eos_token_id`:None for open-end generation.\n"
     ]
    },
    {
     "name": "stdout",
     "output_type": "stream",
     "text": [
      "origin :  제yy축제VPEtT27년mmS동한 Zu 겨c축\n",
      "cleaned :  제목없음\n"
     ]
    },
    {
     "name": "stderr",
     "output_type": "stream",
     "text": [
      "119it [04:07,  2.04s/it]Setting `pad_token_id` to `eos_token_id`:None for open-end generation.\n"
     ]
    },
    {
     "name": "stdout",
     "output_type": "stream",
     "text": [
      "origin :  r반기e국내b글 y색y 1위sn본 Mhr의 이2\n",
      "cleaned :  2019년 국내 글로벌 기업 1위 MHR의 이슈\n"
     ]
    },
    {
     "name": "stderr",
     "output_type": "stream",
     "text": [
      "120it [04:09,  2.04s/it]Setting `pad_token_id` to `eos_token_id`:None for open-end generation.\n"
     ]
    },
    {
     "name": "stdout",
     "output_type": "stream",
     "text": [
      "origin :  아웃렛R할인 Kr재고상품G울J류 O일종q\n",
      "cleaned :  아웃렛 할인 재고 상품 구입 일종\n"
     ]
    },
    {
     "name": "stderr",
     "output_type": "stream",
     "text": [
      "121it [04:11,  2.05s/it]Setting `pad_token_id` to `eos_token_id`:None for open-end generation.\n"
     ]
    },
    {
     "name": "stdout",
     "output_type": "stream",
     "text": [
      "origin :  간q_박사 한상석 교7Px얼 O강\n",
      "cleaned :  간호학 박사 한상석 교수 강연\n"
     ]
    },
    {
     "name": "stderr",
     "output_type": "stream",
     "text": [
      "122it [04:13,  2.05s/it]Setting `pad_token_id` to `eos_token_id`:None for open-end generation.\n"
     ]
    },
    {
     "name": "stdout",
     "output_type": "stream",
     "text": [
      "origin :  KzTb 설주의 bW부터0시5예비종합\n",
      "cleaned :  KBS 뉴스 9 - 2023년 5월 8일 0시 5분 예비 종합뉴스\n"
     ]
    },
    {
     "name": "stderr",
     "output_type": "stream",
     "text": [
      "123it [04:15,  2.06s/it]Setting `pad_token_id` to `eos_token_id`:None for open-end generation.\n"
     ]
    },
    {
     "name": "stdout",
     "output_type": "stream",
     "text": [
      "origin :  게판 대8민q인c상 수상r 축하 0라 qY\n",
      "cleaned :  게판 대8민 인사상 수상, 축하드립니다!\n"
     ]
    },
    {
     "name": "stderr",
     "output_type": "stream",
     "text": [
      "124it [04:17,  2.05s/it]Setting `pad_token_id` to `eos_token_id`:None for open-end generation.\n"
     ]
    },
    {
     "name": "stdout",
     "output_type": "stream",
     "text": [
      "origin :  자본L y간z15Z년p우리5 o스t 떻F읽Y lR\n",
      "cleaned :  자본시장 위기: 2008년 금융 위기 5주년 기념 특별 방송\n"
     ]
    },
    {
     "name": "stderr",
     "output_type": "stream",
     "text": [
      "125it [04:19,  2.05s/it]Setting `pad_token_id` to `eos_token_id`:None for open-end generation.\n"
     ]
    },
    {
     "name": "stdout",
     "output_type": "stream",
     "text": [
      "origin :  문I계J블1Zy트 O술인우리f z녀Xf지8\n",
      "cleaned :  문재인 대통령, 일본과 협력해 우리 여성의 지지를 얻는다\n"
     ]
    },
    {
     "name": "stderr",
     "output_type": "stream",
     "text": [
      "126it [04:21,  2.04s/it]Setting `pad_token_id` to `eos_token_id`:None for open-end generation.\n"
     ]
    },
    {
     "name": "stdout",
     "output_type": "stream",
     "text": [
      "origin :  中 RCEP 추진 박차아태지역 통합에 TPP보다 유리\n",
      "cleaned :  중국, RCEP 추진에 박차 아태지역 통합에 유리함\n"
     ]
    },
    {
     "name": "stderr",
     "output_type": "stream",
     "text": [
      "127it [04:23,  2.04s/it]Setting `pad_token_id` to `eos_token_id`:None for open-end generation.\n"
     ]
    },
    {
     "name": "stdout",
     "output_type": "stream",
     "text": [
      "origin :  W산문RCa관 n가_문 1960s _x 기획H\n",
      "cleaned :  W산문RC관에서 1960년대 H의 기획\n"
     ]
    },
    {
     "name": "stderr",
     "output_type": "stream",
     "text": [
      "128it [04:25,  2.03s/it]Setting `pad_token_id` to `eos_token_id`:None for open-end generation.\n"
     ]
    },
    {
     "name": "stdout",
     "output_type": "stream",
     "text": [
      "origin :  위클W 스Vr 전성시대 맞은 hTmM해외방c Y그램 l KO\n",
      "cleaned :  위클리 W, 스마트폰 VR 전성시대에 맞서 H&M 해외 방콕 Y그램, 코리아 오픈\n"
     ]
    },
    {
     "name": "stderr",
     "output_type": "stream",
     "text": [
      "129it [04:28,  2.03s/it]Setting `pad_token_id` to `eos_token_id`:None for open-end generation.\n"
     ]
    },
    {
     "name": "stdout",
     "output_type": "stream",
     "text": [
      "origin :  n교5는 어u이\n",
      "cleaned :  5월 11일, 노원구 어린이날 행사\n"
     ]
    },
    {
     "name": "stderr",
     "output_type": "stream",
     "text": [
      "130it [04:30,  2.03s/it]Setting `pad_token_id` to `eos_token_id`:None for open-end generation.\n"
     ]
    },
    {
     "name": "stdout",
     "output_type": "stream",
     "text": [
      "origin :  봄꽃mq9F세종_\n",
      "cleaned :  봄꽃 축제 세종에서 열린다\n"
     ]
    },
    {
     "name": "stderr",
     "output_type": "stream",
     "text": [
      "131it [04:32,  2.02s/it]Setting `pad_token_id` to `eos_token_id`:None for open-end generation.\n"
     ]
    },
    {
     "name": "stdout",
     "output_type": "stream",
     "text": [
      "origin :  청춘mO창단 하나EG0\n",
      "cleaned :  청춘모집 창단하나 에이지지로\n"
     ]
    },
    {
     "name": "stderr",
     "output_type": "stream",
     "text": [
      "132it [04:34,  2.02s/it]Setting `pad_token_id` to `eos_token_id`:None for open-end generation.\n"
     ]
    },
    {
     "name": "stdout",
     "output_type": "stream",
     "text": [
      "origin :  75 t고B3도5후근소나기는 찔끔\n",
      "cleaned :  75일째 비가 오고, 내일은 소나기가 이어질 것\n"
     ]
    },
    {
     "name": "stderr",
     "output_type": "stream",
     "text": [
      "133it [04:36,  2.02s/it]Setting `pad_token_id` to `eos_token_id`:None for open-end generation.\n"
     ]
    },
    {
     "name": "stdout",
     "output_type": "stream",
     "text": [
      "origin :  uZx오Q 6Nb강풍g의보저녁부터 W\n",
      "cleaned :  6월 6일 강풍 경보, 저녁부터 발령\n"
     ]
    },
    {
     "name": "stderr",
     "output_type": "stream",
     "text": [
      "134it [04:38,  2.02s/it]Setting `pad_token_id` to `eos_token_id`:None for open-end generation.\n"
     ]
    },
    {
     "name": "stdout",
     "output_type": "stream",
     "text": [
      "origin :  LCJLR국FjU권A어이 백S 시상\n",
      "cleaned :  한국어능력시험에서 백점을 받은 어린이\n"
     ]
    },
    {
     "name": "stderr",
     "output_type": "stream",
     "text": [
      "135it [04:40,  2.02s/it]Setting `pad_token_id` to `eos_token_id`:None for open-end generation.\n"
     ]
    },
    {
     "name": "stdout",
     "output_type": "stream",
     "text": [
      "origin :  인제 자작4J 숲 입산통제G15일dc2개B간\n",
      "cleaned :  인제 자작4 숲, 15일 입산 통제\n"
     ]
    },
    {
     "name": "stderr",
     "output_type": "stream",
     "text": [
      "136it [04:42,  2.02s/it]Setting `pad_token_id` to `eos_token_id`:None for open-end generation.\n"
     ]
    },
    {
     "name": "stdout",
     "output_type": "stream",
     "text": [
      "origin :  자기 i르ZWr객l\n",
      "cleaned :  자기 일꾼들의 힘으로\n"
     ]
    },
    {
     "name": "stderr",
     "output_type": "stream",
     "text": [
      "137it [04:44,  2.02s/it]Setting `pad_token_id` to `eos_token_id`:None for open-end generation.\n"
     ]
    },
    {
     "name": "stdout",
     "output_type": "stream",
     "text": [
      "origin :  제p회 한F발레축S 파팅\n",
      "cleaned :  제 4회 한ㆍ프 발레 축제 파티\n"
     ]
    },
    {
     "name": "stderr",
     "output_type": "stream",
     "text": [
      "138it [04:46,  2.03s/it]Setting `pad_token_id` to `eos_token_id`:None for open-end generation.\n"
     ]
    },
    {
     "name": "stdout",
     "output_type": "stream",
     "text": [
      "origin :  16x기 문신 이문Q이e 일기 S역본출9\n",
      "cleaned :  16차 문신 이문열의 일기 S역본 출간\n"
     ]
    },
    {
     "name": "stderr",
     "output_type": "stream",
     "text": [
      "139it [04:48,  2.04s/it]Setting `pad_token_id` to `eos_token_id`:None for open-end generation.\n"
     ]
    },
    {
     "name": "stdout",
     "output_type": "stream",
     "text": [
      "origin :  경vKU 하루만에 초미세l 의보 해 종합\n",
      "cleaned :  경기도, 하루만에 초미세먼지 건강보호대상지역 해제\n"
     ]
    },
    {
     "name": "stderr",
     "output_type": "stream",
     "text": [
      "140it [04:50,  2.05s/it]Setting `pad_token_id` to `eos_token_id`:None for open-end generation.\n"
     ]
    },
    {
     "name": "stdout",
     "output_type": "stream",
     "text": [
      "origin :  깜깜이K옵2qWn앤I국외S행Az_제 hj 마련\n",
      "cleaned :  깜깜이 캠프에 국외 여행자 제한 마련\n"
     ]
    },
    {
     "name": "stderr",
     "output_type": "stream",
     "text": [
      "141it [04:52,  2.05s/it]Setting `pad_token_id` to `eos_token_id`:None for open-end generation.\n"
     ]
    },
    {
     "name": "stdout",
     "output_type": "stream",
     "text": [
      "origin :  g말 N 여행c제kO4수30어a2018P 지친_마음 풀어놓을5 링 코스\n",
      "cleaned :  2020년 8월 30일 여행사, 지친 마음을 풀어줄링 코스 소개\n"
     ]
    },
    {
     "name": "stderr",
     "output_type": "stream",
     "text": [
      "142it [04:54,  2.04s/it]Setting `pad_token_id` to `eos_token_id`:None for open-end generation.\n"
     ]
    },
    {
     "name": "stdout",
     "output_type": "stream",
     "text": [
      "origin :  6픽5날씨x낮 8 강릉 도Q대L i도yR6먼지 n호\n",
      "cleaned :  6월 5일 날씨: 낮 8도 강릉에 대형 먼지호\n"
     ]
    },
    {
     "name": "stderr",
     "output_type": "stream",
     "text": [
      "143it [04:56,  2.03s/it]Setting `pad_token_id` to `eos_token_id`:None for open-end generation.\n"
     ]
    },
    {
     "name": "stdout",
     "output_type": "stream",
     "text": [
      "origin :  수림문Z 짠고 아린U 시W 청춘의 BC센터\n",
      "cleaned :  수림문 짜고 아린시 청춘의 BC센터\n"
     ]
    },
    {
     "name": "stderr",
     "output_type": "stream",
     "text": [
      "144it [04:58,  2.03s/it]Setting `pad_token_id` to `eos_token_id`:None for open-end generation.\n"
     ]
    },
    {
     "name": "stdout",
     "output_type": "stream",
     "text": [
      "origin :  책7빌A기 쉬워V3종시 S공도서관 10곳자 공동 활용\n",
      "cleaned :  책7빌딩A기 쉬워, V3종 시공 도서관 10곳 자 공동활용\n"
     ]
    },
    {
     "name": "stderr",
     "output_type": "stream",
     "text": [
      "145it [05:00,  2.03s/it]Setting `pad_token_id` to `eos_token_id`:None for open-end generation.\n"
     ]
    },
    {
     "name": "stdout",
     "output_type": "stream",
     "text": [
      "origin :  명말청6 7기국7사mz들은 3IUSb아남p가\n",
      "cleaned :  명말청6 7기 국7사는 3IUSb를 남겼다\n"
     ]
    },
    {
     "name": "stderr",
     "output_type": "stream",
     "text": [
      "146it [05:02,  2.03s/it]Setting `pad_token_id` to `eos_token_id`:None for open-end generation.\n"
     ]
    },
    {
     "name": "stdout",
     "output_type": "stream",
     "text": [
      "origin :  h은경 X울7HO대표 악기 기증Wi\n",
      "cleaned :  이은경, 울산7호 대표와 악기 기증 위\n"
     ]
    },
    {
     "name": "stderr",
     "output_type": "stream",
     "text": [
      "147it [05:04,  2.04s/it]Setting `pad_token_id` to `eos_token_id`:None for open-end generation.\n"
     ]
    },
    {
     "name": "stdout",
     "output_type": "stream",
     "text": [
      "origin :  노동cT한낮초R름 더l미세b오존MdM\n",
      "cleaned :  노동자들의 낮 시간 초록색 미세먼지 오존 멸망\n"
     ]
    },
    {
     "name": "stderr",
     "output_type": "stream",
     "text": [
      "148it [05:06,  2.04s/it]Setting `pad_token_id` to `eos_token_id`:None for open-end generation.\n"
     ]
    },
    {
     "name": "stdout",
     "output_type": "stream",
     "text": [
      "origin :  U해T 화q에사 U상오t장A시민Hh견반영 복구\n",
      "cleaned :  U해T 화재에 따른 상업시민 피해 복구\n"
     ]
    },
    {
     "name": "stderr",
     "output_type": "stream",
     "text": [
      "149it [05:08,  2.04s/it]Setting `pad_token_id` to `eos_token_id`:None for open-end generation.\n"
     ]
    },
    {
     "name": "stdout",
     "output_type": "stream",
     "text": [
      "origin :  구경북 구름많은 날씨낮 a온 a2o도\n",
      "cleaned :  구름 많음으로 경북 날씨가 안 좋아요\n"
     ]
    },
    {
     "name": "stderr",
     "output_type": "stream",
     "text": [
      "150it [05:10,  2.04s/it]Setting `pad_token_id` to `eos_token_id`:None for open-end generation.\n"
     ]
    },
    {
     "name": "stdout",
     "output_type": "stream",
     "text": [
      "origin :  책 6GLQ우r작s 비어z 5e 려면 Y맛맞아7죠\n",
      "cleaned :  한국 작가 6명, 베를린 국제 영화제에 초청받았습니다.\n"
     ]
    },
    {
     "name": "stderr",
     "output_type": "stream",
     "text": [
      "151it [05:12,  2.04s/it]Setting `pad_token_id` to `eos_token_id`:None for open-end generation.\n"
     ]
    },
    {
     "name": "stdout",
     "output_type": "stream",
     "text": [
      "origin :  대A충남이p 강가pv1지1 A판 어져\n",
      "cleaned :  대전충남이 강가에 위치한 파크뷰1지1 A동이 판매되었습니다.\n"
     ]
    },
    {
     "name": "stderr",
     "output_type": "stream",
     "text": [
      "152it [05:14,  2.06s/it]Setting `pad_token_id` to `eos_token_id`:None for open-end generation.\n"
     ]
    },
    {
     "name": "stdout",
     "output_type": "stream",
     "text": [
      "origin :  X w법원을 기억하시나요대 wa사진전\n",
      "cleaned :  X 와 법원을 기억하시나요? 대 웨스트 사진전\n"
     ]
    },
    {
     "name": "stderr",
     "output_type": "stream",
     "text": [
      "153it [05:16,  2.06s/it]Setting `pad_token_id` to `eos_token_id`:None for open-end generation.\n"
     ]
    },
    {
     "name": "stdout",
     "output_type": "stream",
     "text": [
      "origin :  jER이nD o림 p세1a음으로 바라보기\n",
      "cleaned :  전문가들이 올림픽을 바라보기\n"
     ]
    },
    {
     "name": "stderr",
     "output_type": "stream",
     "text": [
      "154it [05:18,  2.05s/it]Setting `pad_token_id` to `eos_token_id`:None for open-end generation.\n"
     ]
    },
    {
     "name": "stdout",
     "output_type": "stream",
     "text": [
      "origin :  독VJ리 활8yl원지니다\n",
      "cleaned :  독일의 VJ 리 활성화\n"
     ]
    },
    {
     "name": "stderr",
     "output_type": "stream",
     "text": [
      "155it [05:20,  2.04s/it]Setting `pad_token_id` to `eos_token_id`:None for open-end generation.\n"
     ]
    },
    {
     "name": "stdout",
     "output_type": "stream",
     "text": [
      "origin :  rP홀w2019년Hv요서트vYp세uNscJ\n",
      "cleaned :  2019년 세계 IT 산업의 주요 사건들\n"
     ]
    },
    {
     "name": "stderr",
     "output_type": "stream",
     "text": [
      "156it [05:22,  2.04s/it]Setting `pad_token_id` to `eos_token_id`:None for open-end generation.\n"
     ]
    },
    {
     "name": "stdout",
     "output_type": "stream",
     "text": [
      "origin :  서y 연일lL_6은 바짝 말라W사 현7탓\n",
      "cleaned :  서울 시내 6곳은 바짝 말라\n"
     ]
    },
    {
     "name": "stderr",
     "output_type": "stream",
     "text": [
      "157it [05:25,  2.05s/it]Setting `pad_token_id` to `eos_token_id`:None for open-end generation.\n"
     ]
    },
    {
     "name": "stdout",
     "output_type": "stream",
     "text": [
      "origin :  게판XF대4q살 g 5u까지 z로 k제\n",
      "cleaned :  한국은행, 금리 결정 4월까지 연기\n"
     ]
    },
    {
     "name": "stderr",
     "output_type": "stream",
     "text": [
      "158it [05:27,  2.04s/it]Setting `pad_token_id` to `eos_token_id`:None for open-end generation.\n"
     ]
    },
    {
     "name": "stdout",
     "output_type": "stream",
     "text": [
      "origin :  푸DS 비인기luq3tI빛낸 성공5w G디네\n",
      "cleaned :  푸드비즈 성공 스토리\n"
     ]
    },
    {
     "name": "stderr",
     "output_type": "stream",
     "text": [
      "159it [05:29,  2.04s/it]Setting `pad_token_id` to `eos_token_id`:None for open-end generation.\n"
     ]
    },
    {
     "name": "stdout",
     "output_type": "stream",
     "text": [
      "origin :  D f한sM하3미F 싱송m이터시\n",
      "cleaned :  디즈니, 싱싱한 노래를 들려주는 미세스 싱싱송\n"
     ]
    },
    {
     "name": "stderr",
     "output_type": "stream",
     "text": [
      "160it [05:31,  2.04s/it]Setting `pad_token_id` to `eos_token_id`:None for open-end generation.\n"
     ]
    },
    {
     "name": "stdout",
     "output_type": "stream",
     "text": [
      "origin :  보수주의rGo 2A가o는Nl엇인가GW정B번역출\n",
      "cleaned :  보수주의 2A가 GW정 번역 출간\n"
     ]
    },
    {
     "name": "stderr",
     "output_type": "stream",
     "text": [
      "161it [05:33,  2.03s/it]Setting `pad_token_id` to `eos_token_id`:None for open-end generation.\n"
     ]
    },
    {
     "name": "stdout",
     "output_type": "stream",
     "text": [
      "origin :  46 통 5분식65된 왕실다g서울 노포 39곳 지도에\n",
      "cleaned :  서울 노포 39곳, 5분식 65곳, 왕실다 46통\n"
     ]
    },
    {
     "name": "stderr",
     "output_type": "stream",
     "text": [
      "162it [05:35,  2.04s/it]Setting `pad_token_id` to `eos_token_id`:None for open-end generation.\n"
     ]
    },
    {
     "name": "stdout",
     "output_type": "stream",
     "text": [
      "origin :  진8n벚F O3s년 E제까지Q반E반f종합\n",
      "cleaned :  2023년까지 8반, 9반 종합\n"
     ]
    },
    {
     "name": "stderr",
     "output_type": "stream",
     "text": [
      "163it [05:37,  2.06s/it]Setting `pad_token_id` to `eos_token_id`:None for open-end generation.\n"
     ]
    },
    {
     "name": "stdout",
     "output_type": "stream",
     "text": [
      "origin :  만화3b 스kB의 0\n",
      "cleaned :  만화 3부 스켈레톤 키즈 버닝\n"
     ]
    },
    {
     "name": "stderr",
     "output_type": "stream",
     "text": [
      "164it [05:39,  2.07s/it]Setting `pad_token_id` to `eos_token_id`:None for open-end generation.\n"
     ]
    },
    {
     "name": "stdout",
     "output_type": "stream",
     "text": [
      "origin :  용이 140년전 옥중에서 쓴g독립선5문 5 nW\n",
      "cleaned :  용이 140년 전 옥중에서 쓴 독립선언문 5조 5항\n"
     ]
    },
    {
     "name": "stderr",
     "output_type": "stream",
     "text": [
      "165it [05:41,  2.11s/it]Setting `pad_token_id` to `eos_token_id`:None for open-end generation.\n"
     ]
    },
    {
     "name": "stdout",
     "output_type": "stream",
     "text": [
      "origin :  사진작T V중만 yv사진미술관 t난 거展\n",
      "cleaned :  사진작가 T V 중만의 YV 사진미술관 전시\n"
     ]
    },
    {
     "name": "stderr",
     "output_type": "stream",
     "text": [
      "166it [05:43,  2.09s/it]Setting `pad_token_id` to `eos_token_id`:None for open-end generation.\n"
     ]
    },
    {
     "name": "stdout",
     "output_type": "stream",
     "text": [
      "origin :  경 황0CL서 2i일8전국sC리기3대회\n",
      "cleaned :  경황0CL서 2일 전국 시리즈 대회\n"
     ]
    },
    {
     "name": "stderr",
     "output_type": "stream",
     "text": [
      "167it [05:45,  2.07s/it]Setting `pad_token_id` to `eos_token_id`:None for open-end generation.\n"
     ]
    },
    {
     "name": "stdout",
     "output_type": "stream",
     "text": [
      "origin :  현대차 8월 국내 판매 전년비 176\n",
      "cleaned :  현대차 8월 국내 판매 전년비 176% 증가\n"
     ]
    },
    {
     "name": "stderr",
     "output_type": "stream",
     "text": [
      "168it [05:47,  2.06s/it]Setting `pad_token_id` to `eos_token_id`:None for open-end generation.\n"
     ]
    },
    {
     "name": "stdout",
     "output_type": "stream",
     "text": [
      "origin :  최지만 2경기 연속 안타타율 0269\n",
      "cleaned :  최지만 2경기 연속 안타 타율 0.269\n"
     ]
    },
    {
     "name": "stderr",
     "output_type": "stream",
     "text": [
      "169it [05:49,  2.05s/it]Setting `pad_token_id` to `eos_token_id`:None for open-end generation.\n"
     ]
    },
    {
     "name": "stdout",
     "output_type": "stream",
     "text": [
      "origin :  식문W가 집적Ef간A도서관의 거e재미\n",
      "cleaned :  식품의약품안전처, 집적체 기술의 안전성 검토를 위한 도서관 개설\n"
     ]
    },
    {
     "name": "stderr",
     "output_type": "stream",
     "text": [
      "170it [05:51,  2.04s/it]Setting `pad_token_id` to `eos_token_id`:None for open-end generation.\n"
     ]
    },
    {
     "name": "stdout",
     "output_type": "stream",
     "text": [
      "origin :  국고채 금리 일제히 하락3년물 연 2256\n",
      "cleaned :  제목없음\n"
     ]
    },
    {
     "name": "stderr",
     "output_type": "stream",
     "text": [
      "171it [05:53,  2.04s/it]Setting `pad_token_id` to `eos_token_id`:None for open-end generation.\n"
     ]
    },
    {
     "name": "stdout",
     "output_type": "stream",
     "text": [
      "origin :  화 Wz2풍XaS 전체로 확산두 달 지속20073 이G악\n",
      "cleaned :  코로나19 확산, 두 달째 지속\n"
     ]
    },
    {
     "name": "stderr",
     "output_type": "stream",
     "text": [
      "172it [05:55,  2.03s/it]Setting `pad_token_id` to `eos_token_id`:None for open-end generation.\n"
     ]
    },
    {
     "name": "stdout",
     "output_type": "stream",
     "text": [
      "origin :  S산C금정 2Dd7 역J문화8제일c개\n",
      "cleaned :  제2대 대구지방법원 금정지원 7부 재판부에서 열리는 J문화제일 판결\n"
     ]
    },
    {
     "name": "stderr",
     "output_type": "stream",
     "text": [
      "173it [05:57,  2.03s/it]Setting `pad_token_id` to `eos_token_id`:None for open-end generation.\n"
     ]
    },
    {
     "name": "stdout",
     "output_type": "stream",
     "text": [
      "origin :  완연한 충북 F1기81REgI 큰 일CDf주의\n",
      "cleaned :  완연한 충북 F1기 81대가 큰 이목을 끌었다.\n"
     ]
    },
    {
     "name": "stderr",
     "output_type": "stream",
     "text": [
      "174it [05:59,  2.03s/it]Setting `pad_token_id` to `eos_token_id`:None for open-end generation.\n"
     ]
    },
    {
     "name": "stdout",
     "output_type": "stream",
     "text": [
      "origin :  V산천축x연일 lR품권 6C5mX 통\n",
      "cleaned :  V산천축연일, 롯데품권 6천만 원 지급\n"
     ]
    },
    {
     "name": "stderr",
     "output_type": "stream",
     "text": [
      "175it [06:01,  2.03s/it]Setting `pad_token_id` to `eos_token_id`:None for open-end generation.\n"
     ]
    },
    {
     "name": "stdout",
     "output_type": "stream",
     "text": [
      "origin :  LG전자 트리플 카메라 장착한 LG X6 출시\n",
      "cleaned :  LG전자, 트리플 카메라 장착한 LG X6 출시\n"
     ]
    },
    {
     "name": "stderr",
     "output_type": "stream",
     "text": [
      "176it [06:03,  2.02s/it]Setting `pad_token_id` to `eos_token_id`:None for open-end generation.\n"
     ]
    },
    {
     "name": "stdout",
     "output_type": "stream",
     "text": [
      "origin :  명불전 b기민마린스키왕9의c격에0객석4y\n",
      "cleaned :  명불망의 b기민마린스키 왕9의 c격에 0객석 4y\n"
     ]
    },
    {
     "name": "stderr",
     "output_type": "stream",
     "text": [
      "177it [06:05,  2.03s/it]Setting `pad_token_id` to `eos_token_id`:None for open-end generation.\n"
     ]
    },
    {
     "name": "stdout",
     "output_type": "stream",
     "text": [
      "origin :  9HR동엽문상에 김ㆍ김r\n",
      "cleaned :  제9회 동아시아 문학상에 김윤석, 김영하 수상\n"
     ]
    },
    {
     "name": "stderr",
     "output_type": "stream",
     "text": [
      "178it [06:08,  2.13s/it]Setting `pad_token_id` to `eos_token_id`:None for open-end generation.\n"
     ]
    },
    {
     "name": "stdout",
     "output_type": "stream",
     "text": [
      "origin :  신 반K동RF 잃은g반려을 2R 안l\n",
      "cleaned :  신반포동 RFW 잃어버린 반려견 2마리\n"
     ]
    },
    {
     "name": "stderr",
     "output_type": "stream",
     "text": [
      "179it [06:10,  2.27s/it]Setting `pad_token_id` to `eos_token_id`:None for open-end generation.\n"
     ]
    },
    {
     "name": "stdout",
     "output_type": "stream",
     "text": [
      "origin :  우W해빙 속비y\n",
      "cleaned :  우주 해빙 속에서\n"
     ]
    },
    {
     "name": "stderr",
     "output_type": "stream",
     "text": [
      "180it [06:13,  2.38s/it]Setting `pad_token_id` to `eos_token_id`:None for open-end generation.\n"
     ]
    },
    {
     "name": "stdout",
     "output_type": "stream",
     "text": [
      "origin :  간 Vg 히 드gn지않고야\n",
      "cleaned :  간을 보호하는 방법을 알아봅시다\n"
     ]
    },
    {
     "name": "stderr",
     "output_type": "stream",
     "text": [
      "181it [06:16,  2.44s/it]Setting `pad_token_id` to `eos_token_id`:None for open-end generation.\n"
     ]
    },
    {
     "name": "stdout",
     "output_type": "stream",
     "text": [
      "origin :  qb매R동U체험 7갑산얼분수J\n",
      "cleaned :  7갑산 얼음 분수 체험\n"
     ]
    },
    {
     "name": "stderr",
     "output_type": "stream",
     "text": [
      "182it [06:18,  2.49s/it]Setting `pad_token_id` to `eos_token_id`:None for open-end generation.\n"
     ]
    },
    {
     "name": "stdout",
     "output_type": "stream",
     "text": [
      "origin :  수능끝나고관람오세i 노uu관수험9I무료t혜택\n",
      "cleaned :  수능 끝나고 관람 오세이 관수험 9 무료 혜택\n"
     ]
    },
    {
     "name": "stderr",
     "output_type": "stream",
     "text": [
      "183it [06:21,  2.53s/it]Setting `pad_token_id` to `eos_token_id`:None for open-end generation.\n"
     ]
    },
    {
     "name": "stdout",
     "output_type": "stream",
     "text": [
      "origin :  한날씨tN남 xr에\n",
      "cleaned :  한겨레 날씨 오늘 남쪽\n"
     ]
    },
    {
     "name": "stderr",
     "output_type": "stream",
     "text": [
      "184it [06:23,  2.55s/it]Setting `pad_token_id` to `eos_token_id`:None for open-end generation.\n"
     ]
    },
    {
     "name": "stdout",
     "output_type": "stream",
     "text": [
      "origin :  신간조총 부\n",
      "cleaned :  신간 조총 부\n"
     ]
    },
    {
     "name": "stderr",
     "output_type": "stream",
     "text": [
      "185it [06:26,  2.56s/it]Setting `pad_token_id` to `eos_token_id`:None for open-end generation.\n"
     ]
    },
    {
     "name": "stdout",
     "output_type": "stream",
     "text": [
      "origin :  시판 S_콤 5GX 부ge크에2 7uK s\n",
      "cleaned :  시판 S_콤 5GX 부가 기능에 대한 2.7 업데이트\n"
     ]
    },
    {
     "name": "stderr",
     "output_type": "stream",
     "text": [
      "186it [06:28,  2.44s/it]Setting `pad_token_id` to `eos_token_id`:None for open-end generation.\n"
     ]
    },
    {
     "name": "stdout",
     "output_type": "stream",
     "text": [
      "origin :  오rE여전히 24U정선의성U91도 서울8xA5도종j\n",
      "cleaned :  오늘도 정선의 설악산과 서울의 아파트 가격 비교\n"
     ]
    },
    {
     "name": "stderr",
     "output_type": "stream",
     "text": [
      "187it [06:30,  2.31s/it]Setting `pad_token_id` to `eos_token_id`:None for open-end generation.\n"
     ]
    },
    {
     "name": "stdout",
     "output_type": "stream",
     "text": [
      "origin :  신간 tU 신q의PS자인행복g 비\n",
      "cleaned :  신간 \n"
     ]
    },
    {
     "name": "stderr",
     "output_type": "stream",
     "text": [
      "188it [06:32,  2.23s/it]Setting `pad_token_id` to `eos_token_id`:None for open-end generation.\n"
     ]
    },
    {
     "name": "stdout",
     "output_type": "stream",
     "text": [
      "origin :  EH 잃은 세m인게W삶의t방향\n",
      "cleaned :  세월을 잃어버린 삶의 방향\n"
     ]
    },
    {
     "name": "stderr",
     "output_type": "stream",
     "text": [
      "189it [06:34,  2.16s/it]Setting `pad_token_id` to `eos_token_id`:None for open-end generation.\n"
     ]
    },
    {
     "name": "stdout",
     "output_type": "stream",
     "text": [
      "origin :  작년 12월 전국 미분양 6만 1천여가구 한달새 237\n",
      "cleaned :  2021년 12월 전국 미분양 6만 1천여가구 한달간 237% 증가\n"
     ]
    },
    {
     "name": "stderr",
     "output_type": "stream",
     "text": [
      "190it [06:36,  2.12s/it]Setting `pad_token_id` to `eos_token_id`:None for open-end generation.\n"
     ]
    },
    {
     "name": "stdout",
     "output_type": "stream",
     "text": [
      "origin :  커F빵과 W 즐거운공3을부산 라라라y스티벌 p\n",
      "cleaned :  코프빵과 W와 함께 즐기는 공예의 세계, 부산 라라라 예술제\n"
     ]
    },
    {
     "name": "stderr",
     "output_type": "stream",
     "text": [
      "191it [06:38,  2.09s/it]Setting `pad_token_id` to `eos_token_id`:None for open-end generation.\n"
     ]
    },
    {
     "name": "stdout",
     "output_type": "stream",
     "text": [
      "origin :  박상Rw욱 c 시B 6권 현대문학 s시 즈 첫출간\n",
      "cleaned :  박상욱 씨가 현대문학 시리즈 6권을 출간\n"
     ]
    },
    {
     "name": "stderr",
     "output_type": "stream",
     "text": [
      "192it [06:40,  2.07s/it]Setting `pad_token_id` to `eos_token_id`:None for open-end generation.\n"
     ]
    },
    {
     "name": "stdout",
     "output_type": "stream",
     "text": [
      "origin :  나비 v천마리가BlK에b 에드n리 나 Nc P픈\n",
      "cleaned :  나비가 천마에 올라가서 날아간다\n"
     ]
    },
    {
     "name": "stderr",
     "output_type": "stream",
     "text": [
      "193it [06:42,  2.06s/it]Setting `pad_token_id` to `eos_token_id`:None for open-end generation.\n"
     ]
    },
    {
     "name": "stdout",
     "output_type": "stream",
     "text": [
      "origin :  대한t6극제txSN극단예도꽃A 하D 것은\n",
      "cleaned :  대한민국 극단 예술의 꽃, 하반기 공연 예정\n"
     ]
    },
    {
     "name": "stderr",
     "output_type": "stream",
     "text": [
      "194it [06:44,  2.05s/it]Setting `pad_token_id` to `eos_token_id`:None for open-end generation.\n"
     ]
    },
    {
     "name": "stdout",
     "output_type": "stream",
     "text": [
      "origin :  E달Aj상ZwQ선 일77아는데 nfD편\n",
      "cleaned :  2022년 5월 17일, 에너지 전환 정책 발표\n"
     ]
    },
    {
     "name": "stderr",
     "output_type": "stream",
     "text": [
      "195it [06:46,  2.04s/it]Setting `pad_token_id` to `eos_token_id`:None for open-end generation.\n"
     ]
    },
    {
     "name": "stdout",
     "output_type": "stream",
     "text": [
      "origin :  여행식e한8수mT30_Y기 사진 이마진 프스\n",
      "cleaned :  여행 사진 한 장으로 8수 미가입자들을 매혹하다\n"
     ]
    },
    {
     "name": "stderr",
     "output_type": "stream",
     "text": [
      "196it [06:48,  2.04s/it]Setting `pad_token_id` to `eos_token_id`:None for open-end generation.\n"
     ]
    },
    {
     "name": "stdout",
     "output_type": "stream",
     "text": [
      "origin :  MLB닷컴 판타지랭킹추신수 176위류현진 188위강정\n",
      "cleaned :  MLB닷컴 판타지 랭킹 추신수 176위, 류현진 188위, 강정 193위\n"
     ]
    },
    {
     "name": "stderr",
     "output_type": "stream",
     "text": [
      "197it [06:50,  2.03s/it]Setting `pad_token_id` to `eos_token_id`:None for open-end generation.\n"
     ]
    },
    {
     "name": "stdout",
     "output_type": "stream",
     "text": [
      "origin :  클래식j공연 즐S 낮도 자영화의 변신\n",
      "cleaned :  클래식 공연 즐겨요, 낮도 영화의 변신\n"
     ]
    },
    {
     "name": "stderr",
     "output_type": "stream",
     "text": [
      "198it [06:52,  2.03s/it]Setting `pad_token_id` to `eos_token_id`:None for open-end generation.\n"
     ]
    },
    {
     "name": "stdout",
     "output_type": "stream",
     "text": [
      "origin :  구3문s상에 2해3은S가l엔L화길\n",
      "cleaned :  구3문상에 2회 3연승 도전\n"
     ]
    },
    {
     "name": "stderr",
     "output_type": "stream",
     "text": [
      "199it [06:54,  2.02s/it]Setting `pad_token_id` to `eos_token_id`:None for open-end generation.\n"
     ]
    },
    {
     "name": "stdout",
     "output_type": "stream",
     "text": [
      "origin :  8간Z로벌 트렌드 n035마르케Q의서재에서\n",
      "cleaned :  8강 Z로벌 트렌드, 마르케Q의 서재에서\n"
     ]
    },
    {
     "name": "stderr",
     "output_type": "stream",
     "text": [
      "200it [06:57,  2.03s/it]Setting `pad_token_id` to `eos_token_id`:None for open-end generation.\n"
     ]
    },
    {
     "name": "stdout",
     "output_type": "stream",
     "text": [
      "origin :  기미술관52S기당만4 사람hIUF\n",
      "cleaned :  기미술관 52세기당만 4인 입장\n"
     ]
    },
    {
     "name": "stderr",
     "output_type": "stream",
     "text": [
      "201it [06:59,  2.03s/it]Setting `pad_token_id` to `eos_token_id`:None for open-end generation.\n"
     ]
    },
    {
     "name": "stdout",
     "output_type": "stream",
     "text": [
      "origin :  홈런 2방에 벌랜더 와르르MLB 양키스 ALCS서 기사회생\n",
      "cleaned :  홈런 2방에 벌랜더 와르르, MLB 양키스 ALCS서 기사회생\n"
     ]
    },
    {
     "name": "stderr",
     "output_type": "stream",
     "text": [
      "202it [07:01,  2.02s/it]Setting `pad_token_id` to `eos_token_id`:None for open-end generation.\n"
     ]
    },
    {
     "name": "stdout",
     "output_type": "stream",
     "text": [
      "origin :  진 x백숲P걷기2w힐링8스r가꾼e\n",
      "cleaned :  진백숲 힐링 걷기 2\n"
     ]
    },
    {
     "name": "stderr",
     "output_type": "stream",
     "text": [
      "203it [07:03,  2.02s/it]Setting `pad_token_id` to `eos_token_id`:None for open-end generation.\n"
     ]
    },
    {
     "name": "stdout",
     "output_type": "stream",
     "text": [
      "origin :  청Z한 1요BM전국 vvX큰일dT감fcNM세요\n",
      "cleaned :  청소년 범죄자 전국 대회\n"
     ]
    },
    {
     "name": "stderr",
     "output_type": "stream",
     "text": [
      "204it [07:05,  2.08s/it]\n"
     ]
    },
    {
     "name": "stdout",
     "output_type": "stream",
     "text": [
      "origin :  남원소식 춘X학단장Rn 모집\n",
      "cleaned :  남원 소식: 춘천학원 단장 모집\n"
     ]
    },
    {
     "name": "stderr",
     "output_type": "stream",
     "text": [
      "0it [00:00, ?it/s]Setting `pad_token_id` to `eos_token_id`:None for open-end generation.\n",
      "1it [00:02,  2.03s/it]Setting `pad_token_id` to `eos_token_id`:None for open-end generation.\n"
     ]
    },
    {
     "name": "stdout",
     "output_type": "stream",
     "text": [
      "origin :  추신수 타율 0265로 시즌 마감최지만은 19홈런6\n",
      "cleaned :  추신수 타율 0.265로 시즌 마감, 최지만은 19홈런 6타점\n"
     ]
    },
    {
     "name": "stderr",
     "output_type": "stream",
     "text": [
      "2it [00:04,  2.02s/it]Setting `pad_token_id` to `eos_token_id`:None for open-end generation.\n"
     ]
    },
    {
     "name": "stdout",
     "output_type": "stream",
     "text": [
      "origin :  KIA I수단팬nI께하는호kQ4M족 한마5 S최\n",
      "cleaned :  KIA, 수단 팬들에게 호평받는 K4 M족 한 마리\n"
     ]
    },
    {
     "name": "stderr",
     "output_type": "stream",
     "text": [
      "3it [00:06,  2.02s/it]Setting `pad_token_id` to `eos_token_id`:None for open-end generation.\n"
     ]
    },
    {
     "name": "stdout",
     "output_type": "stream",
     "text": [
      "origin :  GD nn강d감독 2로축구연맹WS70회부\n",
      "cleaned :  KFA, 2023년 7월 70회 월드컵 대회 개최\n"
     ]
    },
    {
     "name": "stderr",
     "output_type": "stream",
     "text": [
      "4it [00:08,  2.02s/it]Setting `pad_token_id` to `eos_token_id`:None for open-end generation.\n"
     ]
    },
    {
     "name": "stdout",
     "output_type": "stream",
     "text": [
      "origin :  p축구M인천 qN 35c운드 rQ영\n",
      "cleaned :  축구 마스터즈, 인천에서 35라운드 경기 진행\n"
     ]
    },
    {
     "name": "stderr",
     "output_type": "stream",
     "text": [
      "5it [00:10,  2.03s/it]Setting `pad_token_id` to `eos_token_id`:None for open-end generation.\n"
     ]
    },
    {
     "name": "stdout",
     "output_type": "stream",
     "text": [
      "origin :  박항C 매직c베트남i축구_표팀K 쏟d\n",
      "cleaned :  박항 감독의 베트남 축구, 한국과의 경기 준비\n"
     ]
    },
    {
     "name": "stderr",
     "output_type": "stream",
     "text": [
      "6it [00:12,  2.03s/it]Setting `pad_token_id` to `eos_token_id`:None for open-end generation.\n"
     ]
    },
    {
     "name": "stdout",
     "output_type": "stream",
     "text": [
      "origin :  다저스 _버츠 감독J류현4 담당 포수최 환 만들P\n",
      "cleaned :  다저스 버츠 감독, 류현진의 담당 포수 최환을 만들었다\n"
     ]
    },
    {
     "name": "stderr",
     "output_type": "stream",
     "text": [
      "7it [00:14,  2.03s/it]Setting `pad_token_id` to `eos_token_id`:None for open-end generation.\n"
     ]
    },
    {
     "name": "stdout",
     "output_type": "stream",
     "text": [
      "origin :  5자농R 4R은행f삼m명 꺾N직P\n",
      "cleaned :  5자 기업 R은행, 4개 지역 3명 직원 감금 사건\n"
     ]
    },
    {
     "name": "stderr",
     "output_type": "stream",
     "text": [
      "8it [00:16,  2.03s/it]Setting `pad_token_id` to `eos_token_id`:None for open-end generation.\n"
     ]
    },
    {
     "name": "stdout",
     "output_type": "stream",
     "text": [
      "origin :  VqZ자o구 김정Re트로1보니C도l모르Qk이\n",
      "cleaned :  김정일의 부인 김정숙이 보니, 몰라요\n"
     ]
    },
    {
     "name": "stderr",
     "output_type": "stream",
     "text": [
      "9it [00:18,  2.03s/it]Setting `pad_token_id` to `eos_token_id`:None for open-end generation.\n"
     ]
    },
    {
     "name": "stdout",
     "output_type": "stream",
     "text": [
      "origin :  월드9U천재 사령탑 S시코 O오 감독 한국전R\n",
      "cleaned :  월드9U 천재 사령탑 S시코 O오 감독 한국전\n"
     ]
    },
    {
     "name": "stderr",
     "output_type": "stream",
     "text": [
      "10it [00:20,  2.03s/it]Setting `pad_token_id` to `eos_token_id`:None for open-end generation.\n"
     ]
    },
    {
     "name": "stdout",
     "output_type": "stream",
     "text": [
      "origin :  추신수 시g경기o종 2j넷b타율021u\n",
      "cleaned :  추신수, KBO 리그 경기에서 2홈런, 타율 0.21 기록\n"
     ]
    },
    {
     "name": "stderr",
     "output_type": "stream",
     "text": [
      "11it [00:22,  2.03s/it]Setting `pad_token_id` to `eos_token_id`:None for open-end generation.\n"
     ]
    },
    {
     "name": "stdout",
     "output_type": "stream",
     "text": [
      "origin :  Ca유영준왕웨이 직 조심스러워h구 h 805내\n",
      "cleaned :  유영준, 왕웨이 직 조심스럽게 구함 805명\n"
     ]
    },
    {
     "name": "stderr",
     "output_type": "stream",
     "text": [
      "12it [00:24,  2.03s/it]Setting `pad_token_id` to `eos_token_id`:None for open-end generation.\n"
     ]
    },
    {
     "name": "stdout",
     "output_type": "stream",
     "text": [
      "origin :  멀티골 j순형 u로축구 pB그1 1운드FXVP\n",
      "cleaned :  조현우 멀티골, 서울은행 1차 우승\n"
     ]
    },
    {
     "name": "stderr",
     "output_type": "stream",
     "text": [
      "13it [00:26,  2.03s/it]Setting `pad_token_id` to `eos_token_id`:None for open-end generation.\n"
     ]
    },
    {
     "name": "stdout",
     "output_type": "stream",
     "text": [
      "origin :  157 조우 선동 _독과Wk께PAG 5전i고\n",
      "cleaned :  157 조우 선동, 독과 함께 PAG 5전이 고군분투\n"
     ]
    },
    {
     "name": "stderr",
     "output_type": "stream",
     "text": [
      "14it [00:28,  2.02s/it]Setting `pad_token_id` to `eos_token_id`:None for open-end generation.\n"
     ]
    },
    {
     "name": "stdout",
     "output_type": "stream",
     "text": [
      "origin :  선두5도X공사GS칼텍Kdhb현Qi탈7m연승합\n",
      "cleaned :  선두 5개 기업의 X공사, GS칼텍스, SK하이닉스, 현대차, LG전자 7개월 연속 매출 증가\n"
     ]
    },
    {
     "name": "stderr",
     "output_type": "stream",
     "text": [
      "15it [00:30,  2.02s/it]Setting `pad_token_id` to `eos_token_id`:None for open-end generation.\n"
     ]
    },
    {
     "name": "stdout",
     "output_type": "stream",
     "text": [
      "origin :  1이트삭oY수 그S달 영입4년 7천34K 달러\n",
      "cleaned :  1이트삭수 그스달 영입 4년 7천34K 달러\n"
     ]
    },
    {
     "name": "stderr",
     "output_type": "stream",
     "text": [
      "16it [00:32,  2.02s/it]Setting `pad_token_id` to `eos_token_id`:None for open-end generation.\n"
     ]
    },
    {
     "name": "stdout",
     "output_type": "stream",
     "text": [
      "origin :  프로농구 울 SK 일 교체 선수w L리엄스 영O\n",
      "cleaned :  프로 농구 SK 울산 현대 모비스 피닉스 선발 선수 교체, L.L. 리엄스 영입\n"
     ]
    },
    {
     "name": "stderr",
     "output_type": "stream",
     "text": [
      "17it [00:34,  2.03s/it]Setting `pad_token_id` to `eos_token_id`:None for open-end generation.\n"
     ]
    },
    {
     "name": "stdout",
     "output_type": "stream",
     "text": [
      "origin :  UC 8강T대 발0알92i리뮌헨 맞d\n",
      "cleaned :  2022년 8강 토너먼트: 독일 대 리무진\n"
     ]
    },
    {
     "name": "stderr",
     "output_type": "stream",
     "text": [
      "18it [00:36,  2.03s/it]Setting `pad_token_id` to `eos_token_id`:None for open-end generation.\n"
     ]
    },
    {
     "name": "stdout",
     "output_type": "stream",
     "text": [
      "origin :  A0 선0장 남자 배올2출전 충6히 가능하p\n",
      "cleaned :  A0선 남자 배구 올림픽 출전 가능\n"
     ]
    },
    {
     "name": "stderr",
     "output_type": "stream",
     "text": [
      "19it [00:38,  2.03s/it]Setting `pad_token_id` to `eos_token_id`:None for open-end generation.\n"
     ]
    },
    {
     "name": "stdout",
     "output_type": "stream",
     "text": [
      "origin :  MLB닷컴K개막W스 12cu은류현진\n",
      "cleaned :  MLB닷컴 한국 개막전 W스 12회, 류현진의 승리\n"
     ]
    },
    {
     "name": "stderr",
     "output_type": "stream",
     "text": [
      "20it [00:40,  2.02s/it]Setting `pad_token_id` to `eos_token_id`:None for open-end generation.\n"
     ]
    },
    {
     "name": "stdout",
     "output_type": "stream",
     "text": [
      "origin :  여ZblZ27부blr드 3라운Fh브라질f미과 대t\n",
      "cleaned :  여자 축구 국가대표팀 브라질과의 3라운드 경기\n"
     ]
    },
    {
     "name": "stderr",
     "output_type": "stream",
     "text": [
      "21it [00:42,  2.02s/it]Setting `pad_token_id` to `eos_token_id`:None for open-end generation.\n"
     ]
    },
    {
     "name": "stdout",
     "output_type": "stream",
     "text": [
      "origin :  1점 박철ey7Rf 크게 O더니 온몸에 쥐났어요\n",
      "cleaned :  1점 박철서 크게 오더니 온몸에 쥐났어요\n"
     ]
    },
    {
     "name": "stderr",
     "output_type": "stream",
     "text": [
      "22it [00:44,  2.02s/it]Setting `pad_token_id` to `eos_token_id`:None for open-end generation.\n"
     ]
    },
    {
     "name": "stdout",
     "output_type": "stream",
     "text": [
      "origin :  w드쉽게d열리지 J는 멕Wf골문\n",
      "cleaned :  쉽게 열리지 않는 J의 골문\n"
     ]
    },
    {
     "name": "stderr",
     "output_type": "stream",
     "text": [
      "23it [00:46,  2.03s/it]Setting `pad_token_id` to `eos_token_id`:None for open-end generation.\n"
     ]
    },
    {
     "name": "stdout",
     "output_type": "stream",
     "text": [
      "origin :  MLB명장 바비 콕스 k3n로xC4\n",
      "cleaned :  MLB 명장 바비 콕스 인터뷰\n"
     ]
    },
    {
     "name": "stderr",
     "output_type": "stream",
     "text": [
      "24it [00:48,  2.04s/it]Setting `pad_token_id` to `eos_token_id`:None for open-end generation.\n"
     ]
    },
    {
     "name": "stdout",
     "output_type": "stream",
     "text": [
      "origin :  프hN구hi 해체 위 k산 어선한YJ위Qk승B로 tM\n",
      "cleaned :  포항 해양경찰서, 어선 한 척 불법 구조물 설치로 적발\n"
     ]
    },
    {
     "name": "stderr",
     "output_type": "stream",
     "text": [
      "25it [00:51,  2.16s/it]Setting `pad_token_id` to `eos_token_id`:None for open-end generation.\n"
     ]
    },
    {
     "name": "stdout",
     "output_type": "stream",
     "text": [
      "origin :  q승하러 왔죠전광인우승 한 풀 UP지\n",
      "cleaned :  전광인 우승, 한 풀 업진\n"
     ]
    },
    {
     "name": "stderr",
     "output_type": "stream",
     "text": [
      "26it [00:53,  2.13s/it]Setting `pad_token_id` to `eos_token_id`:None for open-end generation.\n"
     ]
    },
    {
     "name": "stdout",
     "output_type": "stream",
     "text": [
      "origin :  강원CBS 사옥선교센터 8일 착공11월 완공\n",
      "cleaned :  강원CBS 사옥 신축 8일 착공, 11월 완공 예정\n"
     ]
    },
    {
     "name": "stderr",
     "output_type": "stream",
     "text": [
      "27it [00:55,  2.10s/it]Setting `pad_token_id` to `eos_token_id`:None for open-end generation.\n"
     ]
    },
    {
     "name": "stdout",
     "output_type": "stream",
     "text": [
      "origin :  NxA 휴g턴_3rWr50점B레이오 tR 진출01승ZT다\n",
      "cleaned :  NHN의 레이오트이스트 진출, 01승\n"
     ]
    },
    {
     "name": "stderr",
     "output_type": "stream",
     "text": [
      "28it [00:57,  2.08s/it]Setting `pad_token_id` to `eos_token_id`:None for open-end generation.\n"
     ]
    },
    {
     "name": "stdout",
     "output_type": "stream",
     "text": [
      "origin :  프74구 롯데 상문S독 2b 사직구장 UO\n",
      "cleaned :  롯데 자이언츠, 프차 74회 롯데 홈 경기에서 사직구장에서 열린 경기\n"
     ]
    },
    {
     "name": "stderr",
     "output_type": "stream",
     "text": [
      "29it [00:59,  2.06s/it]Setting `pad_token_id` to `eos_token_id`:None for open-end generation.\n"
     ]
    },
    {
     "name": "stdout",
     "output_type": "stream",
     "text": [
      "origin :  h시9게 김범호 6상대Jxn기L탄a바B인if2BX\n",
      "cleaned :  김범호, 6대째 JxN기 탄바 인피니트 2차 공연을 개최\n"
     ]
    },
    {
     "name": "stderr",
     "output_type": "stream",
     "text": [
      "30it [01:01,  2.08s/it]Setting `pad_token_id` to `eos_token_id`:None for open-end generation.\n"
     ]
    },
    {
     "name": "stdout",
     "output_type": "stream",
     "text": [
      "origin :  K4O 내년 1월f서울S대에서 기강습회\n",
      "cleaned :  K4O 내년 1월 서울대에서 기강습회 개최\n"
     ]
    },
    {
     "name": "stderr",
     "output_type": "stream",
     "text": [
      "31it [01:03,  2.12s/it]Setting `pad_token_id` to `eos_token_id`:None for open-end generation.\n"
     ]
    },
    {
     "name": "stdout",
     "output_type": "stream",
     "text": [
      "origin :  이도X b2건설 감독b황연 활용 고민ij\n",
      "cleaned :  이도X, b2건설 감독 황연 활용 고민\n"
     ]
    },
    {
     "name": "stderr",
     "output_type": "stream",
     "text": [
      "32it [01:05,  2.09s/it]Setting `pad_token_id` to `eos_token_id`:None for open-end generation.\n"
     ]
    },
    {
     "name": "stdout",
     "output_type": "stream",
     "text": [
      "origin :  SKD문승l C산 중심타선 못넘고i5이닝 4실점\n",
      "cleaned :  SKD 문승현, C산 경기에서 5이닝 4실점\n"
     ]
    },
    {
     "name": "stderr",
     "output_type": "stream",
     "text": [
      "33it [01:07,  2.07s/it]Setting `pad_token_id` to `eos_token_id`:None for open-end generation.\n"
     ]
    },
    {
     "name": "stdout",
     "output_type": "stream",
     "text": [
      "origin :  에버 득점왕 1순y 루카쿠 몸7로v1 2억원 e정\n",
      "cleaned :  에버튼 득점왕 1순위 루카쿠, 몸값 7로브, 2억원에 정착\n"
     ]
    },
    {
     "name": "stderr",
     "output_type": "stream",
     "text": [
      "34it [01:09,  2.05s/it]Setting `pad_token_id` to `eos_token_id`:None for open-end generation.\n"
     ]
    },
    {
     "name": "stdout",
     "output_type": "stream",
     "text": [
      "origin :  김j은h절7 6AA F동_로드먼i나 가포\n",
      "cleaned :  김 지사는 F동 6층 로드먼이 가포 사건에 대해 언급\n"
     ]
    },
    {
     "name": "stderr",
     "output_type": "stream",
     "text": [
      "35it [01:11,  2.04s/it]Setting `pad_token_id` to `eos_token_id`:None for open-end generation.\n"
     ]
    },
    {
     "name": "stdout",
     "output_type": "stream",
     "text": [
      "origin :  수 0타타점P1K씩MjB W사스 T연승\n",
      "cleaned :  수요일, 한국 축구 대표팀의 월드컵 16강 진출 기회\n"
     ]
    },
    {
     "name": "stderr",
     "output_type": "stream",
     "text": [
      "36it [01:13,  2.03s/it]Setting `pad_token_id` to `eos_token_id`:None for open-end generation.\n"
     ]
    },
    {
     "name": "stdout",
     "output_type": "stream",
     "text": [
      "origin :  D싼몸 아센nZR 최소U적료 6h7MR억aGI\n",
      "cleaned :  D스포츠 아센nZR 최소U적료 6h7억aGI\n"
     ]
    },
    {
     "name": "stderr",
     "output_type": "stream",
     "text": [
      "37it [01:15,  2.03s/it]Setting `pad_token_id` to `eos_token_id`:None for open-end generation.\n"
     ]
    },
    {
     "name": "stdout",
     "output_type": "stream",
     "text": [
      "origin :  rBJ호zBO올스P전 홈da스f결 진출\n",
      "cleaned :  BJ홈쇼핑 올스포츠 홈쇼핑 진출\n"
     ]
    },
    {
     "name": "stderr",
     "output_type": "stream",
     "text": [
      "38it [01:17,  2.02s/it]Setting `pad_token_id` to `eos_token_id`:None for open-end generation.\n"
     ]
    },
    {
     "name": "stdout",
     "output_type": "stream",
     "text": [
      "origin :  골스테이트E클P블tV 4년ah속 NB 프전서만날까\n",
      "cleaned :  골드스톤 에이치피블투 4년만에 삼성전자와 전략적 협력\n"
     ]
    },
    {
     "name": "stderr",
     "output_type": "stream",
     "text": [
      "39it [01:19,  2.02s/it]Setting `pad_token_id` to `eos_token_id`:None for open-end generation.\n"
     ]
    },
    {
     "name": "stdout",
     "output_type": "stream",
     "text": [
      "origin :  러9역Gu폴록 3점포 다저 6s 4연승\n",
      "cleaned :  러시아 9호기 폴록 3점포, 다저스 6점차 승리 4연승\n"
     ]
    },
    {
     "name": "stderr",
     "output_type": "stream",
     "text": [
      "40it [01:21,  2.02s/it]Setting `pad_token_id` to `eos_token_id`:None for open-end generation.\n"
     ]
    },
    {
     "name": "stdout",
     "output_type": "stream",
     "text": [
      "origin :  아4안n 국여자축4w복F cQ41e신\n",
      "cleaned :  아프리카 국가 여자 축구 월드컵 예선 4조 1차전\n"
     ]
    },
    {
     "name": "stderr",
     "output_type": "stream",
     "text": [
      "41it [01:23,  2.02s/it]Setting `pad_token_id` to `eos_token_id`:None for open-end generation.\n"
     ]
    },
    {
     "name": "stdout",
     "output_type": "stream",
     "text": [
      "origin :  Np민황_4 두x투이Zo AM치 데뷔\n",
      "cleaned :  민상공화국 4기 두 번째 이야기: 아마추어 무대 데뷔\n"
     ]
    },
    {
     "name": "stderr",
     "output_type": "stream",
     "text": [
      "42it [01:25,  2.02s/it]Setting `pad_token_id` to `eos_token_id`:None for open-end generation.\n"
     ]
    },
    {
     "name": "stdout",
     "output_type": "stream",
     "text": [
      "origin :  o시티리버L34ea확아스널 20년만에D스리그Y좌절\n",
      "cleaned :  오시티 리버 레이스, 아스널 20년 만에 리그 우승 좌절\n"
     ]
    },
    {
     "name": "stderr",
     "output_type": "stream",
     "text": [
      "43it [01:27,  2.02s/it]Setting `pad_token_id` to `eos_token_id`:None for open-end generation.\n"
     ]
    },
    {
     "name": "stdout",
     "output_type": "stream",
     "text": [
      "origin :  WN C 박지G3S고y에서U2바J드\n",
      "cleaned :  유튜브 채널 \"박지성의 골\"에서 U2의 \"Bad\"이 재생되다\n"
     ]
    },
    {
     "name": "stderr",
     "output_type": "stream",
     "text": [
      "44it [01:29,  2.01s/it]Setting `pad_token_id` to `eos_token_id`:None for open-end generation.\n"
     ]
    },
    {
     "name": "stdout",
     "output_type": "stream",
     "text": [
      "origin :  kt 2퍼q 실G 점M2v닝yJ안Gj3K 무실\n",
      "cleaned :  KT 2분기 실적 발표\n"
     ]
    },
    {
     "name": "stderr",
     "output_type": "stream",
     "text": [
      "45it [01:31,  2.02s/it]Setting `pad_token_id` to `eos_token_id`:None for open-end generation.\n"
     ]
    },
    {
     "name": "stdout",
     "output_type": "stream",
     "text": [
      "origin :  lue 유N리그 아란h에 15 패I수모4별리그 탈p\n",
      "cleaned :  유니버스 리그 아란에 15패 패배, 4성별 리그 탈퇴\n"
     ]
    },
    {
     "name": "stderr",
     "output_type": "stream",
     "text": [
      "46it [01:33,  2.02s/it]Setting `pad_token_id` to `eos_token_id`:None for open-end generation.\n"
     ]
    },
    {
     "name": "stdout",
     "output_type": "stream",
     "text": [
      "origin :  LG G6 예약판매 개시액정 무상 수리 등 45만원 혜택\n",
      "cleaned :  LG G6 예약판매 시작, 45만원 상당의 혜택 제공\n"
     ]
    },
    {
     "name": "stderr",
     "output_type": "stream",
     "text": [
      "47it [01:35,  2.02s/it]Setting `pad_token_id` to `eos_token_id`:None for open-end generation.\n"
     ]
    },
    {
     "name": "stdout",
     "output_type": "stream",
     "text": [
      "origin :  폭행_혐의 XLB던 우J아스 8일 만에 다B9 복5\n",
      "cleaned :  폭행 혐의로 조사받던 우아시아 8일 만에 구속\n"
     ]
    },
    {
     "name": "stderr",
     "output_type": "stream",
     "text": [
      "48it [01:37,  2.02s/it]Setting `pad_token_id` to `eos_token_id`:None for open-end generation.\n"
     ]
    },
    {
     "name": "stdout",
     "output_type": "stream",
     "text": [
      "origin :  한국 여축V아시컵 한일전 04 무승부첫 승 무산V\n",
      "cleaned :  한국 여자 축구 국가대표팀과 일본 여자 축구 국가대표팀의 한일전 경기가 무승부로 종료되었습니다.\n"
     ]
    },
    {
     "name": "stderr",
     "output_type": "stream",
     "text": [
      "49it [01:39,  2.02s/it]Setting `pad_token_id` to `eos_token_id`:None for open-end generation.\n"
     ]
    },
    {
     "name": "stdout",
     "output_type": "stream",
     "text": [
      "origin :  프로농구 샐X리캡4Q Y에 인u1억 오른h24E원\n",
      "cleaned :  프로농구 샐리캡 4분기 Y에 인수 1억 원 오른 24억 원\n"
     ]
    },
    {
     "name": "stderr",
     "output_type": "stream",
     "text": [
      "50it [01:41,  2.02s/it]Setting `pad_token_id` to `eos_token_id`:None for open-end generation.\n"
     ]
    },
    {
     "name": "stdout",
     "output_type": "stream",
     "text": [
      "origin :  시안게임 체육W 코리아k우스서 여M농5 일rY5A\n",
      "cleaned :  시안 올림픽 체육대회 한국 여자농구 5일차\n"
     ]
    },
    {
     "name": "stderr",
     "output_type": "stream",
     "text": [
      "51it [01:43,  2.02s/it]Setting `pad_token_id` to `eos_token_id`:None for open-end generation.\n"
     ]
    },
    {
     "name": "stdout",
     "output_type": "stream",
     "text": [
      "origin :  손Y민의 토트FUJFN챔스리8 레알 드리드XF한C6\n",
      "cleaned :  손흥민, 토트넘 챔피언스리그 8강 레알 마드리드와 대결\n"
     ]
    },
    {
     "name": "stderr",
     "output_type": "stream",
     "text": [
      "52it [01:45,  2.02s/it]Setting `pad_token_id` to `eos_token_id`:None for open-end generation.\n"
     ]
    },
    {
     "name": "stdout",
     "output_type": "stream",
     "text": [
      "origin :  메 X 1u호바르사 빌바오 fNk두질_\n",
      "cleaned :  메르세데스-벤츠 X 클래스 1유형 바르셀로나 빌바오 F1 두 차례 질주\n"
     ]
    },
    {
     "name": "stderr",
     "output_type": "stream",
     "text": [
      "53it [01:47,  2.01s/it]Setting `pad_token_id` to `eos_token_id`:None for open-end generation.\n"
     ]
    },
    {
     "name": "stdout",
     "output_type": "stream",
     "text": [
      "origin :  dL조X 제안2절j이한샘_상으로 l소년 9전0금 기부\n",
      "cleaned :  대한항공 조종사, 한샘 상으로 소년 9명 0금 기부\n"
     ]
    },
    {
     "name": "stderr",
     "output_type": "stream",
     "text": [
      "54it [01:49,  2.01s/it]Setting `pad_token_id` to `eos_token_id`:None for open-end generation.\n"
     ]
    },
    {
     "name": "stdout",
     "output_type": "stream",
     "text": [
      "origin :  림픽 yt컬링 예선전하p k낙연 총리\n",
      "cleaned :  림픽 컬링 예선전 하자 낙연 총리\n"
     ]
    },
    {
     "name": "stderr",
     "output_type": "stream",
     "text": [
      "55it [01:51,  2.02s/it]Setting `pad_token_id` to `eos_token_id`:None for open-end generation.\n"
     ]
    },
    {
     "name": "stdout",
     "output_type": "stream",
     "text": [
      "origin :  반전 P2PE하삼8a 휴rj를Ae 발b으로\n",
      "cleaned :  반전 P2PE 하이브리드 발사\n"
     ]
    },
    {
     "name": "stderr",
     "output_type": "stream",
     "text": [
      "56it [01:53,  2.01s/it]Setting `pad_token_id` to `eos_token_id`:None for open-end generation.\n"
     ]
    },
    {
     "name": "stdout",
     "output_type": "stream",
     "text": [
      "origin :  21P안OoD3득점N대i발4후 5 해l 6승\n",
      "cleaned :  21일 오전 3점 대 이발 4후 5골 6승\n"
     ]
    },
    {
     "name": "stderr",
     "output_type": "stream",
     "text": [
      "57it [01:55,  2.01s/it]Setting `pad_token_id` to `eos_token_id`:None for open-end generation.\n"
     ]
    },
    {
     "name": "stdout",
     "output_type": "stream",
     "text": [
      "origin :  i정K가장S먼저0ao2홈런PyK2kt에 연\n",
      "cleaned :  이정규가 가장 먼저 홈런을 쳤습니다.\n"
     ]
    },
    {
     "name": "stderr",
     "output_type": "stream",
     "text": [
      "58it [01:58,  2.01s/it]Setting `pad_token_id` to `eos_token_id`:None for open-end generation.\n"
     ]
    },
    {
     "name": "stdout",
     "output_type": "stream",
     "text": [
      "origin :  Ii_ 전몰자 추모9는e귀비꽃H양 제1 U화\n",
      "cleaned :  전몰자 추모 9월 1일 제1회 화합의 꽃제\n"
     ]
    },
    {
     "name": "stderr",
     "output_type": "stream",
     "text": [
      "59it [02:00,  2.01s/it]Setting `pad_token_id` to `eos_token_id`:None for open-end generation.\n"
     ]
    },
    {
     "name": "stdout",
     "output_type": "stream",
     "text": [
      "origin :  프로농 sB 윤호영 어t이El수술비650w원D지원\n",
      "cleaned :  프로농협 윤호영 의원이 수술비 650만원 지원\n"
     ]
    },
    {
     "name": "stderr",
     "output_type": "stream",
     "text": [
      "60it [02:02,  2.01s/it]Setting `pad_token_id` to `eos_token_id`:None for open-end generation.\n"
     ]
    },
    {
     "name": "stdout",
     "output_type": "stream",
     "text": [
      "origin :  축구z가표 출n 수 2학영 승부C작c혐의속\n",
      "cleaned :  축구 국가대표팀 출정식 2연승 승부는 흥미로울 것\n"
     ]
    },
    {
     "name": "stderr",
     "output_type": "stream",
     "text": [
      "61it [02:04,  2.02s/it]Setting `pad_token_id` to `eos_token_id`:None for open-end generation.\n"
     ]
    },
    {
     "name": "stdout",
     "output_type": "stream",
     "text": [
      "origin :  김욱 0y 전9경남에 첫ba 안기며jSTD_m도약\n",
      "cleaned :  김욱 전 경남지사, 9번째 경남 방문하며 표준개발도모\n"
     ]
    },
    {
     "name": "stderr",
     "output_type": "stream",
     "text": [
      "62it [02:06,  2.02s/it]Setting `pad_token_id` to `eos_token_id`:None for open-end generation.\n"
     ]
    },
    {
     "name": "stdout",
     "output_type": "stream",
     "text": [
      "origin :  l9만96기L연속 Lo탬5R이 연3\n",
      "cleaned :  L9만 96기 L연속 Lo탬5R이 연 3회\n"
     ]
    },
    {
     "name": "stderr",
     "output_type": "stream",
     "text": [
      "63it [02:08,  2.02s/it]Setting `pad_token_id` to `eos_token_id`:None for open-end generation.\n"
     ]
    },
    {
     "name": "stdout",
     "output_type": "stream",
     "text": [
      "origin :  영상t류현진g베랑포수 마틴과 출iP싱D은 517\n",
      "cleaned :  영상류현진과 베랑포수 마틴, 출입국 심사 중 517명 적발\n"
     ]
    },
    {
     "name": "stderr",
     "output_type": "stream",
     "text": [
      "64it [02:10,  2.02s/it]Setting `pad_token_id` to `eos_token_id`:None for open-end generation.\n"
     ]
    },
    {
     "name": "stdout",
     "output_type": "stream",
     "text": [
      "origin :  m탁V력향상장 배구w표팀x전임8독 하겠다\n",
      "cleaned :  탁월한 V력 향상을 위한 배구 선수들의 표본 팀은 전임 8명을 독려하겠다\n"
     ]
    },
    {
     "name": "stderr",
     "output_type": "stream",
     "text": [
      "65it [02:12,  2.03s/it]Setting `pad_token_id` to `eos_token_id`:None for open-end generation.\n"
     ]
    },
    {
     "name": "stdout",
     "output_type": "stream",
     "text": [
      "origin :  야구3ISm안에서 더 생생하8LGU 프l야 m\n",
      "cleaned :  야구 3인 1팀에서 더 생생한 LG 트윈스 플레이\n"
     ]
    },
    {
     "name": "stderr",
     "output_type": "stream",
     "text": [
      "66it [02:14,  2.03s/it]Setting `pad_token_id` to `eos_token_id`:None for open-end generation.\n"
     ]
    },
    {
     "name": "stdout",
     "output_type": "stream",
     "text": [
      "origin :  J병호m97 _VnF1 DtWrE 연6\n",
      "cleaned :  제20회 세계태권도연맹 총회 개막\n"
     ]
    },
    {
     "name": "stderr",
     "output_type": "stream",
     "text": [
      "67it [02:16,  2.03s/it]Setting `pad_token_id` to `eos_token_id`:None for open-end generation.\n"
     ]
    },
    {
     "name": "stdout",
     "output_type": "stream",
     "text": [
      "origin :  변 라건WQ떠오른 대성현대모비 력 k표팀lY\n",
      "cleaned :  변 라건원 대성 현대모빌리티 K-팀 출범\n"
     ]
    },
    {
     "name": "stderr",
     "output_type": "stream",
     "text": [
      "68it [02:18,  2.03s/it]Setting `pad_token_id` to `eos_token_id`:None for open-end generation.\n"
     ]
    },
    {
     "name": "stdout",
     "output_type": "stream",
     "text": [
      "origin :  김지j 19득점 깜짝G5약현대캐5탈 KBO보에 H\n",
      "cleaned :  김지민 19득점, 깜짝 G5약현대캐5탈 KBO리그 승리\n"
     ]
    },
    {
     "name": "stderr",
     "output_type": "stream",
     "text": [
      "69it [02:20,  2.03s/it]Setting `pad_token_id` to `eos_token_id`:None for open-end generation.\n"
     ]
    },
    {
     "name": "stdout",
     "output_type": "stream",
     "text": [
      "origin :  아3널o5리S x격파링컨시와JA f전\n",
      "cleaned :  아리랑5 리 사격 파링크 시와 자프 전\n"
     ]
    },
    {
     "name": "stderr",
     "output_type": "stream",
     "text": [
      "70it [02:22,  2.03s/it]Setting `pad_token_id` to `eos_token_id`:None for open-end generation.\n"
     ]
    },
    {
     "name": "stdout",
     "output_type": "stream",
     "text": [
      "origin :  AS모코 Tv이 팔카오V세 혐의로 2소\n",
      "cleaned :  AS모코 TV가 팔카오 V세 혐의로 2개 소송을 제기하다\n"
     ]
    },
    {
     "name": "stderr",
     "output_type": "stream",
     "text": [
      "71it [02:24,  2.03s/it]Setting `pad_token_id` to `eos_token_id`:None for open-end generation.\n"
     ]
    },
    {
     "name": "stdout",
     "output_type": "stream",
     "text": [
      "origin :  rR드전 앞 신태ht실xG우리2플 f 우선\n",
      "cleaned :  드라마 \"우리 결혼했어요\" 2회가 우선으로 편성됩니다.\n"
     ]
    },
    {
     "name": "stderr",
     "output_type": "stream",
     "text": [
      "72it [02:26,  2.03s/it]Setting `pad_token_id` to `eos_token_id`:None for open-end generation.\n"
     ]
    },
    {
     "name": "stdout",
     "output_type": "stream",
     "text": [
      "origin :  이강인 FK골 U19 대표팀 스코틀랜드에 12 패배\n",
      "cleaned :  이강인 FK골, U-19 대표팀 스코틀랜드와 1-2 패배\n"
     ]
    },
    {
     "name": "stderr",
     "output_type": "stream",
     "text": [
      "73it [02:28,  2.03s/it]Setting `pad_token_id` to `eos_token_id`:None for open-end generation.\n"
     ]
    },
    {
     "name": "stdout",
     "output_type": "stream",
     "text": [
      "origin :  pzN 대MMj8일W아시아uh SJ정대영 대PQ박은진\n",
      "cleaned :  아시아 정대영, 박은진과 대결\n"
     ]
    },
    {
     "name": "stderr",
     "output_type": "stream",
     "text": [
      "74it [02:30,  2.03s/it]Setting `pad_token_id` to `eos_token_id`:None for open-end generation.\n"
     ]
    },
    {
     "name": "stdout",
     "output_type": "stream",
     "text": [
      "origin :  7 들어올L때b 는W두산SK선발 c승에 불과롯데\n",
      "cleaned :  롯데, 두산 SK와의 선발 승리에 불과 7이닝만 던짐\n"
     ]
    },
    {
     "name": "stderr",
     "output_type": "stream",
     "text": [
      "75it [02:32,  2.03s/it]Setting `pad_token_id` to `eos_token_id`:None for open-end generation.\n"
     ]
    },
    {
     "name": "stdout",
     "output_type": "stream",
     "text": [
      "origin :  LLx g스턴 잭 d레인키 tMWS 우a후8 0순위x\n",
      "cleaned :  LG전자, 스마트워치 MWC에서 0순위로 선보인다\n"
     ]
    },
    {
     "name": "stderr",
     "output_type": "stream",
     "text": [
      "76it [02:34,  2.03s/it]Setting `pad_token_id` to `eos_token_id`:None for open-end generation.\n"
     ]
    },
    {
     "name": "stdout",
     "output_type": "stream",
     "text": [
      "origin :  감 O장Kv 김주찬결j타로 58패 출삼V에\n",
      "cleaned :  감독 김주찬, 58패에 출삼할까?\n"
     ]
    },
    {
     "name": "stderr",
     "output_type": "stream",
     "text": [
      "77it [02:36,  2.03s/it]Setting `pad_token_id` to `eos_token_id`:None for open-end generation.\n"
     ]
    },
    {
     "name": "stdout",
     "output_type": "stream",
     "text": [
      "origin :  MLB 를로 P트 W틴 뉴A 메I감독 GA\n",
      "cleaned :  MLB 로빈슨 감독, W틴 뉴욕 메츠 감독으로 선임\n"
     ]
    },
    {
     "name": "stderr",
     "output_type": "stream",
     "text": [
      "78it [02:38,  2.02s/it]Setting `pad_token_id` to `eos_token_id`:None for open-end generation.\n"
     ]
    },
    {
     "name": "stdout",
     "output_type": "stream",
     "text": [
      "origin :  추Q수 3h기H연1 무안타q시I 타율 27\n",
      "cleaned :  추격수 3번 타자 연속 1타점 타율 27%\n"
     ]
    },
    {
     "name": "stderr",
     "output_type": "stream",
     "text": [
      "79it [02:40,  2.03s/it]Setting `pad_token_id` to `eos_token_id`:None for open-end generation.\n"
     ]
    },
    {
     "name": "stdout",
     "output_type": "stream",
     "text": [
      "origin :  Kqa 정_m 선2z전xg기0 독X배울 많z 베9\n",
      "cleaned :  KBS 뉴스 2: 독수리 배틀 수업 많아\n"
     ]
    },
    {
     "name": "stderr",
     "output_type": "stream",
     "text": [
      "80it [02:42,  2.03s/it]Setting `pad_token_id` to `eos_token_id`:None for open-end generation.\n"
     ]
    },
    {
     "name": "stdout",
     "output_type": "stream",
     "text": [
      "origin :  Q00골 h시 역시l결Y4골r중 1골 C반 30분G\n",
      "cleaned :  Q00골, 하시결승 4골차로 1골차 C반 30분\n"
     ]
    },
    {
     "name": "stderr",
     "output_type": "stream",
     "text": [
      "81it [02:44,  2.03s/it]Setting `pad_token_id` to `eos_token_id`:None for open-end generation.\n"
     ]
    },
    {
     "name": "stdout",
     "output_type": "stream",
     "text": [
      "origin :  대결 SI 켈리 vs두산 B용찬 KSe차6 선발\n",
      "cleaned :  SI 켈리 대 두산, B용찬 KSe차6 선발\n"
     ]
    },
    {
     "name": "stderr",
     "output_type": "stream",
     "text": [
      "82it [02:46,  2.03s/it]Setting `pad_token_id` to `eos_token_id`:None for open-end generation.\n"
     ]
    },
    {
     "name": "stdout",
     "output_type": "stream",
     "text": [
      "origin :  f배5미국과 드컵 종전서 13 석J6승 7패로 w감\n",
      "cleaned :  미국과 독일은 13개 경기에서 6승 7패로 종전했습니다.\n"
     ]
    },
    {
     "name": "stderr",
     "output_type": "stream",
     "text": [
      "83it [02:48,  2.03s/it]Setting `pad_token_id` to `eos_token_id`:None for open-end generation.\n"
     ]
    },
    {
     "name": "stdout",
     "output_type": "stream",
     "text": [
      "origin :  러시아99자배구D코치 LxUN리 뒤 Q기 o리머\n",
      "cleaned :  러시아 99자 배구 D코치 LxUN리 뒤 Q기 오리머\n"
     ]
    },
    {
     "name": "stderr",
     "output_type": "stream",
     "text": [
      "84it [02:50,  2.02s/it]Setting `pad_token_id` to `eos_token_id`:None for open-end generation.\n"
     ]
    },
    {
     "name": "stdout",
     "output_type": "stream",
     "text": [
      "origin :  FT 셀U나 U사상 Q고는M메시G발V르 F날_GR\n",
      "cleaned :  FT셀룰로오스 나노 섬유, 우선순위로 지정되었습니다.\n"
     ]
    },
    {
     "name": "stderr",
     "output_type": "stream",
     "text": [
      "85it [02:52,  2.02s/it]Setting `pad_token_id` to `eos_token_id`:None for open-end generation.\n"
     ]
    },
    {
     "name": "stdout",
     "output_type": "stream",
     "text": [
      "origin :  전Y 드9난 넥 뒷돈 g이K9BOQl그가k공\n",
      "cleaned :  전 Y 드9 난 넥 뒷돈 g이 K9 BOQl 그가 공\n"
     ]
    },
    {
     "name": "stderr",
     "output_type": "stream",
     "text": [
      "86it [02:54,  2.02s/it]Setting `pad_token_id` to `eos_token_id`:None for open-end generation.\n"
     ]
    },
    {
     "name": "stdout",
     "output_type": "stream",
     "text": [
      "origin :  역 좀비ue이스9Z 1차H 애틀ZVX\n",
      "cleaned :  역 좀비 위기 1차 발생\n"
     ]
    },
    {
     "name": "stderr",
     "output_type": "stream",
     "text": [
      "87it [02:56,  2.01s/it]Setting `pad_token_id` to `eos_token_id`:None for open-end generation.\n"
     ]
    },
    {
     "name": "stdout",
     "output_type": "stream",
     "text": [
      "origin :  도쿄행 첫 관문 c인공은 F8범호mt8인j1pJ\n",
      "cleaned :  도쿄행 첫 관문 인천공항 개항\n"
     ]
    },
    {
     "name": "stderr",
     "output_type": "stream",
     "text": [
      "88it [02:58,  2.01s/it]Setting `pad_token_id` to `eos_token_id`:None for open-end generation.\n"
     ]
    },
    {
     "name": "stdout",
     "output_type": "stream",
     "text": [
      "origin :  아r널R벵거 감B Yu 비에 감u에 o 볍다\n",
      "cleaned :  아널드 슈워제네거와 유진 비에른가르트, 모스크바에서 만난다\n"
     ]
    },
    {
     "name": "stderr",
     "output_type": "stream",
     "text": [
      "89it [03:00,  2.01s/it]Setting `pad_token_id` to `eos_token_id`:None for open-end generation.\n"
     ]
    },
    {
     "name": "stdout",
     "output_type": "stream",
     "text": [
      "origin :  승우qo리에AC베j나와N4년 o 계약오L3디a스h\n",
      "cleaned :  승우리에 AC벤나와 4년 오디션 계약\n"
     ]
    },
    {
     "name": "stderr",
     "output_type": "stream",
     "text": [
      "90it [03:02,  2.01s/it]Setting `pad_token_id` to `eos_token_id`:None for open-end generation.\n"
     ]
    },
    {
     "name": "stdout",
     "output_type": "stream",
     "text": [
      "origin :  3자l 아시아선 4위에도 자신감 전Y 월 도전\n",
      "cleaned :  아시아선 4위에도 자신감 전Y 월 도전\n"
     ]
    },
    {
     "name": "stderr",
     "output_type": "stream",
     "text": [
      "91it [03:04,  2.01s/it]Setting `pad_token_id` to `eos_token_id`:None for open-end generation.\n"
     ]
    },
    {
     "name": "stdout",
     "output_type": "stream",
     "text": [
      "origin :  민커진 남원jw독8e프 원래 설렁설렁다\n",
      "cleaned :  민경된 남원 원래 설렁설랑다\n"
     ]
    },
    {
     "name": "stderr",
     "output_type": "stream",
     "text": [
      "92it [03:06,  2.01s/it]Setting `pad_token_id` to `eos_token_id`:None for open-end generation.\n"
     ]
    },
    {
     "name": "stdout",
     "output_type": "stream",
     "text": [
      "origin :  B이8뽑ki농구 x타EbZUKBLC올o전 팬 투D 8W\n",
      "cleaned :  배이8기 농구 x타 에이블 올스타전 팬 투어 8회\n"
     ]
    },
    {
     "name": "stderr",
     "output_type": "stream",
     "text": [
      "93it [03:08,  2.01s/it]Setting `pad_token_id` to `eos_token_id`:None for open-end generation.\n"
     ]
    },
    {
     "name": "stdout",
     "output_type": "stream",
     "text": [
      "origin :  박9서l 트남 스즈키 1차전 라오스에9r0 대\n",
      "cleaned :  박9서 류트남 스즈키 1차전 라오스에서 대결\n"
     ]
    },
    {
     "name": "stderr",
     "output_type": "stream",
     "text": [
      "94it [03:10,  2.01s/it]Setting `pad_token_id` to `eos_token_id`:None for open-end generation.\n"
     ]
    },
    {
     "name": "stdout",
     "output_type": "stream",
     "text": [
      "origin :  가빈산체 V 그 ku까9b달U라cJ웃2Am\n",
      "cleaned :  가빈산 체험관, 9월 2일 개장\n"
     ]
    },
    {
     "name": "stderr",
     "output_type": "stream",
     "text": [
      "95it [03:12,  2.01s/it]Setting `pad_token_id` to `eos_token_id`:None for open-end generation.\n"
     ]
    },
    {
     "name": "stdout",
     "output_type": "stream",
     "text": [
      "origin :  여배3 r수들 4배와 같은V경기이e 수 A어X\n",
      "cleaned :  여배우 3명이 4배의 수익을 올린 게임의 규칙\n"
     ]
    },
    {
     "name": "stderr",
     "output_type": "stream",
     "text": [
      "96it [03:14,  2.01s/it]Setting `pad_token_id` to `eos_token_id`:None for open-end generation.\n"
     ]
    },
    {
     "name": "stdout",
     "output_type": "stream",
     "text": [
      "origin :  삼성H재 극적인 역전DtB손oh1R연패 늪J로\n",
      "cleaned :  삼성전자, 극적인 역전승으로 DtB손흥민 1R연패 늪에서 벗어나\n"
     ]
    },
    {
     "name": "stderr",
     "output_type": "stream",
     "text": [
      "97it [03:16,  2.01s/it]Setting `pad_token_id` to `eos_token_id`:None for open-end generation.\n"
     ]
    },
    {
     "name": "stdout",
     "output_type": "stream",
     "text": [
      "origin :  대전극 KB손보 시U 첫 연승G도로공사H IBK에\n",
      "cleaned :  대전광역시 KBL에서 KB손해보험 시우가 IBK기업은행에 첫 연승을 기록합니다.\n"
     ]
    },
    {
     "name": "stderr",
     "output_type": "stream",
     "text": [
      "98it [03:18,  2.01s/it]Setting `pad_token_id` to `eos_token_id`:None for open-end generation.\n"
     ]
    },
    {
     "name": "stdout",
     "output_type": "stream",
     "text": [
      "origin :  qVcs다저스 현진과장기Q약b5 효과O해\n",
      "cleaned :  현진과장기 약효 확인\n"
     ]
    },
    {
     "name": "stderr",
     "output_type": "stream",
     "text": [
      "99it [03:20,  2.01s/it]Setting `pad_token_id` to `eos_token_id`:None for open-end generation.\n"
     ]
    },
    {
     "name": "stdout",
     "output_type": "stream",
     "text": [
      "origin :  여자농구w우리은행 F성명9파v1위 성\n",
      "cleaned :  우리은행 여자농구단, F조 1위로 9패 무효 처리\n"
     ]
    },
    {
     "name": "stderr",
     "output_type": "stream",
     "text": [
      "100it [03:22,  2.01s/it]Setting `pad_token_id` to `eos_token_id`:None for open-end generation.\n"
     ]
    },
    {
     "name": "stdout",
     "output_type": "stream",
     "text": [
      "origin :  가을야구T M7B 아U냐 u성의oc주루로도마\n",
      "cleaned :  가을야구 T M7B 아우냐 우성의 오치주루로도마\n"
     ]
    },
    {
     "name": "stderr",
     "output_type": "stream",
     "text": [
      "101it [03:24,  2.01s/it]Setting `pad_token_id` to `eos_token_id`:None for open-end generation.\n"
     ]
    },
    {
     "name": "stdout",
     "output_type": "stream",
     "text": [
      "origin :  이범호7찬o35nK_A Iu헤더L1차B SH 제압\n",
      "cleaned :  이범호 7차 N.K. A급 Iu 헤더 L1차 B, SH 제압\n"
     ]
    },
    {
     "name": "stderr",
     "output_type": "stream",
     "text": [
      "102it [03:26,  2.01s/it]Setting `pad_token_id` to `eos_token_id`:None for open-end generation.\n"
     ]
    },
    {
     "name": "stdout",
     "output_type": "stream",
     "text": [
      "origin :  SKT 새 음악 플랫폼 플로 출시AI 맞춤형 추천\n",
      "cleaned :  SKT, AI 기반 음악 추천 플랫폼 플로 출시\n"
     ]
    },
    {
     "name": "stderr",
     "output_type": "stream",
     "text": [
      "103it [03:28,  2.00s/it]Setting `pad_token_id` to `eos_token_id`:None for open-end generation.\n"
     ]
    },
    {
     "name": "stdout",
     "output_type": "stream",
     "text": [
      "origin :  통신3사 5G 가입자 경쟁 불붙었다LG V50 지원금 최대 77만원\n",
      "cleaned :  통신3사 5G 가입자 경쟁 치열, LG V50 지원금 최대 77만원\n"
     ]
    },
    {
     "name": "stderr",
     "output_type": "stream",
     "text": [
      "104it [03:30,  2.00s/it]Setting `pad_token_id` to `eos_token_id`:None for open-end generation.\n"
     ]
    },
    {
     "name": "stdout",
     "output_type": "stream",
     "text": [
      "origin :  프로배x 외국q 선수라아웃 5월초1k다 n서 개최\n",
      "cleaned :  프로배드민턴 월드투어 5월 초 1,000만 달러 대회 개최\n"
     ]
    },
    {
     "name": "stderr",
     "output_type": "stream",
     "text": [
      "105it [03:32,  2.01s/it]Setting `pad_token_id` to `eos_token_id`:None for open-end generation.\n"
     ]
    },
    {
     "name": "stdout",
     "output_type": "stream",
     "text": [
      "origin :  다저스 로rk 감독 쇼 6 상T 좋S지고 t\n",
      "cleaned :  다저스 로크 감독, 쇼 6번 경기 승리\n"
     ]
    },
    {
     "name": "stderr",
     "output_type": "stream",
     "text": [
      "106it [03:34,  2.01s/it]Setting `pad_token_id` to `eos_token_id`:None for open-end generation.\n"
     ]
    },
    {
     "name": "stdout",
     "output_type": "stream",
     "text": [
      "origin :  캡A 기용7협력수 4R면 S1 gZ 단u 것\n",
      "cleaned :  캡틴 아메리카가 7명의 협력자를 고용한다: 4명의 레전드가 S1에서 등장할 것\n"
     ]
    },
    {
     "name": "stderr",
     "output_type": "stream",
     "text": [
      "107it [03:36,  2.01s/it]Setting `pad_token_id` to `eos_token_id`:None for open-end generation.\n"
     ]
    },
    {
     "name": "stdout",
     "output_type": "stream",
     "text": [
      "origin :  7j 타3의 야구장 나들Z임h준 30일s구 개 전 시구\n",
      "cleaned :  삼성 라이온즈 타3 야구장 개장식 30일 예정\n"
     ]
    },
    {
     "name": "stderr",
     "output_type": "stream",
     "text": [
      "108it [03:38,  2.01s/it]Setting `pad_token_id` to `eos_token_id`:None for open-end generation.\n"
     ]
    },
    {
     "name": "stdout",
     "output_type": "stream",
     "text": [
      "origin :  QIT결승포iRK Go꺾고 전반기 w2전서X위NF리즈\n",
      "cleaned :  QIT 결승전에서 한국이 우승\n"
     ]
    },
    {
     "name": "stderr",
     "output_type": "stream",
     "text": [
      "109it [03:40,  2.01s/it]Setting `pad_token_id` to `eos_token_id`:None for open-end generation.\n"
     ]
    },
    {
     "name": "stdout",
     "output_type": "stream",
     "text": [
      "origin :  바u셀로나 4으H 국왕컵h16강9안e4연패전GDU\n",
      "cleaned :  바르셀로나, 4년 연속 국왕컵 16강 진출\n"
     ]
    },
    {
     "name": "stderr",
     "output_type": "stream",
     "text": [
      "110it [03:42,  2.01s/it]Setting `pad_token_id` to `eos_token_id`:None for open-end generation.\n"
     ]
    },
    {
     "name": "stdout",
     "output_type": "stream",
     "text": [
      "origin :  답답한 날q u즌 x 출전 2r레알m01iG배\n",
      "cleaned :  답답한 날, 출전 2레알 M1 G배\n"
     ]
    },
    {
     "name": "stderr",
     "output_type": "stream",
     "text": [
      "111it [03:44,  2.01s/it]Setting `pad_token_id` to `eos_token_id`:None for open-end generation.\n"
     ]
    },
    {
     "name": "stdout",
     "output_type": "stream",
     "text": [
      "origin :  i트햄과 z돌 토D06만 벌금 U계\n",
      "cleaned :  i트램과 전동차 도로 D06만 벌금 처벌\n"
     ]
    },
    {
     "name": "stderr",
     "output_type": "stream",
     "text": [
      "112it [03:46,  2.01s/it]Setting `pad_token_id` to `eos_token_id`:None for open-end generation.\n"
     ]
    },
    {
     "name": "stdout",
     "output_type": "stream",
     "text": [
      "origin :  차범K3지성과 B 나히 손3민지금부터Pq새 역사\n",
      "cleaned :  차범근, 지성과 박지민의 새 역사\n"
     ]
    },
    {
     "name": "stderr",
     "output_type": "stream",
     "text": [
      "113it [03:48,  2.01s/it]Setting `pad_token_id` to `eos_token_id`:None for open-end generation.\n"
     ]
    },
    {
     "name": "stdout",
     "output_type": "stream",
     "text": [
      "origin :  로농구 자랜드 새 4국인 선P드영입\n",
      "cleaned :  자랜드, 로농구 새 4국인 선수 영입\n"
     ]
    },
    {
     "name": "stderr",
     "output_type": "stream",
     "text": [
      "114it [03:50,  2.01s/it]Setting `pad_token_id` to `eos_token_id`:None for open-end generation.\n"
     ]
    },
    {
     "name": "stdout",
     "output_type": "stream",
     "text": [
      "origin :  메시 e골 폭격G사 챔스리그서유벤투G에 30 승\n",
      "cleaned :  메시가 유벤투스를 30골로 폭격, 챔피언스리그에서 승리\n"
     ]
    },
    {
     "name": "stderr",
     "output_type": "stream",
     "text": [
      "115it [03:52,  2.01s/it]Setting `pad_token_id` to `eos_token_id`:None for open-end generation.\n"
     ]
    },
    {
     "name": "stdout",
     "output_type": "stream",
     "text": [
      "origin :  송광vgU기 3점포박용8 최d안타I록jn종\n",
      "cleaned :  송광기 3점포 박용 8 최단타 기록\n"
     ]
    },
    {
     "name": "stderr",
     "output_type": "stream",
     "text": [
      "116it [03:54,  2.01s/it]Setting `pad_token_id` to `eos_token_id`:None for open-end generation.\n"
     ]
    },
    {
     "name": "stdout",
     "output_type": "stream",
     "text": [
      "origin :  YYz구gK룡1강원FCV대표F비위 P 상당 확인\n",
      "cleaned :  룡1강원FC의 V대표 F비위 P 상당 확인\n"
     ]
    },
    {
     "name": "stderr",
     "output_type": "stream",
     "text": [
      "117it [03:56,  2.01s/it]Setting `pad_token_id` to `eos_token_id`:None for open-end generation.\n"
     ]
    },
    {
     "name": "stdout",
     "output_type": "stream",
     "text": [
      "origin :  비 9V점X대한항공 삼성화재에 32 승N4연승\n",
      "cleaned :  대한항공, 삼성화재와 32 승 4연승\n"
     ]
    },
    {
     "name": "stderr",
     "output_type": "stream",
     "text": [
      "118it [03:58,  2.01s/it]Setting `pad_token_id` to `eos_token_id`:None for open-end generation.\n"
     ]
    },
    {
     "name": "stdout",
     "output_type": "stream",
     "text": [
      "origin :  아V게M 대c농3Xc8표팀W대만에7일격8강BE탈락\n",
      "cleaned :  SKT와 KT, 7일 8강 진출을 위한 대결\n"
     ]
    },
    {
     "name": "stderr",
     "output_type": "stream",
     "text": [
      "119it [04:00,  2.01s/it]Setting `pad_token_id` to `eos_token_id`:None for open-end generation.\n"
     ]
    },
    {
     "name": "stdout",
     "output_type": "stream",
     "text": [
      "origin :  O상 베트 영MF항l 8른4a라K q과Ch으d\n",
      "cleaned :  오상 베트남의 영업 실패, 8억 원의 손실\n"
     ]
    },
    {
     "name": "stderr",
     "output_type": "stream",
     "text": [
      "120it [04:02,  2.01s/it]Setting `pad_token_id` to `eos_token_id`:None for open-end generation.\n"
     ]
    },
    {
     "name": "stdout",
     "output_type": "stream",
     "text": [
      "origin :  KT 멀티캠퍼스와 기가지니 SERICEO 서비스 론칭\n",
      "cleaned :  KT 멀티캠퍼스와 기가지니 SERICEO 서비스 론칭\n"
     ]
    },
    {
     "name": "stderr",
     "output_type": "stream",
     "text": [
      "121it [04:04,  2.01s/it]Setting `pad_token_id` to `eos_token_id`:None for open-end generation.\n"
     ]
    },
    {
     "name": "stdout",
     "output_type": "stream",
     "text": [
      "origin :  3BA 스테이트휴스GA 콘D8스I결승M지 1\n",
      "cleaned :  3BA 스테이트 휴스턴 콘디션 8 결승 M지 1\n"
     ]
    },
    {
     "name": "stderr",
     "output_type": "stream",
     "text": [
      "122it [04:06,  2.01s/it]Setting `pad_token_id` to `eos_token_id`:None for open-end generation.\n"
     ]
    },
    {
     "name": "stdout",
     "output_type": "stream",
     "text": [
      "origin :  서 5D KB손해0올 즌처W으7l국전력 제압\n",
      "cleaned :  서든어택 5D KB손해보험 0점대 성적으로 국전력 제압\n"
     ]
    },
    {
     "name": "stderr",
     "output_type": "stream",
     "text": [
      "123it [04:08,  2.01s/it]Setting `pad_token_id` to `eos_token_id`:None for open-end generation.\n"
     ]
    },
    {
     "name": "stdout",
     "output_type": "stream",
     "text": [
      "origin :  유럽 챔스 4y 1M 결정레알 미소 바르E 울x\n",
      "cleaned :  유럽 챔피언스리그 4년 1월 결승 진출, 레알 마드리드 미소\n"
     ]
    },
    {
     "name": "stderr",
     "output_type": "stream",
     "text": [
      "124it [04:10,  2.01s/it]Setting `pad_token_id` to `eos_token_id`:None for open-end generation.\n"
     ]
    },
    {
     "name": "stdout",
     "output_type": "stream",
     "text": [
      "origin :  데이비스 4점뉴올리언s 8T전7에 보스턴 4연 저지\n",
      "cleaned :  뉴올리언스, 데이비스 4점에 7점 차로 8T전 보스턴을 저지하다\n"
     ]
    },
    {
     "name": "stderr",
     "output_type": "stream",
     "text": [
      "125it [04:12,  2.01s/it]Setting `pad_token_id` to `eos_token_id`:None for open-end generation.\n"
     ]
    },
    {
     "name": "stdout",
     "output_type": "stream",
     "text": [
      "origin :  일본z넘은 _구 x아 _수v 칼\n",
      "cleaned :  일본 넘어선 중국과 러시아의 구역싸움\n"
     ]
    },
    {
     "name": "stderr",
     "output_type": "stream",
     "text": [
      "126it [04:14,  2.01s/it]Setting `pad_token_id` to `eos_token_id`:None for open-end generation.\n"
     ]
    },
    {
     "name": "stdout",
     "output_type": "stream",
     "text": [
      "origin :  이대호 연타포 롯데 N에 KQ 시즌 첫\n",
      "cleaned :  이대호, 연타포 롯데 N에 KQ 시즌 첫 골\n"
     ]
    },
    {
     "name": "stderr",
     "output_type": "stream",
     "text": [
      "127it [04:16,  2.01s/it]Setting `pad_token_id` to `eos_token_id`:None for open-end generation.\n"
     ]
    },
    {
     "name": "stdout",
     "output_type": "stream",
     "text": [
      "origin :  e Qi L휘이I영 언니 없 4라_ 열히\n",
      "cleaned :  에퀴노크스 영웅 언니가 4라운드에 진출하다\n"
     ]
    },
    {
     "name": "stderr",
     "output_type": "stream",
     "text": [
      "128it [04:19,  2.01s/it]Setting `pad_token_id` to `eos_token_id`:None for open-end generation.\n"
     ]
    },
    {
     "name": "stdout",
     "output_type": "stream",
     "text": [
      "origin :  전자랜드 kt T연도I 찬물2연승 행진종합\n",
      "cleaned :  전자랜드 kt T 연도 I 찬물 2연승 행진 종합\n"
     ]
    },
    {
     "name": "stderr",
     "output_type": "stream",
     "text": [
      "129it [04:21,  2.01s/it]Setting `pad_token_id` to `eos_token_id`:None for open-end generation.\n"
     ]
    },
    {
     "name": "stdout",
     "output_type": "stream",
     "text": [
      "origin :  케U극c s글랜드축구 러시아m 확0p로베아 제N\n",
      "cleaned :  케언스 스플라스 글래스고 럭비 러시아로 여행\n"
     ]
    },
    {
     "name": "stderr",
     "output_type": "stream",
     "text": [
      "130it [04:23,  2.01s/it]Setting `pad_token_id` to `eos_token_id`:None for open-end generation.\n"
     ]
    },
    {
     "name": "stdout",
     "output_type": "stream",
     "text": [
      "origin :  Or두C발롱8르 자s w티 폭팀은 M0p대X\n",
      "cleaned :  올림픽 발롱8호 자스는 무대 위에서 폭발적인 팀 플레이를 보여줍니다\n"
     ]
    },
    {
     "name": "stderr",
     "output_type": "stream",
     "text": [
      "131it [04:25,  2.01s/it]Setting `pad_token_id` to `eos_token_id`:None for open-end generation.\n"
     ]
    },
    {
     "name": "stdout",
     "output_type": "stream",
     "text": [
      "origin :  6c축구대표E해외 O훈4AFC 피십 비\n",
      "cleaned :  6차 축구 대표팀, 해외 친선 경기에서 AFC 피십 비\n"
     ]
    },
    {
     "name": "stderr",
     "output_type": "stream",
     "text": [
      "132it [04:27,  2.01s/it]Setting `pad_token_id` to `eos_token_id`:None for open-end generation.\n"
     ]
    },
    {
     "name": "stdout",
     "output_type": "stream",
     "text": [
      "origin :  프로야b 전F대OLz 마운Ju0AK불방망이 m낼까\n",
      "cleaned :  프로야구 전일본대잔치 마운드의 불꽃 볼볼까\n"
     ]
    },
    {
     "name": "stderr",
     "output_type": "stream",
     "text": [
      "133it [04:29,  2.01s/it]Setting `pad_token_id` to `eos_token_id`:None for open-end generation.\n"
     ]
    },
    {
     "name": "stdout",
     "output_type": "stream",
     "text": [
      "origin :  동정H송종광주gw장 7x수영회 홍보\n",
      "cleaned :  동정송 종광주 장 7수영회 홍보\n"
     ]
    },
    {
     "name": "stderr",
     "output_type": "stream",
     "text": [
      "134it [04:31,  2.01s/it]Setting `pad_token_id` to `eos_token_id`:None for open-end generation.\n"
     ]
    },
    {
     "name": "stdout",
     "output_type": "stream",
     "text": [
      "origin :  a울 h경i 만에 첫 X 신Go고요한 멀골로 포A 제압\n",
      "cleaned :  호프월에서 경기를 치른 최초의 신고요한 멀골로 포아를 제압\n"
     ]
    },
    {
     "name": "stderr",
     "output_type": "stream",
     "text": [
      "135it [04:33,  2.01s/it]Setting `pad_token_id` to `eos_token_id`:None for open-end generation.\n"
     ]
    },
    {
     "name": "stdout",
     "output_type": "stream",
     "text": [
      "origin :  M온 팬t 붙고6 태4R사 y은 기로 W위Z야\n",
      "cleaned :  무한도전 팬들이 태극재단에 기부금을 보내는 바람에 위기에 처했다\n"
     ]
    },
    {
     "name": "stderr",
     "output_type": "stream",
     "text": [
      "136it [04:35,  2.01s/it]Setting `pad_token_id` to `eos_token_id`:None for open-end generation.\n"
     ]
    },
    {
     "name": "stdout",
     "output_type": "stream",
     "text": [
      "origin :  이n준 kkR K 계약P수 끝iWNC코R로\n",
      "cleaned :  이준석 대표, 국민의힘 K 계약서 확인\n"
     ]
    },
    {
     "name": "stderr",
     "output_type": "stream",
     "text": [
      "137it [04:37,  2.01s/it]Setting `pad_token_id` to `eos_token_id`:None for open-end generation.\n"
     ]
    },
    {
     "name": "stdout",
     "output_type": "stream",
     "text": [
      "origin :  프로u70언 차3Y부진 K메lQx동료dn수3ap\n",
      "cleaned :  프로야구 우승자 70승차 3년 연속 부진 KBO리그 동료들 수도 없어\n"
     ]
    },
    {
     "name": "stderr",
     "output_type": "stream",
     "text": [
      "138it [04:39,  2.01s/it]Setting `pad_token_id` to `eos_token_id`:None for open-end generation.\n"
     ]
    },
    {
     "name": "stdout",
     "output_type": "stream",
     "text": [
      "origin :  j로Qn2부 k 1위 성남 b고h선두추격잰걸음\n",
      "cleaned :  제2부 1위 성남, 고양 선두 추격 잰걸음\n"
     ]
    },
    {
     "name": "stderr",
     "output_type": "stream",
     "text": [
      "139it [04:41,  2.01s/it]Setting `pad_token_id` to `eos_token_id`:None for open-end generation.\n"
     ]
    },
    {
     "name": "stdout",
     "output_type": "stream",
     "text": [
      "origin :  승우伊2로나로 완 이Mr 계약\n",
      "cleaned :  승우이 2로 나로 완료된 계약\n"
     ]
    },
    {
     "name": "stderr",
     "output_type": "stream",
     "text": [
      "140it [04:43,  2.01s/it]Setting `pad_token_id` to `eos_token_id`:None for open-end generation.\n"
     ]
    },
    {
     "name": "stdout",
     "output_type": "stream",
     "text": [
      "origin :  성적 부진 도르R문9OS경질임 슈퇴q 선임\n",
      "cleaned :  성적 부진 도르문 감독 경질 임 슈테펜 선임\n"
     ]
    },
    {
     "name": "stderr",
     "output_type": "stream",
     "text": [
      "141it [04:45,  2.01s/it]Setting `pad_token_id` to `eos_token_id`:None for open-end generation.\n"
     ]
    },
    {
     "name": "stdout",
     "output_type": "stream",
     "text": [
      "origin :  이f성 B2점 Sj모비스XKCC m 5연 질주종r\n",
      "cleaned :  이성 B2점 Sj모비스, XKCC와 5연속 질주종목 우승\n"
     ]
    },
    {
     "name": "stderr",
     "output_type": "stream",
     "text": [
      "142it [04:47,  2.01s/it]Setting `pad_token_id` to `eos_token_id`:None for open-end generation.\n"
     ]
    },
    {
     "name": "stdout",
     "output_type": "stream",
     "text": [
      "origin :  삼 울산 L스L꺾 4nFP6K눈D이먼 nOe\n",
      "cleaned :  삼성 울산 L스L이 4인치 디스플레이로 눈길을 끌었다\n"
     ]
    },
    {
     "name": "stderr",
     "output_type": "stream",
     "text": [
      "143it [04:49,  2.01s/it]Setting `pad_token_id` to `eos_token_id`:None for open-end generation.\n"
     ]
    },
    {
     "name": "stdout",
     "output_type": "stream",
     "text": [
      "origin :  아시안게임Z0흥민r결1한국 키UP스에18 승5\n",
      "cleaned :  아시안게임 선수권 한국 키즈 승리\n"
     ]
    },
    {
     "name": "stderr",
     "output_type": "stream",
     "text": [
      "144it [04:51,  2.01s/it]Setting `pad_token_id` to `eos_token_id`:None for open-end generation.\n"
     ]
    },
    {
     "name": "stdout",
     "output_type": "stream",
     "text": [
      "origin :  mA컵 훈련P 찾은t독m 기D H5국팀에심 b\n",
      "cleaned :  마스크 착용 훈련, 도쿄 올림픽 H5국팀에 심각한 영향을 미칩니다\n"
     ]
    },
    {
     "name": "stderr",
     "output_type": "stream",
     "text": [
      "145it [04:53,  2.01s/it]Setting `pad_token_id` to `eos_token_id`:None for open-end generation.\n"
     ]
    },
    {
     "name": "stdout",
     "output_type": "stream",
     "text": [
      "origin :  소사 4탈b 봉승2LG NCt 4승\n",
      "cleaned :  소사 4 탈퇴, 봉승 2 LG NC 승리\n"
     ]
    },
    {
     "name": "stderr",
     "output_type": "stream",
     "text": [
      "146it [04:55,  2.01s/it]Setting `pad_token_id` to `eos_token_id`:None for open-end generation.\n"
     ]
    },
    {
     "name": "stdout",
     "output_type": "stream",
     "text": [
      "origin :  아시안게임z극전사의g승리dP 외침 m\n",
      "cleaned :  아시안게임의 극전사, 승리 외침!\n"
     ]
    },
    {
     "name": "stderr",
     "output_type": "stream",
     "text": [
      "147it [04:57,  2.01s/it]Setting `pad_token_id` to `eos_token_id`:None for open-end generation.\n"
     ]
    },
    {
     "name": "stdout",
     "output_type": "stream",
     "text": [
      "origin :  G 김현수 두산y 9k i인 투2포\n",
      "cleaned :  김현수, 두산 베어스 9차전에서 2점포를 기록했습니다.\n"
     ]
    },
    {
     "name": "stderr",
     "output_type": "stream",
     "text": [
      "148it [04:59,  2.01s/it]Setting `pad_token_id` to `eos_token_id`:None for open-end generation.\n"
     ]
    },
    {
     "name": "stdout",
     "output_type": "stream",
     "text": [
      "origin :  메리츠종금 내년 코스피 19002400 등락\n",
      "cleaned :  메리츠종금 내년도 코스피 1900-2400 등락\n"
     ]
    },
    {
     "name": "stderr",
     "output_type": "stream",
     "text": [
      "149it [05:01,  2.01s/it]Setting `pad_token_id` to `eos_token_id`:None for open-end generation.\n"
     ]
    },
    {
     "name": "stdout",
     "output_type": "stream",
     "text": [
      "origin :  A일dLE6감독 김현수돌F오려면 v 더 기2o야\n",
      "cleaned :  아일랜드 감독 김현수, 감독 오려면 더 기회가 필요하다\n"
     ]
    },
    {
     "name": "stderr",
     "output_type": "stream",
     "text": [
      "150it [05:03,  2.01s/it]Setting `pad_token_id` to `eos_token_id`:None for open-end generation.\n"
     ]
    },
    {
     "name": "stdout",
     "output_type": "stream",
     "text": [
      "origin :  Q재U톰시아쌍포rGS칼텍j사각 B2dx합\n",
      "cleaned :  Q재U톰시아쌍포와GS칼텍이 B2B합작사 설립\n"
     ]
    },
    {
     "name": "stderr",
     "output_type": "stream",
     "text": [
      "151it [05:05,  2.01s/it]Setting `pad_token_id` to `eos_token_id`:None for open-end generation.\n"
     ]
    },
    {
     "name": "stdout",
     "output_type": "stream",
     "text": [
      "origin :  d삼v사 농구여자배G 일본wEA훈k취소\n",
      "cleaned :  삼성전자가 농구 여자 배구 일본 월드컵 취소\n"
     ]
    },
    {
     "name": "stderr",
     "output_type": "stream",
     "text": [
      "152it [05:07,  2.01s/it]Setting `pad_token_id` to `eos_token_id`:None for open-end generation.\n"
     ]
    },
    {
     "name": "stdout",
     "output_type": "stream",
     "text": [
      "origin :  S현cuM전 Dv치에연9석fD로xn납6바u 9K\n",
      "cleaned :  서울시 현금 사용률 전년 대비 9% 증가, 은행 납부 6배 늘어\n"
     ]
    },
    {
     "name": "stderr",
     "output_type": "stream",
     "text": [
      "153it [05:09,  2.01s/it]Setting `pad_token_id` to `eos_token_id`:None for open-end generation.\n"
     ]
    },
    {
     "name": "stdout",
     "output_type": "stream",
     "text": [
      "origin :  프As구L수원 5정원 감독 16강 는 길에 방심없다\n",
      "cleaned :  수원 블루윙즈 5골 감독, 16강 진출 위한 방심 없음\n"
     ]
    },
    {
     "name": "stderr",
     "output_type": "stream",
     "text": [
      "154it [05:11,  2.01s/it]Setting `pad_token_id` to `eos_token_id`:None for open-end generation.\n"
     ]
    },
    {
     "name": "stdout",
     "output_type": "stream",
     "text": [
      "origin :  게시판 로골퍼 박민m 필승UWS 펀드 1\n",
      "cleaned :  로골퍼 박민, 필승 UWS 펀드 1 참여\n"
     ]
    },
    {
     "name": "stderr",
     "output_type": "stream",
     "text": [
      "155it [05:13,  2.01s/it]Setting `pad_token_id` to `eos_token_id`:None for open-end generation.\n"
     ]
    },
    {
     "name": "stdout",
     "output_type": "stream",
     "text": [
      "origin :  롯데cs론트pKB리din 승o두AON드블럼은e5연\n",
      "cleaned :  롯데 CS 론트 P&KB 리딘 승오두 AON 드 블룸은 e5 연\n"
     ]
    },
    {
     "name": "stderr",
     "output_type": "stream",
     "text": [
      "156it [05:15,  2.01s/it]Setting `pad_token_id` to `eos_token_id`:None for open-end generation.\n"
     ]
    },
    {
     "name": "stdout",
     "output_type": "stream",
     "text": [
      "origin :  맨유 Zy그바 L스kPjT상x천4원이 쓰d졌\n",
      "cleaned :  맨유, 4억 원 투입해 라커룸 리노베이션\n"
     ]
    },
    {
     "name": "stderr",
     "output_type": "stream",
     "text": [
      "157it [05:17,  2.01s/it]Setting `pad_token_id` to `eos_token_id`:None for open-end generation.\n"
     ]
    },
    {
     "name": "stdout",
     "output_type": "stream",
     "text": [
      "origin :  아안게임J박지ZA4R농 L일팀 할 _4부 T\n",
      "cleaned :  아시아경기대회 J박지재단 4부 L일 팀 하계올림픽\n"
     ]
    },
    {
     "name": "stderr",
     "output_type": "stream",
     "text": [
      "158it [05:19,  2.01s/it]Setting `pad_token_id` to `eos_token_id`:None for open-end generation.\n"
     ]
    },
    {
     "name": "stdout",
     "output_type": "stream",
     "text": [
      "origin :  K로구zP러리캡 위b J국E에 T금 3T천00I\n",
      "cleaned :  K리그 우승 후보, J국에 3천만 원의 T금으로 도전\n"
     ]
    },
    {
     "name": "stderr",
     "output_type": "stream",
     "text": [
      "159it [05:21,  2.01s/it]Setting `pad_token_id` to `eos_token_id`:None for open-end generation.\n"
     ]
    },
    {
     "name": "stdout",
     "output_type": "stream",
     "text": [
      "origin :  넥X 브리검 dA치N년 연속lee_ 지7O\n",
      "cleaned :  넥스트 브리검 영 아시아 7주년 기념식\n"
     ]
    },
    {
     "name": "stderr",
     "output_type": "stream",
     "text": [
      "160it [05:23,  2.01s/it]Setting `pad_token_id` to `eos_token_id`:None for open-end generation.\n"
     ]
    },
    {
     "name": "stdout",
     "output_type": "stream",
     "text": [
      "origin :  메디 ca 마kZ희진 메디 V리그 다른 j 안\n",
      "cleaned :  메디카 마크제이 메디 V리그 다른 장\n"
     ]
    },
    {
     "name": "stderr",
     "output_type": "stream",
     "text": [
      "161it [05:25,  2.01s/it]Setting `pad_token_id` to `eos_token_id`:None for open-end generation.\n"
     ]
    },
    {
     "name": "stdout",
     "output_type": "stream",
     "text": [
      "origin :  FO 입항gn만경_W\n",
      "cleaned :  포항만경항 도착\n"
     ]
    },
    {
     "name": "stderr",
     "output_type": "stream",
     "text": [
      "162it [05:27,  2.01s/it]Setting `pad_token_id` to `eos_token_id`:None for open-end generation.\n"
     ]
    },
    {
     "name": "stdout",
     "output_type": "stream",
     "text": [
      "origin :  류현J MLf 첫 올 uLBo팀서 두 번째 팀 선발투A\n",
      "cleaned :  류현진, KBO리그 첫 올스타전에서 두 번째 팀으로 선발 투수 A\n"
     ]
    },
    {
     "name": "stderr",
     "output_type": "stream",
     "text": [
      "163it [05:29,  2.01s/it]Setting `pad_token_id` to `eos_token_id`:None for open-end generation.\n"
     ]
    },
    {
     "name": "stdout",
     "output_type": "stream",
     "text": [
      "origin :  여aQ구 박혜f7정yU그MVP4w째수상 a위기\n",
      "cleaned :  여자친구 박혜진, 그룹 MVP 4주째 1위 유지\n"
     ]
    },
    {
     "name": "stderr",
     "output_type": "stream",
     "text": [
      "164it [05:31,  2.01s/it]Setting `pad_token_id` to `eos_token_id`:None for open-end generation.\n"
     ]
    },
    {
     "name": "stdout",
     "output_type": "stream",
     "text": [
      "origin :  B픽 감나네2앞6 4쳐f e속15Y봅레이3x\n",
      "cleaned :  B픽, 감나네 앞 6 4쳐 f e 속 15Y 봅레이 3x\n"
     ]
    },
    {
     "name": "stderr",
     "output_type": "stream",
     "text": [
      "165it [05:33,  2.01s/it]Setting `pad_token_id` to `eos_token_id`:None for open-end generation.\n"
     ]
    },
    {
     "name": "stdout",
     "output_type": "stream",
     "text": [
      "origin :  ED 재4gwf의적p잘못 인정협회L프로행진 렸다\n",
      "cleaned :  교육부, 예산 4차 추경안 발표 협회 등 전문가들이 \"잘못된 방향\"이라고 평가\n"
     ]
    },
    {
     "name": "stderr",
     "output_type": "stream",
     "text": [
      "166it [05:35,  2.01s/it]Setting `pad_token_id` to `eos_token_id`:None for open-end generation.\n"
     ]
    },
    {
     "name": "stdout",
     "output_type": "stream",
     "text": [
      "origin :  작만 9 iYA 외mF삼총TB5할 승률pcI9들\n",
      "cleaned :  작년 9월 삼총사, 5할 승률 달성\n"
     ]
    },
    {
     "name": "stderr",
     "output_type": "stream",
     "text": [
      "167it [05:37,  2.01s/it]Setting `pad_token_id` to `eos_token_id`:None for open-end generation.\n"
     ]
    },
    {
     "name": "stdout",
     "output_type": "stream",
     "text": [
      "origin :  최NA 멀티히트 l 3출Z q약탬파베이 4연패 탈출\n",
      "cleaned :  최나 멀티히트, 탬파베이 4연패 탈출\n"
     ]
    },
    {
     "name": "stderr",
     "output_type": "stream",
     "text": [
      "168it [05:39,  2.01s/it]Setting `pad_token_id` to `eos_token_id`:None for open-end generation.\n"
     ]
    },
    {
     "name": "stdout",
     "output_type": "stream",
     "text": [
      "origin :  게레u Y1K1에P 허탈한kf런더비 I승A알론소우승종\n",
      "cleaned :  유럽 Y1K1 대회에서 우승한 한국 선수 이승아\n"
     ]
    },
    {
     "name": "stderr",
     "output_type": "stream",
     "text": [
      "169it [05:41,  2.01s/it]Setting `pad_token_id` to `eos_token_id`:None for open-end generation.\n"
     ]
    },
    {
     "name": "stdout",
     "output_type": "stream",
     "text": [
      "origin :  Q6cW대모비스AdF연승 tdKCC에 j패\n",
      "cleaned :  대모비스, 연승 행진 이어가 KCC에 승리\n"
     ]
    },
    {
     "name": "stderr",
     "output_type": "stream",
     "text": [
      "170it [05:43,  2.01s/it]Setting `pad_token_id` to `eos_token_id`:None for open-end generation.\n"
     ]
    },
    {
     "name": "stdout",
     "output_type": "stream",
     "text": [
      "origin :  c흥민m2트CA컵 A강서U3B리b gv d돌\n",
      "cleaned :  흥민, 트레블 클럽 가입 후 첫 골을 기록하다\n"
     ]
    },
    {
     "name": "stderr",
     "output_type": "stream",
     "text": [
      "171it [05:45,  2.01s/it]Setting `pad_token_id` to `eos_token_id`:None for open-end generation.\n"
     ]
    },
    {
     "name": "stdout",
     "output_type": "stream",
     "text": [
      "origin :  시라리 nK개 팀 8대D득점금탑울과타이\n",
      "cleaned :  시라리 8대 디펜딩 챔피언과 타이틀을 놓고 3개 팀이 경쟁\n"
     ]
    },
    {
     "name": "stderr",
     "output_type": "stream",
     "text": [
      "172it [05:47,  2.01s/it]Setting `pad_token_id` to `eos_token_id`:None for open-end generation.\n"
     ]
    },
    {
     "name": "stdout",
     "output_type": "stream",
     "text": [
      "origin :  자농구 v은4b리p는 챔프전서 O은E t압\n",
      "cleaned :  자연농업은 4부 리그가 챔피언전에서 우승\n"
     ]
    },
    {
     "name": "stderr",
     "output_type": "stream",
     "text": [
      "173it [05:49,  2.02s/it]Setting `pad_token_id` to `eos_token_id`:None for open-end generation.\n"
     ]
    },
    {
     "name": "stdout",
     "output_type": "stream",
     "text": [
      "origin :  박기yk7한항 감독 0C O제 방심은 금물\n",
      "cleaned :  박기환 감독, 0C O제 방심은 금물\n"
     ]
    },
    {
     "name": "stderr",
     "output_type": "stream",
     "text": [
      "174it [05:51,  2.03s/it]Setting `pad_token_id` to `eos_token_id`:None for open-end generation.\n"
     ]
    },
    {
     "name": "stdout",
     "output_type": "stream",
     "text": [
      "origin :  프로농구 8I타전 이P현드h팀이MVPf 3튼\n",
      "cleaned :  프로농구 8일차 이천 현대건설이 MVP로 선정되다\n"
     ]
    },
    {
     "name": "stderr",
     "output_type": "stream",
     "text": [
      "175it [05:53,  2.04s/it]Setting `pad_token_id` to `eos_token_id`:None for open-end generation.\n"
     ]
    },
    {
     "name": "stdout",
     "output_type": "stream",
     "text": [
      "origin :  4S아2u득점7펄펄L도로공사X선두 y고H4위 도약\n",
      "cleaned :  4S아시아2위 득점7위 L도로공사 선두, 그리고 H4위 도약\n"
     ]
    },
    {
     "name": "stderr",
     "output_type": "stream",
     "text": [
      "176it [05:55,  2.04s/it]Setting `pad_token_id` to `eos_token_id`:None for open-end generation.\n"
     ]
    },
    {
     "name": "stdout",
     "output_type": "stream",
     "text": [
      "origin :  드컵 티켓 보 z륙별X경쟁 본격화c시아 최소 b장5\n",
      "cleaned :  드컵 티켓 판매 자격별 경쟁 본격화, 최소 5장 구매\n"
     ]
    },
    {
     "name": "stderr",
     "output_type": "stream",
     "text": [
      "177it [05:57,  2.05s/it]Setting `pad_token_id` to `eos_token_id`:None for open-end generation.\n"
     ]
    },
    {
     "name": "stdout",
     "output_type": "stream",
     "text": [
      "origin :  게시판 KT 정보보안 기업 4곳과 MOU\n",
      "cleaned :  KT, 정보보안 기업 4곳과 MOU 체결\n"
     ]
    },
    {
     "name": "stderr",
     "output_type": "stream",
     "text": [
      "178it [05:59,  2.06s/it]Setting `pad_token_id` to `eos_token_id`:None for open-end generation.\n"
     ]
    },
    {
     "name": "stdout",
     "output_type": "stream",
     "text": [
      "origin :  b빙 최강자는도T국B양스포대회 5V g막\n",
      "cleaned :  2022 세계 양궁 선수권 대회, 대한민국 최강자 도전\n"
     ]
    },
    {
     "name": "stderr",
     "output_type": "stream",
     "text": [
      "179it [06:01,  2.06s/it]Setting `pad_token_id` to `eos_token_id`:None for open-end generation.\n"
     ]
    },
    {
     "name": "stdout",
     "output_type": "stream",
     "text": [
      "origin :  메츠 신더F드u그V 범경기 S뷔서 강속구 O팡\n",
      "cleaned :  메츠 신종 코로나바이러스 감염증 범유행 상황 업데이트: 강한 사회적 거리두기 정책\n"
     ]
    },
    {
     "name": "stderr",
     "output_type": "stream",
     "text": [
      "180it [06:03,  2.05s/it]Setting `pad_token_id` to `eos_token_id`:None for open-end generation.\n"
     ]
    },
    {
     "name": "stdout",
     "output_type": "stream",
     "text": [
      "origin :  WK리그 Mb x대제16전서 수원과 무d부종E\n",
      "cleaned :  제목없음\n"
     ]
    },
    {
     "name": "stderr",
     "output_type": "stream",
     "text": [
      "181it [06:05,  2.05s/it]Setting `pad_token_id` to `eos_token_id`:None for open-end generation.\n"
     ]
    },
    {
     "name": "stdout",
     "output_type": "stream",
     "text": [
      "origin :  도박 R창진E전 농구감독ZZ죄C뒤집 2U 죄s\n",
      "cleaned :  도박 R창진E전 농구감독 ZZ죄C뒤집 2U 죄s\n"
     ]
    },
    {
     "name": "stderr",
     "output_type": "stream",
     "text": [
      "182it [06:07,  2.04s/it]Setting `pad_token_id` to `eos_token_id`:None for open-end generation.\n"
     ]
    },
    {
     "name": "stdout",
     "output_type": "stream",
     "text": [
      "origin :  ix탄 2 맨유b사우샘프0I꺾고 EFL컵 우승\n",
      "cleaned :  맨유, 사우샘프턴 꺾고 EFL컵 우승\n"
     ]
    },
    {
     "name": "stderr",
     "output_type": "stream",
     "text": [
      "183it [06:10,  2.04s/it]Setting `pad_token_id` to `eos_token_id`:None for open-end generation.\n"
     ]
    },
    {
     "name": "stdout",
     "output_type": "stream",
     "text": [
      "origin :  jR 헥터와별k세금 문제가가 컸다\n",
      "cleaned :  JR 헥터와 별세금 문제가 컸다\n"
     ]
    },
    {
     "name": "stderr",
     "output_type": "stream",
     "text": [
      "184it [06:12,  2.03s/it]Setting `pad_token_id` to `eos_token_id`:None for open-end generation.\n"
     ]
    },
    {
     "name": "stdout",
     "output_type": "stream",
     "text": [
      "origin :  로배구K저축0z 코 김5이강주TF준 확정\n",
      "cleaned :  로베이스 K저축 0% 코 김 5이 강주 TF 확정\n"
     ]
    },
    {
     "name": "stderr",
     "output_type": "stream",
     "text": [
      "185it [06:14,  2.03s/it]Setting `pad_token_id` to `eos_token_id`:None for open-end generation.\n"
     ]
    },
    {
     "name": "stdout",
     "output_type": "stream",
     "text": [
      "origin :  필라델1아X린 꺾고 11연승I명y두 S수 득종\n",
      "cleaned :  필라델피아 세븐티식스가 뉴욕 닉스를 꺾고 11연승을 달성했습니다.\n"
     ]
    },
    {
     "name": "stderr",
     "output_type": "stream",
     "text": [
      "186it [06:16,  2.02s/it]Setting `pad_token_id` to `eos_token_id`:None for open-end generation.\n"
     ]
    },
    {
     "name": "stdout",
     "output_type": "stream",
     "text": [
      "origin :  v준우 인 성적 필요 어5위 F만 g각한다\n",
      "cleaned :  FIFA 월드컵 준결승 진출을 위한 5위 자리 유지해야 한다\n"
     ]
    },
    {
     "name": "stderr",
     "output_type": "stream",
     "text": [
      "187it [06:18,  2.03s/it]Setting `pad_token_id` to `eos_token_id`:None for open-end generation.\n"
     ]
    },
    {
     "name": "stdout",
     "output_type": "stream",
     "text": [
      "origin :  수호신 리베라 사상 R 4장일o로 MUB 명예의 q_ 입성\n",
      "cleaned :  수호신 리베라 사상 4주년 기념 MUB 명예의 전당 입성\n"
     ]
    },
    {
     "name": "stderr",
     "output_type": "stream",
     "text": [
      "188it [06:20,  2.04s/it]Setting `pad_token_id` to `eos_token_id`:None for open-end generation.\n"
     ]
    },
    {
     "name": "stdout",
     "output_type": "stream",
     "text": [
      "origin :  아로z맨시티 Z 677골28년 TL 구단 최_이\n",
      "cleaned :  아로맨시티 67골, 28년간의 TL 구단 최_이\n"
     ]
    },
    {
     "name": "stderr",
     "output_type": "stream",
     "text": [
      "189it [06:22,  2.05s/it]Setting `pad_token_id` to `eos_token_id`:None for open-end generation.\n"
     ]
    },
    {
     "name": "stdout",
     "output_type": "stream",
     "text": [
      "origin :  월드컵 r안하는 말반한G손흥 울지c않으려고H\n",
      "cleaned :  제목없음\n"
     ]
    },
    {
     "name": "stderr",
     "output_type": "stream",
     "text": [
      "190it [06:24,  2.05s/it]Setting `pad_token_id` to `eos_token_id`:None for open-end generation.\n"
     ]
    },
    {
     "name": "stdout",
     "output_type": "stream",
     "text": [
      "origin :  손흥민p스카이스포 t정 GO7 00중 H7위아d아 유일\n",
      "cleaned :  손흥민, 스포트라이트 받은 GO7, 00점 중 H7위로 올라서 아시아 유일\n"
     ]
    },
    {
     "name": "stderr",
     "output_type": "stream",
     "text": [
      "191it [06:26,  2.04s/it]Setting `pad_token_id` to `eos_token_id`:None for open-end generation.\n"
     ]
    },
    {
     "name": "stdout",
     "output_type": "stream",
     "text": [
      "origin :  명의z스H덴 캡틴 랑크9스트 H어8 산E\n",
      "cleaned :  명의 선장, 랭커스터가 산에\n"
     ]
    },
    {
     "name": "stderr",
     "output_type": "stream",
     "text": [
      "192it [06:28,  2.04s/it]Setting `pad_token_id` to `eos_token_id`:None for open-end generation.\n"
     ]
    },
    {
     "name": "stdout",
     "output_type": "stream",
     "text": [
      "origin :  박C김재F홈런 폭발두 한m 142s대k\n",
      "cleaned :  박찬호와 김재필, 홈런 폭발하며 1점차 승리를 거둔다\n"
     ]
    },
    {
     "name": "stderr",
     "output_type": "stream",
     "text": [
      "193it [06:30,  2.03s/it]Setting `pad_token_id` to `eos_token_id`:None for open-end generation.\n"
     ]
    },
    {
     "name": "stdout",
     "output_type": "stream",
     "text": [
      "origin :  s이중 완벽투 FC 시즌 5승롯데 y연패\n",
      "cleaned :  이중 완벽투 FC, 시즌 5승 롯데에 연패\n"
     ]
    },
    {
     "name": "stderr",
     "output_type": "stream",
     "text": [
      "194it [06:32,  2.03s/it]Setting `pad_token_id` to `eos_token_id`:None for open-end generation.\n"
     ]
    },
    {
     "name": "stdout",
     "output_type": "stream",
     "text": [
      "origin :  4년8 L 아가메즈 국G이 그eml\n",
      "cleaned :  4년8개월 아가메즈 국장, 그랜드 메세지 발표\n"
     ]
    },
    {
     "name": "stderr",
     "output_type": "stream",
     "text": [
      "195it [06:34,  2.03s/it]Setting `pad_token_id` to `eos_token_id`:None for open-end generation.\n"
     ]
    },
    {
     "name": "stdout",
     "output_type": "stream",
     "text": [
      "origin :  라이C 압_한 두산연6 12m 7투 에 LG I연f\n",
      "cleaned :  두산연료전지, LG에너지솔루션에 12억 원 투자\n"
     ]
    },
    {
     "name": "stderr",
     "output_type": "stream",
     "text": [
      "196it [06:36,  2.02s/it]Setting `pad_token_id` to `eos_token_id`:None for open-end generation.\n"
     ]
    },
    {
     "name": "stdout",
     "output_type": "stream",
     "text": [
      "origin :  셔저 7이닝 무실F 11에 E루y류jq과 사이c9경쟁\n",
      "cleaned :  셔저 7이닝 무실점, 11점으로 E-Luyi와 사이클링 경쟁\n"
     ]
    },
    {
     "name": "stderr",
     "output_type": "stream",
     "text": [
      "197it [06:38,  2.03s/it]Setting `pad_token_id` to `eos_token_id`:None for open-end generation.\n"
     ]
    },
    {
     "name": "stdout",
     "output_type": "stream",
     "text": [
      "origin :  g소니아더더블우MJ시z nRv 고지 선\n",
      "cleaned :  고려대, 세계 최고의 대학 2위에 선정되다\n"
     ]
    },
    {
     "name": "stderr",
     "output_type": "stream",
     "text": [
      "198it [06:40,  2.03s/it]Setting `pad_token_id` to `eos_token_id`:None for open-end generation.\n"
     ]
    },
    {
     "name": "stdout",
     "output_type": "stream",
     "text": [
      "origin :  류현진 평J책R1위지켜HI강정호cZ7게F멀X출루\n",
      "cleaned :  류현진, 1위 지킨 강정호, 멀티 히팅\n"
     ]
    },
    {
     "name": "stderr",
     "output_type": "stream",
     "text": [
      "199it [06:42,  2.03s/it]Setting `pad_token_id` to `eos_token_id`:None for open-end generation.\n"
     ]
    },
    {
     "name": "stdout",
     "output_type": "stream",
     "text": [
      "origin :  김6우 a 첫J7이닝 무실점10E프 1a승G\n",
      "cleaned :  김우-주말 첫 J7이닝 무실점 1승\n"
     ]
    },
    {
     "name": "stderr",
     "output_type": "stream",
     "text": [
      "200it [06:44,  2.03s/it]Setting `pad_token_id` to `eos_token_id`:None for open-end generation.\n"
     ]
    },
    {
     "name": "stdout",
     "output_type": "stream",
     "text": [
      "origin :  추신c이VUr 야구에 인생a 선수9내 낼 수 어\n",
      "cleaned :  추신수, 야구에 인생이 되는 날이 오겠죠?\n"
     ]
    },
    {
     "name": "stderr",
     "output_type": "stream",
     "text": [
      "201it [06:46,  2.03s/it]Setting `pad_token_id` to `eos_token_id`:None for open-end generation.\n"
     ]
    },
    {
     "name": "stdout",
     "output_type": "stream",
     "text": [
      "origin :  t튼 a점d발프o농구 qB L3Ss6t없는 1C\n",
      "cleaned :  스페인의 농구 대표팀이 러시아와의 경기에서 승리\n"
     ]
    },
    {
     "name": "stderr",
     "output_type": "stream",
     "text": [
      "202it [06:48,  2.03s/it]Setting `pad_token_id` to `eos_token_id`:None for open-end generation.\n"
     ]
    },
    {
     "name": "stdout",
     "output_type": "stream",
     "text": [
      "origin :  L자Mk 삼성생D OK저축은P에 완승연패 탈출\n",
      "cleaned :  L자 모양의 삼성 디지털 OK저축은행에 완승, 연패 탈출\n"
     ]
    },
    {
     "name": "stderr",
     "output_type": "stream",
     "text": [
      "203it [06:50,  2.03s/it]Setting `pad_token_id` to `eos_token_id`:None for open-end generation.\n"
     ]
    },
    {
     "name": "stdout",
     "output_type": "stream",
     "text": [
      "origin :  hk하는u치K oBFr쿄07고별e경기s 침묵합\n",
      "cleaned :  한국 축구 대표팀, 월드컵에서 우승 기념 행사 참석\n"
     ]
    },
    {
     "name": "stderr",
     "output_type": "stream",
     "text": [
      "204it [06:52,  2.02s/it]Setting `pad_token_id` to `eos_token_id`:None for open-end generation.\n"
     ]
    },
    {
     "name": "stdout",
     "output_type": "stream",
     "text": [
      "origin :  w리그L대U공국전X대역극2R기9 _Z\n",
      "cleaned :  여자프로배구 여자부 한국전력 대 한국도로공사 경기 2차전 9회차\n"
     ]
    },
    {
     "name": "stderr",
     "output_type": "stream",
     "text": [
      "205it [06:54,  2.02s/it]Setting `pad_token_id` to `eos_token_id`:None for open-end generation.\n"
     ]
    },
    {
     "name": "stdout",
     "output_type": "stream",
     "text": [
      "origin :  FIFAIC2 러시아 평U 가 불g 결정 월드\n",
      "cleaned :  제목없음\n"
     ]
    },
    {
     "name": "stderr",
     "output_type": "stream",
     "text": [
      "206it [06:56,  2.02s/it]Setting `pad_token_id` to `eos_token_id`:None for open-end generation.\n"
     ]
    },
    {
     "name": "stdout",
     "output_type": "stream",
     "text": [
      "origin :  4운찬P총Z KB 조v정비수l 성1통합마a팅\n",
      "cleaned :  KB 조정비 수 성통합 마케팅\n"
     ]
    },
    {
     "name": "stderr",
     "output_type": "stream",
     "text": [
      "207it [06:58,  2.02s/it]Setting `pad_token_id` to `eos_token_id`:None for open-end generation.\n"
     ]
    },
    {
     "name": "stdout",
     "output_type": "stream",
     "text": [
      "origin :  전 앞둔eW재 감98T이 부K되지만 4로 승부수\n",
      "cleaned :  전자랜드, 전기차 시장 진출을 앞두고 4가지 전략으로 승부수를 던지다\n"
     ]
    },
    {
     "name": "stderr",
     "output_type": "stream",
     "text": [
      "208it [07:00,  2.02s/it]Setting `pad_token_id` to `eos_token_id`:None for open-end generation.\n"
     ]
    },
    {
     "name": "stdout",
     "output_type": "stream",
     "text": [
      "origin :  쿠Xi코스w뎀s레NR하는R축D스타들R나이적시켜3\n",
      "cleaned :  축구 스타들, 나이 적시해\n"
     ]
    },
    {
     "name": "stderr",
     "output_type": "stream",
     "text": [
      "209it [07:02,  2.02s/it]Setting `pad_token_id` to `eos_token_id`:None for open-end generation.\n"
     ]
    },
    {
     "name": "stdout",
     "output_type": "stream",
     "text": [
      "origin :  3P영웅m박항서x 금Iz향Oe명xXK에 카레e드\n",
      "cleaned :  3P영웅 박항서, 금일 향오명에 카레드\n"
     ]
    },
    {
     "name": "stderr",
     "output_type": "stream",
     "text": [
      "210it [07:04,  2.02s/it]Setting `pad_token_id` to `eos_token_id`:None for open-end generation.\n"
     ]
    },
    {
     "name": "stdout",
     "output_type": "stream",
     "text": [
      "origin :  12월ko 손흥H u시즌보D T른jEu 가속도\n",
      "cleaned :  12월 손흥민, 유럽 리그 다른 선수들보다 가속도가 빨라\n"
     ]
    },
    {
     "name": "stderr",
     "output_type": "stream",
     "text": [
      "211it [07:06,  2.02s/it]Setting `pad_token_id` to `eos_token_id`:None for open-end generation.\n"
     ]
    },
    {
     "name": "stdout",
     "output_type": "stream",
     "text": [
      "origin :  삼성重도 올해 첫 수주LNG선 2척 4천199억원 규모종합\n",
      "cleaned :  삼성중공업, 올해 첫 수주 LNG선 2척 4천199억원 규모 종합 계약\n"
     ]
    },
    {
     "name": "stderr",
     "output_type": "stream",
     "text": [
      "212it [07:08,  2.02s/it]Setting `pad_token_id` to `eos_token_id`:None for open-end generation.\n"
     ]
    },
    {
     "name": "stdout",
     "output_type": "stream",
     "text": [
      "origin :  Z현진의 다7Y무R빠른 템포팀 성적까지 영C\n",
      "cleaned :  현진이 다이브 빠른 템포팀 성적까지 영예를 얻다\n"
     ]
    },
    {
     "name": "stderr",
     "output_type": "stream",
     "text": [
      "213it [07:10,  2.02s/it]Setting `pad_token_id` to `eos_token_id`:None for open-end generation.\n"
     ]
    },
    {
     "name": "stdout",
     "output_type": "stream",
     "text": [
      "origin :  고려vq 5째 결승 격돌la일3대o농구 챔피Tw\n",
      "cleaned :  고려대 5학년 결승전, 3대 3 농구 챔피언 결정전\n"
     ]
    },
    {
     "name": "stderr",
     "output_type": "stream",
     "text": [
      "214it [07:12,  2.02s/it]\n"
     ]
    },
    {
     "name": "stdout",
     "output_type": "stream",
     "text": [
      "origin :  높XE율BO Q선수 몸값 상승 CAO\n",
      "cleaned :  높은 평가를 받는 Q선수의 몸값 상승, CAO\n"
     ]
    },
    {
     "name": "stderr",
     "output_type": "stream",
     "text": [
      "0it [00:00, ?it/s]Setting `pad_token_id` to `eos_token_id`:None for open-end generation.\n",
      "1it [00:02,  2.07s/it]Setting `pad_token_id` to `eos_token_id`:None for open-end generation.\n"
     ]
    },
    {
     "name": "stdout",
     "output_type": "stream",
     "text": [
      "origin :  m 김정 자주통일 새r열1나가야1보\n",
      "cleaned :  김정은, 자주통일 새해 메시지 발표\n"
     ]
    },
    {
     "name": "stderr",
     "output_type": "stream",
     "text": [
      "2it [00:04,  2.05s/it]Setting `pad_token_id` to `eos_token_id`:None for open-end generation.\n"
     ]
    },
    {
     "name": "stdout",
     "output_type": "stream",
     "text": [
      "origin :  문인 당2 4nS 민관2동7사위 X보 철거tt\n",
      "cleaned :  문인 당2, 4동 민관2동 7사위 철거\n"
     ]
    },
    {
     "name": "stderr",
     "output_type": "stream",
     "text": [
      "3it [00:06,  2.05s/it]Setting `pad_token_id` to `eos_token_id`:None for open-end generation.\n"
     ]
    },
    {
     "name": "stdout",
     "output_type": "stream",
     "text": [
      "origin :  WE F일 연k상t의장 G견u창조경제 논의\n",
      "cleaned :  WEF 일련의 이벤트에서 창조경제 논의\n"
     ]
    },
    {
     "name": "stderr",
     "output_type": "stream",
     "text": [
      "4it [00:08,  2.05s/it]Setting `pad_token_id` to `eos_token_id`:None for open-end generation.\n"
     ]
    },
    {
     "name": "stdout",
     "output_type": "stream",
     "text": [
      "origin :  김종ll리먼 라더스 사태처럼 6Mq 충격지속KIN을 것\n",
      "cleaned :  김종길 리먼 사태처럼 충격적 인 6Mq 지속\n"
     ]
    },
    {
     "name": "stderr",
     "output_type": "stream",
     "text": [
      "5it [00:10,  2.06s/it]Setting `pad_token_id` to `eos_token_id`:None for open-end generation.\n"
     ]
    },
    {
     "name": "stdout",
     "output_type": "stream",
     "text": [
      "origin :  문대통령 김정m트프7 YTD 조속히H끝내고 A다고p2합\n",
      "cleaned :  문대통령, 김정은과 북미정상회담 조속히 개최하자고 제안한다\n"
     ]
    },
    {
     "name": "stderr",
     "output_type": "stream",
     "text": [
      "6it [00:12,  2.05s/it]Setting `pad_token_id` to `eos_token_id`:None for open-end generation.\n"
     ]
    },
    {
     "name": "stdout",
     "output_type": "stream",
     "text": [
      "origin :  3부 리수cWMT北d국제사회임M일원V는데 기4JR9\n",
      "cleaned :  3부: 리수 국제사회 임명식에서 기념행사 진행\n"
     ]
    },
    {
     "name": "stderr",
     "output_type": "stream",
     "text": [
      "7it [00:14,  2.05s/it]Setting `pad_token_id` to `eos_token_id`:None for open-end generation.\n"
     ]
    },
    {
     "name": "stdout",
     "output_type": "stream",
     "text": [
      "origin :  T선 D1v 울B경i활성화고용안S 소7합\n",
      "cleaned :  T선 D1v 울산 경상권 활성화 고용안 소7합\n"
     ]
    },
    {
     "name": "stderr",
     "output_type": "stream",
     "text": [
      "8it [00:16,  2.04s/it]Setting `pad_token_id` to `eos_token_id`:None for open-end generation.\n"
     ]
    },
    {
     "name": "stdout",
     "output_type": "stream",
     "text": [
      "origin :  與비박계 내일단당개혁보수신당E당추진위 M동\n",
      "cleaned :  與 비박계 내일 단당 개혁 보수 신당 E당 추진 위\n"
     ]
    },
    {
     "name": "stderr",
     "output_type": "stream",
     "text": [
      "9it [00:18,  2.04s/it]Setting `pad_token_id` to `eos_token_id`:None for open-end generation.\n"
     ]
    },
    {
     "name": "stdout",
     "output_type": "stream",
     "text": [
      "origin :  朴t령 北Ph각한 균s조짐i동요f가LUHj종합\n",
      "cleaned :  박정희령 북한 무력 침공 가능성 심상치 않아\n"
     ]
    },
    {
     "name": "stderr",
     "output_type": "stream",
     "text": [
      "10it [00:20,  2.04s/it]Setting `pad_token_id` to `eos_token_id`:None for open-end generation.\n"
     ]
    },
    {
     "name": "stdout",
     "output_type": "stream",
     "text": [
      "origin :  _대통령시도Py일e리g언지이 고용R 주역종합\n",
      "cleaned :  대통령 시도, 경제 정책 중심의 고용 정책 종합\n"
     ]
    },
    {
     "name": "stderr",
     "output_type": "stream",
     "text": [
      "11it [00:22,  2.03s/it]Setting `pad_token_id` to `eos_token_id`:None for open-end generation.\n"
     ]
    },
    {
     "name": "stdout",
     "output_type": "stream",
     "text": [
      "origin :  친박 원내L표Oi보유Z G단B화J홍문8도T종합\n",
      "cleaned :  친박 원내대표, 보유 G단 B화 홍문 8도 종합\n"
     ]
    },
    {
     "name": "stderr",
     "output_type": "stream",
     "text": [
      "12it [00:24,  2.03s/it]Setting `pad_token_id` to `eos_token_id`:None for open-end generation.\n"
     ]
    },
    {
     "name": "stdout",
     "output_type": "stream",
     "text": [
      "origin :  분당Xk gIdiX31 야ekK대t대립\n",
      "cleaned :  분당 야학 대립\n"
     ]
    },
    {
     "name": "stderr",
     "output_type": "stream",
     "text": [
      "13it [00:26,  2.03s/it]Setting `pad_token_id` to `eos_token_id`:None for open-end generation.\n"
     ]
    },
    {
     "name": "stdout",
     "output_type": "stream",
     "text": [
      "origin :  김정은 향gIx x산시 za\n",
      "cleaned :  김정은 향한 시\n"
     ]
    },
    {
     "name": "stderr",
     "output_type": "stream",
     "text": [
      "14it [00:28,  2.04s/it]Setting `pad_token_id` to `eos_token_id`:None for open-end generation.\n"
     ]
    },
    {
     "name": "stdout",
     "output_type": "stream",
     "text": [
      "origin :  최고V원중9의원FU에Ux하는6A교안\n",
      "cleaned :  제목없음\n"
     ]
    },
    {
     "name": "stderr",
     "output_type": "stream",
     "text": [
      "15it [00:30,  2.05s/it]Setting `pad_token_id` to `eos_token_id`:None for open-end generation.\n"
     ]
    },
    {
     "name": "stdout",
     "output_type": "stream",
     "text": [
      "origin :  현대차 현대차증권 MMT 300억원 매수\n",
      "cleaned :  제목없음\n"
     ]
    },
    {
     "name": "stderr",
     "output_type": "stream",
     "text": [
      "16it [00:32,  2.04s/it]Setting `pad_token_id` to `eos_token_id`:None for open-end generation.\n"
     ]
    },
    {
     "name": "stdout",
     "output_type": "stream",
     "text": [
      "origin :  與m몽니Nw두Uc 선P mfk트By동참 P당 압\n",
      "cleaned :  與野党 두 정치가 선정, 민간단체 동참\n"
     ]
    },
    {
     "name": "stderr",
     "output_type": "stream",
     "text": [
      "17it [00:34,  2.04s/it]Setting `pad_token_id` to `eos_token_id`:None for open-end generation.\n"
     ]
    },
    {
     "name": "stdout",
     "output_type": "stream",
     "text": [
      "origin :  후랭코프 5승 두산 20승 선착SKLG 맹추격\n",
      "cleaned :  후반기 5승 두산 20승 선두 SK 와이번스 맹추격\n"
     ]
    },
    {
     "name": "stderr",
     "output_type": "stream",
     "text": [
      "18it [00:36,  2.04s/it]Setting `pad_token_id` to `eos_token_id`:None for open-end generation.\n"
     ]
    },
    {
     "name": "stdout",
     "output_type": "stream",
     "text": [
      "origin :  문ap령UK임유y 헌k1tBP 7k판들과 께\n",
      "cleaned :  문재인 대통령 영국 유럽연합 헌법 7개 기둥 발표\n"
     ]
    },
    {
     "name": "stderr",
     "output_type": "stream",
     "text": [
      "19it [00:38,  2.04s/it]Setting `pad_token_id` to `eos_token_id`:None for open-end generation.\n"
     ]
    },
    {
     "name": "stdout",
     "output_type": "stream",
     "text": [
      "origin :  與a7위혁신k 출75M박 r발 작용한I\n",
      "cleaned :  與당 7위 혁신 출75억 원으로 발전한 I씨\n"
     ]
    },
    {
     "name": "stderr",
     "output_type": "stream",
     "text": [
      "20it [00:40,  2.04s/it]Setting `pad_token_id` to `eos_token_id`:None for open-end generation.\n"
     ]
    },
    {
     "name": "stdout",
     "output_type": "stream",
     "text": [
      "origin :  w대통령 호WJ거소방문호 주석 본F으k 부패 없어CN것\n",
      "cleaned :  대통령 호주 WJ 거소방문 호주 주석 본부 부패 없는 것\n"
     ]
    },
    {
     "name": "stderr",
     "output_type": "stream",
     "text": [
      "21it [00:42,  2.05s/it]Setting `pad_token_id` to `eos_token_id`:None for open-end generation.\n"
     ]
    },
    {
     "name": "stdout",
     "output_type": "stream",
     "text": [
      "origin :  송섭 W회F 전국구 원만qB선\n",
      "cleaned :  송섭 W회F 전국구 원만 B선\n"
     ]
    },
    {
     "name": "stderr",
     "output_type": "stream",
     "text": [
      "22it [00:44,  2.04s/it]Setting `pad_token_id` to `eos_token_id`:None for open-end generation.\n"
     ]
    },
    {
     "name": "stdout",
     "output_type": "stream",
     "text": [
      "origin :  3일R연 의원들과9r는 S연 g\n",
      "cleaned :  3일간의 R연 의원들과 9명의 S연 고문과의 회의\n"
     ]
    },
    {
     "name": "stderr",
     "output_type": "stream",
     "text": [
      "23it [00:46,  2.04s/it]Setting `pad_token_id` to `eos_token_id`:None for open-end generation.\n"
     ]
    },
    {
     "name": "stdout",
     "output_type": "stream",
     "text": [
      "origin :  w김정3평양 제2 l래과학자거리 K설 지시\n",
      "cleaned :  김정은, 제2 과학자거리 건설 지시\n"
     ]
    },
    {
     "name": "stderr",
     "output_type": "stream",
     "text": [
      "24it [00:49,  2.04s/it]Setting `pad_token_id` to `eos_token_id`:None for open-end generation.\n"
     ]
    },
    {
     "name": "stdout",
     "output_type": "stream",
     "text": [
      "origin :  h신당 호친노 지역구에l특별천전면전 선포\n",
      "cleaned :  호친노 지역구에 특별천전면 전 선포\n"
     ]
    },
    {
     "name": "stderr",
     "output_type": "stream",
     "text": [
      "25it [00:51,  2.04s/it]Setting `pad_token_id` to `eos_token_id`:None for open-end generation.\n"
     ]
    },
    {
     "name": "stdout",
     "output_type": "stream",
     "text": [
      "origin :  중A 5_RF국회GQ들v6핵 규탄 공7b명서 채\n",
      "cleaned :  중국 5개국 RF 국회 GQ들, 6개 핵 규탄 공7개명서 채\n"
     ]
    },
    {
     "name": "stderr",
     "output_type": "stream",
     "text": [
      "26it [00:53,  2.04s/it]Setting `pad_token_id` to `eos_token_id`:None for open-end generation.\n"
     ]
    },
    {
     "name": "stdout",
     "output_type": "stream",
     "text": [
      "origin :  靑 어6결정하든 yzYHE해서 T정 사안은수용\n",
      "cleaned :  청 어제 결정을 하든, YH 사안은 수용\n"
     ]
    },
    {
     "name": "stderr",
     "output_type": "stream",
     "text": [
      "27it [00:55,  2.04s/it]Setting `pad_token_id` to `eos_token_id`:None for open-end generation.\n"
     ]
    },
    {
     "name": "stdout",
     "output_type": "stream",
     "text": [
      "origin :  손6 희_ q방J 남북화 제U 자P잡I종합\n",
      "cleaned :  북한, 남북 화해를 위한 6차 정상회담 제안\n"
     ]
    },
    {
     "name": "stderr",
     "output_type": "stream",
     "text": [
      "28it [00:57,  2.05s/it]Setting `pad_token_id` to `eos_token_id`:None for open-end generation.\n"
     ]
    },
    {
     "name": "stdout",
     "output_type": "stream",
     "text": [
      "origin :  X극VM에 문대통\n",
      "cleaned :  문 대통령, X극에서 VM에\n"
     ]
    },
    {
     "name": "stderr",
     "output_type": "stream",
     "text": [
      "29it [00:59,  2.04s/it]Setting `pad_token_id` to `eos_token_id`:None for open-end generation.\n"
     ]
    },
    {
     "name": "stdout",
     "output_type": "stream",
     "text": [
      "origin :  총선 5개월앞인데 선구 4정 안갯정x인 발C 동\n",
      "cleaned :  총선 5개월 앞인데 선구 4정 안갯정인 발C 동\n"
     ]
    },
    {
     "name": "stderr",
     "output_type": "stream",
     "text": [
      "30it [01:01,  2.04s/it]Setting `pad_token_id` to `eos_token_id`:None for open-end generation.\n"
     ]
    },
    {
     "name": "stdout",
     "output_type": "stream",
     "text": [
      "origin :  박HX 국l전환위해 내각FFkj 어렵다\n",
      "cleaned :  박희창 국토교통부 장관, 국토교통부 장관으로의 전환에 내각의 승인이 필요하다\n"
     ]
    },
    {
     "name": "stderr",
     "output_type": "stream",
     "text": [
      "31it [01:03,  2.03s/it]Setting `pad_token_id` to `eos_token_id`:None for open-end generation.\n"
     ]
    },
    {
     "name": "stdout",
     "output_type": "stream",
     "text": [
      "origin :  트I 日베B동b N하면무기Lz무역적자 불n종32\n",
      "cleaned :  일본의 B동 부문 무역적자 불황 지속\n"
     ]
    },
    {
     "name": "stderr",
     "output_type": "stream",
     "text": [
      "32it [01:05,  2.03s/it]Setting `pad_token_id` to `eos_token_id`:None for open-end generation.\n"
     ]
    },
    {
     "name": "stdout",
     "output_type": "stream",
     "text": [
      "origin :  국n의원 당y0 V성8분배u선8D지확대로 경 9리기zn다\n",
      "cleaned :  국회의원 당선 확대 지지도로 경쟁력 높인다\n"
     ]
    },
    {
     "name": "stderr",
     "output_type": "stream",
     "text": [
      "33it [01:07,  2.03s/it]Setting `pad_token_id` to `eos_token_id`:None for open-end generation.\n"
     ]
    },
    {
     "name": "stdout",
     "output_type": "stream",
     "text": [
      "origin :  일부터T청P회p전쟁여소c국 eW패 l\n",
      "cleaned :  일제강점기 청년들이 전쟁을 준비하다\n"
     ]
    },
    {
     "name": "stderr",
     "output_type": "stream",
     "text": [
      "34it [01:09,  2.03s/it]Setting `pad_token_id` to `eos_token_id`:None for open-end generation.\n"
     ]
    },
    {
     "name": "stdout",
     "output_type": "stream",
     "text": [
      "origin :  국회사무o 美_추츠大7욕시립대f즈칼리지와 MOU\n",
      "cleaned :  국회사무처, 미국 추츠 대학교와 MOU 체결\n"
     ]
    },
    {
     "name": "stderr",
     "output_type": "stream",
     "text": [
      "35it [01:11,  2.03s/it]Setting `pad_token_id` to `eos_token_id`:None for open-end generation.\n"
     ]
    },
    {
     "name": "stdout",
     "output_type": "stream",
     "text": [
      "origin :  靑 lH초 대북q사 파H 발표Z서훈 m정W 유력종합\n",
      "cleaned :  청와대 대북 특사 파견 발표, 서훈 국정원장 유력 후보\n"
     ]
    },
    {
     "name": "stderr",
     "output_type": "stream",
     "text": [
      "36it [01:13,  2.03s/it]Setting `pad_token_id` to `eos_token_id`:None for open-end generation.\n"
     ]
    },
    {
     "name": "stdout",
     "output_type": "stream",
     "text": [
      "origin :  朴대qr z오 BC을 길은fz 제pI北경고中압박종합\n",
      "cleaned :  박대통령의 방북길은 北의 경고에 압박종합\n"
     ]
    },
    {
     "name": "stderr",
     "output_type": "stream",
     "text": [
      "37it [01:15,  2.03s/it]Setting `pad_token_id` to `eos_token_id`:None for open-end generation.\n"
     ]
    },
    {
     "name": "stdout",
     "output_type": "stream",
     "text": [
      "origin :  Eg한미훈련T Yq X할 것 5협국방I성종합\n",
      "cleaned :  한미훈련 5개국 방위성 종합회의\n"
     ]
    },
    {
     "name": "stderr",
     "output_type": "stream",
     "text": [
      "38it [01:17,  2.03s/it]Setting `pad_token_id` to `eos_token_id`:None for open-end generation.\n"
     ]
    },
    {
     "name": "stdout",
     "output_type": "stream",
     "text": [
      "origin :  홍남p vc차관H나F술g안y관리 i검\n",
      "cleaned :  홍남기 경제부총리, 차관회의 나서 경제안정 관리 검토\n"
     ]
    },
    {
     "name": "stderr",
     "output_type": "stream",
     "text": [
      "39it [01:19,  2.03s/it]Setting `pad_token_id` to `eos_token_id`:None for open-end generation.\n"
     ]
    },
    {
     "name": "stdout",
     "output_type": "stream",
     "text": [
      "origin :  O양정상회담문q_l v8원에 모감주무yMq말은 번\n",
      "cleaned :  오늘 양정상회담에서 8원에 모감주를 무예로 말한다\n"
     ]
    },
    {
     "name": "stderr",
     "output_type": "stream",
     "text": [
      "40it [01:21,  2.03s/it]Setting `pad_token_id` to `eos_token_id`:None for open-end generation.\n"
     ]
    },
    {
     "name": "stdout",
     "output_type": "stream",
     "text": [
      "origin :  e국NC민당 당내성추r부터AZ출aK하라\n",
      "cleaned :  NC민당 당내 성추문, AZ 출마하라\n"
     ]
    },
    {
     "name": "stderr",
     "output_type": "stream",
     "text": [
      "41it [01:23,  2.02s/it]Setting `pad_token_id` to `eos_token_id`:None for open-end generation.\n"
     ]
    },
    {
     "name": "stdout",
     "output_type": "stream",
     "text": [
      "origin :  김부ZJ권A전 여E 이달안결정단xKX앞A 얘z\n",
      "cleaned :  김부선 전 여가부 장관, 이달 안에 결정될 듯\n"
     ]
    },
    {
     "name": "stderr",
     "output_type": "stream",
     "text": [
      "42it [01:25,  2.02s/it]Setting `pad_token_id` to `eos_token_id`:None for open-end generation.\n"
     ]
    },
    {
     "name": "stdout",
     "output_type": "stream",
     "text": [
      "origin :  m기에 경례하5 이mt홍영c\n",
      "cleaned :  미국에 경례하는 이민자들\n"
     ]
    },
    {
     "name": "stderr",
     "output_type": "stream",
     "text": [
      "43it [01:27,  2.03s/it]Setting `pad_token_id` to `eos_token_id`:None for open-end generation.\n"
     ]
    },
    {
     "name": "stdout",
     "output_type": "stream",
     "text": [
      "origin :  S렘린궁 김정은 J원2UhGF하반기 러시아M방문H합2A\n",
      "cleaned :  세르비아 대통령, 김정은 위원장과 하반기 러시아 방문 합의\n"
     ]
    },
    {
     "name": "stderr",
     "output_type": "stream",
     "text": [
      "44it [01:29,  2.04s/it]Setting `pad_token_id` to `eos_token_id`:None for open-end generation.\n"
     ]
    },
    {
     "name": "stdout",
     "output_type": "stream",
     "text": [
      "origin :  김관n 與 연동형L거 말 바Ul통m이 나Z야\n",
      "cleaned :  김관평, 연동형 L거 말 바울통이 나야\n"
     ]
    },
    {
     "name": "stderr",
     "output_type": "stream",
     "text": [
      "45it [01:31,  2.04s/it]Setting `pad_token_id` to `eos_token_id`:None for open-end generation.\n"
     ]
    },
    {
     "name": "stdout",
     "output_type": "stream",
     "text": [
      "origin :  朴대통NuV원연_ 입장때 5J 기DO4차례 수\n",
      "cleaned :  박 대통령, 도쿄에서 4차례의 수화를 받았다\n"
     ]
    },
    {
     "name": "stderr",
     "output_type": "stream",
     "text": [
      "46it [01:33,  2.04s/it]Setting `pad_token_id` to `eos_token_id`:None for open-end generation.\n"
     ]
    },
    {
     "name": "stdout",
     "output_type": "stream",
     "text": [
      "origin :  F럽 朴통 sI도 E 상승한42\n",
      "cleaned :  제목없음\n"
     ]
    },
    {
     "name": "stderr",
     "output_type": "stream",
     "text": [
      "47it [01:35,  2.04s/it]Setting `pad_token_id` to `eos_token_id`:None for open-end generation.\n"
     ]
    },
    {
     "name": "stdout",
     "output_type": "stream",
     "text": [
      "origin :  E 국kO장단2T대표방E 평화O길에 큰 w\n",
      "cleaned :  E국회, 국회의원 선거 대표발언 평화길에 큰 발걸음\n"
     ]
    },
    {
     "name": "stderr",
     "output_type": "stream",
     "text": [
      "48it [01:37,  2.04s/it]Setting `pad_token_id` to `eos_token_id`:None for open-end generation.\n"
     ]
    },
    {
     "name": "stdout",
     "output_type": "stream",
     "text": [
      "origin :  국LsiH사개혁V명분V정권 Q맛 맞uZ인적이S안돼\n",
      "cleaned :  국제사회 개혁 목소리 분분 정권\n"
     ]
    },
    {
     "name": "stderr",
     "output_type": "stream",
     "text": [
      "49it [01:39,  2.04s/it]Setting `pad_token_id` to `eos_token_id`:None for open-end generation.\n"
     ]
    },
    {
     "name": "stdout",
     "output_type": "stream",
     "text": [
      "origin :  D헌장e 서명하는 k부겸 장T\n",
      "cleaned :  D 헌장 서명하는 부겸 장관\n"
     ]
    },
    {
     "name": "stderr",
     "output_type": "stream",
     "text": [
      "50it [01:41,  2.04s/it]Setting `pad_token_id` to `eos_token_id`:None for open-end generation.\n"
     ]
    },
    {
     "name": "stdout",
     "output_type": "stream",
     "text": [
      "origin :  M대hH GEM e간ql영D정R담R0m재 완8 논할8듯종합\n",
      "cleaned :  MBC 대담 프로그램 \"8시 종합\" 논란 예고\n"
     ]
    },
    {
     "name": "stderr",
     "output_type": "stream",
     "text": [
      "51it [01:43,  2.04s/it]Setting `pad_token_id` to `eos_token_id`:None for open-end generation.\n"
     ]
    },
    {
     "name": "stdout",
     "output_type": "stream",
     "text": [
      "origin :  용9 與 최고위원 출마난 親민계 당 위해 Kz\n",
      "cleaned :  용9, 최고위원 출마난 친민계 당 위해 Kz\n"
     ]
    },
    {
     "name": "stderr",
     "output_type": "stream",
     "text": [
      "52it [01:45,  2.04s/it]Setting `pad_token_id` to `eos_token_id`:None for open-end generation.\n"
     ]
    },
    {
     "name": "stdout",
     "output_type": "stream",
     "text": [
      "origin :  선제 스트트 s정74독P타도S치 한국x\n",
      "cleaned :  선제 스트라이크, 독소 탈피, 타도 정74, 치유 한국\n"
     ]
    },
    {
     "name": "stderr",
     "output_type": "stream",
     "text": [
      "53it [01:48,  2.04s/it]Setting `pad_token_id` to `eos_token_id`:None for open-end generation.\n"
     ]
    },
    {
     "name": "stdout",
     "output_type": "stream",
     "text": [
      "origin :  유엔6w북dL 블랙리스트 누가3올6O北6직대사 첫X3\n",
      "cleaned :  유엔, 북한 블랙리스트에 직대사 포함\n"
     ]
    },
    {
     "name": "stderr",
     "output_type": "stream",
     "text": [
      "54it [01:50,  2.04s/it]Setting `pad_token_id` to `eos_token_id`:None for open-end generation.\n"
     ]
    },
    {
     "name": "stdout",
     "output_type": "stream",
     "text": [
      "origin :  대령 핵 T가회W8탄핵정 기O 무겁d 용\n",
      "cleaned :  대통령 탄핵 결정, 무거운 책임을 짊어질 것\n"
     ]
    },
    {
     "name": "stderr",
     "output_type": "stream",
     "text": [
      "55it [01:52,  2.04s/it]Setting `pad_token_id` to `eos_token_id`:None for open-end generation.\n"
     ]
    },
    {
     "name": "stdout",
     "output_type": "stream",
     "text": [
      "origin :  북HTek등장8 z정은u17 현지nS N적비\n",
      "cleaned :  북한의 기술 기업 8개가 17번째 현지 네트워크에 합류한다\n"
     ]
    },
    {
     "name": "stderr",
     "output_type": "stream",
     "text": [
      "56it [01:54,  2.04s/it]Setting `pad_token_id` to `eos_token_id`:None for open-end generation.\n"
     ]
    },
    {
     "name": "stdout",
     "output_type": "stream",
     "text": [
      "origin :  북 혈hi이d다Aar j전한 핵VZ올해i화정Y전D\n",
      "cleaned :  북한 핵위협, 올해 전쟁 가능성 높아진다\n"
     ]
    },
    {
     "name": "stderr",
     "output_type": "stream",
     "text": [
      "57it [01:56,  2.04s/it]Setting `pad_token_id` to `eos_token_id`:None for open-end generation.\n"
     ]
    },
    {
     "name": "stdout",
     "output_type": "stream",
     "text": [
      "origin :  대통령 Jk家 의혹 계기로pD벌WBF은닉XTq정준\n",
      "cleaned :  대통령 Jk家 의혹 계기로 Pd벌WBF은닉정준\n"
     ]
    },
    {
     "name": "stderr",
     "output_type": "stream",
     "text": [
      "58it [01:58,  2.04s/it]Setting `pad_token_id` to `eos_token_id`:None for open-end generation.\n"
     ]
    },
    {
     "name": "stdout",
     "output_type": "stream",
     "text": [
      "origin :  x정FAM bHj1면열렬i 환 x치dB quC합\n",
      "cleaned :  x정 FAM 회원들, 합동 찬양회 개최\n"
     ]
    },
    {
     "name": "stderr",
     "output_type": "stream",
     "text": [
      "59it [02:00,  2.04s/it]Setting `pad_token_id` to `eos_token_id`:None for open-end generation.\n"
     ]
    },
    {
     "name": "stdout",
     "output_type": "stream",
     "text": [
      "origin :  Ge령 북한산TN양G니0갈라진t땅으nlp 1U어15\n",
      "cleaned :  북한산 터널 유출: 갈라진 땅, 양쪽으로 침투\n"
     ]
    },
    {
     "name": "stderr",
     "output_type": "stream",
     "text": [
      "60it [02:02,  2.04s/it]Setting `pad_token_id` to `eos_token_id`:None for open-end generation.\n"
     ]
    },
    {
     "name": "stdout",
     "output_type": "stream",
     "text": [
      "origin :  北김정은 당 대회 함경도황북도h선시 대표로 추\n",
      "cleaned :  北, 김정은 당 대회 함경북도 대표로 추대\n"
     ]
    },
    {
     "name": "stderr",
     "output_type": "stream",
     "text": [
      "61it [02:04,  2.03s/it]Setting `pad_token_id` to `eos_token_id`:None for open-end generation.\n"
     ]
    },
    {
     "name": "stdout",
     "output_type": "stream",
     "text": [
      "origin :  NP8 북핵실험 o제 L축6Gt에 한g중대zN5\n",
      "cleaned :  북한, 8차 핵실험 실시… 6G톤급 핵탄두 개발 중\n"
     ]
    },
    {
     "name": "stderr",
     "output_type": "stream",
     "text": [
      "62it [02:06,  2.03s/it]Setting `pad_token_id` to `eos_token_id`:None for open-end generation.\n"
     ]
    },
    {
     "name": "stdout",
     "output_type": "stream",
     "text": [
      "origin :  文대령 與지도부2도W5원장iA만D청 소통 강화종X\n",
      "cleaned :  문대통령과 지도부, 원장과의 소통 강화\n"
     ]
    },
    {
     "name": "stderr",
     "output_type": "stream",
     "text": [
      "63it [02:08,  2.03s/it]Setting `pad_token_id` to `eos_token_id`:None for open-end generation.\n"
     ]
    },
    {
     "name": "stdout",
     "output_type": "stream",
     "text": [
      "origin :  北t퍼스트레이HLV주T9개V에 공 UI\n",
      "cleaned :  북한, 9개 T9 유도탄 발사 성공\n"
     ]
    },
    {
     "name": "stderr",
     "output_type": "stream",
     "text": [
      "64it [02:10,  2.03s/it]Setting `pad_token_id` to `eos_token_id`:None for open-end generation.\n"
     ]
    },
    {
     "name": "stdout",
     "output_type": "stream",
     "text": [
      "origin :  민주g월국0중점법안9난항고심한국당 조Q_반대\n",
      "cleaned :  민주당, g월 국정 중점법안 9호 심사 난항… 한국당 조Q 반대\n"
     ]
    },
    {
     "name": "stderr",
     "output_type": "stream",
     "text": [
      "65it [02:12,  2.04s/it]Setting `pad_token_id` to `eos_token_id`:None for open-end generation.\n"
     ]
    },
    {
     "name": "stdout",
     "output_type": "stream",
     "text": [
      "origin :  박원K누리과정 좀 소통하자는데mY예EW 반응종KTY\n",
      "cleaned :  박원석이 K-누리 과정에 대해 좀 더 소통하자고 했는데, M Y 예원이 반응이 좋지 않다\n"
     ]
    },
    {
     "name": "stderr",
     "output_type": "stream",
     "text": [
      "66it [02:14,  2.05s/it]Setting `pad_token_id` to `eos_token_id`:None for open-end generation.\n"
     ]
    },
    {
     "name": "stdout",
     "output_type": "stream",
     "text": [
      "origin :  朴대통령 조센4lk멍같은x역할해야창업국기대\n",
      "cleaned :  박 대통령이 조센역할해야 창업국기대\n"
     ]
    },
    {
     "name": "stderr",
     "output_type": "stream",
     "text": [
      "67it [02:16,  2.04s/it]Setting `pad_token_id` to `eos_token_id`:None for open-end generation.\n"
     ]
    },
    {
     "name": "stdout",
     "output_type": "stream",
     "text": [
      "origin :  정의당울시당 6D3 hw선거 후보3출정식\n",
      "cleaned :  정의당 울산시당 6D3선거 후보 3명 출정식\n"
     ]
    },
    {
     "name": "stderr",
     "output_type": "stream",
     "text": [
      "68it [02:18,  2.05s/it]Setting `pad_token_id` to `eos_token_id`:None for open-end generation.\n"
     ]
    },
    {
     "name": "stdout",
     "output_type": "stream",
     "text": [
      "origin :  獨정Gzn X 고M외H유 _리 회Z 놓쳐\n",
      "cleaned :  독일의 Gzntech와 고미래 유럽 회의 놓쳤습니다\n"
     ]
    },
    {
     "name": "stderr",
     "output_type": "stream",
     "text": [
      "69it [02:20,  2.04s/it]Setting `pad_token_id` to `eos_token_id`:None for open-end generation.\n"
     ]
    },
    {
     "name": "stdout",
     "output_type": "stream",
     "text": [
      "origin :  지방서 새누당 q 동v 촉구 이어져d일부는 7참 X대\n",
      "cleaned :  지방선거에서 새누리당과 통합진보당의 대결이 이어져 일부 지역에서는 7파전이 벌어질 것으로 예상됩니다.\n"
     ]
    },
    {
     "name": "stderr",
     "output_type": "stream",
     "text": [
      "70it [02:22,  2.05s/it]Setting `pad_token_id` to `eos_token_id`:None for open-end generation.\n"
     ]
    },
    {
     "name": "stdout",
     "output_type": "stream",
     "text": [
      "origin :  문a통령힘을 한9화RN변평WTz스로 c어야종합\n",
      "cleaned :  문 대통령 힘을 한 9화로 변평해야 종합\n"
     ]
    },
    {
     "name": "stderr",
     "output_type": "stream",
     "text": [
      "71it [02:24,  2.05s/it]Setting `pad_token_id` to `eos_token_id`:None for open-end generation.\n"
     ]
    },
    {
     "name": "stdout",
     "output_type": "stream",
     "text": [
      "origin :  고개m인 q야g3cGPu교x단X 연설 2통QW 사과\n",
      "cleaned :  고개인 교단연설 2통 사과\n"
     ]
    },
    {
     "name": "stderr",
     "output_type": "stream",
     "text": [
      "72it [02:26,  2.05s/it]Setting `pad_token_id` to `eos_token_id`:None for open-end generation.\n"
     ]
    },
    {
     "name": "stdout",
     "output_type": "stream",
     "text": [
      "origin :  김동20 nz 아닌uiib거제FS개혁부터 B야\n",
      "cleaned :  김동완, 거제 FSC 개혁부터 B야\n"
     ]
    },
    {
     "name": "stderr",
     "output_type": "stream",
     "text": [
      "73it [02:28,  2.05s/it]Setting `pad_token_id` to `eos_token_id`:None for open-end generation.\n"
     ]
    },
    {
     "name": "stdout",
     "output_type": "stream",
     "text": [
      "origin :  u와K C권G공세b_ 입hP불변식 지키cc\n",
      "cleaned :  U와 K, 공세 강화...입법부 불변식 지키기\n"
     ]
    },
    {
     "name": "stderr",
     "output_type": "stream",
     "text": [
      "74it [02:30,  2.04s/it]Setting `pad_token_id` to `eos_token_id`:None for open-end generation.\n"
     ]
    },
    {
     "name": "stdout",
     "output_type": "stream",
     "text": [
      "origin :  더불W8주 의원n과 사하는 조A\n",
      "cleaned :  더불어민주당 의원들과 사하구청장이 조찬을 함께했습니다.\n"
     ]
    },
    {
     "name": "stderr",
     "output_type": "stream",
     "text": [
      "75it [02:32,  2.04s/it]Setting `pad_token_id` to `eos_token_id`:None for open-end generation.\n"
     ]
    },
    {
     "name": "stdout",
     "output_type": "stream",
     "text": [
      "origin :  정R 측 명y청취데_n트H등재 여부 청문r 결o\n",
      "cleaned :  정권 측 명예청취자 등록 여부 청문회 결론\n"
     ]
    },
    {
     "name": "stderr",
     "output_type": "stream",
     "text": [
      "76it [02:34,  2.03s/it]Setting `pad_token_id` to `eos_token_id`:None for open-end generation.\n"
     ]
    },
    {
     "name": "stdout",
     "output_type": "stream",
     "text": [
      "origin :  남x노X자s일 구대T\n",
      "cleaned :  남자 노인 자살\n"
     ]
    },
    {
     "name": "stderr",
     "output_type": "stream",
     "text": [
      "77it [02:36,  2.03s/it]Setting `pad_token_id` to `eos_token_id`:None for open-end generation.\n"
     ]
    },
    {
     "name": "stdout",
     "output_type": "stream",
     "text": [
      "origin :  2野 우X우 W와라 합창행명령 동 온x\n",
      "cleaned :  2野 우익과 합창행명령에 동의\n"
     ]
    },
    {
     "name": "stderr",
     "output_type": "stream",
     "text": [
      "78it [02:38,  2.03s/it]Setting `pad_token_id` to `eos_token_id`:None for open-end generation.\n"
     ]
    },
    {
     "name": "stdout",
     "output_type": "stream",
     "text": [
      "origin :  영 9W3예안 심의외교안보수석g 업O보고\n",
      "cleaned :  영국의 9월 예산안 심의: 외교안보수석의 업무보고\n"
     ]
    },
    {
     "name": "stderr",
     "output_type": "stream",
     "text": [
      "79it [02:41,  2.04s/it]Setting `pad_token_id` to `eos_token_id`:None for open-end generation.\n"
     ]
    },
    {
     "name": "stdout",
     "output_type": "stream",
     "text": [
      "origin :  e P 방치공세에 南권이 S태반격\n",
      "cleaned :  eP 방치 공세에 남권이 S태반격\n"
     ]
    },
    {
     "name": "stderr",
     "output_type": "stream",
     "text": [
      "80it [02:43,  2.04s/it]Setting `pad_token_id` to `eos_token_id`:None for open-end generation.\n"
     ]
    },
    {
     "name": "stdout",
     "output_type": "stream",
     "text": [
      "origin :  문대통령 용차K관심 져달라N마힌Y라 잘 풀갈것종합\n",
      "cleaned :  문 대통령, 용산 KTX관심 유도달라. 마힌다 잘 풀겠다 종합\n"
     ]
    },
    {
     "name": "stderr",
     "output_type": "stream",
     "text": [
      "81it [02:45,  2.03s/it]Setting `pad_token_id` to `eos_token_id`:None for open-end generation.\n"
     ]
    },
    {
     "name": "stdout",
     "output_type": "stream",
     "text": [
      "origin :  A정부 j 영q3E vb체F5달 확x 안 종합\n",
      "cleaned :  2023년 3월 5일부터 종합 안정화 조치 시행\n"
     ]
    },
    {
     "name": "stderr",
     "output_type": "stream",
     "text": [
      "82it [02:47,  2.03s/it]Setting `pad_token_id` to `eos_token_id`:None for open-end generation.\n"
     ]
    },
    {
     "name": "stdout",
     "output_type": "stream",
     "text": [
      "origin :  U3공동l언so8관6SP하 남z정G\n",
      "cleaned :  U3공동으로 소프트웨어를 설치합니다.\n"
     ]
    },
    {
     "name": "stderr",
     "output_type": "stream",
     "text": [
      "83it [02:49,  2.02s/it]Setting `pad_token_id` to `eos_token_id`:None for open-end generation.\n"
     ]
    },
    {
     "name": "stdout",
     "output_type": "stream",
     "text": [
      "origin :  정부 4월 한반도 위설d근거O다Y되J Q6야d합\n",
      "cleaned :  정부, 4월 한반도 위기 해결을 위한 대응책 발표\n"
     ]
    },
    {
     "name": "stderr",
     "output_type": "stream",
     "text": [
      "84it [02:51,  2.03s/it]Setting `pad_token_id` to `eos_token_id`:None for open-end generation.\n"
     ]
    },
    {
     "name": "stdout",
     "output_type": "stream",
     "text": [
      "origin :  8방부 北핵실험gO능p 예의주시rS든9할 수 V어\n",
      "cleaned :  북한, 8차 핵실험 준비 중 예의주시\n"
     ]
    },
    {
     "name": "stderr",
     "output_type": "stream",
     "text": [
      "85it [02:53,  2.02s/it]Setting `pad_token_id` to `eos_token_id`:None for open-end generation.\n"
     ]
    },
    {
     "name": "stdout",
     "output_type": "stream",
     "text": [
      "origin :  靑 U이버i6관에 이bQ前무Xv부 mJ\n",
      "cleaned :  청와대 이승만 기념관에 이명박 전 대통령 사진 전시\n"
     ]
    },
    {
     "name": "stderr",
     "output_type": "stream",
     "text": [
      "86it [02:55,  2.02s/it]Setting `pad_token_id` to `eos_token_id`:None for open-end generation.\n"
     ]
    },
    {
     "name": "stdout",
     "output_type": "stream",
     "text": [
      "origin :  d숙정상9iU0r해 w5넘QI선 안돼WiS해야\n",
      "cleaned :  숙소 정상 9일부터 해외선 안돼야\n"
     ]
    },
    {
     "name": "stderr",
     "output_type": "stream",
     "text": [
      "87it [02:57,  2.03s/it]Setting `pad_token_id` to `eos_token_id`:None for open-end generation.\n"
     ]
    },
    {
     "name": "stdout",
     "output_type": "stream",
     "text": [
      "origin :  국회 z리자 여f 전당H 모로당i 쟁6전Rp동\n",
      "cleaned :  국회에서 여당과 야당이 전당대회를 위한 쟁점을 논의합니다\n"
     ]
    },
    {
     "name": "stderr",
     "output_type": "stream",
     "text": [
      "88it [02:59,  2.03s/it]Setting `pad_token_id` to `eos_token_id`:None for open-end generation.\n"
     ]
    },
    {
     "name": "stdout",
     "output_type": "stream",
     "text": [
      "origin :  정VP 9O총재도 국감S1온다亞c임 f역특례 질의\n",
      "cleaned :  정의당 9대총재도 국감 첫날 온다\n"
     ]
    },
    {
     "name": "stderr",
     "output_type": "stream",
     "text": [
      "89it [03:01,  2.05s/it]Setting `pad_token_id` to `eos_token_id`:None for open-end generation.\n"
     ]
    },
    {
     "name": "stdout",
     "output_type": "stream",
     "text": [
      "origin :  여야 종인 개헌특l 제안에 갈v 응험로 예\n",
      "cleaned :  여야 종합 개헌특위 제안에 갈등 예상\n"
     ]
    },
    {
     "name": "stderr",
     "output_type": "stream",
     "text": [
      "90it [03:03,  2.04s/it]Setting `pad_token_id` to `eos_token_id`:None for open-end generation.\n"
     ]
    },
    {
     "name": "stdout",
     "output_type": "stream",
     "text": [
      "origin :  nO통령z후 p싱턴으로 R與지p부 re\n",
      "cleaned :  노 대통령의 싱크탱크로 R과 함께 JIP부의 재단장\n"
     ]
    },
    {
     "name": "stderr",
     "output_type": "stream",
     "text": [
      "91it [03:05,  2.15s/it]Setting `pad_token_id` to `eos_token_id`:None for open-end generation.\n"
     ]
    },
    {
     "name": "stdout",
     "output_type": "stream",
     "text": [
      "origin :  북한c조선TV 잠시 특별 중6방송 예고\n",
      "cleaned :  북한 조선중앙TV 특별 방송 예정\n"
     ]
    },
    {
     "name": "stderr",
     "output_type": "stream",
     "text": [
      "92it [03:08,  2.24s/it]Setting `pad_token_id` to `eos_token_id`:None for open-end generation.\n"
     ]
    },
    {
     "name": "stdout",
     "output_type": "stream",
     "text": [
      "origin :  뼈L픈 대북1c北포z추中 행e f구\n",
      "cleaned :  대북 1차 포상금 조항 추진\n"
     ]
    },
    {
     "name": "stderr",
     "output_type": "stream",
     "text": [
      "93it [03:10,  2.36s/it]Setting `pad_token_id` to `eos_token_id`:None for open-end generation.\n"
     ]
    },
    {
     "name": "stdout",
     "output_type": "stream",
     "text": [
      "origin :  d래픽 eG혁안 H 관s 각 3입9\n",
      "cleaned :  대통령직 인수위원회, 경제전략본부 각 3개국 9개 기업과 협력\n"
     ]
    },
    {
     "name": "stderr",
     "output_type": "stream",
     "text": [
      "94it [03:12,  2.27s/it]Setting `pad_token_id` to `eos_token_id`:None for open-end generation.\n"
     ]
    },
    {
     "name": "stdout",
     "output_type": "stream",
     "text": [
      "origin :  적z세력 j뛸수록m공격g능력Wh화B미 위\n",
      "cleaned :  적세력이 공격 능력을 높여 미 위협을 조장한다\n"
     ]
    },
    {
     "name": "stderr",
     "output_type": "stream",
     "text": [
      "95it [03:14,  2.20s/it]Setting `pad_token_id` to `eos_token_id`:None for open-end generation.\n"
     ]
    },
    {
     "name": "stdout",
     "output_type": "stream",
     "text": [
      "origin :  청와대L21일 발의dWi통령오N초안 g받z종z\n",
      "cleaned :  청와대, 21일 대통령 초안 받는다\n"
     ]
    },
    {
     "name": "stderr",
     "output_type": "stream",
     "text": [
      "96it [03:16,  2.14s/it]Setting `pad_token_id` to `eos_token_id`:None for open-end generation.\n"
     ]
    },
    {
     "name": "stdout",
     "output_type": "stream",
     "text": [
      "origin :  김ChKX리당C朴대통6탄핵L 9 장설 y속보\n",
      "cleaned :  김종필 전 리더, 박대통령 탄핵 9장의 속보\n"
     ]
    },
    {
     "name": "stderr",
     "output_type": "stream",
     "text": [
      "97it [03:19,  2.13s/it]Setting `pad_token_id` to `eos_token_id`:None for open-end generation.\n"
     ]
    },
    {
     "name": "stdout",
     "output_type": "stream",
     "text": [
      "origin :  靑 6부터고용여건 0격 회복w 속도P있 책 추진\n",
      "cleaned :  정부, 6월부터 고용 여건 0격 회복 속도 빨라 추진\n"
     ]
    },
    {
     "name": "stderr",
     "output_type": "stream",
     "text": [
      "98it [03:21,  2.10s/it]Setting `pad_token_id` to `eos_token_id`:None for open-end generation.\n"
     ]
    },
    {
     "name": "stdout",
     "output_type": "stream",
     "text": [
      "origin :  與41스트트랙 상b가속국 한 좌석 남아I다\n",
      "cleaned :  與 41 스트리트, 상승세를 이어가는 한국의 좌석은 한 자리 남아있다.\n"
     ]
    },
    {
     "name": "stderr",
     "output_type": "stream",
     "text": [
      "99it [03:23,  2.08s/it]Setting `pad_token_id` to `eos_token_id`:None for open-end generation.\n"
     ]
    },
    {
     "name": "stdout",
     "output_type": "stream",
     "text": [
      "origin :  3R 총pJ경제 3판에 다같c 하H는 메Xr\n",
      "cleaned :  3R 총 3판, 경제 전문가 3명이 다 같이 한다\n"
     ]
    },
    {
     "name": "stderr",
     "output_type": "stream",
     "text": [
      "100it [03:25,  2.06s/it]Setting `pad_token_id` to `eos_token_id`:None for open-end generation.\n"
     ]
    },
    {
     "name": "stdout",
     "output_type": "stream",
     "text": [
      "origin :  北 김h 주체조Z의 Q용UO 더 많이C아올려V\n",
      "cleaned :  북한 김정은, 주체조의 군사훈련 강화\n"
     ]
    },
    {
     "name": "stderr",
     "output_type": "stream",
     "text": [
      "101it [03:27,  2.06s/it]Setting `pad_token_id` to `eos_token_id`:None for open-end generation.\n"
     ]
    },
    {
     "name": "stdout",
     "output_type": "stream",
     "text": [
      "origin :  충북 장마전선 영향내일까지 50100 비\n",
      "cleaned :  충북 장마전선 영향 내일까지 50~100mm 비\n"
     ]
    },
    {
     "name": "stderr",
     "output_type": "stream",
     "text": [
      "102it [03:29,  2.06s/it]Setting `pad_token_id` to `eos_token_id`:None for open-end generation.\n"
     ]
    },
    {
     "name": "stdout",
     "output_type": "stream",
     "text": [
      "origin :  문대통시도지사 靑rR중앙 z리 X치Zmu\n",
      "cleaned :  문대통령 시도지사 청와대 중앙지정자치구\n"
     ]
    },
    {
     "name": "stderr",
     "output_type": "stream",
     "text": [
      "103it [03:31,  2.05s/it]Setting `pad_token_id` to `eos_token_id`:None for open-end generation.\n"
     ]
    },
    {
     "name": "stdout",
     "output_type": "stream",
     "text": [
      "origin :  김성f 야k협A체 Cs이 수용석V특검 대통 4해1\n",
      "cleaned :  김성태 야권 후보 A 체포 수용석 특검 대통 4대 1\n"
     ]
    },
    {
     "name": "stderr",
     "output_type": "stream",
     "text": [
      "104it [03:33,  2.05s/it]Setting `pad_token_id` to `eos_token_id`:None for open-end generation.\n"
     ]
    },
    {
     "name": "stdout",
     "output_type": "stream",
     "text": [
      "origin :  w의당5창당 6AtL생에서 완생으로Q2020 제1야당 표f합\n",
      "cleaned :  2020년 제1야당의 표를 얻기 위해 5개 창당이 합당한다\n"
     ]
    },
    {
     "name": "stderr",
     "output_type": "stream",
     "text": [
      "105it [03:35,  2.21s/it]Setting `pad_token_id` to `eos_token_id`:None for open-end generation.\n"
     ]
    },
    {
     "name": "stdout",
     "output_type": "stream",
     "text": [
      "origin :  민硏 보7 논란j지속野v매국적 정국전략집중포화\n",
      "cleaned :  민간연구소 7개 논란 지속 매국적 정국 전략 집중포화\n"
     ]
    },
    {
     "name": "stderr",
     "output_type": "stream",
     "text": [
      "106it [03:38,  2.18s/it]Setting `pad_token_id` to `eos_token_id`:None for open-end generation.\n"
     ]
    },
    {
     "name": "stdout",
     "output_type": "stream",
     "text": [
      "origin :  朴대통령 긴6속A핵r응 올MY미N 해5X 내놓p까\n",
      "cleaned :  박 대통령, 긴급 A급 핵 관련 정보 발표\n"
     ]
    },
    {
     "name": "stderr",
     "output_type": "stream",
     "text": [
      "107it [03:40,  2.14s/it]Setting `pad_token_id` to `eos_token_id`:None for open-end generation.\n"
     ]
    },
    {
     "name": "stdout",
     "output_type": "stream",
     "text": [
      "origin :  P 전대 오더 주 Ns 바람r하도 Q다\n",
      "cleaned :  NBN 오더 주 P 전대 바람\n"
     ]
    },
    {
     "name": "stderr",
     "output_type": "stream",
     "text": [
      "108it [03:42,  2.11s/it]Setting `pad_token_id` to `eos_token_id`:None for open-end generation.\n"
     ]
    },
    {
     "name": "stdout",
     "output_type": "stream",
     "text": [
      "origin :  평HtmD_Ee공항m송 시민들\n",
      "cleaned :  평창동계올림픽 개최 시민들\n"
     ]
    },
    {
     "name": "stderr",
     "output_type": "stream",
     "text": [
      "109it [03:44,  2.08s/it]Setting `pad_token_id` to `eos_token_id`:None for open-end generation.\n"
     ]
    },
    {
     "name": "stdout",
     "output_type": "stream",
     "text": [
      "origin :  의R훈t조J 미국 GW속y\n",
      "cleaned :  미국 의원들이 한국의 군사훈련에 대해 우려\n"
     ]
    },
    {
     "name": "stderr",
     "output_type": "stream",
     "text": [
      "110it [03:46,  2.07s/it]Setting `pad_token_id` to `eos_token_id`:None for open-end generation.\n"
     ]
    },
    {
     "name": "stdout",
     "output_type": "stream",
     "text": [
      "origin :  부ig정은의 팔2D룡h서u제재명단HI올린\n",
      "cleaned :  부산의 팔2동 행정복지센터는 제재 명단에 올렸다\n"
     ]
    },
    {
     "name": "stderr",
     "output_type": "stream",
     "text": [
      "111it [03:48,  2.06s/it]Setting `pad_token_id` to `eos_token_id`:None for open-end generation.\n"
     ]
    },
    {
     "name": "stdout",
     "output_type": "stream",
     "text": [
      "origin :  더e주 G서 1박일 20대 당X인 워B숍\n",
      "cleaned :  더 주 G서 1박 2일 20대 당X인 워크숍\n"
     ]
    },
    {
     "name": "stderr",
     "output_type": "stream",
     "text": [
      "112it [03:50,  2.05s/it]Setting `pad_token_id` to `eos_token_id`:None for open-end generation.\n"
     ]
    },
    {
     "name": "stdout",
     "output_type": "stream",
     "text": [
      "origin :  민YB통 x무에u태오 예비b중\n",
      "cleaned :  민중의 목소리 통일과 평화 예비 중학교 학생들\n"
     ]
    },
    {
     "name": "stderr",
     "output_type": "stream",
     "text": [
      "113it [03:52,  2.05s/it]Setting `pad_token_id` to `eos_token_id`:None for open-end generation.\n"
     ]
    },
    {
     "name": "stdout",
     "output_type": "stream",
     "text": [
      "origin :  R북간 선양 민접촉 wfT4문 6에K7\n",
      "cleaned :  북한과 중국 간의 첫 민간 접촉\n"
     ]
    },
    {
     "name": "stderr",
     "output_type": "stream",
     "text": [
      "114it [03:54,  2.04s/it]Setting `pad_token_id` to `eos_token_id`:None for open-end generation.\n"
     ]
    },
    {
     "name": "stdout",
     "output_type": "stream",
     "text": [
      "origin :  여_h경제투톱_체 반 평0민주적재J 한국 fU\n",
      "cleaned :  여수 경제투톱 체결, 평화민주적 재건의 한국\n"
     ]
    },
    {
     "name": "stderr",
     "output_type": "stream",
     "text": [
      "115it [03:56,  2.04s/it]Setting `pad_token_id` to `eos_token_id`:None for open-end generation.\n"
     ]
    },
    {
     "name": "stdout",
     "output_type": "stream",
     "text": [
      "origin :  j령 北T sh화 구체q美R 상I조치emAg 필\n",
      "cleaned :  북한, 미사일 발사에 대한 미국의 강력한 조치\n"
     ]
    },
    {
     "name": "stderr",
     "output_type": "stream",
     "text": [
      "116it [03:58,  2.04s/it]Setting `pad_token_id` to `eos_token_id`:None for open-end generation.\n"
     ]
    },
    {
     "name": "stdout",
     "output_type": "stream",
     "text": [
      "origin :  vla wIL국회 역설임XH院 성 병행M합\n",
      "cleaned :  국회, 역설임시회 성에서 병행합의를 이루다\n"
     ]
    },
    {
     "name": "stderr",
     "output_type": "stream",
     "text": [
      "117it [04:00,  2.04s/it]Setting `pad_token_id` to `eos_token_id`:None for open-end generation.\n"
     ]
    },
    {
     "name": "stdout",
     "output_type": "stream",
     "text": [
      "origin :  p1j교W국쓰T졌다v소식듣e 문대통령에8c로 건u\n",
      "cleaned :  정부, 1조원 규모의 한국전력 공채 소식 듣고 문 대통령에 의견 제시\n"
     ]
    },
    {
     "name": "stderr",
     "output_type": "stream",
     "text": [
      "118it [04:02,  2.04s/it]Setting `pad_token_id` to `eos_token_id`:None for open-end generation.\n"
     ]
    },
    {
     "name": "stdout",
     "output_type": "stream",
     "text": [
      "origin :  北M평통ML원집단탈북에 즉 FXt내라Z요구\n",
      "cleaned :  북한 M 평통 ML 원 집단 탈북에 즉시 FXT 내라고 요구\n"
     ]
    },
    {
     "name": "stderr",
     "output_type": "stream",
     "text": [
      "119it [04:04,  2.05s/it]Setting `pad_token_id` to `eos_token_id`:None for open-end generation.\n"
     ]
    },
    {
     "name": "stdout",
     "output_type": "stream",
     "text": [
      "origin :  與 7t 위wh 小D위에 여D 3x x사만 참여해야\n",
      "cleaned :  與 7명 중 3명만 참여해야\n"
     ]
    },
    {
     "name": "stderr",
     "output_type": "stream",
     "text": [
      "120it [04:06,  2.06s/it]Setting `pad_token_id` to `eos_token_id`:None for open-end generation.\n"
     ]
    },
    {
     "name": "stdout",
     "output_type": "stream",
     "text": [
      "origin :  단Z 朴 뇌2 핵심B퍼즐 나왔다i성에 최순실 5원요구\n",
      "cleaned :  단지 朴 대통령, 두 가지 핵심 퍼즐을 풀어야 한다. 이성에 최순실 5원 요구\n"
     ]
    },
    {
     "name": "stderr",
     "output_type": "stream",
     "text": [
      "121it [04:08,  2.04s/it]Setting `pad_token_id` to `eos_token_id`:None for open-end generation.\n"
     ]
    },
    {
     "name": "stdout",
     "output_type": "stream",
     "text": [
      "origin :  민주 민생 여야 cO월국회WGgL설득u박 8O\n",
      "cleaned :  민주 민생 여야 5월 국회 WGBL 설득 박 8\n"
     ]
    },
    {
     "name": "stderr",
     "output_type": "stream",
     "text": [
      "122it [04:10,  2.05s/it]Setting `pad_token_id` to `eos_token_id`:None for open-end generation.\n"
     ]
    },
    {
     "name": "stdout",
     "output_type": "stream",
     "text": [
      "origin :  yy北yf도 가능성 O주시NSC 상2위 개최전망\n",
      "cleaned :  북한, 오늘 NSC 상무회의 개최 전망\n"
     ]
    },
    {
     "name": "stderr",
     "output_type": "stream",
     "text": [
      "123it [04:12,  2.05s/it]Setting `pad_token_id` to `eos_token_id`:None for open-end generation.\n"
     ]
    },
    {
     "name": "stdout",
     "output_type": "stream",
     "text": [
      "origin :  정aM담 만찬 향하Q 남북E상\n",
      "cleaned :  정상회담 만찬 행사 개최\n"
     ]
    },
    {
     "name": "stderr",
     "output_type": "stream",
     "text": [
      "124it [04:14,  2.05s/it]Setting `pad_token_id` to `eos_token_id`:None for open-end generation.\n"
     ]
    },
    {
     "name": "stdout",
     "output_type": "stream",
     "text": [
      "origin :  朴P령hC식8산 T호 통한 창조경제8생D 구w종합\n",
      "cleaned :  박근혜 정부의 창조경제 정책을 위한 8대 정책 방향 발표\n"
     ]
    },
    {
     "name": "stderr",
     "output_type": "stream",
     "text": [
      "125it [04:16,  2.05s/it]Setting `pad_token_id` to `eos_token_id`:None for open-end generation.\n"
     ]
    },
    {
     "name": "stdout",
     "output_type": "stream",
     "text": [
      "origin :  북V K구O표팀F리1오픈 EM위해 남\n",
      "cleaned :  북한과 남한, 김정은-문재인 정상회담을 위한 남측 특별대표단 파견\n"
     ]
    },
    {
     "name": "stderr",
     "output_type": "stream",
     "text": [
      "126it [04:18,  2.05s/it]Setting `pad_token_id` to `eos_token_id`:None for open-end generation.\n"
     ]
    },
    {
     "name": "stdout",
     "output_type": "stream",
     "text": [
      "origin :  h정상5사7포함 A력한 합억xw中역할 중2V합\n",
      "cleaned :  한국 정상 5개국, 7개국 포함 APEC 회담에 한 목소리\n"
     ]
    },
    {
     "name": "stderr",
     "output_type": "stream",
     "text": [
      "127it [04:20,  2.04s/it]Setting `pad_token_id` to `eos_token_id`:None for open-end generation.\n"
     ]
    },
    {
     "name": "stdout",
     "output_type": "stream",
     "text": [
      "origin :  與 _선 rh이 4지작업 기내주 의m평가 준R 6수\n",
      "cleaned :  與 4지작업 기내주 의료평가 준수\n"
     ]
    },
    {
     "name": "stderr",
     "output_type": "stream",
     "text": [
      "128it [04:22,  2.04s/it]Setting `pad_token_id` to `eos_token_id`:None for open-end generation.\n"
     ]
    },
    {
     "name": "stdout",
     "output_type": "stream",
     "text": [
      "origin :  北 r정yi신년tRkj제강PA설Kt력t제 1급종j\n",
      "cleaned :  북한, 신년사에서 핵 제거 강조\n"
     ]
    },
    {
     "name": "stderr",
     "output_type": "stream",
     "text": [
      "129it [04:24,  2.04s/it]Setting `pad_token_id` to `eos_token_id`:None for open-end generation.\n"
     ]
    },
    {
     "name": "stdout",
     "output_type": "stream",
     "text": [
      "origin :  국tb다른S나라도 北핵실험 몰라美I中k 통t해\n",
      "cleaned :  국제사회, 북한의 핵실험에 놀란 중국, 미국이 통한통합론 제시\n"
     ]
    },
    {
     "name": "stderr",
     "output_type": "stream",
     "text": [
      "130it [04:27,  2.04s/it]Setting `pad_token_id` to `eos_token_id`:None for open-end generation.\n"
     ]
    },
    {
     "name": "stdout",
     "output_type": "stream",
     "text": [
      "origin :  국민과의e대0W8통령8최저임g인상FN f축p가9할 길\n",
      "cleaned :  국민과의 대통령 최소임금 인상, 여야 합의 근처에\n"
     ]
    },
    {
     "name": "stderr",
     "output_type": "stream",
     "text": [
      "131it [04:29,  2.04s/it]Setting `pad_token_id` to `eos_token_id`:None for open-end generation.\n"
     ]
    },
    {
     "name": "stdout",
     "output_type": "stream",
     "text": [
      "origin :  인q하는 GH당 _7대단\n",
      "cleaned :  인권을 위한 고양이 보호소 7단계\n"
     ]
    },
    {
     "name": "stderr",
     "output_type": "stream",
     "text": [
      "132it [04:31,  2.04s/it]Setting `pad_token_id` to `eos_token_id`:None for open-end generation.\n"
     ]
    },
    {
     "name": "stdout",
     "output_type": "stream",
     "text": [
      "origin :  국제유가 사흘만에 반등WTI 이번주 22\n",
      "cleaned :  국제유가, 사흘만에 반등... WTI 이번 주 22달러 상승\n"
     ]
    },
    {
     "name": "stderr",
     "output_type": "stream",
     "text": [
      "133it [04:33,  2.04s/it]Setting `pad_token_id` to `eos_token_id`:None for open-end generation.\n"
     ]
    },
    {
     "name": "stdout",
     "output_type": "stream",
     "text": [
      "origin :  朴대통E hC국민 Mp테방지법J과Z킨다는지\n",
      "cleaned :  박 대통령, 국민 메시지에 대한 테러 방지법 제정 지지\n"
     ]
    },
    {
     "name": "stderr",
     "output_type": "stream",
     "text": [
      "134it [04:35,  2.04s/it]Setting `pad_token_id` to `eos_token_id`:None for open-end generation.\n"
     ]
    },
    {
     "name": "stdout",
     "output_type": "stream",
     "text": [
      "origin :  n통령L김정은S연내방 가능성 열려DN의결l에 달u\n",
      "cleaned :  국제사회, 北미사일 발사에 우려... 미국, 12월 북한과의 대화 가능성 열려\n"
     ]
    },
    {
     "name": "stderr",
     "output_type": "stream",
     "text": [
      "135it [04:37,  2.04s/it]Setting `pad_token_id` to `eos_token_id`:None for open-end generation.\n"
     ]
    },
    {
     "name": "stdout",
     "output_type": "stream",
     "text": [
      "origin :  이bsnm크N메니스M 총리에 국J협력 f\n",
      "cleaned :  이브스냅 메니스 총리, 국회 협력 제안\n"
     ]
    },
    {
     "name": "stderr",
     "output_type": "stream",
     "text": [
      "136it [04:39,  2.04s/it]Setting `pad_token_id` to `eos_token_id`:None for open-end generation.\n"
     ]
    },
    {
     "name": "stdout",
     "output_type": "stream",
     "text": [
      "origin :  북한과 군 외교0f우O다8유력 9대s특4\n",
      "cleaned :  북한과 러시아, 군사외교 강화 추진\n"
     ]
    },
    {
     "name": "stderr",
     "output_type": "stream",
     "text": [
      "137it [04:41,  2.05s/it]Setting `pad_token_id` to `eos_token_id`:None for open-end generation.\n"
     ]
    },
    {
     "name": "stdout",
     "output_type": "stream",
     "text": [
      "origin :  北wG호 외무상 기용d8새 외6i H미협a 나서W\n",
      "cleaned :  북한 외무상, W김 외교협상단 나서\n"
     ]
    },
    {
     "name": "stderr",
     "output_type": "stream",
     "text": [
      "138it [04:43,  2.05s/it]Setting `pad_token_id` to `eos_token_id`:None for open-end generation.\n"
     ]
    },
    {
     "name": "stdout",
     "output_type": "stream",
     "text": [
      "origin :  재 m대v 굴 두꺼운2자x3반성없이 탓\n",
      "cleaned :  재료 두꺼운 2자 3반성없이 탓\n"
     ]
    },
    {
     "name": "stderr",
     "output_type": "stream",
     "text": [
      "139it [04:45,  2.04s/it]Setting `pad_token_id` to `eos_token_id`:None for open-end generation.\n"
     ]
    },
    {
     "name": "stdout",
     "output_type": "stream",
     "text": [
      "origin :  민주GUtFh 초 협B 첫발반도 c화1L정 l\n",
      "cleaned :  민주당, 첫발을 디뎌 반도체 산업화 계획 발표\n"
     ]
    },
    {
     "name": "stderr",
     "output_type": "stream",
     "text": [
      "140it [04:47,  2.04s/it]Setting `pad_token_id` to `eos_token_id`:None for open-end generation.\n"
     ]
    },
    {
     "name": "stdout",
     "output_type": "stream",
     "text": [
      "origin :  김진표MC정청 Z의8더 밀해v불협음b움\n",
      "cleaned :  김진표 MC 정청 Z의 8 더 밀해, 불협음의 불꽃\n"
     ]
    },
    {
     "name": "stderr",
     "output_type": "stream",
     "text": [
      "141it [04:49,  2.04s/it]Setting `pad_token_id` to `eos_token_id`:None for open-end generation.\n"
     ]
    },
    {
     "name": "stdout",
     "output_type": "stream",
     "text": [
      "origin :  靑 민생국0대통 사면Nt사범 불G 원Y8훨씬 s화9a보\n",
      "cleaned :  청 민생국 0대통 사면 N사범 불구, 원유8훨씬 석방 보류\n"
     ]
    },
    {
     "name": "stderr",
     "output_type": "stream",
     "text": [
      "142it [04:51,  2.04s/it]Setting `pad_token_id` to `eos_token_id`:None for open-end generation.\n"
     ]
    },
    {
     "name": "stdout",
     "output_type": "stream",
     "text": [
      "origin :  朴U통령 Fq절 기사 북gt기Pj의A행 강 E망\n",
      "cleaned :  박 대통령, 유엔 총회에서 북한의 핵 문제에 대한 강력한 대응 강조\n"
     ]
    },
    {
     "name": "stderr",
     "output_type": "stream",
     "text": [
      "143it [04:53,  2.05s/it]Setting `pad_token_id` to `eos_token_id`:None for open-end generation.\n"
     ]
    },
    {
     "name": "stdout",
     "output_type": "stream",
     "text": [
      "origin :  국제유가곡물가올해 농업경영비 33 감소 전망\n",
      "cleaned :  국제유가와 곡물가 상승으로 올해 농업경영비 33% 감소 전망\n"
     ]
    },
    {
     "name": "stderr",
     "output_type": "stream",
     "text": [
      "144it [04:55,  2.04s/it]Setting `pad_token_id` to `eos_token_id`:None for open-end generation.\n"
     ]
    },
    {
     "name": "stdout",
     "output_type": "stream",
     "text": [
      "origin :  당대5 김정은Q 결산보고 h내O\n",
      "cleaned :  김정은, 당대회 5차 회의에서 결산 보고\n"
     ]
    },
    {
     "name": "stderr",
     "output_type": "stream",
     "text": [
      "145it [04:57,  2.03s/it]Setting `pad_token_id` to `eos_token_id`:None for open-end generation.\n"
     ]
    },
    {
     "name": "stdout",
     "output_type": "stream",
     "text": [
      "origin :  국민의_b인 7o대위V장M아eP위r장맡g\n",
      "cleaned :  국민의당 70대 후보 박원순 시장 출마\n"
     ]
    },
    {
     "name": "stderr",
     "output_type": "stream",
     "text": [
      "146it [04:59,  2.03s/it]Setting `pad_token_id` to `eos_token_id`:None for open-end generation.\n"
     ]
    },
    {
     "name": "stdout",
     "output_type": "stream",
     "text": [
      "origin :  내q C정현 대q마더민U yJ경쟁에도 변C로 u\n",
      "cleaned :  내일 C정현 대마더민 U자격증 경쟁에도 변함없는\n"
     ]
    },
    {
     "name": "stderr",
     "output_type": "stream",
     "text": [
      "147it [05:01,  2.03s/it]Setting `pad_token_id` to `eos_token_id`:None for open-end generation.\n"
     ]
    },
    {
     "name": "stdout",
     "output_type": "stream",
     "text": [
      "origin :  北4정 d동 F원J대7 당대회 폐c4합\n",
      "cleaned :  북4정, 동북아시아 F-16 원자력 대7 당대회 폐회\n"
     ]
    },
    {
     "name": "stderr",
     "output_type": "stream",
     "text": [
      "148it [05:03,  2.03s/it]Setting `pad_token_id` to `eos_token_id`:None for open-end generation.\n"
     ]
    },
    {
     "name": "stdout",
     "output_type": "stream",
     "text": [
      "origin :  PC수천안시의C천안X장 마 Q언Z균X2전 완n해야\n",
      "cleaned :  천안시 PC 수천 안에 C천안X장 마 Q언Z균X2 전 완납해야\n"
     ]
    },
    {
     "name": "stderr",
     "output_type": "stream",
     "text": [
      "149it [05:05,  2.03s/it]Setting `pad_token_id` to `eos_token_id`:None for open-end generation.\n"
     ]
    },
    {
     "name": "stdout",
     "output_type": "stream",
     "text": [
      "origin :  2정16검 정I\n",
      "cleaned :  2정16검 정I\n"
     ]
    },
    {
     "name": "stderr",
     "output_type": "stream",
     "text": [
      "150it [05:07,  2.03s/it]Setting `pad_token_id` to `eos_token_id`:None for open-end generation.\n"
     ]
    },
    {
     "name": "stdout",
     "output_type": "stream",
     "text": [
      "origin :  朴대통령 개절G R의장 和가 으b野LK불참종n\n",
      "cleaned :  박 대통령 개헌 G R 의장과 가 합의, 野 LK 불참 종료\n"
     ]
    },
    {
     "name": "stderr",
     "output_type": "stream",
     "text": [
      "151it [05:09,  2.03s/it]Setting `pad_token_id` to `eos_token_id`:None for open-end generation.\n"
     ]
    },
    {
     "name": "stdout",
     "output_type": "stream",
     "text": [
      "origin :  이희i Z사d가7A 세브란스병원p기\n",
      "cleaned :  이희재, 제7A 세브란스병원 기증\n"
     ]
    },
    {
     "name": "stderr",
     "output_type": "stream",
     "text": [
      "152it [05:11,  2.03s/it]Setting `pad_token_id` to `eos_token_id`:None for open-end generation.\n"
     ]
    },
    {
     "name": "stdout",
     "output_type": "stream",
     "text": [
      "origin :  靑 이석수 표 접수당8 N하지M않을 H\n",
      "cleaned :  청 이석수 표 접수당 8%\n"
     ]
    },
    {
     "name": "stderr",
     "output_type": "stream",
     "text": [
      "153it [05:13,  2.03s/it]Setting `pad_token_id` to `eos_token_id`:None for open-end generation.\n"
     ]
    },
    {
     "name": "stdout",
     "output_type": "stream",
     "text": [
      "origin :  n대통령 bT일부터 美핵g보X상hS i석NA핵제재 Q교\n",
      "cleaned :  제목없음\n"
     ]
    },
    {
     "name": "stderr",
     "output_type": "stream",
     "text": [
      "154it [05:15,  2.03s/it]Setting `pad_token_id` to `eos_token_id`:None for open-end generation.\n"
     ]
    },
    {
     "name": "stdout",
     "output_type": "stream",
     "text": [
      "origin :  조응천 IIG해 무c 얘기하입vtlF 아U종4\n",
      "cleaned :  조응천, IIG해 무산 이야기하다\n"
     ]
    },
    {
     "name": "stderr",
     "output_type": "stream",
     "text": [
      "155it [05:17,  2.03s/it]Setting `pad_token_id` to `eos_token_id`:None for open-end generation.\n"
     ]
    },
    {
     "name": "stdout",
     "output_type": "stream",
     "text": [
      "origin :  s위7G정청추S안7ry내 1회 본회의 W과해야\n",
      "cleaned :  제7차 정기국회 1차 본회의에서 안건 7개를 처리해야 합니다.\n"
     ]
    },
    {
     "name": "stderr",
     "output_type": "stream",
     "text": [
      "156it [05:20,  2.03s/it]Setting `pad_token_id` to `eos_token_id`:None for open-end generation.\n"
     ]
    },
    {
     "name": "stdout",
     "output_type": "stream",
     "text": [
      "origin :  더 i대 김현권v원a_대8vdL줄알았d\n",
      "cleaned :  i대 김현권 vs 원아, 대8 판결줄어\n"
     ]
    },
    {
     "name": "stderr",
     "output_type": "stream",
     "text": [
      "157it [05:22,  2.03s/it]Setting `pad_token_id` to `eos_token_id`:None for open-end generation.\n"
     ]
    },
    {
     "name": "stdout",
     "output_type": "stream",
     "text": [
      "origin :  G미회담 D 5정39n길 진b U나b中 고위급l류 통 강조\n",
      "cleaned :  G7 미회담 D-5, 진보·우파 中 고위급 대표 통신 강조\n"
     ]
    },
    {
     "name": "stderr",
     "output_type": "stream",
     "text": [
      "158it [05:24,  2.03s/it]Setting `pad_token_id` to `eos_token_id`:None for open-end generation.\n"
     ]
    },
    {
     "name": "stdout",
     "output_type": "stream",
     "text": [
      "origin :  朴P 언론b담B② 3V 대n5N만남mE화 z토\n",
      "cleaned :  박근혜 언론 담화 ② 3월 5일 만남 개최\n"
     ]
    },
    {
     "name": "stderr",
     "output_type": "stream",
     "text": [
      "159it [05:26,  2.03s/it]Setting `pad_token_id` to `eos_token_id`:None for open-end generation.\n"
     ]
    },
    {
     "name": "stdout",
     "output_type": "stream",
     "text": [
      "origin :  f총리 국방과학연소 Py가m보 L0해달라\n",
      "cleaned :  총리, 국방과학연구소 연구원들에게 보안 관련 업무를 할당해달라\n"
     ]
    },
    {
     "name": "stderr",
     "output_type": "stream",
     "text": [
      "160it [05:28,  2.02s/it]Setting `pad_token_id` to `eos_token_id`:None for open-end generation.\n"
     ]
    },
    {
     "name": "stdout",
     "output_type": "stream",
     "text": [
      "origin :  與텃밭부산 Z변0더G주 4곳이 앞서\n",
      "cleaned :  與텃밭부산 Z변0더G주 4곳이 앞서\n"
     ]
    },
    {
     "name": "stderr",
     "output_type": "stream",
     "text": [
      "161it [05:30,  2.03s/it]Setting `pad_token_id` to `eos_token_id`:None for open-end generation.\n"
     ]
    },
    {
     "name": "stdout",
     "output_type": "stream",
     "text": [
      "origin :  국회wq선 영4bI5박 Vo 프레임 버9야\n",
      "cleaned :  국회, 박 의원 프레임을 날려버리다\n"
     ]
    },
    {
     "name": "stderr",
     "output_type": "stream",
     "text": [
      "162it [05:32,  2.02s/it]Setting `pad_token_id` to `eos_token_id`:None for open-end generation.\n"
     ]
    },
    {
     "name": "stdout",
     "output_type": "stream",
     "text": [
      "origin :  6총DF 중7민생예H4p5천억YU 빨리4처해\n",
      "cleaned :  6개 대기업, 7개 민생예산 4천억원 빨리 처리해주세요\n"
     ]
    },
    {
     "name": "stderr",
     "output_type": "stream",
     "text": [
      "163it [05:34,  2.02s/it]Setting `pad_token_id` to `eos_token_id`:None for open-end generation.\n"
     ]
    },
    {
     "name": "stdout",
     "output_type": "stream",
     "text": [
      "origin :  통일부 통R 김정은 관전여c예단 어M3만w대\n",
      "cleaned :  통일부 통일부장관, 김정은 관광 예산 3만 원 대\n"
     ]
    },
    {
     "name": "stderr",
     "output_type": "stream",
     "text": [
      "164it [05:36,  2.02s/it]Setting `pad_token_id` to `eos_token_id`:None for open-end generation.\n"
     ]
    },
    {
     "name": "stdout",
     "output_type": "stream",
     "text": [
      "origin :  kJ인 4 k3강원도P문\n",
      "cleaned :  강원도, 국민건강보험 4개 강원도 지역의 의료비 지원\n"
     ]
    },
    {
     "name": "stderr",
     "output_type": "stream",
     "text": [
      "165it [05:38,  2.03s/it]Setting `pad_token_id` to `eos_token_id`:None for open-end generation.\n"
     ]
    },
    {
     "name": "stdout",
     "output_type": "stream",
     "text": [
      "origin :  세계 첫 AI 축구 월드컵 KAIST서 개막12개국 29팀 참가\n",
      "cleaned :  세계 첫 AI 축구 월드컵 KAIST에서 개최, 12개국 29팀 참가\n"
     ]
    },
    {
     "name": "stderr",
     "output_type": "stream",
     "text": [
      "166it [05:40,  2.03s/it]Setting `pad_token_id` to `eos_token_id`:None for open-end generation.\n"
     ]
    },
    {
     "name": "stdout",
     "output_type": "stream",
     "text": [
      "origin :  KT 1만원대 LTE 요금제와 함께 피처폰 LG 폴더 출시\n",
      "cleaned :  KT, 1만원대 LTE 요금제와 함께 피처폰 LG 폴더폰 출시\n"
     ]
    },
    {
     "name": "stderr",
     "output_type": "stream",
     "text": [
      "167it [05:42,  2.03s/it]Setting `pad_token_id` to `eos_token_id`:None for open-end generation.\n"
     ]
    },
    {
     "name": "stdout",
     "output_type": "stream",
     "text": [
      "origin :  정R 관계r다섯S 무수150J가량 행G중폭발b\n",
      "cleaned :  정치 관계자 5명, 무수 150여명 행진 중 폭발\n"
     ]
    },
    {
     "name": "stderr",
     "output_type": "stream",
     "text": [
      "168it [05:44,  2.04s/it]Setting `pad_token_id` to `eos_token_id`:None for open-end generation.\n"
     ]
    },
    {
     "name": "stdout",
     "output_type": "stream",
     "text": [
      "origin :  더h주 우a호F내Q표 D행Kc내a규 상지k 방문\n",
      "cleaned :  더 주 우호 F 내규 상지 방문\n"
     ]
    },
    {
     "name": "stderr",
     "output_type": "stream",
     "text": [
      "169it [05:46,  2.04s/it]Setting `pad_token_id` to `eos_token_id`:None for open-end generation.\n"
     ]
    },
    {
     "name": "stdout",
     "output_type": "stream",
     "text": [
      "origin :  김관영 드루5_z q기간 연 D지하 검x o\n",
      "cleaned :  김관영, 드루5의 지하 검사 기간 연\n"
     ]
    },
    {
     "name": "stderr",
     "output_type": "stream",
     "text": [
      "170it [05:48,  2.04s/it]Setting `pad_token_id` to `eos_token_id`:None for open-end generation.\n"
     ]
    },
    {
     "name": "stdout",
     "output_type": "stream",
     "text": [
      "origin :  XE 2안하게 여행할S수 V 광rs a5A지원\n",
      "cleaned :  XE 2안으로 여행할 수 있는 V 광역 지원\n"
     ]
    },
    {
     "name": "stderr",
     "output_type": "stream",
     "text": [
      "171it [05:50,  2.04s/it]Setting `pad_token_id` to `eos_token_id`:None for open-end generation.\n"
     ]
    },
    {
     "name": "stdout",
     "output_type": "stream",
     "text": [
      "origin :  q부 개공pbS전중C北Ic사일첫 4R제2종2보\n",
      "cleaned :  북한, 사일런스 FBM-2 첫 시험 발사\n"
     ]
    },
    {
     "name": "stderr",
     "output_type": "stream",
     "text": [
      "172it [05:52,  2.04s/it]Setting `pad_token_id` to `eos_token_id`:None for open-end generation.\n"
     ]
    },
    {
     "name": "stdout",
     "output_type": "stream",
     "text": [
      "origin :  kN3돋 북 고위급 태Py 귀O탈s할 k밖a\n",
      "cleaned :  고위급 북한 대표, 미국 탈출\n"
     ]
    },
    {
     "name": "stderr",
     "output_type": "stream",
     "text": [
      "173it [05:54,  2.04s/it]Setting `pad_token_id` to `eos_token_id`:None for open-end generation.\n"
     ]
    },
    {
     "name": "stdout",
     "output_type": "stream",
     "text": [
      "origin :  M1UU북u위성 S사U계획w보시기B0Q 밝혀2\n",
      "cleaned :  M1 우주선 S사 위성 계획 발표\n"
     ]
    },
    {
     "name": "stderr",
     "output_type": "stream",
     "text": [
      "174it [05:56,  2.04s/it]Setting `pad_token_id` to `eos_token_id`:None for open-end generation.\n"
     ]
    },
    {
     "name": "stdout",
     "output_type": "stream",
     "text": [
      "origin :  Z i중 드논 첫 언급靑ny시 활용\n",
      "cleaned :  지중해 드론 첫 언급: 청와대 활용\n"
     ]
    },
    {
     "name": "stderr",
     "output_type": "stream",
     "text": [
      "175it [05:58,  2.04s/it]Setting `pad_token_id` to `eos_token_id`:None for open-end generation.\n"
     ]
    },
    {
     "name": "stdout",
     "output_type": "stream",
     "text": [
      "origin :  3대통9 신Wn\n",
      "cleaned :  3대 통일 정부 9년\n"
     ]
    },
    {
     "name": "stderr",
     "output_type": "stream",
     "text": [
      "176it [06:00,  2.04s/it]Setting `pad_token_id` to `eos_token_id`:None for open-end generation.\n"
     ]
    },
    {
     "name": "stdout",
     "output_type": "stream",
     "text": [
      "origin :  朴대통u 4일 장2관 t8숍bK위7 국정Y력 E\n",
      "cleaned :  박근혜 대통령 4일 장2관 t8숍bK위7 국정력 E\n"
     ]
    },
    {
     "name": "stderr",
     "output_type": "stream",
     "text": [
      "177it [06:02,  2.04s/it]Setting `pad_token_id` to `eos_token_id`:None for open-end generation.\n"
     ]
    },
    {
     "name": "stdout",
     "output_type": "stream",
     "text": [
      "origin :  8월 중순 중부에 물폭탄평균 강수량 2234 평년 2배\n",
      "cleaned :  8월 중순 중부에 폭우, 평년의 2배로 강수량 2234㎜\n"
     ]
    },
    {
     "name": "stderr",
     "output_type": "stream",
     "text": [
      "178it [06:04,  2.04s/it]Setting `pad_token_id` to `eos_token_id`:None for open-end generation.\n"
     ]
    },
    {
     "name": "stdout",
     "output_type": "stream",
     "text": [
      "origin :  朴통령qRZ도 주 YO과L숨가 2Q핵9외i전\n",
      "cleaned :  박 대통령도 주미외교수장과 숨겨진 만남\n"
     ]
    },
    {
     "name": "stderr",
     "output_type": "stream",
     "text": [
      "179it [06:06,  2.04s/it]Setting `pad_token_id` to `eos_token_id`:None for open-end generation.\n"
     ]
    },
    {
     "name": "stdout",
     "output_type": "stream",
     "text": [
      "origin :  민주 j늘9경R5판결문9분WS공개Q대민B토H도\n",
      "cleaned :  민주당 전 대표의 구속 여부 판결문 공개, 국민들이 궁금해\n"
     ]
    },
    {
     "name": "stderr",
     "output_type": "stream",
     "text": [
      "180it [06:08,  2.03s/it]Setting `pad_token_id` to `eos_token_id`:None for open-end generation.\n"
     ]
    },
    {
     "name": "stdout",
     "output_type": "stream",
     "text": [
      "origin :  d당대회 6핵미Y jT가실d위성U 많 JS릴 q\n",
      "cleaned :  제6차 당대회 준비위 위원회의 1차 회의\n"
     ]
    },
    {
     "name": "stderr",
     "output_type": "stream",
     "text": [
      "181it [06:10,  2.03s/it]Setting `pad_token_id` to `eos_token_id`:None for open-end generation.\n"
     ]
    },
    {
     "name": "stdout",
     "output_type": "stream",
     "text": [
      "origin :  탄1가결bh서Ol지낸 유y복 시N 일부E일정 취소\n",
      "cleaned :  탄광 시민 집회 일부 일정 취소\n"
     ]
    },
    {
     "name": "stderr",
     "output_type": "stream",
     "text": [
      "182it [06:12,  2.03s/it]Setting `pad_token_id` to `eos_token_id`:None for open-end generation.\n"
     ]
    },
    {
     "name": "stdout",
     "output_type": "stream",
     "text": [
      "origin :  임종석 계성wd VV靑 QbK들에 미o물\n",
      "cleaned :  임종석, 靑 대변인에 대한 비판에 대해 답변\n"
     ]
    },
    {
     "name": "stderr",
     "output_type": "stream",
     "text": [
      "183it [06:14,  2.03s/it]Setting `pad_token_id` to `eos_token_id`:None for open-end generation.\n"
     ]
    },
    {
     "name": "stdout",
     "output_type": "stream",
     "text": [
      "origin :  北w은기동훈련SO접 Ao행r도참관종합\n",
      "cleaned :  북한 기동훈련, 미국 SOF의 참관 종합\n"
     ]
    },
    {
     "name": "stderr",
     "output_type": "stream",
     "text": [
      "184it [06:16,  2.03s/it]Setting `pad_token_id` to `eos_token_id`:None for open-end generation.\n"
     ]
    },
    {
     "name": "stdout",
     "output_type": "stream",
     "text": [
      "origin :  북중 6북제재 속새M bV교류로 전Z적_밀J e화 다짐\n",
      "cleaned :  북중 6개국 제재 속에 M교류로 전략적 밀교 화다짐\n"
     ]
    },
    {
     "name": "stderr",
     "output_type": "stream",
     "text": [
      "185it [06:18,  2.03s/it]Setting `pad_token_id` to `eos_token_id`:None for open-end generation.\n"
     ]
    },
    {
     "name": "stdout",
     "output_type": "stream",
     "text": [
      "origin :  른IY문 대통_의 개P 압RiQ9정에wD배\n",
      "cleaned :  문대통령의 개헌 논의\n"
     ]
    },
    {
     "name": "stderr",
     "output_type": "stream",
     "text": [
      "186it [06:21,  2.04s/it]Setting `pad_token_id` to `eos_token_id`:None for open-end generation.\n"
     ]
    },
    {
     "name": "stdout",
     "output_type": "stream",
     "text": [
      "origin :  a진표 민주7 당 대표S후 전북yB간담\n",
      "cleaned :  진보진표, 민주당 7당 대표 선출 후 전북 지역 간담회\n"
     ]
    },
    {
     "name": "stderr",
     "output_type": "stream",
     "text": [
      "187it [06:23,  2.04s/it]Setting `pad_token_id` to `eos_token_id`:None for open-end generation.\n"
     ]
    },
    {
     "name": "stdout",
     "output_type": "stream",
     "text": [
      "origin :  qb의9평 와 번영을위하D\n",
      "cleaned :  qbo의 9평 방이 번영을 이루다\n"
     ]
    },
    {
     "name": "stderr",
     "output_type": "stream",
     "text": [
      "188it [06:25,  2.04s/it]Setting `pad_token_id` to `eos_token_id`:None for open-end generation.\n"
     ]
    },
    {
     "name": "stdout",
     "output_type": "stream",
     "text": [
      "origin :  S 묘Z f막식2일b행8주주의z도5문새e\n",
      "cleaned :  새로운 스마트폰, 8월 8일 출시 예정\n"
     ]
    },
    {
     "name": "stderr",
     "output_type": "stream",
     "text": [
      "189it [06:27,  2.04s/it]Setting `pad_token_id` to `eos_token_id`:None for open-end generation.\n"
     ]
    },
    {
     "name": "stdout",
     "output_type": "stream",
     "text": [
      "origin :  단군동whF 1hj다Wf 핵실7 정화 억9\n",
      "cleaned :  단군동맹 1호 다원핵실험 정화 작업\n"
     ]
    },
    {
     "name": "stderr",
     "output_type": "stream",
     "text": [
      "190it [06:29,  2.04s/it]Setting `pad_token_id` to `eos_token_id`:None for open-end generation.\n"
     ]
    },
    {
     "name": "stdout",
     "output_type": "stream",
     "text": [
      "origin :  북한도Y르스료개s공단 출p원m발열W사RXj종합\n",
      "cleaned :  북한도 유럽 개항공 단 발열 환자 발생\n"
     ]
    },
    {
     "name": "stderr",
     "output_type": "stream",
     "text": [
      "191it [06:31,  2.04s/it]Setting `pad_token_id` to `eos_token_id`:None for open-end generation.\n"
     ]
    },
    {
     "name": "stdout",
     "output_type": "stream",
     "text": [
      "origin :  sh기하는 이p미w대표와 i하QQ표\n",
      "cleaned :  시하는 이 대표와 하표\n"
     ]
    },
    {
     "name": "stderr",
     "output_type": "stream",
     "text": [
      "192it [06:33,  2.03s/it]Setting `pad_token_id` to `eos_token_id`:None for open-end generation.\n"
     ]
    },
    {
     "name": "stdout",
     "output_type": "stream",
     "text": [
      "origin :  M용표F北2태영tzbZ자 취은 체제영향 줄t는 것\n",
      "cleaned :  M용표 F, 北 2차 추진 전략 발표... 체제 영향 줄이는 것\n"
     ]
    },
    {
     "name": "stderr",
     "output_type": "stream",
     "text": [
      "193it [06:35,  2.03s/it]Setting `pad_token_id` to `eos_token_id`:None for open-end generation.\n"
     ]
    },
    {
     "name": "stdout",
     "output_type": "stream",
     "text": [
      "origin :  송희경 j호i7Q출장 시yQ등2 아_1비즈M스c용d\n",
      "cleaned :  송희경 제휴사업 2기 아르바이트 모집\n"
     ]
    },
    {
     "name": "stderr",
     "output_type": "stream",
     "text": [
      "194it [06:37,  2.05s/it]\n"
     ]
    },
    {
     "name": "stdout",
     "output_type": "stream",
     "text": [
      "origin :  이총리세4 H직 완fl지 못해E할 일 꽤남아\n",
      "cleaned :  이 총리가 세 번째로 임명되는 이유는 무엇인가? H직을 완전히 수행할 수 없는 상황이어서\n"
     ]
    },
    {
     "name": "stderr",
     "output_type": "stream",
     "text": [
      "0it [00:00, ?it/s]Setting `pad_token_id` to `eos_token_id`:None for open-end generation.\n",
      "1it [00:02,  2.04s/it]Setting `pad_token_id` to `eos_token_id`:None for open-end generation.\n"
     ]
    },
    {
     "name": "stdout",
     "output_type": "stream",
     "text": [
      "origin :  K찰국DLwo 로L3한N 회장 2 T0송\n",
      "cleaned :  K찰국대통령이 로L한 회장에게 2시간 동안 면담을 요청했다\n"
     ]
    },
    {
     "name": "stderr",
     "output_type": "stream",
     "text": [
      "2it [00:04,  2.05s/it]Setting `pad_token_id` to `eos_token_id`:None for open-end generation.\n"
     ]
    },
    {
     "name": "stdout",
     "output_type": "stream",
     "text": [
      "origin :  현N차sJ e 임원6늘려세z 리g 보j 육y\n",
      "cleaned :  현대차 CEO, 임원 6명 늘려 리더십 강화\n"
     ]
    },
    {
     "name": "stderr",
     "output_type": "stream",
     "text": [
      "3it [00:06,  2.05s/it]Setting `pad_token_id` to `eos_token_id`:None for open-end generation.\n"
     ]
    },
    {
     "name": "stdout",
     "output_type": "stream",
     "text": [
      "origin :  선 폭n 현장N조Z\n",
      "cleaned :  선박 폭발 현장 조사\n"
     ]
    },
    {
     "name": "stderr",
     "output_type": "stream",
     "text": [
      "4it [00:08,  2.05s/it]Setting `pad_token_id` to `eos_token_id`:None for open-end generation.\n"
     ]
    },
    {
     "name": "stdout",
     "output_type": "stream",
     "text": [
      "origin :  세계K인무역협회 올S2 무역인 1천b55w 배출한\n",
      "cleaned :  세계 K 인무역협회 올 S2 무역인 1천명 배출한\n"
     ]
    },
    {
     "name": "stderr",
     "output_type": "stream",
     "text": [
      "5it [00:10,  2.04s/it]Setting `pad_token_id` to `eos_token_id`:None for open-end generation.\n"
     ]
    },
    {
     "name": "stdout",
     "output_type": "stream",
     "text": [
      "origin :  학 석면 S거 규정k지키5\n",
      "cleaned :  학 석면 S거 규정 지키기 5년\n"
     ]
    },
    {
     "name": "stderr",
     "output_type": "stream",
     "text": [
      "6it [00:12,  2.04s/it]Setting `pad_token_id` to `eos_token_id`:None for open-end generation.\n"
     ]
    },
    {
     "name": "stdout",
     "output_type": "stream",
     "text": [
      "origin :  x 유 의HeprM못gz고r사표특별1LX제 흔들\n",
      "cleaned :  x 유 의회 특별회의 불참\n"
     ]
    },
    {
     "name": "stderr",
     "output_type": "stream",
     "text": [
      "7it [00:14,  2.04s/it]Setting `pad_token_id` to `eos_token_id`:None for open-end generation.\n"
     ]
    },
    {
     "name": "stdout",
     "output_type": "stream",
     "text": [
      "origin :  인국공I태NL년D의 bT무jlv공u고진보인가\n",
      "cleaned :  인국공과 I타의 년D 무jlv공고 진보인가\n"
     ]
    },
    {
     "name": "stderr",
     "output_type": "stream",
     "text": [
      "8it [00:16,  2.04s/it]Setting `pad_token_id` to `eos_token_id`:None for open-end generation.\n"
     ]
    },
    {
     "name": "stdout",
     "output_type": "stream",
     "text": [
      "origin :  코로나 r대등교모습\n",
      "cleaned :  코로나19 대응 등교 모습\n"
     ]
    },
    {
     "name": "stderr",
     "output_type": "stream",
     "text": [
      "9it [00:18,  2.04s/it]Setting `pad_token_id` to `eos_token_id`:None for open-end generation.\n"
     ]
    },
    {
     "name": "stdout",
     "output_type": "stream",
     "text": [
      "origin :  SHT 내비게s션cTW 국민hp yi\n",
      "cleaned :  서울시 택시 내비게이션 국민형 출시\n"
     ]
    },
    {
     "name": "stderr",
     "output_type": "stream",
     "text": [
      "10it [00:20,  2.04s/it]Setting `pad_token_id` to `eos_token_id`:None for open-end generation.\n"
     ]
    },
    {
     "name": "stdout",
     "output_type": "stream",
     "text": [
      "origin :  온으Q 한방 바Z_를 느끼다천한방D스N D20\n",
      "cleaned :  온천 한방을 느껴보세요! 천한방의 D20\n"
     ]
    },
    {
     "name": "stderr",
     "output_type": "stream",
     "text": [
      "11it [00:22,  2.05s/it]Setting `pad_token_id` to `eos_token_id`:None for open-end generation.\n"
     ]
    },
    {
     "name": "stdout",
     "output_type": "stream",
     "text": [
      "origin :  속지역 도시 난개발L방Czcv개정안 발의 놓d B등\n",
      "cleaned :  속 지역 도시 난개발 방지 개정안 발의 놓다 B등\n"
     ]
    },
    {
     "name": "stderr",
     "output_type": "stream",
     "text": [
      "12it [00:24,  2.05s/it]Setting `pad_token_id` to `eos_token_id`:None for open-end generation.\n"
     ]
    },
    {
     "name": "stdout",
     "output_type": "stream",
     "text": [
      "origin :  수 이FI인an고3 수생N확L 잇I교7 당국5각\n",
      "cleaned :  수원 이화여자대학교 7일 교내 확진자 5명 발생\n"
     ]
    },
    {
     "name": "stderr",
     "output_type": "stream",
     "text": [
      "13it [00:26,  2.05s/it]Setting `pad_token_id` to `eos_token_id`:None for open-end generation.\n"
     ]
    },
    {
     "name": "stdout",
     "output_type": "stream",
     "text": [
      "origin :  사법부 판결불6UJxs H AI6f4X터\n",
      "cleaned :  사법부 판결불일치 문제\n"
     ]
    },
    {
     "name": "stderr",
     "output_type": "stream",
     "text": [
      "14it [00:28,  2.05s/it]Setting `pad_token_id` to `eos_token_id`:None for open-end generation.\n"
     ]
    },
    {
     "name": "stdout",
     "output_type": "stream",
     "text": [
      "origin :  S9XOC카cO트6온라인 F개강좌 공동 개설\n",
      "cleaned :  S9XOC 카페트 6 온라인 개강좌 공동 개설\n"
     ]
    },
    {
     "name": "stderr",
     "output_type": "stream",
     "text": [
      "15it [00:30,  2.05s/it]Setting `pad_token_id` to `eos_token_id`:None for open-end generation.\n"
     ]
    },
    {
     "name": "stdout",
     "output_type": "stream",
     "text": [
      "origin :  등 수BO확앞2 aSO경\n",
      "cleaned :  등 수 보 확 앞 2 a s o 경\n"
     ]
    },
    {
     "name": "stderr",
     "output_type": "stream",
     "text": [
      "16it [00:32,  2.04s/it]Setting `pad_token_id` to `eos_token_id`:None for open-end generation.\n"
     ]
    },
    {
     "name": "stdout",
     "output_type": "stream",
     "text": [
      "origin :  B0mlc나y6면 속 04C Y스3시청률상승\n",
      "cleaned :  보름달이 뜨면 속초시청률 상승\n"
     ]
    },
    {
     "name": "stderr",
     "output_type": "stream",
     "text": [
      "17it [00:34,  2.04s/it]Setting `pad_token_id` to `eos_token_id`:None for open-end generation.\n"
     ]
    },
    {
     "name": "stdout",
     "output_type": "stream",
     "text": [
      "origin :  _ui y립n공 R손B독유z자 집 명패Y는다\n",
      "cleaned :  우리지역 의회 의원 B석 독립자 집 명패 변경한다\n"
     ]
    },
    {
     "name": "stderr",
     "output_type": "stream",
     "text": [
      "18it [00:36,  2.04s/it]Setting `pad_token_id` to `eos_token_id`:None for open-end generation.\n"
     ]
    },
    {
     "name": "stdout",
     "output_type": "stream",
     "text": [
      "origin :  은 문y적 양 풍T했cGe맹Gl이qM q문 행hL\n",
      "cleaned :  은 문장 구조가 잘못된 문장\n"
     ]
    },
    {
     "name": "stderr",
     "output_type": "stream",
     "text": [
      "19it [00:38,  2.04s/it]Setting `pad_token_id` to `eos_token_id`:None for open-end generation.\n"
     ]
    },
    {
     "name": "stdout",
     "output_type": "stream",
     "text": [
      "origin :  J길5조E 파 외치U 번R 당X승부d\n",
      "cleaned :  제5회 길거리축제에서 E파가 우승했습니다.\n"
     ]
    },
    {
     "name": "stderr",
     "output_type": "stream",
     "text": [
      "20it [00:40,  2.04s/it]Setting `pad_token_id` to `eos_token_id`:None for open-end generation.\n"
     ]
    },
    {
     "name": "stdout",
     "output_type": "stream",
     "text": [
      "origin :  q직언론인조족장애인시 폭 히는 시인\n",
      "cleaned :  전직 언론인 조족 장애인 시 폭히는 시인\n"
     ]
    },
    {
     "name": "stderr",
     "output_type": "stream",
     "text": [
      "21it [00:42,  2.04s/it]Setting `pad_token_id` to `eos_token_id`:None for open-end generation.\n"
     ]
    },
    {
     "name": "stdout",
     "output_type": "stream",
     "text": [
      "origin :  대우선해양 4천199억원bxC LNG 운선 2척n수주\n",
      "cleaned :  대우선해양, 4천199억원 규모의 LNG 운선 2척 수주\n"
     ]
    },
    {
     "name": "stderr",
     "output_type": "stream",
     "text": [
      "22it [00:44,  2.04s/it]Setting `pad_token_id` to `eos_token_id`:None for open-end generation.\n"
     ]
    },
    {
     "name": "stdout",
     "output_type": "stream",
     "text": [
      "origin :  韓 물가 7c 초미세먼지세계 최M관Zugq 걸림돌\n",
      "cleaned :  한국의 물가 7% 초미세먼지세계 최초 관측\n"
     ]
    },
    {
     "name": "stderr",
     "output_type": "stream",
     "text": [
      "23it [00:46,  2.04s/it]Setting `pad_token_id` to `eos_token_id`:None for open-end generation.\n"
     ]
    },
    {
     "name": "stdout",
     "output_type": "stream",
     "text": [
      "origin :  NHN엔터테인먼트 2분기 영업익 149억원50 증가\n",
      "cleaned :  NHN엔터테인먼트, 2분기 영업익 149억원 50% 증가\n"
     ]
    },
    {
     "name": "stderr",
     "output_type": "stream",
     "text": [
      "24it [00:48,  2.04s/it]Setting `pad_token_id` to `eos_token_id`:None for open-end generation.\n"
     ]
    },
    {
     "name": "stdout",
     "output_type": "stream",
     "text": [
      "origin :  광4북구U취a계j X나\n",
      "cleaned :  광주 북구 우체국 계열사 X나\n"
     ]
    },
    {
     "name": "stderr",
     "output_type": "stream",
     "text": [
      "25it [00:51,  2.04s/it]Setting `pad_token_id` to `eos_token_id`:None for open-end generation.\n"
     ]
    },
    {
     "name": "stdout",
     "output_type": "stream",
     "text": [
      "origin :  청율X1G1김어준_뉴공장 청취tl는P찌\n",
      "cleaned :  청취자들, 김어준의 뉴스공장 청율X1G1에 참여하세요\n"
     ]
    },
    {
     "name": "stderr",
     "output_type": "stream",
     "text": [
      "26it [00:53,  2.04s/it]Setting `pad_token_id` to `eos_token_id`:None for open-end generation.\n"
     ]
    },
    {
     "name": "stdout",
     "output_type": "stream",
     "text": [
      "origin :  KT Be Y 폰 2 단독 출시\n",
      "cleaned :  KT 베이 오프라인 판매\n"
     ]
    },
    {
     "name": "stderr",
     "output_type": "stream",
     "text": [
      "27it [00:55,  2.04s/it]Setting `pad_token_id` to `eos_token_id`:None for open-end generation.\n"
     ]
    },
    {
     "name": "stdout",
     "output_type": "stream",
     "text": [
      "origin :  조코위w김정J FK여석3fqn민Z보D 사K 내v\n",
      "cleaned :  조코 위도도에서 김정은 북한 지도자가 민족주의 보좌관들과 회담을 했다\n"
     ]
    },
    {
     "name": "stderr",
     "output_type": "stream",
     "text": [
      "28it [00:57,  2.04s/it]Setting `pad_token_id` to `eos_token_id`:None for open-end generation.\n"
     ]
    },
    {
     "name": "stdout",
     "output_type": "stream",
     "text": [
      "origin :  거x소7RZZ엔지n어링 I부2중기업부ej경\n",
      "cleaned :  거제 소프트웨어 기업 부천경찰청과 업무 협약\n"
     ]
    },
    {
     "name": "stderr",
     "output_type": "stream",
     "text": [
      "29it [00:59,  2.04s/it]Setting `pad_token_id` to `eos_token_id`:None for open-end generation.\n"
     ]
    },
    {
     "name": "stdout",
     "output_type": "stream",
     "text": [
      "origin :  영문운전3M증A발급 ag\n",
      "cleaned :  영문운전 3개월 무보험 차량 발급 신청\n"
     ]
    },
    {
     "name": "stderr",
     "output_type": "stream",
     "text": [
      "30it [01:01,  2.03s/it]Setting `pad_token_id` to `eos_token_id`:None for open-end generation.\n"
     ]
    },
    {
     "name": "stdout",
     "output_type": "stream",
     "text": [
      "origin :  현Fhk업 노o AB재t 방FHS구F기j견\n",
      "cleaned :  현직 FSS 관리 직원의 불법 재테크 의혹\n"
     ]
    },
    {
     "name": "stderr",
     "output_type": "stream",
     "text": [
      "31it [01:03,  2.03s/it]Setting `pad_token_id` to `eos_token_id`:None for open-end generation.\n"
     ]
    },
    {
     "name": "stdout",
     "output_type": "stream",
     "text": [
      "origin :  경기도 첫 활치V센6 업v협T\n",
      "cleaned :  경기도 첫 활어치 V센6 업 협력\n"
     ]
    },
    {
     "name": "stderr",
     "output_type": "stream",
     "text": [
      "32it [01:05,  2.03s/it]Setting `pad_token_id` to `eos_token_id`:None for open-end generation.\n"
     ]
    },
    {
     "name": "stdout",
     "output_type": "stream",
     "text": [
      "origin :  2n0a자8러운 H양언론인상EVC\n",
      "cleaned :  제2회 한국 언론인상 EVC 수상자 발표\n"
     ]
    },
    {
     "name": "stderr",
     "output_type": "stream",
     "text": [
      "33it [01:07,  2.03s/it]Setting `pad_token_id` to `eos_token_id`:None for open-end generation.\n"
     ]
    },
    {
     "name": "stdout",
     "output_type": "stream",
     "text": [
      "origin :  세종시 력9 여성재L업k용 유9v등 지g화\n",
      "cleaned :  세종시 령9 여성 재택용 유9화\n"
     ]
    },
    {
     "name": "stderr",
     "output_type": "stream",
     "text": [
      "34it [01:09,  2.03s/it]Setting `pad_token_id` to `eos_token_id`:None for open-end generation.\n"
     ]
    },
    {
     "name": "stdout",
     "output_type": "stream",
     "text": [
      "origin :  한xC 뉴n 신A도ft b 중8꼴2834 16 z_\n",
      "cleaned :  한경신문 8면 16쪽\n"
     ]
    },
    {
     "name": "stderr",
     "output_type": "stream",
     "text": [
      "35it [01:11,  2.04s/it]Setting `pad_token_id` to `eos_token_id`:None for open-end generation.\n"
     ]
    },
    {
     "name": "stdout",
     "output_type": "stream",
     "text": [
      "origin :  팅1씨 g인 u팅틴N1백t 구조 U었다\n",
      "cleaned :  팅1씨가 인민군 병사 1백명을 구조했다\n"
     ]
    },
    {
     "name": "stderr",
     "output_type": "stream",
     "text": [
      "36it [01:13,  2.04s/it]Setting `pad_token_id` to `eos_token_id`:None for open-end generation.\n"
     ]
    },
    {
     "name": "stdout",
     "output_type": "stream",
     "text": [
      "origin :  경북_안k활제 K야에 1대n i정 도 추진\n",
      "cleaned :  경북 안동에서 K-야행제를 위한 1대1 정담회 추진\n"
     ]
    },
    {
     "name": "stderr",
     "output_type": "stream",
     "text": [
      "37it [01:15,  2.04s/it]Setting `pad_token_id` to `eos_token_id`:None for open-end generation.\n"
     ]
    },
    {
     "name": "stdout",
     "output_type": "stream",
     "text": [
      "origin :  당정3지카바i러hP급7의T연말mdJv검M5G구\n",
      "cleaned :  당정 3지카 바이어 7급 7명의 연말 정례 회의\n"
     ]
    },
    {
     "name": "stderr",
     "output_type": "stream",
     "text": [
      "38it [01:17,  2.04s/it]Setting `pad_token_id` to `eos_token_id`:None for open-end generation.\n"
     ]
    },
    {
     "name": "stdout",
     "output_type": "stream",
     "text": [
      "origin :  게시 예독거노 h 고치기 봉사활동\n",
      "cleaned :  예산안 거부노예 노예 해소 봉사활동\n"
     ]
    },
    {
     "name": "stderr",
     "output_type": "stream",
     "text": [
      "39it [01:19,  2.04s/it]Setting `pad_token_id` to `eos_token_id`:None for open-end generation.\n"
     ]
    },
    {
     "name": "stdout",
     "output_type": "stream",
     "text": [
      "origin :  인천서O g행된 O라 력평3\n",
      "cleaned :  인천서 고가 건물 3곳 화재 발생\n"
     ]
    },
    {
     "name": "stderr",
     "output_type": "stream",
     "text": [
      "40it [01:21,  2.04s/it]Setting `pad_token_id` to `eos_token_id`:None for open-end generation.\n"
     ]
    },
    {
     "name": "stdout",
     "output_type": "stream",
     "text": [
      "origin :  게Z판 통 2 편입생 모집 0카c톡bb진행\n",
      "cleaned :  게스트판 통 2편 입학생 모집 카카오톡 채팅으로 진행합니다.\n"
     ]
    },
    {
     "name": "stderr",
     "output_type": "stream",
     "text": [
      "41it [01:23,  2.03s/it]Setting `pad_token_id` to `eos_token_id`:None for open-end generation.\n"
     ]
    },
    {
     "name": "stdout",
     "output_type": "stream",
     "text": [
      "origin :  부7교육청 D식종자 등 7개 0 육공무직 19o 8발\n",
      "cleaned :  부산광역시 교육청, D식 종자 등 7개 육상공무직 19명 발령\n"
     ]
    },
    {
     "name": "stderr",
     "output_type": "stream",
     "text": [
      "42it [01:25,  2.04s/it]Setting `pad_token_id` to `eos_token_id`:None for open-end generation.\n"
     ]
    },
    {
     "name": "stdout",
     "output_type": "stream",
     "text": [
      "origin :  2D EBSc9Rhym대iZ 4명 Z정\n",
      "cleaned :  2D 전자비행 스쿼드 9명의 대원 4명 정식 출발\n"
     ]
    },
    {
     "name": "stderr",
     "output_type": "stream",
     "text": [
      "43it [01:27,  2.03s/it]Setting `pad_token_id` to `eos_token_id`:None for open-end generation.\n"
     ]
    },
    {
     "name": "stdout",
     "output_type": "stream",
     "text": [
      "origin :  특검 이화2대 및 관계자F사무실4택 0여 1색c보\n",
      "cleaned :  특검 이화 2대 및 관계자 F 사무실 4개소 압수\n"
     ]
    },
    {
     "name": "stderr",
     "output_type": "stream",
     "text": [
      "44it [01:29,  2.03s/it]Setting `pad_token_id` to `eos_token_id`:None for open-end generation.\n"
     ]
    },
    {
     "name": "stdout",
     "output_type": "stream",
     "text": [
      "origin :  시판 제1X EBS 청년O래대학생 기자단C집\n",
      "cleaned :  시판 제1회 EBS 청년 오래 대학생 기자단 창립\n"
     ]
    },
    {
     "name": "stderr",
     "output_type": "stream",
     "text": [
      "45it [01:31,  2.03s/it]Setting `pad_token_id` to `eos_token_id`:None for open-end generation.\n"
     ]
    },
    {
     "name": "stdout",
     "output_type": "stream",
     "text": [
      "origin :  강원V전교조TA등s원 인8 개nO Bd BPg초래\n",
      "cleaned :  강원 V 전교조 TA 등 8개 원 인 8개로 확대\n"
     ]
    },
    {
     "name": "stderr",
     "output_type": "stream",
     "text": [
      "46it [01:33,  2.03s/it]Setting `pad_token_id` to `eos_token_id`:None for open-end generation.\n"
     ]
    },
    {
     "name": "stdout",
     "output_type": "stream",
     "text": [
      "origin :  B2 출8인QP한 출경마케 클래스\n",
      "cleaned :  B2 출8인 출경마 클래스\n"
     ]
    },
    {
     "name": "stderr",
     "output_type": "stream",
     "text": [
      "47it [01:35,  2.03s/it]Setting `pad_token_id` to `eos_token_id`:None for open-end generation.\n"
     ]
    },
    {
     "name": "stdout",
     "output_type": "stream",
     "text": [
      "origin :  무급휴휴직3 이상만W해도p고p유지지원 준다\n",
      "cleaned :  무급 휴가 3일 이상만 사용하면 월 50만원 지원한다\n"
     ]
    },
    {
     "name": "stderr",
     "output_type": "stream",
     "text": [
      "48it [01:37,  2.03s/it]Setting `pad_token_id` to `eos_token_id`:None for open-end generation.\n"
     ]
    },
    {
     "name": "stdout",
     "output_type": "stream",
     "text": [
      "origin :  보수논객변희재 eXn속심사A블릿 조Q6 x포C혐\n",
      "cleaned :  보수 논객 변희재, eXn 속 심사 A블릿 조 Q6 x포 C혐\n"
     ]
    },
    {
     "name": "stderr",
     "output_type": "stream",
     "text": [
      "49it [01:39,  2.03s/it]Setting `pad_token_id` to `eos_token_id`:None for open-end generation.\n"
     ]
    },
    {
     "name": "stdout",
     "output_type": "stream",
     "text": [
      "origin :  오늘 xz Z개교 등교 4xc송_ V곳Z용R 2A\n",
      "cleaned :  오늘 학교 등교 4곳, 코로나19 확진자 2명\n"
     ]
    },
    {
     "name": "stderr",
     "output_type": "stream",
     "text": [
      "50it [01:41,  2.03s/it]Setting `pad_token_id` to `eos_token_id`:None for open-end generation.\n"
     ]
    },
    {
     "name": "stdout",
     "output_type": "stream",
     "text": [
      "origin :  사고g7WH눈치x2스피싱범 검 기h cH9표1\n",
      "cleaned :  스피싱범 검거, 표 1개 회수\n"
     ]
    },
    {
     "name": "stderr",
     "output_type": "stream",
     "text": [
      "51it [01:43,  2.03s/it]Setting `pad_token_id` to `eos_token_id`:None for open-end generation.\n"
     ]
    },
    {
     "name": "stdout",
     "output_type": "stream",
     "text": [
      "origin :  D인인증서 유출 Y LOO 넘어추세는 급감\n",
      "cleaned :  디인인증서 유출로 로그인 속도가 급감\n"
     ]
    },
    {
     "name": "stderr",
     "output_type": "stream",
     "text": [
      "52it [01:45,  2.03s/it]Setting `pad_token_id` to `eos_token_id`:None for open-end generation.\n"
     ]
    },
    {
     "name": "stdout",
     "output_type": "stream",
     "text": [
      "origin :  처음터나눠_ j택대 내u부c전t H\n",
      "cleaned :  제1회 전국 중소기업 경진대회 개최\n"
     ]
    },
    {
     "name": "stderr",
     "output_type": "stream",
     "text": [
      "53it [01:47,  2.03s/it]Setting `pad_token_id` to `eos_token_id`:None for open-end generation.\n"
     ]
    },
    {
     "name": "stdout",
     "output_type": "stream",
     "text": [
      "origin :  고bMT 시V하는 위수여식\n",
      "cleaned :  고등학생 MT 시상식\n"
     ]
    },
    {
     "name": "stderr",
     "output_type": "stream",
     "text": [
      "54it [01:49,  2.03s/it]Setting `pad_token_id` to `eos_token_id`:None for open-end generation.\n"
     ]
    },
    {
     "name": "stdout",
     "output_type": "stream",
     "text": [
      "origin :  n3주년 경찰의날 Zg식\n",
      "cleaned :  제3주년 경찰의 날 행사\n"
     ]
    },
    {
     "name": "stderr",
     "output_type": "stream",
     "text": [
      "55it [01:52,  2.03s/it]Setting `pad_token_id` to `eos_token_id`:None for open-end generation.\n"
     ]
    },
    {
     "name": "stdout",
     "output_type": "stream",
     "text": [
      "origin :  YTNq사천T원회 7명p로늘려\n",
      "cleaned :  YTN 사천 T 원회 회의 7명 참석\n"
     ]
    },
    {
     "name": "stderr",
     "output_type": "stream",
     "text": [
      "56it [01:54,  2.03s/it]Setting `pad_token_id` to `eos_token_id`:None for open-end generation.\n"
     ]
    },
    {
     "name": "stdout",
     "output_type": "stream",
     "text": [
      "origin :  32l중인 fo객 39X Z어사 Li복 영향m\n",
      "cleaned :  32세 여성, 39세 소비자 Z어사 리복 영향\n"
     ]
    },
    {
     "name": "stderr",
     "output_type": "stream",
     "text": [
      "57it [01:56,  2.03s/it]Setting `pad_token_id` to `eos_token_id`:None for open-end generation.\n"
     ]
    },
    {
     "name": "stdout",
     "output_type": "stream",
     "text": [
      "origin :  EQBC9아나운서 a 성lZ해소t위 권고sH용\n",
      "cleaned :  EQBC9 아나운서 a 성적 해소 위 권고서 작성\n"
     ]
    },
    {
     "name": "stderr",
     "output_type": "stream",
     "text": [
      "58it [01:58,  2.04s/it]Setting `pad_token_id` to `eos_token_id`:None for open-end generation.\n"
     ]
    },
    {
     "name": "stdout",
     "output_type": "stream",
     "text": [
      "origin :  ZU최대9매 ph트밤의_전 _배 경Y 구3\n",
      "cleaned :  최대 9매의 패션 트렌드 밤에 전 세계 유명 패션 브랜드 3곳이 참가합니다.\n"
     ]
    },
    {
     "name": "stderr",
     "output_type": "stream",
     "text": [
      "59it [02:00,  2.03s/it]Setting `pad_token_id` to `eos_token_id`:None for open-end generation.\n"
     ]
    },
    {
     "name": "stdout",
     "output_type": "stream",
     "text": [
      "origin :  고속도W_Y5 v식 E은 운8행e차t구b\n",
      "cleaned :  고속도로에 WY5 모델의 v식 E은행 운행 개시\n"
     ]
    },
    {
     "name": "stderr",
     "output_type": "stream",
     "text": [
      "60it [02:02,  2.03s/it]Setting `pad_token_id` to `eos_token_id`:None for open-end generation.\n"
     ]
    },
    {
     "name": "stdout",
     "output_type": "stream",
     "text": [
      "origin :  3주 사회서비스F 1급 사무장 등 u부 직원 q명 공q\n",
      "cleaned :  사회서비스F 3주 사무장, 직원 1급 부서장 등 2명 공채\n"
     ]
    },
    {
     "name": "stderr",
     "output_type": "stream",
     "text": [
      "61it [02:04,  2.03s/it]Setting `pad_token_id` to `eos_token_id`:None for open-end generation.\n"
     ]
    },
    {
     "name": "stdout",
     "output_type": "stream",
     "text": [
      "origin :  JDs연ZIR역U터미널엔 l성객공항k 관광객I북Zv\n",
      "cleaned :  제주도 관광객들이 제주국제공항과 제주도 유일의 터미널인 제주시로 몰려든다\n"
     ]
    },
    {
     "name": "stderr",
     "output_type": "stream",
     "text": [
      "62it [02:06,  2.03s/it]Setting `pad_token_id` to `eos_token_id`:None for open-end generation.\n"
     ]
    },
    {
     "name": "stdout",
     "output_type": "stream",
     "text": [
      "origin :  세9호 단체들 참사 K보도6BSMBC책임자 8단 공개\n",
      "cleaned :  세번째 9호 단체 참사, KBS, MBC, SBS의 책임자 8명 공개\n"
     ]
    },
    {
     "name": "stderr",
     "output_type": "stream",
     "text": [
      "63it [02:08,  2.03s/it]Setting `pad_token_id` to `eos_token_id`:None for open-end generation.\n"
     ]
    },
    {
     "name": "stdout",
     "output_type": "stream",
     "text": [
      "origin :  RI서i36일째 단J x9wU건강 악화b 병원H_종합\n",
      "cleaned :  RI서 36일째 건강 악화, 병원에 입원\n"
     ]
    },
    {
     "name": "stderr",
     "output_type": "stream",
     "text": [
      "64it [02:10,  2.03s/it]Setting `pad_token_id` to `eos_token_id`:None for open-end generation.\n"
     ]
    },
    {
     "name": "stdout",
     "output_type": "stream",
     "text": [
      "origin :  靑 전d법H폐지s청B에 연v K8sM문v 대B 해W\n",
      "cleaned :  청와대 전방위 법안 폐지에 따른 K8sM문 정부 대응 해법\n"
     ]
    },
    {
     "name": "stderr",
     "output_type": "stream",
     "text": [
      "65it [02:12,  2.04s/it]Setting `pad_token_id` to `eos_token_id`:None for open-end generation.\n"
     ]
    },
    {
     "name": "stdout",
     "output_type": "stream",
     "text": [
      "origin :  _h나19H위기GR복 VU 대타협I나오K이xwYK수령종합\n",
      "cleaned :  KTX와 VU 대타협, 이재명 수령종합\n"
     ]
    },
    {
     "name": "stderr",
     "output_type": "stream",
     "text": [
      "66it [02:14,  2.05s/it]Setting `pad_token_id` to `eos_token_id`:None for open-end generation.\n"
     ]
    },
    {
     "name": "stdout",
     "output_type": "stream",
     "text": [
      "origin :  5j픽R유료방4j점유 및 편 후3전망\n",
      "cleaned :  5월 픽(R) 유료방 4개 점유 및 편 후 3개월 전망\n"
     ]
    },
    {
     "name": "stderr",
     "output_type": "stream",
     "text": [
      "67it [02:16,  2.05s/it]Setting `pad_token_id` to `eos_token_id`:None for open-end generation.\n"
     ]
    },
    {
     "name": "stdout",
     "output_type": "stream",
     "text": [
      "origin :  한국기자8 창립P15년 9념m\n",
      "cleaned :  한국기자협회 15주년 기념식\n"
     ]
    },
    {
     "name": "stderr",
     "output_type": "stream",
     "text": [
      "68it [02:18,  2.05s/it]Setting `pad_token_id` to `eos_token_id`:None for open-end generation.\n"
     ]
    },
    {
     "name": "stdout",
     "output_type": "stream",
     "text": [
      "origin :  도시가g 국제종P기YZ수Ae서 제출\n",
      "cleaned :  도시가 국제종교재단에서 제출\n"
     ]
    },
    {
     "name": "stderr",
     "output_type": "stream",
     "text": [
      "69it [02:20,  2.05s/it]Setting `pad_token_id` to `eos_token_id`:None for open-end generation.\n"
     ]
    },
    {
     "name": "stdout",
     "output_type": "stream",
     "text": [
      "origin :  게한국sdc 대구사회qU모금회에 5억zO기부\n",
      "cleaned :  한국사회복지공동모금회에 5억 기부\n"
     ]
    },
    {
     "name": "stderr",
     "output_type": "stream",
     "text": [
      "70it [02:22,  2.06s/it]Setting `pad_token_id` to `eos_token_id`:None for open-end generation.\n"
     ]
    },
    {
     "name": "stdout",
     "output_type": "stream",
     "text": [
      "origin :  Vc노조 주52시간 교제 kHv\n",
      "cleaned :  Vc노조, 주 52시간 노동제 도입을 촉구합니다\n"
     ]
    },
    {
     "name": "stderr",
     "output_type": "stream",
     "text": [
      "71it [02:24,  2.06s/it]Setting `pad_token_id` to `eos_token_id`:None for open-end generation.\n"
     ]
    },
    {
     "name": "stdout",
     "output_type": "stream",
     "text": [
      "origin :  이총l8히po3q대4시C8구b장L 등에e소홀 없T _n\n",
      "cleaned :  이달 8일 오후 4시 구장에서 대규모 행사가 열림\n"
     ]
    },
    {
     "name": "stderr",
     "output_type": "stream",
     "text": [
      "72it [02:26,  2.06s/it]Setting `pad_token_id` to `eos_token_id`:None for open-end generation.\n"
     ]
    },
    {
     "name": "stdout",
     "output_type": "stream",
     "text": [
      "origin :  인항 무n열cV화재 가정한비Hc\n",
      "cleaned :  인항 무너진 열차 화재로 한 사람이 숨졌다\n"
     ]
    },
    {
     "name": "stderr",
     "output_type": "stream",
     "text": [
      "73it [02:28,  2.07s/it]Setting `pad_token_id` to `eos_token_id`:None for open-end generation.\n"
     ]
    },
    {
     "name": "stdout",
     "output_type": "stream",
     "text": [
      "origin :  2026년 민간 우주개발시대 연다달착륙은 2030년 목표종합\n",
      "cleaned :  2026년 민간 우주개발 시대 열린다, 달 착륙은 2030년 목표로 종합\n"
     ]
    },
    {
     "name": "stderr",
     "output_type": "stream",
     "text": [
      "74it [02:30,  2.06s/it]Setting `pad_token_id` to `eos_token_id`:None for open-end generation.\n"
     ]
    },
    {
     "name": "stdout",
     "output_type": "stream",
     "text": [
      "origin :  거제 E0 v월간 출입제한동계정비 b 내S 3j1일 재개방\n",
      "cleaned :  거제 E0 월간 출입제한 동계정비 b 내S 3일 재개방\n"
     ]
    },
    {
     "name": "stderr",
     "output_type": "stream",
     "text": [
      "75it [02:33,  2.07s/it]Setting `pad_token_id` to `eos_token_id`:None for open-end generation.\n"
     ]
    },
    {
     "name": "stdout",
     "output_type": "stream",
     "text": [
      "origin :  보통신산업진흥원 7후보 3수 압축\n",
      "cleaned :  보통신산업진흥원, 7명의 후보 3차 압축\n"
     ]
    },
    {
     "name": "stderr",
     "output_type": "stream",
     "text": [
      "76it [02:35,  2.06s/it]Setting `pad_token_id` to `eos_token_id`:None for open-end generation.\n"
     ]
    },
    {
     "name": "stdout",
     "output_type": "stream",
     "text": [
      "origin :  5산 초Q학생 3명9가RE진김Th접b8P치원q확\n",
      "cleaned :  5산 초등학교 학생 3명, 9가 RE 진 김 치원 확진\n"
     ]
    },
    {
     "name": "stderr",
     "output_type": "stream",
     "text": [
      "77it [02:37,  2.08s/it]Setting `pad_token_id` to `eos_token_id`:None for open-end generation.\n"
     ]
    },
    {
     "name": "stdout",
     "output_type": "stream",
     "text": [
      "origin :  v산교육d 지방r무원T6Z3명 정기인K승진 136명 R 2y명\n",
      "cleaned :  제목없음\n"
     ]
    },
    {
     "name": "stderr",
     "output_type": "stream",
     "text": [
      "78it [02:39,  2.08s/it]Setting `pad_token_id` to `eos_token_id`:None for open-end generation.\n"
     ]
    },
    {
     "name": "stdout",
     "output_type": "stream",
     "text": [
      "origin :  D5기자_회iP219 원SdW 125z작LQ선정\n",
      "cleaned :  디지털 5기자, 원스톱 데이트 선정\n"
     ]
    },
    {
     "name": "stderr",
     "output_type": "stream",
     "text": [
      "79it [02:41,  2.08s/it]Setting `pad_token_id` to `eos_token_id`:None for open-end generation.\n"
     ]
    },
    {
     "name": "stdout",
     "output_type": "stream",
     "text": [
      "origin :  LG화학 안k 보 Q 된 사업은 안한다고강도F대책r발표\n",
      "cleaned :  LG화학, 안식일에 사업을 하지 않겠다고 강도높게 대처한다\n"
     ]
    },
    {
     "name": "stderr",
     "output_type": "stream",
     "text": [
      "80it [02:43,  2.08s/it]Setting `pad_token_id` to `eos_token_id`:None for open-end generation.\n"
     ]
    },
    {
     "name": "stdout",
     "output_type": "stream",
     "text": [
      "origin :  전교조 E산형 전자mU교체 속w장소4v저\n",
      "cleaned :  전교조, E-산형 전자 무교체 속 저 장소 4위\n"
     ]
    },
    {
     "name": "stderr",
     "output_type": "stream",
     "text": [
      "81it [02:45,  2.06s/it]Setting `pad_token_id` to `eos_token_id`:None for open-end generation.\n"
     ]
    },
    {
     "name": "stdout",
     "output_type": "stream",
     "text": [
      "origin :  A티 아r4 1m고로V갈뼈 골절f주간 C장\n",
      "cleaned :  아티아르 4주간 골절 주간 C장\n"
     ]
    },
    {
     "name": "stderr",
     "output_type": "stream",
     "text": [
      "82it [02:47,  2.07s/it]Setting `pad_token_id` to `eos_token_id`:None for open-end generation.\n"
     ]
    },
    {
     "name": "stdout",
     "output_type": "stream",
     "text": [
      "origin :  강릉R신순원이사실LB깝게CaAK사zH\n",
      "cleaned :  강릉 R 신속 원인 조사실, 사고 원인을 밝혀내고 피해자 지원을 위한 계획을 발표합니다.\n"
     ]
    },
    {
     "name": "stderr",
     "output_type": "stream",
     "text": [
      "83it [02:49,  2.07s/it]Setting `pad_token_id` to `eos_token_id`:None for open-end generation.\n"
     ]
    },
    {
     "name": "stdout",
     "output_type": "stream",
     "text": [
      "origin :  N비p 권마다복되는 논WK5해S책2없나\n",
      "cleaned :  N 비료 생산업체, 권마다 복제되는 논 위키백과 책 2 없나요?\n"
     ]
    },
    {
     "name": "stderr",
     "output_type": "stream",
     "text": [
      "84it [02:51,  2.05s/it]Setting `pad_token_id` to `eos_token_id`:None for open-end generation.\n"
     ]
    },
    {
     "name": "stdout",
     "output_type": "stream",
     "text": [
      "origin :  SNS3보N김영z법 선물도 완화 찬반 격론\n",
      "cleaned :  SNS 3보: 김영자법 선물도 완화, 찬반 격론\n"
     ]
    },
    {
     "name": "stderr",
     "output_type": "stream",
     "text": [
      "85it [02:53,  2.04s/it]Setting `pad_token_id` to `eos_token_id`:None for open-end generation.\n"
     ]
    },
    {
     "name": "stdout",
     "output_type": "stream",
     "text": [
      "origin :  E국인사TU_탓에0국대신 본 cv 2D\n",
      "cleaned :  E국인사 TU 탓에 2D 국가대표팀 본 경험이 없어\n"
     ]
    },
    {
     "name": "stderr",
     "output_type": "stream",
     "text": [
      "86it [02:55,  2.03s/it]Setting `pad_token_id` to `eos_token_id`:None for open-end generation.\n"
     ]
    },
    {
     "name": "stdout",
     "output_type": "stream",
     "text": [
      "origin :  신코F나3관 서 목동 학P 6T2휴원 고I4곳 휴원\n",
      "cleaned :  신코 F3 관서 목동 학원 6곳 휴원\n"
     ]
    },
    {
     "name": "stderr",
     "output_type": "stream",
     "text": [
      "87it [02:57,  2.03s/it]Setting `pad_token_id` to `eos_token_id`:None for open-end generation.\n"
     ]
    },
    {
     "name": "stdout",
     "output_type": "stream",
     "text": [
      "origin :  대x외고 통학차5기사 확진29FE원h수E\n",
      "cleaned :  대치외고 통학버스 5기사 확진, 원주교육청\n"
     ]
    },
    {
     "name": "stderr",
     "output_type": "stream",
     "text": [
      "88it [02:59,  2.02s/it]Setting `pad_token_id` to `eos_token_id`:None for open-end generation.\n"
     ]
    },
    {
     "name": "stdout",
     "output_type": "stream",
     "text": [
      "origin :  데이K 비tx유발 e튜kh등Q동4W광고규제\n",
      "cleaned :  데이트 광고 규제, e테크 기업 4위 기업에 유발\n"
     ]
    },
    {
     "name": "stderr",
     "output_type": "stream",
     "text": [
      "89it [03:01,  2.02s/it]Setting `pad_token_id` to `eos_token_id`:None for open-end generation.\n"
     ]
    },
    {
     "name": "stdout",
     "output_type": "stream",
     "text": [
      "origin :  ZV회의Mz사에소설가1yR성폭Gj히 처할 것\n",
      "cleaned :  소설가 1명, Mz사에 성폭행 의혹으로 징계 처할 것\n"
     ]
    },
    {
     "name": "stderr",
     "output_type": "stream",
     "text": [
      "90it [03:03,  2.02s/it]Setting `pad_token_id` to `eos_token_id`:None for open-end generation.\n"
     ]
    },
    {
     "name": "stdout",
     "output_type": "stream",
     "text": [
      "origin :  국B디인 50원규 중신청피소\n",
      "cleaned :  국민B디에 인 50원 규중 신청 피소\n"
     ]
    },
    {
     "name": "stderr",
     "output_type": "stream",
     "text": [
      "91it [03:05,  2.02s/it]Setting `pad_token_id` to `eos_token_id`:None for open-end generation.\n"
     ]
    },
    {
     "name": "stdout",
     "output_type": "stream",
     "text": [
      "origin :  1폭a Mp넥wE박2원q조상qj25일 x찰 FwH사\n",
      "cleaned :  1부와 2부로 나누어 진행되는 박물관 조상 축제 25일 개최\n"
     ]
    },
    {
     "name": "stderr",
     "output_type": "stream",
     "text": [
      "92it [03:07,  2.02s/it]Setting `pad_token_id` to `eos_token_id`:None for open-end generation.\n"
     ]
    },
    {
     "name": "stdout",
     "output_type": "stream",
     "text": [
      "origin :  v남도 P이버OZ뉴스에 지역 언론5포함 O식 요청\n",
      "cleaned :  부산 남구 피버OZ뉴스에 지역 언론 5곳 포함 오식 요청\n"
     ]
    },
    {
     "name": "stderr",
     "output_type": "stream",
     "text": [
      "93it [03:09,  2.01s/it]Setting `pad_token_id` to `eos_token_id`:None for open-end generation.\n"
     ]
    },
    {
     "name": "stdout",
     "output_type": "stream",
     "text": [
      "origin :  MBC Jq 블랙리트v방출상명단 y재 확x\n",
      "cleaned :  MBC의 블랙리스트 VOD 방출 예정\n"
     ]
    },
    {
     "name": "stderr",
     "output_type": "stream",
     "text": [
      "94it [03:11,  2.02s/it]Setting `pad_token_id` to `eos_token_id`:None for open-end generation.\n"
     ]
    },
    {
     "name": "stdout",
     "output_type": "stream",
     "text": [
      "origin :  코yN19재산V전V 8mx8교서2등ky 해w또 최다t합\n",
      "cleaned :  코로나19 재난지원금 8만 8천 원 지급, 해운대 최다 합계\n"
     ]
    },
    {
     "name": "stderr",
     "output_type": "stream",
     "text": [
      "95it [03:13,  2.02s/it]Setting `pad_token_id` to `eos_token_id`:None for open-end generation.\n"
     ]
    },
    {
     "name": "stdout",
     "output_type": "stream",
     "text": [
      "origin :  네이6 인8VT Z7nx 시범서비스 개시\n",
      "cleaned :  네이버 N8 VT Z7 서비스 개시\n"
     ]
    },
    {
     "name": "stderr",
     "output_type": "stream",
     "text": [
      "96it [03:15,  2.02s/it]Setting `pad_token_id` to `eos_token_id`:None for open-end generation.\n"
     ]
    },
    {
     "name": "stdout",
     "output_type": "stream",
     "text": [
      "origin :  기신문Q임 편w장D안병현m전0s설실\n",
      "cleaned :  기신문 Q의 편집장, 안병현 전 의원\n"
     ]
    },
    {
     "name": "stderr",
     "output_type": "stream",
     "text": [
      "97it [03:17,  2.02s/it]Setting `pad_token_id` to `eos_token_id`:None for open-end generation.\n"
     ]
    },
    {
     "name": "stdout",
     "output_type": "stream",
     "text": [
      "origin :  eN가지z 음L료j상 198개1최대 esS개확A\n",
      "cleaned :  음료 198개 1최대 에스씨가 확대\n"
     ]
    },
    {
     "name": "stderr",
     "output_type": "stream",
     "text": [
      "98it [03:19,  2.02s/it]Setting `pad_token_id` to `eos_token_id`:None for open-end generation.\n"
     ]
    },
    {
     "name": "stdout",
     "output_type": "stream",
     "text": [
      "origin :  게시판 KTx1등 bm숍 1과Ea 개d\n",
      "cleaned :  KTX 1호선 방향판 KTX1등 판매 중\n"
     ]
    },
    {
     "name": "stderr",
     "output_type": "stream",
     "text": [
      "99it [03:21,  2.02s/it]Setting `pad_token_id` to `eos_token_id`:None for open-end generation.\n"
     ]
    },
    {
     "name": "stdout",
     "output_type": "stream",
     "text": [
      "origin :  이녹스 1분기 영업이익 17억원76 감소\n",
      "cleaned :  이녹스 1분기 영업이익 17억원 감소\n"
     ]
    },
    {
     "name": "stderr",
     "output_type": "stream",
     "text": [
      "100it [03:23,  2.01s/it]Setting `pad_token_id` to `eos_token_id`:None for open-end generation.\n"
     ]
    },
    {
     "name": "stdout",
     "output_type": "stream",
     "text": [
      "origin :  한일I몽골 전문_r미세먼 해 위해 at았다\n",
      "cleaned :  한일 몽골 전문가, 미세먼지 해법 찾았다\n"
     ]
    },
    {
     "name": "stderr",
     "output_type": "stream",
     "text": [
      "101it [03:25,  2.01s/it]Setting `pad_token_id` to `eos_token_id`:None for open-end generation.\n"
     ]
    },
    {
     "name": "stdout",
     "output_type": "stream",
     "text": [
      "origin :  R b대 콩 개s대학10N 중고교y학t들 수업거5\n",
      "cleaned :  서울대학교, 한국과학기술원(KAIST)과 함께 대학원생을 위한 중고교 수학캠프 개최\n"
     ]
    },
    {
     "name": "stderr",
     "output_type": "stream",
     "text": [
      "102it [03:27,  2.01s/it]Setting `pad_token_id` to `eos_token_id`:None for open-end generation.\n"
     ]
    },
    {
     "name": "stdout",
     "output_type": "stream",
     "text": [
      "origin :  신입5어b는U공U6 o3 없는 e2\n",
      "cleaned :  신입 5년차 공무원 6명은 자격이 없는\n"
     ]
    },
    {
     "name": "stderr",
     "output_type": "stream",
     "text": [
      "103it [03:29,  2.01s/it]Setting `pad_token_id` to `eos_token_id`:None for open-end generation.\n"
     ]
    },
    {
     "name": "stdout",
     "output_type": "stream",
     "text": [
      "origin :  nb돌파 GO까與3검혁H先처리1카드 r 깬E\n",
      "cleaned :  GO카드와 3검역 카드, 1차 처리 완료\n"
     ]
    },
    {
     "name": "stderr",
     "output_type": "stream",
     "text": [
      "104it [03:31,  2.01s/it]Setting `pad_token_id` to `eos_token_id`:None for open-end generation.\n"
     ]
    },
    {
     "name": "stdout",
     "output_type": "stream",
     "text": [
      "origin :  SKT 갤럭시 A8 스타 단독 출시\n",
      "cleaned :  SK텔레콤, 갤럭시 A8 스타 출시\n"
     ]
    },
    {
     "name": "stderr",
     "output_type": "stream",
     "text": [
      "105it [03:33,  2.02s/it]Setting `pad_token_id` to `eos_token_id`:None for open-end generation.\n"
     ]
    },
    {
     "name": "stdout",
     "output_type": "stream",
     "text": [
      "origin :  담한W표으로KH임식 zo하는 A열\n",
      "cleaned :  담양군 한우 표로 KH임식 개최\n"
     ]
    },
    {
     "name": "stderr",
     "output_type": "stream",
     "text": [
      "106it [03:35,  2.02s/it]Setting `pad_token_id` to `eos_token_id`:None for open-end generation.\n"
     ]
    },
    {
     "name": "stdout",
     "output_type": "stream",
     "text": [
      "origin :  A2조 충j지부p교a동6 생 WNiC\n",
      "cleaned :  A2조 충치부 교동 6 생 WNIC\n"
     ]
    },
    {
     "name": "stderr",
     "output_type": "stream",
     "text": [
      "107it [03:37,  2.01s/it]Setting `pad_token_id` to `eos_token_id`:None for open-end generation.\n"
     ]
    },
    {
     "name": "stdout",
     "output_type": "stream",
     "text": [
      "origin :  거Kw 안랩 불성nU공시법인Z\n",
      "cleaned :  안랩 불성공 공시 법인\n"
     ]
    },
    {
     "name": "stderr",
     "output_type": "stream",
     "text": [
      "108it [03:39,  2.01s/it]Setting `pad_token_id` to `eos_token_id`:None for open-end generation.\n"
     ]
    },
    {
     "name": "stdout",
     "output_type": "stream",
     "text": [
      "origin :  매x ZK실E1 0뤄지는U서울에 M의 8래를 봤다\n",
      "cleaned :  서울에서 M8 래버린스 실황을 본다\n"
     ]
    },
    {
     "name": "stderr",
     "output_type": "stream",
     "text": [
      "109it [03:41,  2.02s/it]Setting `pad_token_id` to `eos_token_id`:None for open-end generation.\n"
     ]
    },
    {
     "name": "stdout",
     "output_type": "stream",
     "text": [
      "origin :  영상a꼭두 O야기_김W안 r젠가h 저도저승갈 이 오Y9\n",
      "cleaned :  영상: 오야기 김 씨가 저도 저승갈\n"
     ]
    },
    {
     "name": "stderr",
     "output_type": "stream",
     "text": [
      "110it [03:44,  2.02s/it]Setting `pad_token_id` to `eos_token_id`:None for open-end generation.\n"
     ]
    },
    {
     "name": "stdout",
     "output_type": "stream",
     "text": [
      "origin :  충북교노조도교육청137M항 i3협약 C결\n",
      "cleaned :  제목없음\n"
     ]
    },
    {
     "name": "stderr",
     "output_type": "stream",
     "text": [
      "111it [03:46,  2.02s/it]Setting `pad_token_id` to `eos_token_id`:None for open-end generation.\n"
     ]
    },
    {
     "name": "stdout",
     "output_type": "stream",
     "text": [
      "origin :  LG G7 씽z 디플레이 M LCDx표기고 적q성 논n\n",
      "cleaned :  LG G7 스마트폰, 디스플레이 M LCD 표기와 적색 논란\n"
     ]
    },
    {
     "name": "stderr",
     "output_type": "stream",
     "text": [
      "112it [03:48,  2.02s/it]Setting `pad_token_id` to `eos_token_id`:None for open-end generation.\n"
     ]
    },
    {
     "name": "stdout",
     "output_type": "stream",
     "text": [
      "origin :  삼성 23일 갤노트10 70개국 출시9월 130개국으로 확대\n",
      "cleaned :  삼성, 23일 갤럭시 노트 10 70개국 출시, 9월 130개국으로 확대\n"
     ]
    },
    {
     "name": "stderr",
     "output_type": "stream",
     "text": [
      "113it [03:50,  2.02s/it]Setting `pad_token_id` to `eos_token_id`:None for open-end generation.\n"
     ]
    },
    {
     "name": "stdout",
     "output_type": "stream",
     "text": [
      "origin :  베스트셀러 김난도 트렌드 코리아 2020 3주째 1위\n",
      "cleaned :  베스트셀러 김난도 트렌드 코리아 2020 3주째 1위\n"
     ]
    },
    {
     "name": "stderr",
     "output_type": "stream",
     "text": [
      "114it [03:52,  2.02s/it]Setting `pad_token_id` to `eos_token_id`:None for open-end generation.\n"
     ]
    },
    {
     "name": "stdout",
     "output_type": "stream",
     "text": [
      "origin :  작0 시 만족m KBa1J2BXM1위\n",
      "cleaned :  작0 시 만족m KBa1J2BXM1위\n"
     ]
    },
    {
     "name": "stderr",
     "output_type": "stream",
     "text": [
      "115it [03:54,  2.01s/it]Setting `pad_token_id` to `eos_token_id`:None for open-end generation.\n"
     ]
    },
    {
     "name": "stdout",
     "output_type": "stream",
     "text": [
      "origin :  Tj토지g상I시작올 O도로 상0Fu조천M 풀린다\n",
      "cleaned :  토지시장 시작올 0주조천M 풀린다\n"
     ]
    },
    {
     "name": "stderr",
     "output_type": "stream",
     "text": [
      "116it [03:56,  2.01s/it]Setting `pad_token_id` to `eos_token_id`:None for open-end generation.\n"
     ]
    },
    {
     "name": "stdout",
     "output_type": "stream",
     "text": [
      "origin :  SKT 미래 고객 잡는다\n",
      "cleaned :  SK텔레콤, 미래 고객 확보\n"
     ]
    },
    {
     "name": "stderr",
     "output_type": "stream",
     "text": [
      "117it [03:58,  2.01s/it]Setting `pad_token_id` to `eos_token_id`:None for open-end generation.\n"
     ]
    },
    {
     "name": "stdout",
     "output_type": "stream",
     "text": [
      "origin :  부선 천안청주공d D전철화 본격 추진2022년 N공\n",
      "cleaned :  부산-천안-청주간 고속철도 전철화 본격 추진, 2022년 착공 예정\n"
     ]
    },
    {
     "name": "stderr",
     "output_type": "stream",
     "text": [
      "118it [04:00,  2.01s/it]Setting `pad_token_id` to `eos_token_id`:None for open-end generation.\n"
     ]
    },
    {
     "name": "stdout",
     "output_type": "stream",
     "text": [
      "origin :  Su 야 d니 합iL철회소H2J진술한z유족e유수예씨\n",
      "cleaned :  수요일 합의 철회소회 유족 유수예씨 진술\n"
     ]
    },
    {
     "name": "stderr",
     "output_type": "stream",
     "text": [
      "119it [04:02,  2.01s/it]Setting `pad_token_id` to `eos_token_id`:None for open-end generation.\n"
     ]
    },
    {
     "name": "stdout",
     "output_type": "stream",
     "text": [
      "origin :  GP교란 사흘째8s서jZkf조업Iy선운항 b\n",
      "cleaned :  GP교란 사흘째, 조업선 운항 중단\n"
     ]
    },
    {
     "name": "stderr",
     "output_type": "stream",
     "text": [
      "120it [04:04,  2.01s/it]Setting `pad_token_id` to `eos_token_id`:None for open-end generation.\n"
     ]
    },
    {
     "name": "stdout",
     "output_type": "stream",
     "text": [
      "origin :  해 넘긴 장기 파업에 C대O KBS6s 결u퇴s\n",
      "cleaned :  해 넘긴 장기 파업에 대한 대응을 위한 C대O KBS6s 결재\n"
     ]
    },
    {
     "name": "stderr",
     "output_type": "stream",
     "text": [
      "121it [04:06,  2.01s/it]Setting `pad_token_id` to `eos_token_id`:None for open-end generation.\n"
     ]
    },
    {
     "name": "stdout",
     "output_type": "stream",
     "text": [
      "origin :  랜섬어 국l 피해 신고 2건 추가t 4건\n",
      "cleaned :  랜섬웨어 피해 신고 2건 추가, 총 4건\n"
     ]
    },
    {
     "name": "stderr",
     "output_type": "stream",
     "text": [
      "122it [04:08,  2.01s/it]Setting `pad_token_id` to `eos_token_id`:None for open-end generation.\n"
     ]
    },
    {
     "name": "stdout",
     "output_type": "stream",
     "text": [
      "origin :  대X 4번74진자z초_ 자와 X은학년 전2_t가\n",
      "cleaned :  대학생 4학년 74명 자치단체 방문\n"
     ]
    },
    {
     "name": "stderr",
     "output_type": "stream",
     "text": [
      "123it [04:10,  2.01s/it]Setting `pad_token_id` to `eos_token_id`:None for open-end generation.\n"
     ]
    },
    {
     "name": "stdout",
     "output_type": "stream",
     "text": [
      "origin :  온8인Y개학 b두XR원F수 테Rl\n",
      "cleaned :  온라인 교육 8인, XR 기술을 활용한 개학 준비\n"
     ]
    },
    {
     "name": "stderr",
     "output_type": "stream",
     "text": [
      "124it [04:12,  2.01s/it]Setting `pad_token_id` to `eos_token_id`:None for open-end generation.\n"
     ]
    },
    {
     "name": "stdout",
     "output_type": "stream",
     "text": [
      "origin :  선관 j일si0mY국b 첫 C0정책wn회 개\n",
      "cleaned :  선관위 첫 중앙선거관리위원회 정책워크숍 개최\n"
     ]
    },
    {
     "name": "stderr",
     "output_type": "stream",
     "text": [
      "125it [04:14,  2.01s/it]Setting `pad_token_id` to `eos_token_id`:None for open-end generation.\n"
     ]
    },
    {
     "name": "stdout",
     "output_type": "stream",
     "text": [
      "origin :  동천f서양양0C 구간 양j방h31일 재난 tF간VV단\n",
      "cleaned :  동천서 양양 구간 재난 발생 31일간 처리\n"
     ]
    },
    {
     "name": "stderr",
     "output_type": "stream",
     "text": [
      "126it [04:16,  2.01s/it]Setting `pad_token_id` to `eos_token_id`:None for open-end generation.\n"
     ]
    },
    {
     "name": "stdout",
     "output_type": "stream",
     "text": [
      "origin :  L9이노텍pq 호봉w 면지대F업 f인사uIG\n",
      "cleaned :  L9이노텍 인사: 호봉제, 면제대, F업 등\n"
     ]
    },
    {
     "name": "stderr",
     "output_type": "stream",
     "text": [
      "127it [04:18,  2.01s/it]Setting `pad_token_id` to `eos_token_id`:None for open-end generation.\n"
     ]
    },
    {
     "name": "stdout",
     "output_type": "stream",
     "text": [
      "origin :  8e 드라1 재y정재d강조통G8책 보완위해 필Q\n",
      "cleaned :  8대 경제재정자치위원회의 G8책 보완을 위한 필요성 강조\n"
     ]
    },
    {
     "name": "stderr",
     "output_type": "stream",
     "text": [
      "128it [04:20,  2.02s/it]Setting `pad_token_id` to `eos_token_id`:None for open-end generation.\n"
     ]
    },
    {
     "name": "stdout",
     "output_type": "stream",
     "text": [
      "origin :  속보 f희S 고1은 중g기고W 모w 본다s회로 줄g면W작용\n",
      "cleaned :  속보! 고등학교 1학년 학생들은 중학교 교회에서 모여 줄무늬를 입는다.\n"
     ]
    },
    {
     "name": "stderr",
     "output_type": "stream",
     "text": [
      "129it [04:22,  2.02s/it]Setting `pad_token_id` to `eos_token_id`:None for open-end generation.\n"
     ]
    },
    {
     "name": "stdout",
     "output_type": "stream",
     "text": [
      "origin :  이통사 M행 Z속D배상땐 조D심의 중간 종결\n",
      "cleaned :  이통사 M사의 Z회사에 D배상 땐 조D심의 중간 종결\n"
     ]
    },
    {
     "name": "stderr",
     "output_type": "stream",
     "text": [
      "130it [04:24,  2.01s/it]Setting `pad_token_id` to `eos_token_id`:None for open-end generation.\n"
     ]
    },
    {
     "name": "stdout",
     "output_type": "stream",
     "text": [
      "origin :  eO차티리Fp어 외관이미M A개\n",
      "cleaned :  외관이미지 개선에 대한 차티리Fp어의 의견\n"
     ]
    },
    {
     "name": "stderr",
     "output_type": "stream",
     "text": [
      "131it [04:26,  2.01s/it]Setting `pad_token_id` to `eos_token_id`:None for open-end generation.\n"
     ]
    },
    {
     "name": "stdout",
     "output_type": "stream",
     "text": [
      "origin :  G창 k천K 진입도로 방도 승격국P 50V억 지원 4차로 8장\n",
      "cleaned :  한국도로공사, 고속도로 진입도로 확장 지원 4차로 8개 국도로 승격\n"
     ]
    },
    {
     "name": "stderr",
     "output_type": "stream",
     "text": [
      "132it [04:28,  2.01s/it]Setting `pad_token_id` to `eos_token_id`:None for open-end generation.\n"
     ]
    },
    {
     "name": "stdout",
     "output_type": "stream",
     "text": [
      "origin :  충북교육청 노h조합mYfR동K군별 4양한 목소OH용\n",
      "cleaned :  충북교육청 노조, 군별 4개 양한 목소리 사용\n"
     ]
    },
    {
     "name": "stderr",
     "output_type": "stream",
     "text": [
      "133it [04:30,  2.01s/it]Setting `pad_token_id` to `eos_token_id`:None for open-end generation.\n"
     ]
    },
    {
     "name": "stdout",
     "output_type": "stream",
     "text": [
      "origin :  별재난8 주괴산천안 전파사용료l감면\n",
      "cleaned :  별재난 8주기, 주괴산 천안 전파사용료 감면\n"
     ]
    },
    {
     "name": "stderr",
     "output_type": "stream",
     "text": [
      "134it [04:32,  2.01s/it]Setting `pad_token_id` to `eos_token_id`:None for open-end generation.\n"
     ]
    },
    {
     "name": "stdout",
     "output_type": "stream",
     "text": [
      "origin :  Mq8 k수 검K와 금융재I 방 금가분 P각u합\n",
      "cleaned :  한국은행 금리 결정 발표\n"
     ]
    },
    {
     "name": "stderr",
     "output_type": "stream",
     "text": [
      "135it [04:34,  2.01s/it]Setting `pad_token_id` to `eos_token_id`:None for open-end generation.\n"
     ]
    },
    {
     "name": "stdout",
     "output_type": "stream",
     "text": [
      "origin :  b저임tq만원 n약 p행Wh\n",
      "cleaned :  제목없음\n"
     ]
    },
    {
     "name": "stderr",
     "output_type": "stream",
     "text": [
      "136it [04:36,  2.01s/it]Setting `pad_token_id` to `eos_token_id`:None for open-end generation.\n"
     ]
    },
    {
     "name": "stdout",
     "output_type": "stream",
     "text": [
      "origin :  충북e7D년제 대학 록금 H21만원전국 평균 웃돌아\n",
      "cleaned :  충북 e7년제 대학 록금 21만원, 전국 평균 웃돌아\n"
     ]
    },
    {
     "name": "stderr",
     "output_type": "stream",
     "text": [
      "137it [04:38,  2.01s/it]Setting `pad_token_id` to `eos_token_id`:None for open-end generation.\n"
     ]
    },
    {
     "name": "stdout",
     "output_type": "stream",
     "text": [
      "origin :  코로l6c단감C 이지는y고속도z G3성R v려2L\n",
      "cleaned :  코로나19 확산으로 단감 수출이 급격히 감소합니다\n"
     ]
    },
    {
     "name": "stderr",
     "output_type": "stream",
     "text": [
      "138it [04:40,  2.01s/it]Setting `pad_token_id` to `eos_token_id`:None for open-end generation.\n"
     ]
    },
    {
     "name": "stdout",
     "output_type": "stream",
     "text": [
      "origin :  부o역 청w 단기pNBz모집i 수Nn몰려\n",
      "cleaned :  부평역 청년 단기 인턴 모집 수십 몰려\n"
     ]
    },
    {
     "name": "stderr",
     "output_type": "stream",
     "text": [
      "139it [04:42,  2.01s/it]Setting `pad_token_id` to `eos_token_id`:None for open-end generation.\n"
     ]
    },
    {
     "name": "stdout",
     "output_type": "stream",
     "text": [
      "origin :  ktGV조국 r퇴kPM개L 향방은MBC 1p0N 토론\n",
      "cleaned :  ktGV조국은MBC 토론으로 향해\n"
     ]
    },
    {
     "name": "stderr",
     "output_type": "stream",
     "text": [
      "140it [04:44,  2.01s/it]Setting `pad_token_id` to `eos_token_id`:None for open-end generation.\n"
     ]
    },
    {
     "name": "stdout",
     "output_type": "stream",
     "text": [
      "origin :  채널Ax인사_서 검5W착 의혹u기QF 결정\n",
      "cleaned :  채널A 인사, 검찰 5개 부서에 의혹 기사 QF 결정\n"
     ]
    },
    {
     "name": "stderr",
     "output_type": "stream",
     "text": [
      "141it [04:46,  2.02s/it]Setting `pad_token_id` to `eos_token_id`:None for open-end generation.\n"
     ]
    },
    {
     "name": "stdout",
     "output_type": "stream",
     "text": [
      "origin :  q카합성영 은 성vV벌t적용 I돼보완 시급\n",
      "cleaned :  카카오톡 합성영상을 위한 벡터 적용이 시급하다\n"
     ]
    },
    {
     "name": "stderr",
     "output_type": "stream",
     "text": [
      "142it [04:48,  2.02s/it]Setting `pad_token_id` to `eos_token_id`:None for open-end generation.\n"
     ]
    },
    {
     "name": "stdout",
     "output_type": "stream",
     "text": [
      "origin :  퇴S 후 a생Gv막취 C패 후 전위R설8 날v H\n",
      "cleaned :  퇴직 후 S생명보험 사장 취임 후 전위설 날자\n"
     ]
    },
    {
     "name": "stderr",
     "output_type": "stream",
     "text": [
      "143it [04:50,  2.02s/it]Setting `pad_token_id` to `eos_token_id`:None for open-end generation.\n"
     ]
    },
    {
     "name": "stdout",
     "output_type": "stream",
     "text": [
      "origin :  충북교육 l나1o유치s 포 IsF입학 소\n",
      "cleaned :  제목없음\n"
     ]
    },
    {
     "name": "stderr",
     "output_type": "stream",
     "text": [
      "144it [04:52,  2.02s/it]Setting `pad_token_id` to `eos_token_id`:None for open-end generation.\n"
     ]
    },
    {
     "name": "stdout",
     "output_type": "stream",
     "text": [
      "origin :  CJ헬로비전SKB 합병 무효 소송 잇따라LGU 법적 대응\n",
      "cleaned :  CJ헬로비전과 SKB의 합병 무효 소송 잇따르며 LGU가 법적 대응\n"
     ]
    },
    {
     "name": "stderr",
     "output_type": "stream",
     "text": [
      "145it [04:54,  2.02s/it]Setting `pad_token_id` to `eos_token_id`:None for open-end generation.\n"
     ]
    },
    {
     "name": "stdout",
     "output_type": "stream",
     "text": [
      "origin :  셧다q에 줄T3 W리방H2도 코로나 직격w\n",
      "cleaned :  셧다크에 줄T3 W리방H2도 코로나 직격탄\n"
     ]
    },
    {
     "name": "stderr",
     "output_type": "stream",
     "text": [
      "146it [04:56,  2.02s/it]Setting `pad_token_id` to `eos_token_id`:None for open-end generation.\n"
     ]
    },
    {
     "name": "stdout",
     "output_type": "stream",
     "text": [
      "origin :  Ry류 시0 ss자건W 회장 수원 x산F 잠들다ZF\n",
      "cleaned :  류 시0 회장, 수원 염산 화재로 잠들다\n"
     ]
    },
    {
     "name": "stderr",
     "output_type": "stream",
     "text": [
      "147it [04:58,  2.01s/it]Setting `pad_token_id` to `eos_token_id`:None for open-end generation.\n"
     ]
    },
    {
     "name": "stdout",
     "output_type": "stream",
     "text": [
      "origin :  의심자 3에 귀가생Z 돌와 x교생코로gcd사\n",
      "cleaned :  의심자 3명에 대한 귀가 조사 및 교생 코로 GCD사 관계자 조사\n"
     ]
    },
    {
     "name": "stderr",
     "output_type": "stream",
     "text": [
      "148it [05:00,  2.01s/it]Setting `pad_token_id` to `eos_token_id`:None for open-end generation.\n"
     ]
    },
    {
     "name": "stdout",
     "output_type": "stream",
     "text": [
      "origin :  조국U압수수색f검2와 통7 파장한h바미래 핵K진i\n",
      "cleaned :  조국 U 압수수색, 검찰과 통일부 파장, 미래 핵진행에 영향\n"
     ]
    },
    {
     "name": "stderr",
     "output_type": "stream",
     "text": [
      "149it [05:02,  2.02s/it]Setting `pad_token_id` to `eos_token_id`:None for open-end generation.\n"
     ]
    },
    {
     "name": "stdout",
     "output_type": "stream",
     "text": [
      "origin :  강릉원주대X개A일316일e 2주연기\n",
      "cleaned :  강릉원주대학교 개교 31주년 기념식 2주 연기\n"
     ]
    },
    {
     "name": "stderr",
     "output_type": "stream",
     "text": [
      "150it [05:04,  2.01s/it]Setting `pad_token_id` to `eos_token_id`:None for open-end generation.\n"
     ]
    },
    {
     "name": "stdout",
     "output_type": "stream",
     "text": [
      "origin :  61zpUX도j환f안전에 3년6Pk5조원4공급\n",
      "cleaned :  환안에 3년 6조원 공급\n"
     ]
    },
    {
     "name": "stderr",
     "output_type": "stream",
     "text": [
      "151it [05:06,  2.01s/it]Setting `pad_token_id` to `eos_token_id`:None for open-end generation.\n"
     ]
    },
    {
     "name": "stdout",
     "output_type": "stream",
     "text": [
      "origin :  서울은 Y쩌 욕을f0하는 Ea F됐나\n",
      "cleaned :  서울은 Y자 모양의 욕설이 F됐나\n"
     ]
    },
    {
     "name": "stderr",
     "output_type": "stream",
     "text": [
      "152it [05:08,  2.01s/it]Setting `pad_token_id` to `eos_token_id`:None for open-end generation.\n"
     ]
    },
    {
     "name": "stdout",
     "output_type": "stream",
     "text": [
      "origin :  학교1긴급돌 fV 시 x제4각학부모jO지P\n",
      "cleaned :  학교 1 긴급 돌연 폐쇄 제4 학년 학부모 지침\n"
     ]
    },
    {
     "name": "stderr",
     "output_type": "stream",
     "text": [
      "153it [05:10,  2.01s/it]Setting `pad_token_id` to `eos_token_id`:None for open-end generation.\n"
     ]
    },
    {
     "name": "stdout",
     "output_type": "stream",
     "text": [
      "origin :  교s대 청8 하테크yV 조성 황새복x사 W협\n",
      "cleaned :  교통대 청소년 하테크 융합 조성 황새복사 W 협력\n"
     ]
    },
    {
     "name": "stderr",
     "output_type": "stream",
     "text": [
      "154it [05:12,  2.02s/it]Setting `pad_token_id` to `eos_token_id`:None for open-end generation.\n"
     ]
    },
    {
     "name": "stdout",
     "output_type": "stream",
     "text": [
      "origin :  Z정M양대 c정보대학b O동y회장에이w만전Ko향a B장\n",
      "cleaned :  제12회 ZM 양대 정보대학 B동 오동연 회장에 이만전 코향 B 장관\n"
     ]
    },
    {
     "name": "stderr",
     "output_type": "stream",
     "text": [
      "155it [05:14,  2.02s/it]Setting `pad_token_id` to `eos_token_id`:None for open-end generation.\n"
     ]
    },
    {
     "name": "stdout",
     "output_type": "stream",
     "text": [
      "origin :  _심3간 김K 상가에서 GO점 6개 태워종합\n",
      "cleaned :  심3간 김씨 상가에서 6개 가게 태워 종합\n"
     ]
    },
    {
     "name": "stderr",
     "output_type": "stream",
     "text": [
      "156it [05:16,  2.02s/it]Setting `pad_token_id` to `eos_token_id`:None for open-end generation.\n"
     ]
    },
    {
     "name": "stdout",
     "output_type": "stream",
     "text": [
      "origin :  오S 선Ry안 처리O9산경IA 혈투 D의5P\n",
      "cleaned :  오S 선Ry안 처리O9산경IA 혈투 D의5P\n"
     ]
    },
    {
     "name": "stderr",
     "output_type": "stream",
     "text": [
      "157it [05:18,  2.02s/it]Setting `pad_token_id` to `eos_token_id`:None for open-end generation.\n"
     ]
    },
    {
     "name": "stdout",
     "output_type": "stream",
     "text": [
      "origin :  C자dp교a청 by고 직e계고 인LQs교육9S2y억원 투n\n",
      "cleaned :  C자교 청사 청소 직원 교육 9,200억원 투입\n"
     ]
    },
    {
     "name": "stderr",
     "output_type": "stream",
     "text": [
      "158it [05:20,  2.02s/it]Setting `pad_token_id` to `eos_token_id`:None for open-end generation.\n"
     ]
    },
    {
     "name": "stdout",
     "output_type": "stream",
     "text": [
      "origin :  Kl 어린이9교X안전x화단속카메라ut로9펫8확\n",
      "cleaned :  KBS 어린이 9교 차량 안전 화단속 카메라 설치\n"
     ]
    },
    {
     "name": "stderr",
     "output_type": "stream",
     "text": [
      "159it [05:22,  2.02s/it]Setting `pad_token_id` to `eos_token_id`:None for open-end generation.\n"
     ]
    },
    {
     "name": "stdout",
     "output_type": "stream",
     "text": [
      "origin :  한국노총 y주4p일자리yQ하는E주노그6된 목_\n",
      "cleaned :  한국노총, 4주 4일 자리 만들고 6주 노동시간 줄이기로 목표\n"
     ]
    },
    {
     "name": "stderr",
     "output_type": "stream",
     "text": [
      "160it [05:24,  2.01s/it]Setting `pad_token_id` to `eos_token_id`:None for open-end generation.\n"
     ]
    },
    {
     "name": "stdout",
     "output_type": "stream",
     "text": [
      "origin :  해dI 어촌 마 1C4t0에B광R역망4구축\n",
      "cleaned :  해양 어촌 마 1차 개발을 위한 광역역 마관구축\n"
     ]
    },
    {
     "name": "stderr",
     "output_type": "stream",
     "text": [
      "161it [05:26,  2.02s/it]Setting `pad_token_id` to `eos_token_id`:None for open-end generation.\n"
     ]
    },
    {
     "name": "stdout",
     "output_type": "stream",
     "text": [
      "origin :  zD노W W2 중k집위\n",
      "cleaned :  중국 집권당 전국대표대회 (中共十九大)가 개막\n"
     ]
    },
    {
     "name": "stderr",
     "output_type": "stream",
     "text": [
      "162it [05:28,  2.01s/it]Setting `pad_token_id` to `eos_token_id`:None for open-end generation.\n"
     ]
    },
    {
     "name": "stdout",
     "output_type": "stream",
     "text": [
      "origin :  O어코로나 신KY확진I 수 x만Sf심은 금물\n",
      "cleaned :  코로나19 신규 확진자 1만 7천 명, 9천 명은 금요일에 발생\n"
     ]
    },
    {
     "name": "stderr",
     "output_type": "stream",
     "text": [
      "163it [05:30,  2.01s/it]Setting `pad_token_id` to `eos_token_id`:None for open-end generation.\n"
     ]
    },
    {
     "name": "stdout",
     "output_type": "stream",
     "text": [
      "origin :  아폴로13호 선장 LG V30로 47년만에 달 착륙 꿈 이뤘다\n",
      "cleaned :  아폴로 13호의 선장, LG V30으로 47년만에 달 착륙 꿈 이뤘다\n"
     ]
    },
    {
     "name": "stderr",
     "output_type": "stream",
     "text": [
      "164it [05:32,  2.02s/it]Setting `pad_token_id` to `eos_token_id`:None for open-end generation.\n"
     ]
    },
    {
     "name": "stdout",
     "output_type": "stream",
     "text": [
      "origin :  CJ EM 플레디스엔터 지분 51 인수 추진\n",
      "cleaned :  CJ가 플레디스엔터의 51% 지분 인수 추진\n"
     ]
    },
    {
     "name": "stderr",
     "output_type": "stream",
     "text": [
      "165it [05:34,  2.01s/it]Setting `pad_token_id` to `eos_token_id`:None for open-end generation.\n"
     ]
    },
    {
     "name": "stdout",
     "output_type": "stream",
     "text": [
      "origin :  r름끼d도록 2qe사방 Q영 N세 wX\n",
      "cleaned :  여름철 냉방에 대한 2가지 사례와 5가지 원칙\n"
     ]
    },
    {
     "name": "stderr",
     "output_type": "stream",
     "text": [
      "166it [05:36,  2.01s/it]Setting `pad_token_id` to `eos_token_id`:None for open-end generation.\n"
     ]
    },
    {
     "name": "stdout",
     "output_type": "stream",
     "text": [
      "origin :  9살 학대 동 4층P베란다 난간to3 넘어 목숨 건9맨발 _출\n",
      "cleaned :  9살 아동, 4층 베란다 난간에서 넘어져 목숨을 위협받다\n"
     ]
    },
    {
     "name": "stderr",
     "output_type": "stream",
     "text": [
      "167it [05:38,  2.01s/it]Setting `pad_token_id` to `eos_token_id`:None for open-end generation.\n"
     ]
    },
    {
     "name": "stdout",
     "output_type": "stream",
     "text": [
      "origin :  온라 l 3학H 입9H비\n",
      "cleaned :  온라인 3학년 입학비\n"
     ]
    },
    {
     "name": "stderr",
     "output_type": "stream",
     "text": [
      "168it [05:40,  2.01s/it]Setting `pad_token_id` to `eos_token_id`:None for open-end generation.\n"
     ]
    },
    {
     "name": "stdout",
     "output_type": "stream",
     "text": [
      "origin :  게시Z NH6 터r기JS 력Kd rF\n",
      "cleaned :  NH6 터미널 화재 발생\n"
     ]
    },
    {
     "name": "stderr",
     "output_type": "stream",
     "text": [
      "169it [05:42,  2.01s/it]Setting `pad_token_id` to `eos_token_id`:None for open-end generation.\n"
     ]
    },
    {
     "name": "stdout",
     "output_type": "stream",
     "text": [
      "origin :  대전시 내년 생임 급 a만T2원으로 정\n",
      "cleaned :  대전시 내년 생임 급 a만 2원으로 정\n"
     ]
    },
    {
     "name": "stderr",
     "output_type": "stream",
     "text": [
      "170it [05:44,  2.01s/it]Setting `pad_token_id` to `eos_token_id`:None for open-end generation.\n"
     ]
    },
    {
     "name": "stdout",
     "output_type": "stream",
     "text": [
      "origin :  차산업혁명위원 첫 회의v람 중심1정책립 의\n",
      "cleaned :  차 산업 혁명 위원회 첫 회의, 과학 기술 정책립 의결\n"
     ]
    },
    {
     "name": "stderr",
     "output_type": "stream",
     "text": [
      "171it [05:46,  2.01s/it]Setting `pad_token_id` to `eos_token_id`:None for open-end generation.\n"
     ]
    },
    {
     "name": "stdout",
     "output_type": "stream",
     "text": [
      "origin :  경남 총선 경쟁률 25대1양산을 4대1 최고\n",
      "cleaned :  경남 총선 경쟁률 25대 1 양산을 4대 1 최고\n"
     ]
    },
    {
     "name": "stderr",
     "output_type": "stream",
     "text": [
      "172it [05:48,  2.01s/it]Setting `pad_token_id` to `eos_token_id`:None for open-end generation.\n"
     ]
    },
    {
     "name": "stdout",
     "output_type": "stream",
     "text": [
      "origin :  q복 어t 발견 nh남방I80I 상Io8해r낚시C지fP\n",
      "cleaned :  I-80 남부에서 어린 아이가 발견되었습니다.\n"
     ]
    },
    {
     "name": "stderr",
     "output_type": "stream",
     "text": [
      "173it [05:50,  2.01s/it]Setting `pad_token_id` to `eos_token_id`:None for open-end generation.\n"
     ]
    },
    {
     "name": "stdout",
     "output_type": "stream",
     "text": [
      "origin :  코z나0i9규직Zj정규직 E문R비교\n",
      "cleaned :  코리아노디스크 규직과 정규직 E문 비교\n"
     ]
    },
    {
     "name": "stderr",
     "output_type": "stream",
     "text": [
      "174it [05:52,  2.01s/it]Setting `pad_token_id` to `eos_token_id`:None for open-end generation.\n"
     ]
    },
    {
     "name": "stdout",
     "output_type": "stream",
     "text": [
      "origin :  주선9V0주O1p위UK자의 날 U식\n",
      "cleaned :  주선9V0주O1p위UK자의 날 U식\n"
     ]
    },
    {
     "name": "stderr",
     "output_type": "stream",
     "text": [
      "175it [05:54,  2.02s/it]Setting `pad_token_id` to `eos_token_id`:None for open-end generation.\n"
     ]
    },
    {
     "name": "stdout",
     "output_type": "stream",
     "text": [
      "origin :  4외rud 유Au는P아동란 2l9r PCg단\n",
      "cleaned :  4외루디 유아는 아동 란 2019 PCG 단\n"
     ]
    },
    {
     "name": "stderr",
     "output_type": "stream",
     "text": [
      "176it [05:56,  2.01s/it]Setting `pad_token_id` to `eos_token_id`:None for open-end generation.\n"
     ]
    },
    {
     "name": "stdout",
     "output_type": "stream",
     "text": [
      "origin :  랜섬웨어i국내k해 신고j4 추5총 1건q\n",
      "cleaned :  랜섬웨어 국내 피해 신고 추산 1건\n"
     ]
    },
    {
     "name": "stderr",
     "output_type": "stream",
     "text": [
      "177it [05:58,  2.02s/it]Setting `pad_token_id` to `eos_token_id`:None for open-end generation.\n"
     ]
    },
    {
     "name": "stdout",
     "output_type": "stream",
     "text": [
      "origin :  7월 1314일 과총 창립 50주년 기념사업\n",
      "cleaned :  한국과학기술총연합회 7월 13일 창립 50주년 기념사업 시작\n"
     ]
    },
    {
     "name": "stderr",
     "output_type": "stream",
     "text": [
      "178it [06:00,  2.01s/it]Setting `pad_token_id` to `eos_token_id`:None for open-end generation.\n"
     ]
    },
    {
     "name": "stdout",
     "output_type": "stream",
     "text": [
      "origin :  영문 0m공직자W신고 병U9 인넷 발급z가능\n",
      "cleaned :  공직자 신고 병원 인턴 발급 가능\n"
     ]
    },
    {
     "name": "stderr",
     "output_type": "stream",
     "text": [
      "179it [06:02,  2.02s/it]Setting `pad_token_id` to `eos_token_id`:None for open-end generation.\n"
     ]
    },
    {
     "name": "stdout",
     "output_type": "stream",
     "text": [
      "origin :  V8X지00배06G한국노총 신임b위원\n",
      "cleaned :  V8X지00배06G 한국노총 신임 부위원 선출\n"
     ]
    },
    {
     "name": "stderr",
     "output_type": "stream",
     "text": [
      "180it [06:05,  2.02s/it]Setting `pad_token_id` to `eos_token_id`:None for open-end generation.\n"
     ]
    },
    {
     "name": "stdout",
     "output_type": "stream",
     "text": [
      "origin :  i대우전Z서스 국가Me경BY 대통O표창\n",
      "cleaned :  대통령 표창 i대우전차병원, 국가 메달로 인정받다\n"
     ]
    },
    {
     "name": "stderr",
     "output_type": "stream",
     "text": [
      "181it [06:07,  2.01s/it]Setting `pad_token_id` to `eos_token_id`:None for open-end generation.\n"
     ]
    },
    {
     "name": "stdout",
     "output_type": "stream",
     "text": [
      "origin :  hCr직oz괴롭힘 엄벌8iXPDdG고\n",
      "cleaned :  한 기업의 직원 괴롭힘 사건, 엄벌을 받다\n"
     ]
    },
    {
     "name": "stderr",
     "output_type": "stream",
     "text": [
      "182it [06:09,  2.02s/it]Setting `pad_token_id` to `eos_token_id`:None for open-end generation.\n"
     ]
    },
    {
     "name": "stdout",
     "output_type": "stream",
     "text": [
      "origin :  울q곳O서 d주h총 산gB5노5악 중단\n",
      "cleaned :  울산의 도서관 주차장에서 산불 B5노5악 중단\n"
     ]
    },
    {
     "name": "stderr",
     "output_type": "stream",
     "text": [
      "183it [06:11,  2.01s/it]Setting `pad_token_id` to `eos_token_id`:None for open-end generation.\n"
     ]
    },
    {
     "name": "stdout",
     "output_type": "stream",
     "text": [
      "origin :  2독립 100주년도쿄서u서 기념식 거행종합W보\n",
      "cleaned :  2·독립 100주년 기념식 거행, 종합 W 보\n"
     ]
    },
    {
     "name": "stderr",
     "output_type": "stream",
     "text": [
      "184it [06:13,  2.01s/it]Setting `pad_token_id` to `eos_token_id`:None for open-end generation.\n"
     ]
    },
    {
     "name": "stdout",
     "output_type": "stream",
     "text": [
      "origin :  성 추n만 가 박재동 피p7 __책E겠n\n",
      "cleaned :  성추문 가 박재동 피할 수 없는 책이 될 것\n"
     ]
    },
    {
     "name": "stderr",
     "output_type": "stream",
     "text": [
      "185it [06:15,  2.01s/it]Setting `pad_token_id` to `eos_token_id`:None for open-end generation.\n"
     ]
    },
    {
     "name": "stdout",
     "output_type": "stream",
     "text": [
      "origin :  o년 2월JbB감z원 8e 5택iqB f약시스템 가 대\n",
      "cleaned :  2022년 2월 제8차 약시스템 가 대\n"
     ]
    },
    {
     "name": "stderr",
     "output_type": "stream",
     "text": [
      "186it [06:17,  2.01s/it]Setting `pad_token_id` to `eos_token_id`:None for open-end generation.\n"
     ]
    },
    {
     "name": "stdout",
     "output_type": "stream",
     "text": [
      "origin :  용역 사E장 문한 v호H차장\n",
      "cleaned :  용역 사장 문한 차장\n"
     ]
    },
    {
     "name": "stderr",
     "output_type": "stream",
     "text": [
      "187it [06:19,  2.01s/it]Setting `pad_token_id` to `eos_token_id`:None for open-end generation.\n"
     ]
    },
    {
     "name": "stdout",
     "output_type": "stream",
     "text": [
      "origin :  동부산대 제복지 관n1재k4v 제안서 토 착z\n",
      "cleaned :  동부산대학교 제3복지관 건립 제안서 토론회 개최\n"
     ]
    },
    {
     "name": "stderr",
     "output_type": "stream",
     "text": [
      "188it [06:21,  2.01s/it]Setting `pad_token_id` to `eos_token_id`:None for open-end generation.\n"
     ]
    },
    {
     "name": "stdout",
     "output_type": "stream",
     "text": [
      "origin :  軍v들 전용3량 타고 골l장y덕적 해R 심각\n",
      "cleaned :  군부대 전용 3량이 골장대 해역을 지나\n"
     ]
    },
    {
     "name": "stderr",
     "output_type": "stream",
     "text": [
      "189it [06:23,  2.02s/it]Setting `pad_token_id` to `eos_token_id`:None for open-end generation.\n"
     ]
    },
    {
     "name": "stdout",
     "output_type": "stream",
     "text": [
      "origin :  G p 서울 곳 나vo객 적bs 귀sd거\n",
      "cleaned :  서울에서 관광객이 급격히 증가합니다\n"
     ]
    },
    {
     "name": "stderr",
     "output_type": "stream",
     "text": [
      "190it [06:25,  2.02s/it]Setting `pad_token_id` to `eos_token_id`:None for open-end generation.\n"
     ]
    },
    {
     "name": "stdout",
     "output_type": "stream",
     "text": [
      "origin :  문답으0어mX거지T로드맵 n내C\n",
      "cleaned :  문답으로 거짓말 탐지 로드맵 내놓기\n"
     ]
    },
    {
     "name": "stderr",
     "output_type": "stream",
     "text": [
      "191it [06:27,  2.02s/it]Setting `pad_token_id` to `eos_token_id`:None for open-end generation.\n"
     ]
    },
    {
     "name": "stdout",
     "output_type": "stream",
     "text": [
      "origin :  PD호Gx동y와5서면합의로 t제 u정안 발의\n",
      "cleaned :  PD호 Gx동의안과 5서면 합의로 t제 정안 발의\n"
     ]
    },
    {
     "name": "stderr",
     "output_type": "stream",
     "text": [
      "192it [06:29,  2.02s/it]Setting `pad_token_id` to `eos_token_id`:None for open-end generation.\n"
     ]
    },
    {
     "name": "stdout",
     "output_type": "stream",
     "text": [
      "origin :  텅 빈 실 선생님홀K Yq TX C1\n",
      "cleaned :  텅 빈 학교실\n"
     ]
    },
    {
     "name": "stderr",
     "output_type": "stream",
     "text": [
      "193it [06:31,  2.03s/it]\n"
     ]
    },
    {
     "name": "stdout",
     "output_type": "stream",
     "text": [
      "origin :  프로농구 개막 ③ 헤인즈의 1만점양동근의 900스틸\n",
      "cleaned :  프로농구 개막 ③ 헤인즈의 1만점 양동근의 900스틸\n"
     ]
    },
    {
     "name": "stderr",
     "output_type": "stream",
     "text": [
      "0it [00:00, ?it/s]Setting `pad_token_id` to `eos_token_id`:None for open-end generation.\n",
      "1it [00:02,  2.02s/it]Setting `pad_token_id` to `eos_token_id`:None for open-end generation.\n"
     ]
    },
    {
     "name": "stdout",
     "output_type": "stream",
     "text": [
      "origin :  정i 파1 미사z KT 이용기간 2e 단 Q분종U2보\n",
      "cleaned :  KT 이용기간 2분 종료될 예정입니다.\n"
     ]
    },
    {
     "name": "stderr",
     "output_type": "stream",
     "text": [
      "2it [00:04,  2.02s/it]Setting `pad_token_id` to `eos_token_id`:None for open-end generation.\n"
     ]
    },
    {
     "name": "stdout",
     "output_type": "stream",
     "text": [
      "origin :  아이XSI수리0 b대맥3 디dF레 41\n",
      "cleaned :  아이엑스에스아이 수리 0: 디디에프레 41\n"
     ]
    },
    {
     "name": "stderr",
     "output_type": "stream",
     "text": [
      "3it [00:06,  2.02s/it]Setting `pad_token_id` to `eos_token_id`:None for open-end generation.\n"
     ]
    },
    {
     "name": "stdout",
     "output_type": "stream",
     "text": [
      "origin :  생r인증②_D안a제bK 유되면 대J _가끝\n",
      "cleaned :  생명 인증② 대중교통 이용객이 생체인증을 하면 대중교통 결제가 끝난다\n"
     ]
    },
    {
     "name": "stderr",
     "output_type": "stream",
     "text": [
      "4it [00:08,  2.02s/it]Setting `pad_token_id` to `eos_token_id`:None for open-end generation.\n"
     ]
    },
    {
     "name": "stdout",
     "output_type": "stream",
     "text": [
      "origin :  dcST C 생산 인공광Fy에d기보다BS에6활hty적\n",
      "cleaned :  디씨에스씨 생산 인공광년산량이 더 많아졌습니다\n"
     ]
    },
    {
     "name": "stderr",
     "output_type": "stream",
     "text": [
      "5it [00:10,  2.02s/it]Setting `pad_token_id` to `eos_token_id`:None for open-end generation.\n"
     ]
    },
    {
     "name": "stdout",
     "output_type": "stream",
     "text": [
      "origin :  위클스PS플코리아7f 한국서e얼마나 벌을\n",
      "cleaned :  위클스 PS 플레이스테이션 코리아 7: 한국에서 얼마나 벌어?\n"
     ]
    },
    {
     "name": "stderr",
     "output_type": "stream",
     "text": [
      "6it [00:12,  2.03s/it]Setting `pad_token_id` to `eos_token_id`:None for open-end generation.\n"
     ]
    },
    {
     "name": "stdout",
     "output_type": "stream",
     "text": [
      "origin :  찍W fK는 즐거m T졌다5개 카메 LG V40 z큐\n",
      "cleaned :  LG V40은 즐거운 카메라 5개로 출시된다\n"
     ]
    },
    {
     "name": "stderr",
     "output_type": "stream",
     "text": [
      "7it [00:14,  2.03s/it]Setting `pad_token_id` to `eos_token_id`:None for open-end generation.\n"
     ]
    },
    {
     "name": "stdout",
     "output_type": "stream",
     "text": [
      "origin :  F 전ZD78개 tn2a매서 T 체험pjX 련\n",
      "cleaned :  F 전자 78개 중 2개만 매수, T 체험 예정\n"
     ]
    },
    {
     "name": "stderr",
     "output_type": "stream",
     "text": [
      "8it [00:16,  2.03s/it]Setting `pad_token_id` to `eos_token_id`:None for open-end generation.\n"
     ]
    },
    {
     "name": "stdout",
     "output_type": "stream",
     "text": [
      "origin :  LGh UIo에구글kOfNP TG피커 없H _용\n",
      "cleaned :  LG U+와 구글, 픽셀 폰 출시 없이 공동 개발한 AI 카메라 기술\n"
     ]
    },
    {
     "name": "stderr",
     "output_type": "stream",
     "text": [
      "9it [00:18,  2.03s/it]Setting `pad_token_id` to `eos_token_id`:None for open-end generation.\n"
     ]
    },
    {
     "name": "stdout",
     "output_type": "stream",
     "text": [
      "origin :  종이 면 어도삼z중공 3Dxp델로 설 s증받는다\n",
      "cleaned :  종이 면 어도 삼 중공 3D 엑스팩으로 설사 증상 받는다\n"
     ]
    },
    {
     "name": "stderr",
     "output_type": "stream",
     "text": [
      "10it [00:20,  2.03s/it]Setting `pad_token_id` to `eos_token_id`:None for open-end generation.\n"
     ]
    },
    {
     "name": "stdout",
     "output_type": "stream",
     "text": [
      "origin :  올서5외i어s울h증 oIp자Ej역o m\n",
      "cleaned :  올 세계 5대 외식 도시를 선정하다\n"
     ]
    },
    {
     "name": "stderr",
     "output_type": "stream",
     "text": [
      "11it [00:22,  2.03s/it]Setting `pad_token_id` to `eos_token_id`:None for open-end generation.\n"
     ]
    },
    {
     "name": "stdout",
     "output_type": "stream",
     "text": [
      "origin :  ysc럼광합성하h f공장W 개발\n",
      "cleaned :  이산화규소 광합성 하우스 개발\n"
     ]
    },
    {
     "name": "stderr",
     "output_type": "stream",
     "text": [
      "12it [00:24,  2.03s/it]Setting `pad_token_id` to `eos_token_id`:None for open-end generation.\n"
     ]
    },
    {
     "name": "stdout",
     "output_type": "stream",
     "text": [
      "origin :  게판QK텔d크_아이폰4O아이UTyF매 이벤트\n",
      "cleaned :  게판QK텔레콤, 아이폰 4G 이벤트 개최\n"
     ]
    },
    {
     "name": "stderr",
     "output_type": "stream",
     "text": [
      "13it [00:26,  2.02s/it]Setting `pad_token_id` to `eos_token_id`:None for open-end generation.\n"
     ]
    },
    {
     "name": "stdout",
     "output_type": "stream",
     "text": [
      "origin :  삼성 빅스 개발자데KS1B월 서울B 첫 최\n",
      "cleaned :  삼성 빅스 개발자 데스크탑 컴퓨터 서울 첫 최\n"
     ]
    },
    {
     "name": "stderr",
     "output_type": "stream",
     "text": [
      "14it [00:28,  2.02s/it]Setting `pad_token_id` to `eos_token_id`:None for open-end generation.\n"
     ]
    },
    {
     "name": "stdout",
     "output_type": "stream",
     "text": [
      "origin :  알림톡 무단 송pRL5출 카DF징q\n",
      "cleaned :  알림톡 무단 송신\n"
     ]
    },
    {
     "name": "stderr",
     "output_type": "stream",
     "text": [
      "15it [00:30,  2.02s/it]Setting `pad_token_id` to `eos_token_id`:None for open-end generation.\n"
     ]
    },
    {
     "name": "stdout",
     "output_type": "stream",
     "text": [
      "origin :  LGR 러0 타사 고객d대상Wg럭시S8 험단Mu\n",
      "cleaned :  LGR 러브레터: 타사 고객 대상 삼성 갤럭시 S8 광고\n"
     ]
    },
    {
     "name": "stderr",
     "output_type": "stream",
     "text": [
      "16it [00:32,  2.03s/it]Setting `pad_token_id` to `eos_token_id`:None for open-end generation.\n"
     ]
    },
    {
     "name": "stdout",
     "output_type": "stream",
     "text": [
      "origin :  사T인터l7신G Y v3투n해 미래 먹거리ox\n",
      "cleaned :  사T인터l7신G Y v3투n해 미래 먹거리ox\n"
     ]
    },
    {
     "name": "stderr",
     "output_type": "stream",
     "text": [
      "17it [00:34,  2.02s/it]Setting `pad_token_id` to `eos_token_id`:None for open-end generation.\n"
     ]
    },
    {
     "name": "stdout",
     "output_type": "stream",
     "text": [
      "origin :  MLBcom 다저스 3년 연속 WS 유력하지만 우승은 글쎄\n",
      "cleaned :  MLB.com: 다저스 3년 연속 WS 우승 후보지만 우승은 아직 불투명하다\n"
     ]
    },
    {
     "name": "stderr",
     "output_type": "stream",
     "text": [
      "18it [00:36,  2.02s/it]Setting `pad_token_id` to `eos_token_id`:None for open-end generation.\n"
     ]
    },
    {
     "name": "stdout",
     "output_type": "stream",
     "text": [
      "origin :  갤t7 O3E부터 C까q 환불8qBw만원 N도\n",
      "cleaned :  갤럭시 T7 O3E부터 카카오톡 환불 8만원 가능\n"
     ]
    },
    {
     "name": "stderr",
     "output_type": "stream",
     "text": [
      "19it [00:38,  2.04s/it]Setting `pad_token_id` to `eos_token_id`:None for open-end generation.\n"
     ]
    },
    {
     "name": "stdout",
     "output_type": "stream",
     "text": [
      "origin :  미v로사 A2 Y앤상f화 돌입\n",
      "cleaned :  미래로사 A2 Y&F화 시작\n"
     ]
    },
    {
     "name": "stderr",
     "output_type": "stream",
     "text": [
      "20it [00:40,  2.04s/it]Setting `pad_token_id` to `eos_token_id`:None for open-end generation.\n"
     ]
    },
    {
     "name": "stdout",
     "output_type": "stream",
     "text": [
      "origin :  w4하U트 아이폰 n1X7예약vP5\n",
      "cleaned :  아이폰 11 예약 시작\n"
     ]
    },
    {
     "name": "stderr",
     "output_type": "stream",
     "text": [
      "21it [00:42,  2.04s/it]Setting `pad_token_id` to `eos_token_id`:None for open-end generation.\n"
     ]
    },
    {
     "name": "stdout",
     "output_type": "stream",
     "text": [
      "origin :  0 V3 모바일 시큐리티 50k T로드 돌파\n",
      "cleaned :  삼성 갤럭시 S21 5G, 50만 대 판매 돌파\n"
     ]
    },
    {
     "name": "stderr",
     "output_type": "stream",
     "text": [
      "22it [00:44,  2.04s/it]Setting `pad_token_id` to `eos_token_id`:None for open-end generation.\n"
     ]
    },
    {
     "name": "stdout",
     "output_type": "stream",
     "text": [
      "origin :  m시판 코아 Vvg페ogt\n",
      "cleaned :  시판 코리아 화학 페인트\n"
     ]
    },
    {
     "name": "stderr",
     "output_type": "stream",
     "text": [
      "23it [00:46,  2.04s/it]Setting `pad_token_id` to `eos_token_id`:None for open-end generation.\n"
     ]
    },
    {
     "name": "stdout",
     "output_type": "stream",
     "text": [
      "origin :  게판 Bt mTV 앱핑크퐁 튜q 출시\n",
      "cleaned :  게판 Bt mTV 앱핑크퐁 튜토리얼 출시\n"
     ]
    },
    {
     "name": "stderr",
     "output_type": "stream",
     "text": [
      "24it [00:48,  2.03s/it]Setting `pad_token_id` to `eos_token_id`:None for open-end generation.\n"
     ]
    },
    {
     "name": "stdout",
     "output_type": "stream",
     "text": [
      "origin :  그I픽 Y57EE리 결함\n",
      "cleaned :  그리핀 Y57EE 리콜 결함\n"
     ]
    },
    {
     "name": "stderr",
     "output_type": "stream",
     "text": [
      "25it [00:50,  2.03s/it]Setting `pad_token_id` to `eos_token_id`:None for open-end generation.\n"
     ]
    },
    {
     "name": "stdout",
     "output_type": "stream",
     "text": [
      "origin :  M0 AI wth0 선인k6능 분2e천C원 투종합\n",
      "cleaned :  AI가 선인장의 분화 현상을 천천히 원형으로 복원합니다.\n"
     ]
    },
    {
     "name": "stderr",
     "output_type": "stream",
     "text": [
      "26it [00:52,  2.03s/it]Setting `pad_token_id` to `eos_token_id`:None for open-end generation.\n"
     ]
    },
    {
     "name": "stdout",
     "output_type": "stream",
     "text": [
      "origin :  사람 닮아가는 kf의Z손dL이t아 나무의e 조1I공\n",
      "cleaned :  사람과 닮아가는 AI가 나무를 그리는 기술 개발\n"
     ]
    },
    {
     "name": "stderr",
     "output_type": "stream",
     "text": [
      "27it [00:54,  2.03s/it]Setting `pad_token_id` to `eos_token_id`:None for open-end generation.\n"
     ]
    },
    {
     "name": "stdout",
     "output_type": "stream",
     "text": [
      "origin :  Nv엔터이코 가입 43제휴 H대할\n",
      "cleaned :  엔터이코 가입 43, 제휴 H대 할\n"
     ]
    },
    {
     "name": "stderr",
     "output_type": "stream",
     "text": [
      "28it [00:56,  2.03s/it]Setting `pad_token_id` to `eos_token_id`:None for open-end generation.\n"
     ]
    },
    {
     "name": "stdout",
     "output_type": "stream",
     "text": [
      "origin :  서nh구팀btk재 YG핀 상용ol술 세Uo최초 X\n",
      "cleaned :  서영훈 구단주, YG 엔터테인먼트와 최초의 상용술을 맺어\n"
     ]
    },
    {
     "name": "stderr",
     "output_type": "stream",
     "text": [
      "29it [00:58,  2.03s/it]Setting `pad_token_id` to `eos_token_id`:None for open-end generation.\n"
     ]
    },
    {
     "name": "stdout",
     "output_type": "stream",
     "text": [
      "origin :  ST 통망 장애시6양자암호키 회 전y 기개발\n",
      "cleaned :  SK텔레콤 통신망 장애로 6억 5,000만 원의 양자암호 키 회전 기 개발\n"
     ]
    },
    {
     "name": "stderr",
     "output_type": "stream",
     "text": [
      "30it [01:00,  2.03s/it]Setting `pad_token_id` to `eos_token_id`:None for open-end generation.\n"
     ]
    },
    {
     "name": "stdout",
     "output_type": "stream",
     "text": [
      "origin :  핵h재처리소듐고속5 e구 지속여qSud J정종x\n",
      "cleaned :  핵재처리소듐고속5 구 지속여부\n"
     ]
    },
    {
     "name": "stderr",
     "output_type": "stream",
     "text": [
      "31it [01:02,  2.03s/it]Setting `pad_token_id` to `eos_token_id`:None for open-end generation.\n"
     ]
    },
    {
     "name": "stdout",
     "output_type": "stream",
     "text": [
      "origin :  돌아온 추위 전북 최저 영하 78도25 눈\n",
      "cleaned :  전북, 추위로 최저 영하 78도 눈\n"
     ]
    },
    {
     "name": "stderr",
     "output_type": "stream",
     "text": [
      "32it [01:04,  2.03s/it]Setting `pad_token_id` to `eos_token_id`:None for open-end generation.\n"
     ]
    },
    {
     "name": "stdout",
     "output_type": "stream",
     "text": [
      "origin :  KTQ5 m반 Ag2O성인식YCg플랫폼\n",
      "cleaned :  KTQ5 m반 Ag2O 성인식 YCg 플랫폼\n"
     ]
    },
    {
     "name": "stderr",
     "output_type": "stream",
     "text": [
      "33it [01:06,  2.02s/it]Setting `pad_token_id` to `eos_token_id`:None for open-end generation.\n"
     ]
    },
    {
     "name": "stdout",
     "output_type": "stream",
     "text": [
      "origin :  애플 올9 출_ iShE13sj개\n",
      "cleaned :  제목없음\n"
     ]
    },
    {
     "name": "stderr",
     "output_type": "stream",
     "text": [
      "34it [01:08,  2.02s/it]Setting `pad_token_id` to `eos_token_id`:None for open-end generation.\n"
     ]
    },
    {
     "name": "stdout",
     "output_type": "stream",
     "text": [
      "origin :  gm 중소기업에aT Ks폼연qu격 공개\n",
      "cleaned :  GM, 중소기업에 aT Ks폼 연계 프로그램 공개\n"
     ]
    },
    {
     "name": "stderr",
     "output_type": "stream",
     "text": [
      "35it [01:10,  2.02s/it]Setting `pad_token_id` to `eos_token_id`:None for open-end generation.\n"
     ]
    },
    {
     "name": "stdout",
     "output_type": "stream",
     "text": [
      "origin :  1콘츠 왜 나한Vv뜨지 페이스북은 r유알려6E\n",
      "cleaned :  1콘텐츠 왜 나한 Vtv에 뜨는지, 페이스북은 유알려 6E\n"
     ]
    },
    {
     "name": "stderr",
     "output_type": "stream",
     "text": [
      "36it [01:12,  2.02s/it]Setting `pad_token_id` to `eos_token_id`:None for open-end generation.\n"
     ]
    },
    {
     "name": "stdout",
     "output_type": "stream",
     "text": [
      "origin :  11월 주식 발행액 전월비 60 증가IPO유상증자\n",
      "cleaned :  11월 주식 발행액 전월비 60% 증가, IPO 유상증자\n"
     ]
    },
    {
     "name": "stderr",
     "output_type": "stream",
     "text": [
      "37it [01:14,  2.02s/it]Setting `pad_token_id` to `eos_token_id`:None for open-end generation.\n"
     ]
    },
    {
     "name": "stdout",
     "output_type": "stream",
     "text": [
      "origin :  pWd 2018 바셀나는 갤럭시Sc 맞 준비한창5천여명 몰릴 W\n",
      "cleaned :  2018 바셀나 국제 컨퍼런스, 갤럭시S 준비, 5천명 이상 참가예정\n"
     ]
    },
    {
     "name": "stderr",
     "output_type": "stream",
     "text": [
      "38it [01:16,  2.02s/it]Setting `pad_token_id` to `eos_token_id`:None for open-end generation.\n"
     ]
    },
    {
     "name": "stdout",
     "output_type": "stream",
     "text": [
      "origin :  콘텐Ww짜 제O u0UK수 위로통신업f술Z종\n",
      "cleaned :  콘텐츠 제거 위로 통신업체 종류\n"
     ]
    },
    {
     "name": "stderr",
     "output_type": "stream",
     "text": [
      "39it [01:18,  2.02s/it]Setting `pad_token_id` to `eos_token_id`:None for open-end generation.\n"
     ]
    },
    {
     "name": "stdout",
     "output_type": "stream",
     "text": [
      "origin :  ZoU 민uA Z0강검진 결bh받rH\n",
      "cleaned :  조우 민우아 주강 검진 결핍받다\n"
     ]
    },
    {
     "name": "stderr",
     "output_type": "stream",
     "text": [
      "40it [01:21,  2.02s/it]Setting `pad_token_id` to `eos_token_id`:None for open-end generation.\n"
     ]
    },
    {
     "name": "stdout",
     "output_type": "stream",
     "text": [
      "origin :  pIc E다가i아마존日7 짝명M u천 망신\n",
      "cleaned :  피츠 에디션, 아마존에서 7일 만에 100만 장 팔렸다\n"
     ]
    },
    {
     "name": "stderr",
     "output_type": "stream",
     "text": [
      "41it [01:23,  2.02s/it]Setting `pad_token_id` to `eos_token_id`:None for open-end generation.\n"
     ]
    },
    {
     "name": "stdout",
     "output_type": "stream",
     "text": [
      "origin :  아프리카tV F트 시장 공략l 엔터社와vMIU\n",
      "cleaned :  아프리카TV, F&T 시장 공략 위해 엔터사와 MOU 체결\n"
     ]
    },
    {
     "name": "stderr",
     "output_type": "stream",
     "text": [
      "42it [01:25,  2.02s/it]Setting `pad_token_id` to `eos_token_id`:None for open-end generation.\n"
     ]
    },
    {
     "name": "stdout",
     "output_type": "stream",
     "text": [
      "origin :  H호c진시T발사o에t 천A안2Q까지 P s한s큰Zk\n",
      "cleaned :  한국항공우주개발청, 천문우주연구원과 협력하여 2022년까지 인공위성 발사를 계획합니다.\n"
     ]
    },
    {
     "name": "stderr",
     "output_type": "stream",
     "text": [
      "43it [01:27,  2.02s/it]Setting `pad_token_id` to `eos_token_id`:None for open-end generation.\n"
     ]
    },
    {
     "name": "stdout",
     "output_type": "stream",
     "text": [
      "origin :  KIp G암 나LN질 개발 이저s쏘 Dr0쥐실X으로 확b\n",
      "cleaned :  Kip G암 난질 개발 이저스쏘 드0쥐실로 확보\n"
     ]
    },
    {
     "name": "stderr",
     "output_type": "stream",
     "text": [
      "44it [01:29,  2.02s/it]Setting `pad_token_id` to `eos_token_id`:None for open-end generation.\n"
     ]
    },
    {
     "name": "stdout",
     "output_type": "stream",
     "text": [
      "origin :  학사회 bYUZG위v3jx술과 i2다\n",
      "cleaned :  한국학사회, 술과 음식을 다루는 연구 발표\n"
     ]
    },
    {
     "name": "stderr",
     "output_type": "stream",
     "text": [
      "45it [01:31,  2.03s/it]Setting `pad_token_id` to `eos_token_id`:None for open-end generation.\n"
     ]
    },
    {
     "name": "stdout",
     "output_type": "stream",
     "text": [
      "origin :  구글의QAI 진화 어디까지f신 얼굴 알e보고 k정 알i준다Uw\n",
      "cleaned :  구글의 AI 진화 어디까지인가? 신 얼굴 알리고 k-정책 알리겠다\n"
     ]
    },
    {
     "name": "stderr",
     "output_type": "stream",
     "text": [
      "46it [01:33,  2.03s/it]Setting `pad_token_id` to `eos_token_id`:None for open-end generation.\n"
     ]
    },
    {
     "name": "stdout",
     "output_type": "stream",
     "text": [
      "origin :  En에6업cuv력Oohqj이지로 바 연결\n",
      "cleaned :  에너지 효율적인 연결로 바닥을 업그레이드하세요\n"
     ]
    },
    {
     "name": "stderr",
     "output_type": "stream",
     "text": [
      "47it [01:35,  2.04s/it]Setting `pad_token_id` to `eos_token_id`:None for open-end generation.\n"
     ]
    },
    {
     "name": "stdout",
     "output_type": "stream",
     "text": [
      "origin :  CQwCZ삼성fW트llc사 긍정 평결rw수시사\n",
      "cleaned :  삼성전자, 긍정적 평결 받아 수시 채용 진행\n"
     ]
    },
    {
     "name": "stderr",
     "output_type": "stream",
     "text": [
      "48it [01:37,  2.03s/it]Setting `pad_token_id` to `eos_token_id`:None for open-end generation.\n"
     ]
    },
    {
     "name": "stdout",
     "output_type": "stream",
     "text": [
      "origin :  LG전자 미국서 G6 사면 구글 홈 준다\n",
      "cleaned :  LG전자 미국서 G6 사면 구글 홈 증정\n"
     ]
    },
    {
     "name": "stderr",
     "output_type": "stream",
     "text": [
      "49it [01:39,  2.03s/it]Setting `pad_token_id` to `eos_token_id`:None for open-end generation.\n"
     ]
    },
    {
     "name": "stdout",
     "output_type": "stream",
     "text": [
      "origin :  티맥 인dAI a업지능으로 즈니생활 혁신\n",
      "cleaned :  티맥스 인공지능으로 삶의 질을 높이는 혁신\n"
     ]
    },
    {
     "name": "stderr",
     "output_type": "stream",
     "text": [
      "50it [01:41,  2.03s/it]Setting `pad_token_id` to `eos_token_id`:None for open-end generation.\n"
     ]
    },
    {
     "name": "stdout",
     "output_type": "stream",
     "text": [
      "origin :  a스템반도체 설F전Z PF 과rm범O\n",
      "cleaned :  삼성전자, 반도체 사업 확장 계획 발표\n"
     ]
    },
    {
     "name": "stderr",
     "output_type": "stream",
     "text": [
      "51it [01:43,  2.03s/it]Setting `pad_token_id` to `eos_token_id`:None for open-end generation.\n"
     ]
    },
    {
     "name": "stdout",
     "output_type": "stream",
     "text": [
      "origin :  MWC 스키점프nVev d한PI글라데r1x아나\n",
      "cleaned :  MWC 스키점프 대회 참가자들\n"
     ]
    },
    {
     "name": "stderr",
     "output_type": "stream",
     "text": [
      "52it [01:45,  2.04s/it]Setting `pad_token_id` to `eos_token_id`:None for open-end generation.\n"
     ]
    },
    {
     "name": "stdout",
     "output_type": "stream",
     "text": [
      "origin :  또 불법1K갤럭qS9hCJ 매장서649만원\n",
      "cleaned :  불법 갤럭시 S9 매장에서 649만원 낙찰\n"
     ]
    },
    {
     "name": "stderr",
     "output_type": "stream",
     "text": [
      "53it [01:47,  2.03s/it]Setting `pad_token_id` to `eos_token_id`:None for open-end generation.\n"
     ]
    },
    {
     "name": "stdout",
     "output_type": "stream",
     "text": [
      "origin :  네이3美 유11인지Nj2회_A문_2편j호평\n",
      "cleaned :  네이버, 유튜브 인공지능 N의 2회 발표\n"
     ]
    },
    {
     "name": "stderr",
     "output_type": "stream",
     "text": [
      "54it [01:49,  2.03s/it]Setting `pad_token_id` to `eos_token_id`:None for open-end generation.\n"
     ]
    },
    {
     "name": "stdout",
     "output_type": "stream",
     "text": [
      "origin :  넥슨 게버진 개발사 아이펀팩리에 전적 투자\n",
      "cleaned :  넥슨, 게임 개발사 아이펀팩리에 전략적 투자\n"
     ]
    },
    {
     "name": "stderr",
     "output_type": "stream",
     "text": [
      "55it [01:51,  2.04s/it]Setting `pad_token_id` to `eos_token_id`:None for open-end generation.\n"
     ]
    },
    {
     "name": "stdout",
     "output_type": "stream",
     "text": [
      "origin :  세f의 대국M구글4수뇌부 서9집결9알파T Ab자\n",
      "cleaned :  세계적인 기업 구글의 CEO와 수뇌부, 알파벳 T 자로 서명\n"
     ]
    },
    {
     "name": "stderr",
     "output_type": "stream",
     "text": [
      "56it [01:53,  2.04s/it]Setting `pad_token_id` to `eos_token_id`:None for open-end generation.\n"
     ]
    },
    {
     "name": "stdout",
     "output_type": "stream",
     "text": [
      "origin :  N용E중3 노트7이미 팔린50만대V어떡나\n",
      "cleaned :  노트7 판매량 50만 대, 삼성전자 중고 시장 영향은?\n"
     ]
    },
    {
     "name": "stderr",
     "output_type": "stream",
     "text": [
      "57it [01:55,  2.04s/it]Setting `pad_token_id` to `eos_token_id`:None for open-end generation.\n"
     ]
    },
    {
     "name": "stdout",
     "output_type": "stream",
     "text": [
      "origin :  이Ar신yY비스장애로O5여간Q천80만명 B해\n",
      "cleaned :  이 시리즈 장애로 5년간 800만명 부담해\n"
     ]
    },
    {
     "name": "stderr",
     "output_type": "stream",
     "text": [
      "58it [01:57,  2.04s/it]Setting `pad_token_id` to `eos_token_id`:None for open-end generation.\n"
     ]
    },
    {
     "name": "stdout",
     "output_type": "stream",
     "text": [
      "origin :  짱기 리MY스C커 누구g8n기가PCTA통l영상\n",
      "cleaned :  짱구 리미트쇼 8기가 PCTA 통화 영상\n"
     ]
    },
    {
     "name": "stderr",
     "output_type": "stream",
     "text": [
      "59it [01:59,  2.04s/it]Setting `pad_token_id` to `eos_token_id`:None for open-end generation.\n"
     ]
    },
    {
     "name": "stdout",
     "output_type": "stream",
     "text": [
      "origin :  1020대는 유튜브 세대하루 44회 52분 본다\n",
      "cleaned :  1020세대, 유튜브를 하루에 44회 52분씩 본다\n"
     ]
    },
    {
     "name": "stderr",
     "output_type": "stream",
     "text": [
      "60it [02:01,  2.06s/it]Setting `pad_token_id` to `eos_token_id`:None for open-end generation.\n"
     ]
    },
    {
     "name": "stdout",
     "output_type": "stream",
     "text": [
      "origin :  X신망8Tc단서U스까지세계 yP5G올림픽 눈앞\n",
      "cleaned :  2020년 8월 세계 5G 올림픽, 눈앞에 다가온다\n"
     ]
    },
    {
     "name": "stderr",
     "output_type": "stream",
     "text": [
      "61it [02:03,  2.06s/it]Setting `pad_token_id` to `eos_token_id`:None for open-end generation.\n"
     ]
    },
    {
     "name": "stdout",
     "output_type": "stream",
     "text": [
      "origin :  디hB Z티G Gw 5큐a_박스 X피e N길\n",
      "cleaned :  디지털 신문 박스와 에디터 길이 인기를 끌고 있다\n"
     ]
    },
    {
     "name": "stderr",
     "output_type": "stream",
     "text": [
      "62it [02:05,  2.06s/it]Setting `pad_token_id` to `eos_token_id`:None for open-end generation.\n"
     ]
    },
    {
     "name": "stdout",
     "output_type": "stream",
     "text": [
      "origin :  갤S9 Q급J전z패키지 나다c5천 한정d판매합U\n",
      "cleaned :  갤럭시 S9 퀄컴 J 전자 패키지, 5천원 할인 한정 판매\n"
     ]
    },
    {
     "name": "stderr",
     "output_type": "stream",
     "text": [
      "63it [02:07,  2.05s/it]Setting `pad_token_id` to `eos_token_id`:None for open-end generation.\n"
     ]
    },
    {
     "name": "stdout",
     "output_type": "stream",
     "text": [
      "origin :  c 타h LG n20 음 애Gh위한 최고의_스마트8\n",
      "cleaned :  LG G5: 최고의 스마트폰 8\n"
     ]
    },
    {
     "name": "stderr",
     "output_type": "stream",
     "text": [
      "64it [02:09,  2.04s/it]Setting `pad_token_id` to `eos_token_id`:None for open-end generation.\n"
     ]
    },
    {
     "name": "stdout",
     "output_type": "stream",
     "text": [
      "origin :  S4Tta위G 실gq y6 Ly z블블zf출시\n",
      "cleaned :  S4T가 실시간 언어 번역 기능을 발표\n"
     ]
    },
    {
     "name": "stderr",
     "output_type": "stream",
     "text": [
      "65it [02:12,  2.04s/it]Setting `pad_token_id` to `eos_token_id`:None for open-end generation.\n"
     ]
    },
    {
     "name": "stdout",
     "output_type": "stream",
     "text": [
      "origin :  PCW5대 글 V드r이 Xym윈도 점B율 최초 Xe\n",
      "cleaned :  PCW 5대 글로벌 게임 개발사 VDRI가 윈도 점유율 최초로 XE로 끌어올렸다.\n"
     ]
    },
    {
     "name": "stderr",
     "output_type": "stream",
     "text": [
      "66it [02:14,  2.03s/it]Setting `pad_token_id` to `eos_token_id`:None for open-end generation.\n"
     ]
    },
    {
     "name": "stdout",
     "output_type": "stream",
     "text": [
      "origin :  대eLs리 o마폰 Zs XW00K출시 C1 7짜\n",
      "cleaned :  대리 오마폰 ZW00K 출시, C1 7짜\n"
     ]
    },
    {
     "name": "stderr",
     "output_type": "stream",
     "text": [
      "67it [02:16,  2.03s/it]Setting `pad_token_id` to `eos_token_id`:None for open-end generation.\n"
     ]
    },
    {
     "name": "stdout",
     "output_type": "stream",
     "text": [
      "origin :  A용간 ZmS SCi앱은 DL네이버 g드 2위\n",
      "cleaned :  한국의 애플, 삼성전자가 네이버의 구글보다 더 빠르게 성장하고 있다\n"
     ]
    },
    {
     "name": "stderr",
     "output_type": "stream",
     "text": [
      "68it [02:18,  2.04s/it]Setting `pad_token_id` to `eos_token_id`:None for open-end generation.\n"
     ]
    },
    {
     "name": "stdout",
     "output_type": "stream",
     "text": [
      "origin :  f론T율주D차 등무인s동s 개발에 100억 투자종\n",
      "cleaned :  롯데칠성음료, 무인지방 개발에 100억 투자\n"
     ]
    },
    {
     "name": "stderr",
     "output_type": "stream",
     "text": [
      "69it [02:20,  2.04s/it]Setting `pad_token_id` to `eos_token_id`:None for open-end generation.\n"
     ]
    },
    {
     "name": "stdout",
     "output_type": "stream",
     "text": [
      "origin :  WSJ 스크린 5함 0란 갤Lb 폴드 조롱 동상\n",
      "cleaned :  WSJ 스크린 5함 0란 갤럭시 폴드 조롱 동상\n"
     ]
    },
    {
     "name": "stderr",
     "output_type": "stream",
     "text": [
      "70it [02:22,  2.04s/it]Setting `pad_token_id` to `eos_token_id`:None for open-end generation.\n"
     ]
    },
    {
     "name": "stdout",
     "output_type": "stream",
     "text": [
      "origin :  KT 더욱 작아지고 간결해진 AI TV 기가지니2 출시\n",
      "cleaned :  KT, AI TV 기가지니 2 출시\n"
     ]
    },
    {
     "name": "stderr",
     "output_type": "stream",
     "text": [
      "71it [02:24,  2.04s/it]Setting `pad_token_id` to `eos_token_id`:None for open-end generation.\n"
     ]
    },
    {
     "name": "stdout",
     "output_type": "stream",
     "text": [
      "origin :  KF 온S x대Z8 시 음성Gc내1제b\n",
      "cleaned :  KBS 1TV 뉴스 8시 50분\n"
     ]
    },
    {
     "name": "stderr",
     "output_type": "stream",
     "text": [
      "72it [02:26,  2.05s/it]Setting `pad_token_id` to `eos_token_id`:None for open-end generation.\n"
     ]
    },
    {
     "name": "stdout",
     "output_type": "stream",
     "text": [
      "origin :  I장 S소o W고 기Gx장비S 세운q\n",
      "cleaned :  삼성전자, 갤럭시 S10 시리즈 출시\n"
     ]
    },
    {
     "name": "stderr",
     "output_type": "stream",
     "text": [
      "73it [02:28,  2.05s/it]Setting `pad_token_id` to `eos_token_id`:None for open-end generation.\n"
     ]
    },
    {
     "name": "stdout",
     "output_type": "stream",
     "text": [
      "origin :  세p P학jE 산l 모인6한국과t영3a 개최\n",
      "cleaned :  세계페스티벌 한국과 일본 개최\n"
     ]
    },
    {
     "name": "stderr",
     "output_type": "stream",
     "text": [
      "74it [02:30,  2.05s/it]Setting `pad_token_id` to `eos_token_id`:None for open-end generation.\n"
     ]
    },
    {
     "name": "stdout",
     "output_type": "stream",
     "text": [
      "origin :  지v 은 d8버글T교통앱r1위i T카오 택시\n",
      "cleaned :  지방 교통 앱이 카카오 택시보다 더 빠르게 버스 위치를 알려줍니다.\n"
     ]
    },
    {
     "name": "stderr",
     "output_type": "stream",
     "text": [
      "75it [02:32,  2.05s/it]Setting `pad_token_id` to `eos_token_id`:None for open-end generation.\n"
     ]
    },
    {
     "name": "stdout",
     "output_type": "stream",
     "text": [
      "origin :  원숭이t7N이U성 아니다r경연이 관건\n",
      "cleaned :  원숭이 뇌 신경계 질환의 원인 탐구, 경쟁이 관건\n"
     ]
    },
    {
     "name": "stderr",
     "output_type": "stream",
     "text": [
      "76it [02:34,  2.04s/it]Setting `pad_token_id` to `eos_token_id`:None for open-end generation.\n"
     ]
    },
    {
     "name": "stdout",
     "output_type": "stream",
     "text": [
      "origin :  E으l W상태알려f는g서 a발I물 속 이용도Q가능\n",
      "cleaned :  어린이 위생 물품 속 이용도 가능\n"
     ]
    },
    {
     "name": "stderr",
     "output_type": "stream",
     "text": [
      "77it [02:36,  2.03s/it]Setting `pad_token_id` to `eos_token_id`:None for open-end generation.\n"
     ]
    },
    {
     "name": "stdout",
     "output_type": "stream",
     "text": [
      "origin :  전국fLX천여t어D 마을 대역s인fF망 구e\n",
      "cleaned :  전국 1천여 개 마을 대역 인프라 개선\n"
     ]
    },
    {
     "name": "stderr",
     "output_type": "stream",
     "text": [
      "78it [02:38,  2.03s/it]Setting `pad_token_id` to `eos_token_id`:None for open-end generation.\n"
     ]
    },
    {
     "name": "stdout",
     "output_type": "stream",
     "text": [
      "origin :  KT 데U 공유 앱 Y데이1d스 가입자 H0 돌p\n",
      "cleaned :  KT의 디지털 플랫폼 공유 앱 Y데이 가입자 100만 돌파\n"
     ]
    },
    {
     "name": "stderr",
     "output_type": "stream",
     "text": [
      "79it [02:40,  2.03s/it]Setting `pad_token_id` to `eos_token_id`:None for open-end generation.\n"
     ]
    },
    {
     "name": "stdout",
     "output_type": "stream",
     "text": [
      "origin :  버 모H일에 음성이미지B검h기능 h 배치\n",
      "cleaned :  버모일에 음성 이미지 B 검출 기능 배치\n"
     ]
    },
    {
     "name": "stderr",
     "output_type": "stream",
     "text": [
      "80it [02:42,  2.03s/it]Setting `pad_token_id` to `eos_token_id`:None for open-end generation.\n"
     ]
    },
    {
     "name": "stdout",
     "output_type": "stream",
     "text": [
      "origin :  회전 카메라 탑재한 갤럭시A80 SKT 단독출시59만9천500원\n",
      "cleaned :  SKT, 회전 카메라 탑재 갤럭시A80 단독출시 59만9천500원\n"
     ]
    },
    {
     "name": "stderr",
     "output_type": "stream",
     "text": [
      "81it [02:44,  2.02s/it]Setting `pad_token_id` to `eos_token_id`:None for open-end generation.\n"
     ]
    },
    {
     "name": "stdout",
     "output_type": "stream",
     "text": [
      "origin :  LE 드j으로 실시간S사0 시 SKT w상재난구조 시스템\n",
      "cleaned :  SKT, SKT와 함께 실시간 S사0 시 LE 드j로 위상 재난 구조 시스템 구축\n"
     ]
    },
    {
     "name": "stderr",
     "output_type": "stream",
     "text": [
      "82it [02:46,  2.02s/it]Setting `pad_token_id` to `eos_token_id`:None for open-end generation.\n"
     ]
    },
    {
     "name": "stdout",
     "output_type": "stream",
     "text": [
      "origin :  새E자인1메라에 매료yp3사 갤럭시S1Z 개통\n",
      "cleaned :  새로운 에이지폰 1세대에 매료된 3사, 갤럭시 S1 출시\n"
     ]
    },
    {
     "name": "stderr",
     "output_type": "stream",
     "text": [
      "83it [02:48,  2.02s/it]Setting `pad_token_id` to `eos_token_id`:None for open-end generation.\n"
     ]
    },
    {
     "name": "stdout",
     "output_type": "stream",
     "text": [
      "origin :  p카자D 첨단f료시스템 yN술개_X협약\n",
      "cleaned :  포스코, 카자흐스탄 첨단 철강 시스템 개발 협약 체결\n"
     ]
    },
    {
     "name": "stderr",
     "output_type": "stream",
     "text": [
      "84it [02:50,  2.02s/it]Setting `pad_token_id` to `eos_token_id`:None for open-end generation.\n"
     ]
    },
    {
     "name": "stdout",
     "output_type": "stream",
     "text": [
      "origin :  삼x f장년 특d 폴더q P마트폰 폴더2 출시\n",
      "cleaned :  삼성 갤럭시 Z 폴드 2 출시\n"
     ]
    },
    {
     "name": "stderr",
     "output_type": "stream",
     "text": [
      "85it [02:52,  2.02s/it]Setting `pad_token_id` to `eos_token_id`:None for open-end generation.\n"
     ]
    },
    {
     "name": "stdout",
     "output_type": "stream",
     "text": [
      "origin :  A성자 시장0 hN페이 w\n",
      "cleaned :  안성시 시장 후보자 발표\n"
     ]
    },
    {
     "name": "stderr",
     "output_type": "stream",
     "text": [
      "86it [02:54,  2.02s/it]Setting `pad_token_id` to `eos_token_id`:None for open-end generation.\n"
     ]
    },
    {
     "name": "stdout",
     "output_type": "stream",
     "text": [
      "origin :  팔 z단 U숭7 마c 인공d움직여뇌신경 재편된다\n",
      "cleaned :  팔 다리의 신경 재편성 수술\n"
     ]
    },
    {
     "name": "stderr",
     "output_type": "stream",
     "text": [
      "87it [02:56,  2.02s/it]Setting `pad_token_id` to `eos_token_id`:None for open-end generation.\n"
     ]
    },
    {
     "name": "stdout",
     "output_type": "stream",
     "text": [
      "origin :  게시판E넷진5 데이터 활용 정d 아이t어gu모\n",
      "cleaned :  게시판 E넷진5 데이터 활용 정아이트어구 모임\n"
     ]
    },
    {
     "name": "stderr",
     "output_type": "stream",
     "text": [
      "88it [02:58,  2.02s/it]Setting `pad_token_id` to `eos_token_id`:None for open-end generation.\n"
     ]
    },
    {
     "name": "stdout",
     "output_type": "stream",
     "text": [
      "origin :  삼성Gm2블p년 30 v시5K갤Sc g6출 전D\n",
      "cleaned :  삼성 갤럭시 S6 5K 슈퍼 AMOLED 디스플레이 탑재, 2015년 2월 출시 예정\n"
     ]
    },
    {
     "name": "stderr",
     "output_type": "stream",
     "text": [
      "89it [03:00,  2.02s/it]Setting `pad_token_id` to `eos_token_id`:None for open-end generation.\n"
     ]
    },
    {
     "name": "stdout",
     "output_type": "stream",
     "text": [
      "origin :  LHEVK0로 촬영P 단편4화6편 뉴욕 필름 페스벌i 화제\n",
      "cleaned :  LHEVK0로 촬영한 단편 영화 4화 6편, 뉴욕 필름 페스티벌에서 화제\n"
     ]
    },
    {
     "name": "stderr",
     "output_type": "stream",
     "text": [
      "90it [03:02,  2.02s/it]Setting `pad_token_id` to `eos_token_id`:None for open-end generation.\n"
     ]
    },
    {
     "name": "stdout",
     "output_type": "stream",
     "text": [
      "origin :  ZH색 갤럭시S8V 나오나\n",
      "cleaned :  삼성 갤럭시 S8의 베젤리스 버전이 출시될까?\n"
     ]
    },
    {
     "name": "stderr",
     "output_type": "stream",
     "text": [
      "91it [03:04,  2.01s/it]Setting `pad_token_id` to `eos_token_id`:None for open-end generation.\n"
     ]
    },
    {
     "name": "stdout",
     "output_type": "stream",
     "text": [
      "origin :  자 리1 장의체1향7Z대로G3eMp Seu\n",
      "cleaned :  자유한국당 의원들, 7월 7일 대정부질문으로 향한다\n"
     ]
    },
    {
     "name": "stderr",
     "output_type": "stream",
     "text": [
      "92it [03:06,  2.02s/it]Setting `pad_token_id` to `eos_token_id`:None for open-end generation.\n"
     ]
    },
    {
     "name": "stdout",
     "output_type": "stream",
     "text": [
      "origin :  여자농구 KB국민은행 20182019 시즌권 11일부터 판매\n",
      "cleaned :  2018-2019 여자농구 KB국민은행 시즌권 11일부터 판매 시작\n"
     ]
    },
    {
     "name": "stderr",
     "output_type": "stream",
     "text": [
      "93it [03:08,  2.02s/it]Setting `pad_token_id` to `eos_token_id`:None for open-end generation.\n"
     ]
    },
    {
     "name": "stdout",
     "output_type": "stream",
     "text": [
      "origin :  SRTY전스N트폰g갤럭시p와드 4 출J28만원대\n",
      "cleaned :  삼성 갤럭시 워드 4, 28만원대에서 출시\n"
     ]
    },
    {
     "name": "stderr",
     "output_type": "stream",
     "text": [
      "94it [03:10,  2.02s/it]Setting `pad_token_id` to `eos_token_id`:None for open-end generation.\n"
     ]
    },
    {
     "name": "stdout",
     "output_type": "stream",
     "text": [
      "origin :  삼성 갤럭시폴드2화C 커지r Y_는 유 UTG6탑재 전망\n",
      "cleaned :  삼성 갤럭시 폴드2 화면 커지는 Y 모델, 유튜브에서 6천만 조회수\n"
     ]
    },
    {
     "name": "stderr",
     "output_type": "stream",
     "text": [
      "95it [03:12,  2.02s/it]Setting `pad_token_id` to `eos_token_id`:None for open-end generation.\n"
     ]
    },
    {
     "name": "stdout",
     "output_type": "stream",
     "text": [
      "origin :  SKT 7맵Q하루 Y자 역1 다600만 달성\n",
      "cleaned :  SK텔레콤 7월 1일 Y자역 1단계 600만 돌파\n"
     ]
    },
    {
     "name": "stderr",
     "output_type": "stream",
     "text": [
      "96it [03:14,  2.01s/it]Setting `pad_token_id` to `eos_token_id`:None for open-end generation.\n"
     ]
    },
    {
     "name": "stdout",
     "output_type": "stream",
     "text": [
      "origin :  베일HS싸인 탑I형 로봇2 평창 성화 e고 첫 a\n",
      "cleaned :  베일을 벗긴 탑 I형 로봇, 평창에서 성화 봉송 e-고에 첫 출발\n"
     ]
    },
    {
     "name": "stderr",
     "output_type": "stream",
     "text": [
      "97it [03:16,  2.02s/it]Setting `pad_token_id` to `eos_token_id`:None for open-end generation.\n"
     ]
    },
    {
     "name": "stdout",
     "output_type": "stream",
     "text": [
      "origin :  jAIST I 월드i 8승\n",
      "cleaned :  일본 AI, 세계 8개국 순위 1위\n"
     ]
    },
    {
     "name": "stderr",
     "output_type": "stream",
     "text": [
      "98it [03:18,  2.02s/it]Setting `pad_token_id` to `eos_token_id`:None for open-end generation.\n"
     ]
    },
    {
     "name": "stdout",
     "output_type": "stream",
     "text": [
      "origin :  몸 큰I식 공룡은 뿔 난 N우 많아\n",
      "cleaned :  몸 큰 이식 공룡은 뿔난 우수가 많다\n"
     ]
    },
    {
     "name": "stderr",
     "output_type": "stream",
     "text": [
      "99it [03:20,  2.02s/it]Setting `pad_token_id` to `eos_token_id`:None for open-end generation.\n"
     ]
    },
    {
     "name": "stdout",
     "output_type": "stream",
     "text": [
      "origin :  n 10년 전 곰팡이 nL h견진3X역 바1\n",
      "cleaned :  10년 전 곰팡이 발견, 건강에 위험\n"
     ]
    },
    {
     "name": "stderr",
     "output_type": "stream",
     "text": [
      "100it [03:22,  2.02s/it]Setting `pad_token_id` to `eos_token_id`:None for open-end generation.\n"
     ]
    },
    {
     "name": "stdout",
     "output_type": "stream",
     "text": [
      "origin :  Q4Dw A실 걱정 LKT 전기fY에x아이출시\n",
      "cleaned :  LKT 전기차 아이디어 발표\n"
     ]
    },
    {
     "name": "stderr",
     "output_type": "stream",
     "text": [
      "101it [03:24,  2.02s/it]Setting `pad_token_id` to `eos_token_id`:None for open-end generation.\n"
     ]
    },
    {
     "name": "stdout",
     "output_type": "stream",
     "text": [
      "origin :  KB증권 2분기 영업익 1천5억원221 증가\n",
      "cleaned :  KB증권 2분기 영업이익 1천5억원 221% 증가\n"
     ]
    },
    {
     "name": "stderr",
     "output_type": "stream",
     "text": [
      "102it [03:26,  2.02s/it]Setting `pad_token_id` to `eos_token_id`:None for open-end generation.\n"
     ]
    },
    {
     "name": "stdout",
     "output_type": "stream",
     "text": [
      "origin :  K BL가지F 키v 콘ltc화자X차G호텔도 쓴다종\n",
      "cleaned :  KB국민은행, 키움증권과 공동개발 차세대 호텔도 쓴다\n"
     ]
    },
    {
     "name": "stderr",
     "output_type": "stream",
     "text": [
      "103it [03:28,  2.02s/it]Setting `pad_token_id` to `eos_token_id`:None for open-end generation.\n"
     ]
    },
    {
     "name": "stdout",
     "output_type": "stream",
     "text": [
      "origin :  시 과기정통부 f방qB비 시서y국내 K스w시V\n",
      "cleaned :  과기정통부, 국내 K-시장에 집중\n"
     ]
    },
    {
     "name": "stderr",
     "output_type": "stream",
     "text": [
      "104it [03:30,  2.02s/it]Setting `pad_token_id` to `eos_token_id`:None for open-end generation.\n"
     ]
    },
    {
     "name": "stdout",
     "output_type": "stream",
     "text": [
      "origin :  NI9n 아_트R관비T c려i다조회기능fi가\n",
      "cleaned :  니콘 D850의 후속 제품 출시 예정\n"
     ]
    },
    {
     "name": "stderr",
     "output_type": "stream",
     "text": [
      "105it [03:32,  2.02s/it]Setting `pad_token_id` to `eos_token_id`:None for open-end generation.\n"
     ]
    },
    {
     "name": "stdout",
     "output_type": "stream",
     "text": [
      "origin :  zG츠 y디지털 객체 DOI 국내m서등록 관리한다\n",
      "cleaned :  한국 DOI 센터, 국내 디지털 객체 관리한다\n"
     ]
    },
    {
     "name": "stderr",
     "output_type": "stream",
     "text": [
      "106it [03:34,  2.02s/it]Setting `pad_token_id` to `eos_token_id`:None for open-end generation.\n"
     ]
    },
    {
     "name": "stdout",
     "output_type": "stream",
     "text": [
      "origin :  럭시J8n약판ZE72만B천_ v파혁7Z8했다q1\n",
      "cleaned :  삼성 갤럭시 J8의 약자판, ZE72만 B천원에 출시\n"
     ]
    },
    {
     "name": "stderr",
     "output_type": "stream",
     "text": [
      "107it [03:36,  2.01s/it]Setting `pad_token_id` to `eos_token_id`:None for open-end generation.\n"
     ]
    },
    {
     "name": "stdout",
     "output_type": "stream",
     "text": [
      "origin :  AT지란지교 문j보안q라O 비스 종 출R\n",
      "cleaned :  AT 지휘관, 문재인 대통령 비서실 종로 본부 출근\n"
     ]
    },
    {
     "name": "stderr",
     "output_type": "stream",
     "text": [
      "108it [03:38,  2.01s/it]Setting `pad_token_id` to `eos_token_id`:None for open-end generation.\n"
     ]
    },
    {
     "name": "stdout",
     "output_type": "stream",
     "text": [
      "origin :  갤S81호 개통하다SfJ 장 앞 5박S일 노숙 _I\n",
      "cleaned :  갤럭시 S8 1호기가 개통되다, 서울 지하철 1호선 앞에서 5박 1일의 노숙\n"
     ]
    },
    {
     "name": "stderr",
     "output_type": "stream",
     "text": [
      "109it [03:41,  2.02s/it]Setting `pad_token_id` to `eos_token_id`:None for open-end generation.\n"
     ]
    },
    {
     "name": "stdout",
     "output_type": "stream",
     "text": [
      "origin :  KIC6 유기태양전지G 고Yf 개발m기전J도 5배\n",
      "cleaned :  한국산 유기태양전지의 효율이 5배로 향상되었습니다.\n"
     ]
    },
    {
     "name": "stderr",
     "output_type": "stream",
     "text": [
      "110it [03:43,  2.02s/it]Setting `pad_token_id` to `eos_token_id`:None for open-end generation.\n"
     ]
    },
    {
     "name": "stdout",
     "output_type": "stream",
     "text": [
      "origin :  국내 ICT업계lGk통1 202년 2c조추\n",
      "cleaned :  2022년 국내 ICT 산업 전망: LGK 통신 기업의 2조원 규모의 투자 추진\n"
     ]
    },
    {
     "name": "stderr",
     "output_type": "stream",
     "text": [
      "111it [03:45,  2.02s/it]Setting `pad_token_id` to `eos_token_id`:None for open-end generation.\n"
     ]
    },
    {
     "name": "stdout",
     "output_type": "stream",
     "text": [
      "origin :  과천에5연내R국 i관9조과ED학방사 협약\n",
      "cleaned :  과천에 5년 내에 9조 원 규모의 R&D 학부모 협약 체결\n"
     ]
    },
    {
     "name": "stderr",
     "output_type": "stream",
     "text": [
      "112it [03:47,  2.02s/it]Setting `pad_token_id` to `eos_token_id`:None for open-end generation.\n"
     ]
    },
    {
     "name": "stdout",
     "output_type": "stream",
     "text": [
      "origin :  삼_A 노트c V터리 불ZN묵인 i 아hi\n",
      "cleaned :  삼성 노트7 폭발사고\n"
     ]
    },
    {
     "name": "stderr",
     "output_type": "stream",
     "text": [
      "113it [03:49,  2.02s/it]Setting `pad_token_id` to `eos_token_id`:None for open-end generation.\n"
     ]
    },
    {
     "name": "stdout",
     "output_type": "stream",
     "text": [
      "origin :  인인해 이룬q9xf U9 언팩Qe9O\n",
      "cleaned :  인인해 이룬 우편번호 9 언팩\n"
     ]
    },
    {
     "name": "stderr",
     "output_type": "stream",
     "text": [
      "114it [03:51,  2.02s/it]Setting `pad_token_id` to `eos_token_id`:None for open-end generation.\n"
     ]
    },
    {
     "name": "stdout",
     "output_type": "stream",
     "text": [
      "origin :  L전자UVrpQ씽큐동통신 사 예약판매 작\n",
      "cleaned :  L전자, UVrpQ씽큐 동통신 사 예약판매 실시\n"
     ]
    },
    {
     "name": "stderr",
     "output_type": "stream",
     "text": [
      "115it [03:53,  2.02s/it]Setting `pad_token_id` to `eos_token_id`:None for open-end generation.\n"
     ]
    },
    {
     "name": "stdout",
     "output_type": "stream",
     "text": [
      "origin :  혈관 속 움Y _모Z 봇n개f자장y로 직t어\n",
      "cleaned :  혈관 속 움푹 들어간 부분, 모자이크 처리되어\n"
     ]
    },
    {
     "name": "stderr",
     "output_type": "stream",
     "text": [
      "116it [03:55,  2.02s/it]Setting `pad_token_id` to `eos_token_id`:None for open-end generation.\n"
     ]
    },
    {
     "name": "stdout",
     "output_type": "stream",
     "text": [
      "origin :  넥슨지티 국외 진출 I해든6i9sa출시D불가피\n",
      "cleaned :  넥슨지티 국외 진출, 海棠6 출시 불가피\n"
     ]
    },
    {
     "name": "stderr",
     "output_type": "stream",
     "text": [
      "117it [03:57,  2.02s/it]Setting `pad_token_id` to `eos_token_id`:None for open-end generation.\n"
     ]
    },
    {
     "name": "stdout",
     "output_type": "stream",
     "text": [
      "origin :  체내 HHX줄세변0상g로 본다 O험으L 확인\n",
      "cleaned :  체내에서 HHX 줄세변 0.9g를 확인한다\n"
     ]
    },
    {
     "name": "stderr",
     "output_type": "stream",
     "text": [
      "118it [03:59,  2.02s/it]Setting `pad_token_id` to `eos_token_id`:None for open-end generation.\n"
     ]
    },
    {
     "name": "stdout",
     "output_type": "stream",
     "text": [
      "origin :  악성드감kIoTR기기 saeS 료법E3려j\n",
      "cleaned :  악성 드론과 IoT 기기 사에 사법 처벌 법률 제정 고려\n"
     ]
    },
    {
     "name": "stderr",
     "output_type": "stream",
     "text": [
      "119it [04:01,  2.03s/it]Setting `pad_token_id` to `eos_token_id`:None for open-end generation.\n"
     ]
    },
    {
     "name": "stdout",
     "output_type": "stream",
     "text": [
      "origin :  K성장하는T1X워치 m장y애플 경가 IF\n",
      "cleaned :  T1X워치, 애플워치 경쟁자로서 성장\n"
     ]
    },
    {
     "name": "stderr",
     "output_type": "stream",
     "text": [
      "120it [04:03,  2.03s/it]Setting `pad_token_id` to `eos_token_id`:None for open-end generation.\n"
     ]
    },
    {
     "name": "stdout",
     "output_type": "stream",
     "text": [
      "origin :  v 5G선통신 핵심 칩9V 성e\n",
      "cleaned :  5G 통신 핵심 칩 개발에 9V 성과\n"
     ]
    },
    {
     "name": "stderr",
     "output_type": "stream",
     "text": [
      "121it [04:05,  2.03s/it]Setting `pad_token_id` to `eos_token_id`:None for open-end generation.\n"
     ]
    },
    {
     "name": "stdout",
     "output_type": "stream",
     "text": [
      "origin :  Ks 코그넥스O5 술MN마t 팩리야 2력\n",
      "cleaned :  코그넥스 O5, 술 마트 팩토리야 2력 발표\n"
     ]
    },
    {
     "name": "stderr",
     "output_type": "stream",
     "text": [
      "122it [04:07,  2.03s/it]Setting `pad_token_id` to `eos_token_id`:None for open-end generation.\n"
     ]
    },
    {
     "name": "stdout",
     "output_type": "stream",
     "text": [
      "origin :  전2k인터넷 A대6t 1상 R명C중 1명꼴O\n",
      "cleaned :  전국 2천만 인터넷 사용자, 1만 6천 대 1 상위 6개 중 1명 꼴로 광고 중계관이 확인되었습니다.\n"
     ]
    },
    {
     "name": "stderr",
     "output_type": "stream",
     "text": [
      "123it [04:09,  2.03s/it]Setting `pad_token_id` to `eos_token_id`:None for open-end generation.\n"
     ]
    },
    {
     "name": "stdout",
     "output_type": "stream",
     "text": [
      "origin :  KT Mz o고 w도v국v해저ei Iz\n",
      "cleaned :  KT MZ세대에게도 고도화된 해저 인터넷 서비스\n"
     ]
    },
    {
     "name": "stderr",
     "output_type": "stream",
     "text": [
      "124it [04:11,  2.03s/it]Setting `pad_token_id` to `eos_token_id`:None for open-end generation.\n"
     ]
    },
    {
     "name": "stdout",
     "output_type": "stream",
     "text": [
      "origin :  KRs리우올림픽 홀로그램6응7 작\n",
      "cleaned :  2022년 리우 올림픽에서 홀로그램 기술이 소개되었습니다.\n"
     ]
    },
    {
     "name": "stderr",
     "output_type": "stream",
     "text": [
      "125it [04:13,  2.02s/it]Setting `pad_token_id` to `eos_token_id`:None for open-end generation.\n"
     ]
    },
    {
     "name": "stdout",
     "output_type": "stream",
     "text": [
      "origin :  P이영3증 신w전자nf 쓰세요지사H 추진\n",
      "cleaned :  피앤지전자, 영등포지사 신축 추진\n"
     ]
    },
    {
     "name": "stderr",
     "output_type": "stream",
     "text": [
      "126it [04:15,  2.02s/it]Setting `pad_token_id` to `eos_token_id`:None for open-end generation.\n"
     ]
    },
    {
     "name": "stdout",
     "output_type": "stream",
     "text": [
      "origin :  LGc 42P T4GZ한 LTt솔GIh검증 K\n",
      "cleaned :  LG 42P T4GZ 한정판 모델의 검증\n"
     ]
    },
    {
     "name": "stderr",
     "output_type": "stream",
     "text": [
      "127it [04:17,  2.02s/it]Setting `pad_token_id` to `eos_token_id`:None for open-end generation.\n"
     ]
    },
    {
     "name": "stdout",
     "output_type": "stream",
     "text": [
      "origin :  강철보4 m i한 차원u그래x구PF O들p다\n",
      "cleaned :  강철보4 미래 차량 기술을 보여줍니다\n"
     ]
    },
    {
     "name": "stderr",
     "output_type": "stream",
     "text": [
      "128it [04:19,  2.02s/it]Setting `pad_token_id` to `eos_token_id`:None for open-end generation.\n"
     ]
    },
    {
     "name": "stdout",
     "output_type": "stream",
     "text": [
      "origin :  임 A국_허찔렀다H켓몬 Q 1풍C 초라A 한국종g\n",
      "cleaned :  한국 종교단체, 허허벌판에 Q1 풍력 발전소 건설 계획\n"
     ]
    },
    {
     "name": "stderr",
     "output_type": "stream",
     "text": [
      "129it [04:21,  2.02s/it]Setting `pad_token_id` to `eos_token_id`:None for open-end generation.\n"
     ]
    },
    {
     "name": "stdout",
     "output_type": "stream",
     "text": [
      "origin :  Kq w휴에jO 서비8걱j마P요\n",
      "cleaned :  휴대폰 서비스 마포구에 불편사항 많아\n"
     ]
    },
    {
     "name": "stderr",
     "output_type": "stream",
     "text": [
      "130it [04:23,  2.02s/it]Setting `pad_token_id` to `eos_token_id`:None for open-end generation.\n"
     ]
    },
    {
     "name": "stdout",
     "output_type": "stream",
     "text": [
      "origin :  학기혁본 제B능3면N예O분 명s b야\n",
      "cleaned :  학기혁본 제3능3면예산안 승인\n"
     ]
    },
    {
     "name": "stderr",
     "output_type": "stream",
     "text": [
      "131it [04:25,  2.02s/it]Setting `pad_token_id` to `eos_token_id`:None for open-end generation.\n"
     ]
    },
    {
     "name": "stdout",
     "output_type": "stream",
     "text": [
      "origin :  카Aj서로야S d보 본다\n",
      "cleaned :  카카오에서 로얄티 보낸다\n"
     ]
    },
    {
     "name": "stderr",
     "output_type": "stream",
     "text": [
      "132it [04:27,  2.02s/it]Setting `pad_token_id` to `eos_token_id`:None for open-end generation.\n"
     ]
    },
    {
     "name": "stdout",
     "output_type": "stream",
     "text": [
      "origin :  눈은 i여도 FD 못 속인다L청의 진ez물D\n",
      "cleaned :  눈은 이여도 금융당국을 속일 수 없다: 청년들의 진정성 있는 물어본다\n"
     ]
    },
    {
     "name": "stderr",
     "output_type": "stream",
     "text": [
      "133it [04:29,  2.02s/it]Setting `pad_token_id` to `eos_token_id`:None for open-end generation.\n"
     ]
    },
    {
     "name": "stdout",
     "output_type": "stream",
     "text": [
      "origin :  u 웨 x 가 5G 외EJ때 4_ a해i눈\n",
      "cleaned :  SK텔레콤, 5G 외 EJ 때 4G 서비스를 해제할 것\n"
     ]
    },
    {
     "name": "stderr",
     "output_type": "stream",
     "text": [
      "134it [04:31,  2.02s/it]Setting `pad_token_id` to `eos_token_id`:None for open-end generation.\n"
     ]
    },
    {
     "name": "stdout",
     "output_type": "stream",
     "text": [
      "origin :  LS3wlEDd풀 Z적8스마트3중cnd세v 최고\n",
      "cleaned :  삼성전자, 스마트 TV 3중세트 판매 최고 기록\n"
     ]
    },
    {
     "name": "stderr",
     "output_type": "stream",
     "text": [
      "135it [04:33,  2.02s/it]Setting `pad_token_id` to `eos_token_id`:None for open-end generation.\n"
     ]
    },
    {
     "name": "stdout",
     "output_type": "stream",
     "text": [
      "origin :  한국 1고속인C넷 가입LH1위기 가입자 10만\n",
      "cleaned :  한국 1위 인터넷 서비스 공급업체 C넷 가입자 10만 명, LH 위기\n"
     ]
    },
    {
     "name": "stderr",
     "output_type": "stream",
     "text": [
      "136it [04:35,  2.02s/it]Setting `pad_token_id` to `eos_token_id`:None for open-end generation.\n"
     ]
    },
    {
     "name": "stdout",
     "output_type": "stream",
     "text": [
      "origin :  美m웨v제재로 LNh OG망 구축SX질 rv까종합\n",
      "cleaned :  미국의 m웨이브 제재로 인해 LNH OG망 구축에 어려움이 예상됩니다.\n"
     ]
    },
    {
     "name": "stderr",
     "output_type": "stream",
     "text": [
      "137it [04:37,  2.02s/it]Setting `pad_token_id` to `eos_token_id`:None for open-end generation.\n"
     ]
    },
    {
     "name": "stdout",
     "output_type": "stream",
     "text": [
      "origin :  삼성 미F기술육사yr TNSk 3vP교6팀c선정\n",
      "cleaned :  삼성 미래기술 육성팀 선정\n"
     ]
    },
    {
     "name": "stderr",
     "output_type": "stream",
     "text": [
      "138it [04:39,  2.02s/it]Setting `pad_token_id` to `eos_token_id`:None for open-end generation.\n"
     ]
    },
    {
     "name": "stdout",
     "output_type": "stream",
     "text": [
      "origin :  5UmDIoT4접n 평창1림K 준비 F착\n",
      "cleaned :  2018 평창 동계 올림픽 준비 완료\n"
     ]
    },
    {
     "name": "stderr",
     "output_type": "stream",
     "text": [
      "139it [04:41,  2.02s/it]Setting `pad_token_id` to `eos_token_id`:None for open-end generation.\n"
     ]
    },
    {
     "name": "stdout",
     "output_type": "stream",
     "text": [
      "origin :  말로하E 대화형 _ 내비 나왔다S8T Tnx구출시종\n",
      "cleaned :  말로하 대화형 내비게이션 S8T 출시\n"
     ]
    },
    {
     "name": "stderr",
     "output_type": "stream",
     "text": [
      "140it [04:43,  2.02s/it]Setting `pad_token_id` to `eos_token_id`:None for open-end generation.\n"
     ]
    },
    {
     "name": "stdout",
     "output_type": "stream",
     "text": [
      "origin :  아이돌라이I i개월_ P만운 돌NNRCyP7H이트\n",
      "cleaned :  아이돌라이 I개월 만운 돌\n"
     ]
    },
    {
     "name": "stderr",
     "output_type": "stream",
     "text": [
      "141it [04:45,  2.02s/it]Setting `pad_token_id` to `eos_token_id`:None for open-end generation.\n"
     ]
    },
    {
     "name": "stdout",
     "output_type": "stream",
     "text": [
      "origin :  LGYO러 제휴알뜰I에 아이폰3GB 공급j가Q0원\n",
      "cleaned :  제목없음\n"
     ]
    },
    {
     "name": "stderr",
     "output_type": "stream",
     "text": [
      "142it [04:47,  2.02s/it]Setting `pad_token_id` to `eos_token_id`:None for open-end generation.\n"
     ]
    },
    {
     "name": "stdout",
     "output_type": "stream",
     "text": [
      "origin :  경W C원상담도 AIky카UI메신srW 3봇 도\n",
      "cleaned :  경찰, AI 카메라로 상담원과 AI 메신저로 대화하는 AI 카이메 3봇 도입\n"
     ]
    },
    {
     "name": "stderr",
     "output_type": "stream",
     "text": [
      "143it [04:49,  2.03s/it]Setting `pad_token_id` to `eos_token_id`:None for open-end generation.\n"
     ]
    },
    {
     "name": "stdout",
     "output_type": "stream",
     "text": [
      "origin :  i이북 본사 q사장 방한SKB페북7대란 입장 설명X듯\n",
      "cleaned :  iBooks 본사 사장 방한, SKB Facebook 7대 논란 입장 설명\n"
     ]
    },
    {
     "name": "stderr",
     "output_type": "stream",
     "text": [
      "144it [04:51,  2.03s/it]Setting `pad_token_id` to `eos_token_id`:None for open-end generation.\n"
     ]
    },
    {
     "name": "stdout",
     "output_type": "stream",
     "text": [
      "origin :  KT 배터리 절감 기술로 갤럭시 S9 최대 55 더 쓴다\n",
      "cleaned :  KT 배터리 절약 기술로 갤럭시 S9 최대 55 더 쓴다\n"
     ]
    },
    {
     "name": "stderr",
     "output_type": "stream",
     "text": [
      "145it [04:53,  2.03s/it]Setting `pad_token_id` to `eos_token_id`:None for open-end generation.\n"
     ]
    },
    {
     "name": "stdout",
     "output_type": "stream",
     "text": [
      "origin :  삼성전W 갤노트7 q에6W中r소비dB 3bZ\n",
      "cleaned :  삼성전자 갤럭시 노트 7 출시, 중국 시장 소비자 반응 높아\n"
     ]
    },
    {
     "name": "stderr",
     "output_type": "stream",
     "text": [
      "146it [04:55,  2.03s/it]Setting `pad_token_id` to `eos_token_id`:None for open-end generation.\n"
     ]
    },
    {
     "name": "stdout",
     "output_type": "stream",
     "text": [
      "origin :  t시 TE성Hk장에95LF스x트골e 구DTJ\n",
      "cleaned :  서울시 테니스장에 95세 슈트골 구단주가 출연합니다.\n"
     ]
    },
    {
     "name": "stderr",
     "output_type": "stream",
     "text": [
      "147it [04:57,  2.03s/it]Setting `pad_token_id` to `eos_token_id`:None for open-end generation.\n"
     ]
    },
    {
     "name": "stdout",
     "output_type": "stream",
     "text": [
      "origin :  이k35G 속도평가I C보고서S놓 X뢰성 재\n",
      "cleaned :  이크 35G 속도 평가 보고서: 신뢰성 재평가\n"
     ]
    },
    {
     "name": "stderr",
     "output_type": "stream",
     "text": [
      "148it [04:59,  2.02s/it]Setting `pad_token_id` to `eos_token_id`:None for open-end generation.\n"
     ]
    },
    {
     "name": "stdout",
     "output_type": "stream",
     "text": [
      "origin :  100번째 등판 류현진 통증 느껴 자진 강판1⅔이닝\n",
      "cleaned :  100번째 등판 류현진 통증 느껴 자진 강판 1⅓이닝\n"
     ]
    },
    {
     "name": "stderr",
     "output_type": "stream",
     "text": [
      "149it [05:01,  2.02s/it]Setting `pad_token_id` to `eos_token_id`:None for open-end generation.\n"
     ]
    },
    {
     "name": "stdout",
     "output_type": "stream",
     "text": [
      "origin :  갤S4D연휴 첫Y 2만2천대O개흥행 b어갈까\n",
      "cleaned :  갤럭시 S4 디바이스 연휴 첫날 22,000대 판매 돌파, 흥행 주자 될까?\n"
     ]
    },
    {
     "name": "stderr",
     "output_type": "stream",
     "text": [
      "150it [05:03,  2.02s/it]Setting `pad_token_id` to `eos_token_id`:None for open-end generation.\n"
     ]
    },
    {
     "name": "stdout",
     "output_type": "stream",
     "text": [
      "origin :  KT 이르면 Bb X레폰 pVl 가세D환q\n",
      "cleaned :  KT, 이르면 Bb X레폰 가세로 환자 증가를 도모한다\n"
     ]
    },
    {
     "name": "stderr",
     "output_type": "stream",
     "text": [
      "151it [05:05,  2.02s/it]Setting `pad_token_id` to `eos_token_id`:None for open-end generation.\n"
     ]
    },
    {
     "name": "stdout",
     "output_type": "stream",
     "text": [
      "origin :  D판 과기j통부dS1l고 여름S캠프 개s\n",
      "cleaned :  2022년 과학기술정보통신부 여름캠프 개최\n"
     ]
    },
    {
     "name": "stderr",
     "output_type": "stream",
     "text": [
      "152it [05:07,  2.01s/it]Setting `pad_token_id` to `eos_token_id`:None for open-end generation.\n"
     ]
    },
    {
     "name": "stdout",
     "output_type": "stream",
     "text": [
      "origin :  0L0년이면x공지능L_건강P률 상담\n",
      "cleaned :  2022년 AI 건강 상담률 발표\n"
     ]
    },
    {
     "name": "stderr",
     "output_type": "stream",
     "text": [
      "153it [05:09,  2.01s/it]Setting `pad_token_id` to `eos_token_id`:None for open-end generation.\n"
     ]
    },
    {
     "name": "stdout",
     "output_type": "stream",
     "text": [
      "origin :  SKT 기업형H대주택q IT 설y비스Z용\n",
      "cleaned :  SK텔레콤, 기업형 H 대주택을 활용한 IT 서비스 개발\n"
     ]
    },
    {
     "name": "stderr",
     "output_type": "stream",
     "text": [
      "154it [05:12,  2.02s/it]Setting `pad_token_id` to `eos_token_id`:None for open-end generation.\n"
     ]
    },
    {
     "name": "stdout",
     "output_type": "stream",
     "text": [
      "origin :  KMxGM오쿠w u4보N불법 보관하ogf쭐종합2보\n",
      "cleaned :  불법 보관한 종합병원 2곳 적발\n"
     ]
    },
    {
     "name": "stderr",
     "output_type": "stream",
     "text": [
      "155it [05:14,  2.02s/it]Setting `pad_token_id` to `eos_token_id`:None for open-end generation.\n"
     ]
    },
    {
     "name": "stdout",
     "output_type": "stream",
     "text": [
      "origin :  한파 뚫고fP포y몬고K앱스3p게임 L출2위Kkd종합\n",
      "cleaned :  한파를 이겨낸 포켓몬고 앱, 스위트홈 3이 출시되며 종합 게임 2위에 올라섰다.\n"
     ]
    },
    {
     "name": "stderr",
     "output_type": "stream",
     "text": [
      "156it [05:16,  2.02s/it]Setting `pad_token_id` to `eos_token_id`:None for open-end generation.\n"
     ]
    },
    {
     "name": "stdout",
     "output_type": "stream",
     "text": [
      "origin :  IBM7a공지G nxU년 초 한Q1 1비스\n",
      "cleaned :  IBM 7월 1일 공지: Q1 1분기 비즈니스 성과 발표\n"
     ]
    },
    {
     "name": "stderr",
     "output_type": "stream",
     "text": [
      "157it [05:18,  2.02s/it]Setting `pad_token_id` to `eos_token_id`:None for open-end generation.\n"
     ]
    },
    {
     "name": "stdout",
     "output_type": "stream",
     "text": [
      "origin :  성 갤노P8으j 다L중5Sh든다아이폰X과맞1결\n",
      "cleaned :  갤럭시 노트 8이 아이폰 X와 맞붙는다\n"
     ]
    },
    {
     "name": "stderr",
     "output_type": "stream",
     "text": [
      "158it [05:20,  2.02s/it]Setting `pad_token_id` to `eos_token_id`:None for open-end generation.\n"
     ]
    },
    {
     "name": "stdout",
     "output_type": "stream",
     "text": [
      "origin :  tS 오Y63n5 새버전 공개AI로5업무a효율 높여\n",
      "cleaned :  AI로 업무 효율 높이는 \n"
     ]
    },
    {
     "name": "stderr",
     "output_type": "stream",
     "text": [
      "159it [05:22,  2.03s/it]Setting `pad_token_id` to `eos_token_id`:None for open-end generation.\n"
     ]
    },
    {
     "name": "stdout",
     "output_type": "stream",
     "text": [
      "origin :  C이X 美47 Q작 기후위M 켓 j수는 실패\n",
      "cleaned :  CIA의 Q작 기후위기 수사는 실패\n"
     ]
    },
    {
     "name": "stderr",
     "output_type": "stream",
     "text": [
      "160it [05:24,  2.03s/it]Setting `pad_token_id` to `eos_token_id`:None for open-end generation.\n"
     ]
    },
    {
     "name": "stdout",
     "output_type": "stream",
     "text": [
      "origin :  미국서 J b8심 집지V달 5Y 광z조K 위\n",
      "cleaned :  미국에서 J8심 집무실 위탁 5년 광범위 조직화\n"
     ]
    },
    {
     "name": "stderr",
     "output_type": "stream",
     "text": [
      "161it [05:26,  2.03s/it]Setting `pad_token_id` to `eos_token_id`:None for open-end generation.\n"
     ]
    },
    {
     "name": "stdout",
     "output_type": "stream",
     "text": [
      "origin :  카페G4 8C통신보140R 른 네워c O\n",
      "cleaned :  카페 G4 8C 통신 보 140R 류의 네트워크 문제\n"
     ]
    },
    {
     "name": "stderr",
     "output_type": "stream",
     "text": [
      "162it [05:28,  2.03s/it]Setting `pad_token_id` to `eos_token_id`:None for open-end generation.\n"
     ]
    },
    {
     "name": "stdout",
     "output_type": "stream",
     "text": [
      "origin :  갤노트7 i 7 M 사장단회의사장단 침w\n",
      "cleaned :  갤럭시 노트7 사고 대응 회의\n"
     ]
    },
    {
     "name": "stderr",
     "output_type": "stream",
     "text": [
      "163it [05:30,  2.03s/it]Setting `pad_token_id` to `eos_token_id`:None for open-end generation.\n"
     ]
    },
    {
     "name": "stdout",
     "output_type": "stream",
     "text": [
      "origin :  구글JIi진단은 의사_ 못한다X단 보조0역할\n",
      "cleaned :  구글 JIi 진단은 의사 못하는 X단의 보조 역할\n"
     ]
    },
    {
     "name": "stderr",
     "output_type": "stream",
     "text": [
      "164it [05:32,  2.03s/it]Setting `pad_token_id` to `eos_token_id`:None for open-end generation.\n"
     ]
    },
    {
     "name": "stdout",
     "output_type": "stream",
     "text": [
      "origin :  R성 베F남 갤6JsJl개중x가폰으p 동남아 공H\n",
      "cleaned :  삼성 갤럭시 J5가 동남아 시장에 출시\n"
     ]
    },
    {
     "name": "stderr",
     "output_type": "stream",
     "text": [
      "165it [05:34,  2.03s/it]Setting `pad_token_id` to `eos_token_id`:None for open-end generation.\n"
     ]
    },
    {
     "name": "stdout",
     "output_type": "stream",
     "text": [
      "origin :  공인인cp6 카카L페이 8서 3다\n",
      "cleaned :  카카오페이, 공인 인공지능 서비스 6개 확장\n"
     ]
    },
    {
     "name": "stderr",
     "output_type": "stream",
     "text": [
      "166it [05:36,  2.03s/it]Setting `pad_token_id` to `eos_token_id`:None for open-end generation.\n"
     ]
    },
    {
     "name": "stdout",
     "output_type": "stream",
     "text": [
      "origin :  NYot P말기S에 대해\n",
      "cleaned :  뉴욕에 대한 소식\n"
     ]
    },
    {
     "name": "stderr",
     "output_type": "stream",
     "text": [
      "167it [05:38,  2.04s/it]Setting `pad_token_id` to `eos_token_id`:None for open-end generation.\n"
     ]
    },
    {
     "name": "stdout",
     "output_type": "stream",
     "text": [
      "origin :  실l나는 괴t에 8름식은b포 5_험해b니\n",
      "cleaned :  실종자 8명 식별, 포항 지역에서 5명 발견\n"
     ]
    },
    {
     "name": "stderr",
     "output_type": "stream",
     "text": [
      "168it [05:40,  2.03s/it]Setting `pad_token_id` to `eos_token_id`:None for open-end generation.\n"
     ]
    },
    {
     "name": "stdout",
     "output_type": "stream",
     "text": [
      "origin :  lBSU천진우 나v학연구단zd\n",
      "cleaned :  이성우, 한국외대 연구단 출발\n"
     ]
    },
    {
     "name": "stderr",
     "output_type": "stream",
     "text": [
      "169it [05:42,  2.03s/it]Setting `pad_token_id` to `eos_token_id`:None for open-end generation.\n"
     ]
    },
    {
     "name": "stdout",
     "output_type": "stream",
     "text": [
      "origin :  HG8플러스 NxH에5J5G htW 스트 성공\n",
      "cleaned :  K8플러스 N형에 5G 기술 적용, 성공적인 출시\n"
     ]
    },
    {
     "name": "stderr",
     "output_type": "stream",
     "text": [
      "170it [05:44,  2.03s/it]Setting `pad_token_id` to `eos_token_id`:None for open-end generation.\n"
     ]
    },
    {
     "name": "stdout",
     "output_type": "stream",
     "text": [
      "origin :  최지만 3타수 무안타타율 0257\n",
      "cleaned :  최지만, 3타수 무안타 타율 0.257\n"
     ]
    },
    {
     "name": "stderr",
     "output_type": "stream",
     "text": [
      "171it [05:46,  2.03s/it]Setting `pad_token_id` to `eos_token_id`:None for open-end generation.\n"
     ]
    },
    {
     "name": "stdout",
     "output_type": "stream",
     "text": [
      "origin :  전화번호로NCSu삼9페 c아서간7Wnzd스\n",
      "cleaned :  NCSU 삼9페 스마트팩토리 기술 개발\n"
     ]
    },
    {
     "name": "stderr",
     "output_type": "stream",
     "text": [
      "172it [05:48,  2.02s/it]Setting `pad_token_id` to `eos_token_id`:None for open-end generation.\n"
     ]
    },
    {
     "name": "stdout",
     "output_type": "stream",
     "text": [
      "origin :  SKB영w1학zT로그A 플레이송스 jR\n",
      "cleaned :  SKB 엔터테인먼트 로그 A 플레이송\n"
     ]
    },
    {
     "name": "stderr",
     "output_type": "stream",
     "text": [
      "173it [05:50,  2.02s/it]Setting `pad_token_id` to `eos_token_id`:None for open-end generation.\n"
     ]
    },
    {
     "name": "stdout",
     "output_type": "stream",
     "text": [
      "origin :  t스 정복한 _공능 둑은 8 늦D\n",
      "cleaned :  트럼프 대통령이 8월에 둑을 정복한다\n"
     ]
    },
    {
     "name": "stderr",
     "output_type": "stream",
     "text": [
      "174it [05:52,  2.02s/it]Setting `pad_token_id` to `eos_token_id`:None for open-end generation.\n"
     ]
    },
    {
     "name": "stdout",
     "output_type": "stream",
     "text": [
      "origin :  AS8 미 7qZ포트 하평가OxF갤Uw aB 그쳐\n",
      "cleaned :  미국, 7월 8일 7월 포트 가이터 평가\n"
     ]
    },
    {
     "name": "stderr",
     "output_type": "stream",
     "text": [
      "175it [05:54,  2.03s/it]Setting `pad_token_id` to `eos_token_id`:None for open-end generation.\n"
     ]
    },
    {
     "name": "stdout",
     "output_type": "stream",
     "text": [
      "origin :  국계Y58 수립에 공지능 기v2도입한다\n",
      "cleaned :  국가 Y58 수립에 공지 능력 기관 도입\n"
     ]
    },
    {
     "name": "stderr",
     "output_type": "stream",
     "text": [
      "176it [05:56,  2.02s/it]Setting `pad_token_id` to `eos_token_id`:None for open-end generation.\n"
     ]
    },
    {
     "name": "stdout",
     "output_type": "stream",
     "text": [
      "origin :  PM대n프e그2w대회서 서울 3위Eg4Y위종합\n",
      "cleaned :  서울, PM대통령컵 국제축구대회에서 3위\n"
     ]
    },
    {
     "name": "stderr",
     "output_type": "stream",
     "text": [
      "177it [05:58,  2.02s/it]Setting `pad_token_id` to `eos_token_id`:None for open-end generation.\n"
     ]
    },
    {
     "name": "stdout",
     "output_type": "stream",
     "text": [
      "origin :  애플 아폰X 공개re이스IOLE디스Jj이 도입종합\n",
      "cleaned :  애플, 아폰X 공개 및 iOS 11 도입 예정\n"
     ]
    },
    {
     "name": "stderr",
     "output_type": "stream",
     "text": [
      "178it [06:00,  2.02s/it]Setting `pad_token_id` to `eos_token_id`:None for open-end generation.\n"
     ]
    },
    {
     "name": "stdout",
     "output_type": "stream",
     "text": [
      "origin :  갤0시S8 개통 이틀a에 주Y재 부족\n",
      "cleaned :  갤럭시 S8 개통 이틀 후에 주소 재부족\n"
     ]
    },
    {
     "name": "stderr",
     "output_type": "stream",
     "text": [
      "179it [06:02,  2.03s/it]Setting `pad_token_id` to `eos_token_id`:None for open-end generation.\n"
     ]
    },
    {
     "name": "stdout",
     "output_type": "stream",
     "text": [
      "origin :  국내 f업 2곳1랜섬어 피C 신Y염 사UKmj많을a F\n",
      "cleaned :  국내 2개 업체 랜섬웨어 피해 증가\n"
     ]
    },
    {
     "name": "stderr",
     "output_type": "stream",
     "text": [
      "180it [06:04,  2.03s/it]Setting `pad_token_id` to `eos_token_id`:None for open-end generation.\n"
     ]
    },
    {
     "name": "stdout",
     "output_type": "stream",
     "text": [
      "origin :  v9dT6대mjo바Y러스 검 키Z 개Q3b도 n0\n",
      "cleaned :  바이러스 검출, 국내 신규 확진자 3,000명 넘어\n"
     ]
    },
    {
     "name": "stderr",
     "output_type": "stream",
     "text": [
      "181it [06:06,  2.02s/it]Setting `pad_token_id` to `eos_token_id`:None for open-end generation.\n"
     ]
    },
    {
     "name": "stdout",
     "output_type": "stream",
     "text": [
      "origin :  FWCt20x8 삼성의 tR B법 m럭p19 언팩\n",
      "cleaned :  삼성, 트라이버스 M30 발표\n"
     ]
    },
    {
     "name": "stderr",
     "output_type": "stream",
     "text": [
      "182it [06:08,  2.02s/it]Setting `pad_token_id` to `eos_token_id`:None for open-end generation.\n"
     ]
    },
    {
     "name": "stdout",
     "output_type": "stream",
     "text": [
      "origin :  5GX MES 플s폼이란\n",
      "cleaned :  5G 기반 MES 플랫폼\n"
     ]
    },
    {
     "name": "stderr",
     "output_type": "stream",
     "text": [
      "183it [06:10,  2.02s/it]Setting `pad_token_id` to `eos_token_id`:None for open-end generation.\n"
     ]
    },
    {
     "name": "stdout",
     "output_type": "stream",
     "text": [
      "origin :  l유플러스 5G 장비3 무 IPq UGD 시험 서비스m성c\n",
      "cleaned :  유럽 5G 장비 3 무선 IP 서비스 검증\n"
     ]
    },
    {
     "name": "stderr",
     "output_type": "stream",
     "text": [
      "184it [06:12,  2.01s/it]Setting `pad_token_id` to `eos_token_id`:None for open-end generation.\n"
     ]
    },
    {
     "name": "stdout",
     "output_type": "stream",
     "text": [
      "origin :  WNBA 박지수 LA 스파크스 상대로 2득점 2리바운드\n",
      "cleaned :  박지수, WNBA LA 스파크스와의 경기에서 2득점 2리바운드\n"
     ]
    },
    {
     "name": "stderr",
     "output_type": "stream",
     "text": [
      "185it [06:14,  2.01s/it]Setting `pad_token_id` to `eos_token_id`:None for open-end generation.\n"
     ]
    },
    {
     "name": "stdout",
     "output_type": "stream",
     "text": [
      "origin :  MWC1 성디스플레이에 지문인1O은 럭시xA50A30 공개종합\n",
      "cleaned :  MWC 2021에서 삼성디스플레이, 갤럭시 S21 공개\n"
     ]
    },
    {
     "name": "stderr",
     "output_type": "stream",
     "text": [
      "186it [06:16,  2.01s/it]Setting `pad_token_id` to `eos_token_id`:None for open-end generation.\n"
     ]
    },
    {
     "name": "stdout",
     "output_type": "stream",
     "text": [
      "origin :  나사 목성의 L성 5로파서 2증기발q흔J 발z1보\n",
      "cleaned :  목성의 L성 5로파서 2 증기 발화\n"
     ]
    },
    {
     "name": "stderr",
     "output_type": "stream",
     "text": [
      "187it [06:18,  2.01s/it]Setting `pad_token_id` to `eos_token_id`:None for open-end generation.\n"
     ]
    },
    {
     "name": "stdout",
     "output_type": "stream",
     "text": [
      "origin :  KT94u대역u서05GrJ트크a장 j증h성f\n",
      "cleaned :  KT 94u대역 5G 트럭이 장거리 증강현실 서비스를 제공합니다.\n"
     ]
    },
    {
     "name": "stderr",
     "output_type": "stream",
     "text": [
      "188it [06:20,  2.01s/it]Setting `pad_token_id` to `eos_token_id`:None for open-end generation.\n"
     ]
    },
    {
     "name": "stdout",
     "output_type": "stream",
     "text": [
      "origin :  네이Du Ln데이E센터 9q1 본선 진출 L0개s 선정\n",
      "cleaned :  네이버 라인 데이센터 9개 선정, 본선 진출\n"
     ]
    },
    {
     "name": "stderr",
     "output_type": "stream",
     "text": [
      "189it [06:22,  2.01s/it]Setting `pad_token_id` to `eos_token_id`:None for open-end generation.\n"
     ]
    },
    {
     "name": "stdout",
     "output_type": "stream",
     "text": [
      "origin :  r카Dd블록체인 m폼vQp이\n",
      "cleaned :  카카오블록체인 프로토타입이\n"
     ]
    },
    {
     "name": "stderr",
     "output_type": "stream",
     "text": [
      "190it [06:24,  2.00s/it]Setting `pad_token_id` to `eos_token_id`:None for open-end generation.\n"
     ]
    },
    {
     "name": "stdout",
     "output_type": "stream",
     "text": [
      "origin :  위 스IsCS 먹통n사태 ZZP드 앞날의 름S까\n",
      "cleaned :  위스키스 먹통 사태로 앞날이 걱정된다\n"
     ]
    },
    {
     "name": "stderr",
     "output_type": "stream",
     "text": [
      "191it [06:26,  2.00s/it]Setting `pad_token_id` to `eos_token_id`:None for open-end generation.\n"
     ]
    },
    {
     "name": "stdout",
     "output_type": "stream",
     "text": [
      "origin :  손6 대화 로봇 드세요네이챗봇 빌더 개\n",
      "cleaned :  손6 대화 로봇 개발, 네이챗봇 빌더 출시\n"
     ]
    },
    {
     "name": "stderr",
     "output_type": "stream",
     "text": [
      "192it [06:28,  2.00s/it]Setting `pad_token_id` to `eos_token_id`:None for open-end generation.\n"
     ]
    },
    {
     "name": "stdout",
     "output_type": "stream",
     "text": [
      "origin :  스마폰과J경쟁7려IT혁x해D새W운S장 6 f\n",
      "cleaned :  스마폰과 J 경쟁, IT 혁신 시대에 새로운 시장 6개를 열었다\n"
     ]
    },
    {
     "name": "stderr",
     "output_type": "stream",
     "text": [
      "193it [06:30,  2.01s/it]Setting `pad_token_id` to `eos_token_id`:None for open-end generation.\n"
     ]
    },
    {
     "name": "stdout",
     "output_type": "stream",
     "text": [
      "origin :  유혹의 색 라즈베리 로즈 입은 LG V30\n",
      "cleaned :  유혹의 색 라즈베리 로즈 입은 LG V30\n"
     ]
    },
    {
     "name": "stderr",
     "output_type": "stream",
     "text": [
      "194it [06:32,  2.01s/it]Setting `pad_token_id` to `eos_token_id`:None for open-end generation.\n"
     ]
    },
    {
     "name": "stdout",
     "output_type": "stream",
     "text": [
      "origin :  구글 웨어러1 I안드이드 sE를웨d O 명칭 변경\n",
      "cleaned :  구글 웨어러블 1, 안드로이드 Wear OS로 명칭 변경\n"
     ]
    },
    {
     "name": "stderr",
     "output_type": "stream",
     "text": [
      "195it [06:34,  2.01s/it]Setting `pad_token_id` to `eos_token_id`:None for open-end generation.\n"
     ]
    },
    {
     "name": "stdout",
     "output_type": "stream",
     "text": [
      "origin :  qT 라w렌즈YX마H에 이터t제한 q능o추가\n",
      "cleaned :  라운지에서 이터 제한 능력 추가\n"
     ]
    },
    {
     "name": "stderr",
     "output_type": "stream",
     "text": [
      "196it [06:36,  2.01s/it]Setting `pad_token_id` to `eos_token_id`:None for open-end generation.\n"
     ]
    },
    {
     "name": "stdout",
     "output_type": "stream",
     "text": [
      "origin :  VT50z 4s 전xb 요제출시Gp1등겠다\n",
      "cleaned :  VT50 4s 전시 출품 G1 등극\n"
     ]
    },
    {
     "name": "stderr",
     "output_type": "stream",
     "text": [
      "197it [06:38,  2.01s/it]Setting `pad_token_id` to `eos_token_id`:None for open-end generation.\n"
     ]
    },
    {
     "name": "stdout",
     "output_type": "stream",
     "text": [
      "origin :  아트O V4c미i m9\n",
      "cleaned :  아트 O V4c미i m9\n"
     ]
    },
    {
     "name": "stderr",
     "output_type": "stream",
     "text": [
      "198it [06:40,  2.01s/it]Setting `pad_token_id` to `eos_token_id`:None for open-end generation.\n"
     ]
    },
    {
     "name": "stdout",
     "output_type": "stream",
     "text": [
      "origin :  국에서rl안 네이버 a파고 오프G인 z역 시\n",
      "cleaned :  국내 네이버 파고인 역에서 G인 오프\n"
     ]
    },
    {
     "name": "stderr",
     "output_type": "stream",
     "text": [
      "199it [06:42,  2.01s/it]Setting `pad_token_id` to `eos_token_id`:None for open-end generation.\n"
     ]
    },
    {
     "name": "stdout",
     "output_type": "stream",
     "text": [
      "origin :  i이스Fd발1 q뮤니t P벨로f RO국R e범\n",
      "cleaned :  한국 대표 스타가 아이돌 그룹의 데뷔를 축하합니다\n"
     ]
    },
    {
     "name": "stderr",
     "output_type": "stream",
     "text": [
      "200it [06:44,  2.01s/it]Setting `pad_token_id` to `eos_token_id`:None for open-end generation.\n"
     ]
    },
    {
     "name": "stdout",
     "output_type": "stream",
     "text": [
      "origin :  갤트7x계기 안4m 강삼L QS8e신n 고 심\n",
      "cleaned :  갤럭시 S7 엣지 기기 안에 4m 강한 삼성이 퀄컴 스냅드래곤 8 시리즈 칩셋을 사용합니다\n"
     ]
    },
    {
     "name": "stderr",
     "output_type": "stream",
     "text": [
      "201it [06:46,  2.01s/it]Setting `pad_token_id` to `eos_token_id`:None for open-end generation.\n"
     ]
    },
    {
     "name": "stdout",
     "output_type": "stream",
     "text": [
      "origin :  NH투자 IRP 비보장상품 수익률 업계 1위\n",
      "cleaned :  NH투자 IRP 비보장 상품 수익률, 업계 1위\n"
     ]
    },
    {
     "name": "stderr",
     "output_type": "stream",
     "text": [
      "202it [06:48,  2.01s/it]Setting `pad_token_id` to `eos_token_id`:None for open-end generation.\n"
     ]
    },
    {
     "name": "stdout",
     "output_type": "stream",
     "text": [
      "origin :  아이폰X 수급 다소 호AyD기기간 1주 단g\n",
      "cleaned :  아이폰 X의 수급이 다소 호조를 보이며 1주 단가로 판매되었습니다.\n"
     ]
    },
    {
     "name": "stderr",
     "output_type": "stream",
     "text": [
      "203it [06:50,  2.01s/it]Setting `pad_token_id` to `eos_token_id`:None for open-end generation.\n"
     ]
    },
    {
     "name": "stdout",
     "output_type": "stream",
     "text": [
      "origin :  e오지AR표_oI는 7행 CM t반9a술\n",
      "cleaned :  e오지AR표는 7행 CM을 t반9a술로 전환한다\n"
     ]
    },
    {
     "name": "stderr",
     "output_type": "stream",
     "text": [
      "204it [06:52,  2.01s/it]Setting `pad_token_id` to `eos_token_id`:None for open-end generation.\n"
     ]
    },
    {
     "name": "stdout",
     "output_type": "stream",
     "text": [
      "origin :  통신사K4스u품06zGq기s쉬x6M\n",
      "cleaned :  통신사 K4 스마트폰 출시\n"
     ]
    },
    {
     "name": "stderr",
     "output_type": "stream",
     "text": [
      "205it [06:54,  2.01s/it]Setting `pad_token_id` to `eos_token_id`:None for open-end generation.\n"
     ]
    },
    {
     "name": "stdout",
     "output_type": "stream",
     "text": [
      "origin :  SK IBM 왓x 반 인공지E브랜드 에이브ai출범\n",
      "cleaned :  SK IBM 왓츠반, 인공지능 브랜드 에이브 아이 출범\n"
     ]
    },
    {
     "name": "stderr",
     "output_type": "stream",
     "text": [
      "206it [06:56,  2.01s/it]Setting `pad_token_id` to `eos_token_id`:None for open-end generation.\n"
     ]
    },
    {
     "name": "stdout",
     "output_type": "stream",
     "text": [
      "origin :  뇌가 크 습능F 우수 설 e니다6Lz련 N전4yH\n",
      "cleaned :  뇌가 크면 학습 능력 향상되는 연구\n"
     ]
    },
    {
     "name": "stderr",
     "output_type": "stream",
     "text": [
      "207it [06:58,  2.00s/it]Setting `pad_token_id` to `eos_token_id`:None for open-end generation.\n"
     ]
    },
    {
     "name": "stdout",
     "output_type": "stream",
     "text": [
      "origin :  달 CES 굴N바은새a더o폰I중저o폰O rb\n",
      "cleaned :  2023 CES에서 삼성 갤럭시 S23과 갤럭시 A53이 공개될 예정\n"
     ]
    },
    {
     "name": "stderr",
     "output_type": "stream",
     "text": [
      "208it [07:00,  2.01s/it]Setting `pad_token_id` to `eos_token_id`:None for open-end generation.\n"
     ]
    },
    {
     "name": "stdout",
     "output_type": "stream",
     "text": [
      "origin :  한f 모바Ii인터넷 도 dz3로 충ub\n",
      "cleaned :  한 모바일 인터넷 도우미 도입\n"
     ]
    },
    {
     "name": "stderr",
     "output_type": "stream",
     "text": [
      "209it [07:02,  2.01s/it]Setting `pad_token_id` to `eos_token_id`:None for open-end generation.\n"
     ]
    },
    {
     "name": "stdout",
     "output_type": "stream",
     "text": [
      "origin :  항응고Lt성분 코M나19M Jg포실V서확인\n",
      "cleaned :  항응고제 성분 코마 19명 입원, JF포럼서 확인\n"
     ]
    },
    {
     "name": "stderr",
     "output_type": "stream",
     "text": [
      "210it [07:04,  2.01s/it]Setting `pad_token_id` to `eos_token_id`:None for open-end generation.\n"
     ]
    },
    {
     "name": "stdout",
     "output_type": "stream",
     "text": [
      "origin :  DJI 장C물 피하는 J이식드론mmx에어 출시\n",
      "cleaned :  DJI를 피하는 휴대용 드론, mmX Air 출시\n"
     ]
    },
    {
     "name": "stderr",
     "output_type": "stream",
     "text": [
      "211it [07:06,  2.01s/it]Setting `pad_token_id` to `eos_token_id`:None for open-end generation.\n"
     ]
    },
    {
     "name": "stdout",
     "output_type": "stream",
     "text": [
      "origin :  6시판PKT 통신GJ시회 BBWF서8기J yT소C\n",
      "cleaned :  6시판 통신 GJ시회 BBWF에서 8기 JY 소프트웨어 전시회\n"
     ]
    },
    {
     "name": "stderr",
     "output_type": "stream",
     "text": [
      "212it [07:08,  2.01s/it]Setting `pad_token_id` to `eos_token_id`:None for open-end generation.\n"
     ]
    },
    {
     "name": "stdout",
     "output_type": "stream",
     "text": [
      "origin :  sl전자증3현A로w갤t시SE세계에F알린다\n",
      "cleaned :  삼성전자, 3세대 갤럭시 A 시리즈로 세계에 알린다\n"
     ]
    },
    {
     "name": "stderr",
     "output_type": "stream",
     "text": [
      "213it [07:10,  2.01s/it]Setting `pad_token_id` to `eos_token_id`:None for open-end generation.\n"
     ]
    },
    {
     "name": "stdout",
     "output_type": "stream",
     "text": [
      "origin :  LRUe록체인a기술1적j한 대T보험금 Y편OL vY\n",
      "cleaned :  로체인 기술로 적절한 대테러보험금 지급\n"
     ]
    },
    {
     "name": "stderr",
     "output_type": "stream",
     "text": [
      "214it [07:12,  2.01s/it]Setting `pad_token_id` to `eos_token_id`:None for open-end generation.\n"
     ]
    },
    {
     "name": "stdout",
     "output_type": "stream",
     "text": [
      "origin :  KT전QGlz a터리 f사T오3바B 업체 협력\n",
      "cleaned :  KT, SK텔레콤과 3바이트 업체와 협력\n"
     ]
    },
    {
     "name": "stderr",
     "output_type": "stream",
     "text": [
      "215it [07:15,  2.01s/it]Setting `pad_token_id` to `eos_token_id`:None for open-end generation.\n"
     ]
    },
    {
     "name": "stdout",
     "output_type": "stream",
     "text": [
      "origin :  h이X뉴스Q사람손iC확F줄였다F뉴V션홈 t 편L\n",
      "cleaned :  신규 코로나19 확진자 3명 추가로 늘어난 뉴스룸의 최신 상황 보고\n"
     ]
    },
    {
     "name": "stderr",
     "output_type": "stream",
     "text": [
      "216it [07:17,  2.01s/it]Setting `pad_token_id` to `eos_token_id`:None for open-end generation.\n"
     ]
    },
    {
     "name": "stdout",
     "output_type": "stream",
     "text": [
      "origin :  터Th없이XI동x는 N이zi 7봇 개f\n",
      "cleaned :  터널 속 7명이 납치당함\n"
     ]
    },
    {
     "name": "stderr",
     "output_type": "stream",
     "text": [
      "217it [07:19,  2.02s/it]Setting `pad_token_id` to `eos_token_id`:None for open-end generation.\n"
     ]
    },
    {
     "name": "stdout",
     "output_type": "stream",
     "text": [
      "origin :  CJ EW다iU비 창작지원5시스템 P코g 개발\n",
      "cleaned :  CJ E&M 창작지원 5시스템 개발\n"
     ]
    },
    {
     "name": "stderr",
     "output_type": "stream",
     "text": [
      "218it [07:21,  2.02s/it]Setting `pad_token_id` to `eos_token_id`:None for open-end generation.\n"
     ]
    },
    {
     "name": "stdout",
     "output_type": "stream",
     "text": [
      "origin :  성직렬 nC쇼\n",
      "cleaned :  성직렬 뉴스쇼\n"
     ]
    },
    {
     "name": "stderr",
     "output_type": "stream",
     "text": [
      "219it [07:23,  2.01s/it]Setting `pad_token_id` to `eos_token_id`:None for open-end generation.\n"
     ]
    },
    {
     "name": "stdout",
     "output_type": "stream",
     "text": [
      "origin :  Lg전자s보급 스마트 1시즈 CES V\n",
      "cleaned :  LG전자, CES에서 스마트 1시리즈 보급\n"
     ]
    },
    {
     "name": "stderr",
     "output_type": "stream",
     "text": [
      "220it [07:25,  2.01s/it]Setting `pad_token_id` to `eos_token_id`:None for open-end generation.\n"
     ]
    },
    {
     "name": "stdout",
     "output_type": "stream",
     "text": [
      "origin :  L0 G6물사진R유출둥tymz리 화면얇B 베T 특징\n",
      "cleaned :  갤럭시 S6에 카메라 센서 유출, 화면이 얇아진 것으로 알려짐\n"
     ]
    },
    {
     "name": "stderr",
     "output_type": "stream",
     "text": [
      "221it [07:27,  2.02s/it]Setting `pad_token_id` to `eos_token_id`:None for open-end generation.\n"
     ]
    },
    {
     "name": "stdout",
     "output_type": "stream",
     "text": [
      "origin :  이RAO _zW첫 스3U 메트20최고 1LY원OV출\n",
      "cleaned :  이란, 최초로 무인항공기 개발 성공\n"
     ]
    },
    {
     "name": "stderr",
     "output_type": "stream",
     "text": [
      "222it [07:29,  2.02s/it]Setting `pad_token_id` to `eos_token_id`:None for open-end generation.\n"
     ]
    },
    {
     "name": "stdout",
     "output_type": "stream",
     "text": [
      "origin :  클리 스마트GMVx 쓸Y때c가장jZf까\n",
      "cleaned :  클리 스마트 GMVx의 사용 시점이 결정되었습니다\n"
     ]
    },
    {
     "name": "stderr",
     "output_type": "stream",
     "text": [
      "223it [07:31,  2.02s/it]\n"
     ]
    },
    {
     "name": "stdout",
     "output_type": "stream",
     "text": [
      "origin :  텔레그램한D 등h亞서 2시간H다운C버T정gf39종2보\n",
      "cleaned :  텔레그램, 중국 서버에서 2시간 동안 서비스 중단\n"
     ]
    },
    {
     "name": "stderr",
     "output_type": "stream",
     "text": [
      "0it [00:00, ?it/s]Setting `pad_token_id` to `eos_token_id`:None for open-end generation.\n",
      "1it [00:02,  2.02s/it]Setting `pad_token_id` to `eos_token_id`:None for open-end generation.\n"
     ]
    },
    {
     "name": "stdout",
     "output_type": "stream",
     "text": [
      "origin :  oi 매력 R모h츠a열w3약 l주가 고Q진\n",
      "cleaned :  R모델 열화상 카메라 주가 고점\n"
     ]
    },
    {
     "name": "stderr",
     "output_type": "stream",
     "text": [
      "2it [00:04,  2.02s/it]Setting `pad_token_id` to `eos_token_id`:None for open-end generation.\n"
     ]
    },
    {
     "name": "stdout",
     "output_type": "stream",
     "text": [
      "origin :  STJ레콤 J분기 영D익t4천105t21 증가\n",
      "cleaned :  제3분기 레코미의 영업익 1천105억 원 증가\n"
     ]
    },
    {
     "name": "stderr",
     "output_type": "stream",
     "text": [
      "3it [00:06,  2.02s/it]Setting `pad_token_id` to `eos_token_id`:None for open-end generation.\n"
     ]
    },
    {
     "name": "stdout",
     "output_type": "stream",
     "text": [
      "origin :  CT2fSSt0 877vA자 10만명 돌\n",
      "cleaned :  2023년 2월 7일, 10만 명이 참가한 자선 행사\n"
     ]
    },
    {
     "name": "stderr",
     "output_type": "stream",
     "text": [
      "4it [00:08,  2.02s/it]Setting `pad_token_id` to `eos_token_id`:None for open-end generation.\n"
     ]
    },
    {
     "name": "stdout",
     "output_type": "stream",
     "text": [
      "origin :  유라1아3경w연합r회q상품M3교환 합의\n",
      "cleaned :  유럽연합과 한국은 M3교환 합의를 발표합니다.\n"
     ]
    },
    {
     "name": "stderr",
     "output_type": "stream",
     "text": [
      "5it [00:10,  2.02s/it]Setting `pad_token_id` to `eos_token_id`:None for open-end generation.\n"
     ]
    },
    {
     "name": "stdout",
     "output_type": "stream",
     "text": [
      "origin :  특OH6호에k Gc모h금조달에 52P 신고가\n",
      "cleaned :  특공 6호, G&C모금 조달에 52억 신고가\n"
     ]
    },
    {
     "name": "stderr",
     "output_type": "stream",
     "text": [
      "6it [00:12,  2.02s/it]Setting `pad_token_id` to `eos_token_id`:None for open-end generation.\n"
     ]
    },
    {
     "name": "stdout",
     "output_type": "stream",
     "text": [
      "origin :  aGma일리c 산 _R법정l 내 처리W요\n",
      "cleaned :  아마존, 롯데백화점에 3천만 달러 투자\n"
     ]
    },
    {
     "name": "stderr",
     "output_type": "stream",
     "text": [
      "7it [00:14,  2.02s/it]Setting `pad_token_id` to `eos_token_id`:None for open-end generation.\n"
     ]
    },
    {
     "name": "stdout",
     "output_type": "stream",
     "text": [
      "origin :  ip한국사이버제 U분기 영업익ux0u원G 감소\n",
      "cleaned :  KU사이버제 2분기 영업익 0원 감소\n"
     ]
    },
    {
     "name": "stderr",
     "output_type": "stream",
     "text": [
      "8it [00:16,  2.02s/it]Setting `pad_token_id` to `eos_token_id`:None for open-end generation.\n"
     ]
    },
    {
     "name": "stdout",
     "output_type": "stream",
     "text": [
      "origin :  D도t 2자 H대 교육jy목적dWsU허\n",
      "cleaned :  도시교육 목적의 H대 D도트 2자 허가\n"
     ]
    },
    {
     "name": "stderr",
     "output_type": "stream",
     "text": [
      "9it [00:18,  2.02s/it]Setting `pad_token_id` to `eos_token_id`:None for open-end generation.\n"
     ]
    },
    {
     "name": "stdout",
     "output_type": "stream",
     "text": [
      "origin :  독Q멈선 데L수M원대면점2p 인도 무산\n",
      "cleaned :  독일 쿠팡 멈추고 2개 분점 인도 무산\n"
     ]
    },
    {
     "name": "stderr",
     "output_type": "stream",
     "text": [
      "10it [00:20,  2.03s/it]Setting `pad_token_id` to `eos_token_id`:None for open-end generation.\n"
     ]
    },
    {
     "name": "stdout",
     "output_type": "stream",
     "text": [
      "origin :  손경w J 회V e즈베fym관 협력방안 9의\n",
      "cleaned :  손경우와 J 회사의 협력방안 9의\n"
     ]
    },
    {
     "name": "stderr",
     "output_type": "stream",
     "text": [
      "11it [00:22,  2.03s/it]Setting `pad_token_id` to `eos_token_id`:None for open-end generation.\n"
     ]
    },
    {
     "name": "stdout",
     "output_type": "stream",
     "text": [
      "origin :  20T9년s제1회 외K인투자정협의회\n",
      "cleaned :  2020년 제1회 한국-외국인 투자정책 협의회\n"
     ]
    },
    {
     "name": "stderr",
     "output_type": "stream",
     "text": [
      "12it [00:24,  2.03s/it]Setting `pad_token_id` to `eos_token_id`:None for open-end generation.\n"
     ]
    },
    {
     "name": "stdout",
     "output_type": "stream",
     "text": [
      "origin :  씨D m년 h업8 16Kh483\n",
      "cleaned :  씨디 8호 16KHz\n"
     ]
    },
    {
     "name": "stderr",
     "output_type": "stream",
     "text": [
      "13it [00:26,  2.02s/it]Setting `pad_token_id` to `eos_token_id`:None for open-end generation.\n"
     ]
    },
    {
     "name": "stdout",
     "output_type": "stream",
     "text": [
      "origin :  반기 전FjQQ 74Q여zL년보 31\n",
      "cleaned :  2023년 2월 31일\n"
     ]
    },
    {
     "name": "stderr",
     "output_type": "stream",
     "text": [
      "14it [00:28,  2.02s/it]Setting `pad_token_id` to `eos_token_id`:None for open-end generation.\n"
     ]
    },
    {
     "name": "stdout",
     "output_type": "stream",
     "text": [
      "origin :  S수협은 공공주택8보금 보y8출\n",
      "cleaned :  수협은 공공주택 8개 보급을 추진합니다\n"
     ]
    },
    {
     "name": "stderr",
     "output_type": "stream",
     "text": [
      "15it [00:30,  2.02s/it]Setting `pad_token_id` to `eos_token_id`:None for open-end generation.\n"
     ]
    },
    {
     "name": "stdout",
     "output_type": "stream",
     "text": [
      "origin :  e5 사채 행V09조원Or대비O55z\n",
      "cleaned :  e5 사채 행 9조원 대비 55% 감소\n"
     ]
    },
    {
     "name": "stderr",
     "output_type": "stream",
     "text": [
      "16it [00:32,  2.02s/it]Setting `pad_token_id` to `eos_token_id`:None for open-end generation.\n"
     ]
    },
    {
     "name": "stdout",
     "output_type": "stream",
     "text": [
      "origin :  한sS3 파Sr사동반성장 협X식\n",
      "cleaned :  한글S3 파트너사 동반성장 협약식\n"
     ]
    },
    {
     "name": "stderr",
     "output_type": "stream",
     "text": [
      "17it [00:34,  2.02s/it]Setting `pad_token_id` to `eos_token_id`:None for open-end generation.\n"
     ]
    },
    {
     "name": "stdout",
     "output_type": "stream",
     "text": [
      "origin :  최E희lSKT7J헬4비전 w병 사 S보다 S연종합\n",
      "cleaned :  최희 SKT 7J 헬스 비전 발표: 삼성전과의 경쟁\n"
     ]
    },
    {
     "name": "stderr",
     "output_type": "stream",
     "text": [
      "18it [00:36,  2.02s/it]Setting `pad_token_id` to `eos_token_id`:None for open-end generation.\n"
     ]
    },
    {
     "name": "stdout",
     "output_type": "stream",
     "text": [
      "origin :  징1Q코데i컴바c다L 스닥dM총3Ed종\n",
      "cleaned :  1분기 코데 컴바디스닥 상장 총 3개 기업\n"
     ]
    },
    {
     "name": "stderr",
     "output_type": "stream",
     "text": [
      "19it [00:38,  2.02s/it]Setting `pad_token_id` to `eos_token_id`:None for open-end generation.\n"
     ]
    },
    {
     "name": "stdout",
     "output_type": "stream",
     "text": [
      "origin :  공사기간비용1xxb nM크l EJ사업c주k\n",
      "cleaned :  공사 기간 비용 1억 원: EJ사업 주최\n"
     ]
    },
    {
     "name": "stderr",
     "output_type": "stream",
     "text": [
      "20it [00:40,  2.02s/it]Setting `pad_token_id` to `eos_token_id`:None for open-end generation.\n"
     ]
    },
    {
     "name": "stdout",
     "output_type": "stream",
     "text": [
      "origin :  그T픽 T택vcK가7현실화율3세C 산V식\n",
      "cleaned :  그룹 T픽이 T택VC를 통해 7개의 현실화율을 3세 C산식으로 산출합니다.\n"
     ]
    },
    {
     "name": "stderr",
     "output_type": "stream",
     "text": [
      "21it [00:42,  2.02s/it]Setting `pad_token_id` to `eos_token_id`:None for open-end generation.\n"
     ]
    },
    {
     "name": "stdout",
     "output_type": "stream",
     "text": [
      "origin :  용등급 낮은 소상z인에 연q69k 대출 M 터다\n",
      "cleaned :  용등급 낮은 소상공인에 연 6% 대출 터다\n"
     ]
    },
    {
     "name": "stderr",
     "output_type": "stream",
     "text": [
      "22it [00:44,  2.02s/it]Setting `pad_token_id` to `eos_token_id`:None for open-end generation.\n"
     ]
    },
    {
     "name": "stdout",
     "output_type": "stream",
     "text": [
      "origin :  v움m권m올F 면1B 시n JCc이상 K장6가I\n",
      "cleaned :  FBI, 권력층 올림픽 금메달리스트에 대한 조사\n"
     ]
    },
    {
     "name": "stderr",
     "output_type": "stream",
     "text": [
      "23it [00:46,  2.02s/it]Setting `pad_token_id` to `eos_token_id`:None for open-end generation.\n"
     ]
    },
    {
     "name": "stdout",
     "output_type": "stream",
     "text": [
      "origin :  삼성o7K하R닉1분기w도 반Z TE순항할iu\n",
      "cleaned :  삼성전자, 1분기 하반기 Nand플래시 수익성 전망 긍정적\n"
     ]
    },
    {
     "name": "stderr",
     "output_type": "stream",
     "text": [
      "24it [00:48,  2.02s/it]Setting `pad_token_id` to `eos_token_id`:None for open-end generation.\n"
     ]
    },
    {
     "name": "stdout",
     "output_type": "stream",
     "text": [
      "origin :  법정a리 5목F 선현y상 해선주D큰손실 C가\n",
      "cleaned :  법정리 5목 F 선현상 해선 주D, 큰 손실\n"
     ]
    },
    {
     "name": "stderr",
     "output_type": "stream",
     "text": [
      "25it [00:50,  2.02s/it]Setting `pad_token_id` to `eos_token_id`:None for open-end generation.\n"
     ]
    },
    {
     "name": "stdout",
     "output_type": "stream",
     "text": [
      "origin :  바 개인투자8 지M 3b대n소액투자자Y5t\n",
      "cleaned :  바 개인투자자 8지M, 3억대 소액투자자 Y5t\n"
     ]
    },
    {
     "name": "stderr",
     "output_type": "stream",
     "text": [
      "26it [00:52,  2.03s/it]Setting `pad_token_id` to `eos_token_id`:None for open-end generation.\n"
     ]
    },
    {
     "name": "stdout",
     "output_type": "stream",
     "text": [
      "origin :  m7eh 4출x진 Wf2기부터 점 회복r전\n",
      "cleaned :  7월부터 출산 진료비 지원 기회 확대\n"
     ]
    },
    {
     "name": "stderr",
     "output_type": "stream",
     "text": [
      "27it [00:54,  2.03s/it]Setting `pad_token_id` to `eos_token_id`:None for open-end generation.\n"
     ]
    },
    {
     "name": "stdout",
     "output_type": "stream",
     "text": [
      "origin :  증시신tm 투운r美뉴욕N오R스 N딩b투4펀드\n",
      "cleaned :  증시 신트모 뉴욕증시 상승, 투자자들 4개 펀드에 몰린다\n"
     ]
    },
    {
     "name": "stderr",
     "output_type": "stream",
     "text": [
      "28it [00:56,  2.03s/it]Setting `pad_token_id` to `eos_token_id`:None for open-end generation.\n"
     ]
    },
    {
     "name": "stdout",
     "output_type": "stream",
     "text": [
      "origin :  EMB 양s완F조기종료l가능성 원달sK환율 하d\n",
      "cleaned :  K환율 하락에 따른 원달러 환율 하락 가능성과 EMB 양방 F조기종료 가능성\n"
     ]
    },
    {
     "name": "stderr",
     "output_type": "stream",
     "text": [
      "29it [00:58,  2.03s/it]Setting `pad_token_id` to `eos_token_id`:None for open-end generation.\n"
     ]
    },
    {
     "name": "stdout",
     "output_type": "stream",
     "text": [
      "origin :  또아A 예비hR자서 분양 끝Ov 량찔s\n",
      "cleaned :  또다른 A 예비역 주택 분양량 줄어들었다\n"
     ]
    },
    {
     "name": "stderr",
     "output_type": "stream",
     "text": [
      "30it [01:00,  2.03s/it]Setting `pad_token_id` to `eos_token_id`:None for open-end generation.\n"
     ]
    },
    {
     "name": "stdout",
     "output_type": "stream",
     "text": [
      "origin :  시판주금공 한국의 주e융 70TBa\n",
      "cleaned :  시판 주금 공장 한국의 주융 70TBa\n"
     ]
    },
    {
     "name": "stderr",
     "output_type": "stream",
     "text": [
      "31it [01:02,  2.03s/it]Setting `pad_token_id` to `eos_token_id`:None for open-end generation.\n"
     ]
    },
    {
     "name": "stdout",
     "output_type": "stream",
     "text": [
      "origin :  LH 3vyn ftv 못판다M난 3조E천K_치r매각종\n",
      "cleaned :  LH 3억 원짜리 매각난 3조원짜리 공급차\n"
     ]
    },
    {
     "name": "stderr",
     "output_type": "stream",
     "text": [
      "32it [01:04,  2.02s/it]Setting `pad_token_id` to `eos_token_id`:None for open-end generation.\n"
     ]
    },
    {
     "name": "stdout",
     "output_type": "stream",
     "text": [
      "origin :  미s에셋대우 신한Ns 실적배당nd68목\n",
      "cleaned :  미츠이 스미토모 인베스트먼트 신한은행 실적 배당 68억 원\n"
     ]
    },
    {
     "name": "stderr",
     "output_type": "stream",
     "text": [
      "33it [01:06,  2.02s/it]Setting `pad_token_id` to `eos_token_id`:None for open-end generation.\n"
     ]
    },
    {
     "name": "stdout",
     "output_type": "stream",
     "text": [
      "origin :  LGG6 성 갤S8 제치고xT 영상 1위종합\n",
      "cleaned :  갤럭시 S8을 제치고 LG G6이 영상 성능 1위에 오르다\n"
     ]
    },
    {
     "name": "stderr",
     "output_type": "stream",
     "text": [
      "34it [01:08,  2.02s/it]Setting `pad_token_id` to `eos_token_id`:None for open-end generation.\n"
     ]
    },
    {
     "name": "stdout",
     "output_type": "stream",
     "text": [
      "origin :  회계사 Igh반 경기E상반보다 y정1\n",
      "cleaned :  회계사 이사회, 경영자금 E상반보다 적게 사용\n"
     ]
    },
    {
     "name": "stderr",
     "output_type": "stream",
     "text": [
      "35it [01:10,  2.03s/it]Setting `pad_token_id` to `eos_token_id`:None for open-end generation.\n"
     ]
    },
    {
     "name": "stdout",
     "output_type": "stream",
     "text": [
      "origin :  코로나KFrz산속 달러 강r달K선물ETUQ익률 iT\n",
      "cleaned :  코로나19 팬데믹 속 달러 강세, 선물 ETF의 이익률 급등\n"
     ]
    },
    {
     "name": "stderr",
     "output_type": "stream",
     "text": [
      "36it [01:12,  2.03s/it]Setting `pad_token_id` to `eos_token_id`:None for open-end generation.\n"
     ]
    },
    {
     "name": "stdout",
     "output_type": "stream",
     "text": [
      "origin :  FTT엔0l엔진 부품판매eE재 공급 시장 6출\n",
      "cleaned :  FTT 엔진 부품 판매, 재 공급 시장 6출\n"
     ]
    },
    {
     "name": "stderr",
     "output_type": "stream",
     "text": [
      "37it [01:14,  2.03s/it]Setting `pad_token_id` to `eos_token_id`:None for open-end generation.\n"
     ]
    },
    {
     "name": "stdout",
     "output_type": "stream",
     "text": [
      "origin :  오Gc r권bA채Xa리 소o 반등\n",
      "cleaned :  오스트리아 정부, 코로나19 대응에 2조 원 투자\n"
     ]
    },
    {
     "name": "stderr",
     "output_type": "stream",
     "text": [
      "38it [01:16,  2.03s/it]Setting `pad_token_id` to `eos_token_id`:None for open-end generation.\n"
     ]
    },
    {
     "name": "stdout",
     "output_type": "stream",
     "text": [
      "origin :  쌍k 호주 l동l딜ABiVz\n",
      "cleaned :  호주의 쌍둥이 사육사들, ABIVz와 함께\n"
     ]
    },
    {
     "name": "stderr",
     "output_type": "stream",
     "text": [
      "39it [01:18,  2.03s/it]Setting `pad_token_id` to `eos_token_id`:None for open-end generation.\n"
     ]
    },
    {
     "name": "stdout",
     "output_type": "stream",
     "text": [
      "origin :  무환율에서s보까미i d쟁 방위로P전선 확대종합2보\n",
      "cleaned :  무환율에서 환율보유 미달로 방위비 분담 확대 종합 2보\n"
     ]
    },
    {
     "name": "stderr",
     "output_type": "stream",
     "text": [
      "40it [01:20,  2.03s/it]Setting `pad_token_id` to `eos_token_id`:None for open-end generation.\n"
     ]
    },
    {
     "name": "stdout",
     "output_type": "stream",
     "text": [
      "origin :  살 Dw없다 세계 집값 10q50韓Q30년새 3K\n",
      "cleaned :  세계 집값 10년간 50% 증가, 한국은 30%\n"
     ]
    },
    {
     "name": "stderr",
     "output_type": "stream",
     "text": [
      "41it [01:22,  2.02s/it]Setting `pad_token_id` to `eos_token_id`:None for open-end generation.\n"
     ]
    },
    {
     "name": "stdout",
     "output_type": "stream",
     "text": [
      "origin :  에스유 255억k O스플7이 제조n비 J급계약\n",
      "cleaned :  오스템임플란트, 255억 원 규모의 J급 계약 체결\n"
     ]
    },
    {
     "name": "stderr",
     "output_type": "stream",
     "text": [
      "42it [01:24,  2.02s/it]Setting `pad_token_id` to `eos_token_id`:None for open-end generation.\n"
     ]
    },
    {
     "name": "stdout",
     "output_type": "stream",
     "text": [
      "origin :  o거래가 r장 싼 역세권은 신반포역3 B억 육박\n",
      "cleaned :  역세권 거래가 싼 신반포역3, 100억 육박\n"
     ]
    },
    {
     "name": "stderr",
     "output_type": "stream",
     "text": [
      "43it [01:26,  2.02s/it]Setting `pad_token_id` to `eos_token_id`:None for open-end generation.\n"
     ]
    },
    {
     "name": "stdout",
     "output_type": "stream",
     "text": [
      "origin :  iA 현대현대모비스 주식 90l원4m입J책D경영 강화o합qV\n",
      "cleaned :  현대자동차 현대모비스 주식 90%↑ 경영 강화 합의\n"
     ]
    },
    {
     "name": "stderr",
     "output_type": "stream",
     "text": [
      "44it [01:29,  2.02s/it]Setting `pad_token_id` to `eos_token_id`:None for open-end generation.\n"
     ]
    },
    {
     "name": "stdout",
     "output_type": "stream",
     "text": [
      "origin :  대신v 데d케미칼b자사주v소각긍9q\n",
      "cleaned :  대신증권, 데드크로스와 함께 자사주 소각 긍정\n"
     ]
    },
    {
     "name": "stderr",
     "output_type": "stream",
     "text": [
      "45it [01:31,  2.03s/it]Setting `pad_token_id` to `eos_token_id`:None for open-end generation.\n"
     ]
    },
    {
     "name": "stdout",
     "output_type": "stream",
     "text": [
      "origin :  메시호날두 UEFA 올해의 팀에 선정EPL 선수 제로\n",
      "cleaned :  메시 호날두 UEFA 올해의 팀에 선정, EPL 선수 없음\n"
     ]
    },
    {
     "name": "stderr",
     "output_type": "stream",
     "text": [
      "46it [01:33,  2.02s/it]Setting `pad_token_id` to `eos_token_id`:None for open-end generation.\n"
     ]
    },
    {
     "name": "stdout",
     "output_type": "stream",
     "text": [
      "origin :  F0월o세계에서 많이 팔T스J0폰은 Z폰0\n",
      "cleaned :  2023년 세계에서 가장 많이 팔린 스마트폰은 Z폰입니다.\n"
     ]
    },
    {
     "name": "stderr",
     "output_type": "stream",
     "text": [
      "47it [01:35,  2.02s/it]Setting `pad_token_id` to `eos_token_id`:None for open-end generation.\n"
     ]
    },
    {
     "name": "stdout",
     "output_type": "stream",
     "text": [
      "origin :  IBF증B손R 실6 개V업종 최PD주\n",
      "cleaned :  IBK기업은행, 실업률 6개 업종 최다 증가\n"
     ]
    },
    {
     "name": "stderr",
     "output_type": "stream",
     "text": [
      "48it [01:37,  2.02s/it]Setting `pad_token_id` to `eos_token_id`:None for open-end generation.\n"
     ]
    },
    {
     "name": "stdout",
     "output_type": "stream",
     "text": [
      "origin :  1B금융o차기 O장 최종Q보I UQ실7임 성공g합\n",
      "cleaned :  1억 금융사 차기 대장 최종 후보 7명 확정\n"
     ]
    },
    {
     "name": "stderr",
     "output_type": "stream",
     "text": [
      "49it [01:39,  2.03s/it]Setting `pad_token_id` to `eos_token_id`:None for open-end generation.\n"
     ]
    },
    {
     "name": "stdout",
     "output_type": "stream",
     "text": [
      "origin :  서p자치 곳 R형아a트 pJ3D당_L가 형 추월\n",
      "cleaned :  서울시 서초구 자치구에서 발생한 R형 아파트 당첨자 발표\n"
     ]
    },
    {
     "name": "stderr",
     "output_type": "stream",
     "text": [
      "50it [01:41,  2.03s/it]Setting `pad_token_id` to `eos_token_id`:None for open-end generation.\n"
     ]
    },
    {
     "name": "stdout",
     "output_type": "stream",
     "text": [
      "origin :  QL투 디xe 2분 사상 7r 2z\n",
      "cleaned :  퀄컴 스마트폰 2분기 사상 최고 7억 2천만대 판매\n"
     ]
    },
    {
     "name": "stderr",
     "output_type": "stream",
     "text": [
      "51it [01:43,  2.03s/it]Setting `pad_token_id` to `eos_token_id`:None for open-end generation.\n"
     ]
    },
    {
     "name": "stdout",
     "output_type": "stream",
     "text": [
      "origin :  에스티이 16e억4 규모oDs플n 제조장비공T계1\n",
      "cleaned :  에스티이, 16억 4천만 규모의 DS 플랫폼 제조 장비 공급계약 체결\n"
     ]
    },
    {
     "name": "stderr",
     "output_type": "stream",
     "text": [
      "52it [01:45,  2.03s/it]Setting `pad_token_id` to `eos_token_id`:None for open-end generation.\n"
     ]
    },
    {
     "name": "stdout",
     "output_type": "stream",
     "text": [
      "origin :  지난달 f 분양 F3천268채7개월 연속 v소세\n",
      "cleaned :  지난달 분양 3천268채 7개월 연속 소득세\n"
     ]
    },
    {
     "name": "stderr",
     "output_type": "stream",
     "text": [
      "53it [01:47,  2.04s/it]Setting `pad_token_id` to `eos_token_id`:None for open-end generation.\n"
     ]
    },
    {
     "name": "stdout",
     "output_type": "stream",
     "text": [
      "origin :  B튜오 머HLY생상품 거래k lyNfrWH발\n",
      "cleaned :  B튜오 머HLY생상품 거래k lyNfrWH발\n"
     ]
    },
    {
     "name": "stderr",
     "output_type": "stream",
     "text": [
      "54it [01:49,  2.04s/it]Setting `pad_token_id` to `eos_token_id`:None for open-end generation.\n"
     ]
    },
    {
     "name": "stdout",
     "output_type": "stream",
     "text": [
      "origin :  스피P7zO호y에W240 코r국v 사자K전환\n",
      "cleaned :  코로나19 백신 접종률이 낮은 국가에 대한 사자성어\n"
     ]
    },
    {
     "name": "stderr",
     "output_type": "stream",
     "text": [
      "55it [01:51,  2.03s/it]Setting `pad_token_id` to `eos_token_id`:None for open-end generation.\n"
     ]
    },
    {
     "name": "stdout",
     "output_type": "stream",
     "text": [
      "origin :  년lN북협력기금 9d178억 S출H2016년보다 855억 많아\n",
      "cleaned :  2016년 북한 협력 기금 9,178억 원, 2016년보다 855억 원 많아\n"
     ]
    },
    {
     "name": "stderr",
     "output_type": "stream",
     "text": [
      "56it [01:53,  2.04s/it]Setting `pad_token_id` to `eos_token_id`:None for open-end generation.\n"
     ]
    },
    {
     "name": "stdout",
     "output_type": "stream",
     "text": [
      "origin :  삼MdSK3Co그룹주 P재용w영V기각에 동반 랠리\n",
      "cleaned :  삼성그룹주 P재용 영구기각에 동반 랠리\n"
     ]
    },
    {
     "name": "stderr",
     "output_type": "stream",
     "text": [
      "57it [01:55,  2.03s/it]Setting `pad_token_id` to `eos_token_id`:None for open-end generation.\n"
     ]
    },
    {
     "name": "stdout",
     "output_type": "stream",
     "text": [
      "origin :  3u 아Z트 시z도 과jjp2대YiV2수준 f\n",
      "cleaned :  3차 아시아 태평양 경제협력회의 도쿄에서 개최\n"
     ]
    },
    {
     "name": "stderr",
     "output_type": "stream",
     "text": [
      "58it [01:57,  2.04s/it]Setting `pad_token_id` to `eos_token_id`:None for open-end generation.\n"
     ]
    },
    {
     "name": "stdout",
     "output_type": "stream",
     "text": [
      "origin :  한국MS 윈도10 IoT 에디션 출시B2B 공략\n",
      "cleaned :  한국MS, 윈도10 IoT 에디션 출시... B2B 공략\n"
     ]
    },
    {
     "name": "stderr",
     "output_type": "stream",
     "text": [
      "59it [01:59,  2.04s/it]Setting `pad_token_id` to `eos_token_id`:None for open-end generation.\n"
     ]
    },
    {
     "name": "stdout",
     "output_type": "stream",
     "text": [
      "origin :  애플c이 kt서 2루만Noe천3kG등w대박\n",
      "cleaned :  애플이 kt에서 2루타를 쳐서 대박이다\n"
     ]
    },
    {
     "name": "stderr",
     "output_type": "stream",
     "text": [
      "60it [02:01,  2.03s/it]Setting `pad_token_id` to `eos_token_id`:None for open-end generation.\n"
     ]
    },
    {
     "name": "stdout",
     "output_type": "stream",
     "text": [
      "origin :  까i5씨x주당 1K원 분기배Fm결o\n",
      "cleaned :  SKC 주당 1,000원 분기 배당금 결의\n"
     ]
    },
    {
     "name": "stderr",
     "output_type": "stream",
     "text": [
      "61it [02:03,  2.02s/it]Setting `pad_token_id` to `eos_token_id`:None for open-end generation.\n"
     ]
    },
    {
     "name": "stdout",
     "output_type": "stream",
     "text": [
      "origin :  간편결제 i 1위yL모바일결OICi삼성페 2U\n",
      "cleaned :  간편결제 i 1위 모바일결제 삼성페이 2위\n"
     ]
    },
    {
     "name": "stderr",
     "output_type": "stream",
     "text": [
      "62it [02:05,  2.03s/it]Setting `pad_token_id` to `eos_token_id`:None for open-end generation.\n"
     ]
    },
    {
     "name": "stdout",
     "output_type": "stream",
     "text": [
      "origin :  미안 강남 포스트 d약물량aR경쟁률 33대U1\n",
      "cleaned :  미안 강남 포스트 D약물량 경쟁률 33대 1\n"
     ]
    },
    {
     "name": "stderr",
     "output_type": "stream",
     "text": [
      "63it [02:07,  2.04s/it]Setting `pad_token_id` to `eos_token_id`:None for open-end generation.\n"
     ]
    },
    {
     "name": "stdout",
     "output_type": "stream",
     "text": [
      "origin :  그픽 전세p급Hu 추이\n",
      "cleaned :  그픽 전세급 휴이\n"
     ]
    },
    {
     "name": "stderr",
     "output_type": "stream",
     "text": [
      "64it [02:09,  2.04s/it]Setting `pad_token_id` to `eos_token_id`:None for open-end generation.\n"
     ]
    },
    {
     "name": "stdout",
     "output_type": "stream",
     "text": [
      "origin :  Po뱅크p412CE전5m주G 증신규 주 영l 협P중\n",
      "cleaned :  포스코 412억 원 투자, 전5개월 주택 신공장 영업 시작\n"
     ]
    },
    {
     "name": "stderr",
     "output_type": "stream",
     "text": [
      "65it [02:11,  2.04s/it]Setting `pad_token_id` to `eos_token_id`:None for open-end generation.\n"
     ]
    },
    {
     "name": "stdout",
     "output_type": "stream",
     "text": [
      "origin :  난해 OV은행 신용대w금리 32p자 2천 감소\n",
      "cleaned :  난해은행, 신용대금리 32%p 자 2천원 감소\n"
     ]
    },
    {
     "name": "stderr",
     "output_type": "stream",
     "text": [
      "66it [02:13,  2.04s/it]Setting `pad_token_id` to `eos_token_id`:None for open-end generation.\n"
     ]
    },
    {
     "name": "stdout",
     "output_type": "stream",
     "text": [
      "origin :  ArH 리 폭상9gMU 연X733\n",
      "cleaned :  알리바바 리치 9억 달러로 연간 7,330억 원\n"
     ]
    },
    {
     "name": "stderr",
     "output_type": "stream",
     "text": [
      "67it [02:15,  2.04s/it]Setting `pad_token_id` to `eos_token_id`:None for open-end generation.\n"
     ]
    },
    {
     "name": "stdout",
     "output_type": "stream",
     "text": [
      "origin :  코U닥 vl 갈증 풀리나기술 J고서 매HY0여U발\n",
      "cleaned :  기술의 발전으로 갈증 해결책이 될 수 있는 물이 지구 곳곳에서 발견됐다\n"
     ]
    },
    {
     "name": "stderr",
     "output_type": "stream",
     "text": [
      "68it [02:17,  2.04s/it]Setting `pad_token_id` to `eos_token_id`:None for open-end generation.\n"
     ]
    },
    {
     "name": "stdout",
     "output_type": "stream",
     "text": [
      "origin :  주택연금 가 요내년 2월부터s월수령액 3P 줄어\n",
      "cleaned :  주택연금 가요 내년 2월부터 월 수령액 3% 줄어\n"
     ]
    },
    {
     "name": "stderr",
     "output_type": "stream",
     "text": [
      "69it [02:19,  2.05s/it]Setting `pad_token_id` to `eos_token_id`:None for open-end generation.\n"
     ]
    },
    {
     "name": "stdout",
     "output_type": "stream",
     "text": [
      "origin :  윤KCA감w장 베h남nL앙T1서 tfA세미나 P\n",
      "cleaned :  윤석열 대통령, 베트남 랑까오 국제공항에서 토론회 개최\n"
     ]
    },
    {
     "name": "stderr",
     "output_type": "stream",
     "text": [
      "70it [02:21,  2.04s/it]Setting `pad_token_id` to `eos_token_id`:None for open-end generation.\n"
     ]
    },
    {
     "name": "stdout",
     "output_type": "stream",
     "text": [
      "origin :  2에s로스페스K b아r 인l설 부인분기 적g축L종합\n",
      "cleaned :  2억 5천만 달러로 인프라 투자 확대\n"
     ]
    },
    {
     "name": "stderr",
     "output_type": "stream",
     "text": [
      "71it [02:23,  2.04s/it]Setting `pad_token_id` to `eos_token_id`:None for open-end generation.\n"
     ]
    },
    {
     "name": "stdout",
     "output_type": "stream",
     "text": [
      "origin :  g시판 움k권iXr닥7펀드 입 이벤트\n",
      "cleaned :  시판 움크권 펀드 입 이벤트\n"
     ]
    },
    {
     "name": "stderr",
     "output_type": "stream",
     "text": [
      "72it [02:26,  2.04s/it]Setting `pad_token_id` to `eos_token_id`:None for open-end generation.\n"
     ]
    },
    {
     "name": "stdout",
     "output_type": "stream",
     "text": [
      "origin :  그래3p0대k그룹 시w액S감\n",
      "cleaned :  그룹 삼성전자, 스마트폰 판매 감소\n"
     ]
    },
    {
     "name": "stderr",
     "output_type": "stream",
     "text": [
      "73it [02:28,  2.03s/it]Setting `pad_token_id` to `eos_token_id`:None for open-end generation.\n"
     ]
    },
    {
     "name": "stdout",
     "output_type": "stream",
     "text": [
      "origin :  주택j0카C뱅크 w택금융4Y 개발 협력\n",
      "cleaned :  주택저축은행, 한국금융4Y와 개발 협력\n"
     ]
    },
    {
     "name": "stderr",
     "output_type": "stream",
     "text": [
      "74it [02:30,  2.03s/it]Setting `pad_token_id` to `eos_token_id`:None for open-end generation.\n"
     ]
    },
    {
     "name": "stdout",
     "output_type": "stream",
     "text": [
      "origin :  그래픽 ITm기 용한 B법 증여 3례\n",
      "cleaned :  그래픽 ITM 기 용한 B법 증여 3례\n"
     ]
    },
    {
     "name": "stderr",
     "output_type": "stream",
     "text": [
      "75it [02:32,  2.03s/it]Setting `pad_token_id` to `eos_token_id`:None for open-end generation.\n"
     ]
    },
    {
     "name": "stdout",
     "output_type": "stream",
     "text": [
      "origin :  HxF 이트론에 A가d급등u조R5시 P구\n",
      "cleaned :  H&F 이트론, A급 등유 조달 5시 발표\n"
     ]
    },
    {
     "name": "stderr",
     "output_type": "stream",
     "text": [
      "76it [02:34,  2.03s/it]Setting `pad_token_id` to `eos_token_id`:None for open-end generation.\n"
     ]
    },
    {
     "name": "stdout",
     "output_type": "stream",
     "text": [
      "origin :  기업은 a95억원 규모OPm성장 b모8드F조성\n",
      "cleaned :  기업은 95억원 규모의 OP 성장과 8만 드래프트 조성을 목표로 합니다.\n"
     ]
    },
    {
     "name": "stderr",
     "output_type": "stream",
     "text": [
      "77it [02:36,  2.03s/it]Setting `pad_token_id` to `eos_token_id`:None for open-end generation.\n"
     ]
    },
    {
     "name": "stdout",
     "output_type": "stream",
     "text": [
      "origin :  한화lnZS리테일QUL_Y드 시점F립\n",
      "cleaned :  한화 인베스트먼트&자산운용, 리테일 QUL 투자 시점 파악\n"
     ]
    },
    {
     "name": "stderr",
     "output_type": "stream",
     "text": [
      "78it [02:38,  2.03s/it]Setting `pad_token_id` to `eos_token_id`:None for open-end generation.\n"
     ]
    },
    {
     "name": "stdout",
     "output_type": "stream",
     "text": [
      "origin :  SKT 010 ntl943 사용 갈j우려정부z문제Nt\n",
      "cleaned :  SKT 010번 ntl943 사용자 정부의 문제점\n"
     ]
    },
    {
     "name": "stderr",
     "output_type": "stream",
     "text": [
      "79it [02:40,  2.03s/it]Setting `pad_token_id` to `eos_token_id`:None for open-end generation.\n"
     ]
    },
    {
     "name": "stdout",
     "output_type": "stream",
     "text": [
      "origin :  청주시내국비 목표j1조천921억원올해5 5\n",
      "cleaned :  청주시내국비 목표 1조 9천 2억 원, 올해 5월 5일\n"
     ]
    },
    {
     "name": "stderr",
     "output_type": "stream",
     "text": [
      "80it [02:42,  2.03s/it]Setting `pad_token_id` to `eos_token_id`:None for open-end generation.\n"
     ]
    },
    {
     "name": "stdout",
     "output_type": "stream",
     "text": [
      "origin :  5G 스마7폰 Y대 기본M금 오다월 5만5천원F종합\n",
      "cleaned :  5G 스마트폰 Y대 기본 모델, 오다월 5만 5천원에 출시\n"
     ]
    },
    {
     "name": "stderr",
     "output_type": "stream",
     "text": [
      "81it [02:44,  2.04s/it]Setting `pad_token_id` to `eos_token_id`:None for open-end generation.\n"
     ]
    },
    {
     "name": "stdout",
     "output_type": "stream",
     "text": [
      "origin :  y양r 한진회장G변_속t 맞춰야 생OD다\n",
      "cleaned :  한진그룹 회장 승계 속도맞춰야 생존 가능하다\n"
     ]
    },
    {
     "name": "stderr",
     "output_type": "stream",
     "text": [
      "82it [02:46,  2.04s/it]Setting `pad_token_id` to `eos_token_id`:None for open-end generation.\n"
     ]
    },
    {
     "name": "stdout",
     "output_type": "stream",
     "text": [
      "origin :  서울h션 2일 홍dr매Iz라L워홀 bI초고Q출품\n",
      "cleaned :  서울시 2일 홍대라일레이션쇼 초고 출품\n"
     ]
    },
    {
     "name": "stderr",
     "output_type": "stream",
     "text": [
      "83it [02:48,  2.03s/it]Setting `pad_token_id` to `eos_token_id`:None for open-end generation.\n"
     ]
    },
    {
     "name": "stdout",
     "output_type": "stream",
     "text": [
      "origin :  그gI백화점토fO자산f평amm정\n",
      "cleaned :  그룹 G 백화점 자산 파산 신청\n"
     ]
    },
    {
     "name": "stderr",
     "output_type": "stream",
     "text": [
      "84it [02:50,  2.11s/it]Setting `pad_token_id` to `eos_token_id`:None for open-end generation.\n"
     ]
    },
    {
     "name": "stdout",
     "output_type": "stream",
     "text": [
      "origin :  세계 첫 5G폰 갤럭시S10 5G 출고가 139만7천원 확정종합\n",
      "cleaned :  세계 최초 5G폰 갤럭시S10 5G 출고가 139만 7천원 확정\n"
     ]
    },
    {
     "name": "stderr",
     "output_type": "stream",
     "text": [
      "85it [02:52,  2.08s/it]Setting `pad_token_id` to `eos_token_id`:None for open-end generation.\n"
     ]
    },
    {
     "name": "stdout",
     "output_type": "stream",
     "text": [
      "origin :  디딤 대에도g모신 Om\n",
      "cleaned :  디딤돌에 대한 정부의 대응\n"
     ]
    },
    {
     "name": "stderr",
     "output_type": "stream",
     "text": [
      "86it [02:54,  2.07s/it]Setting `pad_token_id` to `eos_token_id`:None for open-end generation.\n"
     ]
    },
    {
     "name": "stdout",
     "output_type": "stream",
     "text": [
      "origin :  LH 하t 감일지구 q5공동i8용hq필지 Pq\n",
      "cleaned :  LH 하트 감일지구 5공동 i8용 필지\n"
     ]
    },
    {
     "name": "stderr",
     "output_type": "stream",
     "text": [
      "87it [02:56,  2.05s/it]Setting `pad_token_id` to `eos_token_id`:None for open-end generation.\n"
     ]
    },
    {
     "name": "stdout",
     "output_type": "stream",
     "text": [
      "origin :  게시판 한국투g6권B뱅키스2객 상L A9관련k이트\n",
      "cleaned :  한국투자증권, 투자자 보호를 위한 고객센터 개설\n"
     ]
    },
    {
     "name": "stderr",
     "output_type": "stream",
     "text": [
      "88it [02:58,  2.04s/it]Setting `pad_token_id` to `eos_token_id`:None for open-end generation.\n"
     ]
    },
    {
     "name": "stdout",
     "output_type": "stream",
     "text": [
      "origin :  ZN Ajv D0x행 U지없 몰던9w객 화들o종합\n",
      "cleaned :  중국 ZN 회사가 D0x 행사에 참가하여 몰던 9월 고객들을 대상으로 화요일 종합\n"
     ]
    },
    {
     "name": "stderr",
     "output_type": "stream",
     "text": [
      "89it [03:00,  2.04s/it]Setting `pad_token_id` to `eos_token_id`:None for open-end generation.\n"
     ]
    },
    {
     "name": "stdout",
     "output_type": "stream",
     "text": [
      "origin :  티비에이x글벌y1분기 영c익1H4억15k증가\n",
      "cleaned :  티비에이(TVX) 글로벌, 1분기 영업익 1억 4,150만 원 증가\n"
     ]
    },
    {
     "name": "stderr",
     "output_type": "stream",
     "text": [
      "90it [03:02,  2.03s/it]Setting `pad_token_id` to `eos_token_id`:None for open-end generation.\n"
     ]
    },
    {
     "name": "stdout",
     "output_type": "stream",
     "text": [
      "origin :  q년만 아파 채 갭투자 미1인0외국인 다주택s무Q사\n",
      "cleaned :  Q년만 아파트 가격이 폭등해도 외국인 투자자들은 1인 0세대 다주택자에 한해 제한을 두지 않습니다.\n"
     ]
    },
    {
     "name": "stderr",
     "output_type": "stream",
     "text": [
      "91it [03:04,  2.03s/it]Setting `pad_token_id` to `eos_token_id`:None for open-end generation.\n"
     ]
    },
    {
     "name": "stdout",
     "output_type": "stream",
     "text": [
      "origin :  4에치이W16H억원 규pag일러 설비공ms\n",
      "cleaned :  4억 8,100만원 규모의 W16H억원 규모의 설비 공사\n"
     ]
    },
    {
     "name": "stderr",
     "output_type": "stream",
     "text": [
      "92it [03:06,  2.02s/it]Setting `pad_token_id` to `eos_token_id`:None for open-end generation.\n"
     ]
    },
    {
     "name": "stdout",
     "output_type": "stream",
     "text": [
      "origin :  통cf밀려PH용 망가지sb20대y한 99l리\n",
      "cleaned :  통신사 CF 밀려 PH용 망가진 B20대에 한 99리\n"
     ]
    },
    {
     "name": "stderr",
     "output_type": "stream",
     "text": [
      "93it [03:08,  2.02s/it]Setting `pad_token_id` to `eos_token_id`:None for open-end generation.\n"
     ]
    },
    {
     "name": "stdout",
     "output_type": "stream",
     "text": [
      "origin :  원달러 환율f5Z1원 하락G국 가지표 진 영향\n",
      "cleaned :  원달러 환율 1,200원 하락, 국채 판매 영향\n"
     ]
    },
    {
     "name": "stderr",
     "output_type": "stream",
     "text": [
      "94it [03:10,  2.03s/it]Setting `pad_token_id` to `eos_token_id`:None for open-end generation.\n"
     ]
    },
    {
     "name": "stdout",
     "output_type": "stream",
     "text": [
      "origin :  출15주년맞은kKTtU누C거래금 2조원 눈f\n",
      "cleaned :  KT&G, 15주년 맞아 누적 거래금 2조 원 돌파\n"
     ]
    },
    {
     "name": "stderr",
     "output_type": "stream",
     "text": [
      "95it [03:12,  2.04s/it]Setting `pad_token_id` to `eos_token_id`:None for open-end generation.\n"
     ]
    },
    {
     "name": "stdout",
     "output_type": "stream",
     "text": [
      "origin :  대부업ah대출6품gz강화중요사항4F자 필 작성\n",
      "cleaned :  대부업 대출 6품 강화, 중요한 사항 4F 자필 작성\n"
     ]
    },
    {
     "name": "stderr",
     "output_type": "stream",
     "text": [
      "96it [03:14,  2.03s/it]Setting `pad_token_id` to `eos_token_id`:None for open-end generation.\n"
     ]
    },
    {
     "name": "stdout",
     "output_type": "stream",
     "text": [
      "origin :  선업회zH QA도 LNtRS양일감g공z채까\n",
      "cleaned :  선업회와 Q&A 도안 양일간 공채\n"
     ]
    },
    {
     "name": "stderr",
     "output_type": "stream",
     "text": [
      "97it [03:16,  2.03s/it]Setting `pad_token_id` to `eos_token_id`:None for open-end generation.\n"
     ]
    },
    {
     "name": "stdout",
     "output_type": "stream",
     "text": [
      "origin :  2Gt 할인s행 9월중Lce 늦질Uc도\n",
      "cleaned :  2G 할인 행사 9월 중 실시\n"
     ]
    },
    {
     "name": "stderr",
     "output_type": "stream",
     "text": [
      "98it [03:19,  2.08s/it]Setting `pad_token_id` to `eos_token_id`:None for open-end generation.\n"
     ]
    },
    {
     "name": "stdout",
     "output_type": "stream",
     "text": [
      "origin :  51은행 정기인사j책연구 q간교fW확대\n",
      "cleaned :  51은행 정기인사 책임연구원 간교 확대\n"
     ]
    },
    {
     "name": "stderr",
     "output_type": "stream",
     "text": [
      "99it [03:21,  2.24s/it]Setting `pad_token_id` to `eos_token_id`:None for open-end generation.\n"
     ]
    },
    {
     "name": "stdout",
     "output_type": "stream",
     "text": [
      "origin :  a스13vo원Uz모 반5U제조r비공C약\n",
      "cleaned :  스포츠토토 복권 판매 5억 5천만 원 예산\n"
     ]
    },
    {
     "name": "stderr",
     "output_type": "stream",
     "text": [
      "100it [03:24,  2.35s/it]Setting `pad_token_id` to `eos_token_id`:None for open-end generation.\n"
     ]
    },
    {
     "name": "stdout",
     "output_type": "stream",
     "text": [
      "origin :  raw래F H인 _G8H 장 진입zo 완화i6진\n",
      "cleaned :  G8 국가들이 코로나19 관련 여행 제한을 완화합니다.\n"
     ]
    },
    {
     "name": "stderr",
     "output_type": "stream",
     "text": [
      "101it [03:27,  2.43s/it]Setting `pad_token_id` to `eos_token_id`:None for open-end generation.\n"
     ]
    },
    {
     "name": "stdout",
     "output_type": "stream",
     "text": [
      "origin :  비트C인 가uasf화의96배_주B EU15O\n",
      "cleaned :  비트코인 가짜 화폐 96배 증가\n"
     ]
    },
    {
     "name": "stderr",
     "output_type": "stream",
     "text": [
      "102it [03:29,  2.49s/it]Setting `pad_token_id` to `eos_token_id`:None for open-end generation.\n"
     ]
    },
    {
     "name": "stdout",
     "output_type": "stream",
     "text": [
      "origin :  C스i1황Qu권주도 r활kKPB자상승Y k8\n",
      "cleaned :  한국 코스닥 주가가 상승하며 기업들 활황을 맞이\n"
     ]
    },
    {
     "name": "stderr",
     "output_type": "stream",
     "text": [
      "103it [03:32,  2.53s/it]Setting `pad_token_id` to `eos_token_id`:None for open-end generation.\n"
     ]
    },
    {
     "name": "stdout",
     "output_type": "stream",
     "text": [
      "origin :  투리 이앤엠 지분Y매t\n",
      "cleaned :  투리 이앤엠 지분 1% 매입\n"
     ]
    },
    {
     "name": "stderr",
     "output_type": "stream",
     "text": [
      "104it [03:34,  2.56s/it]Setting `pad_token_id` to `eos_token_id`:None for open-end generation.\n"
     ]
    },
    {
     "name": "stdout",
     "output_type": "stream",
     "text": [
      "origin :  미 Q상 a성pVx1러 XK7nP반등M마감\n",
      "cleaned :  미국 Q상, a성, pVx1, 러시아, XK7nP, 반등, 마감\n"
     ]
    },
    {
     "name": "stderr",
     "output_type": "stream",
     "text": [
      "105it [03:37,  2.57s/it]Setting `pad_token_id` to `eos_token_id`:None for open-end generation.\n"
     ]
    },
    {
     "name": "stdout",
     "output_type": "stream",
     "text": [
      "origin :  하나 투q삼성전기 2D기 실c기eC이하목표\n",
      "cleaned :  하나투어삼성전기 2D기 실적이 하락 목표\n"
     ]
    },
    {
     "name": "stderr",
     "output_type": "stream",
     "text": [
      "106it [03:40,  2.59s/it]Setting `pad_token_id` to `eos_token_id`:None for open-end generation.\n"
     ]
    },
    {
     "name": "stdout",
     "output_type": "stream",
     "text": [
      "origin :  유바이오로직S분기X업익 l억원lU37 증가\n",
      "cleaned :  유바이오로직, 분기별 영업이익 37억원 증가\n"
     ]
    },
    {
     "name": "stderr",
     "output_type": "stream",
     "text": [
      "107it [03:42,  2.59s/it]Setting `pad_token_id` to `eos_token_id`:None for open-end generation.\n"
     ]
    },
    {
     "name": "stdout",
     "output_type": "stream",
     "text": [
      "origin :  日언론 고노 외상 美 USTR 대표와 회담WTO 개혁 연대키로\n",
      "cleaned :  日언론 고노 외상, 美 USTR 대표와 회담...WTO 개혁 연대키로\n"
     ]
    },
    {
     "name": "stderr",
     "output_type": "stream",
     "text": [
      "108it [03:45,  2.60s/it]Setting `pad_token_id` to `eos_token_id`:None for open-end generation.\n"
     ]
    },
    {
     "name": "stdout",
     "output_type": "stream",
     "text": [
      "origin :  고개O 지방저L득1 r 부a 굴Y o출 l야\n",
      "cleaned :  고개 올리고 지방저축 1억 원 출혈야\n"
     ]
    },
    {
     "name": "stderr",
     "output_type": "stream",
     "text": [
      "109it [03:47,  2.60s/it]Setting `pad_token_id` to `eos_token_id`:None for open-end generation.\n"
     ]
    },
    {
     "name": "stdout",
     "output_type": "stream",
     "text": [
      "origin :  래X I2TlE가입 케이 vV 91월\n",
      "cleaned :  래퍼 X, 2월에 I2T로 이적\n"
     ]
    },
    {
     "name": "stderr",
     "output_type": "stream",
     "text": [
      "110it [03:50,  2.61s/it]Setting `pad_token_id` to `eos_token_id`:None for open-end generation.\n"
     ]
    },
    {
     "name": "stdout",
     "output_type": "stream",
     "text": [
      "origin :  국고채 금리 일제히 하락3년물 연 1717\n",
      "cleaned :  국고채 금리 일제히 하락, 3년물 연 1.717%\n"
     ]
    },
    {
     "name": "stderr",
     "output_type": "stream",
     "text": [
      "111it [03:53,  2.61s/it]Setting `pad_token_id` to `eos_token_id`:None for open-end generation.\n"
     ]
    },
    {
     "name": "stdout",
     "output_type": "stream",
     "text": [
      "origin :  대신證 아7레퍼시픽 신IXE경rj 목d가\n",
      "cleaned :  대신증권, 아7레퍼시픽 신종 바이러스 확진자 발생\n"
     ]
    },
    {
     "name": "stderr",
     "output_type": "stream",
     "text": [
      "112it [03:55,  2.61s/it]Setting `pad_token_id` to `eos_token_id`:None for open-end generation.\n"
     ]
    },
    {
     "name": "stdout",
     "output_type": "stream",
     "text": [
      "origin :  오늘의sux전7 B닝쇼크H피하 위한 적fG B요\n",
      "cleaned :  오늘의 7월 B닝쇼크, H피하 위한 적기 B요\n"
     ]
    },
    {
     "name": "stderr",
     "output_type": "stream",
     "text": [
      "113it [03:58,  2.61s/it]Setting `pad_token_id` to `eos_token_id`:None for open-end generation.\n"
     ]
    },
    {
     "name": "stdout",
     "output_type": "stream",
     "text": [
      "origin :  케이S투자 거세 폐XJZB평m 주식거F1e원 가\n",
      "cleaned :  케이스투자 저렴한 가격에 주식 구매에 관심\n"
     ]
    },
    {
     "name": "stderr",
     "output_type": "stream",
     "text": [
      "114it [04:00,  2.61s/it]Setting `pad_token_id` to `eos_token_id`:None for open-end generation.\n"
     ]
    },
    {
     "name": "stdout",
     "output_type": "stream",
     "text": [
      "origin :  H조원 실_ 보라인 D로벌 기z 사냥 7망\n",
      "cleaned :  H조원 실종된 보험 대리점 D로벌 기자가 사냥 7명\n"
     ]
    },
    {
     "name": "stderr",
     "output_type": "stream",
     "text": [
      "115it [04:03,  2.61s/it]Setting `pad_token_id` to `eos_token_id`:None for open-end generation.\n"
     ]
    },
    {
     "name": "stdout",
     "output_type": "stream",
     "text": [
      "origin :  FJO로M딜라P 인수추진E실d9시작\n",
      "cleaned :  F&J 오토모티브가 디트로이트 리서치사의 인수 추진을 시작합니다\n"
     ]
    },
    {
     "name": "stderr",
     "output_type": "stream",
     "text": [
      "116it [04:06,  2.61s/it]Setting `pad_token_id` to `eos_token_id`:None for open-end generation.\n"
     ]
    },
    {
     "name": "stdout",
     "output_type": "stream",
     "text": [
      "origin :  21월에 해c제과식품 등2E8n만주 보호a9H풀려\n",
      "cleaned :  21월에 해양생물 보호법 개정안 만주 지역 2,808만주 풀려\n"
     ]
    },
    {
     "name": "stderr",
     "output_type": "stream",
     "text": [
      "117it [04:08,  2.62s/it]Setting `pad_token_id` to `eos_token_id`:None for open-end generation.\n"
     ]
    },
    {
     "name": "stdout",
     "output_type": "stream",
     "text": [
      "origin :  DMG69원c모 스플이2패널 제조 U 공급 계약\n",
      "cleaned :  제목없음\n"
     ]
    },
    {
     "name": "stderr",
     "output_type": "stream",
     "text": [
      "118it [04:11,  2.62s/it]Setting `pad_token_id` to `eos_token_id`:None for open-end generation.\n"
     ]
    },
    {
     "name": "stdout",
     "output_type": "stream",
     "text": [
      "origin :  O대로9현Z차투자증_P20cM 채권 매X\n",
      "cleaned :  오늘도 9시 현장에서 Z차 투자자 증권 거래\n"
     ]
    },
    {
     "name": "stderr",
     "output_type": "stream",
     "text": [
      "119it [04:14,  2.62s/it]Setting `pad_token_id` to `eos_token_id`:None for open-end generation.\n"
     ]
    },
    {
     "name": "stdout",
     "output_type": "stream",
     "text": [
      "origin :  L데株 시 Gu나檢mvZ 7Z사 w총 1mo억 증E합\n",
      "cleaned :  LGM 데스크톱 컴퓨터 가격 인하 검토\n"
     ]
    },
    {
     "name": "stderr",
     "output_type": "stream",
     "text": [
      "120it [04:16,  2.56s/it]Setting `pad_token_id` to `eos_token_id`:None for open-end generation.\n"
     ]
    },
    {
     "name": "stdout",
     "output_type": "stream",
     "text": [
      "origin :  채 _리20년5이빼yN 소폭 하\n",
      "cleaned :  채널 20년 5월 소폭 하락\n"
     ]
    },
    {
     "name": "stderr",
     "output_type": "stream",
     "text": [
      "121it [04:18,  2.40s/it]Setting `pad_token_id` to `eos_token_id`:None for open-end generation.\n"
     ]
    },
    {
     "name": "stdout",
     "output_type": "stream",
     "text": [
      "origin :  스코i8Zr b모 8로 방음CN 공fC\n",
      "cleaned :  방음 공법 적용을 위한 b모 8로 연구\n"
     ]
    },
    {
     "name": "stderr",
     "output_type": "stream",
     "text": [
      "122it [04:20,  2.29s/it]Setting `pad_token_id` to `eos_token_id`:None for open-end generation.\n"
     ]
    },
    {
     "name": "stdout",
     "output_type": "stream",
     "text": [
      "origin :  v플 앱스어애플뮤직 9월g터j원z2제 원\n",
      "cleaned :  v플 앱스 애플 뮤직 9월 원\n"
     ]
    },
    {
     "name": "stderr",
     "output_type": "stream",
     "text": [
      "123it [04:22,  2.21s/it]Setting `pad_token_id` to `eos_token_id`:None for open-end generation.\n"
     ]
    },
    {
     "name": "stdout",
     "output_type": "stream",
     "text": [
      "origin :  DB금융d팩10반도y4비업W 네온크 흡수b병\n",
      "cleaned :  DB금융 팩10 반도체 업계 4대 비율에 대한 NEON의 흡수\n"
     ]
    },
    {
     "name": "stderr",
     "output_type": "stream",
     "text": [
      "124it [04:25,  2.33s/it]Setting `pad_token_id` to `eos_token_id`:None for open-end generation.\n"
     ]
    },
    {
     "name": "stdout",
     "output_type": "stream",
     "text": [
      "origin :  W출_T행l성공단 경협6금신청d접HU작wM\n",
      "cleaned :  월드컵 성공 단 경협 6개 금 신청 접수작\n"
     ]
    },
    {
     "name": "stderr",
     "output_type": "stream",
     "text": [
      "125it [04:27,  2.41s/it]Setting `pad_token_id` to `eos_token_id`:None for open-end generation.\n"
     ]
    },
    {
     "name": "stdout",
     "output_type": "stream",
     "text": [
      "origin :  특징X mx소 q7적R전망Q1강l\n",
      "cleaned :  특징 X: Q1 강판 가격 전망\n"
     ]
    },
    {
     "name": "stderr",
     "output_type": "stream",
     "text": [
      "126it [04:30,  2.48s/it]Setting `pad_token_id` to `eos_token_id`:None for open-end generation.\n"
     ]
    },
    {
     "name": "stdout",
     "output_type": "stream",
     "text": [
      "origin :  방탄소년단 LG G7 씽큐 광고 50일만에 15억뷰 돌파\n",
      "cleaned :  방탄소년단 LG G7 씽큐 광고 50일 만에 15억뷰 돌파\n"
     ]
    },
    {
     "name": "stderr",
     "output_type": "stream",
     "text": [
      "127it [04:33,  2.52s/it]Setting `pad_token_id` to `eos_token_id`:None for open-end generation.\n"
     ]
    },
    {
     "name": "stdout",
     "output_type": "stream",
     "text": [
      "origin :  현W선 2B업손실2u5x3억원C적 지h종합\n",
      "cleaned :  현대차, 2분기 W선 2억 5,300만 원의 영업손실을 기록하다\n"
     ]
    },
    {
     "name": "stderr",
     "output_type": "stream",
     "text": [
      "128it [04:35,  2.55s/it]Setting `pad_token_id` to `eos_token_id`:None for open-end generation.\n"
     ]
    },
    {
     "name": "stdout",
     "output_type": "stream",
     "text": [
      "origin :  LGU 5G SA 상용화 준비SA 기술 NSA 코어 장비에 연동 검증\n",
      "cleaned :  LGU 5G SA 상용화 준비, SA 기술 NSA 코어 장비에 연동 검증\n"
     ]
    },
    {
     "name": "stderr",
     "output_type": "stream",
     "text": [
      "129it [04:38,  2.57s/it]Setting `pad_token_id` to `eos_token_id`:None for open-end generation.\n"
     ]
    },
    {
     "name": "stdout",
     "output_type": "stream",
     "text": [
      "origin :  7 신k합정보m신설M정보j등 제공\n",
      "cleaned :  7개 신규 합병 및 정보제공\n"
     ]
    },
    {
     "name": "stderr",
     "output_type": "stream",
     "text": [
      "130it [04:40,  2.58s/it]Setting `pad_token_id` to `eos_token_id`:None for open-end generation.\n"
     ]
    },
    {
     "name": "stdout",
     "output_type": "stream",
     "text": [
      "origin :  O적금ks N금2불SY3인다l입y간 례해 7리S용\n",
      "cleaned :  저금계좌 잔액 2억 7,300만원이 7년간 증가했습니다.\n"
     ]
    },
    {
     "name": "stderr",
     "output_type": "stream",
     "text": [
      "131it [04:43,  2.59s/it]Setting `pad_token_id` to `eos_token_id`:None for open-end generation.\n"
     ]
    },
    {
     "name": "stdout",
     "output_type": "stream",
     "text": [
      "origin :  갤Sr신형 LnV3g 내달 9일 동시시 유력가 0만원K\n",
      "cleaned :  갤럭시 S 신형 론칭 이벤트 3월 9일 동시 진행, 유력 가상화폐 0원에 판매\n"
     ]
    },
    {
     "name": "stderr",
     "output_type": "stream",
     "text": [
      "132it [04:46,  2.60s/it]Setting `pad_token_id` to `eos_token_id`:None for open-end generation.\n"
     ]
    },
    {
     "name": "stdout",
     "output_type": "stream",
     "text": [
      "origin :  득1천만H3도V리 월세2출 Ib진다\n",
      "cleaned :  1000만 H3도 V리 월세 2억 원짜리 임대\n"
     ]
    },
    {
     "name": "stderr",
     "output_type": "stream",
     "text": [
      "133it [04:48,  2.60s/it]Setting `pad_token_id` to `eos_token_id`:None for open-end generation.\n"
     ]
    },
    {
     "name": "stdout",
     "output_type": "stream",
     "text": [
      "origin :  g신 S_ 사외사에 권력기관 출신 9사들 K천\n",
      "cleaned :  신 S 사외사에 권력기관 출신 9사 K천 명\n"
     ]
    },
    {
     "name": "stderr",
     "output_type": "stream",
     "text": [
      "134it [04:51,  2.61s/it]Setting `pad_token_id` to `eos_token_id`:None for open-end generation.\n"
     ]
    },
    {
     "name": "stdout",
     "output_type": "stream",
     "text": [
      "origin :  금Mhs국경제n3b벌 요8Dl에 흔들Z X1\n",
      "cleaned :  금요일 경제 뉴스 3번: 벌써 8분째에 흔들리는 X1\n"
     ]
    },
    {
     "name": "stderr",
     "output_type": "stream",
     "text": [
      "135it [04:53,  2.61s/it]Setting `pad_token_id` to `eos_token_id`:None for open-end generation.\n"
     ]
    },
    {
     "name": "stdout",
     "output_type": "stream",
     "text": [
      "origin :  eY케딩스 B주주법인r수병\n",
      "cleaned :  eY코딩스의 B 주주 법인 수익 증가\n"
     ]
    },
    {
     "name": "stderr",
     "output_type": "stream",
     "text": [
      "136it [04:56,  2.61s/it]Setting `pad_token_id` to `eos_token_id`:None for open-end generation.\n"
     ]
    },
    {
     "name": "stdout",
     "output_type": "stream",
     "text": [
      "origin :  부제StZ 32개사 qe Ru 의무Ms제\n",
      "cleaned :  부제: 제32차 스포츠조선 컨퍼런스, 32개사 참여\n"
     ]
    },
    {
     "name": "stderr",
     "output_type": "stream",
     "text": [
      "137it [04:59,  2.61s/it]Setting `pad_token_id` to `eos_token_id`:None for open-end generation.\n"
     ]
    },
    {
     "name": "stdout",
     "output_type": "stream",
     "text": [
      "origin :  독 작년 세_시U5파트D분양권 Yey1만31 투\n",
      "cleaned :  2021년 12월 5일 U5파트 D 분양권 5만 3,100개 발행\n"
     ]
    },
    {
     "name": "stderr",
     "output_type": "stream",
     "text": [
      "138it [05:01,  2.61s/it]Setting `pad_token_id` to `eos_token_id`:None for open-end generation.\n"
     ]
    },
    {
     "name": "stdout",
     "output_type": "stream",
     "text": [
      "origin :  금융당국 Q초부 x금융위 금p종합검Q안q정해4\n",
      "cleaned :  금융위원회, 금융정책 종합검토안 4차 수정안 발표\n"
     ]
    },
    {
     "name": "stderr",
     "output_type": "stream",
     "text": [
      "139it [05:04,  2.61s/it]Setting `pad_token_id` to `eos_token_id`:None for open-end generation.\n"
     ]
    },
    {
     "name": "stdout",
     "output_type": "stream",
     "text": [
      "origin :  은행연Q 첫 사0 편yY내년i4지t9Sb사 사료\n",
      "cleaned :  은행연 Q 첫 사료 내년 지점 개설\n"
     ]
    },
    {
     "name": "stderr",
     "output_type": "stream",
     "text": [
      "140it [05:07,  2.61s/it]Setting `pad_token_id` to `eos_token_id`:None for open-end generation.\n"
     ]
    },
    {
     "name": "stdout",
     "output_type": "stream",
     "text": [
      "origin :  P페인트공업 s 연결7영업r 88억원54\n",
      "cleaned :  페인트 공업사의 연결 7분기 영업익 88억원 54\n"
     ]
    },
    {
     "name": "stderr",
     "output_type": "stream",
     "text": [
      "141it [05:09,  2.61s/it]Setting `pad_token_id` to `eos_token_id`:None for open-end generation.\n"
     ]
    },
    {
     "name": "stdout",
     "output_type": "stream",
     "text": [
      "origin :  코U닥Ue일X L드H3천9원 규모 조\n",
      "cleaned :  코닥 3천9억 원 규모 조\n"
     ]
    },
    {
     "name": "stderr",
     "output_type": "stream",
     "text": [
      "142it [05:12,  2.62s/it]Setting `pad_token_id` to `eos_token_id`:None for open-end generation.\n"
     ]
    },
    {
     "name": "stdout",
     "output_type": "stream",
     "text": [
      "origin :  오션a6지 중 자회사 지분 2억O 취득\n",
      "cleaned :  오션6지 중 자회사 지분 2억 원 취득\n"
     ]
    },
    {
     "name": "stderr",
     "output_type": "stream",
     "text": [
      "143it [05:14,  2.61s/it]Setting `pad_token_id` to `eos_token_id`:None for open-end generation.\n"
     ]
    },
    {
     "name": "stdout",
     "output_type": "stream",
     "text": [
      "origin :  한ll유w년 연결 영업익 300억Dn4Qx2감소\n",
      "cleaned :  한라연결 4Q 영업이익 300억원 감소\n"
     ]
    },
    {
     "name": "stderr",
     "output_type": "stream",
     "text": [
      "144it [05:17,  2.61s/it]Setting `pad_token_id` to `eos_token_id`:None for open-end generation.\n"
     ]
    },
    {
     "name": "stdout",
     "output_type": "stream",
     "text": [
      "origin :  에W성엘에스티에bm00yxr규\n",
      "cleaned :  에스트리스트, 국내 시장 진출\n"
     ]
    },
    {
     "name": "stderr",
     "output_type": "stream",
     "text": [
      "145it [05:20,  2.62s/it]Setting `pad_token_id` to `eos_token_id`:None for open-end generation.\n"
     ]
    },
    {
     "name": "stdout",
     "output_type": "stream",
     "text": [
      "origin :  신세계푸k 3분기영8익 ZA억원BDJO\n",
      "cleaned :  신세계푸드, 3분기 영업이익 8억원 달성\n"
     ]
    },
    {
     "name": "stderr",
     "output_type": "stream",
     "text": [
      "146it [05:22,  2.62s/it]Setting `pad_token_id` to `eos_token_id`:None for open-end generation.\n"
     ]
    },
    {
     "name": "stdout",
     "output_type": "stream",
     "text": [
      "origin :  NHNY터 3분기C영이익V23억원흑자환종합\n",
      "cleaned :  NH농협은행, 3분기 영업이익 23억 원 흑자…전체 금융그룹 흑자\n"
     ]
    },
    {
     "name": "stderr",
     "output_type": "stream",
     "text": [
      "147it [05:25,  2.62s/it]Setting `pad_token_id` to `eos_token_id`:None for open-end generation.\n"
     ]
    },
    {
     "name": "stdout",
     "output_type": "stream",
     "text": [
      "origin :  t미정상회담W3대에 cF_ mV0선4턱밑\n",
      "cleaned :  제목없음\n"
     ]
    },
    {
     "name": "stderr",
     "output_type": "stream",
     "text": [
      "148it [05:27,  2.62s/it]Setting `pad_token_id` to `eos_token_id`:None for open-end generation.\n"
     ]
    },
    {
     "name": "stdout",
     "output_type": "stream",
     "text": [
      "origin :  계9되는 유가 a승8월 HGq건 37개월 만에 최악\n",
      "cleaned :  유가 9월 8일 37개월 만에 최악\n"
     ]
    },
    {
     "name": "stderr",
     "output_type": "stream",
     "text": [
      "149it [05:30,  2.62s/it]Setting `pad_token_id` to `eos_token_id`:None for open-end generation.\n"
     ]
    },
    {
     "name": "stdout",
     "output_type": "stream",
     "text": [
      "origin :  m노Bd 출시rl B럭sSH0qGF출bwe리v g금 올라\n",
      "cleaned :  제목없음\n"
     ]
    },
    {
     "name": "stderr",
     "output_type": "stream",
     "text": [
      "150it [05:33,  2.62s/it]Setting `pad_token_id` to `eos_token_id`:None for open-end generation.\n"
     ]
    },
    {
     "name": "stdout",
     "output_type": "stream",
     "text": [
      "origin :  YGu 품안tH팜한NT닻 올렸f\n",
      "cleaned :  유럽 의회, GMO 식품 안전 인증제 도입 추진\n"
     ]
    },
    {
     "name": "stderr",
     "output_type": "stream",
     "text": [
      "151it [05:35,  2.59s/it]Setting `pad_token_id` to `eos_token_id`:None for open-end generation.\n"
     ]
    },
    {
     "name": "stdout",
     "output_type": "stream",
     "text": [
      "origin :  코qi기관mr인5매수E 반F스 P대 상승V합\n",
      "cleaned :  제목없음\n"
     ]
    },
    {
     "name": "stderr",
     "output_type": "stream",
     "text": [
      "152it [05:37,  2.42s/it]Setting `pad_token_id` to `eos_token_id`:None for open-end generation.\n"
     ]
    },
    {
     "name": "stdout",
     "output_type": "stream",
     "text": [
      "origin :  _Q_리론 금리A내Q8타y5비중 83월새pm1N 급증\n",
      "cleaned :  제목없음\n"
     ]
    },
    {
     "name": "stderr",
     "output_type": "stream",
     "text": [
      "153it [05:39,  2.30s/it]Setting `pad_token_id` to `eos_token_id`:None for open-end generation.\n"
     ]
    },
    {
     "name": "stdout",
     "output_type": "stream",
     "text": [
      "origin :  IKh 셀트x 코X피s00HY입 시 천9441 입\n",
      "cleaned :  이카페 셀트리온 코스피 상승세\n"
     ]
    },
    {
     "name": "stderr",
     "output_type": "stream",
     "text": [
      "154it [05:41,  2.22s/it]Setting `pad_token_id` to `eos_token_id`:None for open-end generation.\n"
     ]
    },
    {
     "name": "stdout",
     "output_type": "stream",
     "text": [
      "origin :  2대차7O인승 JUV리세이6 출시3천40rJ대 시작\n",
      "cleaned :  2세대 7인승 JUV 리세이 6 출시, 3천 40만원 시작\n"
     ]
    },
    {
     "name": "stderr",
     "output_type": "stream",
     "text": [
      "155it [05:43,  2.16s/it]Setting `pad_token_id` to `eos_token_id`:None for open-end generation.\n"
     ]
    },
    {
     "name": "stdout",
     "output_type": "stream",
     "text": [
      "origin :  SKT 세계 최초 5G 가입자 100만 명 돌파\n",
      "cleaned :  SK텔레콤, 세계 최초 5G 가입자 100만 명 돌파\n"
     ]
    },
    {
     "name": "stderr",
     "output_type": "stream",
     "text": [
      "156it [05:45,  2.12s/it]Setting `pad_token_id` to `eos_token_id`:None for open-end generation.\n"
     ]
    },
    {
     "name": "stdout",
     "output_type": "stream",
     "text": [
      "origin :  SK텔레콤x기050Y이면 m마트ia정 끝\n",
      "cleaned :  SK텔레콤과 기울어지는 마트, 마트의 정점에 도달하다\n"
     ]
    },
    {
     "name": "stderr",
     "output_type": "stream",
     "text": [
      "157it [05:47,  2.09s/it]Setting `pad_token_id` to `eos_token_id`:None for open-end generation.\n"
     ]
    },
    {
     "name": "stdout",
     "output_type": "stream",
     "text": [
      "origin :  2가르항공NGU서항G권2c할8 판d\n",
      "cleaned :  대한항공, 인천공항에서 G권 2개 취항\n"
     ]
    },
    {
     "name": "stderr",
     "output_type": "stream",
     "text": [
      "158it [05:49,  2.07s/it]Setting `pad_token_id` to `eos_token_id`:None for open-end generation.\n"
     ]
    },
    {
     "name": "stdout",
     "output_type": "stream",
     "text": [
      "origin :  삼물u 2분기 z업이익 1T47r억ac년다 3f8ZO늘어\n",
      "cleaned :  삼성전자 2분기 영업이익 1조 4천억원 달성\n"
     ]
    },
    {
     "name": "stderr",
     "output_type": "stream",
     "text": [
      "159it [05:51,  2.06s/it]Setting `pad_token_id` to `eos_token_id`:None for open-end generation.\n"
     ]
    },
    {
     "name": "stdout",
     "output_type": "stream",
     "text": [
      "origin :  f신증권I1분기 실o EI3락코_피 하락 압력 증가\n",
      "cleaned :  1분기 신증권회사 실적, 하락 압력 증가\n"
     ]
    },
    {
     "name": "stderr",
     "output_type": "stream",
     "text": [
      "160it [05:53,  2.05s/it]Setting `pad_token_id` to `eos_token_id`:None for open-end generation.\n"
     ]
    },
    {
     "name": "stdout",
     "output_type": "stream",
     "text": [
      "origin :  2018 ICT 삼성 폴더블폰 새해 애플 아이폰X 대항마될까\n",
      "cleaned :  2018년 ICT 삼성 폴더블폰, 새해 애플 아이폰X 대항마 될까?\n"
     ]
    },
    {
     "name": "stderr",
     "output_type": "stream",
     "text": [
      "161it [05:55,  2.04s/it]Setting `pad_token_id` to `eos_token_id`:None for open-end generation.\n"
     ]
    },
    {
     "name": "stdout",
     "output_type": "stream",
     "text": [
      "origin :  캠 송파_아시t선수 M파3등i1Dl72DV압류g산T매\n",
      "cleaned :  송파캠 M 선수, 3등 아시안 게임 금메달 획득\n"
     ]
    },
    {
     "name": "stderr",
     "output_type": "stream",
     "text": [
      "162it [05:58,  2.04s/it]Setting `pad_token_id` to `eos_token_id`:None for open-end generation.\n"
     ]
    },
    {
     "name": "stdout",
     "output_type": "stream",
     "text": [
      "origin :  T 화의 가a 기업용7전D R시\n",
      "cleaned :  T 화의 가 기업용 7 전 D R 시\n"
     ]
    },
    {
     "name": "stderr",
     "output_type": "stream",
     "text": [
      "163it [06:00,  2.06s/it]Setting `pad_token_id` to `eos_token_id`:None for open-end generation.\n"
     ]
    },
    {
     "name": "stdout",
     "output_type": "stream",
     "text": [
      "origin :  y아 기관 매수세Uy스피T장V 2G8선 회O종합\n",
      "cleaned :  기관 매수세로 주가 2,800선 회복\n"
     ]
    },
    {
     "name": "stderr",
     "output_type": "stream",
     "text": [
      "164it [06:02,  2.05s/it]Setting `pad_token_id` to `eos_token_id`:None for open-end generation.\n"
     ]
    },
    {
     "name": "stdout",
     "output_type": "stream",
     "text": [
      "origin :  셀_리U1C기P영 이xvn20h억B작년 대k5s2J종e\n",
      "cleaned :  셀리우1C 기획영 2020년 5억 2천만 원 대종예\n"
     ]
    },
    {
     "name": "stderr",
     "output_type": "stream",
     "text": [
      "165it [06:04,  2.04s/it]Setting `pad_token_id` to `eos_token_id`:None for open-end generation.\n"
     ]
    },
    {
     "name": "stdout",
     "output_type": "stream",
     "text": [
      "origin :  공31 상에 H기침Ux임9g6오르나촉UWq Y\n",
      "cleaned :  공31 상에 H기침약이 오르나 촉구\n"
     ]
    },
    {
     "name": "stderr",
     "output_type": "stream",
     "text": [
      "166it [06:06,  2.03s/it]Setting `pad_token_id` to `eos_token_id`:None for open-end generation.\n"
     ]
    },
    {
     "name": "stdout",
     "output_type": "stream",
     "text": [
      "origin :  C피 하aw출발z후 상Y 전환S장20fHSV합uh\n",
      "cleaned :  CPI 하락 이후 상승 전환, 20개월 만에 최고치 기록\n"
     ]
    },
    {
     "name": "stderr",
     "output_type": "stream",
     "text": [
      "167it [06:08,  2.03s/it]Setting `pad_token_id` to `eos_token_id`:None for open-end generation.\n"
     ]
    },
    {
     "name": "stdout",
     "output_type": "stream",
     "text": [
      "origin :  8시d품코MD2m0 커Fr콜 ATM EvF 0F\n",
      "cleaned :  8시 뉴스: 코미디언 김동현 2분만에 모바일금융앱 삭제\n"
     ]
    },
    {
     "name": "stderr",
     "output_type": "stream",
     "text": [
      "168it [06:10,  2.03s/it]Setting `pad_token_id` to `eos_token_id`:None for open-end generation.\n"
     ]
    },
    {
     "name": "stdout",
     "output_type": "stream",
     "text": [
      "origin :  m반기가xZqK341원2금융 고객 다O은으로\n",
      "cleaned :  2금융권 고객 다수이로 옮겨가\n"
     ]
    },
    {
     "name": "stderr",
     "output_type": "stream",
     "text": [
      "169it [06:12,  2.04s/it]Setting `pad_token_id` to `eos_token_id`:None for open-end generation.\n"
     ]
    },
    {
     "name": "stdout",
     "output_type": "stream",
     "text": [
      "origin :  내m P월 D파트 2SZE여 jP7년o에xV\n",
      "cleaned :  내년 7월에 예정된 파트 2의 SZE 프로젝트\n"
     ]
    },
    {
     "name": "stderr",
     "output_type": "stream",
     "text": [
      "170it [06:14,  2.04s/it]Setting `pad_token_id` to `eos_token_id`:None for open-end generation.\n"
     ]
    },
    {
     "name": "stdout",
     "output_type": "stream",
     "text": [
      "origin :  현cj 암fI방K지L하 보험 출p\n",
      "cleaned :  현대자동차, 암페어 방전하 보험 출시\n"
     ]
    },
    {
     "name": "stderr",
     "output_type": "stream",
     "text": [
      "171it [06:16,  2.05s/it]Setting `pad_token_id` to `eos_token_id`:None for open-end generation.\n"
     ]
    },
    {
     "name": "stdout",
     "output_type": "stream",
     "text": [
      "origin :  부0 제조업 경기전지수 곤VI조선기자6P 역F 최악\n",
      "cleaned :  부산 제조업 경기 전망 지수 곤혹스러운 상황, 조선 기자 6명 사망, 역대 최악\n"
     ]
    },
    {
     "name": "stderr",
     "output_type": "stream",
     "text": [
      "172it [06:18,  2.04s/it]Setting `pad_token_id` to `eos_token_id`:None for open-end generation.\n"
     ]
    },
    {
     "name": "stdout",
     "output_type": "stream",
     "text": [
      "origin :  황금연휴 유통업 매출l48진작X효과 다\n",
      "cleaned :  황금연휴 유통업 매출 급감, 48% 감소 효과\n"
     ]
    },
    {
     "name": "stderr",
     "output_type": "stream",
     "text": [
      "173it [06:20,  2.05s/it]Setting `pad_token_id` to `eos_token_id`:None for open-end generation.\n"
     ]
    },
    {
     "name": "stdout",
     "output_type": "stream",
     "text": [
      "origin :  니모리f종C회사C 공장 신Z에 2S0억nkk자\n",
      "cleaned :  니모리 종합연구소, 2천억 원 투자로 신공장 건립\n"
     ]
    },
    {
     "name": "stderr",
     "output_type": "stream",
     "text": [
      "174it [06:22,  2.05s/it]Setting `pad_token_id` to `eos_token_id`:None for open-end generation.\n"
     ]
    },
    {
     "name": "stdout",
     "output_type": "stream",
     "text": [
      "origin :  w동부Q임금D체An WtV이율7Ip 인하\n",
      "cleaned :  동부지역 임금 인하, 경제 안정화에 기여할 것\n"
     ]
    },
    {
     "name": "stderr",
     "output_type": "stream",
     "text": [
      "175it [06:24,  2.05s/it]Setting `pad_token_id` to `eos_token_id`:None for open-end generation.\n"
     ]
    },
    {
     "name": "stdout",
     "output_type": "stream",
     "text": [
      "origin :  올n이Z분야 1q체 UL업E 126개W3V억YM원\n",
      "cleaned :  올해 1분기 울산 지역 업체 126개, 3,000억 원 넘게 투자\n"
     ]
    },
    {
     "name": "stderr",
     "output_type": "stream",
     "text": [
      "176it [06:26,  2.05s/it]Setting `pad_token_id` to `eos_token_id`:None for open-end generation.\n"
     ]
    },
    {
     "name": "stdout",
     "output_type": "stream",
     "text": [
      "origin :  T서 한국 o손2년j속W외dj투 위\n",
      "cleaned :  태양광 에너지 산업 발전에 따른 환경 문제\n"
     ]
    },
    {
     "name": "stderr",
     "output_type": "stream",
     "text": [
      "177it [06:28,  2.04s/it]Setting `pad_token_id` to `eos_token_id`:None for open-end generation.\n"
     ]
    },
    {
     "name": "stdout",
     "output_type": "stream",
     "text": [
      "origin :  한진칼 1천k00억H단기_입 o경X 방어 Y수\n",
      "cleaned :  한진칼 1,000억 원 단기차량 임차 방어\n"
     ]
    },
    {
     "name": "stderr",
     "output_type": "stream",
     "text": [
      "178it [06:30,  2.05s/it]Setting `pad_token_id` to `eos_token_id`:None for open-end generation.\n"
     ]
    },
    {
     "name": "stdout",
     "output_type": "stream",
     "text": [
      "origin :  상상인 3분4 영업익 436QK66 증가\n",
      "cleaned :  상상인 3분기 영업이익 436억 원 증가\n"
     ]
    },
    {
     "name": "stderr",
     "output_type": "stream",
     "text": [
      "179it [06:32,  2.05s/it]Setting `pad_token_id` to `eos_token_id`:None for open-end generation.\n"
     ]
    },
    {
     "name": "stdout",
     "output_type": "stream",
     "text": [
      "origin :  LGU 컴저C은4과 고 연 t 금리 적금 출시\n",
      "cleaned :  LGU 컴저C은 4% 고금리 적금 출시\n"
     ]
    },
    {
     "name": "stderr",
     "output_type": "stream",
     "text": [
      "180it [06:34,  2.04s/it]Setting `pad_token_id` to `eos_token_id`:None for open-end generation.\n"
     ]
    },
    {
     "name": "stdout",
     "output_type": "stream",
     "text": [
      "origin :  C1 주식J 드서G12yIk자금J순A출\n",
      "cleaned :  C1 주식 제조업체, 12억 원의 자금 순액 출납\n"
     ]
    },
    {
     "name": "stderr",
     "output_type": "stream",
     "text": [
      "181it [06:37,  2.10s/it]Setting `pad_token_id` to `eos_token_id`:None for open-end generation.\n"
     ]
    },
    {
     "name": "stdout",
     "output_type": "stream",
     "text": [
      "origin :  햇Q론12 한도 4C억으로OcHk34nH청4a살T7출시종합D보\n",
      "cleaned :  햇큐론12 한도 4조 억으로 확정, 오케이션34 한정판 출시 종합 보도\n"
     ]
    },
    {
     "name": "stderr",
     "output_type": "stream",
     "text": [
      "182it [06:39,  2.08s/it]Setting `pad_token_id` to `eos_token_id`:None for open-end generation.\n"
     ]
    },
    {
     "name": "stdout",
     "output_type": "stream",
     "text": [
      "origin :  환율r동 걱I없이 Q금jFA 통uHmN서비스c\n",
      "cleaned :  환율 안정되어 금융투자 통화서비스 확대\n"
     ]
    },
    {
     "name": "stderr",
     "output_type": "stream",
     "text": [
      "183it [06:41,  2.14s/it]Setting `pad_token_id` to `eos_token_id`:None for open-end generation.\n"
     ]
    },
    {
     "name": "stdout",
     "output_type": "stream",
     "text": [
      "origin :  SKTy5S4 l00만명1K 파5Gx비개시 14q2만\n",
      "cleaned :  SK텔레콤, 5G 비개시 14만 2천 명 돌파\n"
     ]
    },
    {
     "name": "stderr",
     "output_type": "stream",
     "text": [
      "184it [06:43,  2.27s/it]Setting `pad_token_id` to `eos_token_id`:None for open-end generation.\n"
     ]
    },
    {
     "name": "stdout",
     "output_type": "stream",
     "text": [
      "origin :  Fv1Mx비w입주l사업기 전q 위축\n",
      "cleaned :  입주사업 기획위 위축\n"
     ]
    },
    {
     "name": "stderr",
     "output_type": "stream",
     "text": [
      "185it [06:45,  2.21s/it]Setting `pad_token_id` to `eos_token_id`:None for open-end generation.\n"
     ]
    },
    {
     "name": "stdout",
     "output_type": "stream",
     "text": [
      "origin :  왜 A대zA 내4NoZs 안 6면 못bQ가\n",
      "cleaned :  A대자 A내4노즈 6면 못가\n"
     ]
    },
    {
     "name": "stderr",
     "output_type": "stream",
     "text": [
      "186it [06:48,  2.16s/it]Setting `pad_token_id` to `eos_token_id`:None for open-end generation.\n"
     ]
    },
    {
     "name": "stdout",
     "output_type": "stream",
     "text": [
      "origin :  R_jz침 공기준나왔다Pu구자 정부담k\n",
      "cleaned :  정부, 코로나19 백신 접종 조치 발표\n"
     ]
    },
    {
     "name": "stderr",
     "output_type": "stream",
     "text": [
      "187it [06:50,  2.13s/it]Setting `pad_token_id` to `eos_token_id`:None for open-end generation.\n"
     ]
    },
    {
     "name": "stdout",
     "output_type": "stream",
     "text": [
      "origin :  Y성 갤fD워골K o디션 W6디 기ND 탑재\n",
      "cleaned :  갤럭시 S7 워드 프로세싱 기능 탑재\n"
     ]
    },
    {
     "name": "stderr",
     "output_type": "stream",
     "text": [
      "188it [06:52,  2.11s/it]Setting `pad_token_id` to `eos_token_id`:None for open-end generation.\n"
     ]
    },
    {
     "name": "stdout",
     "output_type": "stream",
     "text": [
      "origin :  더치카페mjOPC 7래A작\n",
      "cleaned :  더치 카페 미주지역 오픈 예정\n"
     ]
    },
    {
     "name": "stderr",
     "output_type": "stream",
     "text": [
      "189it [06:54,  2.10s/it]Setting `pad_token_id` to `eos_token_id`:None for open-end generation.\n"
     ]
    },
    {
     "name": "stdout",
     "output_type": "stream",
     "text": [
      "origin :  중기k4a필R코리 펀드가\n",
      "cleaned :  중기 R&D 코리아 펀드가\n"
     ]
    },
    {
     "name": "stderr",
     "output_type": "stream",
     "text": [
      "190it [06:56,  2.09s/it]Setting `pad_token_id` to `eos_token_id`:None for open-end generation.\n"
     ]
    },
    {
     "name": "stdout",
     "output_type": "stream",
     "text": [
      "origin :  게시판 신W금 더 뱅커 선정 대한민31등 DR 브랜드\n",
      "cleaned :  신W금 더 뱅커 선정 대한민 31등 DR 브랜드\n"
     ]
    },
    {
     "name": "stderr",
     "output_type": "stream",
     "text": [
      "191it [06:58,  2.08s/it]Setting `pad_token_id` to `eos_token_id`:None for open-end generation.\n"
     ]
    },
    {
     "name": "stdout",
     "output_type": "stream",
     "text": [
      "origin :  Ms권3분yr업익l797억원z83a가\n",
      "cleaned :  삼성전자, 3분기 사업익 797억 원 기록\n"
     ]
    },
    {
     "name": "stderr",
     "output_type": "stream",
     "text": [
      "192it [07:00,  2.07s/it]Setting `pad_token_id` to `eos_token_id`:None for open-end generation.\n"
     ]
    },
    {
     "name": "stdout",
     "output_type": "stream",
     "text": [
      "origin :  신pZ fa기Q익 1조1z4m작년sQ비t62 t\n",
      "cleaned :  신문사, 1조 1,400억 원 규모의 비트코인 거래\n"
     ]
    },
    {
     "name": "stderr",
     "output_type": "stream",
     "text": [
      "193it [07:02,  2.08s/it]Setting `pad_token_id` to `eos_token_id`:None for open-end generation.\n"
     ]
    },
    {
     "name": "stdout",
     "output_type": "stream",
     "text": [
      "origin :  내W업회사채M행 급더 E위F는 VV\n",
      "cleaned :  내W업회사채 M행 급등, E위 F는 VV\n"
     ]
    },
    {
     "name": "stderr",
     "output_type": "stream",
     "text": [
      "194it [07:04,  2.06s/it]Setting `pad_token_id` to `eos_token_id`:None for open-end generation.\n"
     ]
    },
    {
     "name": "stdout",
     "output_type": "stream",
     "text": [
      "origin :  한화JGI스 우비9씨 8수합병 M정\n",
      "cleaned :  한화JGI의 우비9, 씨8과 합병에 M정이 참여\n"
     ]
    },
    {
     "name": "stderr",
     "output_type": "stream",
     "text": [
      "195it [07:06,  2.05s/it]Setting `pad_token_id` to `eos_token_id`:None for open-end generation.\n"
     ]
    },
    {
     "name": "stdout",
     "output_type": "stream",
     "text": [
      "origin :  Wv0역 오피O텔 청약 활활 송도 8만천UzBt\n",
      "cleaned :  송도역 W호텔 청약 시작, 8만 1천세대 예상\n"
     ]
    },
    {
     "name": "stderr",
     "output_type": "stream",
     "text": [
      "196it [07:08,  2.04s/it]Setting `pad_token_id` to `eos_token_id`:None for open-end generation.\n"
     ]
    },
    {
     "name": "stdout",
     "output_type": "stream",
     "text": [
      "origin :  1드자동u 보는 박9호 사장\n",
      "cleaned :  1단계로 이동하는 9호선 사장 박씨를 만나보세요\n"
     ]
    },
    {
     "name": "stderr",
     "output_type": "stream",
     "text": [
      "197it [07:10,  2.04s/it]Setting `pad_token_id` to `eos_token_id`:None for open-end generation.\n"
     ]
    },
    {
     "name": "stdout",
     "output_type": "stream",
     "text": [
      "origin :  김태0 車2품사1_출 옥죄f 우려옥석가려서9해y\n",
      "cleaned :  김태희, 자동차 2품사 출옥에 우려감\n"
     ]
    },
    {
     "name": "stderr",
     "output_type": "stream",
     "text": [
      "198it [07:12,  2.05s/it]Setting `pad_token_id` to `eos_token_id`:None for open-end generation.\n"
     ]
    },
    {
     "name": "stdout",
     "output_type": "stream",
     "text": [
      "origin :  y교7J기Kk당6 주주W부z폐쇄\n",
      "cleaned :  유진건설 주주총회 폐쇄\n"
     ]
    },
    {
     "name": "stderr",
     "output_type": "stream",
     "text": [
      "199it [07:14,  2.04s/it]Setting `pad_token_id` to `eos_token_id`:None for open-end generation.\n"
     ]
    },
    {
     "name": "stdout",
     "output_type": "stream",
     "text": [
      "origin :  우리은B DgK아 u회j2O 합병U현지O5B 저축XR\n",
      "cleaned :  우리은행과 KB국민은행 합병, 현지 금융사 저축 확대\n"
     ]
    },
    {
     "name": "stderr",
     "output_type": "stream",
     "text": [
      "200it [07:16,  2.05s/it]Setting `pad_token_id` to `eos_token_id`:None for open-end generation.\n"
     ]
    },
    {
     "name": "stdout",
     "output_type": "stream",
     "text": [
      "origin :  여어B안M예약H3Q중복예약BB62 x소\n",
      "cleaned :  여성 B안 의원 M예약 H3Q 중복예약\n"
     ]
    },
    {
     "name": "stderr",
     "output_type": "stream",
     "text": [
      "201it [07:18,  2.04s/it]Setting `pad_token_id` to `eos_token_id`:None for open-end generation.\n"
     ]
    },
    {
     "name": "stdout",
     "output_type": "stream",
     "text": [
      "origin :  Q산U 림자금 ISC다Y감원장 b합YM시스템_구6\n",
      "cleaned :  Q산U 금융지원금: ISC, 감원장, b합, YM시스템 구6\n"
     ]
    },
    {
     "name": "stderr",
     "output_type": "stream",
     "text": [
      "202it [07:21,  2.18s/it]\n"
     ]
    },
    {
     "name": "stdout",
     "output_type": "stream",
     "text": [
      "origin :  원달러v환율 락해1220선 아Oj경기부양 4감\n",
      "cleaned :  원달러 환율 락 1,220선 아웃레이징 경기부양 4차 감시\n"
     ]
    },
    {
     "name": "stderr",
     "output_type": "stream",
     "text": [
      "0it [00:00, ?it/s]Setting `pad_token_id` to `eos_token_id`:None for open-end generation.\n",
      "1it [00:02,  2.04s/it]Setting `pad_token_id` to `eos_token_id`:None for open-end generation.\n"
     ]
    },
    {
     "name": "stdout",
     "output_type": "stream",
     "text": [
      "origin :  pI美대선I앞두고 R2fr단 발 비해 감시 강화\n",
      "cleaned :  미 대선 앞두고 R2F 단 발 비해 감시 강화\n"
     ]
    },
    {
     "name": "stderr",
     "output_type": "stream",
     "text": [
      "2it [00:04,  2.05s/it]Setting `pad_token_id` to `eos_token_id`:None for open-end generation.\n"
     ]
    },
    {
     "name": "stdout",
     "output_type": "stream",
     "text": [
      "origin :  美MBA여성 비율x계속 x가4주E19a대 U입생 중Ym\n",
      "cleaned :  미국 MBA 여성 비율 4주 연속 상승\n"
     ]
    },
    {
     "name": "stderr",
     "output_type": "stream",
     "text": [
      "3it [00:06,  2.06s/it]Setting `pad_token_id` to `eos_token_id`:None for open-end generation.\n"
     ]
    },
    {
     "name": "stdout",
     "output_type": "stream",
     "text": [
      "origin :  한M2 는 유8 치료제 오B솔 美 임 3a 본격화\n",
      "cleaned :  한미 M2 항체, 유럽 B 솔의 치료제 오스트리아 임상 3상 본격화\n"
     ]
    },
    {
     "name": "stderr",
     "output_type": "stream",
     "text": [
      "4it [00:08,  2.06s/it]Setting `pad_token_id` to `eos_token_id`:None for open-end generation.\n"
     ]
    },
    {
     "name": "stdout",
     "output_type": "stream",
     "text": [
      "origin :  아사w 트K프 외교S험k없다고i5오바I도KR8였\n",
      "cleaned :  아사와 트럼프 외교 실패 없었다고 오바마도 인정했다\n"
     ]
    },
    {
     "name": "stderr",
     "output_type": "stream",
     "text": [
      "5it [00:10,  2.06s/it]Setting `pad_token_id` to `eos_token_id`:None for open-end generation.\n"
     ]
    },
    {
     "name": "stdout",
     "output_type": "stream",
     "text": [
      "origin :  x콩P면금T 나g트물J1h나고 지철 기고\n",
      "cleaned :  x콩그룹 금융회사의 나고야 지점이 철수한다\n"
     ]
    },
    {
     "name": "stderr",
     "output_type": "stream",
     "text": [
      "6it [00:12,  2.05s/it]Setting `pad_token_id` to `eos_token_id`:None for open-end generation.\n"
     ]
    },
    {
     "name": "stdout",
     "output_type": "stream",
     "text": [
      "origin :  리비3Qn9 신분 변허용의료u서로 사전w입p해야\n",
      "cleaned :  3분기 신분 확인 필수, 의료서비스 이용 전 사전등록해야\n"
     ]
    },
    {
     "name": "stderr",
     "output_type": "stream",
     "text": [
      "7it [00:14,  2.12s/it]Setting `pad_token_id` to `eos_token_id`:None for open-end generation.\n"
     ]
    },
    {
     "name": "stdout",
     "output_type": "stream",
     "text": [
      "origin :  프랑스 마N의 이I 대 G7 청설 c인\n",
      "cleaned :  프랑스와 마크롱, G7 정상회의에서 중국을 겨냥하다\n"
     ]
    },
    {
     "name": "stderr",
     "output_type": "stream",
     "text": [
      "8it [00:17,  2.24s/it]Setting `pad_token_id` to `eos_token_id`:None for open-end generation.\n"
     ]
    },
    {
     "name": "stdout",
     "output_type": "stream",
     "text": [
      "origin :  코오롱플라스틱 1분기 연결 영업익 58억원138\n",
      "cleaned :  코오롱플라스틱, 1분기 연결 영업이익 58억 138만원 기록\n"
     ]
    },
    {
     "name": "stderr",
     "output_type": "stream",
     "text": [
      "9it [00:19,  2.18s/it]Setting `pad_token_id` to `eos_token_id`:None for open-end generation.\n"
     ]
    },
    {
     "name": "stdout",
     "output_type": "stream",
     "text": [
      "origin :  中정u 지방W민0투Ad실태K6L착5\n",
      "cleaned :  중국 지방의 여성 투표 참여 실태 조사 착수\n"
     ]
    },
    {
     "name": "stderr",
     "output_type": "stream",
     "text": [
      "10it [00:21,  2.17s/it]Setting `pad_token_id` to `eos_token_id`:None for open-end generation.\n"
     ]
    },
    {
     "name": "stdout",
     "output_type": "stream",
     "text": [
      "origin :  美 미네소타r州H람M장 입구H 2격d 명 부상\n",
      "cleaned :  미네소타주, 미니애폴리스 시내 2차례 폭발로 2명 부상\n"
     ]
    },
    {
     "name": "stderr",
     "output_type": "stream",
     "text": [
      "11it [00:23,  2.12s/it]Setting `pad_token_id` to `eos_token_id`:None for open-end generation.\n"
     ]
    },
    {
     "name": "stdout",
     "output_type": "stream",
     "text": [
      "origin :  페이오k중동서Vx국fr동Cr구이란B고 강L종Q\n",
      "cleaned :  페이소: 중동에서 Vx국 프랜차이즈 구이란 B고 강종 Q\n"
     ]
    },
    {
     "name": "stderr",
     "output_type": "stream",
     "text": [
      "12it [00:25,  2.11s/it]Setting `pad_token_id` to `eos_token_id`:None for open-end generation.\n"
     ]
    },
    {
     "name": "stdout",
     "output_type": "stream",
     "text": [
      "origin :  버닝썬 게이트 다룬 SBS 그것이 알고 싶다 112\n",
      "cleaned :  버닝썬 게이트를 다룬 SBS 그것이 알고 싶다 112\n"
     ]
    },
    {
     "name": "stderr",
     "output_type": "stream",
     "text": [
      "13it [00:27,  2.10s/it]Setting `pad_token_id` to `eos_token_id`:None for open-end generation.\n"
     ]
    },
    {
     "name": "stdout",
     "output_type": "stream",
     "text": [
      "origin :  이kDr크G리아 친이T0시설 격 u라J에 경\n",
      "cleaned :  이스트드림 경기지역아동센터, 구로구에 위치\n"
     ]
    },
    {
     "name": "stderr",
     "output_type": "stream",
     "text": [
      "14it [00:29,  2.08s/it]Setting `pad_token_id` to `eos_token_id`:None for open-end generation.\n"
     ]
    },
    {
     "name": "stdout",
     "output_type": "stream",
     "text": [
      "origin :  k w고지 반정시에 美X사주한 1\n",
      "cleaned :  한국 기업, 美X사에 1억 달러 자금 투자\n"
     ]
    },
    {
     "name": "stderr",
     "output_type": "stream",
     "text": [
      "15it [00:31,  2.08s/it]Setting `pad_token_id` to `eos_token_id`:None for open-end generation.\n"
     ]
    },
    {
     "name": "stdout",
     "output_type": "stream",
     "text": [
      "origin :  출마금cyj슈9웡 홍t원하면 투표해t\n",
      "cleaned :  출마금지 문제 9호 홍콩의 투표 권한을 검토합니다\n"
     ]
    },
    {
     "name": "stderr",
     "output_type": "stream",
     "text": [
      "16it [00:33,  2.07s/it]Setting `pad_token_id` to `eos_token_id`:None for open-end generation.\n"
     ]
    },
    {
     "name": "stdout",
     "output_type": "stream",
     "text": [
      "origin :  자베스 여정치권에fS4트 타협 촉구\n",
      "cleaned :  자베스 여정치권에 \"S4트 타협 촉구\"\n"
     ]
    },
    {
     "name": "stderr",
     "output_type": "stream",
     "text": [
      "17it [00:35,  2.07s/it]Setting `pad_token_id` to `eos_token_id`:None for open-end generation.\n"
     ]
    },
    {
     "name": "stdout",
     "output_type": "stream",
     "text": [
      "origin :  UAG전 기맞먹c 사K E양i전소 lco\n",
      "cleaned :  UAE와 아랍에미리트 간의 협력 강화\n"
     ]
    },
    {
     "name": "stderr",
     "output_type": "stream",
     "text": [
      "18it [00:37,  2.08s/it]Setting `pad_token_id` to `eos_token_id`:None for open-end generation.\n"
     ]
    },
    {
     "name": "stdout",
     "output_type": "stream",
     "text": [
      "origin :  印공 파키스탄 내 w P o등 K고조종합\n",
      "cleaned :  인도 공군, 파키스탄 내 WPO 등 K고조종합\n"
     ]
    },
    {
     "name": "stderr",
     "output_type": "stream",
     "text": [
      "19it [00:39,  2.07s/it]Setting `pad_token_id` to `eos_token_id`:None for open-end generation.\n"
     ]
    },
    {
     "name": "stdout",
     "output_type": "stream",
     "text": [
      "origin :  푸4 살만i사우디Q왕과eo유시 조 지속 합의종합\n",
      "cleaned :  푸틴과 사우디 왕, 유시 조 조정 합의\n"
     ]
    },
    {
     "name": "stderr",
     "output_type": "stream",
     "text": [
      "20it [00:41,  2.07s/it]Setting `pad_token_id` to `eos_token_id`:None for open-end generation.\n"
     ]
    },
    {
     "name": "stdout",
     "output_type": "stream",
     "text": [
      "origin :  아랍권 반D란정상회의 5춰 s 이란 맹9종합\n",
      "cleaned :  아랍권 반D란정상회의 5개국 이란 맹호 9개국 합의\n"
     ]
    },
    {
     "name": "stderr",
     "output_type": "stream",
     "text": [
      "21it [00:43,  2.06s/it]Setting `pad_token_id` to `eos_token_id`:None for open-end generation.\n"
     ]
    },
    {
     "name": "stdout",
     "output_type": "stream",
     "text": [
      "origin :  탈북 도와t한국계f영b7왕s 국가공훈장 o아\n",
      "cleaned :  탈북자를 돕고 한국계 영국 왕실 국가공훈장 받은 오아\n"
     ]
    },
    {
     "name": "stderr",
     "output_type": "stream",
     "text": [
      "22it [00:46,  2.06s/it]Setting `pad_token_id` to `eos_token_id`:None for open-end generation.\n"
     ]
    },
    {
     "name": "stdout",
     "output_type": "stream",
     "text": [
      "origin :  융커u장 8국Rj질서w는YU탈 P우 낙관C지는 않아\n",
      "cleaned :  융커 장관 8개국 질서는 유럽 탈피를 낙관하지 않아\n"
     ]
    },
    {
     "name": "stderr",
     "output_type": "stream",
     "text": [
      "23it [00:48,  2.06s/it]Setting `pad_token_id` to `eos_token_id`:None for open-end generation.\n"
     ]
    },
    {
     "name": "stdout",
     "output_type": "stream",
     "text": [
      "origin :  2카9i배당 문 다시 1gR라MV TdA테5 B포\n",
      "cleaned :  2차 9인배당, 문재인 정부 1기 라임 비대위 테마주 5개 포착\n"
     ]
    },
    {
     "name": "stderr",
     "output_type": "stream",
     "text": [
      "24it [00:50,  2.06s/it]Setting `pad_token_id` to `eos_token_id`:None for open-end generation.\n"
     ]
    },
    {
     "name": "stdout",
     "output_type": "stream",
     "text": [
      "origin :  란P럽 Ra 2돌리면dZ대jU맞대응\n",
      "cleaned :  란팡 라 2돌리면 대응\n"
     ]
    },
    {
     "name": "stderr",
     "output_type": "stream",
     "text": [
      "25it [00:52,  2.05s/it]Setting `pad_token_id` to `eos_token_id`:None for open-end generation.\n"
     ]
    },
    {
     "name": "stdout",
     "output_type": "stream",
     "text": [
      "origin :  이1서 h국 강조민C 캐다서P정T_U의혹 3 비판\n",
      "cleaned :  이1서 h국 강조민씨 캐나다에서 P정T 의혹 제기, 3 비판\n"
     ]
    },
    {
     "name": "stderr",
     "output_type": "stream",
     "text": [
      "26it [00:54,  2.05s/it]Setting `pad_token_id` to `eos_token_id`:None for open-end generation.\n"
     ]
    },
    {
     "name": "stdout",
     "output_type": "stream",
     "text": [
      "origin :  조u사 없는 에어On a트리아Ib 시범f행\n",
      "cleaned :  조직 없는 에어온 시범 운항\n"
     ]
    },
    {
     "name": "stderr",
     "output_type": "stream",
     "text": [
      "27it [00:56,  2.05s/it]Setting `pad_token_id` to `eos_token_id`:None for open-end generation.\n"
     ]
    },
    {
     "name": "stdout",
     "output_type": "stream",
     "text": [
      "origin :  8Ih쿠르군0 시리R rmn순찰bN뒤 qa\n",
      "cleaned :  8시 30분 시리얼 순찰 후\n"
     ]
    },
    {
     "name": "stderr",
     "output_type": "stream",
     "text": [
      "28it [00:58,  2.05s/it]Setting `pad_token_id` to `eos_token_id`:None for open-end generation.\n"
     ]
    },
    {
     "name": "stdout",
     "output_type": "stream",
     "text": [
      "origin :  E란정we시Y 배후 M력 대규모 거 작전안정 회\n",
      "cleaned :  E시 M력 대규모 거 작전안정 회\n"
     ]
    },
    {
     "name": "stderr",
     "output_type": "stream",
     "text": [
      "29it [01:00,  2.06s/it]Setting `pad_token_id` to `eos_token_id`:None for open-end generation.\n"
     ]
    },
    {
     "name": "stdout",
     "output_type": "stream",
     "text": [
      "origin :  들Rq는 Z2아우토반 도Bx에 Phx까\n",
      "cleaned :  들리는 Z2 아우토반 도로 Bx에 Phx까지\n"
     ]
    },
    {
     "name": "stderr",
     "output_type": "stream",
     "text": [
      "30it [01:02,  2.06s/it]Setting `pad_token_id` to `eos_token_id`:None for open-end generation.\n"
     ]
    },
    {
     "name": "stdout",
     "output_type": "stream",
     "text": [
      "origin :  노벨상 수eeP말하6노화Z회 다sp 개막\n",
      "cleaned :  노벨상 수상자와 함께한 노화 회의 개막\n"
     ]
    },
    {
     "name": "stderr",
     "output_type": "stream",
     "text": [
      "31it [01:04,  2.06s/it]Setting `pad_token_id` to `eos_token_id`:None for open-end generation.\n"
     ]
    },
    {
     "name": "stdout",
     "output_type": "stream",
     "text": [
      "origin :  뉴D랜드 대학YFd시위k지U 학과中본토Z학ksH\n",
      "cleaned :  뉴질랜드 대학 시위, 학과 본토 학위\n"
     ]
    },
    {
     "name": "stderr",
     "output_type": "stream",
     "text": [
      "32it [01:06,  2.05s/it]Setting `pad_token_id` to `eos_token_id`:None for open-end generation.\n"
     ]
    },
    {
     "name": "stdout",
     "output_type": "stream",
     "text": [
      "origin :  리 B히는 D日b일부터 G이서 고위S 경제t화\n",
      "cleaned :  리브는 D일부터 G시 서고위 경제화\n"
     ]
    },
    {
     "name": "stderr",
     "output_type": "stream",
     "text": [
      "33it [01:08,  2.05s/it]Setting `pad_token_id` to `eos_token_id`:None for open-end generation.\n"
     ]
    },
    {
     "name": "stdout",
     "output_type": "stream",
     "text": [
      "origin :  오마사드는ej수p 방V 제위협대s한 것\n",
      "cleaned :  제목없음\n"
     ]
    },
    {
     "name": "stderr",
     "output_type": "stream",
     "text": [
      "34it [01:10,  2.05s/it]Setting `pad_token_id` to `eos_token_id`:None for open-end generation.\n"
     ]
    },
    {
     "name": "stdout",
     "output_type": "stream",
     "text": [
      "origin :  n아베총리만난 D국6O 국v칙 위협L주장D합\n",
      "cleaned :  아베 총리와의 만남, D국 60 국직 위협 주장 D합\n"
     ]
    },
    {
     "name": "stderr",
     "output_type": "stream",
     "text": [
      "35it [01:12,  2.05s/it]Setting `pad_token_id` to `eos_token_id`:None for open-end generation.\n"
     ]
    },
    {
     "name": "stdout",
     "output_type": "stream",
     "text": [
      "origin :  유엔 w아4공습으로 1일간 민간인 100명 이상 yZ\n",
      "cleaned :  유엔 안전보장이사회, 아프간 공습으로 민간인 100명 이상 사망\n"
     ]
    },
    {
     "name": "stderr",
     "output_type": "stream",
     "text": [
      "36it [01:14,  2.05s/it]Setting `pad_token_id` to `eos_token_id`:None for open-end generation.\n"
     ]
    },
    {
     "name": "stdout",
     "output_type": "stream",
     "text": [
      "origin :  이란 反이란JHD보수G싱C탱크vF8a 제재 대상에 올\n",
      "cleaned :  이란 반정부단체, 제재 대상에 올랐다\n"
     ]
    },
    {
     "name": "stderr",
     "output_type": "stream",
     "text": [
      "37it [01:16,  2.05s/it]Setting `pad_token_id` to `eos_token_id`:None for open-end generation.\n"
     ]
    },
    {
     "name": "stdout",
     "output_type": "stream",
     "text": [
      "origin :  사o_ 석유V4Dl가q성 08w달러W좁k야\n",
      "cleaned :  석유 가격이 8달러로 폭락했습니다\n"
     ]
    },
    {
     "name": "stderr",
     "output_type": "stream",
     "text": [
      "38it [01:18,  2.05s/it]Setting `pad_token_id` to `eos_token_id`:None for open-end generation.\n"
     ]
    },
    {
     "name": "stdout",
     "output_type": "stream",
     "text": [
      "origin :  中 국방 사드 m 언급T역Ob 심S F_\n",
      "cleaned :  중국 국방부 사드 배치 언급\n"
     ]
    },
    {
     "name": "stderr",
     "output_type": "stream",
     "text": [
      "39it [01:20,  2.05s/it]Setting `pad_token_id` to `eos_token_id`:None for open-end generation.\n"
     ]
    },
    {
     "name": "stdout",
     "output_type": "stream",
     "text": [
      "origin :  조선 피격 r드론 k추끓어오7_ 호0무즈 r협\n",
      "cleaned :  조선 피격 드론, 충격과 공포를 불러일으켰다\n"
     ]
    },
    {
     "name": "stderr",
     "output_type": "stream",
     "text": [
      "40it [01:22,  2.04s/it]Setting `pad_token_id` to `eos_token_id`:None for open-end generation.\n"
     ]
    },
    {
     "name": "stdout",
     "output_type": "stream",
     "text": [
      "origin :  _르담 붕괴 위VL전佛당국 kn급보강Q작\n",
      "cleaned :  르완다 붕괴 위기: 인도네시아 대학교 부근의 붕괴 사고\n"
     ]
    },
    {
     "name": "stderr",
     "output_type": "stream",
     "text": [
      "41it [01:24,  2.04s/it]Setting `pad_token_id` to `eos_token_id`:None for open-end generation.\n"
     ]
    },
    {
     "name": "stdout",
     "output_type": "stream",
     "text": [
      "origin :  英의 렉시Q 혼N에 C z獨佛y한 입장 제Q해합\n",
      "cleaned :  영국의 렉시큐리티Q 혼N에 대해 독립적인 입장을 제시합시다\n"
     ]
    },
    {
     "name": "stderr",
     "output_type": "stream",
     "text": [
      "42it [01:26,  2.04s/it]Setting `pad_token_id` to `eos_token_id`:None for open-end generation.\n"
     ]
    },
    {
     "name": "stdout",
     "output_type": "stream",
     "text": [
      "origin :  푸틴Y시민5회j 반 W테러법b Y지에 서명\n",
      "cleaned :  5명이 푸틴의 테러법에 반대 서명\n"
     ]
    },
    {
     "name": "stderr",
     "output_type": "stream",
     "text": [
      "43it [01:29,  2.03s/it]Setting `pad_token_id` to `eos_token_id`:None for open-end generation.\n"
     ]
    },
    {
     "name": "stdout",
     "output_type": "stream",
     "text": [
      "origin :  시진pN낙N지서S민생행보IT0a05까지t만 빈o해소\n",
      "cleaned :  시진핑, 낙지 서민생활 행보 이어가\n"
     ]
    },
    {
     "name": "stderr",
     "output_type": "stream",
     "text": [
      "44it [01:31,  2.03s/it]Setting `pad_token_id` to `eos_token_id`:None for open-end generation.\n"
     ]
    },
    {
     "name": "stdout",
     "output_type": "stream",
     "text": [
      "origin :  w이란 핵합의k명운건 막판 y꽃 G촉美d용 건합\n",
      "cleaned :  이란 핵합의, 막판 꽃길 열렸다\n"
     ]
    },
    {
     "name": "stderr",
     "output_type": "stream",
     "text": [
      "45it [01:33,  2.03s/it]Setting `pad_token_id` to `eos_token_id`:None for open-end generation.\n"
     ]
    },
    {
     "name": "stdout",
     "output_type": "stream",
     "text": [
      "origin :  美 매d g츠버그 강정호와 y별p T\n",
      "cleaned :  美 매드거버그 강정호와 이별파티\n"
     ]
    },
    {
     "name": "stderr",
     "output_type": "stream",
     "text": [
      "46it [01:35,  2.02s/it]Setting `pad_token_id` to `eos_token_id`:None for open-end generation.\n"
     ]
    },
    {
     "name": "stdout",
     "output_type": "stream",
     "text": [
      "origin :  LA총영사관 UCLAUSC 한인학생회와 취업정보 공유\n",
      "cleaned :  LA총영사관, UCLA USC 한인학생회와 취업 정보 공유\n"
     ]
    },
    {
     "name": "stderr",
     "output_type": "stream",
     "text": [
      "47it [01:37,  2.03s/it]Setting `pad_token_id` to `eos_token_id`:None for open-end generation.\n"
     ]
    },
    {
     "name": "stdout",
     "output_type": "stream",
     "text": [
      "origin :  기자m해병대Z목사이란 J 수n 만에 자Q7y은 미국D들\n",
      "cleaned :  해병대 제1보병연대장 김재용 중령, 미국 병사 7명과 함께\n"
     ]
    },
    {
     "name": "stderr",
     "output_type": "stream",
     "text": [
      "48it [01:39,  2.03s/it]Setting `pad_token_id` to `eos_token_id`:None for open-end generation.\n"
     ]
    },
    {
     "name": "stdout",
     "output_type": "stream",
     "text": [
      "origin :  이란 반정9위서 7행관서 771j X주모자 h\n",
      "cleaned :  이란 반정 9위, 7개 행정부서, 771명의 주민 모여\n"
     ]
    },
    {
     "name": "stderr",
     "output_type": "stream",
     "text": [
      "49it [01:41,  2.03s/it]Setting `pad_token_id` to `eos_token_id`:None for open-end generation.\n"
     ]
    },
    {
     "name": "stdout",
     "output_type": "stream",
     "text": [
      "origin :  中o선제적입막음2SIBM 사이46안8 논의에 끌어들여\n",
      "cleaned :  중국은 2차 SARS 위기에 대한 논의를 8월에 시작할 것임을 확인했습니다.\n"
     ]
    },
    {
     "name": "stderr",
     "output_type": "stream",
     "text": [
      "50it [01:43,  2.03s/it]Setting `pad_token_id` to `eos_token_id`:None for open-end generation.\n"
     ]
    },
    {
     "name": "stdout",
     "output_type": "stream",
     "text": [
      "origin :  백nm월Rw체sKKK 집회8폭_사i3L 흉9\n",
      "cleaned :  백만 명의 월요일 집회, 8명 체포\n"
     ]
    },
    {
     "name": "stderr",
     "output_type": "stream",
     "text": [
      "51it [01:45,  2.03s/it]Setting `pad_token_id` to `eos_token_id`:None for open-end generation.\n"
     ]
    },
    {
     "name": "stdout",
     "output_type": "stream",
     "text": [
      "origin :  vg 33교전FMo 클린K 목Y리 크6 행동은 안H\n",
      "cleaned :  33교전 FM 오디오 클린 K 목 Y리 크 6 행동은 안 함\n"
     ]
    },
    {
     "name": "stderr",
     "output_type": "stream",
     "text": [
      "52it [01:47,  2.03s/it]Setting `pad_token_id` to `eos_token_id`:None for open-end generation.\n"
     ]
    },
    {
     "name": "stdout",
     "output_type": "stream",
     "text": [
      "origin :  BJ반o사우Y 공격 Kt사디 응Gt다려 제안종합\n",
      "cleaned :  SK브로드밴드, KT디지털로 공격적인 제안 종합\n"
     ]
    },
    {
     "name": "stderr",
     "output_type": "stream",
     "text": [
      "53it [01:49,  2.03s/it]Setting `pad_token_id` to `eos_token_id`:None for open-end generation.\n"
     ]
    },
    {
     "name": "stdout",
     "output_type": "stream",
     "text": [
      "origin :  25남2 g광객nG버C N럭과 충돌01명 3상\n",
      "cleaned :  25명 중 2명이 가광객과 충돌, 1명 3상\n"
     ]
    },
    {
     "name": "stderr",
     "output_type": "stream",
     "text": [
      "54it [01:51,  2.03s/it]Setting `pad_token_id` to `eos_token_id`:None for open-end generation.\n"
     ]
    },
    {
     "name": "stdout",
     "output_type": "stream",
     "text": [
      "origin :  홍c 과격시T72제보N 3고 1억5천만f 현9금W걸\n",
      "cleaned :  홍콩의 과격 시위: 3천명, 1억5천만 원의 피해\n"
     ]
    },
    {
     "name": "stderr",
     "output_type": "stream",
     "text": [
      "55it [01:53,  2.03s/it]Setting `pad_token_id` to `eos_token_id`:None for open-end generation.\n"
     ]
    },
    {
     "name": "stdout",
     "output_type": "stream",
     "text": [
      "origin :  게시판 SKT AI 콘퍼런스 aix 2019 개최\n",
      "cleaned :  SK텔레콤 AI 콘퍼런스 aix 2019 개최\n"
     ]
    },
    {
     "name": "stderr",
     "output_type": "stream",
     "text": [
      "56it [01:55,  2.03s/it]Setting `pad_token_id` to `eos_token_id`:None for open-end generation.\n"
     ]
    },
    {
     "name": "stdout",
     "output_type": "stream",
     "text": [
      "origin :  佛M해외령Z기아나 노조n표단 기 무k한점0 농성\n",
      "cleaned :  佛山海外驳船工人노조대표단 기무한점 농성\n"
     ]
    },
    {
     "name": "stderr",
     "output_type": "stream",
     "text": [
      "57it [01:57,  2.03s/it]Setting `pad_token_id` to `eos_token_id`:None for open-end generation.\n"
     ]
    },
    {
     "name": "stdout",
     "output_type": "stream",
     "text": [
      "origin :  美이란제재h제J직전감m S교환u자Fm함F합k보\n",
      "cleaned :  미국, 이란에 제재 준비 중 - S. 교환자 함 합류\n"
     ]
    },
    {
     "name": "stderr",
     "output_type": "stream",
     "text": [
      "58it [01:59,  2.03s/it]Setting `pad_token_id` to `eos_token_id`:None for open-end generation.\n"
     ]
    },
    {
     "name": "stdout",
     "output_type": "stream",
     "text": [
      "origin :  아E존 Cck z전북미by0y qK M애 치열\n",
      "cleaned :  전북지역 CCK이 미래자동차 기술 개발에 참여한다\n"
     ]
    },
    {
     "name": "stderr",
     "output_type": "stream",
     "text": [
      "59it [02:01,  2.04s/it]Setting `pad_token_id` to `eos_token_id`:None for open-end generation.\n"
     ]
    },
    {
     "name": "stdout",
     "output_type": "stream",
     "text": [
      "origin :  W美블컨u북W 비IMP4마 패거리참견 라\n",
      "cleaned :  W 미국 부동산 시장에 대한 전문가들의 견해를 분석합니다\n"
     ]
    },
    {
     "name": "stderr",
     "output_type": "stream",
     "text": [
      "60it [02:03,  2.04s/it]Setting `pad_token_id` to `eos_token_id`:None for open-end generation.\n"
     ]
    },
    {
     "name": "stdout",
     "output_type": "stream",
     "text": [
      "origin :  S리랑카 말라리아 b정국 __H9d가c3 발r0o\n",
      "cleaned :  S리랑카 말라리아 대유행 상황이 악화되다\n"
     ]
    },
    {
     "name": "stderr",
     "output_type": "stream",
     "text": [
      "61it [02:05,  2.04s/it]Setting `pad_token_id` to `eos_token_id`:None for open-end generation.\n"
     ]
    },
    {
     "name": "stdout",
     "output_type": "stream",
     "text": [
      "origin :  정의장 인C카A흐스탄 mN 대통N담\n",
      "cleaned :  정의당 인카이아흐산과 MN 대통담\n"
     ]
    },
    {
     "name": "stderr",
     "output_type": "stream",
     "text": [
      "62it [02:07,  2.04s/it]Setting `pad_token_id` to `eos_token_id`:None for open-end generation.\n"
     ]
    },
    {
     "name": "stdout",
     "output_type": "stream",
     "text": [
      "origin :  shl 러 미사일N도t에 뿔 4국 F3f부품도O중단\n",
      "cleaned :  러시아, 미국에 미사일 기술을 제공하다\n"
     ]
    },
    {
     "name": "stderr",
     "output_type": "stream",
     "text": [
      "63it [02:09,  2.04s/it]Setting `pad_token_id` to `eos_token_id`:None for open-end generation.\n"
     ]
    },
    {
     "name": "stdout",
     "output_type": "stream",
     "text": [
      "origin :  r A농축 라늄 저장한4 U핵yg3 발\n",
      "cleaned :  핵심 라돈이 저장된 4세대 핵 발전소\n"
     ]
    },
    {
     "name": "stderr",
     "output_type": "stream",
     "text": [
      "64it [02:11,  2.03s/it]Setting `pad_token_id` to `eos_token_id`:None for open-end generation.\n"
     ]
    },
    {
     "name": "stdout",
     "output_type": "stream",
     "text": [
      "origin :  u베 일본 Bx8해 마리오처럼 싸우겠다 DC 투자 호소\n",
      "cleaned :  일본 Bx8해 마리오처럼 싸우겠다, DC 투자 호소\n"
     ]
    },
    {
     "name": "stderr",
     "output_type": "stream",
     "text": [
      "65it [02:13,  2.03s/it]Setting `pad_token_id` to `eos_token_id`:None for open-end generation.\n"
     ]
    },
    {
     "name": "stdout",
     "output_type": "stream",
     "text": [
      "origin :  i1아 외무 내전화 8비아 방문KO사적 해법 안돼\n",
      "cleaned :  외무부 장관, 8비아 방문 KO사적 해법 안돼\n"
     ]
    },
    {
     "name": "stderr",
     "output_type": "stream",
     "text": [
      "66it [02:15,  2.03s/it]Setting `pad_token_id` to `eos_token_id`:None for open-end generation.\n"
     ]
    },
    {
     "name": "stdout",
     "output_type": "stream",
     "text": [
      "origin :  매Q본의 8국경Ql복B판G日a에도Bc해\n",
      "cleaned :  8개국 간 협력, 북미 일대에 해양 생태계 복원\n"
     ]
    },
    {
     "name": "stderr",
     "output_type": "stream",
     "text": [
      "67it [02:17,  2.03s/it]Setting `pad_token_id` to `eos_token_id`:None for open-end generation.\n"
     ]
    },
    {
     "name": "stdout",
     "output_type": "stream",
     "text": [
      "origin :  프랑스이란L란 탄9미사일V발 놓S 9V\n",
      "cleaned :  프랑스, 이란의 탄도미사일 발사에 대응\n"
     ]
    },
    {
     "name": "stderr",
     "output_type": "stream",
     "text": [
      "68it [02:19,  2.04s/it]Setting `pad_token_id` to `eos_token_id`:None for open-end generation.\n"
     ]
    },
    {
     "name": "stdout",
     "output_type": "stream",
     "text": [
      "origin :  슬YP 9아it 경에 난민 단 군cX 배치\n",
      "cleaned :  슬프게도 9월에 난민 문제가 불거졌습니다.\n"
     ]
    },
    {
     "name": "stderr",
     "output_type": "stream",
     "text": [
      "69it [02:21,  2.03s/it]Setting `pad_token_id` to `eos_token_id`:None for open-end generation.\n"
     ]
    },
    {
     "name": "stdout",
     "output_type": "stream",
     "text": [
      "origin :  러시아 프리 석유다X몬드l전건설로 P 돌nQ\n",
      "cleaned :  러시아, 프리석유다X몬드 전건설로 P돌\n"
     ]
    },
    {
     "name": "stderr",
     "output_type": "stream",
     "text": [
      "70it [02:23,  2.04s/it]Setting `pad_token_id` to `eos_token_id`:None for open-end generation.\n"
     ]
    },
    {
     "name": "stdout",
     "output_type": "stream",
     "text": [
      "origin :  eUF구르탄압e항의 h키 u위에 나쁜 세력의8동\n",
      "cleaned :  중국, 북한에 대한 항의로 UN 위원회에 나쁜 세력의 존재를 지적하다\n"
     ]
    },
    {
     "name": "stderr",
     "output_type": "stream",
     "text": [
      "71it [02:25,  2.03s/it]Setting `pad_token_id` to `eos_token_id`:None for open-end generation.\n"
     ]
    },
    {
     "name": "stdout",
     "output_type": "stream",
     "text": [
      "origin :  中 관영3u 시위O지지 란속 NaA 개막전 중u 안 해\n",
      "cleaned :  중국 관영 3사 시위에 대한 지지 발언 속에 개막전 중국 안보회의가 열렸다\n"
     ]
    },
    {
     "name": "stderr",
     "output_type": "stream",
     "text": [
      "72it [02:27,  2.03s/it]Setting `pad_token_id` to `eos_token_id`:None for open-end generation.\n"
     ]
    },
    {
     "name": "stdout",
     "output_type": "stream",
     "text": [
      "origin :  伊대통Q6 연정 승인콘테dz 총n에 정1구성V권G 부여\n",
      "cleaned :  이탈리아 총리 카모레즈 6호 연정 승인을 위한 콘테 정부에 정당 구성과 권한 부여\n"
     ]
    },
    {
     "name": "stderr",
     "output_type": "stream",
     "text": [
      "73it [02:29,  2.04s/it]Setting `pad_token_id` to `eos_token_id`:None for open-end generation.\n"
     ]
    },
    {
     "name": "stdout",
     "output_type": "stream",
     "text": [
      "origin :  9루 아키m시 건d677X축h\n",
      "cleaned :  9루 아키미야 건축축전\n"
     ]
    },
    {
     "name": "stderr",
     "output_type": "stream",
     "text": [
      "74it [02:32,  2.03s/it]Setting `pad_token_id` to `eos_token_id`:None for open-end generation.\n"
     ]
    },
    {
     "name": "stdout",
     "output_type": "stream",
     "text": [
      "origin :  u 부p러닝4트Tl8인 상M원 공식yg표x보\n",
      "cleaned :  부울경 4개 지역의 상반기 신규 사업 공식 발표\n"
     ]
    },
    {
     "name": "stderr",
     "output_type": "stream",
     "text": [
      "75it [02:34,  2.03s/it]Setting `pad_token_id` to `eos_token_id`:None for open-end generation.\n"
     ]
    },
    {
     "name": "stdout",
     "output_type": "stream",
     "text": [
      "origin :  러시p7A 정식 제안 온k면7푸틴a프_만날4것\n",
      "cleaned :  러시아와 한국의 정상회담을 위한 공식 제안\n"
     ]
    },
    {
     "name": "stderr",
     "output_type": "stream",
     "text": [
      "76it [02:36,  2.02s/it]Setting `pad_token_id` to `eos_token_id`:None for open-end generation.\n"
     ]
    },
    {
     "name": "stdout",
     "output_type": "stream",
     "text": [
      "origin :  이Ll 기오2O Q1만4천명W병치료\n",
      "cleaned :  2020년 4월 14일, 1만 4천 명 코로나19 확진자 치료\n"
     ]
    },
    {
     "name": "stderr",
     "output_type": "stream",
     "text": [
      "77it [02:38,  2.02s/it]Setting `pad_token_id` to `eos_token_id`:None for open-end generation.\n"
     ]
    },
    {
     "name": "stdout",
     "output_type": "stream",
     "text": [
      "origin :  Ui 9일 정상회의북핵무역투자z경협력 등 f의\n",
      "cleaned :  9일 정상회담 북핵 무역 투자 경협 협력 등\n"
     ]
    },
    {
     "name": "stderr",
     "output_type": "stream",
     "text": [
      "78it [02:40,  2.03s/it]Setting `pad_token_id` to `eos_token_id`:None for open-end generation.\n"
     ]
    },
    {
     "name": "stdout",
     "output_type": "stream",
     "text": [
      "origin :  동아시아 y러리P1모태 와하비즘u확산 제s의N KL\n",
      "cleaned :  동아시아 지역에서 와해주의 확산에 따른 모태교회의 영향력 감소\n"
     ]
    },
    {
     "name": "stderr",
     "output_type": "stream",
     "text": [
      "79it [02:42,  2.05s/it]Setting `pad_token_id` to `eos_token_id`:None for open-end generation.\n"
     ]
    },
    {
     "name": "stdout",
     "output_type": "stream",
     "text": [
      "origin :  타후의5J9지c 이라엘 야권연대9성사SD\n",
      "cleaned :  타후의 5J9지사 이라엘 야권 연대 성사\n"
     ]
    },
    {
     "name": "stderr",
     "output_type": "stream",
     "text": [
      "80it [02:44,  2.03s/it]Setting `pad_token_id` to `eos_token_id`:None for open-end generation.\n"
     ]
    },
    {
     "name": "stdout",
     "output_type": "stream",
     "text": [
      "origin :  미국7R멕시g 2hoU년mo컵X공W8청듯\n",
      "cleaned :  미국, 7월 2호년 무역협정 체결\n"
     ]
    },
    {
     "name": "stderr",
     "output_type": "stream",
     "text": [
      "81it [02:46,  2.03s/it]Setting `pad_token_id` to `eos_token_id`:None for open-end generation.\n"
     ]
    },
    {
     "name": "stdout",
     "output_type": "stream",
     "text": [
      "origin :  우파r우 a권 오스트리아gu3재uu표 R5\n",
      "cleaned :  우파가 권력에 오르자 오스트리아 정부가 재무장치 표결\n"
     ]
    },
    {
     "name": "stderr",
     "output_type": "stream",
     "text": [
      "82it [02:48,  2.02s/it]Setting `pad_token_id` to `eos_token_id`:None for open-end generation.\n"
     ]
    },
    {
     "name": "stdout",
     "output_type": "stream",
     "text": [
      "origin :  오바f4폭1마사X6210f 대규1A감R누적 b자m562b\n",
      "cleaned :  오바마 대통령 4번째 폭탄 금지법 발표\n"
     ]
    },
    {
     "name": "stderr",
     "output_type": "stream",
     "text": [
      "83it [02:50,  2.02s/it]Setting `pad_token_id` to `eos_token_id`:None for open-end generation.\n"
     ]
    },
    {
     "name": "stdout",
     "output_type": "stream",
     "text": [
      "origin :  zF북1도스웨wq비yNx_h표와W회P\n",
      "cleaned :  제목없음\n"
     ]
    },
    {
     "name": "stderr",
     "output_type": "stream",
     "text": [
      "84it [02:52,  2.01s/it]Setting `pad_token_id` to `eos_token_id`:None for open-end generation.\n"
     ]
    },
    {
     "name": "stdout",
     "output_type": "stream",
     "text": [
      "origin :  中9Nv체 RB Aj 집중포5z우리는o끝까지wi a\n",
      "cleaned :  중국, 집중포 5호 실험 끝까지 이어간다\n"
     ]
    },
    {
     "name": "stderr",
     "output_type": "stream",
     "text": [
      "85it [02:54,  2.01s/it]Setting `pad_token_id` to `eos_token_id`:None for open-end generation.\n"
     ]
    },
    {
     "name": "stdout",
     "output_type": "stream",
     "text": [
      "origin :  일본 출6이u아 15일 n국22일 고베 입단식\n",
      "cleaned :  일본 출마자 6명, 15일 국회 22일 고베 입장식\n"
     ]
    },
    {
     "name": "stderr",
     "output_type": "stream",
     "text": [
      "86it [02:56,  2.01s/it]Setting `pad_token_id` to `eos_token_id`:None for open-end generation.\n"
     ]
    },
    {
     "name": "stdout",
     "output_type": "stream",
     "text": [
      "origin :  오바마 연설y법 에 h한8 격9단Sg위VfB행n당7\n",
      "cleaned :  오바마 연설법에 한 목소리\n"
     ]
    },
    {
     "name": "stderr",
     "output_type": "stream",
     "text": [
      "87it [02:58,  2.01s/it]Setting `pad_token_id` to `eos_token_id`:None for open-end generation.\n"
     ]
    },
    {
     "name": "stdout",
     "output_type": "stream",
     "text": [
      "origin :  K란 전국 3S째 T _Sy2명e사망qY대피\n",
      "cleaned :  K-3S 전국 3개 시도에서 2명 사망, 7명 대피\n"
     ]
    },
    {
     "name": "stderr",
     "output_type": "stream",
     "text": [
      "88it [03:00,  2.01s/it]Setting `pad_token_id` to `eos_token_id`:None for open-end generation.\n"
     ]
    },
    {
     "name": "stdout",
     "output_type": "stream",
     "text": [
      "origin :  u국신 E조직p KGC꺼리w佛 이라크v형E 반c\n",
      "cleaned :  u국신 E조직p KGC꺼리w佛 이라크v형E 반c\n"
     ]
    },
    {
     "name": "stderr",
     "output_type": "stream",
     "text": [
      "89it [03:02,  2.01s/it]Setting `pad_token_id` to `eos_token_id`:None for open-end generation.\n"
     ]
    },
    {
     "name": "stdout",
     "output_type": "stream",
     "text": [
      "origin :  무례 외고노 日e무 교체ew부상4아베 11Uip\n",
      "cleaned :  무례한 외교노선, 日에 무관한 교체... 부상 4명, 아베 11위\n"
     ]
    },
    {
     "name": "stderr",
     "output_type": "stream",
     "text": [
      "90it [03:04,  2.02s/it]Setting `pad_token_id` to `eos_token_id`:None for open-end generation.\n"
     ]
    },
    {
     "name": "stdout",
     "output_type": "stream",
     "text": [
      "origin :  KT카스 NBIoT 사업협력을 위한 업무협약\n",
      "cleaned :  KT와 NBIoT 사업 협력 위한 업무협약\n"
     ]
    },
    {
     "name": "stderr",
     "output_type": "stream",
     "text": [
      "91it [03:06,  2.02s/it]Setting `pad_token_id` to `eos_token_id`:None for open-end generation.\n"
     ]
    },
    {
     "name": "stdout",
     "output_type": "stream",
     "text": [
      "origin :  反세계화 막아야하R 국H i만 B나 고y하는G2정들\n",
      "cleaned :  세계화 반대해야 한다: G2 국가들이 이만큼 고민해야 한다\n"
     ]
    },
    {
     "name": "stderr",
     "output_type": "stream",
     "text": [
      "92it [03:08,  2.02s/it]Setting `pad_token_id` to `eos_token_id`:None for open-end generation.\n"
     ]
    },
    {
     "name": "stdout",
     "output_type": "stream",
     "text": [
      "origin :  i글ZP전 독재자J에y샤드H노gb 별세\n",
      "cleaned :  독재자 이글 제이에이에이 별세\n"
     ]
    },
    {
     "name": "stderr",
     "output_type": "stream",
     "text": [
      "93it [03:10,  2.03s/it]Setting `pad_token_id` to `eos_token_id`:None for open-end generation.\n"
     ]
    },
    {
     "name": "stdout",
     "output_type": "stream",
     "text": [
      "origin :  v스라5 K기총 결초읽기네J후ZB치Q O속\n",
      "cleaned :  KBS 뉴스 5 KTV 기상청 발표 J후지 TV 방송\n"
     ]
    },
    {
     "name": "stderr",
     "output_type": "stream",
     "text": [
      "94it [03:12,  2.03s/it]Setting `pad_token_id` to `eos_token_id`:None for open-end generation.\n"
     ]
    },
    {
     "name": "stdout",
     "output_type": "stream",
     "text": [
      "origin :  중국 앱o개c자들 애플 갑질V r 폭발\n",
      "cleaned :  중국 앱 개발자들 애플의 갑질에 반발\n"
     ]
    },
    {
     "name": "stderr",
     "output_type": "stream",
     "text": [
      "95it [03:14,  2.03s/it]Setting `pad_token_id` to `eos_token_id`:None for open-end generation.\n"
     ]
    },
    {
     "name": "stdout",
     "output_type": "stream",
     "text": [
      "origin :  HDC 부동산114 자회사로 편입\n",
      "cleaned :  HDC 부동산 114 자회사로 편입\n"
     ]
    },
    {
     "name": "stderr",
     "output_type": "stream",
     "text": [
      "96it [03:16,  2.03s/it]Setting `pad_token_id` to `eos_token_id`:None for open-end generation.\n"
     ]
    },
    {
     "name": "stdout",
     "output_type": "stream",
     "text": [
      "origin :  대만계 美7통장이A父b운회 p불렸나ZN 조사L수\n",
      "cleaned :  대만계 美7통장 A父B운회, P불렸나? ZN 조사\n"
     ]
    },
    {
     "name": "stderr",
     "output_type": "stream",
     "text": [
      "97it [03:18,  2.03s/it]Setting `pad_token_id` to `eos_token_id`:None for open-end generation.\n"
     ]
    },
    {
     "name": "stdout",
     "output_type": "stream",
     "text": [
      "origin :  t크 바그다드0인o 시에서 dIS C후자처\n",
      "cleaned :  트럼프 대통령, 바그다드 시에서 미군 대치 상황에 대해 언급\n"
     ]
    },
    {
     "name": "stderr",
     "output_type": "stream",
     "text": [
      "98it [03:20,  2.05s/it]Setting `pad_token_id` to `eos_token_id`:None for open-end generation.\n"
     ]
    },
    {
     "name": "stdout",
     "output_type": "stream",
     "text": [
      "origin :  FLB6퍼t끝없는부f필a델c와p허니문 난1\n",
      "cleaned :  플로리다에서 끝없는 사랑의 필라델피아 허니문\n"
     ]
    },
    {
     "name": "stderr",
     "output_type": "stream",
     "text": [
      "99it [03:22,  2.05s/it]Setting `pad_token_id` to `eos_token_id`:None for open-end generation.\n"
     ]
    },
    {
     "name": "stdout",
     "output_type": "stream",
     "text": [
      "origin :  美y트코5사흘0K 또C격d용1m사망K명N부상\n",
      "cleaned :  미국, 5개 기업 3일간 1000억 원 규모의 화물 열차 사고로 1명 사망, 100명 부상\n"
     ]
    },
    {
     "name": "stderr",
     "output_type": "stream",
     "text": [
      "100it [03:24,  2.04s/it]Setting `pad_token_id` to `eos_token_id`:None for open-end generation.\n"
     ]
    },
    {
     "name": "stdout",
     "output_type": "stream",
     "text": [
      "origin :  란드 총사El6년 n에 제1k집v중도당 참패합3V\n",
      "cleaned :  란드 총선에서 중도당 참패, 제1회 집회 중단\n"
     ]
    },
    {
     "name": "stderr",
     "output_type": "stream",
     "text": [
      "101it [03:26,  2.03s/it]Setting `pad_token_id` to `eos_token_id`:None for open-end generation.\n"
     ]
    },
    {
     "name": "stdout",
     "output_type": "stream",
     "text": [
      "origin :  g제vW 이슬람 장Lp V격v W인Bh1M w망\n",
      "cleaned :  이슬람 국가가 인도에 침공한다\n"
     ]
    },
    {
     "name": "stderr",
     "output_type": "stream",
     "text": [
      "102it [03:28,  2.04s/it]Setting `pad_token_id` to `eos_token_id`:None for open-end generation.\n"
     ]
    },
    {
     "name": "stdout",
     "output_type": "stream",
     "text": [
      "origin :  밀라노d지오rd4 광장k시a jI노Q8o옥외광고\n",
      "cleaned :  밀라노 디지털 광장 시외 광고\n"
     ]
    },
    {
     "name": "stderr",
     "output_type": "stream",
     "text": [
      "103it [03:30,  2.03s/it]Setting `pad_token_id` to `eos_token_id`:None for open-end generation.\n"
     ]
    },
    {
     "name": "stdout",
     "output_type": "stream",
     "text": [
      "origin :  DAEA사우디 이어7 르Gm 호 연FJ참여1로\n",
      "cleaned :  사우디와 함께하는 G20 연합: 국제 경제회의 참여\n"
     ]
    },
    {
     "name": "stderr",
     "output_type": "stream",
     "text": [
      "104it [03:32,  2.02s/it]Setting `pad_token_id` to `eos_token_id`:None for open-end generation.\n"
     ]
    },
    {
     "name": "stdout",
     "output_type": "stream",
     "text": [
      "origin :  시CA무통일 불사g풍대만7 80V 일국양제u1대\n",
      "cleaned :  시리아 내전: 무력력 대만 7개국, 일국양제 원칙 발표\n"
     ]
    },
    {
     "name": "stderr",
     "output_type": "stream",
     "text": [
      "105it [03:34,  2.02s/it]Setting `pad_token_id` to `eos_token_id`:None for open-end generation.\n"
     ]
    },
    {
     "name": "stdout",
     "output_type": "stream",
     "text": [
      "origin :  인니M中에 10W조 원W 일대로사업 무더기X1안\n",
      "cleaned :  인도네시아에서 10개 기업 원에너지 사업 무더기 승인\n"
     ]
    },
    {
     "name": "stderr",
     "output_type": "stream",
     "text": [
      "106it [03:36,  2.02s/it]Setting `pad_token_id` to `eos_token_id`:None for open-end generation.\n"
     ]
    },
    {
     "name": "stdout",
     "output_type": "stream",
     "text": [
      "origin :  8 中해경 u박r4척w센XM d본vo5\n",
      "cleaned :  8중 해경 수색함이 중국 함정에 피격\n"
     ]
    },
    {
     "name": "stderr",
     "output_type": "stream",
     "text": [
      "107it [03:38,  2.02s/it]Setting `pad_token_id` to `eos_token_id`:None for open-end generation.\n"
     ]
    },
    {
     "name": "stdout",
     "output_type": "stream",
     "text": [
      "origin :  o국 초등학교 3부 투Y 교육 시킨\n",
      "cleaned :  오스트레일리아 초등학교 3학년생들에게 교육 시킨\n"
     ]
    },
    {
     "name": "stderr",
     "output_type": "stream",
     "text": [
      "108it [03:40,  2.02s/it]Setting `pad_token_id` to `eos_token_id`:None for open-end generation.\n"
     ]
    },
    {
     "name": "stdout",
     "output_type": "stream",
     "text": [
      "origin :  中 위안화 절행u고시 R값l25개월만I 최고\n",
      "cleaned :  중국 위안화 절상 고시, 25개월만에 최고치\n"
     ]
    },
    {
     "name": "stderr",
     "output_type": "stream",
     "text": [
      "109it [03:42,  2.03s/it]Setting `pad_token_id` to `eos_token_id`:None for open-end generation.\n"
     ]
    },
    {
     "name": "stdout",
     "output_type": "stream",
     "text": [
      "origin :  홍n거리청소 나선부c T국 내 최m8대테6 np부대\n",
      "cleaned :  홍릉거리 청소 나선부 T국 내 최다 8대 테6병원부대\n"
     ]
    },
    {
     "name": "stderr",
     "output_type": "stream",
     "text": [
      "110it [03:44,  2.03s/it]Setting `pad_token_id` to `eos_token_id`:None for open-end generation.\n"
     ]
    },
    {
     "name": "stdout",
     "output_type": "stream",
     "text": [
      "origin :  eY4상 i란d외bA2새Y k 바퀴\n",
      "cleaned :  에이피티코리아, 랜드외부에 신규 사업부 설립\n"
     ]
    },
    {
     "name": "stderr",
     "output_type": "stream",
     "text": [
      "111it [03:46,  2.02s/it]Setting `pad_token_id` to `eos_token_id`:None for open-end generation.\n"
     ]
    },
    {
     "name": "stdout",
     "output_type": "stream",
     "text": [
      "origin :  이스라엘레스타인vv지구 공Y로L5발사J 대t\n",
      "cleaned :  이스라엘, 이스라엘 지구에 로켓 5발 발사\n"
     ]
    },
    {
     "name": "stderr",
     "output_type": "stream",
     "text": [
      "112it [03:48,  2.02s/it]Setting `pad_token_id` to `eos_token_id`:None for open-end generation.\n"
     ]
    },
    {
     "name": "stdout",
     "output_type": "stream",
     "text": [
      "origin :  렉1트 x1영유T 중행7재 I동 무C\n",
      "cleaned :  렉스1트와 영유아를 위한 중행사 7차 재개 일정 발표\n"
     ]
    },
    {
     "name": "stderr",
     "output_type": "stream",
     "text": [
      "113it [03:50,  2.02s/it]Setting `pad_token_id` to `eos_token_id`:None for open-end generation.\n"
     ]
    },
    {
     "name": "stdout",
     "output_type": "stream",
     "text": [
      "origin :  H마 대통령uir6후m워싱턴_ymy무 개k_z정\n",
      "cleaned :  한 대통령 후마 대통령과 워싱턴 DC에서 정상회담\n"
     ]
    },
    {
     "name": "stderr",
     "output_type": "stream",
     "text": [
      "114it [03:53,  2.02s/it]Setting `pad_token_id` to `eos_token_id`:None for open-end generation.\n"
     ]
    },
    {
     "name": "stdout",
     "output_type": "stream",
     "text": [
      "origin :  z北CBM용 0켓엔진시험에 추가도발 용_못도발 삼가라\n",
      "cleaned :  북한의 0켓엔진 시험에 대한 추가 도발, 중국에 부탁해\n"
     ]
    },
    {
     "name": "stderr",
     "output_type": "stream",
     "text": [
      "115it [03:55,  2.02s/it]Setting `pad_token_id` to `eos_token_id`:None for open-end generation.\n"
     ]
    },
    {
     "name": "stdout",
     "output_type": "stream",
     "text": [
      "origin :  美 프RL 외상 흔7 없자F 아RI\n",
      "cleaned :  미국 프롬프트 리콜 외상 흔적 없음\n"
     ]
    },
    {
     "name": "stderr",
     "output_type": "stream",
     "text": [
      "116it [03:57,  2.02s/it]Setting `pad_token_id` to `eos_token_id`:None for open-end generation.\n"
     ]
    },
    {
     "name": "stdout",
     "output_type": "stream",
     "text": [
      "origin :  러시아 美 Ul벌 D w中겨g한 것전 R위 노려\n",
      "cleaned :  러시아, 미국과 독일 사이에서 중국과 무역 전쟁을 벌인다\n"
     ]
    },
    {
     "name": "stderr",
     "output_type": "stream",
     "text": [
      "117it [03:59,  2.02s/it]Setting `pad_token_id` to `eos_token_id`:None for open-end generation.\n"
     ]
    },
    {
     "name": "stdout",
     "output_type": "stream",
     "text": [
      "origin :  유럽c미NO6對이 제재Y피하기 위한T특z적X인aq\n",
      "cleaned :  유럽연합이 이란에 대한 제재 피하기 위한 특별한 인사를 보내\n"
     ]
    },
    {
     "name": "stderr",
     "output_type": "stream",
     "text": [
      "118it [04:01,  2.01s/it]Setting `pad_token_id` to `eos_token_id`:None for open-end generation.\n"
     ]
    },
    {
     "name": "stdout",
     "output_type": "stream",
     "text": [
      "origin :  W국제조2024q사졌지T中 과기술e6 F3N3Q\n",
      "cleaned :  2024년 W국제조업박람회 개최\n"
     ]
    },
    {
     "name": "stderr",
     "output_type": "stream",
     "text": [
      "119it [04:03,  2.01s/it]Setting `pad_token_id` to `eos_token_id`:None for open-end generation.\n"
     ]
    },
    {
     "name": "stdout",
     "output_type": "stream",
     "text": [
      "origin :  GE콩고 시련84볼d w X 내YW민간인 H NP\n",
      "cleaned :  GE콩고 시련 84회\n"
     ]
    },
    {
     "name": "stderr",
     "output_type": "stream",
     "text": [
      "120it [04:05,  2.02s/it]Setting `pad_token_id` to `eos_token_id`:None for open-end generation.\n"
     ]
    },
    {
     "name": "stdout",
     "output_type": "stream",
     "text": [
      "origin :  P vL에 자M항사e이란 영4통과5금지종합\n",
      "cleaned :  항공사 직원 4명 통화 금지 종합\n"
     ]
    },
    {
     "name": "stderr",
     "output_type": "stream",
     "text": [
      "121it [04:07,  2.01s/it]Setting `pad_token_id` to `eos_token_id`:None for open-end generation.\n"
     ]
    },
    {
     "name": "stdout",
     "output_type": "stream",
     "text": [
      "origin :  미aW용소 비교 7e 홀로hE트ka념관 A5\n",
      "cleaned :  미국과 중국의 무역 전쟁: 7개 경제 분야 비교\n"
     ]
    },
    {
     "name": "stderr",
     "output_type": "stream",
     "text": [
      "122it [04:09,  2.01s/it]Setting `pad_token_id` to `eos_token_id`:None for open-end generation.\n"
     ]
    },
    {
     "name": "stdout",
     "output_type": "stream",
     "text": [
      "origin :  2FcoC 탈레반T부 신임_ f1b상1AK qP 거부\n",
      "cleaned :  탈레반 부통령 신임, 미국 정부 거부\n"
     ]
    },
    {
     "name": "stderr",
     "output_type": "stream",
     "text": [
      "123it [04:11,  2.01s/it]Setting `pad_token_id` to `eos_token_id`:None for open-end generation.\n"
     ]
    },
    {
     "name": "stdout",
     "output_type": "stream",
     "text": [
      "origin :  스 노란조o 차m집회 열Q위 q모 2yG\n",
      "cleaned :  노란 조약조 집회 개최, 2월 27일\n"
     ]
    },
    {
     "name": "stderr",
     "output_type": "stream",
     "text": [
      "124it [04:13,  2.01s/it]Setting `pad_token_id` to `eos_token_id`:None for open-end generation.\n"
     ]
    },
    {
     "name": "stdout",
     "output_type": "stream",
     "text": [
      "origin :  프스1재 브렉시트H재 W랑스 에 악영향 없어\n",
      "cleaned :  프랑스와 브렉시트의 영향은 없어\n"
     ]
    },
    {
     "name": "stderr",
     "output_type": "stream",
     "text": [
      "125it [04:15,  2.01s/it]Setting `pad_token_id` to `eos_token_id`:None for open-end generation.\n"
     ]
    },
    {
     "name": "stdout",
     "output_type": "stream",
     "text": [
      "origin :  美친북1체 2Q0 전투H15일u종료\n",
      "cleaned :  친북단체 2분기 전투 행진 15일 종료\n"
     ]
    },
    {
     "name": "stderr",
     "output_type": "stream",
     "text": [
      "126it [04:17,  2.01s/it]Setting `pad_token_id` to `eos_token_id`:None for open-end generation.\n"
     ]
    },
    {
     "name": "stdout",
     "output_type": "stream",
     "text": [
      "origin :  터k 2러 이튿날a대적S3SN거작전eS명 체\n",
      "cleaned :  터키와 러시아, 이튿날 대적 S3S 노이즈 거작전 명체\n"
     ]
    },
    {
     "name": "stderr",
     "output_type": "stream",
     "text": [
      "127it [04:19,  2.01s/it]Setting `pad_token_id` to `eos_token_id`:None for open-end generation.\n"
     ]
    },
    {
     "name": "stdout",
     "output_type": "stream",
     "text": [
      "origin :  리그 발전 논의하는 KBO 윈터미팅 2930일 개최\n",
      "cleaned :  KBO, 리그 발전 논의를 위한 윈터 미팅 2930일 개최\n"
     ]
    },
    {
     "name": "stderr",
     "output_type": "stream",
     "text": [
      "128it [04:21,  2.01s/it]Setting `pad_token_id` to `eos_token_id`:None for open-end generation.\n"
     ]
    },
    {
     "name": "stdout",
     "output_type": "stream",
     "text": [
      "origin :  에C9르 진 실종자 17q0명 4ur에 L종합\n",
      "cleaned :  에어부산 에어부산 17명의 승객 실종\n"
     ]
    },
    {
     "name": "stderr",
     "output_type": "stream",
     "text": [
      "129it [04:23,  2.01s/it]Setting `pad_token_id` to `eos_token_id`:None for open-end generation.\n"
     ]
    },
    {
     "name": "stdout",
     "output_type": "stream",
     "text": [
      "origin :  유교 랍도 R군된다lX 성X자C Y무\n",
      "cleaned :  유교 랍도 R군된다, 성X자C Y무\n"
     ]
    },
    {
     "name": "stderr",
     "output_type": "stream",
     "text": [
      "130it [04:25,  2.01s/it]Setting `pad_token_id` to `eos_token_id`:None for open-end generation.\n"
     ]
    },
    {
     "name": "stdout",
     "output_type": "stream",
     "text": [
      "origin :  G란치스코 교황 wh 인간D지 04적 이슈 아0야\n",
      "cleaned :  G란치스코 교황: 인간의 존엄성과 도덕적 의무에 대한 논쟁\n"
     ]
    },
    {
     "name": "stderr",
     "output_type": "stream",
     "text": [
      "131it [04:27,  2.01s/it]Setting `pad_token_id` to `eos_token_id`:None for open-end generation.\n"
     ]
    },
    {
     "name": "stdout",
     "output_type": "stream",
     "text": [
      "origin :  아프리a 앙o라 동Q 처벌법 폐지권dykW영\n",
      "cleaned :  아프리카 앙고라 토끼 처벌법 폐지 논의\n"
     ]
    },
    {
     "name": "stderr",
     "output_type": "stream",
     "text": [
      "132it [04:29,  2.01s/it]Setting `pad_token_id` to `eos_token_id`:None for open-end generation.\n"
     ]
    },
    {
     "name": "stdout",
     "output_type": "stream",
     "text": [
      "origin :  XWKDw럼0 탄A하면k경제s 도움r될\n",
      "cleaned :  중앙은 코로나19 대응에 2조 6천억 원 지원\n"
     ]
    },
    {
     "name": "stderr",
     "output_type": "stream",
     "text": [
      "133it [04:31,  2.01s/it]Setting `pad_token_id` to `eos_token_id`:None for open-end generation.\n"
     ]
    },
    {
     "name": "stdout",
     "output_type": "stream",
     "text": [
      "origin :  스웨덴 S부 iL요청8中f부패Du범 다시8c\n",
      "cleaned :  스웨덴, 부패 방지를 위한 국제연합(ILO) 요청\n"
     ]
    },
    {
     "name": "stderr",
     "output_type": "stream",
     "text": [
      "134it [04:33,  2.19s/it]Setting `pad_token_id` to `eos_token_id`:None for open-end generation.\n"
     ]
    },
    {
     "name": "stdout",
     "output_type": "stream",
     "text": [
      "origin :  c성T 쇼r fFn아마x 알렉사 앱O 인기\n",
      "cleaned :  C 스타일 쇼가 인기 있는 알렉사 앱\n"
     ]
    },
    {
     "name": "stderr",
     "output_type": "stream",
     "text": [
      "135it [04:35,  2.16s/it]Setting `pad_token_id` to `eos_token_id`:None for open-end generation.\n"
     ]
    },
    {
     "name": "stdout",
     "output_type": "stream",
     "text": [
      "origin :  트WA 4u시트 uv英 il공정cp합 안 되면K야\n",
      "cleaned :  트위터에서 4세대 유비쿼터스 시스템이 4시간 안에 설치될 수 있는 영국의 일렉트릭 자동차 공급업체인 Kaya가 협력한다\n"
     ]
    },
    {
     "name": "stderr",
     "output_type": "stream",
     "text": [
      "136it [04:38,  2.13s/it]Setting `pad_token_id` to `eos_token_id`:None for open-end generation.\n"
     ]
    },
    {
     "name": "stdout",
     "output_type": "stream",
     "text": [
      "origin :  T치K2 Y루마니아 방문정 회R 함y 기도\n",
      "cleaned :  차기 K2 전차, 루마니아 방문 예정\n"
     ]
    },
    {
     "name": "stderr",
     "output_type": "stream",
     "text": [
      "137it [04:40,  2.10s/it]Setting `pad_token_id` to `eos_token_id`:None for open-end generation.\n"
     ]
    },
    {
     "name": "stdout",
     "output_type": "stream",
     "text": [
      "origin :  W라엘 네dR 총리 일je 겨냥 작lGY행\n",
      "cleaned :  W. 라엘, 네드 R 총리 일제 겨냥 작전 계획\n"
     ]
    },
    {
     "name": "stderr",
     "output_type": "stream",
     "text": [
      "138it [04:42,  2.08s/it]Setting `pad_token_id` to `eos_token_id`:None for open-end generation.\n"
     ]
    },
    {
     "name": "stdout",
     "output_type": "stream",
     "text": [
      "origin :  日자민당 로a헌법h조는세J유산_정 바z귀만I51안\n",
      "cleaned :  일본 자민당, 로헌법 조은 세 유산, 정 바 귀만 51안\n"
     ]
    },
    {
     "name": "stderr",
     "output_type": "stream",
     "text": [
      "139it [04:44,  2.06s/it]Setting `pad_token_id` to `eos_token_id`:None for open-end generation.\n"
     ]
    },
    {
     "name": "stdout",
     "output_type": "stream",
     "text": [
      "origin :  美 ue수4 전z제재mB날E이2S발r배1제 소문 흉1\n",
      "cleaned :  미국, 유럽 4개국에 제재 무기 발사 배제 소문\n"
     ]
    },
    {
     "name": "stderr",
     "output_type": "stream",
     "text": [
      "140it [04:46,  2.05s/it]Setting `pad_token_id` to `eos_token_id`:None for open-end generation.\n"
     ]
    },
    {
     "name": "stdout",
     "output_type": "stream",
     "text": [
      "origin :  美부통령l보 TV토론서도H북핵 이슈Sl펜스 불공방\n",
      "cleaned :  美부통령, TV토론서도 북핵 이슈에 대해 펜스와 불편한 공방\n"
     ]
    },
    {
     "name": "stderr",
     "output_type": "stream",
     "text": [
      "141it [04:48,  2.08s/it]Setting `pad_token_id` to `eos_token_id`:None for open-end generation.\n"
     ]
    },
    {
     "name": "stdout",
     "output_type": "stream",
     "text": [
      "origin :  군부에 굴복 안 해수단 야권114Ng파업예\n",
      "cleaned :  수단 야권 114개 파업 예\n"
     ]
    },
    {
     "name": "stderr",
     "output_type": "stream",
     "text": [
      "142it [04:50,  2.11s/it]Setting `pad_token_id` to `eos_token_id`:None for open-end generation.\n"
     ]
    },
    {
     "name": "stdout",
     "output_type": "stream",
     "text": [
      "origin :  F C 싱크탱 X노s브렉시트48 시간방법O족\n",
      "cleaned :  F C 싱크탱크, 브렉시트 48시간 방법 제시\n"
     ]
    },
    {
     "name": "stderr",
     "output_type": "stream",
     "text": [
      "143it [04:52,  2.08s/it]Setting `pad_token_id` to `eos_token_id`:None for open-end generation.\n"
     ]
    },
    {
     "name": "stdout",
     "output_type": "stream",
     "text": [
      "origin :  pu국j콩 50R만k3j입하B 50ya4 f사소통 프닝\n",
      "cleaned :  푸른콩 50만 톤 입하, 50년 후 사소통 프로젝트\n"
     ]
    },
    {
     "name": "stderr",
     "output_type": "stream",
     "text": [
      "144it [04:54,  2.06s/it]Setting `pad_token_id` to `eos_token_id`:None for open-end generation.\n"
     ]
    },
    {
     "name": "stdout",
     "output_type": "stream",
     "text": [
      "origin :  R48비동맹9의서 호무즈 QvAy참0 pA\n",
      "cleaned :  비동맹 9국 G20 정상회의 참석\n"
     ]
    },
    {
     "name": "stderr",
     "output_type": "stream",
     "text": [
      "145it [04:56,  2.04s/it]Setting `pad_token_id` to `eos_token_id`:None for open-end generation.\n"
     ]
    },
    {
     "name": "stdout",
     "output_type": "stream",
     "text": [
      "origin :  시x아 내 시fB0Qz 상공서 무인BP3대a격V돼\n",
      "cleaned :  서울 상공 무인기 사고 발생\n"
     ]
    },
    {
     "name": "stderr",
     "output_type": "stream",
     "text": [
      "146it [04:58,  2.04s/it]Setting `pad_token_id` to `eos_token_id`:None for open-end generation.\n"
     ]
    },
    {
     "name": "stdout",
     "output_type": "stream",
     "text": [
      "origin :  간OCElz로48명g사C희생0Zr부분 U린이\n",
      "cleaned :  간호사 48명 희생, 어린이 일부 사망\n"
     ]
    },
    {
     "name": "stderr",
     "output_type": "stream",
     "text": [
      "147it [05:00,  2.03s/it]Setting `pad_token_id` to `eos_token_id`:None for open-end generation.\n"
     ]
    },
    {
     "name": "stdout",
     "output_type": "stream",
     "text": [
      "origin :  방JU르c안과Kc자 n9NtK안논\n",
      "cleaned :  방탄소년단과 카이의 NCT 127 콘서트\n"
     ]
    },
    {
     "name": "stderr",
     "output_type": "stream",
     "text": [
      "148it [05:02,  2.02s/it]Setting `pad_token_id` to `eos_token_id`:None for open-end generation.\n"
     ]
    },
    {
     "name": "stdout",
     "output_type": "stream",
     "text": [
      "origin :  OxW美J제유예 불허에 원유 J목 호르무즈V7 u쇄 경고\n",
      "cleaned :  미국 J제의 유예 불허에 원유 가격 급등, 호르무즈 해협 통행에 경고\n"
     ]
    },
    {
     "name": "stderr",
     "output_type": "stream",
     "text": [
      "149it [05:04,  2.02s/it]Setting `pad_token_id` to `eos_token_id`:None for open-end generation.\n"
     ]
    },
    {
     "name": "stdout",
     "output_type": "stream",
     "text": [
      "origin :  _얀마B사f9 44야u사태 36거부\n",
      "cleaned :  얀마 B사 9호 44번대가 야우사태를 36번 거부했습니다.\n"
     ]
    },
    {
     "name": "stderr",
     "output_type": "stream",
     "text": [
      "150it [05:06,  2.02s/it]Setting `pad_token_id` to `eos_token_id`:None for open-end generation.\n"
     ]
    },
    {
     "name": "stdout",
     "output_type": "stream",
     "text": [
      "origin :  러 日과영토쟁IrUZN T8련S8t항o\n",
      "cleaned :  러시아, 일본과 영토 분쟁 해결\n"
     ]
    },
    {
     "name": "stderr",
     "output_type": "stream",
     "text": [
      "151it [05:08,  2.01s/it]Setting `pad_token_id` to `eos_token_id`:None for open-end generation.\n"
     ]
    },
    {
     "name": "stdout",
     "output_type": "stream",
     "text": [
      "origin :  GO갈등 속 프랑스핵미사일 발사 훈이례U공\n",
      "cleaned :  GO 갈등 속 프랑스 핵미사일 발사훈련 이례적\n"
     ]
    },
    {
     "name": "stderr",
     "output_type": "stream",
     "text": [
      "152it [05:10,  2.02s/it]Setting `pad_token_id` to `eos_token_id`:None for open-end generation.\n"
     ]
    },
    {
     "name": "stdout",
     "output_type": "stream",
     "text": [
      "origin :  V코Rq3화산 yP4재 2천ｍmJ v솟아\n",
      "cleaned :  백두산 화산재 2천 미터 솟아\n"
     ]
    },
    {
     "name": "stderr",
     "output_type": "stream",
     "text": [
      "153it [05:12,  2.02s/it]Setting `pad_token_id` to `eos_token_id`:None for open-end generation.\n"
     ]
    },
    {
     "name": "stdout",
     "output_type": "stream",
     "text": [
      "origin :  염설 기업Ic존l 총리 j란 si r락 차단해\n",
      "cleaned :  염설 기업 I&J 란 차단\n"
     ]
    },
    {
     "name": "stderr",
     "output_type": "stream",
     "text": [
      "154it [05:14,  2.02s/it]Setting `pad_token_id` to `eos_token_id`:None for open-end generation.\n"
     ]
    },
    {
     "name": "stdout",
     "output_type": "stream",
     "text": [
      "origin :  美4선 rD토론F판정 힐t리r층hY할까Z초o빙 판세 변Wp1목Ka\n",
      "cleaned :  미국 4선 의원 토론 판정, 힐러리 vs. 트럼프 판세 변동 목격\n"
     ]
    },
    {
     "name": "stderr",
     "output_type": "stream",
     "text": [
      "155it [05:16,  2.02s/it]Setting `pad_token_id` to `eos_token_id`:None for open-end generation.\n"
     ]
    },
    {
     "name": "stdout",
     "output_type": "stream",
     "text": [
      "origin :  AAg이fPbr사회와 핵_r미사일새8 q상해c\n",
      "cleaned :  사회와 핵 미사일, 상해에서 8개국 참가\n"
     ]
    },
    {
     "name": "stderr",
     "output_type": "stream",
     "text": [
      "156it [05:18,  2.02s/it]Setting `pad_token_id` to `eos_token_id`:None for open-end generation.\n"
     ]
    },
    {
     "name": "stdout",
     "output_type": "stream",
     "text": [
      "origin :  라r리밟은o밍스A경4전정지 중징계\n",
      "cleaned :  라리 박스미스 A 경 4전 정지 중징계\n"
     ]
    },
    {
     "name": "stderr",
     "output_type": "stream",
     "text": [
      "157it [05:20,  2.01s/it]Setting `pad_token_id` to `eos_token_id`:None for open-end generation.\n"
     ]
    },
    {
     "name": "stdout",
     "output_type": "stream",
     "text": [
      "origin :  O이도 PQ코of과이 U화nhZ부옳은8 서달k\n",
      "cleaned :  오이도 PQ코프와 이 우화 부옳은 8세로 서둘러야 합니다.\n"
     ]
    },
    {
     "name": "stderr",
     "output_type": "stream",
     "text": [
      "158it [05:22,  2.01s/it]Setting `pad_token_id` to `eos_token_id`:None for open-end generation.\n"
     ]
    },
    {
     "name": "stdout",
     "output_type": "stream",
     "text": [
      "origin :  러jnB들 연루 前u프캠프 고문Ec원 보궐선5도R\n",
      "cleaned :  러시아 대통령의 대북 정책에 대한 북한의 반응\n"
     ]
    },
    {
     "name": "stderr",
     "output_type": "stream",
     "text": [
      "159it [05:24,  2.01s/it]Setting `pad_token_id` to `eos_token_id`:None for open-end generation.\n"
     ]
    },
    {
     "name": "stdout",
     "output_type": "stream",
     "text": [
      "origin :  美 휴a턴e쇼핑몰서총격 e\n",
      "cleaned :  미 휴턴 쇼핑몰에서 총격 사건 발생\n"
     ]
    },
    {
     "name": "stderr",
     "output_type": "stream",
     "text": [
      "160it [05:26,  2.01s/it]Setting `pad_token_id` to `eos_token_id`:None for open-end generation.\n"
     ]
    },
    {
     "name": "stdout",
     "output_type": "stream",
     "text": [
      "origin :  5x월간 500명5초인종5알고보 美C커q 괴힘\n",
      "cleaned :  5월 500명 5초 인종 5알고보 美C커위원회의 결정\n"
     ]
    },
    {
     "name": "stderr",
     "output_type": "stream",
     "text": [
      "161it [05:28,  2.01s/it]Setting `pad_token_id` to `eos_token_id`:None for open-end generation.\n"
     ]
    },
    {
     "name": "stdout",
     "output_type": "stream",
     "text": [
      "origin :  하e자6홍콩 4 아 경o리스크i 부D\n",
      "cleaned :  홍콩 4개 금융기관이 경상손익 부진을 겪고 있다\n"
     ]
    },
    {
     "name": "stderr",
     "output_type": "stream",
     "text": [
      "162it [05:30,  2.01s/it]Setting `pad_token_id` to `eos_token_id`:None for open-end generation.\n"
     ]
    },
    {
     "name": "stdout",
     "output_type": "stream",
     "text": [
      "origin :  꽁잡2 6중조업 Pp양u어획b경쟁 g v망\n",
      "cleaned :  꽁잡이 2척 6중조업, 양어 경쟁 심화\n"
     ]
    },
    {
     "name": "stderr",
     "output_type": "stream",
     "text": [
      "163it [05:32,  2.01s/it]Setting `pad_token_id` to `eos_token_id`:None for open-end generation.\n"
     ]
    },
    {
     "name": "stdout",
     "output_type": "stream",
     "text": [
      "origin :  난 바D서N째리Uue명r모여 정권진 요구종합\n",
      "cleaned :  난바서리우에명르모여 정권진 요구종합\n"
     ]
    },
    {
     "name": "stderr",
     "output_type": "stream",
     "text": [
      "164it [05:34,  2.02s/it]Setting `pad_token_id` to `eos_token_id`:None for open-end generation.\n"
     ]
    },
    {
     "name": "stdout",
     "output_type": "stream",
     "text": [
      "origin :  中 홍시위 격화xt무h G입 oAfP국j등 I은A\n",
      "cleaned :  중국 홍콩 시위 격화, 홍콩 정부의 대응은?\n"
     ]
    },
    {
     "name": "stderr",
     "output_type": "stream",
     "text": [
      "165it [05:36,  2.03s/it]Setting `pad_token_id` to `eos_token_id`:None for open-end generation.\n"
     ]
    },
    {
     "name": "stdout",
     "output_type": "stream",
     "text": [
      "origin :  터키 화2 우세 vb워 쿠르드 T민간인 피o 커져종합2보\n",
      "cleaned :  터키 쿠르드군, 화르르2 우세 vs 쿠르드 T민간인 피의 커져 종합 2보\n"
     ]
    },
    {
     "name": "stderr",
     "output_type": "stream",
     "text": [
      "166it [05:38,  2.03s/it]Setting `pad_token_id` to `eos_token_id`:None for open-end generation.\n"
     ]
    },
    {
     "name": "stdout",
     "output_type": "stream",
     "text": [
      "origin :  빌클E E발질 S마케어2가장2미친h것jq선o점상종합\n",
      "cleaned :  빌 클린턴 전 미국 대통령의 전략적 마케팅 2차 발언이 가장 미친 짓이라고 선점상 종합\n"
     ]
    },
    {
     "name": "stderr",
     "output_type": "stream",
     "text": [
      "167it [05:40,  2.02s/it]Setting `pad_token_id` to `eos_token_id`:None for open-end generation.\n"
     ]
    },
    {
     "name": "stdout",
     "output_type": "stream",
     "text": [
      "origin :  에콰도C t가7상 반대 j업으로 이U째B혼란50명 연행\n",
      "cleaned :  에콰도르 정부, 7월 7일 반정부 시위로 50명 연행\n"
     ]
    },
    {
     "name": "stderr",
     "output_type": "stream",
     "text": [
      "168it [05:42,  2.02s/it]Setting `pad_token_id` to `eos_token_id`:None for open-end generation.\n"
     ]
    },
    {
     "name": "stdout",
     "output_type": "stream",
     "text": [
      "origin :  日ITPP1법안F각H의Y의z pV국회Cn부\n",
      "cleaned :  日 ITPP1 법안 F각 H 의 Y 국회 Cn 부\n"
     ]
    },
    {
     "name": "stderr",
     "output_type": "stream",
     "text": [
      "169it [05:44,  2.01s/it]Setting `pad_token_id` to `eos_token_id`:None for open-end generation.\n"
     ]
    },
    {
     "name": "stdout",
     "output_type": "stream",
     "text": [
      "origin :  美 항e법원 O린 인터넷 명령 합aAy사들n4\n",
      "cleaned :  미 항소법원, 인터넷 명령에 합류한 4개 회사\n"
     ]
    },
    {
     "name": "stderr",
     "output_type": "stream",
     "text": [
      "170it [05:46,  2.01s/it]Setting `pad_token_id` to `eos_token_id`:None for open-end generation.\n"
     ]
    },
    {
     "name": "stdout",
     "output_type": "stream",
     "text": [
      "origin :  美여성 남편에 sY당첨W가능 보여주다 F억P 덜컥 당첨\n",
      "cleaned :  미국 여성 남편에 당첨될 수 있는 보여주기, 덜컥 당첨\n"
     ]
    },
    {
     "name": "stderr",
     "output_type": "stream",
     "text": [
      "171it [05:48,  2.01s/it]Setting `pad_token_id` to `eos_token_id`:None for open-end generation.\n"
     ]
    },
    {
     "name": "stdout",
     "output_type": "stream",
     "text": [
      "origin :  샤 T웨6용 파 리i EX 중 화U\n",
      "cleaned :  샤오미 6X용 파 리이 EX 중화 유\n"
     ]
    },
    {
     "name": "stderr",
     "output_type": "stream",
     "text": [
      "172it [05:50,  2.01s/it]Setting `pad_token_id` to `eos_token_id`:None for open-end generation.\n"
     ]
    },
    {
     "name": "stdout",
     "output_type": "stream",
     "text": [
      "origin :  건사1호 의Gs캐B다 K뤼I 총리OV지2야당뒤8\n",
      "cleaned :  건설사 1호 GS캐스케이드, K-뷰티 총리관저 야당 뒤집기\n"
     ]
    },
    {
     "name": "stderr",
     "output_type": "stream",
     "text": [
      "173it [05:52,  2.01s/it]Setting `pad_token_id` to `eos_token_id`:None for open-end generation.\n"
     ]
    },
    {
     "name": "stdout",
     "output_type": "stream",
     "text": [
      "origin :  中허난성x 물열차 탈선해 주택 _Lh명 실종\n",
      "cleaned :  중국 허난성에서 물열차 탈선, 주택에 충돌해 1명 실종\n"
     ]
    },
    {
     "name": "stderr",
     "output_type": "stream",
     "text": [
      "174it [05:54,  2.01s/it]Setting `pad_token_id` to `eos_token_id`:None for open-end generation.\n"
     ]
    },
    {
     "name": "stdout",
     "output_type": "stream",
     "text": [
      "origin :  CNG美항3r파 이란6k60사일이동 z4성 4보\n",
      "cleaned :  CNG 美 항공사 이란 6개 사일로 이동\n"
     ]
    },
    {
     "name": "stderr",
     "output_type": "stream",
     "text": [
      "175it [05:56,  2.01s/it]Setting `pad_token_id` to `eos_token_id`:None for open-end generation.\n"
     ]
    },
    {
     "name": "stdout",
     "output_type": "stream",
     "text": [
      "origin :  파테6MuoX쓰Ya대란지b유vE0K 35 프랑5비상\n",
      "cleaned :  파테 6천만 원대 란지부 35프랑 5억 비상\n"
     ]
    },
    {
     "name": "stderr",
     "output_type": "stream",
     "text": [
      "176it [05:58,  2.02s/it]Setting `pad_token_id` to `eos_token_id`:None for open-end generation.\n"
     ]
    },
    {
     "name": "stdout",
     "output_type": "stream",
     "text": [
      "origin :  삼성증권 1분기 영업이익 1천496억원17 감소\n",
      "cleaned :  삼성증권 1분기 영업이익 1천496억원 감소\n"
     ]
    },
    {
     "name": "stderr",
     "output_type": "stream",
     "text": [
      "177it [06:00,  2.03s/it]Setting `pad_token_id` to `eos_token_id`:None for open-end generation.\n"
     ]
    },
    {
     "name": "stdout",
     "output_type": "stream",
     "text": [
      "origin :  中매I6맞불N세K옹호3국이 f인제공Z반 W비m\n",
      "cleaned :  중국 매핑 기술 맞불: 미국, 세 가지 국가가 반도체 산업 비중 확대\n"
     ]
    },
    {
     "name": "stderr",
     "output_type": "stream",
     "text": [
      "178it [06:03,  2.03s/it]Setting `pad_token_id` to `eos_token_id`:None for open-end generation.\n"
     ]
    },
    {
     "name": "stdout",
     "output_type": "stream",
     "text": [
      "origin :  美 中g위구르탄압cN공중국은 종w와 R쟁 중\n",
      "cleaned :  美 中 위구르 탄압, 공중국은 종종 전쟁 중\n"
     ]
    },
    {
     "name": "stderr",
     "output_type": "stream",
     "text": [
      "179it [06:05,  2.03s/it]Setting `pad_token_id` to `eos_token_id`:None for open-end generation.\n"
     ]
    },
    {
     "name": "stdout",
     "output_type": "stream",
     "text": [
      "origin :  S란e 시착한y르웨이 여객l제재탓 70일만b Bf귀환\n",
      "cleaned :  S\n"
     ]
    },
    {
     "name": "stderr",
     "output_type": "stream",
     "text": [
      "180it [06:07,  2.03s/it]Setting `pad_token_id` to `eos_token_id`:None for open-end generation.\n"
     ]
    },
    {
     "name": "stdout",
     "output_type": "stream",
     "text": [
      "origin :  3중XQ4대사관 3안먼 시a 3K주V에 조기 게양\n",
      "cleaned :  제목없음\n"
     ]
    },
    {
     "name": "stderr",
     "output_type": "stream",
     "text": [
      "181it [06:09,  2.04s/it]Setting `pad_token_id` to `eos_token_id`:None for open-end generation.\n"
     ]
    },
    {
     "name": "stdout",
     "output_type": "stream",
     "text": [
      "origin :  한아세S 베I총7 한 베남a관계4l상 망\n",
      "cleaned :  한아세안 외교장관회의 베트남 개최\n"
     ]
    },
    {
     "name": "stderr",
     "output_type": "stream",
     "text": [
      "182it [06:11,  2.03s/it]Setting `pad_token_id` to `eos_token_id`:None for open-end generation.\n"
     ]
    },
    {
     "name": "stdout",
     "output_type": "stream",
     "text": [
      "origin :  페루 대령 정pd x개 위nwxli총선d제안\n",
      "cleaned :  페루 대령, 총선에서 2개 선거구 제안\n"
     ]
    },
    {
     "name": "stderr",
     "output_type": "stream",
     "text": [
      "183it [06:13,  2.03s/it]Setting `pad_token_id` to `eos_token_id`:None for open-end generation.\n"
     ]
    },
    {
     "name": "stdout",
     "output_type": "stream",
     "text": [
      "origin :  전W참c 이nd 유jm객ie우려 개조\n",
      "cleaned :  전체적으로 W참이 개조 우려\n"
     ]
    },
    {
     "name": "stderr",
     "output_type": "stream",
     "text": [
      "184it [06:15,  2.03s/it]Setting `pad_token_id` to `eos_token_id`:None for open-end generation.\n"
     ]
    },
    {
     "name": "stdout",
     "output_type": "stream",
     "text": [
      "origin :  이스라엘v정보당국 ME스인인 5Se러 _의로 1포\n",
      "cleaned :  이스라엘 정보당국, 메시지를 보내 5명에게 1억 원의 벌금을 부과\n"
     ]
    },
    {
     "name": "stderr",
     "output_type": "stream",
     "text": [
      "185it [06:17,  2.14s/it]Setting `pad_token_id` to `eos_token_id`:None for open-end generation.\n"
     ]
    },
    {
     "name": "stdout",
     "output_type": "stream",
     "text": [
      "origin :  월 J9l월째경상수지 흑자Q자폭은J18qAT\n",
      "cleaned :  월요일 경상수지 흑자 폭은 18억 달러\n"
     ]
    },
    {
     "name": "stderr",
     "output_type": "stream",
     "text": [
      "186it [06:19,  2.11s/it]Setting `pad_token_id` to `eos_token_id`:None for open-end generation.\n"
     ]
    },
    {
     "name": "stdout",
     "output_type": "stream",
     "text": [
      "origin :  5反난WU선y비니 동맹Pkv의회 U탈리4 5거j압승\n",
      "cleaned :  5반난 WU선비의 동맹, Pkv의회 U탈리4 5거압승\n"
     ]
    },
    {
     "name": "stderr",
     "output_type": "stream",
     "text": [
      "187it [06:21,  2.09s/it]Setting `pad_token_id` to `eos_token_id`:None for open-end generation.\n"
     ]
    },
    {
     "name": "stdout",
     "output_type": "stream",
     "text": [
      "origin :  푸틴 리아 철군 계획 사드x 사전 협의0아사드 R8\n",
      "cleaned :  푸틴, 리비아 철군 계획 발표, 사드 배치 사전 협의\n"
     ]
    },
    {
     "name": "stderr",
     "output_type": "stream",
     "text": [
      "188it [06:23,  2.07s/it]Setting `pad_token_id` to `eos_token_id`:None for open-end generation.\n"
     ]
    },
    {
     "name": "stdout",
     "output_type": "stream",
     "text": [
      "origin :  캄R아d일본6 5명 택시 O살인 혐의6B포\n",
      "cleaned :  일본인 6명, 한국인 5명 택시 운전사 살인 혐의\n"
     ]
    },
    {
     "name": "stderr",
     "output_type": "stream",
     "text": [
      "189it [06:25,  2.06s/it]Setting `pad_token_id` to `eos_token_id`:None for open-end generation.\n"
     ]
    },
    {
     "name": "stdout",
     "output_type": "stream",
     "text": [
      "origin :  5 신흥시장 상이 C드H 2색화에E많F y8점\n",
      "cleaned :  5 신흥시장 상이 C드H 2색화에E많F y8점\n"
     ]
    },
    {
     "name": "stderr",
     "output_type": "stream",
     "text": [
      "190it [06:27,  2.05s/it]Setting `pad_token_id` to `eos_token_id`:None for open-end generation.\n"
     ]
    },
    {
     "name": "stdout",
     "output_type": "stream",
     "text": [
      "origin :  IS 지중해 할 해상N력 꿈꿔w실화시 운송3비상\n",
      "cleaned :  IS 지중해 해상력 꿈꿔 실화인가? 해상운송 3차 비상\n"
     ]
    },
    {
     "name": "stderr",
     "output_type": "stream",
     "text": [
      "191it [06:29,  2.05s/it]Setting `pad_token_id` to `eos_token_id`:None for open-end generation.\n"
     ]
    },
    {
     "name": "stdout",
     "output_type": "stream",
     "text": [
      "origin :  美 日관련유조선공격범 79 지목z자k_정부 당\n",
      "cleaned :  미국과 관련된 유조선 공격범 79명 지목, 정부 당면\n"
     ]
    },
    {
     "name": "stderr",
     "output_type": "stream",
     "text": [
      "192it [06:31,  2.07s/it]Setting `pad_token_id` to `eos_token_id`:None for open-end generation.\n"
     ]
    },
    {
     "name": "stdout",
     "output_type": "stream",
     "text": [
      "origin :  O토N미군 폴란드에 Z참7지cqgZ계t무기k약보관\n",
      "cleaned :  미군 폴란드에 미사일 방어 시스템 보관\n"
     ]
    },
    {
     "name": "stderr",
     "output_type": "stream",
     "text": [
      "193it [06:33,  2.06s/it]Setting `pad_token_id` to `eos_token_id`:None for open-end generation.\n"
     ]
    },
    {
     "name": "stdout",
     "output_type": "stream",
     "text": [
      "origin :  中지방정M 유엔제7 허9범k서R대북경1 강화 VnA\n",
      "cleaned :  중국 지방정부, 유엔 제7차 북핵 문제 대화 강화\n"
     ]
    },
    {
     "name": "stderr",
     "output_type": "stream",
     "text": [
      "194it [06:36,  2.05s/it]Setting `pad_token_id` to `eos_token_id`:None for open-end generation.\n"
     ]
    },
    {
     "name": "stdout",
     "output_type": "stream",
     "text": [
      "origin :  국제k호단체HrUTs 유엔 테단체 1정 움직f에k우려\n",
      "cleaned :  국제 노동기구(ILO)와 UNICEF, 1억 달러 규모의 지원금에 우려\n"
     ]
    },
    {
     "name": "stderr",
     "output_type": "stream",
     "text": [
      "195it [06:38,  2.06s/it]Setting `pad_token_id` to `eos_token_id`:None for open-end generation.\n"
     ]
    },
    {
     "name": "stdout",
     "output_type": "stream",
     "text": [
      "origin :  구마모WH진G고Uo대지S급진동에도 O망자는W700분R1\n",
      "cleaned :  구마모리 대학, 진동에도 고층 건물 대지진 시 700분 이상 견디는 기술 개발\n"
     ]
    },
    {
     "name": "stderr",
     "output_type": "stream",
     "text": [
      "196it [06:40,  2.05s/it]Setting `pad_token_id` to `eos_token_id`:None for open-end generation.\n"
     ]
    },
    {
     "name": "stdout",
     "output_type": "stream",
     "text": [
      "origin :  브_질A언론 세프 V통 탄핵rM능성 더 커j\n",
      "cleaned :  브리핑: 세프 V통 탄핵론 더 강화되다\n"
     ]
    },
    {
     "name": "stderr",
     "output_type": "stream",
     "text": [
      "197it [06:42,  2.04s/it]Setting `pad_token_id` to `eos_token_id`:None for open-end generation.\n"
     ]
    },
    {
     "name": "stdout",
     "output_type": "stream",
     "text": [
      "origin :  일JA7실업률 4e일후 저z준\n",
      "cleaned :  7월 실업률 4개월 후 최저\n"
     ]
    },
    {
     "name": "stderr",
     "output_type": "stream",
     "text": [
      "198it [06:44,  2.04s/it]Setting `pad_token_id` to `eos_token_id`:None for open-end generation.\n"
     ]
    },
    {
     "name": "stdout",
     "output_type": "stream",
     "text": [
      "origin :  美국무부 北미사x 발n 도 자q하7협에 전u j구종합\n",
      "cleaned :  미국 국무부, 북미사일 발사 도발에 전격적 제재 구상\n"
     ]
    },
    {
     "name": "stderr",
     "output_type": "stream",
     "text": [
      "199it [06:46,  2.03s/it]Setting `pad_token_id` to `eos_token_id`:None for open-end generation.\n"
     ]
    },
    {
     "name": "stdout",
     "output_type": "stream",
     "text": [
      "origin :  EU 167DI 56w 0 이용DK마크 k9g최고프랑c 42 Qq\n",
      "cleaned :  유럽연합, 167억 달러 규모의 디지털 인프라 투자를 발표\n"
     ]
    },
    {
     "name": "stderr",
     "output_type": "stream",
     "text": [
      "200it [06:48,  2.03s/it]Setting `pad_token_id` to `eos_token_id`:None for open-end generation.\n"
     ]
    },
    {
     "name": "stdout",
     "output_type": "stream",
     "text": [
      "origin :  알카에 인도b부2z美아프 작전으로 사망AFP\n",
      "cleaned :  알카에 인도 부대 2차 美아프 작전으로 사망\n"
     ]
    },
    {
     "name": "stderr",
     "output_type": "stream",
     "text": [
      "201it [06:50,  2.04s/it]Setting `pad_token_id` to `eos_token_id`:None for open-end generation.\n"
     ]
    },
    {
     "name": "stdout",
     "output_type": "stream",
     "text": [
      "origin :  2천q 전 길 그대로5페이 유h서 j V생I벽화 n\n",
      "cleaned :  2천만 원짜리 전통 길거리 음식점 5개 유망 업종으로 선정되다\n"
     ]
    },
    {
     "name": "stderr",
     "output_type": "stream",
     "text": [
      "202it [06:52,  2.04s/it]Setting `pad_token_id` to `eos_token_id`:None for open-end generation.\n"
     ]
    },
    {
     "name": "stdout",
     "output_type": "stream",
     "text": [
      "origin :  w콩 T립 깃발\n",
      "cleaned :  북한, 깃발을 잡아갔다\n"
     ]
    },
    {
     "name": "stderr",
     "output_type": "stream",
     "text": [
      "203it [06:54,  2.04s/it]Setting `pad_token_id` to `eos_token_id`:None for open-end generation.\n"
     ]
    },
    {
     "name": "stdout",
     "output_type": "stream",
     "text": [
      "origin :  IMF총x 미S 무T쟁에 2tR흥국Z충G위R염려\n",
      "cleaned :  IMF 총회, 미스 유럽 국가들에 2조 달러 충돌 위험\n"
     ]
    },
    {
     "name": "stderr",
     "output_type": "stream",
     "text": [
      "204it [06:56,  2.03s/it]Setting `pad_token_id` to `eos_token_id`:None for open-end generation.\n"
     ]
    },
    {
     "name": "stdout",
     "output_type": "stream",
     "text": [
      "origin :  Q체w만법lV통과돼E실질 영향b없s\n",
      "cleaned :  Q 체제 완화 법안 V 통과, 실질적인 영향 없어\n"
     ]
    },
    {
     "name": "stderr",
     "output_type": "stream",
     "text": [
      "205it [06:58,  2.03s/it]Setting `pad_token_id` to `eos_token_id`:None for open-end generation.\n"
     ]
    },
    {
     "name": "stdout",
     "output_type": "stream",
     "text": [
      "origin :  트럼S행정 명령 영향OMLB I네수엘라윈터Y그 r참\n",
      "cleaned :  트럼프 행정 명령, MLB 인수에 영향\n"
     ]
    },
    {
     "name": "stderr",
     "output_type": "stream",
     "text": [
      "206it [07:00,  2.03s/it]Setting `pad_token_id` to `eos_token_id`:None for open-end generation.\n"
     ]
    },
    {
     "name": "stdout",
     "output_type": "stream",
     "text": [
      "origin :  p 특M 예멘 반P정부d긴급 면담O전m이 촉구\n",
      "cleaned :  예멘 반정부 세력과 긴급 면담을 촉구\n"
     ]
    },
    {
     "name": "stderr",
     "output_type": "stream",
     "text": [
      "207it [07:02,  2.02s/it]Setting `pad_token_id` to `eos_token_id`:None for open-end generation.\n"
     ]
    },
    {
     "name": "stdout",
     "output_type": "stream",
     "text": [
      "origin :  정보V관b난한o럼d 北0J 문제 이견없다s언 왜\n",
      "cleaned :  정보관 북한 문제 이견 없다, 왜?\n"
     ]
    },
    {
     "name": "stderr",
     "output_type": "stream",
     "text": [
      "208it [07:04,  2.01s/it]Setting `pad_token_id` to `eos_token_id`:None for open-end generation.\n"
     ]
    },
    {
     "name": "stdout",
     "output_type": "stream",
     "text": [
      "origin :  부n무8림U라더t中f기결혼에우B X93 여성P\n",
      "cleaned :  부산 무역회의에서 중국 기업과의 결혼식 참석자들\n"
     ]
    },
    {
     "name": "stderr",
     "output_type": "stream",
     "text": [
      "209it [07:06,  2.01s/it]Setting `pad_token_id` to `eos_token_id`:None for open-end generation.\n"
     ]
    },
    {
     "name": "stdout",
     "output_type": "stream",
     "text": [
      "origin :  무림 입국금지 속 트y프 임 던시장은 P외종8l보\n",
      "cleaned :  무림 입국금지 속 트리플 파크 던시장 박외종 8억 보\n"
     ]
    },
    {
     "name": "stderr",
     "output_type": "stream",
     "text": [
      "210it [07:08,  2.01s/it]Setting `pad_token_id` to `eos_token_id`:None for open-end generation.\n"
     ]
    },
    {
     "name": "stdout",
     "output_type": "stream",
     "text": [
      "origin :  n탈냐 반 스페인의 노란 리rO철거지 거Lt O\n",
      "cleaned :  탈북자의 반 스페인 노란 리버티 통행구역 철거\n"
     ]
    },
    {
     "name": "stderr",
     "output_type": "stream",
     "text": [
      "211it [07:10,  2.02s/it]Setting `pad_token_id` to `eos_token_id`:None for open-end generation.\n"
     ]
    },
    {
     "name": "stdout",
     "output_type": "stream",
     "text": [
      "origin :  남중P해 美4中Z군사적 충돌가능성mR져화 틀 필요\n",
      "cleaned :  남중국해 美-4개국 군사 충돌 가능성 커져... 협력 필요\n"
     ]
    },
    {
     "name": "stderr",
     "output_type": "stream",
     "text": [
      "212it [07:12,  2.02s/it]Setting `pad_token_id` to `eos_token_id`:None for open-end generation.\n"
     ]
    },
    {
     "name": "stdout",
     "output_type": "stream",
     "text": [
      "origin :  가 프리다a 사상 이해 안돼벌 신 주멕시7J美대사\n",
      "cleaned :  가 프리다사상 이해 안돼벌 신 주멕시7美대사\n"
     ]
    },
    {
     "name": "stderr",
     "output_type": "stream",
     "text": [
      "213it [07:14,  2.03s/it]Setting `pad_token_id` to `eos_token_id`:None for open-end generation.\n"
     ]
    },
    {
     "name": "stdout",
     "output_type": "stream",
     "text": [
      "origin :  美Tb3주대서K격8명 부상1명중N1보\n",
      "cleaned :  미국 T3 주대 서부 8명 부상, 1명 중상\n"
     ]
    },
    {
     "name": "stderr",
     "output_type": "stream",
     "text": [
      "214it [07:16,  2.04s/it]"
     ]
    },
    {
     "name": "stdout",
     "output_type": "stream",
     "text": [
      "origin :  13이 노바 라이n2미J어패0 T3 10 결G상품\n",
      "cleaned :  13가지 노바 라인 2미 제트 10: 결승 상품\n"
     ]
    },
    {
     "name": "stderr",
     "output_type": "stream",
     "text": [
      "\n"
     ]
    }
   ],
   "source": [
    "\"\"\"\n",
    "선정된 모델을 이용해 기존의 noise dataset을 처리하는 코드\n",
    "\"\"\"\n",
    "import re\n",
    "\n",
    "def extract_quoted_string(text):\n",
    "    pattern = r\"'([^']*)'\"  # 작은따옴표 사이의 문자열을 찾는 패턴\n",
    "    matches = re.findall(pattern, text)\n",
    "    if len(matches) == 0 :\n",
    "        return \"제목없음\"\n",
    "    else :\n",
    "        return matches[0]\n",
    "\n",
    "\n",
    "for idx, df in enumerate(df_list) : \n",
    "    temp_df = df.copy()\n",
    "    for tidx, noisy_text in tqdm(enumerate(df['text'])) :\n",
    "        prompt = f\"\"\"당신은 전문적인 한국어 텍스트 정제 AI입니다. 다음은 노이즈가 포함된 한국어 뉴스 기사의 제목입니다. 이 제목에서 노이즈를 제거하고 원래의 자연스러운 뉴스 제목으로 복원해주세요.\n",
    "\n",
    "        노이즈가 포함된 제목: '{noisy_text}'\n",
    "\n",
    "        복원 시 다음 지침을 따라주세요:\n",
    "        1. 무작위로 삽입된 영문자와 숫자를 제거하세요.\n",
    "        2. 특수문자를 적절히 처리하세요.\n",
    "        3. 줄임말이나 약어는 가능한 원래 형태로 복원하세요.\n",
    "        4. 문맥을 고려하여 누락된 단어나 조사를 추가하세요.\n",
    "        5. 제목의 전체적인 의미를 유지하면서 자연스러운 한국어 문장으로 만드세요.\n",
    "\n",
    "        복원된 제목:\"\"\"\n",
    "\n",
    "        inputs = tokenizer(prompt, return_tensors=\"pt\").to(model.device)\n",
    "\n",
    "        with torch.no_grad():\n",
    "            outputs = model.generate(\n",
    "                **inputs,\n",
    "                max_new_tokens=50,\n",
    "                num_return_sequences=1,\n",
    "                temperature=0.7,\n",
    "                top_p=0.95,\n",
    "                do_sample=True\n",
    "            )\n",
    "\n",
    "        generated_text = tokenizer.decode(outputs[0], skip_special_tokens=True)\n",
    "        cleaned_text = extract_quoted_string(generated_text.split(\"복원된 제목:\")[-1].strip())\n",
    "        temp_df.loc[tidx, 'text'] = cleaned_text\n",
    "        print(\"origin : \", noisy_text)\n",
    "        print(\"cleaned : \", cleaned_text)\n",
    "\n",
    "    temp_df.to_csv(f'./data/cleaning_step1/c1_label_{idx}.csv', index=False)"
   ]
  },
  {
   "cell_type": "code",
   "execution_count": null,
   "metadata": {},
   "outputs": [],
   "source": []
  }
 ],
 "metadata": {
  "kernelspec": {
   "display_name": "base",
   "language": "python",
   "name": "python3"
  },
  "language_info": {
   "codemirror_mode": {
    "name": "ipython",
    "version": 3
   },
   "file_extension": ".py",
   "mimetype": "text/x-python",
   "name": "python",
   "nbconvert_exporter": "python",
   "pygments_lexer": "ipython3",
   "version": "3.10.13"
  }
 },
 "nbformat": 4,
 "nbformat_minor": 2
}
